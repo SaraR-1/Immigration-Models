{
 "cells": [
  {
   "cell_type": "code",
   "execution_count": 1,
   "metadata": {},
   "outputs": [],
   "source": [
    "import pandas as pd\n",
    "import numpy as np\n",
    "import string"
   ]
  },
  {
   "cell_type": "code",
   "execution_count": 2,
   "metadata": {
    "scrolled": true
   },
   "outputs": [],
   "source": [
    "resident_foreigners_norm = pd.read_table(\"/home/sara/Documents/Immigration/Shared_statistics/Data_final/resident_foreigners_norm.csv\")\n",
    "provinces = sorted(list(set(resident_foreigners_norm[\"Province\"])))\n",
    "regions = sorted(list(set(pd.read_table(\"/home/sara/Documents/Immigration/Shared_statistics/Data_final/regioni.csv\")[\"Regione\"])))\n",
    "zones = sorted(list(set(pd.read_table(\"/home/sara/Documents/Immigration/Shared_statistics/Data_final/territori.csv\")[\"Zona\"])))\n",
    "years = sorted(list(set(resident_foreigners_norm[\"Year\"])))\n",
    "\n",
    "basic_info = pd.read_table(\"/home/sara/Documents/Immigration/Data_not_git/Prov_info/prov_cap_info.csv\", header=None, names = [\"Province\", \"Region Code\", \"Population\", \"Area\", \"Density\", \"Num Municipalities\"])"
   ]
  },
  {
   "cell_type": "code",
   "execution_count": 3,
   "metadata": {},
   "outputs": [
    {
     "data": {
      "text/html": [
       "<div>\n",
       "<style>\n",
       "    .dataframe thead tr:only-child th {\n",
       "        text-align: right;\n",
       "    }\n",
       "\n",
       "    .dataframe thead th {\n",
       "        text-align: left;\n",
       "    }\n",
       "\n",
       "    .dataframe tbody tr th {\n",
       "        vertical-align: top;\n",
       "    }\n",
       "</style>\n",
       "<table border=\"1\" class=\"dataframe\">\n",
       "  <thead>\n",
       "    <tr style=\"text-align: right;\">\n",
       "      <th></th>\n",
       "      <th>Province</th>\n",
       "      <th>Region Code</th>\n",
       "      <th>Population</th>\n",
       "      <th>Area</th>\n",
       "      <th>Density</th>\n",
       "      <th>Num Municipalities</th>\n",
       "    </tr>\n",
       "  </thead>\n",
       "  <tbody>\n",
       "    <tr>\n",
       "      <th>0</th>\n",
       "      <td>agrigento</td>\n",
       "      <td>sic</td>\n",
       "      <td>442.049</td>\n",
       "      <td>3.052,59</td>\n",
       "      <td>145.0</td>\n",
       "      <td>43</td>\n",
       "    </tr>\n",
       "    <tr>\n",
       "      <th>1</th>\n",
       "      <td>alessandria</td>\n",
       "      <td>pie</td>\n",
       "      <td>426.658</td>\n",
       "      <td>3.558,83</td>\n",
       "      <td>120.0</td>\n",
       "      <td>188</td>\n",
       "    </tr>\n",
       "    <tr>\n",
       "      <th>2</th>\n",
       "      <td>ancona</td>\n",
       "      <td>mar</td>\n",
       "      <td>474.124</td>\n",
       "      <td>1.963,22</td>\n",
       "      <td>242.0</td>\n",
       "      <td>47</td>\n",
       "    </tr>\n",
       "    <tr>\n",
       "      <th>3</th>\n",
       "      <td>aosta</td>\n",
       "      <td>vda</td>\n",
       "      <td>126.883</td>\n",
       "      <td>3.260,90</td>\n",
       "      <td>39.0</td>\n",
       "      <td>74</td>\n",
       "    </tr>\n",
       "    <tr>\n",
       "      <th>4</th>\n",
       "      <td>arezzo</td>\n",
       "      <td>tos</td>\n",
       "      <td>344.374</td>\n",
       "      <td>3.233,08</td>\n",
       "      <td>107.0</td>\n",
       "      <td>36</td>\n",
       "    </tr>\n",
       "  </tbody>\n",
       "</table>\n",
       "</div>"
      ],
      "text/plain": [
       "      Province Region Code Population      Area  Density  Num Municipalities\n",
       "0    agrigento         sic    442.049  3.052,59    145.0                  43\n",
       "1  alessandria         pie    426.658  3.558,83    120.0                 188\n",
       "2       ancona         mar    474.124  1.963,22    242.0                  47\n",
       "3        aosta         vda    126.883  3.260,90     39.0                  74\n",
       "4       arezzo         tos    344.374  3.233,08    107.0                  36"
      ]
     },
     "execution_count": 3,
     "metadata": {},
     "output_type": "execute_result"
    }
   ],
   "source": [
    "basic_info.head()"
   ]
  },
  {
   "cell_type": "code",
   "execution_count": 4,
   "metadata": {},
   "outputs": [],
   "source": [
    "def replace_in_list(list_, olds_, news_):\n",
    "    for old_, new_ in zip(olds_, news_):\n",
    "        list_[list_.index(old_)] = new_\n",
    "    return(list_)"
   ]
  },
  {
   "cell_type": "code",
   "execution_count": 5,
   "metadata": {},
   "outputs": [],
   "source": [
    "basic_info[\"Region Code\"] = [i.upper() for i in basic_info[\"Region Code\"]]"
   ]
  },
  {
   "cell_type": "code",
   "execution_count": 6,
   "metadata": {},
   "outputs": [],
   "source": [
    "basic_info[\"Province\"] = [i.title() for i in basic_info[\"Province\"]]\n",
    "basic_info[\"Province\"] = basic_info[\"Province\"].replace([\"Aosta\", \"Bolzano\", \"Monza E Della Brianza\", \"Pesaro E Urbino\", \"Reggio Calabria\", \"Reggio Emilia\", \"Roma Capitale\"], [\"Valle d'Aosta / Vallée d'Aoste\", \"Bolzano / Bozen\", \"Monza e della Brianza\", \"Pesaro e Urbino\", \"Reggio di Calabria\", \"Reggio nell'Emilia\", \"Roma\"])"
   ]
  },
  {
   "cell_type": "code",
   "execution_count": 7,
   "metadata": {},
   "outputs": [],
   "source": [
    "def add_row(df, rows):\n",
    "    ind = range(len(df), len(df)+len(rows))\n",
    "    for row, i in zip(rows, ind):\n",
    "        df.loc[i] = row\n",
    "    return(df)"
   ]
  },
  {
   "cell_type": "code",
   "execution_count": 8,
   "metadata": {},
   "outputs": [],
   "source": [
    "# Add manually (from Wikipedia the missing information)\n",
    "basic_info = add_row(basic_info, [[\"Medio Campidano\", \"SAR\", \"99.422\", \"1.157,34\", 65.52, 28], \n",
    "                                  [\"Carbonia-Iglesia\", \"SAR\", \"127.133\", \"1.499,71\", 84.77, 23], \n",
    "                                  [\"Olbia-Tempio\", \"SAR\", \"160.368\", \"3.406,18\", 48.08, 26], \n",
    "                                  [\"Oristano\", \"SAR\", \"159.474\", \"2.990,45\", 53.33, 87]])"
   ]
  },
  {
   "cell_type": "code",
   "execution_count": 9,
   "metadata": {},
   "outputs": [],
   "source": [
    "basic_info = basic_info.sort_values([\"Province\"])\n",
    "\n",
    "basic_info = basic_info[basic_info[\"Province\"] != \"Sud Sardegna\"]\n",
    "\n",
    "basic_info.index = list(range(len(basic_info)))"
   ]
  },
  {
   "cell_type": "code",
   "execution_count": 10,
   "metadata": {},
   "outputs": [],
   "source": [
    "a = basic_info[\"Area\"][0]\n",
    "basic_info[\"Area\"] = [float(i.replace(\".\", \"\").replace(\",\", \".\")) for i in basic_info[\"Area\"]]\n",
    "basic_info[\"Population\"] = [float(i.replace(\".\", \"\").replace(\",\", \".\")) for i in basic_info[\"Population\"]]"
   ]
  },
  {
   "cell_type": "code",
   "execution_count": 11,
   "metadata": {},
   "outputs": [
    {
     "data": {
      "text/html": [
       "<div>\n",
       "<style>\n",
       "    .dataframe thead tr:only-child th {\n",
       "        text-align: right;\n",
       "    }\n",
       "\n",
       "    .dataframe thead th {\n",
       "        text-align: left;\n",
       "    }\n",
       "\n",
       "    .dataframe tbody tr th {\n",
       "        vertical-align: top;\n",
       "    }\n",
       "</style>\n",
       "<table border=\"1\" class=\"dataframe\">\n",
       "  <thead>\n",
       "    <tr style=\"text-align: right;\">\n",
       "      <th></th>\n",
       "      <th>Province</th>\n",
       "      <th>Region Code</th>\n",
       "      <th>Population</th>\n",
       "      <th>Area</th>\n",
       "      <th>Density</th>\n",
       "      <th>Num Municipalities</th>\n",
       "    </tr>\n",
       "  </thead>\n",
       "  <tbody>\n",
       "    <tr>\n",
       "      <th>0</th>\n",
       "      <td>Agrigento</td>\n",
       "      <td>SIC</td>\n",
       "      <td>442049.0</td>\n",
       "      <td>3052.59</td>\n",
       "      <td>145.0</td>\n",
       "      <td>43</td>\n",
       "    </tr>\n",
       "    <tr>\n",
       "      <th>1</th>\n",
       "      <td>Alessandria</td>\n",
       "      <td>PIE</td>\n",
       "      <td>426658.0</td>\n",
       "      <td>3558.83</td>\n",
       "      <td>120.0</td>\n",
       "      <td>188</td>\n",
       "    </tr>\n",
       "    <tr>\n",
       "      <th>2</th>\n",
       "      <td>Ancona</td>\n",
       "      <td>MAR</td>\n",
       "      <td>474124.0</td>\n",
       "      <td>1963.22</td>\n",
       "      <td>242.0</td>\n",
       "      <td>47</td>\n",
       "    </tr>\n",
       "    <tr>\n",
       "      <th>3</th>\n",
       "      <td>Arezzo</td>\n",
       "      <td>TOS</td>\n",
       "      <td>344374.0</td>\n",
       "      <td>3233.08</td>\n",
       "      <td>107.0</td>\n",
       "      <td>36</td>\n",
       "    </tr>\n",
       "    <tr>\n",
       "      <th>4</th>\n",
       "      <td>Ascoli Piceno</td>\n",
       "      <td>MAR</td>\n",
       "      <td>209450.0</td>\n",
       "      <td>1228.27</td>\n",
       "      <td>171.0</td>\n",
       "      <td>33</td>\n",
       "    </tr>\n",
       "  </tbody>\n",
       "</table>\n",
       "</div>"
      ],
      "text/plain": [
       "        Province Region Code  Population     Area  Density  Num Municipalities\n",
       "0      Agrigento         SIC    442049.0  3052.59    145.0                  43\n",
       "1    Alessandria         PIE    426658.0  3558.83    120.0                 188\n",
       "2         Ancona         MAR    474124.0  1963.22    242.0                  47\n",
       "3         Arezzo         TOS    344374.0  3233.08    107.0                  36\n",
       "4  Ascoli Piceno         MAR    209450.0  1228.27    171.0                  33"
      ]
     },
     "execution_count": 11,
     "metadata": {},
     "output_type": "execute_result"
    }
   ],
   "source": [
    "basic_info.head()"
   ]
  },
  {
   "cell_type": "code",
   "execution_count": 12,
   "metadata": {},
   "outputs": [],
   "source": [
    "interest_territories = provinces + regions + zones + [\"Italia\"]"
   ]
  },
  {
   "cell_type": "markdown",
   "metadata": {},
   "source": [
    "## Istat Data"
   ]
  },
  {
   "cell_type": "code",
   "execution_count": 13,
   "metadata": {},
   "outputs": [],
   "source": [
    "def drop_useless(data):\n",
    "    for c in data.columns:\n",
    "        if len(list(set(data[c]))) == 1:\n",
    "            print(c, set(data[c]))\n",
    "            del data[c]"
   ]
  },
  {
   "cell_type": "code",
   "execution_count": 14,
   "metadata": {},
   "outputs": [],
   "source": [
    "def divide_table(data, attribute):\n",
    "    res = [x for _, x in data.groupby(data[attribute])]\n",
    "    for r in res:\n",
    "        del r[attribute]\n",
    "    return res"
   ]
  },
  {
   "cell_type": "code",
   "execution_count": 15,
   "metadata": {},
   "outputs": [],
   "source": [
    "def filtering(data, attribute, list_values):\n",
    "    return data[data[attribute].isin(list_values)]"
   ]
  },
  {
   "cell_type": "code",
   "execution_count": 16,
   "metadata": {},
   "outputs": [],
   "source": [
    "def pivot(data, attibute, value):\n",
    "    idx = data.columns[(data.columns != attibute) & (data.columns != value)]\n",
    "    return pd.pivot_table(data, columns=attibute, values = value, index = list(idx)) "
   ]
  },
  {
   "cell_type": "code",
   "execution_count": 17,
   "metadata": {},
   "outputs": [],
   "source": [
    "def re_ordering_df(data):\n",
    "    return data.reindex_axis(sorted(data.columns), axis=1)"
   ]
  },
  {
   "cell_type": "code",
   "execution_count": 18,
   "metadata": {},
   "outputs": [],
   "source": [
    "# del a column if more than 1/3 of its values are missing\n",
    "def del_missing(data):\n",
    "    threshold = 1/3*len(data)\n",
    "    for c in data.columns:\n",
    "        if data[c].isnull().sum() >= threshold:\n",
    "            print(c)\n",
    "            del data[c]"
   ]
  },
  {
   "cell_type": "markdown",
   "metadata": {},
   "source": [
    "### Aspect of daily life - social activities"
   ]
  },
  {
   "cell_type": "code",
   "execution_count": 19,
   "metadata": {},
   "outputs": [],
   "source": [
    "social_act = pd.read_table(\"/home/sara/Documents/Immigration/Data_not_git/Prov_info/Aspects of daily life/DCCV_AVQ_PERSONE_Data_433028ae-6be5-4ff0-8727-911694df70d2.csv\", sep = \"\\t\")"
   ]
  },
  {
   "cell_type": "code",
   "execution_count": 20,
   "metadata": {},
   "outputs": [
    {
     "name": "stdout",
     "output_type": "stream",
     "text": [
      "Classe di età {'14 anni e più'}\n",
      "Condizione e posizione nella professione {'totale'}\n",
      "Sesso {'totale'}\n",
      "Titolo di studio {'totale'}\n"
     ]
    }
   ],
   "source": [
    "social_act = re_ordering_df(social_act)\n",
    "drop_useless(social_act)"
   ]
  },
  {
   "cell_type": "code",
   "execution_count": 21,
   "metadata": {},
   "outputs": [],
   "source": [
    "social_act = filtering(social_act, \"Territorio\", interest_territories)\n",
    "social_act = filtering(social_act, \"Seleziona periodo\", years)"
   ]
  },
  {
   "cell_type": "code",
   "execution_count": 22,
   "metadata": {},
   "outputs": [
    {
     "data": {
      "text/plain": [
       "{'per 100 persone con le stesse caratteristiche', 'valori in migliaia'}"
      ]
     },
     "execution_count": 22,
     "metadata": {},
     "output_type": "execute_result"
    }
   ],
   "source": [
    "set(social_act[\"Misura\"])"
   ]
  },
  {
   "cell_type": "code",
   "execution_count": 23,
   "metadata": {},
   "outputs": [],
   "source": [
    "social_act_same_char, social_act_thousand = divide_table(social_act, \"Misura\")\n",
    "\n",
    "social_act_same_char = pivot(social_act_same_char, \"Tipo dato\", \"0  Flags\")\n",
    "social_act_thousand = pivot(social_act_thousand, \"Tipo dato\", \"0  Flags\")"
   ]
  },
  {
   "cell_type": "code",
   "execution_count": 24,
   "metadata": {},
   "outputs": [
    {
     "name": "stdout",
     "output_type": "stream",
     "text": [
      "0 0\n"
     ]
    }
   ],
   "source": [
    "print(social_act_same_char.isnull().sum().sum(), social_act_thousand.isnull().sum().sum())"
   ]
  },
  {
   "cell_type": "markdown",
   "metadata": {},
   "source": [
    "## IMPORTANT! Example to extract data: a.loc[2001].loc[\"Abruzzo\"]"
   ]
  },
  {
   "cell_type": "markdown",
   "metadata": {},
   "source": [
    "### Aspect of daily life - Political Information (freq)"
   ]
  },
  {
   "cell_type": "code",
   "execution_count": 25,
   "metadata": {},
   "outputs": [],
   "source": [
    "political_information = pd.read_table(\"/home/sara/Documents/Immigration/Data_not_git/Prov_info/Aspects of daily life (1)/DCCV_AVQ_PERSONE_Data_e9f78b71-f4aa-4340-828b-9ba102742fab.csv\", sep = \"\\t\")"
   ]
  },
  {
   "cell_type": "code",
   "execution_count": 26,
   "metadata": {
    "scrolled": false
   },
   "outputs": [
    {
     "name": "stdout",
     "output_type": "stream",
     "text": [
      "Sesso {'totale'}\n",
      "Classe di età {'14 anni e più'}\n",
      "Titolo di studio {'totale'}\n",
      "Condizione e posizione nella professione {'totale'}\n"
     ]
    }
   ],
   "source": [
    "social_act = re_ordering_df(political_information)\n",
    "drop_useless(political_information)"
   ]
  },
  {
   "cell_type": "code",
   "execution_count": 27,
   "metadata": {},
   "outputs": [],
   "source": [
    "political_information = filtering(political_information, \"Territorio\", interest_territories)\n",
    "political_information = filtering(political_information, \"Seleziona periodo\", years)"
   ]
  },
  {
   "cell_type": "code",
   "execution_count": 28,
   "metadata": {},
   "outputs": [
    {
     "data": {
      "text/plain": [
       "{'per 100 persone con le stesse caratteristiche', 'valori in migliaia'}"
      ]
     },
     "execution_count": 28,
     "metadata": {},
     "output_type": "execute_result"
    }
   ],
   "source": [
    "set(political_information[\"Misura\"])"
   ]
  },
  {
   "cell_type": "code",
   "execution_count": 29,
   "metadata": {},
   "outputs": [],
   "source": [
    "political_information_same_char, political_information_thousand = divide_table(political_information, \"Misura\")\n",
    "\n",
    "political_information_same_char = pivot(political_information_same_char, \"Tipo dato\", \"0  Flags\")\n",
    "political_information_thousand = pivot(political_information_thousand, \"Tipo dato\", \"0  Flags\")"
   ]
  },
  {
   "cell_type": "code",
   "execution_count": 30,
   "metadata": {},
   "outputs": [
    {
     "name": "stdout",
     "output_type": "stream",
     "text": [
      "0 0\n"
     ]
    }
   ],
   "source": [
    "print(political_information_same_char.isnull().sum().sum(), political_information_thousand.isnull().sum().sum())"
   ]
  },
  {
   "cell_type": "markdown",
   "metadata": {},
   "source": [
    "### Aspect of dayli life - Interpersonal Trust - Trust in general "
   ]
  },
  {
   "cell_type": "code",
   "execution_count": 31,
   "metadata": {},
   "outputs": [],
   "source": [
    "interpersonal_trust = pd.read_table(\"/home/sara/Documents/Immigration/Data_not_git/Prov_info/Aspects of daily life (2)/DCCV_AVQ_PERSONE_Data_c14d372e-5e78-4511-9263-8d823e25a030.csv\", sep = \"\\t\")"
   ]
  },
  {
   "cell_type": "code",
   "execution_count": 32,
   "metadata": {
    "scrolled": true
   },
   "outputs": [
    {
     "name": "stdout",
     "output_type": "stream",
     "text": [
      "Classe di età {'14 anni e più'}\n",
      "Condizione e posizione nella professione {'totale'}\n",
      "Sesso {'totale'}\n",
      "Titolo di studio {'totale'}\n"
     ]
    }
   ],
   "source": [
    "interpersonal_trust = re_ordering_df(interpersonal_trust)\n",
    "drop_useless(interpersonal_trust)"
   ]
  },
  {
   "cell_type": "code",
   "execution_count": 33,
   "metadata": {},
   "outputs": [],
   "source": [
    "interpersonal_trust = filtering(interpersonal_trust, \"Territorio\", interest_territories)\n",
    "interpersonal_trust = filtering(interpersonal_trust, \"Seleziona periodo\", years)"
   ]
  },
  {
   "cell_type": "code",
   "execution_count": 34,
   "metadata": {},
   "outputs": [
    {
     "data": {
      "text/plain": [
       "{'per 100 persone con le stesse caratteristiche', 'valori in migliaia'}"
      ]
     },
     "execution_count": 34,
     "metadata": {},
     "output_type": "execute_result"
    }
   ],
   "source": [
    "set(interpersonal_trust[\"Misura\"])"
   ]
  },
  {
   "cell_type": "code",
   "execution_count": 35,
   "metadata": {},
   "outputs": [],
   "source": [
    "interpersonal_trust_same_char, interpersonal_trust_thousand = divide_table(interpersonal_trust, \"Misura\")\n",
    "\n",
    "interpersonal_trust_same_char = pivot(interpersonal_trust_same_char, \"Tipo dato\", \"0  Flags\")\n",
    "interpersonal_trust_thousand = pivot(interpersonal_trust_thousand, \"Tipo dato\", \"0  Flags\")"
   ]
  },
  {
   "cell_type": "code",
   "execution_count": 36,
   "metadata": {},
   "outputs": [
    {
     "name": "stdout",
     "output_type": "stream",
     "text": [
      "0 0\n"
     ]
    }
   ],
   "source": [
    "print(interpersonal_trust_same_char.isnull().sum().sum(), interpersonal_trust_thousand.isnull().sum().sum())"
   ]
  },
  {
   "cell_type": "markdown",
   "metadata": {},
   "source": [
    "### Consumption Expenditure (ECoicop)"
   ]
  },
  {
   "cell_type": "code",
   "execution_count": 37,
   "metadata": {},
   "outputs": [],
   "source": [
    "consumption_expenditure = pd.read_table(\"/home/sara/Documents/Immigration/Data_not_git/Prov_info/Consumption expenditure/DCCV_SPEMEFAM_Data_a2f1960e-bec3-489b-8648-900273d1fc5f.csv\", sep = \"\\t\")"
   ]
  },
  {
   "cell_type": "code",
   "execution_count": 38,
   "metadata": {},
   "outputs": [
    {
     "name": "stdout",
     "output_type": "stream",
     "text": [
      "Abitudine di spesa {'tutte le voci'}\n",
      "Ampiezza familiare {'totale'}\n",
      "Condizione professionale della persona di riferimento {'tutte le voci'}\n",
      "Gruppo di spesa {'tutte le voci'}\n",
      "Quantili di spesa totale equivalente {'tutte le voci'}\n",
      "Tipo dato {'spesa media mensile familiare (in euro correnti)'}\n",
      "Tipologia familiare {'totale famiglie'}\n",
      "Titolo di studio più elevato conseguito dalla persona di riferimento {'totale'}\n"
     ]
    }
   ],
   "source": [
    "consumption_expenditure = re_ordering_df(consumption_expenditure)\n",
    "drop_useless(consumption_expenditure)"
   ]
  },
  {
   "cell_type": "code",
   "execution_count": 39,
   "metadata": {},
   "outputs": [],
   "source": [
    "consumption_expenditure = filtering(consumption_expenditure, \"Territorio\", interest_territories)\n",
    "consumption_expenditure = filtering(consumption_expenditure, \"Seleziona periodo\", years)"
   ]
  },
  {
   "cell_type": "code",
   "execution_count": 40,
   "metadata": {},
   "outputs": [],
   "source": [
    "consumption_expenditure = pivot(consumption_expenditure, \"Coicop\", \"0  Flags\")"
   ]
  },
  {
   "cell_type": "code",
   "execution_count": 41,
   "metadata": {},
   "outputs": [],
   "source": [
    "del_missing(consumption_expenditure)"
   ]
  },
  {
   "cell_type": "markdown",
   "metadata": {},
   "source": [
    "### Fertility Indicators"
   ]
  },
  {
   "cell_type": "code",
   "execution_count": 42,
   "metadata": {},
   "outputs": [],
   "source": [
    "fertility_rate = pd.read_table(\"/home/sara/Documents/Immigration/Data_not_git/Prov_info/Fertility  indicators/DCIS_FECONDITA1_Data_a2326888-5b5c-4549-b696-d187b4055c39.csv\", sep = \"\\t\")"
   ]
  },
  {
   "cell_type": "code",
   "execution_count": 43,
   "metadata": {},
   "outputs": [
    {
     "name": "stdout",
     "output_type": "stream",
     "text": [
      "Cittadinanza {'totale'}\n",
      "Età della madre {'totale'}\n"
     ]
    }
   ],
   "source": [
    "fertility_rate = re_ordering_df(fertility_rate)\n",
    "drop_useless(fertility_rate)"
   ]
  },
  {
   "cell_type": "code",
   "execution_count": 44,
   "metadata": {},
   "outputs": [],
   "source": [
    "fertility_rate = filtering(fertility_rate, \"Territorio\", interest_territories)\n",
    "fertility_rate = filtering(fertility_rate, \"Seleziona periodo\", years)\n",
    "#fertility_rate = filtering(fertility_rate, \"Tipo dato\", [\"tasso di fecondità totale\"])\n",
    "#del fertility_rate[\"Tipo dato\"]"
   ]
  },
  {
   "cell_type": "code",
   "execution_count": 45,
   "metadata": {},
   "outputs": [],
   "source": [
    "fertility_rate = pivot(fertility_rate, \"Tipo dato\", \"0  Flags\")"
   ]
  },
  {
   "cell_type": "code",
   "execution_count": 46,
   "metadata": {},
   "outputs": [],
   "source": [
    "del_missing(fertility_rate)"
   ]
  },
  {
   "cell_type": "markdown",
   "metadata": {},
   "source": [
    "### Net Income - Homogeneity of regional income"
   ]
  },
  {
   "cell_type": "code",
   "execution_count": 47,
   "metadata": {},
   "outputs": [],
   "source": [
    "homogeneity_net_income = pd.read_table(\"/home/sara/Documents/Immigration/Data_not_git/Prov_info/Homogeneity of regional income/DCCV_GINIREDD_Data_f031238d-d03b-414a-ad9d-5ea35513cb24.csv\", sep = \"\\t\")"
   ]
  },
  {
   "cell_type": "code",
   "execution_count": 48,
   "metadata": {},
   "outputs": [
    {
     "name": "stdout",
     "output_type": "stream",
     "text": [
      "Misura {'indice di gini'}\n",
      "Tipo dato {'omogeneità nella distribuzione del reddito netto familiare'}\n"
     ]
    }
   ],
   "source": [
    "homogeneity_net_income = re_ordering_df(homogeneity_net_income)\n",
    "drop_useless(homogeneity_net_income)"
   ]
  },
  {
   "cell_type": "code",
   "execution_count": 49,
   "metadata": {},
   "outputs": [],
   "source": [
    "homogeneity_net_income = filtering(homogeneity_net_income, \"Territorio\", interest_territories)\n",
    "homogeneity_net_income = filtering(homogeneity_net_income, \"Seleziona periodo\", years)"
   ]
  },
  {
   "cell_type": "code",
   "execution_count": 50,
   "metadata": {
    "scrolled": true
   },
   "outputs": [],
   "source": [
    "homogeneity_net_income = pivot(homogeneity_net_income, \"Presenza affitti imputati\", \"0  Flags\")"
   ]
  },
  {
   "cell_type": "code",
   "execution_count": 51,
   "metadata": {},
   "outputs": [],
   "source": [
    "del_missing(homogeneity_net_income)"
   ]
  },
  {
   "cell_type": "markdown",
   "metadata": {},
   "source": [
    "### Housing costs"
   ]
  },
  {
   "cell_type": "code",
   "execution_count": 52,
   "metadata": {},
   "outputs": [],
   "source": [
    "housing_costs = pd.read_table(\"/home/sara/Documents/Immigration/Data_not_git/Prov_info/Housing costs/DCCV_ABITSPESA_Data_86e7f7b3-4f27-4d2a-bcda-94af693e24af.csv\", sep = \"\\t\")"
   ]
  },
  {
   "cell_type": "code",
   "execution_count": 53,
   "metadata": {},
   "outputs": [
    {
     "name": "stdout",
     "output_type": "stream",
     "text": [
      "Classe di età del principale percettore {'totale'}\n",
      "Condizione professionale prevalente nell anno del principale percettore {'totale'}\n",
      "Numero di anziani in famiglia {'totale'}\n",
      "Numero di componenti {'totale'}\n",
      "Numero di minori in famiglia {'totale'}\n",
      "Sesso del principale percettore {'totale'}\n",
      "Tipologia familiare {'totale'}\n",
      "Titolo di godimento dell abitazione {'totale'}\n",
      "Titolo di studio del principale percettore {'totale'}\n"
     ]
    }
   ],
   "source": [
    "housing_costs = re_ordering_df(housing_costs)\n",
    "drop_useless(housing_costs)"
   ]
  },
  {
   "cell_type": "code",
   "execution_count": 54,
   "metadata": {},
   "outputs": [],
   "source": [
    "housing_costs = filtering(housing_costs, \"Territorio\", interest_territories)\n",
    "housing_costs = filtering(housing_costs, \"Seleziona periodo\", years)"
   ]
  },
  {
   "cell_type": "code",
   "execution_count": 55,
   "metadata": {},
   "outputs": [],
   "source": [
    "housing_costs = pivot(housing_costs, \"Indicatore di spesa\", \"0  Flags\")"
   ]
  },
  {
   "cell_type": "code",
   "execution_count": 56,
   "metadata": {},
   "outputs": [],
   "source": [
    "del_missing(housing_costs)"
   ]
  },
  {
   "cell_type": "markdown",
   "metadata": {},
   "source": [
    "### Live Births"
   ]
  },
  {
   "cell_type": "code",
   "execution_count": 57,
   "metadata": {},
   "outputs": [],
   "source": [
    "live_births = pd.read_table(\"/home/sara/Documents/Immigration/Data_not_git/Prov_info/Live births/DCIS_NATI1_Data_fc109807-f48b-4e01-b9e7-81fddf031fbb.csv\", sep = \"\\t\")"
   ]
  },
  {
   "cell_type": "code",
   "execution_count": 58,
   "metadata": {
    "scrolled": true
   },
   "outputs": [
    {
     "name": "stdout",
     "output_type": "stream",
     "text": [
      "Anno di nascita della madre {'tutte le voci'}\n",
      "Area geografica di nascita {'tutte le voci'}\n",
      "Cittadinanza della madre {'totale'}\n",
      "Cittadinanza estera del nato {'Mondo'}\n",
      "Età del padre {'totale'}\n",
      "Età della madre {'totale'}\n",
      "Nati vivi all'interno del matrimonio {'totale'}\n",
      "Stato civile del padre {'totale'}\n",
      "Stato civile della madre {'totale'}\n",
      "Tipologia di coppia dei genitori {'tutte le voci'}\n"
     ]
    }
   ],
   "source": [
    "live_births = re_ordering_df(live_births)\n",
    "drop_useless(live_births)"
   ]
  },
  {
   "cell_type": "code",
   "execution_count": 59,
   "metadata": {
    "scrolled": true
   },
   "outputs": [],
   "source": [
    "live_births = filtering(live_births, \"Territorio di residenza\", interest_territories)\n",
    "live_births = filtering(live_births, \"Seleziona periodo\", years)"
   ]
  },
  {
   "cell_type": "code",
   "execution_count": 60,
   "metadata": {},
   "outputs": [],
   "source": [
    "live_births = pivot(live_births, \"Tipo dato\", \"0  Flags\")"
   ]
  },
  {
   "cell_type": "code",
   "execution_count": 61,
   "metadata": {},
   "outputs": [],
   "source": [
    "del_missing(live_births)"
   ]
  },
  {
   "cell_type": "markdown",
   "metadata": {},
   "source": [
    "### Unemployment"
   ]
  },
  {
   "cell_type": "code",
   "execution_count": 62,
   "metadata": {},
   "outputs": [],
   "source": [
    "unemployment = pd.read_table(\"/home/sara/Documents/Immigration/Data_not_git/Prov_info/Unemployment/unemployment.csv\", sep = \"\\t\")"
   ]
  },
  {
   "cell_type": "code",
   "execution_count": 63,
   "metadata": {},
   "outputs": [
    {
     "name": "stdout",
     "output_type": "stream",
     "text": [
      "Cittadinanza {'totale'}\n",
      "Classe di età {'15 anni e più'}\n",
      "Condizione professionale {'totale'}\n",
      "Durata della disoccupazione {'totale'}\n",
      "Tipo dato {'numero di persone in cerca di occupazione 15 anni e oltre (in migliaia)'}\n",
      "Titolo di studio {'totale'}\n"
     ]
    }
   ],
   "source": [
    "unemployment = re_ordering_df(unemployment)\n",
    "drop_useless(unemployment)"
   ]
  },
  {
   "cell_type": "code",
   "execution_count": 64,
   "metadata": {},
   "outputs": [],
   "source": [
    "unemployment = filtering(unemployment, \"Territorio\", interest_territories)\n",
    "unemployment = filtering(unemployment, \"Seleziona periodo\", years)"
   ]
  },
  {
   "cell_type": "code",
   "execution_count": 65,
   "metadata": {
    "scrolled": true
   },
   "outputs": [],
   "source": [
    "unemployment = pivot(unemployment, \"Sesso\", \"0  Flags\")"
   ]
  },
  {
   "cell_type": "code",
   "execution_count": 66,
   "metadata": {},
   "outputs": [],
   "source": [
    "del_missing(unemployment)"
   ]
  },
  {
   "cell_type": "markdown",
   "metadata": {},
   "source": [
    "### Hospitalizations"
   ]
  },
  {
   "cell_type": "code",
   "execution_count": 75,
   "metadata": {},
   "outputs": [],
   "source": [
    "hospitalizations = pd.read_table(\"/home/sara/Documents/Immigration/Data_not_git/Prov_info/Hospitalizations for acute care by nationality with reference to the place of hospitalization/DCIS_OSPSTRA_Data_ea761678-949b-4c00-bfdb-f5d764a92ca8.csv\", sep = \"\\t\")"
   ]
  },
  {
   "cell_type": "code",
   "execution_count": 76,
   "metadata": {},
   "outputs": [
    {
     "name": "stdout",
     "output_type": "stream",
     "text": [
      "Diagnosi principale {'tutte le voci'}\n",
      "Tipo dato {'dimissioni'}\n"
     ]
    }
   ],
   "source": [
    "hospitalizations = re_ordering_df(hospitalizations)\n",
    "drop_useless(hospitalizations)\n",
    "del hospitalizations[\"Classe di età\"]\n",
    "del hospitalizations[\"Sesso\"]\n",
    "del hospitalizations[\"Regime di ricovero\"]"
   ]
  },
  {
   "cell_type": "code",
   "execution_count": 77,
   "metadata": {},
   "outputs": [],
   "source": [
    "hospitalizations = filtering(hospitalizations, \"Territorio\", interest_territories)\n",
    "hospitalizations = filtering(hospitalizations, \"Seleziona periodo\", years)"
   ]
  },
  {
   "cell_type": "code",
   "execution_count": 78,
   "metadata": {},
   "outputs": [],
   "source": [
    "hospitalizations = pivot(hospitalizations, \"Aree di cittadinanza e principali paesi\", \"0  Flags\")"
   ]
  },
  {
   "cell_type": "code",
   "execution_count": 79,
   "metadata": {},
   "outputs": [
    {
     "name": "stdout",
     "output_type": "stream",
     "text": [
      "Africa\n",
      "America\n",
      "Asia\n",
      "Oceania\n"
     ]
    }
   ],
   "source": [
    "del_missing(hospitalizations)"
   ]
  },
  {
   "cell_type": "markdown",
   "metadata": {},
   "source": [
    "### Aspects of daily life - work degree of satisfaction"
   ]
  },
  {
   "cell_type": "code",
   "execution_count": 94,
   "metadata": {},
   "outputs": [],
   "source": [
    "work_satisfaction = pd.read_table(\"/home/sara/Documents/Immigration/Data_not_git/Prov_info/Aspects of daily life (3)/DCCV_AVQ_PERSONE_Data_4955ab2a-d94b-4381-ba06-12822e7e57e9.csv\", sep = \"\\t\")"
   ]
  },
  {
   "cell_type": "code",
   "execution_count": 95,
   "metadata": {},
   "outputs": [
    {
     "name": "stdout",
     "output_type": "stream",
     "text": [
      "Classe di età {'15 anni e più'}\n",
      "Condizione e posizione nella professione {'totale'}\n",
      "Sesso {'totale'}\n",
      "Titolo di studio {'totale'}\n"
     ]
    }
   ],
   "source": [
    "work_satisfaction = re_ordering_df(work_satisfaction)\n",
    "drop_useless(work_satisfaction)\n",
    "\n",
    "work_satisfaction = filtering(work_satisfaction, \"Territorio\", interest_territories)\n",
    "work_satisfaction = filtering(work_satisfaction, \"Seleziona periodo\", years)"
   ]
  },
  {
   "cell_type": "code",
   "execution_count": 96,
   "metadata": {},
   "outputs": [],
   "source": [
    "work_satisfaction_char, work_satisfaction_thousand = divide_table(work_satisfaction, \"Misura\")\n",
    "\n",
    "work_satisfaction_char = pivot(work_satisfaction_char, \"Tipo dato\", \"0  Flags\")\n",
    "work_satisfaction_thousand = pivot(work_satisfaction_thousand, \"Tipo dato\", \"0  Flags\")"
   ]
  },
  {
   "cell_type": "code",
   "execution_count": 97,
   "metadata": {},
   "outputs": [],
   "source": [
    "del_missing(work_satisfaction_char)"
   ]
  },
  {
   "cell_type": "code",
   "execution_count": 98,
   "metadata": {},
   "outputs": [],
   "source": [
    "del_missing(work_satisfaction_thousand)"
   ]
  },
  {
   "cell_type": "markdown",
   "metadata": {},
   "source": [
    "### Aspects of daily life - general life degree of satisfaction"
   ]
  },
  {
   "cell_type": "code",
   "execution_count": 110,
   "metadata": {},
   "outputs": [],
   "source": [
    "life_satisfaction = pd.read_table(\"/home/sara/Documents/Immigration/Data_not_git/Prov_info/Aspects of daily life (4)/DCCV_AVQ_PERSONE_Data_c0f12c95-e56b-4f32-97d9-a30593e8d905.csv\", sep=\"\\t\")"
   ]
  },
  {
   "cell_type": "code",
   "execution_count": 111,
   "metadata": {},
   "outputs": [
    {
     "name": "stdout",
     "output_type": "stream",
     "text": [
      "Classe di età {'14 anni e più'}\n",
      "Condizione e posizione nella professione {'totale'}\n",
      "Sesso {'totale'}\n",
      "Titolo di studio {'totale'}\n"
     ]
    }
   ],
   "source": [
    "life_satisfaction = re_ordering_df(life_satisfaction)\n",
    "drop_useless(life_satisfaction)\n",
    "del life_satisfaction[\"Misura\"]\n",
    "\n",
    "life_satisfaction = filtering(life_satisfaction, \"Territorio\", interest_territories)\n",
    "life_satisfaction = filtering(life_satisfaction, \"Seleziona periodo\", years)"
   ]
  },
  {
   "cell_type": "code",
   "execution_count": 112,
   "metadata": {},
   "outputs": [],
   "source": [
    "life_satisfaction = pivot(life_satisfaction, \"Tipo dato\", \"0  Flags\")"
   ]
  },
  {
   "cell_type": "code",
   "execution_count": 113,
   "metadata": {},
   "outputs": [],
   "source": [
    "del_missing(life_satisfaction)"
   ]
  },
  {
   "cell_type": "markdown",
   "metadata": {},
   "source": [
    "### Difficulty to reach certain services"
   ]
  },
  {
   "cell_type": "code",
   "execution_count": 117,
   "metadata": {},
   "outputs": [],
   "source": [
    "reach_services_difficulty = pd.read_table(\"/home/sara/Documents/Immigration/Data_not_git/Prov_info/Aspects of daily life - Household/DCCV_AVQ_FAMIGLIE_Data_54bd8c6f-de5a-45e8-bb89-e985841c85ac.csv\", sep = \"\\t\")"
   ]
  },
  {
   "cell_type": "code",
   "execution_count": 118,
   "metadata": {},
   "outputs": [
    {
     "name": "stdout",
     "output_type": "stream",
     "text": [
      "Numero di componenti della famiglia {'totale'}\n"
     ]
    }
   ],
   "source": [
    "reach_services_difficulty = re_ordering_df(reach_services_difficulty)\n",
    "drop_useless(reach_services_difficulty)\n",
    "\n",
    "reach_services_difficulty = filtering(reach_services_difficulty, \"Territorio\", interest_territories)\n",
    "reach_services_difficulty = filtering(reach_services_difficulty, \"Seleziona periodo\", years)"
   ]
  },
  {
   "cell_type": "code",
   "execution_count": 120,
   "metadata": {},
   "outputs": [],
   "source": [
    "reach_services_difficulty_char, reach_services_difficulty_thousand = divide_table(reach_services_difficulty, \"Misura\")\n",
    "\n",
    "reach_services_difficulty_char = pivot(reach_services_difficulty_char, \"Tipo dato\", \"0  Flags\")\n",
    "reach_services_difficulty_thousand = pivot(reach_services_difficulty_thousand, \"Tipo dato\", \"0  Flags\")"
   ]
  },
  {
   "cell_type": "code",
   "execution_count": 125,
   "metadata": {},
   "outputs": [],
   "source": [
    "del_missing(reach_services_difficulty_char)\n",
    "del_missing(reach_services_difficulty_thousand)"
   ]
  },
  {
   "cell_type": "markdown",
   "metadata": {},
   "source": [
    "Some data are not included due to the availability of data:\n",
    "- **Basic health care** only 2004-2013\n",
    "- **Expenditure for intervections and social services** only 2013-2014\n",
    "- **Expenditure for the house of families with foreign components** only at zones level in 2009"
   ]
  },
  {
   "cell_type": "markdown",
   "metadata": {},
   "source": [
    "Some data are not included due to statistical problems:\n",
    "- **Economic situation opinions (Famigie per capacità di arrivare a fine mese)**: around 10.4% of data are not statistically significant and 4.6% do not reach the half of the minimun (ISTAT definition: Il dato si definisce poco significativo nel caso in cui corrisponda ad una numerosità campionaria compresa tra 20 e 49 unità.)"
   ]
  },
  {
   "cell_type": "code",
   "execution_count": null,
   "metadata": {},
   "outputs": [],
   "source": []
  },
  {
   "cell_type": "code",
   "execution_count": null,
   "metadata": {},
   "outputs": [],
   "source": []
  },
  {
   "cell_type": "code",
   "execution_count": null,
   "metadata": {},
   "outputs": [],
   "source": []
  },
  {
   "cell_type": "markdown",
   "metadata": {},
   "source": [
    "### Internal Migration - Transfer of Residence"
   ]
  },
  {
   "cell_type": "code",
   "execution_count": 238,
   "metadata": {},
   "outputs": [],
   "source": [
    "internal_migration = pd.read_table(\"/home/sara/Documents/Immigration/Data_not_git/Prov_info/Migration (Transfer of residence)/DCIS_MIGRAZIONI_Data_61410102-5b80-4f23-bbaa-58c89c5b5657.csv\")"
   ]
  },
  {
   "cell_type": "code",
   "execution_count": 239,
   "metadata": {},
   "outputs": [
    {
     "name": "stdout",
     "output_type": "stream",
     "text": [
      "Tipo di indicatore demografico {'trasferimenti di residenza'}\n",
      "Sesso {'totale'}\n",
      "Tipo di trasferimento {'tutte le voci'}\n",
      "Età {'totale'}\n",
      "Stato estero di provenienza {'Mondo'}\n",
      "Stato estero di  destinazione {'Mondo'}\n"
     ]
    }
   ],
   "source": [
    "live_births = re_ordering_df(internal_migration)\n",
    "drop_useless(internal_migration)"
   ]
  },
  {
   "cell_type": "code",
   "execution_count": 240,
   "metadata": {},
   "outputs": [],
   "source": [
    "internal_migration = filtering(internal_migration, \"Territorio di origine\", interest_territories)\n",
    "internal_migration = filtering(internal_migration, \"Seleziona periodo\", years)"
   ]
  },
  {
   "cell_type": "code",
   "execution_count": 241,
   "metadata": {},
   "outputs": [
    {
     "data": {
      "text/html": [
       "<div>\n",
       "<style>\n",
       "    .dataframe thead tr:only-child th {\n",
       "        text-align: right;\n",
       "    }\n",
       "\n",
       "    .dataframe thead th {\n",
       "        text-align: left;\n",
       "    }\n",
       "\n",
       "    .dataframe tbody tr th {\n",
       "        vertical-align: top;\n",
       "    }\n",
       "</style>\n",
       "<table border=\"1\" class=\"dataframe\">\n",
       "  <thead>\n",
       "    <tr style=\"text-align: right;\">\n",
       "      <th></th>\n",
       "      <th>Paese di cittadinanza</th>\n",
       "      <th>Territorio di origine</th>\n",
       "      <th>Seleziona periodo</th>\n",
       "      <th>Territorio di di destinazione</th>\n",
       "      <th>0  Flags</th>\n",
       "    </tr>\n",
       "  </thead>\n",
       "  <tbody>\n",
       "    <tr>\n",
       "      <th>1</th>\n",
       "      <td>Foreign country</td>\n",
       "      <td>Italia</td>\n",
       "      <td>2003</td>\n",
       "      <td>Italia</td>\n",
       "      <td>114609</td>\n",
       "    </tr>\n",
       "    <tr>\n",
       "      <th>2</th>\n",
       "      <td>Foreign country</td>\n",
       "      <td>Italia</td>\n",
       "      <td>2004</td>\n",
       "      <td>Italia</td>\n",
       "      <td>161531</td>\n",
       "    </tr>\n",
       "    <tr>\n",
       "      <th>3</th>\n",
       "      <td>Foreign country</td>\n",
       "      <td>Italia</td>\n",
       "      <td>2005</td>\n",
       "      <td>Italia</td>\n",
       "      <td>185268</td>\n",
       "    </tr>\n",
       "    <tr>\n",
       "      <th>4</th>\n",
       "      <td>Foreign country</td>\n",
       "      <td>Italia</td>\n",
       "      <td>2006</td>\n",
       "      <td>Italia</td>\n",
       "      <td>203859</td>\n",
       "    </tr>\n",
       "    <tr>\n",
       "      <th>5</th>\n",
       "      <td>Foreign country</td>\n",
       "      <td>Italia</td>\n",
       "      <td>2007</td>\n",
       "      <td>Italia</td>\n",
       "      <td>203903</td>\n",
       "    </tr>\n",
       "  </tbody>\n",
       "</table>\n",
       "</div>"
      ],
      "text/plain": [
       "  Paese di cittadinanza Territorio di origine  Seleziona periodo  \\\n",
       "1       Foreign country                Italia               2003   \n",
       "2       Foreign country                Italia               2004   \n",
       "3       Foreign country                Italia               2005   \n",
       "4       Foreign country                Italia               2006   \n",
       "5       Foreign country                Italia               2007   \n",
       "\n",
       "  Territorio di di destinazione  0  Flags  \n",
       "1                        Italia    114609  \n",
       "2                        Italia    161531  \n",
       "3                        Italia    185268  \n",
       "4                        Italia    203859  \n",
       "5                        Italia    203903  "
      ]
     },
     "execution_count": 241,
     "metadata": {},
     "output_type": "execute_result"
    }
   ],
   "source": [
    "internal_migration.head()"
   ]
  },
  {
   "cell_type": "code",
   "execution_count": 405,
   "metadata": {},
   "outputs": [
    {
     "data": {
      "text/plain": [
       "{'Foreign country', 'Italia', 'Totale'}"
      ]
     },
     "execution_count": 405,
     "metadata": {},
     "output_type": "execute_result"
    }
   ],
   "source": [
    "set(internal_migration[\"Paese di cittadinanza\"])"
   ]
  },
  {
   "cell_type": "code",
   "execution_count": 242,
   "metadata": {},
   "outputs": [],
   "source": [
    "internal_migration_foreign, internal_migration_it, internal_migration_tot = divide_table(internal_migration, \"Paese di cittadinanza\")"
   ]
  },
  {
   "cell_type": "code",
   "execution_count": 408,
   "metadata": {},
   "outputs": [
    {
     "data": {
      "text/html": [
       "<div>\n",
       "<style>\n",
       "    .dataframe thead tr:only-child th {\n",
       "        text-align: right;\n",
       "    }\n",
       "\n",
       "    .dataframe thead th {\n",
       "        text-align: left;\n",
       "    }\n",
       "\n",
       "    .dataframe tbody tr th {\n",
       "        vertical-align: top;\n",
       "    }\n",
       "</style>\n",
       "<table border=\"1\" class=\"dataframe\">\n",
       "  <thead>\n",
       "    <tr style=\"text-align: right;\">\n",
       "      <th></th>\n",
       "      <th>Territorio di origine</th>\n",
       "      <th>Seleziona periodo</th>\n",
       "      <th>Territorio di di destinazione</th>\n",
       "      <th>0  Flags</th>\n",
       "    </tr>\n",
       "  </thead>\n",
       "  <tbody>\n",
       "    <tr>\n",
       "      <th>1</th>\n",
       "      <td>Italia</td>\n",
       "      <td>2003</td>\n",
       "      <td>Italia</td>\n",
       "      <td>114609</td>\n",
       "    </tr>\n",
       "    <tr>\n",
       "      <th>2</th>\n",
       "      <td>Italia</td>\n",
       "      <td>2004</td>\n",
       "      <td>Italia</td>\n",
       "      <td>161531</td>\n",
       "    </tr>\n",
       "    <tr>\n",
       "      <th>3</th>\n",
       "      <td>Italia</td>\n",
       "      <td>2005</td>\n",
       "      <td>Italia</td>\n",
       "      <td>185268</td>\n",
       "    </tr>\n",
       "    <tr>\n",
       "      <th>4</th>\n",
       "      <td>Italia</td>\n",
       "      <td>2006</td>\n",
       "      <td>Italia</td>\n",
       "      <td>203859</td>\n",
       "    </tr>\n",
       "    <tr>\n",
       "      <th>5</th>\n",
       "      <td>Italia</td>\n",
       "      <td>2007</td>\n",
       "      <td>Italia</td>\n",
       "      <td>203903</td>\n",
       "    </tr>\n",
       "  </tbody>\n",
       "</table>\n",
       "</div>"
      ],
      "text/plain": [
       "  Territorio di origine  Seleziona periodo Territorio di di destinazione  \\\n",
       "1                Italia               2003                        Italia   \n",
       "2                Italia               2004                        Italia   \n",
       "3                Italia               2005                        Italia   \n",
       "4                Italia               2006                        Italia   \n",
       "5                Italia               2007                        Italia   \n",
       "\n",
       "   0  Flags  \n",
       "1    114609  \n",
       "2    161531  \n",
       "3    185268  \n",
       "4    203859  \n",
       "5    203903  "
      ]
     },
     "execution_count": 408,
     "metadata": {},
     "output_type": "execute_result"
    }
   ],
   "source": [
    "internal_migration_foreign.head()"
   ]
  },
  {
   "cell_type": "code",
   "execution_count": 243,
   "metadata": {},
   "outputs": [],
   "source": [
    "internal_migration_foreign = pivot(internal_migration_foreign, \"Territorio di origine\", \"0  Flags\")\n",
    "internal_migration_it = pivot(internal_migration_it, \"Territorio di origine\", \"0  Flags\")\n",
    "internal_migration_tot = pivot(internal_migration_tot, \"Territorio di origine\", \"0  Flags\")"
   ]
  },
  {
   "cell_type": "code",
   "execution_count": 245,
   "metadata": {},
   "outputs": [
    {
     "name": "stdout",
     "output_type": "stream",
     "text": [
      "Asti\n",
      "Belluno\n",
      "Benevento\n",
      "Biella\n",
      "Brindisi\n",
      "Caltanissetta\n",
      "Campobasso\n",
      "Carbonia-Iglesias\n",
      "Crotone\n",
      "Enna\n",
      "Gorizia\n",
      "Imperia\n",
      "Isernia\n",
      "La Spezia\n",
      "Lodi\n",
      "Massa-Carrara\n",
      "Matera\n",
      "Medio Campidano\n",
      "Nuoro\n",
      "Ogliastra\n",
      "Olbia-Tempio\n",
      "Oristano\n",
      "Rieti\n",
      "Sassari\n",
      "Savona\n",
      "Siracusa\n",
      "Sondrio\n",
      "Trapani\n",
      "Trieste\n",
      "Valle d'Aosta / Vallée d'Aoste\n",
      "Verbano-Cusio-Ossola\n",
      "Vercelli\n",
      "Vibo Valentia\n",
      "Medio Campidano\n",
      "Ogliastra\n",
      "Medio Campidano\n",
      "Ogliastra\n"
     ]
    }
   ],
   "source": [
    "del_missing(internal_migration_foreign)\n",
    "del_missing(internal_migration_it)\n",
    "del_missing(internal_migration_tot)"
   ]
  },
  {
   "cell_type": "markdown",
   "metadata": {},
   "source": [
    "### Net Income"
   ]
  },
  {
   "cell_type": "markdown",
   "metadata": {},
   "source": [
    "**Fitti imputati**: Componente figurativa di reddito derivante dalla proprietà della abitazione in cui si vive, il cui valore è stimato dallo stesso proprietario in base al prezzo che, a suo parere, sarebbe necessario pagare per vivere in affitto nella propria abitazione."
   ]
  },
  {
   "cell_type": "code",
   "execution_count": 229,
   "metadata": {},
   "outputs": [],
   "source": [
    "net_income = pd.read_table(\"/home/sara/Documents/Immigration/Data_not_git/Prov_info/Net income/DCCV_REDNETFAMFONTERED_Data_3fba0ebc-d3a1-493c-958a-facf3d07dfd7.csv\", sep = \"\\t\")"
   ]
  },
  {
   "cell_type": "code",
   "execution_count": 230,
   "metadata": {},
   "outputs": [
    {
     "name": "stdout",
     "output_type": "stream",
     "text": [
      "Classe di età del principale percettore {'totale'}\n",
      "Condizione professionale prevalente nell'anno del principale percettore {'totale'}\n",
      "Misura {'valori assoluti'}\n",
      "Numero di anziani in famiglia  {'totale'}\n",
      "Numero di componenti {'totale'}\n",
      "Numero di minori in famiglia {'totale'}\n",
      "Sesso del principale percettore  {'totale'}\n",
      "Tipologia familiare {'totale'}\n",
      "Titolo di studio del principale percettore {'totale'}\n"
     ]
    }
   ],
   "source": [
    "net_income = re_ordering_df(net_income)\n",
    "drop_useless(net_income)"
   ]
  },
  {
   "cell_type": "markdown",
   "metadata": {},
   "source": [
    "As \"Tipo dato\" it is better to keep only the \"median\" because the \"mean\" is too much sensible to the outliers. BUT! Let's keep both in different tables!"
   ]
  },
  {
   "cell_type": "code",
   "execution_count": 231,
   "metadata": {},
   "outputs": [],
   "source": [
    "#net_income = filtering(net_income, \"Tipo dato\", [\"reddito mediano annuale delle famiglie (in euro)\"])\n",
    "#del net_income[\"Tipo dato\"]\n",
    "net_income = filtering(net_income, \"Fonte principale di reddito familiare \", [\"totale\"])\n",
    "del net_income[\"Fonte principale di reddito familiare \"]\n",
    "net_income = filtering(net_income, \"Territorio\", interest_territories)\n",
    "net_income = filtering(net_income, \"Seleziona periodo\", years)\n",
    "\n",
    "net_income[\"0  Flags\"] = [int(i) for i in net_income[\"0  Flags\"]]"
   ]
  },
  {
   "cell_type": "code",
   "execution_count": 232,
   "metadata": {},
   "outputs": [
    {
     "data": {
      "text/html": [
       "<div>\n",
       "<style>\n",
       "    .dataframe thead tr:only-child th {\n",
       "        text-align: right;\n",
       "    }\n",
       "\n",
       "    .dataframe thead th {\n",
       "        text-align: left;\n",
       "    }\n",
       "\n",
       "    .dataframe tbody tr th {\n",
       "        vertical-align: top;\n",
       "    }\n",
       "</style>\n",
       "<table border=\"1\" class=\"dataframe\">\n",
       "  <thead>\n",
       "    <tr style=\"text-align: right;\">\n",
       "      <th></th>\n",
       "      <th>0  Flags</th>\n",
       "      <th>Presenza affitti imputati</th>\n",
       "      <th>Seleziona periodo</th>\n",
       "      <th>Territorio</th>\n",
       "      <th>Tipo dato</th>\n",
       "    </tr>\n",
       "  </thead>\n",
       "  <tbody>\n",
       "    <tr>\n",
       "      <th>0</th>\n",
       "      <td>26716</td>\n",
       "      <td>inclusi fitti imputati</td>\n",
       "      <td>2003</td>\n",
       "      <td>Italia</td>\n",
       "      <td>reddito mediano annuale delle famiglie (in euro)</td>\n",
       "    </tr>\n",
       "    <tr>\n",
       "      <th>1</th>\n",
       "      <td>27676</td>\n",
       "      <td>inclusi fitti imputati</td>\n",
       "      <td>2004</td>\n",
       "      <td>Italia</td>\n",
       "      <td>reddito mediano annuale delle famiglie (in euro)</td>\n",
       "    </tr>\n",
       "    <tr>\n",
       "      <th>2</th>\n",
       "      <td>28167</td>\n",
       "      <td>inclusi fitti imputati</td>\n",
       "      <td>2005</td>\n",
       "      <td>Italia</td>\n",
       "      <td>reddito mediano annuale delle famiglie (in euro)</td>\n",
       "    </tr>\n",
       "    <tr>\n",
       "      <th>3</th>\n",
       "      <td>28248</td>\n",
       "      <td>inclusi fitti imputati</td>\n",
       "      <td>2006</td>\n",
       "      <td>Italia</td>\n",
       "      <td>reddito mediano annuale delle famiglie (in euro)</td>\n",
       "    </tr>\n",
       "    <tr>\n",
       "      <th>4</th>\n",
       "      <td>29388</td>\n",
       "      <td>inclusi fitti imputati</td>\n",
       "      <td>2007</td>\n",
       "      <td>Italia</td>\n",
       "      <td>reddito mediano annuale delle famiglie (in euro)</td>\n",
       "    </tr>\n",
       "  </tbody>\n",
       "</table>\n",
       "</div>"
      ],
      "text/plain": [
       "   0  Flags Presenza affitti imputati  Seleziona periodo Territorio  \\\n",
       "0     26716    inclusi fitti imputati               2003     Italia   \n",
       "1     27676    inclusi fitti imputati               2004     Italia   \n",
       "2     28167    inclusi fitti imputati               2005     Italia   \n",
       "3     28248    inclusi fitti imputati               2006     Italia   \n",
       "4     29388    inclusi fitti imputati               2007     Italia   \n",
       "\n",
       "                                          Tipo dato  \n",
       "0  reddito mediano annuale delle famiglie (in euro)  \n",
       "1  reddito mediano annuale delle famiglie (in euro)  \n",
       "2  reddito mediano annuale delle famiglie (in euro)  \n",
       "3  reddito mediano annuale delle famiglie (in euro)  \n",
       "4  reddito mediano annuale delle famiglie (in euro)  "
      ]
     },
     "execution_count": 232,
     "metadata": {},
     "output_type": "execute_result"
    }
   ],
   "source": [
    "net_income.head()"
   ]
  },
  {
   "cell_type": "code",
   "execution_count": 233,
   "metadata": {},
   "outputs": [
    {
     "data": {
      "text/plain": [
       "{'reddito mediano annuale delle famiglie (in euro)',\n",
       " 'reddito medio annuale delle famiglie (in euro)'}"
      ]
     },
     "execution_count": 233,
     "metadata": {},
     "output_type": "execute_result"
    }
   ],
   "source": [
    "set(net_income[\"Tipo dato\"])"
   ]
  },
  {
   "cell_type": "code",
   "execution_count": 235,
   "metadata": {},
   "outputs": [],
   "source": [
    "net_income_median, net_income_mean = divide_table(net_income, \"Tipo dato\")\n",
    "\n",
    "net_income_median = pivot(net_income_median, \"Presenza affitti imputati\", \"0  Flags\")\n",
    "net_income_mean = pivot(net_income_mean, \"Presenza affitti imputati\", \"0  Flags\")"
   ]
  },
  {
   "cell_type": "code",
   "execution_count": 237,
   "metadata": {},
   "outputs": [],
   "source": [
    "del_missing(net_income_mean)\n",
    "del_missing(net_income_median)"
   ]
  }
 ],
 "metadata": {
  "kernelspec": {
   "display_name": "Python 3",
   "language": "python",
   "name": "python3"
  },
  "language_info": {
   "codemirror_mode": {
    "name": "ipython",
    "version": 3
   },
   "file_extension": ".py",
   "mimetype": "text/x-python",
   "name": "python",
   "nbconvert_exporter": "python",
   "pygments_lexer": "ipython3",
   "version": "3.6.3"
  }
 },
 "nbformat": 4,
 "nbformat_minor": 2
}
