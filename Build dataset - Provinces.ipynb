{
 "cells": [
  {
   "cell_type": "code",
   "execution_count": 3,
   "metadata": {},
   "outputs": [],
   "source": [
    "import pandas as pd\n",
    "import numpy as np\n",
    "import string\n",
    "import seaborn as sns\n",
    "import matplotlib.pyplot as plt\n",
    "import matplotlib.lines as mlines\n",
    "import build_data_functions as bdf\n",
    "from matplotlib.ticker import FormatStrFormatter\n",
    "from matplotlib.ticker import ScalarFormatter"
   ]
  },
  {
   "cell_type": "code",
   "execution_count": 4,
   "metadata": {
    "scrolled": true
   },
   "outputs": [],
   "source": [
    "resident_foreigners_norm = pd.read_table(\"/home/sara/Documents/Immigration/Shared_statistics/Data_final/resident_foreigners_norm.csv\")\n",
    "provinces = sorted(list(set(resident_foreigners_norm[\"Province\"])))\n",
    "regions_data = pd.read_table(\"/home/sara/Documents/Immigration/Shared_statistics/Data_final/regioni.csv\")\n",
    "regions_data = regions_data.replace(['Provincia Autonoma Bolzano / Bozen', 'Provincia Autonoma Trento'], ['Bolzano / Bozen', 'Trento'])\n",
    "regions = sorted(list(set(regions_data[\"Regione\"])))\n",
    "zones_data = pd.read_table(\"/home/sara/Documents/Immigration/Shared_statistics/Data_final/territori.csv\")\n",
    "zones_data = zones_data.replace(['Provincia Autonoma Bolzano / Bozen', 'Provincia Autonoma Trento'], ['Bolzano / Bozen', 'Trento'])\n",
    "\n",
    "zones = sorted(list(set(zones_data[\"Zona\"])))\n",
    "years = sorted(list(set(resident_foreigners_norm[\"Year\"])))\n",
    "\n",
    "basic_info = pd.read_table(\"/home/sara/Documents/Immigration/Data_not_git/Prov_info/prov_cap_info.csv\", header=None, names = [\"Province\", \"Region Code\", \"Population\", \"Area\", \"Density\", \"Num Municipalities\"])\n",
    "basic_info_additional = pd.read_table(\"/home/sara/Documents/Immigration/Data_not_git/Prov_info/region_info.csv\", header=None, names = [\"Province\", \"Region Code\", \"Population\", \"Area\", \"Density\", \"Num Municipalities\"])"
   ]
  },
  {
   "cell_type": "code",
   "execution_count": 5,
   "metadata": {},
   "outputs": [
    {
     "data": {
      "text/plain": [
       "\"regions = replace_in_list(regions, ['Provincia Autonoma Bolzano / Bozen', 'Provincia Autonoma Trento'], ['Bolzano / Bozen', 'Trento'])\\nbasic_info_additional = basic_info_additional.replace(['Provincia Autonoma Bolzano / Bozen', 'Provincia Autonoma Trento'], ['Bolzano / Bozen', 'Trento'])\""
      ]
     },
     "execution_count": 5,
     "metadata": {},
     "output_type": "execute_result"
    }
   ],
   "source": [
    "'''regions = replace_in_list(regions, ['Provincia Autonoma Bolzano / Bozen', 'Provincia Autonoma Trento'], ['Bolzano / Bozen', 'Trento'])\n",
    "basic_info_additional = basic_info_additional.replace(['Provincia Autonoma Bolzano / Bozen', 'Provincia Autonoma Trento'], ['Bolzano / Bozen', 'Trento'])'''"
   ]
  },
  {
   "cell_type": "code",
   "execution_count": 6,
   "metadata": {},
   "outputs": [
    {
     "data": {
      "text/html": [
       "<div>\n",
       "<style>\n",
       "    .dataframe thead tr:only-child th {\n",
       "        text-align: right;\n",
       "    }\n",
       "\n",
       "    .dataframe thead th {\n",
       "        text-align: left;\n",
       "    }\n",
       "\n",
       "    .dataframe tbody tr th {\n",
       "        vertical-align: top;\n",
       "    }\n",
       "</style>\n",
       "<table border=\"1\" class=\"dataframe\">\n",
       "  <thead>\n",
       "    <tr style=\"text-align: right;\">\n",
       "      <th></th>\n",
       "      <th>Province</th>\n",
       "      <th>Region Code</th>\n",
       "      <th>Population</th>\n",
       "      <th>Area</th>\n",
       "      <th>Density</th>\n",
       "      <th>Num Municipalities</th>\n",
       "    </tr>\n",
       "  </thead>\n",
       "  <tbody>\n",
       "    <tr>\n",
       "      <th>0</th>\n",
       "      <td>agrigento</td>\n",
       "      <td>sic</td>\n",
       "      <td>442.049</td>\n",
       "      <td>3.052,59</td>\n",
       "      <td>145.0</td>\n",
       "      <td>43</td>\n",
       "    </tr>\n",
       "    <tr>\n",
       "      <th>1</th>\n",
       "      <td>alessandria</td>\n",
       "      <td>pie</td>\n",
       "      <td>426.658</td>\n",
       "      <td>3.558,83</td>\n",
       "      <td>120.0</td>\n",
       "      <td>188</td>\n",
       "    </tr>\n",
       "    <tr>\n",
       "      <th>2</th>\n",
       "      <td>ancona</td>\n",
       "      <td>mar</td>\n",
       "      <td>474.124</td>\n",
       "      <td>1.963,22</td>\n",
       "      <td>242.0</td>\n",
       "      <td>47</td>\n",
       "    </tr>\n",
       "    <tr>\n",
       "      <th>3</th>\n",
       "      <td>aosta</td>\n",
       "      <td>vda</td>\n",
       "      <td>126.883</td>\n",
       "      <td>3.260,90</td>\n",
       "      <td>39.0</td>\n",
       "      <td>74</td>\n",
       "    </tr>\n",
       "    <tr>\n",
       "      <th>4</th>\n",
       "      <td>arezzo</td>\n",
       "      <td>tos</td>\n",
       "      <td>344.374</td>\n",
       "      <td>3.233,08</td>\n",
       "      <td>107.0</td>\n",
       "      <td>36</td>\n",
       "    </tr>\n",
       "  </tbody>\n",
       "</table>\n",
       "</div>"
      ],
      "text/plain": [
       "      Province Region Code Population      Area  Density  Num Municipalities\n",
       "0    agrigento         sic    442.049  3.052,59    145.0                  43\n",
       "1  alessandria         pie    426.658  3.558,83    120.0                 188\n",
       "2       ancona         mar    474.124  1.963,22    242.0                  47\n",
       "3        aosta         vda    126.883  3.260,90     39.0                  74\n",
       "4       arezzo         tos    344.374  3.233,08    107.0                  36"
      ]
     },
     "execution_count": 6,
     "metadata": {},
     "output_type": "execute_result"
    }
   ],
   "source": [
    "basic_info.head()"
   ]
  },
  {
   "cell_type": "code",
   "execution_count": 7,
   "metadata": {},
   "outputs": [],
   "source": [
    "basic_info[\"Region Code\"] = [i.upper() for i in basic_info[\"Region Code\"]]"
   ]
  },
  {
   "cell_type": "code",
   "execution_count": 8,
   "metadata": {},
   "outputs": [],
   "source": [
    "basic_info[\"Province\"] = [i.title() for i in basic_info[\"Province\"]]\n",
    "basic_info[\"Province\"] = basic_info[\"Province\"].replace([\"Aosta\", \"Bolzano\", \"Monza E Della Brianza\", \"Pesaro E Urbino\", \"Reggio Calabria\", \"Reggio Emilia\", \"Roma Capitale\"], [\"Valle d'Aosta / Vallée d'Aoste\", \"Bolzano / Bozen\", \"Monza e della Brianza\", \"Pesaro e Urbino\", \"Reggio di Calabria\", \"Reggio nell'Emilia\", \"Roma\"])"
   ]
  },
  {
   "cell_type": "code",
   "execution_count": 9,
   "metadata": {},
   "outputs": [],
   "source": [
    "# Add manually (from Wikipedia the missing information)\n",
    "basic_info = bdf.add_row(basic_info, [[\"Medio Campidano\", \"SAR\", \"99.422\", \"1.157,34\", 65.52, 28], \n",
    "                                  [\"Carbonia-Iglesias\", \"SAR\", \"127.133\", \"1.499,71\", 84.77, 23], \n",
    "                                  [\"Olbia-Tempio\", \"SAR\", \"160.368\", \"3.406,18\", 48.08, 26], \n",
    "                                  [\"Oristano\", \"SAR\", \"159.474\", \"2.990,45\", 53.33, 87],\n",
    "                                 [\"Sud\", \"-\", \"14.071.161\", \"73.223\", 192.17, \"-\"],\n",
    "                                 [\"Centro\", \"-\", \"12.067.524\", \"58.052\", 207.89, \"-\"],\n",
    "                                 [\"Isole\", \"-\", \"6.709.776\", \"49.932\", 134.37, \"-\"],\n",
    "                                 [\"Nord-est\", \"-\", \"11.564.416\", \"62.310\", 185.59, \"-\"],\n",
    "                                 [\"Nord-ovest\", \"-\", \"16.137.227\", \"57.950\", 275.63, \"-\"]])"
   ]
  },
  {
   "cell_type": "code",
   "execution_count": 10,
   "metadata": {},
   "outputs": [],
   "source": [
    "basic_info = basic_info.sort_values([\"Province\"])\n",
    "\n",
    "basic_info = basic_info[basic_info[\"Province\"] != \"Sud Sardegna\"]\n",
    "\n",
    "basic_info.index = list(range(len(basic_info)))"
   ]
  },
  {
   "cell_type": "code",
   "execution_count": 11,
   "metadata": {},
   "outputs": [],
   "source": [
    "basic_info[\"Area\"] = [float(i.replace(\".\", \"\").replace(\",\", \".\")) for i in basic_info[\"Area\"]]\n",
    "basic_info[\"Population\"] = [float(i.replace(\".\", \"\").replace(\",\", \".\")) for i in basic_info[\"Population\"]]"
   ]
  },
  {
   "cell_type": "code",
   "execution_count": 12,
   "metadata": {},
   "outputs": [
    {
     "data": {
      "text/html": [
       "<div>\n",
       "<style>\n",
       "    .dataframe thead tr:only-child th {\n",
       "        text-align: right;\n",
       "    }\n",
       "\n",
       "    .dataframe thead th {\n",
       "        text-align: left;\n",
       "    }\n",
       "\n",
       "    .dataframe tbody tr th {\n",
       "        vertical-align: top;\n",
       "    }\n",
       "</style>\n",
       "<table border=\"1\" class=\"dataframe\">\n",
       "  <thead>\n",
       "    <tr style=\"text-align: right;\">\n",
       "      <th></th>\n",
       "      <th>Province</th>\n",
       "      <th>Region Code</th>\n",
       "      <th>Population</th>\n",
       "      <th>Area</th>\n",
       "      <th>Density</th>\n",
       "      <th>Num Municipalities</th>\n",
       "    </tr>\n",
       "  </thead>\n",
       "  <tbody>\n",
       "    <tr>\n",
       "      <th>0</th>\n",
       "      <td>Agrigento</td>\n",
       "      <td>SIC</td>\n",
       "      <td>442049.0</td>\n",
       "      <td>3052.59</td>\n",
       "      <td>145.0</td>\n",
       "      <td>43</td>\n",
       "    </tr>\n",
       "    <tr>\n",
       "      <th>1</th>\n",
       "      <td>Alessandria</td>\n",
       "      <td>PIE</td>\n",
       "      <td>426658.0</td>\n",
       "      <td>3558.83</td>\n",
       "      <td>120.0</td>\n",
       "      <td>188</td>\n",
       "    </tr>\n",
       "    <tr>\n",
       "      <th>2</th>\n",
       "      <td>Ancona</td>\n",
       "      <td>MAR</td>\n",
       "      <td>474124.0</td>\n",
       "      <td>1963.22</td>\n",
       "      <td>242.0</td>\n",
       "      <td>47</td>\n",
       "    </tr>\n",
       "    <tr>\n",
       "      <th>3</th>\n",
       "      <td>Arezzo</td>\n",
       "      <td>TOS</td>\n",
       "      <td>344374.0</td>\n",
       "      <td>3233.08</td>\n",
       "      <td>107.0</td>\n",
       "      <td>36</td>\n",
       "    </tr>\n",
       "    <tr>\n",
       "      <th>4</th>\n",
       "      <td>Ascoli Piceno</td>\n",
       "      <td>MAR</td>\n",
       "      <td>209450.0</td>\n",
       "      <td>1228.27</td>\n",
       "      <td>171.0</td>\n",
       "      <td>33</td>\n",
       "    </tr>\n",
       "  </tbody>\n",
       "</table>\n",
       "</div>"
      ],
      "text/plain": [
       "        Province Region Code  Population     Area  Density Num Municipalities\n",
       "0      Agrigento         SIC    442049.0  3052.59    145.0                 43\n",
       "1    Alessandria         PIE    426658.0  3558.83    120.0                188\n",
       "2         Ancona         MAR    474124.0  1963.22    242.0                 47\n",
       "3         Arezzo         TOS    344374.0  3233.08    107.0                 36\n",
       "4  Ascoli Piceno         MAR    209450.0  1228.27    171.0                 33"
      ]
     },
     "execution_count": 12,
     "metadata": {},
     "output_type": "execute_result"
    }
   ],
   "source": [
    "basic_info.head()"
   ]
  },
  {
   "cell_type": "code",
   "execution_count": 13,
   "metadata": {},
   "outputs": [],
   "source": [
    "interest_territories = provinces + regions + zones + [\"Italia\"]"
   ]
  },
  {
   "cell_type": "code",
   "execution_count": 14,
   "metadata": {},
   "outputs": [],
   "source": [
    "basic_info_additional[\"Region Code\"] = [i.upper() for i in basic_info_additional[\"Region Code\"]]"
   ]
  },
  {
   "cell_type": "code",
   "execution_count": 15,
   "metadata": {},
   "outputs": [],
   "source": [
    "dataset = basic_info_additional.append(basic_info, ignore_index=True)"
   ]
  },
  {
   "cell_type": "code",
   "execution_count": 16,
   "metadata": {},
   "outputs": [],
   "source": [
    "dataset = bdf.filtering(dataset, \"Province\", interest_territories)\n",
    "dataset = dataset.sort_values([\"Province\"])\n",
    "dataset = dataset.drop_duplicates([\"Province\"])\n",
    "dataset = dataset.set_index(\"Province\")"
   ]
  },
  {
   "cell_type": "code",
   "execution_count": 17,
   "metadata": {},
   "outputs": [
    {
     "data": {
      "text/html": [
       "<div>\n",
       "<style>\n",
       "    .dataframe thead tr:only-child th {\n",
       "        text-align: right;\n",
       "    }\n",
       "\n",
       "    .dataframe thead th {\n",
       "        text-align: left;\n",
       "    }\n",
       "\n",
       "    .dataframe tbody tr th {\n",
       "        vertical-align: top;\n",
       "    }\n",
       "</style>\n",
       "<table border=\"1\" class=\"dataframe\">\n",
       "  <thead>\n",
       "    <tr style=\"text-align: right;\">\n",
       "      <th></th>\n",
       "      <th>Region Code</th>\n",
       "      <th>Population</th>\n",
       "      <th>Area</th>\n",
       "      <th>Density</th>\n",
       "      <th>Num Municipalities</th>\n",
       "    </tr>\n",
       "    <tr>\n",
       "      <th>Province</th>\n",
       "      <th></th>\n",
       "      <th></th>\n",
       "      <th></th>\n",
       "      <th></th>\n",
       "      <th></th>\n",
       "    </tr>\n",
       "  </thead>\n",
       "  <tbody>\n",
       "    <tr>\n",
       "      <th>Abruzzo</th>\n",
       "      <td>ABR</td>\n",
       "      <td>1322247.0</td>\n",
       "      <td>10831.84</td>\n",
       "      <td>122.07</td>\n",
       "      <td>305</td>\n",
       "    </tr>\n",
       "    <tr>\n",
       "      <th>Agrigento</th>\n",
       "      <td>SIC</td>\n",
       "      <td>442049.0</td>\n",
       "      <td>3052.59</td>\n",
       "      <td>145.00</td>\n",
       "      <td>43</td>\n",
       "    </tr>\n",
       "    <tr>\n",
       "      <th>Alessandria</th>\n",
       "      <td>PIE</td>\n",
       "      <td>426658.0</td>\n",
       "      <td>3558.83</td>\n",
       "      <td>120.00</td>\n",
       "      <td>188</td>\n",
       "    </tr>\n",
       "    <tr>\n",
       "      <th>Ancona</th>\n",
       "      <td>MAR</td>\n",
       "      <td>474124.0</td>\n",
       "      <td>1963.22</td>\n",
       "      <td>242.00</td>\n",
       "      <td>47</td>\n",
       "    </tr>\n",
       "    <tr>\n",
       "      <th>Arezzo</th>\n",
       "      <td>TOS</td>\n",
       "      <td>344374.0</td>\n",
       "      <td>3233.08</td>\n",
       "      <td>107.00</td>\n",
       "      <td>36</td>\n",
       "    </tr>\n",
       "  </tbody>\n",
       "</table>\n",
       "</div>"
      ],
      "text/plain": [
       "            Region Code  Population      Area  Density Num Municipalities\n",
       "Province                                                                 \n",
       "Abruzzo             ABR   1322247.0  10831.84   122.07                305\n",
       "Agrigento           SIC    442049.0   3052.59   145.00                 43\n",
       "Alessandria         PIE    426658.0   3558.83   120.00                188\n",
       "Ancona              MAR    474124.0   1963.22   242.00                 47\n",
       "Arezzo              TOS    344374.0   3233.08   107.00                 36"
      ]
     },
     "execution_count": 17,
     "metadata": {},
     "output_type": "execute_result"
    }
   ],
   "source": [
    "dataset.head()"
   ]
  },
  {
   "cell_type": "code",
   "execution_count": 18,
   "metadata": {},
   "outputs": [
    {
     "data": {
      "text/html": [
       "<div>\n",
       "<style>\n",
       "    .dataframe thead tr:only-child th {\n",
       "        text-align: right;\n",
       "    }\n",
       "\n",
       "    .dataframe thead th {\n",
       "        text-align: left;\n",
       "    }\n",
       "\n",
       "    .dataframe tbody tr th {\n",
       "        vertical-align: top;\n",
       "    }\n",
       "</style>\n",
       "<table border=\"1\" class=\"dataframe\">\n",
       "  <thead>\n",
       "    <tr style=\"text-align: right;\">\n",
       "      <th></th>\n",
       "      <th>Province</th>\n",
       "      <th>Country</th>\n",
       "      <th>Year</th>\n",
       "      <th>Gender</th>\n",
       "      <th>Value</th>\n",
       "    </tr>\n",
       "  </thead>\n",
       "  <tbody>\n",
       "    <tr>\n",
       "      <th>0</th>\n",
       "      <td>Biella</td>\n",
       "      <td>AND</td>\n",
       "      <td>2005</td>\n",
       "      <td>male</td>\n",
       "      <td>1</td>\n",
       "    </tr>\n",
       "    <tr>\n",
       "      <th>1</th>\n",
       "      <td>Biella</td>\n",
       "      <td>AND</td>\n",
       "      <td>2005</td>\n",
       "      <td>female</td>\n",
       "      <td>0</td>\n",
       "    </tr>\n",
       "    <tr>\n",
       "      <th>2</th>\n",
       "      <td>Novara</td>\n",
       "      <td>AND</td>\n",
       "      <td>2005</td>\n",
       "      <td>male</td>\n",
       "      <td>0</td>\n",
       "    </tr>\n",
       "    <tr>\n",
       "      <th>3</th>\n",
       "      <td>Novara</td>\n",
       "      <td>AND</td>\n",
       "      <td>2005</td>\n",
       "      <td>female</td>\n",
       "      <td>2</td>\n",
       "    </tr>\n",
       "    <tr>\n",
       "      <th>4</th>\n",
       "      <td>Alessandria</td>\n",
       "      <td>AND</td>\n",
       "      <td>2017</td>\n",
       "      <td>male</td>\n",
       "      <td>0</td>\n",
       "    </tr>\n",
       "  </tbody>\n",
       "</table>\n",
       "</div>"
      ],
      "text/plain": [
       "      Province Country  Year  Gender  Value\n",
       "0       Biella     AND  2005    male      1\n",
       "1       Biella     AND  2005  female      0\n",
       "2       Novara     AND  2005    male      0\n",
       "3       Novara     AND  2005  female      2\n",
       "4  Alessandria     AND  2017    male      0"
      ]
     },
     "execution_count": 18,
     "metadata": {},
     "output_type": "execute_result"
    }
   ],
   "source": [
    "resident_foreigners_norm.head()"
   ]
  },
  {
   "cell_type": "code",
   "execution_count": 19,
   "metadata": {
    "scrolled": true
   },
   "outputs": [],
   "source": [
    "grouped = regions_data.groupby([\"Regione\"])\n",
    "for r in regions:\n",
    "    #print(r, grouped.get_group(r)[\"Provincia\"].values)\n",
    "    list_temp = grouped.get_group(r)[\"Provincia\"].values\n",
    "    res_temp = resident_foreigners_norm[(resident_foreigners_norm[\"Province\"].isin(list_temp))].groupby([\"Country\", \"Year\", \"Gender\"])[\"Value\"].sum()\n",
    "    temp = pd.DataFrame(res_temp)\n",
    "    temp = temp.reset_index(level=['Country', 'Year', 'Gender'])\n",
    "    temp[\"Province\"] = [r for i in range(len(temp))]\n",
    "    temp = temp[temp.columns.tolist()[-1:] + temp.columns.tolist()[:-1]]\n",
    "    \n",
    "    resident_foreigners_norm = pd.concat([resident_foreigners_norm, temp])\n",
    "    \n",
    "resident_foreigners_norm.index = list(range(len(resident_foreigners_norm)))"
   ]
  },
  {
   "cell_type": "code",
   "execution_count": 20,
   "metadata": {},
   "outputs": [],
   "source": [
    "grouped = zones_data.groupby([\"Zona\"])\n",
    "for z in zones:\n",
    "    #print(r, grouped.get_group(r)[\"Provincia\"].values)\n",
    "    list_temp = grouped.get_group(z)[\"Regione\"].values\n",
    "    res_temp = resident_foreigners_norm[(resident_foreigners_norm[\"Province\"].isin(list_temp))].groupby([\"Country\", \"Year\", \"Gender\"])[\"Value\"].sum()\n",
    "    temp = pd.DataFrame(res_temp)\n",
    "    temp = temp.reset_index(level=['Country', 'Year', 'Gender'])\n",
    "    temp[\"Province\"] = [z for i in range(len(temp))]\n",
    "    temp = temp[temp.columns.tolist()[-1:] + temp.columns.tolist()[:-1]]\n",
    "    \n",
    "    resident_foreigners_norm = pd.concat([resident_foreigners_norm, temp])\n",
    "    \n",
    "resident_foreigners_norm.index = list(range(len(resident_foreigners_norm)))"
   ]
  },
  {
   "cell_type": "code",
   "execution_count": 21,
   "metadata": {
    "scrolled": true
   },
   "outputs": [
    {
     "data": {
      "text/html": [
       "<div>\n",
       "<style>\n",
       "    .dataframe thead tr:only-child th {\n",
       "        text-align: right;\n",
       "    }\n",
       "\n",
       "    .dataframe thead th {\n",
       "        text-align: left;\n",
       "    }\n",
       "\n",
       "    .dataframe tbody tr th {\n",
       "        vertical-align: top;\n",
       "    }\n",
       "</style>\n",
       "<table border=\"1\" class=\"dataframe\">\n",
       "  <thead>\n",
       "    <tr style=\"text-align: right;\">\n",
       "      <th></th>\n",
       "      <th>Province</th>\n",
       "      <th>Country</th>\n",
       "      <th>Year</th>\n",
       "      <th>Gender</th>\n",
       "      <th>Value</th>\n",
       "    </tr>\n",
       "  </thead>\n",
       "  <tbody>\n",
       "    <tr>\n",
       "      <th>0</th>\n",
       "      <td>Biella</td>\n",
       "      <td>AND</td>\n",
       "      <td>2005</td>\n",
       "      <td>male</td>\n",
       "      <td>1</td>\n",
       "    </tr>\n",
       "    <tr>\n",
       "      <th>1</th>\n",
       "      <td>Biella</td>\n",
       "      <td>AND</td>\n",
       "      <td>2005</td>\n",
       "      <td>female</td>\n",
       "      <td>0</td>\n",
       "    </tr>\n",
       "    <tr>\n",
       "      <th>2</th>\n",
       "      <td>Novara</td>\n",
       "      <td>AND</td>\n",
       "      <td>2005</td>\n",
       "      <td>male</td>\n",
       "      <td>0</td>\n",
       "    </tr>\n",
       "    <tr>\n",
       "      <th>3</th>\n",
       "      <td>Novara</td>\n",
       "      <td>AND</td>\n",
       "      <td>2005</td>\n",
       "      <td>female</td>\n",
       "      <td>2</td>\n",
       "    </tr>\n",
       "    <tr>\n",
       "      <th>4</th>\n",
       "      <td>Alessandria</td>\n",
       "      <td>AND</td>\n",
       "      <td>2017</td>\n",
       "      <td>male</td>\n",
       "      <td>0</td>\n",
       "    </tr>\n",
       "  </tbody>\n",
       "</table>\n",
       "</div>"
      ],
      "text/plain": [
       "      Province Country  Year  Gender  Value\n",
       "0       Biella     AND  2005    male      1\n",
       "1       Biella     AND  2005  female      0\n",
       "2       Novara     AND  2005    male      0\n",
       "3       Novara     AND  2005  female      2\n",
       "4  Alessandria     AND  2017    male      0"
      ]
     },
     "execution_count": 21,
     "metadata": {},
     "output_type": "execute_result"
    }
   ],
   "source": [
    "resident_foreigners_norm.head()"
   ]
  },
  {
   "cell_type": "markdown",
   "metadata": {},
   "source": [
    "### Correlation - basic info"
   ]
  },
  {
   "cell_type": "markdown",
   "metadata": {},
   "source": [
    "Since these features are time invariant, it is reasonable to study the correlation with the mean immigrant stock."
   ]
  },
  {
   "cell_type": "code",
   "execution_count": 20,
   "metadata": {},
   "outputs": [],
   "source": [
    "mean_stock = resident_foreigners_norm.groupby([\"Province\"])[\"Value\"].sum()\n",
    "\n",
    "data_temp = pd.concat([dataset, mean_stock], axis=1)\n",
    "#data_temp = data_temp.reset_index(level=[\"Province\"])"
   ]
  },
  {
   "cell_type": "code",
   "execution_count": 21,
   "metadata": {},
   "outputs": [],
   "source": [
    "cols = data_temp.columns[(data_temp.columns != \"Region Code\") & (data_temp.columns != \"Num Municipalities\") & (data_temp.columns != \"Value\")]"
   ]
  },
  {
   "cell_type": "code",
   "execution_count": 22,
   "metadata": {},
   "outputs": [],
   "source": [
    "bdf.relation_plot_time_invariant(data_temp.loc[zones], cols, \"Value\", 45, \"Immigrant Stock VS Time Invariant Features - Zones Level\", save = True, path = \"Plots/stock_vs_time_invariant_zones\")"
   ]
  },
  {
   "cell_type": "code",
   "execution_count": 23,
   "metadata": {},
   "outputs": [],
   "source": [
    "bdf.relation_plot_time_invariant(data_temp.loc[regions], cols, \"Value\", 90, \"Immigrant Stock VS Time Invariant Features - Regions Level\", save = True, path = \"Plots/stock_vs_time_invariant_regions\")"
   ]
  },
  {
   "cell_type": "markdown",
   "metadata": {},
   "source": [
    "## Istat Data"
   ]
  },
  {
   "cell_type": "markdown",
   "metadata": {},
   "source": [
    "### Aspect of daily life - social activities"
   ]
  },
  {
   "cell_type": "code",
   "execution_count": 24,
   "metadata": {},
   "outputs": [],
   "source": [
    "social_act = pd.read_table(\"/home/sara/Documents/Immigration/Data_not_git/Prov_info/Aspects of daily life/DCCV_AVQ_PERSONE_Data_433028ae-6be5-4ff0-8727-911694df70d2.csv\", sep = \"\\t\")"
   ]
  },
  {
   "cell_type": "code",
   "execution_count": 25,
   "metadata": {},
   "outputs": [
    {
     "name": "stdout",
     "output_type": "stream",
     "text": [
      "Classe di età {'14 anni e più'}\n",
      "Condizione e posizione nella professione {'totale'}\n",
      "Sesso {'totale'}\n",
      "Titolo di studio {'totale'}\n"
     ]
    }
   ],
   "source": [
    "social_act = bdf.re_ordering_df(social_act)\n",
    "bdf.drop_useless(social_act)"
   ]
  },
  {
   "cell_type": "code",
   "execution_count": 26,
   "metadata": {},
   "outputs": [],
   "source": [
    "social_act = social_act.replace(['Provincia Autonoma Bolzano / Bozen', 'Provincia Autonoma Trento'], ['Bolzano / Bozen', 'Trento'])"
   ]
  },
  {
   "cell_type": "code",
   "execution_count": 27,
   "metadata": {},
   "outputs": [],
   "source": [
    "social_act = bdf.filtering(social_act, \"Territorio\", interest_territories)\n",
    "social_act = bdf.filtering(social_act, \"Seleziona periodo\", years)"
   ]
  },
  {
   "cell_type": "code",
   "execution_count": 28,
   "metadata": {},
   "outputs": [
    {
     "data": {
      "text/plain": [
       "{'per 100 persone con le stesse caratteristiche', 'valori in migliaia'}"
      ]
     },
     "execution_count": 28,
     "metadata": {},
     "output_type": "execute_result"
    }
   ],
   "source": [
    "set(social_act[\"Misura\"])"
   ]
  },
  {
   "cell_type": "code",
   "execution_count": 29,
   "metadata": {},
   "outputs": [],
   "source": [
    "social_act = bdf.differentiate_values(social_act, \"Misura\", \"Tipo dato\")\n",
    "social_act = bdf.pivot(social_act, \"Tipo dato\", \"0  Flags\")"
   ]
  },
  {
   "cell_type": "code",
   "execution_count": 30,
   "metadata": {},
   "outputs": [],
   "source": [
    "bdf.del_missing(social_act)"
   ]
  },
  {
   "cell_type": "code",
   "execution_count": 31,
   "metadata": {},
   "outputs": [
    {
     "name": "stdout",
     "output_type": "stream",
     "text": [
      "Int64Index([2003, 2005, 2006, 2007, 2008, 2009, 2010, 2011, 2012, 2013, 2014,\n",
      "            2015, 2016],\n",
      "           dtype='int64', name='Seleziona periodo')\n",
      "Index(['Abruzzo', 'Basilicata', 'Bolzano / Bozen', 'Calabria', 'Campania',\n",
      "       'Centro', 'Emilia-Romagna', 'Friuli-Venezia Giulia', 'Isole', 'Italia',\n",
      "       'Lazio', 'Liguria', 'Lombardia', 'Marche', 'Molise', 'Nord-est',\n",
      "       'Nord-ovest', 'Piemonte', 'Puglia', 'Sardegna', 'Sicilia', 'Sud',\n",
      "       'Toscana', 'Trento', 'Umbria', 'Valle d'Aosta / Vallée d'Aoste',\n",
      "       'Veneto'],\n",
      "      dtype='object', name='Territorio')\n"
     ]
    }
   ],
   "source": [
    "print(social_act.index.levels[0])\n",
    "print(social_act.index.levels[1])"
   ]
  },
  {
   "cell_type": "code",
   "execution_count": 75,
   "metadata": {},
   "outputs": [
    {
     "name": "stdout",
     "output_type": "stream",
     "text": [
      "[2004, 2017]\n",
      "[]\n"
     ]
    }
   ],
   "source": [
    "places_to_check = [i for i in interest_territories if i not in provinces] + [\"Trento\", \"Valle d'Aosta / Vallée d'Aoste\", \"Bolzano / Bozen\"] + zones\n",
    "bdf.check_missing_index(social_act, years, places_to_check)"
   ]
  },
  {
   "cell_type": "code",
   "execution_count": 33,
   "metadata": {},
   "outputs": [],
   "source": [
    "bdf.check_missing(social_act)"
   ]
  },
  {
   "cell_type": "markdown",
   "metadata": {},
   "source": [
    "ALL the data for the 2004 are missing, two options:\n",
    "- do not consider these attributes for the 2004\n",
    "- reconstruct the 2004 data from the other data: mean of 2003 and 2004;"
   ]
  },
  {
   "cell_type": "code",
   "execution_count": 34,
   "metadata": {},
   "outputs": [
    {
     "data": {
      "text/html": [
       "<div>\n",
       "<style>\n",
       "    .dataframe thead tr:only-child th {\n",
       "        text-align: right;\n",
       "    }\n",
       "\n",
       "    .dataframe thead th {\n",
       "        text-align: left;\n",
       "    }\n",
       "\n",
       "    .dataframe tbody tr th {\n",
       "        vertical-align: top;\n",
       "    }\n",
       "</style>\n",
       "<table border=\"1\" class=\"dataframe\">\n",
       "  <thead>\n",
       "    <tr style=\"text-align: right;\">\n",
       "      <th></th>\n",
       "      <th>Tipo dato</th>\n",
       "      <th>attività gratuita per un sindacato - per 100 persone con le stesse caratteristiche</th>\n",
       "      <th>attività gratuita per un sindacato - valori in migliaia</th>\n",
       "      <th>attività gratuite in associazioni di volontariato - per 100 persone con le stesse caratteristiche</th>\n",
       "      <th>attività gratuite in associazioni di volontariato - valori in migliaia</th>\n",
       "      <th>attività gratuite in associazioni non di volontariato - per 100 persone con le stesse caratteristiche</th>\n",
       "      <th>attività gratuite in associazioni non di volontariato - valori in migliaia</th>\n",
       "      <th>riunioni in associazioni culturali, ricreative o di altro tipo - per 100 persone con le stesse caratteristiche</th>\n",
       "      <th>riunioni in associazioni culturali, ricreative o di altro tipo - valori in migliaia</th>\n",
       "      <th>riunioni in associazioni ecologiche, per i diritti civili, per la pace - per 100 persone con le stesse caratteristiche</th>\n",
       "      <th>riunioni in associazioni ecologiche, per i diritti civili, per la pace - valori in migliaia</th>\n",
       "      <th>versare soldi ad un'associazione - per 100 persone con le stesse caratteristiche</th>\n",
       "      <th>versare soldi ad un'associazione - valori in migliaia</th>\n",
       "    </tr>\n",
       "    <tr>\n",
       "      <th>Seleziona periodo</th>\n",
       "      <th>Territorio</th>\n",
       "      <th></th>\n",
       "      <th></th>\n",
       "      <th></th>\n",
       "      <th></th>\n",
       "      <th></th>\n",
       "      <th></th>\n",
       "      <th></th>\n",
       "      <th></th>\n",
       "      <th></th>\n",
       "      <th></th>\n",
       "      <th></th>\n",
       "      <th></th>\n",
       "    </tr>\n",
       "  </thead>\n",
       "  <tbody>\n",
       "    <tr>\n",
       "      <th rowspan=\"5\" valign=\"top\">2003</th>\n",
       "      <th>Abruzzo</th>\n",
       "      <td>0.8</td>\n",
       "      <td>8.0</td>\n",
       "      <td>5.9</td>\n",
       "      <td>66.0</td>\n",
       "      <td>2.9</td>\n",
       "      <td>32.0</td>\n",
       "      <td>8.6</td>\n",
       "      <td>95.0</td>\n",
       "      <td>1.8</td>\n",
       "      <td>20.0</td>\n",
       "      <td>13.9</td>\n",
       "      <td>155.0</td>\n",
       "    </tr>\n",
       "    <tr>\n",
       "      <th>Basilicata</th>\n",
       "      <td>2.0</td>\n",
       "      <td>10.0</td>\n",
       "      <td>6.4</td>\n",
       "      <td>33.0</td>\n",
       "      <td>3.4</td>\n",
       "      <td>17.0</td>\n",
       "      <td>6.7</td>\n",
       "      <td>34.0</td>\n",
       "      <td>2.8</td>\n",
       "      <td>14.0</td>\n",
       "      <td>13.3</td>\n",
       "      <td>68.0</td>\n",
       "    </tr>\n",
       "    <tr>\n",
       "      <th>Bolzano / Bozen</th>\n",
       "      <td>0.7</td>\n",
       "      <td>3.0</td>\n",
       "      <td>22.6</td>\n",
       "      <td>88.0</td>\n",
       "      <td>18.6</td>\n",
       "      <td>72.0</td>\n",
       "      <td>27.4</td>\n",
       "      <td>107.0</td>\n",
       "      <td>3.1</td>\n",
       "      <td>12.0</td>\n",
       "      <td>30.4</td>\n",
       "      <td>118.0</td>\n",
       "    </tr>\n",
       "    <tr>\n",
       "      <th>Calabria</th>\n",
       "      <td>1.3</td>\n",
       "      <td>22.0</td>\n",
       "      <td>4.1</td>\n",
       "      <td>70.0</td>\n",
       "      <td>1.5</td>\n",
       "      <td>26.0</td>\n",
       "      <td>5.7</td>\n",
       "      <td>97.0</td>\n",
       "      <td>1.5</td>\n",
       "      <td>25.0</td>\n",
       "      <td>8.0</td>\n",
       "      <td>136.0</td>\n",
       "    </tr>\n",
       "    <tr>\n",
       "      <th>Campania</th>\n",
       "      <td>1.1</td>\n",
       "      <td>55.0</td>\n",
       "      <td>4.5</td>\n",
       "      <td>215.0</td>\n",
       "      <td>2.0</td>\n",
       "      <td>94.0</td>\n",
       "      <td>6.1</td>\n",
       "      <td>292.0</td>\n",
       "      <td>2.0</td>\n",
       "      <td>95.0</td>\n",
       "      <td>9.7</td>\n",
       "      <td>461.0</td>\n",
       "    </tr>\n",
       "  </tbody>\n",
       "</table>\n",
       "</div>"
      ],
      "text/plain": [
       "Tipo dato                          attività gratuita per un sindacato - per 100 persone con le stesse caratteristiche  \\\n",
       "Seleziona periodo Territorio                                                                                            \n",
       "2003              Abruzzo                                                        0.8                                    \n",
       "                  Basilicata                                                     2.0                                    \n",
       "                  Bolzano / Bozen                                                0.7                                    \n",
       "                  Calabria                                                       1.3                                    \n",
       "                  Campania                                                       1.1                                    \n",
       "\n",
       "Tipo dato                          attività gratuita per un sindacato - valori in migliaia  \\\n",
       "Seleziona periodo Territorio                                                                 \n",
       "2003              Abruzzo                                                        8.0         \n",
       "                  Basilicata                                                    10.0         \n",
       "                  Bolzano / Bozen                                                3.0         \n",
       "                  Calabria                                                      22.0         \n",
       "                  Campania                                                      55.0         \n",
       "\n",
       "Tipo dato                          attività gratuite in associazioni di volontariato - per 100 persone con le stesse caratteristiche  \\\n",
       "Seleziona periodo Territorio                                                                                                           \n",
       "2003              Abruzzo                                                        5.9                                                   \n",
       "                  Basilicata                                                     6.4                                                   \n",
       "                  Bolzano / Bozen                                               22.6                                                   \n",
       "                  Calabria                                                       4.1                                                   \n",
       "                  Campania                                                       4.5                                                   \n",
       "\n",
       "Tipo dato                          attività gratuite in associazioni di volontariato - valori in migliaia  \\\n",
       "Seleziona periodo Territorio                                                                                \n",
       "2003              Abruzzo                                                       66.0                        \n",
       "                  Basilicata                                                    33.0                        \n",
       "                  Bolzano / Bozen                                               88.0                        \n",
       "                  Calabria                                                      70.0                        \n",
       "                  Campania                                                     215.0                        \n",
       "\n",
       "Tipo dato                          attività gratuite in associazioni non di volontariato - per 100 persone con le stesse caratteristiche  \\\n",
       "Seleziona periodo Territorio                                                                                                               \n",
       "2003              Abruzzo                                                        2.9                                                       \n",
       "                  Basilicata                                                     3.4                                                       \n",
       "                  Bolzano / Bozen                                               18.6                                                       \n",
       "                  Calabria                                                       1.5                                                       \n",
       "                  Campania                                                       2.0                                                       \n",
       "\n",
       "Tipo dato                          attività gratuite in associazioni non di volontariato - valori in migliaia  \\\n",
       "Seleziona periodo Territorio                                                                                    \n",
       "2003              Abruzzo                                                       32.0                            \n",
       "                  Basilicata                                                    17.0                            \n",
       "                  Bolzano / Bozen                                               72.0                            \n",
       "                  Calabria                                                      26.0                            \n",
       "                  Campania                                                      94.0                            \n",
       "\n",
       "Tipo dato                          riunioni in associazioni culturali, ricreative o di altro tipo - per 100 persone con le stesse caratteristiche  \\\n",
       "Seleziona periodo Territorio                                                                                                                        \n",
       "2003              Abruzzo                                                        8.6                                                                \n",
       "                  Basilicata                                                     6.7                                                                \n",
       "                  Bolzano / Bozen                                               27.4                                                                \n",
       "                  Calabria                                                       5.7                                                                \n",
       "                  Campania                                                       6.1                                                                \n",
       "\n",
       "Tipo dato                          riunioni in associazioni culturali, ricreative o di altro tipo - valori in migliaia  \\\n",
       "Seleziona periodo Territorio                                                                                             \n",
       "2003              Abruzzo                                                       95.0                                     \n",
       "                  Basilicata                                                    34.0                                     \n",
       "                  Bolzano / Bozen                                              107.0                                     \n",
       "                  Calabria                                                      97.0                                     \n",
       "                  Campania                                                     292.0                                     \n",
       "\n",
       "Tipo dato                          riunioni in associazioni ecologiche, per i diritti civili, per la pace - per 100 persone con le stesse caratteristiche  \\\n",
       "Seleziona periodo Territorio                                                                                                                                \n",
       "2003              Abruzzo                                                        1.8                                                                        \n",
       "                  Basilicata                                                     2.8                                                                        \n",
       "                  Bolzano / Bozen                                                3.1                                                                        \n",
       "                  Calabria                                                       1.5                                                                        \n",
       "                  Campania                                                       2.0                                                                        \n",
       "\n",
       "Tipo dato                          riunioni in associazioni ecologiche, per i diritti civili, per la pace - valori in migliaia  \\\n",
       "Seleziona periodo Territorio                                                                                                     \n",
       "2003              Abruzzo                                                       20.0                                             \n",
       "                  Basilicata                                                    14.0                                             \n",
       "                  Bolzano / Bozen                                               12.0                                             \n",
       "                  Calabria                                                      25.0                                             \n",
       "                  Campania                                                      95.0                                             \n",
       "\n",
       "Tipo dato                          versare soldi ad un'associazione - per 100 persone con le stesse caratteristiche  \\\n",
       "Seleziona periodo Territorio                                                                                          \n",
       "2003              Abruzzo                                                       13.9                                  \n",
       "                  Basilicata                                                    13.3                                  \n",
       "                  Bolzano / Bozen                                               30.4                                  \n",
       "                  Calabria                                                       8.0                                  \n",
       "                  Campania                                                       9.7                                  \n",
       "\n",
       "Tipo dato                          versare soldi ad un'associazione - valori in migliaia  \n",
       "Seleziona periodo Territorio                                                              \n",
       "2003              Abruzzo                                                      155.0      \n",
       "                  Basilicata                                                    68.0      \n",
       "                  Bolzano / Bozen                                              118.0      \n",
       "                  Calabria                                                     136.0      \n",
       "                  Campania                                                     461.0      "
      ]
     },
     "execution_count": 34,
     "metadata": {},
     "output_type": "execute_result"
    }
   ],
   "source": [
    "social_act.head()"
   ]
  },
  {
   "cell_type": "code",
   "execution_count": 35,
   "metadata": {},
   "outputs": [],
   "source": [
    "# The the features with two different scales\n",
    "feature_scale1 = [i for i in social_act.columns.tolist() if i.split()[-1] == \"migliaia\"]\n",
    "feature_scale2 = [i for i in social_act.columns.tolist() if i not in feature_scale1]"
   ]
  },
  {
   "cell_type": "code",
   "execution_count": 43,
   "metadata": {},
   "outputs": [],
   "source": [
    "palette = [\"y\", \"green\", \"olivedrab\", \"darkgreen\", \"yellowgreen\", \"gold\", \"orange\", \"lightcoral\", \"red\",\n",
    "           \"paleturquoise\", \"deepskyblue\", \"lightskyblue\", \"blue\", \"mediumpurple\", \"rebeccapurple\", \"fuchsia\"]"
   ]
  },
  {
   "cell_type": "code",
   "execution_count": 37,
   "metadata": {},
   "outputs": [],
   "source": [
    "bdf.relation_plot_time_variant(social_act, feature_scale1, resident_foreigners_norm, zones_data, 45, \"Social Activities\", palette, True, \"Plots/stock_vs_social_act1_\")"
   ]
  },
  {
   "cell_type": "code",
   "execution_count": 48,
   "metadata": {},
   "outputs": [],
   "source": [
    "bdf.relation_plot_time_variant(social_act, feature_scale2, resident_foreigners_norm, zones_data, 45, \"Social Activities\", palette, True, \"Plots/stock_vs_social_act2_\")"
   ]
  },
  {
   "cell_type": "markdown",
   "metadata": {},
   "source": [
    "### Aspect of daily life - Political Information (freq)"
   ]
  },
  {
   "cell_type": "code",
   "execution_count": 38,
   "metadata": {},
   "outputs": [],
   "source": [
    "political_information = pd.read_table(\"/home/sara/Documents/Immigration/Data_not_git/Prov_info/Aspects of daily life (1)/DCCV_AVQ_PERSONE_Data_e9f78b71-f4aa-4340-828b-9ba102742fab.csv\", sep = \"\\t\")"
   ]
  },
  {
   "cell_type": "code",
   "execution_count": 39,
   "metadata": {
    "scrolled": false
   },
   "outputs": [
    {
     "name": "stdout",
     "output_type": "stream",
     "text": [
      "Classe di età {'14 anni e più'}\n",
      "Condizione e posizione nella professione {'totale'}\n",
      "Sesso {'totale'}\n",
      "Titolo di studio {'totale'}\n"
     ]
    }
   ],
   "source": [
    "political_information = bdf.re_ordering_df(political_information)\n",
    "bdf.drop_useless(political_information)"
   ]
  },
  {
   "cell_type": "code",
   "execution_count": 40,
   "metadata": {},
   "outputs": [],
   "source": [
    "political_information = political_information.replace(['Provincia Autonoma Bolzano / Bozen', 'Provincia Autonoma Trento'], ['Bolzano / Bozen', 'Trento'])"
   ]
  },
  {
   "cell_type": "code",
   "execution_count": 41,
   "metadata": {},
   "outputs": [],
   "source": [
    "political_information = bdf.filtering(political_information, \"Territorio\", interest_territories)\n",
    "political_information = bdf.filtering(political_information, \"Seleziona periodo\", years)"
   ]
  },
  {
   "cell_type": "code",
   "execution_count": 42,
   "metadata": {},
   "outputs": [
    {
     "data": {
      "text/plain": [
       "{'per 100 persone con le stesse caratteristiche', 'valori in migliaia'}"
      ]
     },
     "execution_count": 42,
     "metadata": {},
     "output_type": "execute_result"
    }
   ],
   "source": [
    "set(political_information[\"Misura\"])"
   ]
  },
  {
   "cell_type": "code",
   "execution_count": 43,
   "metadata": {},
   "outputs": [
    {
     "data": {
      "text/plain": [
       "'political_information_same_char, political_information_thousand = divide_table(political_information, \"Misura\")\\n\\npolitical_information_same_char = pivot(political_information_same_char, \"Tipo dato\", \"0  Flags\")\\npolitical_information_thousand = pivot(political_information_thousand, \"Tipo dato\", \"0  Flags\")'"
      ]
     },
     "execution_count": 43,
     "metadata": {},
     "output_type": "execute_result"
    }
   ],
   "source": [
    "'''political_information_same_char, political_information_thousand = divide_table(political_information, \"Misura\")\n",
    "\n",
    "political_information_same_char = pivot(political_information_same_char, \"Tipo dato\", \"0  Flags\")\n",
    "political_information_thousand = pivot(political_information_thousand, \"Tipo dato\", \"0  Flags\")'''"
   ]
  },
  {
   "cell_type": "code",
   "execution_count": 44,
   "metadata": {},
   "outputs": [],
   "source": [
    "political_information = bdf.differentiate_values(political_information, \"Misura\", \"Tipo dato\")\n",
    "political_information = bdf.pivot(political_information, \"Tipo dato\", \"0  Flags\")"
   ]
  },
  {
   "cell_type": "code",
   "execution_count": 76,
   "metadata": {},
   "outputs": [
    {
     "name": "stdout",
     "output_type": "stream",
     "text": [
      "[2004, 2017]\n",
      "[]\n"
     ]
    }
   ],
   "source": [
    "bdf.check_missing_index(political_information, years, places_to_check)"
   ]
  },
  {
   "cell_type": "code",
   "execution_count": 46,
   "metadata": {},
   "outputs": [],
   "source": [
    "bdf.check_missing(political_information)"
   ]
  },
  {
   "cell_type": "code",
   "execution_count": 47,
   "metadata": {},
   "outputs": [
    {
     "data": {
      "text/html": [
       "<div>\n",
       "<style>\n",
       "    .dataframe thead tr:only-child th {\n",
       "        text-align: right;\n",
       "    }\n",
       "\n",
       "    .dataframe thead th {\n",
       "        text-align: left;\n",
       "    }\n",
       "\n",
       "    .dataframe tbody tr th {\n",
       "        vertical-align: top;\n",
       "    }\n",
       "</style>\n",
       "<table border=\"1\" class=\"dataframe\">\n",
       "  <thead>\n",
       "    <tr style=\"text-align: right;\">\n",
       "      <th></th>\n",
       "      <th>Tipo dato</th>\n",
       "      <th>mai - per 100 persone con le stesse caratteristiche</th>\n",
       "      <th>mai - valori in migliaia</th>\n",
       "      <th>qualche volta a settimana - per 100 persone con le stesse caratteristiche</th>\n",
       "      <th>qualche volta a settimana - valori in migliaia</th>\n",
       "      <th>qualche volta al mese - per 100 persone con le stesse caratteristiche</th>\n",
       "      <th>qualche volta al mese - valori in migliaia</th>\n",
       "      <th>qualche volta all'anno - per 100 persone con le stesse caratteristiche</th>\n",
       "      <th>qualche volta all'anno - valori in migliaia</th>\n",
       "      <th>tutti i giorni - per 100 persone con le stesse caratteristiche</th>\n",
       "      <th>tutti i giorni - valori in migliaia</th>\n",
       "      <th>una volta a settimana  - per 100 persone con le stesse caratteristiche</th>\n",
       "      <th>una volta a settimana  - valori in migliaia</th>\n",
       "    </tr>\n",
       "    <tr>\n",
       "      <th>Seleziona periodo</th>\n",
       "      <th>Territorio</th>\n",
       "      <th></th>\n",
       "      <th></th>\n",
       "      <th></th>\n",
       "      <th></th>\n",
       "      <th></th>\n",
       "      <th></th>\n",
       "      <th></th>\n",
       "      <th></th>\n",
       "      <th></th>\n",
       "      <th></th>\n",
       "      <th></th>\n",
       "      <th></th>\n",
       "    </tr>\n",
       "  </thead>\n",
       "  <tbody>\n",
       "    <tr>\n",
       "      <th rowspan=\"5\" valign=\"top\">2003</th>\n",
       "      <th>Abruzzo</th>\n",
       "      <td>28.1</td>\n",
       "      <td>312.0</td>\n",
       "      <td>21.8</td>\n",
       "      <td>243.0</td>\n",
       "      <td>8.6</td>\n",
       "      <td>96.0</td>\n",
       "      <td>6.4</td>\n",
       "      <td>71.0</td>\n",
       "      <td>29.0</td>\n",
       "      <td>323.0</td>\n",
       "      <td>4.2</td>\n",
       "      <td>47.0</td>\n",
       "    </tr>\n",
       "    <tr>\n",
       "      <th>Basilicata</th>\n",
       "      <td>35.1</td>\n",
       "      <td>179.0</td>\n",
       "      <td>17.2</td>\n",
       "      <td>88.0</td>\n",
       "      <td>9.1</td>\n",
       "      <td>46.0</td>\n",
       "      <td>9.8</td>\n",
       "      <td>50.0</td>\n",
       "      <td>24.2</td>\n",
       "      <td>124.0</td>\n",
       "      <td>3.1</td>\n",
       "      <td>16.0</td>\n",
       "    </tr>\n",
       "    <tr>\n",
       "      <th>Bolzano / Bozen</th>\n",
       "      <td>14.3</td>\n",
       "      <td>56.0</td>\n",
       "      <td>22.1</td>\n",
       "      <td>86.0</td>\n",
       "      <td>10.5</td>\n",
       "      <td>41.0</td>\n",
       "      <td>10.4</td>\n",
       "      <td>41.0</td>\n",
       "      <td>32.4</td>\n",
       "      <td>126.0</td>\n",
       "      <td>8.0</td>\n",
       "      <td>31.0</td>\n",
       "    </tr>\n",
       "    <tr>\n",
       "      <th>Calabria</th>\n",
       "      <td>39.6</td>\n",
       "      <td>676.0</td>\n",
       "      <td>16.5</td>\n",
       "      <td>281.0</td>\n",
       "      <td>7.5</td>\n",
       "      <td>128.0</td>\n",
       "      <td>7.2</td>\n",
       "      <td>123.0</td>\n",
       "      <td>24.7</td>\n",
       "      <td>422.0</td>\n",
       "      <td>2.5</td>\n",
       "      <td>43.0</td>\n",
       "    </tr>\n",
       "    <tr>\n",
       "      <th>Campania</th>\n",
       "      <td>36.0</td>\n",
       "      <td>1716.0</td>\n",
       "      <td>21.9</td>\n",
       "      <td>1042.0</td>\n",
       "      <td>8.4</td>\n",
       "      <td>403.0</td>\n",
       "      <td>7.9</td>\n",
       "      <td>378.0</td>\n",
       "      <td>20.5</td>\n",
       "      <td>978.0</td>\n",
       "      <td>3.2</td>\n",
       "      <td>153.0</td>\n",
       "    </tr>\n",
       "  </tbody>\n",
       "</table>\n",
       "</div>"
      ],
      "text/plain": [
       "Tipo dato                          mai - per 100 persone con le stesse caratteristiche  \\\n",
       "Seleziona periodo Territorio                                                             \n",
       "2003              Abruzzo                                                       28.1     \n",
       "                  Basilicata                                                    35.1     \n",
       "                  Bolzano / Bozen                                               14.3     \n",
       "                  Calabria                                                      39.6     \n",
       "                  Campania                                                      36.0     \n",
       "\n",
       "Tipo dato                          mai - valori in migliaia  \\\n",
       "Seleziona periodo Territorio                                  \n",
       "2003              Abruzzo                             312.0   \n",
       "                  Basilicata                          179.0   \n",
       "                  Bolzano / Bozen                      56.0   \n",
       "                  Calabria                            676.0   \n",
       "                  Campania                           1716.0   \n",
       "\n",
       "Tipo dato                          qualche volta a settimana - per 100 persone con le stesse caratteristiche  \\\n",
       "Seleziona periodo Territorio                                                                                   \n",
       "2003              Abruzzo                                                       21.8                           \n",
       "                  Basilicata                                                    17.2                           \n",
       "                  Bolzano / Bozen                                               22.1                           \n",
       "                  Calabria                                                      16.5                           \n",
       "                  Campania                                                      21.9                           \n",
       "\n",
       "Tipo dato                          qualche volta a settimana - valori in migliaia  \\\n",
       "Seleziona periodo Territorio                                                        \n",
       "2003              Abruzzo                                                   243.0   \n",
       "                  Basilicata                                                 88.0   \n",
       "                  Bolzano / Bozen                                            86.0   \n",
       "                  Calabria                                                  281.0   \n",
       "                  Campania                                                 1042.0   \n",
       "\n",
       "Tipo dato                          qualche volta al mese - per 100 persone con le stesse caratteristiche  \\\n",
       "Seleziona periodo Territorio                                                                               \n",
       "2003              Abruzzo                                                        8.6                       \n",
       "                  Basilicata                                                     9.1                       \n",
       "                  Bolzano / Bozen                                               10.5                       \n",
       "                  Calabria                                                       7.5                       \n",
       "                  Campania                                                       8.4                       \n",
       "\n",
       "Tipo dato                          qualche volta al mese - valori in migliaia  \\\n",
       "Seleziona periodo Territorio                                                    \n",
       "2003              Abruzzo                                                96.0   \n",
       "                  Basilicata                                             46.0   \n",
       "                  Bolzano / Bozen                                        41.0   \n",
       "                  Calabria                                              128.0   \n",
       "                  Campania                                              403.0   \n",
       "\n",
       "Tipo dato                          qualche volta all'anno - per 100 persone con le stesse caratteristiche  \\\n",
       "Seleziona periodo Territorio                                                                                \n",
       "2003              Abruzzo                                                        6.4                        \n",
       "                  Basilicata                                                     9.8                        \n",
       "                  Bolzano / Bozen                                               10.4                        \n",
       "                  Calabria                                                       7.2                        \n",
       "                  Campania                                                       7.9                        \n",
       "\n",
       "Tipo dato                          qualche volta all'anno - valori in migliaia  \\\n",
       "Seleziona periodo Territorio                                                     \n",
       "2003              Abruzzo                                                 71.0   \n",
       "                  Basilicata                                              50.0   \n",
       "                  Bolzano / Bozen                                         41.0   \n",
       "                  Calabria                                               123.0   \n",
       "                  Campania                                               378.0   \n",
       "\n",
       "Tipo dato                          tutti i giorni - per 100 persone con le stesse caratteristiche  \\\n",
       "Seleziona periodo Territorio                                                                        \n",
       "2003              Abruzzo                                                       29.0                \n",
       "                  Basilicata                                                    24.2                \n",
       "                  Bolzano / Bozen                                               32.4                \n",
       "                  Calabria                                                      24.7                \n",
       "                  Campania                                                      20.5                \n",
       "\n",
       "Tipo dato                          tutti i giorni - valori in migliaia  \\\n",
       "Seleziona periodo Territorio                                             \n",
       "2003              Abruzzo                                        323.0   \n",
       "                  Basilicata                                     124.0   \n",
       "                  Bolzano / Bozen                                126.0   \n",
       "                  Calabria                                       422.0   \n",
       "                  Campania                                       978.0   \n",
       "\n",
       "Tipo dato                          una volta a settimana  - per 100 persone con le stesse caratteristiche  \\\n",
       "Seleziona periodo Territorio                                                                                \n",
       "2003              Abruzzo                                                        4.2                        \n",
       "                  Basilicata                                                     3.1                        \n",
       "                  Bolzano / Bozen                                                8.0                        \n",
       "                  Calabria                                                       2.5                        \n",
       "                  Campania                                                       3.2                        \n",
       "\n",
       "Tipo dato                          una volta a settimana  - valori in migliaia  \n",
       "Seleziona periodo Territorio                                                    \n",
       "2003              Abruzzo                                                 47.0  \n",
       "                  Basilicata                                              16.0  \n",
       "                  Bolzano / Bozen                                         31.0  \n",
       "                  Calabria                                                43.0  \n",
       "                  Campania                                               153.0  "
      ]
     },
     "execution_count": 47,
     "metadata": {},
     "output_type": "execute_result"
    }
   ],
   "source": [
    "political_information.head()"
   ]
  },
  {
   "cell_type": "code",
   "execution_count": 49,
   "metadata": {},
   "outputs": [],
   "source": [
    "# The the features with two different scales\n",
    "feature_scale1 = [i for i in political_information.columns.tolist() if i.split()[-1] == \"migliaia\"]\n",
    "feature_scale2 = [i for i in political_information.columns.tolist() if i not in feature_scale1]"
   ]
  },
  {
   "cell_type": "code",
   "execution_count": 50,
   "metadata": {},
   "outputs": [],
   "source": [
    "bdf.relation_plot_time_variant(political_information, feature_scale1, resident_foreigners_norm, zones_data, 45, \"Political Information\", palette, True, \"Plots/stock_vs_political_info1_\")"
   ]
  },
  {
   "cell_type": "code",
   "execution_count": 51,
   "metadata": {},
   "outputs": [],
   "source": [
    "bdf.relation_plot_time_variant(political_information, feature_scale2, resident_foreigners_norm, zones_data, 45, \"Political Information\", palette, True, \"Plots/stock_vs_political_info2_\")"
   ]
  },
  {
   "cell_type": "markdown",
   "metadata": {},
   "source": [
    "### Consumption Expenditure (ECoicop)"
   ]
  },
  {
   "cell_type": "code",
   "execution_count": 52,
   "metadata": {},
   "outputs": [],
   "source": [
    "consumption_expenditure = pd.read_table(\"/home/sara/Documents/Immigration/Data_not_git/Prov_info/Consumption expenditure/DCCV_SPEMEFAM_Data_a2f1960e-bec3-489b-8648-900273d1fc5f.csv\", sep = \"\\t\")"
   ]
  },
  {
   "cell_type": "code",
   "execution_count": 53,
   "metadata": {},
   "outputs": [
    {
     "name": "stdout",
     "output_type": "stream",
     "text": [
      "Abitudine di spesa {'tutte le voci'}\n",
      "Ampiezza familiare {'totale'}\n",
      "Condizione professionale della persona di riferimento {'tutte le voci'}\n",
      "Gruppo di spesa {'tutte le voci'}\n",
      "Quantili di spesa totale equivalente {'tutte le voci'}\n",
      "Tipo dato {'spesa media mensile familiare (in euro correnti)'}\n",
      "Tipologia familiare {'totale famiglie'}\n",
      "Titolo di studio più elevato conseguito dalla persona di riferimento {'totale'}\n"
     ]
    }
   ],
   "source": [
    "consumption_expenditure = bdf.re_ordering_df(consumption_expenditure)\n",
    "bdf.drop_useless(consumption_expenditure)"
   ]
  },
  {
   "cell_type": "code",
   "execution_count": 54,
   "metadata": {},
   "outputs": [],
   "source": [
    "consumption_expenditure = consumption_expenditure.replace(['Provincia Autonoma Bolzano / Bozen', 'Provincia Autonoma Trento'], ['Bolzano / Bozen', 'Trento'])"
   ]
  },
  {
   "cell_type": "code",
   "execution_count": 55,
   "metadata": {},
   "outputs": [],
   "source": [
    "consumption_expenditure = bdf.filtering(consumption_expenditure, \"Territorio\", interest_territories)\n",
    "consumption_expenditure = bdf.filtering(consumption_expenditure, \"Seleziona periodo\", years)"
   ]
  },
  {
   "cell_type": "code",
   "execution_count": 56,
   "metadata": {},
   "outputs": [],
   "source": [
    "consumption_expenditure = bdf.pivot(consumption_expenditure, \"Coicop\", \"0  Flags\")"
   ]
  },
  {
   "cell_type": "code",
   "execution_count": 57,
   "metadata": {},
   "outputs": [],
   "source": [
    "bdf.del_missing(consumption_expenditure)"
   ]
  },
  {
   "cell_type": "code",
   "execution_count": 77,
   "metadata": {},
   "outputs": [
    {
     "name": "stdout",
     "output_type": "stream",
     "text": [
      "[2017]\n",
      "[]\n"
     ]
    }
   ],
   "source": [
    "bdf.check_missing_index(consumption_expenditure, years, places_to_check)"
   ]
  },
  {
   "cell_type": "code",
   "execution_count": 59,
   "metadata": {},
   "outputs": [],
   "source": [
    "bdf.check_missing(consumption_expenditure)"
   ]
  },
  {
   "cell_type": "code",
   "execution_count": 70,
   "metadata": {},
   "outputs": [],
   "source": [
    "consumption_expenditure.columns = [i.split(\"-- \")[-1] for i in consumption_expenditure.columns.tolist()]"
   ]
  },
  {
   "cell_type": "code",
   "execution_count": 72,
   "metadata": {},
   "outputs": [
    {
     "data": {
      "text/html": [
       "<div>\n",
       "<style>\n",
       "    .dataframe thead tr:only-child th {\n",
       "        text-align: right;\n",
       "    }\n",
       "\n",
       "    .dataframe thead th {\n",
       "        text-align: left;\n",
       "    }\n",
       "\n",
       "    .dataframe tbody tr th {\n",
       "        vertical-align: top;\n",
       "    }\n",
       "</style>\n",
       "<table border=\"1\" class=\"dataframe\">\n",
       "  <thead>\n",
       "    <tr style=\"text-align: right;\">\n",
       "      <th></th>\n",
       "      <th></th>\n",
       "      <th>abbigliamento e calzature</th>\n",
       "      <th>abitazione, acqua, elettricità, gas e altri combustibili</th>\n",
       "      <th>altri beni e servizi</th>\n",
       "      <th>bevande alcoliche e tabacchi</th>\n",
       "      <th>comunicazioni</th>\n",
       "      <th>istruzione</th>\n",
       "      <th>mobili, articoli e servizi per la casa</th>\n",
       "      <th>prodotti alimentari e bevande analcoliche</th>\n",
       "      <th>ricreazione, spettacoli e cultura</th>\n",
       "      <th>servizi ricettivi e di ristorazione</th>\n",
       "      <th>servizi sanitari e spese per la salute</th>\n",
       "      <th>trasporti</th>\n",
       "      <th>non alimentari</th>\n",
       "      <th>totale</th>\n",
       "    </tr>\n",
       "    <tr>\n",
       "      <th>Seleziona periodo</th>\n",
       "      <th>Territorio</th>\n",
       "      <th></th>\n",
       "      <th></th>\n",
       "      <th></th>\n",
       "      <th></th>\n",
       "      <th></th>\n",
       "      <th></th>\n",
       "      <th></th>\n",
       "      <th></th>\n",
       "      <th></th>\n",
       "      <th></th>\n",
       "      <th></th>\n",
       "      <th></th>\n",
       "      <th></th>\n",
       "      <th></th>\n",
       "    </tr>\n",
       "  </thead>\n",
       "  <tbody>\n",
       "    <tr>\n",
       "      <th rowspan=\"5\" valign=\"top\">2003</th>\n",
       "      <th>Abruzzo</th>\n",
       "      <td>193.22</td>\n",
       "      <td>612.51</td>\n",
       "      <td>179.83</td>\n",
       "      <td>34.92</td>\n",
       "      <td>73.74</td>\n",
       "      <td>10.15</td>\n",
       "      <td>98.09</td>\n",
       "      <td>398.15</td>\n",
       "      <td>109.47</td>\n",
       "      <td>67.26</td>\n",
       "      <td>110.62</td>\n",
       "      <td>247.23</td>\n",
       "      <td>1737.04</td>\n",
       "      <td>2135.19</td>\n",
       "    </tr>\n",
       "    <tr>\n",
       "      <th>Basilicata</th>\n",
       "      <td>145.80</td>\n",
       "      <td>492.74</td>\n",
       "      <td>114.43</td>\n",
       "      <td>41.08</td>\n",
       "      <td>68.17</td>\n",
       "      <td>2.99</td>\n",
       "      <td>124.78</td>\n",
       "      <td>431.02</td>\n",
       "      <td>69.17</td>\n",
       "      <td>67.33</td>\n",
       "      <td>57.77</td>\n",
       "      <td>232.00</td>\n",
       "      <td>1416.26</td>\n",
       "      <td>1847.28</td>\n",
       "    </tr>\n",
       "    <tr>\n",
       "      <th>Bolzano / Bozen</th>\n",
       "      <td>136.33</td>\n",
       "      <td>882.15</td>\n",
       "      <td>239.99</td>\n",
       "      <td>39.37</td>\n",
       "      <td>96.83</td>\n",
       "      <td>5.59</td>\n",
       "      <td>126.14</td>\n",
       "      <td>476.40</td>\n",
       "      <td>187.37</td>\n",
       "      <td>190.64</td>\n",
       "      <td>149.38</td>\n",
       "      <td>257.18</td>\n",
       "      <td>2310.97</td>\n",
       "      <td>2787.37</td>\n",
       "    </tr>\n",
       "    <tr>\n",
       "      <th>Calabria</th>\n",
       "      <td>136.19</td>\n",
       "      <td>472.10</td>\n",
       "      <td>178.15</td>\n",
       "      <td>39.66</td>\n",
       "      <td>91.37</td>\n",
       "      <td>4.35</td>\n",
       "      <td>133.62</td>\n",
       "      <td>443.22</td>\n",
       "      <td>102.90</td>\n",
       "      <td>58.35</td>\n",
       "      <td>92.99</td>\n",
       "      <td>213.06</td>\n",
       "      <td>1522.74</td>\n",
       "      <td>1965.96</td>\n",
       "    </tr>\n",
       "    <tr>\n",
       "      <th>Campania</th>\n",
       "      <td>154.93</td>\n",
       "      <td>582.38</td>\n",
       "      <td>135.91</td>\n",
       "      <td>45.55</td>\n",
       "      <td>71.40</td>\n",
       "      <td>9.06</td>\n",
       "      <td>125.04</td>\n",
       "      <td>456.92</td>\n",
       "      <td>136.09</td>\n",
       "      <td>71.27</td>\n",
       "      <td>75.29</td>\n",
       "      <td>164.28</td>\n",
       "      <td>1571.20</td>\n",
       "      <td>2028.12</td>\n",
       "    </tr>\n",
       "  </tbody>\n",
       "</table>\n",
       "</div>"
      ],
      "text/plain": [
       "                                   abbigliamento e calzature  \\\n",
       "Seleziona periodo Territorio                                   \n",
       "2003              Abruzzo                             193.22   \n",
       "                  Basilicata                          145.80   \n",
       "                  Bolzano / Bozen                     136.33   \n",
       "                  Calabria                            136.19   \n",
       "                  Campania                            154.93   \n",
       "\n",
       "                                   abitazione, acqua, elettricità, gas e altri combustibili  \\\n",
       "Seleziona periodo Territorio                                                                  \n",
       "2003              Abruzzo                                                     612.51          \n",
       "                  Basilicata                                                  492.74          \n",
       "                  Bolzano / Bozen                                             882.15          \n",
       "                  Calabria                                                    472.10          \n",
       "                  Campania                                                    582.38          \n",
       "\n",
       "                                   altri beni e servizi  \\\n",
       "Seleziona periodo Territorio                              \n",
       "2003              Abruzzo                        179.83   \n",
       "                  Basilicata                     114.43   \n",
       "                  Bolzano / Bozen                239.99   \n",
       "                  Calabria                       178.15   \n",
       "                  Campania                       135.91   \n",
       "\n",
       "                                   bevande alcoliche e tabacchi  \\\n",
       "Seleziona periodo Territorio                                      \n",
       "2003              Abruzzo                                 34.92   \n",
       "                  Basilicata                              41.08   \n",
       "                  Bolzano / Bozen                         39.37   \n",
       "                  Calabria                                39.66   \n",
       "                  Campania                                45.55   \n",
       "\n",
       "                                   comunicazioni  istruzione  \\\n",
       "Seleziona periodo Territorio                                   \n",
       "2003              Abruzzo                  73.74       10.15   \n",
       "                  Basilicata               68.17        2.99   \n",
       "                  Bolzano / Bozen          96.83        5.59   \n",
       "                  Calabria                 91.37        4.35   \n",
       "                  Campania                 71.40        9.06   \n",
       "\n",
       "                                   mobili, articoli e servizi per la casa  \\\n",
       "Seleziona periodo Territorio                                                \n",
       "2003              Abruzzo                                           98.09   \n",
       "                  Basilicata                                       124.78   \n",
       "                  Bolzano / Bozen                                  126.14   \n",
       "                  Calabria                                         133.62   \n",
       "                  Campania                                         125.04   \n",
       "\n",
       "                                   prodotti alimentari e bevande analcoliche  \\\n",
       "Seleziona periodo Territorio                                                   \n",
       "2003              Abruzzo                                             398.15   \n",
       "                  Basilicata                                          431.02   \n",
       "                  Bolzano / Bozen                                     476.40   \n",
       "                  Calabria                                            443.22   \n",
       "                  Campania                                            456.92   \n",
       "\n",
       "                                   ricreazione, spettacoli e cultura  \\\n",
       "Seleziona periodo Territorio                                           \n",
       "2003              Abruzzo                                     109.47   \n",
       "                  Basilicata                                   69.17   \n",
       "                  Bolzano / Bozen                             187.37   \n",
       "                  Calabria                                    102.90   \n",
       "                  Campania                                    136.09   \n",
       "\n",
       "                                   servizi ricettivi e di ristorazione  \\\n",
       "Seleziona periodo Territorio                                             \n",
       "2003              Abruzzo                                        67.26   \n",
       "                  Basilicata                                     67.33   \n",
       "                  Bolzano / Bozen                               190.64   \n",
       "                  Calabria                                       58.35   \n",
       "                  Campania                                       71.27   \n",
       "\n",
       "                                   servizi sanitari e spese per la salute  \\\n",
       "Seleziona periodo Territorio                                                \n",
       "2003              Abruzzo                                          110.62   \n",
       "                  Basilicata                                        57.77   \n",
       "                  Bolzano / Bozen                                  149.38   \n",
       "                  Calabria                                          92.99   \n",
       "                  Campania                                          75.29   \n",
       "\n",
       "                                   trasporti  non alimentari   totale  \n",
       "Seleziona periodo Territorio                                           \n",
       "2003              Abruzzo             247.23         1737.04  2135.19  \n",
       "                  Basilicata          232.00         1416.26  1847.28  \n",
       "                  Bolzano / Bozen     257.18         2310.97  2787.37  \n",
       "                  Calabria            213.06         1522.74  1965.96  \n",
       "                  Campania            164.28         1571.20  2028.12  "
      ]
     },
     "execution_count": 72,
     "metadata": {},
     "output_type": "execute_result"
    }
   ],
   "source": [
    "consumption_expenditure.head()"
   ]
  },
  {
   "cell_type": "code",
   "execution_count": 74,
   "metadata": {
    "scrolled": true
   },
   "outputs": [
    {
     "name": "stderr",
     "output_type": "stream",
     "text": [
      "/home/sara/myenv/lib64/python3.6/site-packages/matplotlib/cbook/deprecation.py:106: MatplotlibDeprecationWarning: Adding an axes using the same arguments as a previous axes currently reuses the earlier instance.  In a future version, a new instance will always be created and returned.  Meanwhile, this warning can be suppressed, and the future behavior ensured, by passing a unique label to each axes instance.\n",
      "  warnings.warn(message, mplDeprecation, stacklevel=1)\n"
     ]
    },
    {
     "ename": "KeyError",
     "evalue": "'the label [Nord-est] is not in the [index]'",
     "output_type": "error",
     "traceback": [
      "\u001b[0;31m---------------------------------------------------------------------------\u001b[0m",
      "\u001b[0;31mKeyError\u001b[0m                                  Traceback (most recent call last)",
      "\u001b[0;32m~/myenv/lib64/python3.6/site-packages/pandas/core/indexing.py\u001b[0m in \u001b[0;36m_has_valid_type\u001b[0;34m(self, key, axis)\u001b[0m\n\u001b[1;32m   1433\u001b[0m                 \u001b[0;32mif\u001b[0m \u001b[0;32mnot\u001b[0m \u001b[0max\u001b[0m\u001b[0;34m.\u001b[0m\u001b[0mcontains\u001b[0m\u001b[0;34m(\u001b[0m\u001b[0mkey\u001b[0m\u001b[0;34m)\u001b[0m\u001b[0;34m:\u001b[0m\u001b[0;34m\u001b[0m\u001b[0m\n\u001b[0;32m-> 1434\u001b[0;31m                     \u001b[0merror\u001b[0m\u001b[0;34m(\u001b[0m\u001b[0;34m)\u001b[0m\u001b[0;34m\u001b[0m\u001b[0m\n\u001b[0m\u001b[1;32m   1435\u001b[0m             \u001b[0;32mexcept\u001b[0m \u001b[0mTypeError\u001b[0m \u001b[0;32mas\u001b[0m \u001b[0me\u001b[0m\u001b[0;34m:\u001b[0m\u001b[0;34m\u001b[0m\u001b[0m\n",
      "\u001b[0;32m~/myenv/lib64/python3.6/site-packages/pandas/core/indexing.py\u001b[0m in \u001b[0;36merror\u001b[0;34m()\u001b[0m\n\u001b[1;32m   1428\u001b[0m                 raise KeyError(\"the label [%s] is not in the [%s]\" %\n\u001b[0;32m-> 1429\u001b[0;31m                                (key, self.obj._get_axis_name(axis)))\n\u001b[0m\u001b[1;32m   1430\u001b[0m \u001b[0;34m\u001b[0m\u001b[0m\n",
      "\u001b[0;31mKeyError\u001b[0m: 'the label [Nord-est] is not in the [index]'",
      "\nDuring handling of the above exception, another exception occurred:\n",
      "\u001b[0;31mKeyError\u001b[0m                                  Traceback (most recent call last)",
      "\u001b[0;32m<ipython-input-74-863096eb6382>\u001b[0m in \u001b[0;36m<module>\u001b[0;34m()\u001b[0m\n\u001b[0;32m----> 1\u001b[0;31m \u001b[0mbdf\u001b[0m\u001b[0;34m.\u001b[0m\u001b[0mrelation_plot_time_variant\u001b[0m\u001b[0;34m(\u001b[0m\u001b[0mconsumption_expenditure\u001b[0m\u001b[0;34m,\u001b[0m \u001b[0mconsumption_expenditure\u001b[0m\u001b[0;34m.\u001b[0m\u001b[0mcolumns\u001b[0m\u001b[0;34m.\u001b[0m\u001b[0mtolist\u001b[0m\u001b[0;34m(\u001b[0m\u001b[0;34m)\u001b[0m\u001b[0;34m,\u001b[0m \u001b[0mresident_foreigners_norm\u001b[0m\u001b[0;34m,\u001b[0m \u001b[0mzones_data\u001b[0m\u001b[0;34m,\u001b[0m \u001b[0;36m45\u001b[0m\u001b[0;34m,\u001b[0m \u001b[0;34m\"Consumption Expenditure\"\u001b[0m\u001b[0;34m,\u001b[0m \u001b[0mpalette\u001b[0m\u001b[0;34m,\u001b[0m \u001b[0;32mTrue\u001b[0m\u001b[0;34m,\u001b[0m \u001b[0;34m\"Plots/stock_vs_consumption_expend_\"\u001b[0m\u001b[0;34m)\u001b[0m\u001b[0;34m\u001b[0m\u001b[0m\n\u001b[0m",
      "\u001b[0;32m~/Documents/Immigration/Shared_models/build_data_functions.py\u001b[0m in \u001b[0;36mrelation_plot_time_variant\u001b[0;34m(data_, cols, y, zones_data, rot, title, palette, save, path)\u001b[0m\n\u001b[1;32m    217\u001b[0m     \u001b[0mfig\u001b[0m \u001b[0;34m=\u001b[0m \u001b[0mplt\u001b[0m\u001b[0;34m.\u001b[0m\u001b[0mfigure\u001b[0m\u001b[0;34m(\u001b[0m\u001b[0;36m1\u001b[0m\u001b[0;34m,\u001b[0m \u001b[0mfigsize\u001b[0m\u001b[0;34m=\u001b[0m\u001b[0;34m(\u001b[0m\u001b[0;36m15\u001b[0m\u001b[0;34m,\u001b[0m\u001b[0;36m10\u001b[0m\u001b[0;34m)\u001b[0m\u001b[0;34m)\u001b[0m\u001b[0;34m\u001b[0m\u001b[0m\n\u001b[1;32m    218\u001b[0m \u001b[0;34m\u001b[0m\u001b[0m\n\u001b[0;32m--> 219\u001b[0;31m     \u001b[0mrelation_plot_time_variant_intern_function\u001b[0m\u001b[0;34m(\u001b[0m\u001b[0mdata_\u001b[0m\u001b[0;34m,\u001b[0m \u001b[0mterritories\u001b[0m\u001b[0;34m,\u001b[0m \u001b[0mtime_idx\u001b[0m\u001b[0;34m,\u001b[0m \u001b[0mcols\u001b[0m\u001b[0;34m,\u001b[0m \u001b[0my_grouped\u001b[0m\u001b[0;34m,\u001b[0m \u001b[0mfig\u001b[0m\u001b[0;34m,\u001b[0m \u001b[0;36m231\u001b[0m\u001b[0;34m,\u001b[0m \u001b[0mrot\u001b[0m\u001b[0;34m,\u001b[0m \u001b[0mpalette\u001b[0m\u001b[0;34m,\u001b[0m \u001b[0;34m\"Immigrant Stock VS \"\u001b[0m\u001b[0;34m+\u001b[0m\u001b[0mtitle\u001b[0m\u001b[0;34m+\u001b[0m\u001b[0;34m\" in Italian Zones\"\u001b[0m\u001b[0;34m,\u001b[0m \u001b[0msave\u001b[0m\u001b[0;34m,\u001b[0m \u001b[0mpath\u001b[0m\u001b[0;34m+\u001b[0m\u001b[0;34m\"zones\"\u001b[0m\u001b[0;34m)\u001b[0m\u001b[0;34m\u001b[0m\u001b[0m\n\u001b[0m\u001b[1;32m    220\u001b[0m \u001b[0;34m\u001b[0m\u001b[0m\n\u001b[1;32m    221\u001b[0m     \u001b[0;31m# A single figure with 21+legend boxes is difficult to analyse. What to do? Figure for each zone.\u001b[0m\u001b[0;34m\u001b[0m\u001b[0;34m\u001b[0m\u001b[0m\n",
      "\u001b[0;32m~/Documents/Immigration/Shared_models/build_data_functions.py\u001b[0m in \u001b[0;36mrelation_plot_time_variant_intern_function\u001b[0;34m(data_, temp_territories, time_idx, cols, y, fig, plt_seed, rot, palette, title, save, path)\u001b[0m\n\u001b[1;32m    176\u001b[0m         \u001b[0max2\u001b[0m \u001b[0;34m=\u001b[0m \u001b[0max\u001b[0m\u001b[0;34m.\u001b[0m\u001b[0mtwinx\u001b[0m\u001b[0;34m(\u001b[0m\u001b[0;34m)\u001b[0m\u001b[0;34m\u001b[0m\u001b[0m\n\u001b[1;32m    177\u001b[0m         \u001b[0;32mfor\u001b[0m \u001b[0mc\u001b[0m \u001b[0;32min\u001b[0m \u001b[0mcols\u001b[0m\u001b[0;34m:\u001b[0m\u001b[0;34m\u001b[0m\u001b[0m\n\u001b[0;32m--> 178\u001b[0;31m             \u001b[0mx_i\u001b[0m \u001b[0;34m=\u001b[0m \u001b[0;34m[\u001b[0m\u001b[0mdata_\u001b[0m\u001b[0;34m.\u001b[0m\u001b[0mloc\u001b[0m\u001b[0;34m[\u001b[0m\u001b[0mt\u001b[0m\u001b[0;34m]\u001b[0m\u001b[0;34m.\u001b[0m\u001b[0mloc\u001b[0m\u001b[0;34m[\u001b[0m\u001b[0mr\u001b[0m\u001b[0;34m]\u001b[0m\u001b[0;34m[\u001b[0m\u001b[0mc\u001b[0m\u001b[0;34m]\u001b[0m \u001b[0;32mfor\u001b[0m \u001b[0mt\u001b[0m \u001b[0;32min\u001b[0m \u001b[0mtime_idx\u001b[0m\u001b[0;34m]\u001b[0m\u001b[0;34m\u001b[0m\u001b[0m\n\u001b[0m\u001b[1;32m    179\u001b[0m             \u001b[0;31m# Color - always +1 because the first color is for the real value (ax)\u001b[0m\u001b[0;34m\u001b[0m\u001b[0;34m\u001b[0m\u001b[0m\n\u001b[1;32m    180\u001b[0m             \u001b[0max2\u001b[0m \u001b[0;34m=\u001b[0m \u001b[0msns\u001b[0m\u001b[0;34m.\u001b[0m\u001b[0mpointplot\u001b[0m\u001b[0;34m(\u001b[0m\u001b[0my\u001b[0m \u001b[0;34m=\u001b[0m \u001b[0mx_i\u001b[0m\u001b[0;34m,\u001b[0m \u001b[0mx\u001b[0m \u001b[0;34m=\u001b[0m \u001b[0mtime_idx\u001b[0m\u001b[0;34m,\u001b[0m \u001b[0mcolor\u001b[0m \u001b[0;34m=\u001b[0m \u001b[0mpalette\u001b[0m\u001b[0;34m[\u001b[0m\u001b[0mcols\u001b[0m\u001b[0;34m.\u001b[0m\u001b[0mindex\u001b[0m\u001b[0;34m(\u001b[0m\u001b[0mc\u001b[0m\u001b[0;34m)\u001b[0m\u001b[0;34m+\u001b[0m\u001b[0;36m1\u001b[0m\u001b[0;34m]\u001b[0m\u001b[0;34m)\u001b[0m\u001b[0;34m\u001b[0m\u001b[0m\n",
      "\u001b[0;32m~/Documents/Immigration/Shared_models/build_data_functions.py\u001b[0m in \u001b[0;36m<listcomp>\u001b[0;34m(.0)\u001b[0m\n\u001b[1;32m    176\u001b[0m         \u001b[0max2\u001b[0m \u001b[0;34m=\u001b[0m \u001b[0max\u001b[0m\u001b[0;34m.\u001b[0m\u001b[0mtwinx\u001b[0m\u001b[0;34m(\u001b[0m\u001b[0;34m)\u001b[0m\u001b[0;34m\u001b[0m\u001b[0m\n\u001b[1;32m    177\u001b[0m         \u001b[0;32mfor\u001b[0m \u001b[0mc\u001b[0m \u001b[0;32min\u001b[0m \u001b[0mcols\u001b[0m\u001b[0;34m:\u001b[0m\u001b[0;34m\u001b[0m\u001b[0m\n\u001b[0;32m--> 178\u001b[0;31m             \u001b[0mx_i\u001b[0m \u001b[0;34m=\u001b[0m \u001b[0;34m[\u001b[0m\u001b[0mdata_\u001b[0m\u001b[0;34m.\u001b[0m\u001b[0mloc\u001b[0m\u001b[0;34m[\u001b[0m\u001b[0mt\u001b[0m\u001b[0;34m]\u001b[0m\u001b[0;34m.\u001b[0m\u001b[0mloc\u001b[0m\u001b[0;34m[\u001b[0m\u001b[0mr\u001b[0m\u001b[0;34m]\u001b[0m\u001b[0;34m[\u001b[0m\u001b[0mc\u001b[0m\u001b[0;34m]\u001b[0m \u001b[0;32mfor\u001b[0m \u001b[0mt\u001b[0m \u001b[0;32min\u001b[0m \u001b[0mtime_idx\u001b[0m\u001b[0;34m]\u001b[0m\u001b[0;34m\u001b[0m\u001b[0m\n\u001b[0m\u001b[1;32m    179\u001b[0m             \u001b[0;31m# Color - always +1 because the first color is for the real value (ax)\u001b[0m\u001b[0;34m\u001b[0m\u001b[0;34m\u001b[0m\u001b[0m\n\u001b[1;32m    180\u001b[0m             \u001b[0max2\u001b[0m \u001b[0;34m=\u001b[0m \u001b[0msns\u001b[0m\u001b[0;34m.\u001b[0m\u001b[0mpointplot\u001b[0m\u001b[0;34m(\u001b[0m\u001b[0my\u001b[0m \u001b[0;34m=\u001b[0m \u001b[0mx_i\u001b[0m\u001b[0;34m,\u001b[0m \u001b[0mx\u001b[0m \u001b[0;34m=\u001b[0m \u001b[0mtime_idx\u001b[0m\u001b[0;34m,\u001b[0m \u001b[0mcolor\u001b[0m \u001b[0;34m=\u001b[0m \u001b[0mpalette\u001b[0m\u001b[0;34m[\u001b[0m\u001b[0mcols\u001b[0m\u001b[0;34m.\u001b[0m\u001b[0mindex\u001b[0m\u001b[0;34m(\u001b[0m\u001b[0mc\u001b[0m\u001b[0;34m)\u001b[0m\u001b[0;34m+\u001b[0m\u001b[0;36m1\u001b[0m\u001b[0;34m]\u001b[0m\u001b[0;34m)\u001b[0m\u001b[0;34m\u001b[0m\u001b[0m\n",
      "\u001b[0;32m~/myenv/lib64/python3.6/site-packages/pandas/core/indexing.py\u001b[0m in \u001b[0;36m__getitem__\u001b[0;34m(self, key)\u001b[0m\n\u001b[1;32m   1326\u001b[0m         \u001b[0;32melse\u001b[0m\u001b[0;34m:\u001b[0m\u001b[0;34m\u001b[0m\u001b[0m\n\u001b[1;32m   1327\u001b[0m             \u001b[0mkey\u001b[0m \u001b[0;34m=\u001b[0m \u001b[0mcom\u001b[0m\u001b[0;34m.\u001b[0m\u001b[0m_apply_if_callable\u001b[0m\u001b[0;34m(\u001b[0m\u001b[0mkey\u001b[0m\u001b[0;34m,\u001b[0m \u001b[0mself\u001b[0m\u001b[0;34m.\u001b[0m\u001b[0mobj\u001b[0m\u001b[0;34m)\u001b[0m\u001b[0;34m\u001b[0m\u001b[0m\n\u001b[0;32m-> 1328\u001b[0;31m             \u001b[0;32mreturn\u001b[0m \u001b[0mself\u001b[0m\u001b[0;34m.\u001b[0m\u001b[0m_getitem_axis\u001b[0m\u001b[0;34m(\u001b[0m\u001b[0mkey\u001b[0m\u001b[0;34m,\u001b[0m \u001b[0maxis\u001b[0m\u001b[0;34m=\u001b[0m\u001b[0;36m0\u001b[0m\u001b[0;34m)\u001b[0m\u001b[0;34m\u001b[0m\u001b[0m\n\u001b[0m\u001b[1;32m   1329\u001b[0m \u001b[0;34m\u001b[0m\u001b[0m\n\u001b[1;32m   1330\u001b[0m     \u001b[0;32mdef\u001b[0m \u001b[0m_is_scalar_access\u001b[0m\u001b[0;34m(\u001b[0m\u001b[0mself\u001b[0m\u001b[0;34m,\u001b[0m \u001b[0mkey\u001b[0m\u001b[0;34m)\u001b[0m\u001b[0;34m:\u001b[0m\u001b[0;34m\u001b[0m\u001b[0m\n",
      "\u001b[0;32m~/myenv/lib64/python3.6/site-packages/pandas/core/indexing.py\u001b[0m in \u001b[0;36m_getitem_axis\u001b[0;34m(self, key, axis)\u001b[0m\n\u001b[1;32m   1549\u001b[0m \u001b[0;34m\u001b[0m\u001b[0m\n\u001b[1;32m   1550\u001b[0m         \u001b[0;31m# fall thru to straight lookup\u001b[0m\u001b[0;34m\u001b[0m\u001b[0;34m\u001b[0m\u001b[0m\n\u001b[0;32m-> 1551\u001b[0;31m         \u001b[0mself\u001b[0m\u001b[0;34m.\u001b[0m\u001b[0m_has_valid_type\u001b[0m\u001b[0;34m(\u001b[0m\u001b[0mkey\u001b[0m\u001b[0;34m,\u001b[0m \u001b[0maxis\u001b[0m\u001b[0;34m)\u001b[0m\u001b[0;34m\u001b[0m\u001b[0m\n\u001b[0m\u001b[1;32m   1552\u001b[0m         \u001b[0;32mreturn\u001b[0m \u001b[0mself\u001b[0m\u001b[0;34m.\u001b[0m\u001b[0m_get_label\u001b[0m\u001b[0;34m(\u001b[0m\u001b[0mkey\u001b[0m\u001b[0;34m,\u001b[0m \u001b[0maxis\u001b[0m\u001b[0;34m=\u001b[0m\u001b[0maxis\u001b[0m\u001b[0;34m)\u001b[0m\u001b[0;34m\u001b[0m\u001b[0m\n\u001b[1;32m   1553\u001b[0m \u001b[0;34m\u001b[0m\u001b[0m\n",
      "\u001b[0;32m~/myenv/lib64/python3.6/site-packages/pandas/core/indexing.py\u001b[0m in \u001b[0;36m_has_valid_type\u001b[0;34m(self, key, axis)\u001b[0m\n\u001b[1;32m   1440\u001b[0m                 \u001b[0;32mraise\u001b[0m\u001b[0;34m\u001b[0m\u001b[0m\n\u001b[1;32m   1441\u001b[0m             \u001b[0;32mexcept\u001b[0m\u001b[0;34m:\u001b[0m\u001b[0;34m\u001b[0m\u001b[0m\n\u001b[0;32m-> 1442\u001b[0;31m                 \u001b[0merror\u001b[0m\u001b[0;34m(\u001b[0m\u001b[0;34m)\u001b[0m\u001b[0;34m\u001b[0m\u001b[0m\n\u001b[0m\u001b[1;32m   1443\u001b[0m \u001b[0;34m\u001b[0m\u001b[0m\n\u001b[1;32m   1444\u001b[0m         \u001b[0;32mreturn\u001b[0m \u001b[0;32mTrue\u001b[0m\u001b[0;34m\u001b[0m\u001b[0m\n",
      "\u001b[0;32m~/myenv/lib64/python3.6/site-packages/pandas/core/indexing.py\u001b[0m in \u001b[0;36merror\u001b[0;34m()\u001b[0m\n\u001b[1;32m   1427\u001b[0m                                     \"key\")\n\u001b[1;32m   1428\u001b[0m                 raise KeyError(\"the label [%s] is not in the [%s]\" %\n\u001b[0;32m-> 1429\u001b[0;31m                                (key, self.obj._get_axis_name(axis)))\n\u001b[0m\u001b[1;32m   1430\u001b[0m \u001b[0;34m\u001b[0m\u001b[0m\n\u001b[1;32m   1431\u001b[0m             \u001b[0;32mtry\u001b[0m\u001b[0;34m:\u001b[0m\u001b[0;34m\u001b[0m\u001b[0m\n",
      "\u001b[0;31mKeyError\u001b[0m: 'the label [Nord-est] is not in the [index]'"
     ]
    }
   ],
   "source": [
    "bdf.relation_plot_time_variant(consumption_expenditure, consumption_expenditure.columns.tolist(), resident_foreigners_norm, zones_data, 45, \"Consumption Expenditure\", palette, True, \"Plots/stock_vs_consumption_expend_\")"
   ]
  },
  {
   "cell_type": "markdown",
   "metadata": {},
   "source": [
    "### Fertility Indicators"
   ]
  },
  {
   "cell_type": "code",
   "execution_count": 79,
   "metadata": {},
   "outputs": [],
   "source": [
    "fertility_rate = pd.read_table(\"/home/sara/Documents/Immigration/Data_not_git/Prov_info/Fertility  indicators/DCIS_FECONDITA1_Data_a2326888-5b5c-4549-b696-d187b4055c39.csv\", sep = \"\\t\")"
   ]
  },
  {
   "cell_type": "code",
   "execution_count": 80,
   "metadata": {},
   "outputs": [
    {
     "name": "stdout",
     "output_type": "stream",
     "text": [
      "Cittadinanza {'totale'}\n",
      "Età della madre {'totale'}\n"
     ]
    }
   ],
   "source": [
    "fertility_rate = bdf.re_ordering_df(fertility_rate)\n",
    "bdf.drop_useless(fertility_rate)"
   ]
  },
  {
   "cell_type": "code",
   "execution_count": 81,
   "metadata": {},
   "outputs": [],
   "source": [
    "fertility_rate = fertility_rate.replace(['Provincia Autonoma Bolzano / Bozen', 'Provincia Autonoma Trento'], ['Bolzano / Bozen', 'Trento'])"
   ]
  },
  {
   "cell_type": "code",
   "execution_count": 82,
   "metadata": {},
   "outputs": [],
   "source": [
    "fertility_rate = bdf.filtering(fertility_rate, \"Territorio\", interest_territories)\n",
    "fertility_rate = bdf.filtering(fertility_rate, \"Seleziona periodo\", years)\n",
    "#fertility_rate = filtering(fertility_rate, \"Tipo dato\", [\"tasso di fecondità totale\"])\n",
    "#del fertility_rate[\"Tipo dato\"]"
   ]
  },
  {
   "cell_type": "code",
   "execution_count": 83,
   "metadata": {},
   "outputs": [],
   "source": [
    "fertility_rate = bdf.pivot(fertility_rate, \"Tipo dato\", \"0  Flags\")"
   ]
  },
  {
   "cell_type": "code",
   "execution_count": 84,
   "metadata": {},
   "outputs": [],
   "source": [
    "bdf.del_missing(fertility_rate)"
   ]
  },
  {
   "cell_type": "code",
   "execution_count": 85,
   "metadata": {},
   "outputs": [
    {
     "name": "stdout",
     "output_type": "stream",
     "text": [
      "[2017]\n",
      "[]\n"
     ]
    }
   ],
   "source": [
    "bdf.check_missing_index(fertility_rate, years, interest_territories)"
   ]
  },
  {
   "cell_type": "code",
   "execution_count": 86,
   "metadata": {},
   "outputs": [],
   "source": [
    "bdf.check_missing(fertility_rate)"
   ]
  },
  {
   "cell_type": "code",
   "execution_count": 87,
   "metadata": {},
   "outputs": [
    {
     "data": {
      "text/html": [
       "<div>\n",
       "<style>\n",
       "    .dataframe thead tr:only-child th {\n",
       "        text-align: right;\n",
       "    }\n",
       "\n",
       "    .dataframe thead th {\n",
       "        text-align: left;\n",
       "    }\n",
       "\n",
       "    .dataframe tbody tr th {\n",
       "        vertical-align: top;\n",
       "    }\n",
       "</style>\n",
       "<table border=\"1\" class=\"dataframe\">\n",
       "  <thead>\n",
       "    <tr style=\"text-align: right;\">\n",
       "      <th></th>\n",
       "      <th>Tipo dato</th>\n",
       "      <th>età media dei padri alla nascita del figlio</th>\n",
       "      <th>età media delle madri al parto</th>\n",
       "      <th>tasso di fecondità totale</th>\n",
       "    </tr>\n",
       "    <tr>\n",
       "      <th>Seleziona periodo</th>\n",
       "      <th>Territorio</th>\n",
       "      <th></th>\n",
       "      <th></th>\n",
       "      <th></th>\n",
       "    </tr>\n",
       "  </thead>\n",
       "  <tbody>\n",
       "    <tr>\n",
       "      <th rowspan=\"5\" valign=\"top\">2003</th>\n",
       "      <th>Abruzzo</th>\n",
       "      <td>34.80</td>\n",
       "      <td>31.17</td>\n",
       "      <td>1.19</td>\n",
       "    </tr>\n",
       "    <tr>\n",
       "      <th>Agrigento</th>\n",
       "      <td>33.99</td>\n",
       "      <td>29.86</td>\n",
       "      <td>1.40</td>\n",
       "    </tr>\n",
       "    <tr>\n",
       "      <th>Alessandria</th>\n",
       "      <td>35.08</td>\n",
       "      <td>31.13</td>\n",
       "      <td>1.08</td>\n",
       "    </tr>\n",
       "    <tr>\n",
       "      <th>Ancona</th>\n",
       "      <td>34.77</td>\n",
       "      <td>30.93</td>\n",
       "      <td>1.20</td>\n",
       "    </tr>\n",
       "    <tr>\n",
       "      <th>Arezzo</th>\n",
       "      <td>34.59</td>\n",
       "      <td>30.94</td>\n",
       "      <td>1.17</td>\n",
       "    </tr>\n",
       "  </tbody>\n",
       "</table>\n",
       "</div>"
      ],
      "text/plain": [
       "Tipo dato                      età media dei padri alla nascita del figlio  \\\n",
       "Seleziona periodo Territorio                                                 \n",
       "2003              Abruzzo                                            34.80   \n",
       "                  Agrigento                                          33.99   \n",
       "                  Alessandria                                        35.08   \n",
       "                  Ancona                                             34.77   \n",
       "                  Arezzo                                             34.59   \n",
       "\n",
       "Tipo dato                      età media delle madri al parto  \\\n",
       "Seleziona periodo Territorio                                    \n",
       "2003              Abruzzo                               31.17   \n",
       "                  Agrigento                             29.86   \n",
       "                  Alessandria                           31.13   \n",
       "                  Ancona                                30.93   \n",
       "                  Arezzo                                30.94   \n",
       "\n",
       "Tipo dato                      tasso di fecondità totale  \n",
       "Seleziona periodo Territorio                              \n",
       "2003              Abruzzo                           1.19  \n",
       "                  Agrigento                         1.40  \n",
       "                  Alessandria                       1.08  \n",
       "                  Ancona                            1.20  \n",
       "                  Arezzo                            1.17  "
      ]
     },
     "execution_count": 87,
     "metadata": {},
     "output_type": "execute_result"
    }
   ],
   "source": [
    "fertility_rate.head()"
   ]
  },
  {
   "cell_type": "code",
   "execution_count": 88,
   "metadata": {},
   "outputs": [
    {
     "name": "stderr",
     "output_type": "stream",
     "text": [
      "/home/sara/myenv/lib64/python3.6/site-packages/matplotlib/cbook/deprecation.py:106: MatplotlibDeprecationWarning: Adding an axes using the same arguments as a previous axes currently reuses the earlier instance.  In a future version, a new instance will always be created and returned.  Meanwhile, this warning can be suppressed, and the future behavior ensured, by passing a unique label to each axes instance.\n",
      "  warnings.warn(message, mplDeprecation, stacklevel=1)\n"
     ]
    }
   ],
   "source": [
    "bdf.relation_plot_time_variant(fertility_rate, fertility_rate.columns.tolist(), resident_foreigners_norm, zones_data, 45, \"Fertility Rate\", palette, True, \"Plots/stock_vs_fertility_rate_\")\n"
   ]
  },
  {
   "cell_type": "markdown",
   "metadata": {},
   "source": [
    "### Net Income - Homogeneity of regional income"
   ]
  },
  {
   "cell_type": "code",
   "execution_count": 89,
   "metadata": {},
   "outputs": [],
   "source": [
    "homogeneity_net_income = pd.read_table(\"/home/sara/Documents/Immigration/Data_not_git/Prov_info/Homogeneity of regional income/DCCV_GINIREDD_Data_f031238d-d03b-414a-ad9d-5ea35513cb24.csv\", sep = \"\\t\")"
   ]
  },
  {
   "cell_type": "code",
   "execution_count": 90,
   "metadata": {},
   "outputs": [
    {
     "name": "stdout",
     "output_type": "stream",
     "text": [
      "Misura {'indice di gini'}\n",
      "Tipo dato {'omogeneità nella distribuzione del reddito netto familiare'}\n"
     ]
    }
   ],
   "source": [
    "homogeneity_net_income = bdf.re_ordering_df(homogeneity_net_income)\n",
    "bdf.drop_useless(homogeneity_net_income)"
   ]
  },
  {
   "cell_type": "code",
   "execution_count": 91,
   "metadata": {},
   "outputs": [],
   "source": [
    "homogeneity_net_income = homogeneity_net_income.replace(['Provincia Autonoma Bolzano / Bozen', 'Provincia Autonoma Trento'], ['Bolzano / Bozen', 'Trento'])"
   ]
  },
  {
   "cell_type": "code",
   "execution_count": 92,
   "metadata": {},
   "outputs": [],
   "source": [
    "homogeneity_net_income = bdf.filtering(homogeneity_net_income, \"Territorio\", interest_territories)\n",
    "homogeneity_net_income = bdf.filtering(homogeneity_net_income, \"Seleziona periodo\", years)"
   ]
  },
  {
   "cell_type": "code",
   "execution_count": 93,
   "metadata": {
    "scrolled": true
   },
   "outputs": [],
   "source": [
    "homogeneity_net_income = bdf.pivot(homogeneity_net_income, \"Presenza affitti imputati\", \"0  Flags\")"
   ]
  },
  {
   "cell_type": "code",
   "execution_count": 94,
   "metadata": {},
   "outputs": [],
   "source": [
    "bdf.del_missing(homogeneity_net_income)"
   ]
  },
  {
   "cell_type": "code",
   "execution_count": 95,
   "metadata": {},
   "outputs": [
    {
     "name": "stdout",
     "output_type": "stream",
     "text": [
      "[2016, 2017]\n",
      "[]\n"
     ]
    }
   ],
   "source": [
    "bdf.check_missing_index(homogeneity_net_income, years, places_to_check)"
   ]
  },
  {
   "cell_type": "code",
   "execution_count": 96,
   "metadata": {},
   "outputs": [],
   "source": [
    "bdf.check_missing(homogeneity_net_income)"
   ]
  },
  {
   "cell_type": "code",
   "execution_count": 97,
   "metadata": {},
   "outputs": [
    {
     "data": {
      "text/html": [
       "<div>\n",
       "<style>\n",
       "    .dataframe thead tr:only-child th {\n",
       "        text-align: right;\n",
       "    }\n",
       "\n",
       "    .dataframe thead th {\n",
       "        text-align: left;\n",
       "    }\n",
       "\n",
       "    .dataframe tbody tr th {\n",
       "        vertical-align: top;\n",
       "    }\n",
       "</style>\n",
       "<table border=\"1\" class=\"dataframe\">\n",
       "  <thead>\n",
       "    <tr style=\"text-align: right;\">\n",
       "      <th></th>\n",
       "      <th>Presenza affitti imputati</th>\n",
       "      <th>esclusi fitti imputati</th>\n",
       "      <th>inclusi fitti imputati</th>\n",
       "    </tr>\n",
       "    <tr>\n",
       "      <th>Seleziona periodo</th>\n",
       "      <th>Territorio</th>\n",
       "      <th></th>\n",
       "      <th></th>\n",
       "    </tr>\n",
       "  </thead>\n",
       "  <tbody>\n",
       "    <tr>\n",
       "      <th rowspan=\"5\" valign=\"top\">2003</th>\n",
       "      <th>Abruzzo</th>\n",
       "      <td>0.296</td>\n",
       "      <td>0.271</td>\n",
       "    </tr>\n",
       "    <tr>\n",
       "      <th>Basilicata</th>\n",
       "      <td>0.279</td>\n",
       "      <td>0.260</td>\n",
       "    </tr>\n",
       "    <tr>\n",
       "      <th>Bolzano / Bozen</th>\n",
       "      <td>0.326</td>\n",
       "      <td>0.292</td>\n",
       "    </tr>\n",
       "    <tr>\n",
       "      <th>Calabria</th>\n",
       "      <td>0.324</td>\n",
       "      <td>0.305</td>\n",
       "    </tr>\n",
       "    <tr>\n",
       "      <th>Campania</th>\n",
       "      <td>0.360</td>\n",
       "      <td>0.341</td>\n",
       "    </tr>\n",
       "  </tbody>\n",
       "</table>\n",
       "</div>"
      ],
      "text/plain": [
       "Presenza affitti imputati          esclusi fitti imputati  \\\n",
       "Seleziona periodo Territorio                                \n",
       "2003              Abruzzo                           0.296   \n",
       "                  Basilicata                        0.279   \n",
       "                  Bolzano / Bozen                   0.326   \n",
       "                  Calabria                          0.324   \n",
       "                  Campania                          0.360   \n",
       "\n",
       "Presenza affitti imputati          inclusi fitti imputati  \n",
       "Seleziona periodo Territorio                               \n",
       "2003              Abruzzo                           0.271  \n",
       "                  Basilicata                        0.260  \n",
       "                  Bolzano / Bozen                   0.292  \n",
       "                  Calabria                          0.305  \n",
       "                  Campania                          0.341  "
      ]
     },
     "execution_count": 97,
     "metadata": {},
     "output_type": "execute_result"
    }
   ],
   "source": [
    "homogeneity_net_income.head()"
   ]
  },
  {
   "cell_type": "code",
   "execution_count": 98,
   "metadata": {},
   "outputs": [],
   "source": [
    "bdf.relation_plot_time_variant(homogeneity_net_income, homogeneity_net_income.columns.tolist(), resident_foreigners_norm, zones_data, 45, \"Homogeneity Net Income\", palette, True, \"Plots/stock_vs_hom_net_income_\")"
   ]
  },
  {
   "cell_type": "markdown",
   "metadata": {},
   "source": [
    "### Housing costs"
   ]
  },
  {
   "cell_type": "code",
   "execution_count": 99,
   "metadata": {},
   "outputs": [],
   "source": [
    "housing_costs = pd.read_table(\"/home/sara/Documents/Immigration/Data_not_git/Prov_info/Housing costs/DCCV_ABITSPESA_Data_86e7f7b3-4f27-4d2a-bcda-94af693e24af.csv\", sep = \"\\t\")"
   ]
  },
  {
   "cell_type": "code",
   "execution_count": 100,
   "metadata": {},
   "outputs": [
    {
     "name": "stdout",
     "output_type": "stream",
     "text": [
      "Classe di età del principale percettore {'totale'}\n",
      "Condizione professionale prevalente nell anno del principale percettore {'totale'}\n",
      "Numero di anziani in famiglia {'totale'}\n",
      "Numero di componenti {'totale'}\n",
      "Numero di minori in famiglia {'totale'}\n",
      "Sesso del principale percettore {'totale'}\n",
      "Tipologia familiare {'totale'}\n",
      "Titolo di godimento dell abitazione {'totale'}\n",
      "Titolo di studio del principale percettore {'totale'}\n"
     ]
    }
   ],
   "source": [
    "housing_costs = bdf.re_ordering_df(housing_costs)\n",
    "bdf.drop_useless(housing_costs)"
   ]
  },
  {
   "cell_type": "code",
   "execution_count": 101,
   "metadata": {},
   "outputs": [],
   "source": [
    "housing_costs = housing_costs.replace(['Provincia Autonoma Bolzano / Bozen', 'Provincia Autonoma Trento'], ['Bolzano / Bozen', 'Trento'])"
   ]
  },
  {
   "cell_type": "code",
   "execution_count": 102,
   "metadata": {},
   "outputs": [],
   "source": [
    "housing_costs = bdf.filtering(housing_costs, \"Territorio\", interest_territories)\n",
    "housing_costs = bdf.filtering(housing_costs, \"Seleziona periodo\", years)"
   ]
  },
  {
   "cell_type": "code",
   "execution_count": 103,
   "metadata": {},
   "outputs": [],
   "source": [
    "housing_costs = bdf.pivot(housing_costs, \"Indicatore di spesa\", \"0  Flags\")"
   ]
  },
  {
   "cell_type": "code",
   "execution_count": 104,
   "metadata": {},
   "outputs": [],
   "source": [
    "bdf.del_missing(housing_costs)"
   ]
  },
  {
   "cell_type": "code",
   "execution_count": 105,
   "metadata": {},
   "outputs": [
    {
     "name": "stdout",
     "output_type": "stream",
     "text": [
      "[2003, 2017]\n",
      "[]\n"
     ]
    }
   ],
   "source": [
    "bdf.check_missing_index(housing_costs, years, places_to_check)"
   ]
  },
  {
   "cell_type": "code",
   "execution_count": 106,
   "metadata": {},
   "outputs": [],
   "source": [
    "bdf.check_missing(housing_costs)"
   ]
  },
  {
   "cell_type": "code",
   "execution_count": 107,
   "metadata": {},
   "outputs": [
    {
     "data": {
      "text/html": [
       "<div>\n",
       "<style>\n",
       "    .dataframe thead tr:only-child th {\n",
       "        text-align: right;\n",
       "    }\n",
       "\n",
       "    .dataframe thead th {\n",
       "        text-align: left;\n",
       "    }\n",
       "\n",
       "    .dataframe tbody tr th {\n",
       "        vertical-align: top;\n",
       "    }\n",
       "</style>\n",
       "<table border=\"1\" class=\"dataframe\">\n",
       "  <thead>\n",
       "    <tr style=\"text-align: right;\">\n",
       "      <th></th>\n",
       "      <th>Indicatore di spesa</th>\n",
       "      <th>spesa media mensile per abitazione (in euro)</th>\n",
       "      <th>spesa media mensile per abitazioni (per 100 euro di reddito medio mensile)</th>\n",
       "    </tr>\n",
       "    <tr>\n",
       "      <th>Seleziona periodo</th>\n",
       "      <th>Territorio</th>\n",
       "      <th></th>\n",
       "      <th></th>\n",
       "    </tr>\n",
       "  </thead>\n",
       "  <tbody>\n",
       "    <tr>\n",
       "      <th rowspan=\"5\" valign=\"top\">2004</th>\n",
       "      <th>Abruzzo</th>\n",
       "      <td>260.0</td>\n",
       "      <td>12.2</td>\n",
       "    </tr>\n",
       "    <tr>\n",
       "      <th>Basilicata</th>\n",
       "      <td>209.0</td>\n",
       "      <td>11.8</td>\n",
       "    </tr>\n",
       "    <tr>\n",
       "      <th>Bolzano / Bozen</th>\n",
       "      <td>318.0</td>\n",
       "      <td>12.0</td>\n",
       "    </tr>\n",
       "    <tr>\n",
       "      <th>Calabria</th>\n",
       "      <td>215.0</td>\n",
       "      <td>12.5</td>\n",
       "    </tr>\n",
       "    <tr>\n",
       "      <th>Campania</th>\n",
       "      <td>244.0</td>\n",
       "      <td>12.7</td>\n",
       "    </tr>\n",
       "  </tbody>\n",
       "</table>\n",
       "</div>"
      ],
      "text/plain": [
       "Indicatore di spesa                spesa media mensile per abitazione (in euro)  \\\n",
       "Seleziona periodo Territorio                                                      \n",
       "2004              Abruzzo                                                 260.0   \n",
       "                  Basilicata                                              209.0   \n",
       "                  Bolzano / Bozen                                         318.0   \n",
       "                  Calabria                                                215.0   \n",
       "                  Campania                                                244.0   \n",
       "\n",
       "Indicatore di spesa                spesa media mensile per abitazioni (per 100 euro di reddito medio mensile)  \n",
       "Seleziona periodo Territorio                                                                                   \n",
       "2004              Abruzzo                                                       12.2                           \n",
       "                  Basilicata                                                    11.8                           \n",
       "                  Bolzano / Bozen                                               12.0                           \n",
       "                  Calabria                                                      12.5                           \n",
       "                  Campania                                                      12.7                           "
      ]
     },
     "execution_count": 107,
     "metadata": {},
     "output_type": "execute_result"
    }
   ],
   "source": [
    "housing_costs.head()"
   ]
  },
  {
   "cell_type": "code",
   "execution_count": 114,
   "metadata": {},
   "outputs": [],
   "source": [
    "bdf.relation_plot_time_variant(housing_costs, [housing_costs.columns.tolist()[0]], resident_foreigners_norm, zones_data, 45, \"Housing Costs\", palette, True, \"Plots/stock_vs_housing_costs1_\")"
   ]
  },
  {
   "cell_type": "code",
   "execution_count": 115,
   "metadata": {},
   "outputs": [],
   "source": [
    "bdf.relation_plot_time_variant(housing_costs, [housing_costs.columns.tolist()[1]], resident_foreigners_norm, zones_data, 45, \"Housing Costs\", palette, True, \"Plots/stock_vs_housing_costs2_\")"
   ]
  },
  {
   "cell_type": "markdown",
   "metadata": {},
   "source": [
    "### Live Births"
   ]
  },
  {
   "cell_type": "code",
   "execution_count": 116,
   "metadata": {},
   "outputs": [],
   "source": [
    "live_births = pd.read_table(\"/home/sara/Documents/Immigration/Data_not_git/Prov_info/Live births/DCIS_NATI1_Data_fc109807-f48b-4e01-b9e7-81fddf031fbb.csv\", sep = \"\\t\")"
   ]
  },
  {
   "cell_type": "code",
   "execution_count": 117,
   "metadata": {
    "scrolled": true
   },
   "outputs": [
    {
     "name": "stdout",
     "output_type": "stream",
     "text": [
      "Anno di nascita della madre {'tutte le voci'}\n",
      "Area geografica di nascita {'tutte le voci'}\n",
      "Cittadinanza della madre {'totale'}\n",
      "Cittadinanza estera del nato {'Mondo'}\n",
      "Età del padre {'totale'}\n",
      "Età della madre {'totale'}\n",
      "Nati vivi all'interno del matrimonio {'totale'}\n",
      "Stato civile del padre {'totale'}\n",
      "Stato civile della madre {'totale'}\n",
      "Tipologia di coppia dei genitori {'tutte le voci'}\n"
     ]
    }
   ],
   "source": [
    "live_births = bdf.re_ordering_df(live_births)\n",
    "bdf.drop_useless(live_births)"
   ]
  },
  {
   "cell_type": "code",
   "execution_count": 118,
   "metadata": {},
   "outputs": [],
   "source": [
    "live_births = live_births.replace(['Provincia Autonoma Bolzano / Bozen', 'Provincia Autonoma Trento'], ['Bolzano / Bozen', 'Trento'])"
   ]
  },
  {
   "cell_type": "code",
   "execution_count": 119,
   "metadata": {
    "scrolled": true
   },
   "outputs": [],
   "source": [
    "live_births = bdf.filtering(live_births, \"Territorio di residenza\", interest_territories)\n",
    "live_births = bdf.filtering(live_births, \"Seleziona periodo\", years)"
   ]
  },
  {
   "cell_type": "code",
   "execution_count": 120,
   "metadata": {},
   "outputs": [],
   "source": [
    "live_births = bdf.pivot(live_births, \"Tipo dato\", \"0  Flags\")"
   ]
  },
  {
   "cell_type": "code",
   "execution_count": 81,
   "metadata": {},
   "outputs": [],
   "source": [
    "bdf.del_missing(live_births)"
   ]
  },
  {
   "cell_type": "code",
   "execution_count": 121,
   "metadata": {},
   "outputs": [
    {
     "name": "stdout",
     "output_type": "stream",
     "text": [
      "[2017]\n",
      "[]\n"
     ]
    }
   ],
   "source": [
    "bdf.check_missing_index(live_births, years, places_to_check)"
   ]
  },
  {
   "cell_type": "code",
   "execution_count": 122,
   "metadata": {},
   "outputs": [],
   "source": [
    "bdf.check_missing(live_births)"
   ]
  },
  {
   "cell_type": "code",
   "execution_count": 123,
   "metadata": {},
   "outputs": [
    {
     "data": {
      "text/html": [
       "<div>\n",
       "<style>\n",
       "    .dataframe thead tr:only-child th {\n",
       "        text-align: right;\n",
       "    }\n",
       "\n",
       "    .dataframe thead th {\n",
       "        text-align: left;\n",
       "    }\n",
       "\n",
       "    .dataframe tbody tr th {\n",
       "        vertical-align: top;\n",
       "    }\n",
       "</style>\n",
       "<table border=\"1\" class=\"dataframe\">\n",
       "  <thead>\n",
       "    <tr style=\"text-align: right;\">\n",
       "      <th></th>\n",
       "      <th>Tipo dato</th>\n",
       "      <th>nati vivi - dati corretti (110 province)</th>\n",
       "      <th>nati vivi - senza correzione (110 province)</th>\n",
       "    </tr>\n",
       "    <tr>\n",
       "      <th>Seleziona periodo</th>\n",
       "      <th>Territorio di residenza</th>\n",
       "      <th></th>\n",
       "      <th></th>\n",
       "    </tr>\n",
       "  </thead>\n",
       "  <tbody>\n",
       "    <tr>\n",
       "      <th rowspan=\"5\" valign=\"top\">2003</th>\n",
       "      <th>Abruzzo</th>\n",
       "      <td>10971</td>\n",
       "      <td>10403</td>\n",
       "    </tr>\n",
       "    <tr>\n",
       "      <th>Basilicata</th>\n",
       "      <td>5265</td>\n",
       "      <td>5166</td>\n",
       "    </tr>\n",
       "    <tr>\n",
       "      <th>Bolzano / Bozen</th>\n",
       "      <td>5388</td>\n",
       "      <td>5386</td>\n",
       "    </tr>\n",
       "    <tr>\n",
       "      <th>Calabria</th>\n",
       "      <td>18809</td>\n",
       "      <td>18621</td>\n",
       "    </tr>\n",
       "    <tr>\n",
       "      <th>Campania</th>\n",
       "      <td>65194</td>\n",
       "      <td>63835</td>\n",
       "    </tr>\n",
       "  </tbody>\n",
       "</table>\n",
       "</div>"
      ],
      "text/plain": [
       "Tipo dato                                  nati vivi - dati corretti (110 province)  \\\n",
       "Seleziona periodo Territorio di residenza                                             \n",
       "2003              Abruzzo                                                     10971   \n",
       "                  Basilicata                                                   5265   \n",
       "                  Bolzano / Bozen                                              5388   \n",
       "                  Calabria                                                    18809   \n",
       "                  Campania                                                    65194   \n",
       "\n",
       "Tipo dato                                  nati vivi - senza correzione (110 province)  \n",
       "Seleziona periodo Territorio di residenza                                               \n",
       "2003              Abruzzo                                                        10403  \n",
       "                  Basilicata                                                      5166  \n",
       "                  Bolzano / Bozen                                                 5386  \n",
       "                  Calabria                                                       18621  \n",
       "                  Campania                                                       63835  "
      ]
     },
     "execution_count": 123,
     "metadata": {},
     "output_type": "execute_result"
    }
   ],
   "source": [
    "live_births.head()"
   ]
  },
  {
   "cell_type": "code",
   "execution_count": 125,
   "metadata": {},
   "outputs": [],
   "source": [
    "bdf.relation_plot_time_variant(live_births, [live_births.columns.tolist()[0]], resident_foreigners_norm, zones_data, 45, \"Live Births\", palette, True, \"Plots/stock_vs_live_births_\")\n"
   ]
  },
  {
   "cell_type": "markdown",
   "metadata": {},
   "source": [
    "### Unemployment"
   ]
  },
  {
   "cell_type": "code",
   "execution_count": 23,
   "metadata": {},
   "outputs": [],
   "source": [
    "unemployment = pd.read_table(\"/home/sara/Documents/Immigration/Data_not_git/Prov_info/Unemployment/DCCV_DISOCCUPT1_Data_b7a54223-3ec4-4d1b-883e-a20d10fb350d.csv\", sep = \"\\t\")"
   ]
  },
  {
   "cell_type": "code",
   "execution_count": 24,
   "metadata": {},
   "outputs": [
    {
     "name": "stdout",
     "output_type": "stream",
     "text": [
      "Cittadinanza {'totale'}\n",
      "Classe di età {'15 anni e più'}\n",
      "Condizione professionale {'totale'}\n",
      "Durata della disoccupazione {'totale'}\n",
      "Tipo dato {'persone in cerca di occupazione 15 anni e oltre (migliaia)'}\n",
      "Titolo di studio {'totale'}\n"
     ]
    }
   ],
   "source": [
    "unemployment = bdf.re_ordering_df(unemployment)\n",
    "bdf.drop_useless(unemployment)"
   ]
  },
  {
   "cell_type": "code",
   "execution_count": 25,
   "metadata": {},
   "outputs": [],
   "source": [
    "unemployment = unemployment.replace(['Provincia Autonoma Bolzano / Bozen', 'Provincia Autonoma Trento'], ['Bolzano / Bozen', 'Trento'])"
   ]
  },
  {
   "cell_type": "code",
   "execution_count": 26,
   "metadata": {},
   "outputs": [],
   "source": [
    "unemployment = bdf.filtering(unemployment, \"Territorio\", interest_territories)\n",
    "unemployment = bdf.filtering(unemployment, \"Seleziona periodo\", years)"
   ]
  },
  {
   "cell_type": "code",
   "execution_count": 27,
   "metadata": {
    "scrolled": true
   },
   "outputs": [],
   "source": [
    "unemployment = bdf.pivot(unemployment, \"Sesso\", \"0  Flags\")"
   ]
  },
  {
   "cell_type": "code",
   "execution_count": 28,
   "metadata": {},
   "outputs": [],
   "source": [
    "bdf.del_missing(unemployment)"
   ]
  },
  {
   "cell_type": "code",
   "execution_count": 29,
   "metadata": {},
   "outputs": [
    {
     "name": "stdout",
     "output_type": "stream",
     "text": [
      "[2017]\n",
      "['Isole', 'Sud']\n"
     ]
    }
   ],
   "source": [
    "bdf.check_missing_index(unemployment, years, interest_territories)"
   ]
  },
  {
   "cell_type": "code",
   "execution_count": 30,
   "metadata": {},
   "outputs": [],
   "source": [
    "bdf.check_missing(unemployment)"
   ]
  },
  {
   "cell_type": "code",
   "execution_count": 31,
   "metadata": {},
   "outputs": [
    {
     "data": {
      "text/html": [
       "<div>\n",
       "<style>\n",
       "    .dataframe thead tr:only-child th {\n",
       "        text-align: right;\n",
       "    }\n",
       "\n",
       "    .dataframe thead th {\n",
       "        text-align: left;\n",
       "    }\n",
       "\n",
       "    .dataframe tbody tr th {\n",
       "        vertical-align: top;\n",
       "    }\n",
       "</style>\n",
       "<table border=\"1\" class=\"dataframe\">\n",
       "  <thead>\n",
       "    <tr style=\"text-align: right;\">\n",
       "      <th></th>\n",
       "      <th>Sesso</th>\n",
       "      <th>femmine</th>\n",
       "      <th>maschi</th>\n",
       "      <th>totale</th>\n",
       "    </tr>\n",
       "    <tr>\n",
       "      <th>Seleziona periodo</th>\n",
       "      <th>Territorio</th>\n",
       "      <th></th>\n",
       "      <th></th>\n",
       "      <th></th>\n",
       "    </tr>\n",
       "  </thead>\n",
       "  <tbody>\n",
       "    <tr>\n",
       "      <th rowspan=\"5\" valign=\"top\">2003</th>\n",
       "      <th>Abruzzo</th>\n",
       "      <td>24.398</td>\n",
       "      <td>18.973</td>\n",
       "      <td>43.371</td>\n",
       "    </tr>\n",
       "    <tr>\n",
       "      <th>Basilicata</th>\n",
       "      <td>15.591</td>\n",
       "      <td>14.420</td>\n",
       "      <td>30.010</td>\n",
       "    </tr>\n",
       "    <tr>\n",
       "      <th>Bolzano / Bozen</th>\n",
       "      <td>2.733</td>\n",
       "      <td>1.753</td>\n",
       "      <td>4.486</td>\n",
       "    </tr>\n",
       "    <tr>\n",
       "      <th>Calabria</th>\n",
       "      <td>58.955</td>\n",
       "      <td>59.607</td>\n",
       "      <td>118.561</td>\n",
       "    </tr>\n",
       "    <tr>\n",
       "      <th>Campania</th>\n",
       "      <td>185.498</td>\n",
       "      <td>169.419</td>\n",
       "      <td>354.917</td>\n",
       "    </tr>\n",
       "  </tbody>\n",
       "</table>\n",
       "</div>"
      ],
      "text/plain": [
       "Sesso                              femmine   maschi   totale\n",
       "Seleziona periodo Territorio                                \n",
       "2003              Abruzzo           24.398   18.973   43.371\n",
       "                  Basilicata        15.591   14.420   30.010\n",
       "                  Bolzano / Bozen    2.733    1.753    4.486\n",
       "                  Calabria          58.955   59.607  118.561\n",
       "                  Campania         185.498  169.419  354.917"
      ]
     },
     "execution_count": 31,
     "metadata": {},
     "output_type": "execute_result"
    }
   ],
   "source": [
    "unemployment.head()"
   ]
  },
  {
   "cell_type": "code",
   "execution_count": 140,
   "metadata": {
    "scrolled": true
   },
   "outputs": [
    {
     "name": "stderr",
     "output_type": "stream",
     "text": [
      "/home/sara/myenv/lib64/python3.6/site-packages/matplotlib/cbook/deprecation.py:106: MatplotlibDeprecationWarning: Adding an axes using the same arguments as a previous axes currently reuses the earlier instance.  In a future version, a new instance will always be created and returned.  Meanwhile, this warning can be suppressed, and the future behavior ensured, by passing a unique label to each axes instance.\n",
      "  warnings.warn(message, mplDeprecation, stacklevel=1)\n"
     ]
    },
    {
     "ename": "KeyError",
     "evalue": "'the label [Isole] is not in the [index]'",
     "output_type": "error",
     "traceback": [
      "\u001b[0;31m---------------------------------------------------------------------------\u001b[0m",
      "\u001b[0;31mKeyError\u001b[0m                                  Traceback (most recent call last)",
      "\u001b[0;32m~/myenv/lib64/python3.6/site-packages/pandas/core/indexing.py\u001b[0m in \u001b[0;36m_has_valid_type\u001b[0;34m(self, key, axis)\u001b[0m\n\u001b[1;32m   1433\u001b[0m                 \u001b[0;32mif\u001b[0m \u001b[0;32mnot\u001b[0m \u001b[0max\u001b[0m\u001b[0;34m.\u001b[0m\u001b[0mcontains\u001b[0m\u001b[0;34m(\u001b[0m\u001b[0mkey\u001b[0m\u001b[0;34m)\u001b[0m\u001b[0;34m:\u001b[0m\u001b[0;34m\u001b[0m\u001b[0m\n\u001b[0;32m-> 1434\u001b[0;31m                     \u001b[0merror\u001b[0m\u001b[0;34m(\u001b[0m\u001b[0;34m)\u001b[0m\u001b[0;34m\u001b[0m\u001b[0m\n\u001b[0m\u001b[1;32m   1435\u001b[0m             \u001b[0;32mexcept\u001b[0m \u001b[0mTypeError\u001b[0m \u001b[0;32mas\u001b[0m \u001b[0me\u001b[0m\u001b[0;34m:\u001b[0m\u001b[0;34m\u001b[0m\u001b[0m\n",
      "\u001b[0;32m~/myenv/lib64/python3.6/site-packages/pandas/core/indexing.py\u001b[0m in \u001b[0;36merror\u001b[0;34m()\u001b[0m\n\u001b[1;32m   1428\u001b[0m                 raise KeyError(\"the label [%s] is not in the [%s]\" %\n\u001b[0;32m-> 1429\u001b[0;31m                                (key, self.obj._get_axis_name(axis)))\n\u001b[0m\u001b[1;32m   1430\u001b[0m \u001b[0;34m\u001b[0m\u001b[0m\n",
      "\u001b[0;31mKeyError\u001b[0m: 'the label [Isole] is not in the [index]'",
      "\nDuring handling of the above exception, another exception occurred:\n",
      "\u001b[0;31mKeyError\u001b[0m                                  Traceback (most recent call last)",
      "\u001b[0;32m<ipython-input-140-93b703f3379d>\u001b[0m in \u001b[0;36m<module>\u001b[0;34m()\u001b[0m\n\u001b[0;32m----> 1\u001b[0;31m \u001b[0mbdf\u001b[0m\u001b[0;34m.\u001b[0m\u001b[0mrelation_plot_time_variant\u001b[0m\u001b[0;34m(\u001b[0m\u001b[0munemployment\u001b[0m\u001b[0;34m,\u001b[0m \u001b[0;34m[\u001b[0m\u001b[0munemployment\u001b[0m\u001b[0;34m.\u001b[0m\u001b[0mcolumns\u001b[0m\u001b[0;34m.\u001b[0m\u001b[0mtolist\u001b[0m\u001b[0;34m(\u001b[0m\u001b[0;34m)\u001b[0m\u001b[0;34m[\u001b[0m\u001b[0;36m2\u001b[0m\u001b[0;34m]\u001b[0m\u001b[0;34m]\u001b[0m\u001b[0;34m,\u001b[0m \u001b[0mresident_foreigners_norm\u001b[0m\u001b[0;34m,\u001b[0m \u001b[0mzones_data\u001b[0m\u001b[0;34m,\u001b[0m \u001b[0;36m45\u001b[0m\u001b[0;34m,\u001b[0m \u001b[0;34m\"Political Information\"\u001b[0m\u001b[0;34m,\u001b[0m \u001b[0mpalette\u001b[0m\u001b[0;34m,\u001b[0m \u001b[0;32mFalse\u001b[0m\u001b[0;34m,\u001b[0m \u001b[0;34m\"Plots/stock_vs_political_info2_\"\u001b[0m\u001b[0;34m)\u001b[0m\u001b[0;34m\u001b[0m\u001b[0m\n\u001b[0m",
      "\u001b[0;32m~/Documents/Immigration/Shared_models/build_data_functions.py\u001b[0m in \u001b[0;36mrelation_plot_time_variant\u001b[0;34m(data_, cols, y, zones_data, rot, title, palette, save, path)\u001b[0m\n\u001b[1;32m    217\u001b[0m     \u001b[0mfig\u001b[0m \u001b[0;34m=\u001b[0m \u001b[0mplt\u001b[0m\u001b[0;34m.\u001b[0m\u001b[0mfigure\u001b[0m\u001b[0;34m(\u001b[0m\u001b[0;36m1\u001b[0m\u001b[0;34m,\u001b[0m \u001b[0mfigsize\u001b[0m\u001b[0;34m=\u001b[0m\u001b[0;34m(\u001b[0m\u001b[0;36m15\u001b[0m\u001b[0;34m,\u001b[0m\u001b[0;36m10\u001b[0m\u001b[0;34m)\u001b[0m\u001b[0;34m)\u001b[0m\u001b[0;34m\u001b[0m\u001b[0m\n\u001b[1;32m    218\u001b[0m \u001b[0;34m\u001b[0m\u001b[0m\n\u001b[0;32m--> 219\u001b[0;31m     \u001b[0mrelation_plot_time_variant_intern_function\u001b[0m\u001b[0;34m(\u001b[0m\u001b[0mdata_\u001b[0m\u001b[0;34m,\u001b[0m \u001b[0mterritories\u001b[0m\u001b[0;34m,\u001b[0m \u001b[0mtime_idx\u001b[0m\u001b[0;34m,\u001b[0m \u001b[0mcols\u001b[0m\u001b[0;34m,\u001b[0m \u001b[0my_grouped\u001b[0m\u001b[0;34m,\u001b[0m \u001b[0mfig\u001b[0m\u001b[0;34m,\u001b[0m \u001b[0;36m231\u001b[0m\u001b[0;34m,\u001b[0m \u001b[0mrot\u001b[0m\u001b[0;34m,\u001b[0m \u001b[0mpalette\u001b[0m\u001b[0;34m,\u001b[0m \u001b[0;34m\"Immigrant Stock VS \"\u001b[0m\u001b[0;34m+\u001b[0m\u001b[0mtitle\u001b[0m\u001b[0;34m+\u001b[0m\u001b[0;34m\" in Italian Zones\"\u001b[0m\u001b[0;34m,\u001b[0m \u001b[0msave\u001b[0m\u001b[0;34m,\u001b[0m \u001b[0mpath\u001b[0m\u001b[0;34m+\u001b[0m\u001b[0;34m\"zones\"\u001b[0m\u001b[0;34m)\u001b[0m\u001b[0;34m\u001b[0m\u001b[0m\n\u001b[0m\u001b[1;32m    220\u001b[0m \u001b[0;34m\u001b[0m\u001b[0m\n\u001b[1;32m    221\u001b[0m     \u001b[0;31m# A single figure with 21+legend boxes is difficult to analyse. What to do? Figure for each zone.\u001b[0m\u001b[0;34m\u001b[0m\u001b[0;34m\u001b[0m\u001b[0m\n",
      "\u001b[0;32m~/Documents/Immigration/Shared_models/build_data_functions.py\u001b[0m in \u001b[0;36mrelation_plot_time_variant_intern_function\u001b[0;34m(data_, temp_territories, time_idx, cols, y, fig, plt_seed, rot, palette, title, save, path)\u001b[0m\n\u001b[1;32m    176\u001b[0m         \u001b[0max2\u001b[0m \u001b[0;34m=\u001b[0m \u001b[0max\u001b[0m\u001b[0;34m.\u001b[0m\u001b[0mtwinx\u001b[0m\u001b[0;34m(\u001b[0m\u001b[0;34m)\u001b[0m\u001b[0;34m\u001b[0m\u001b[0m\n\u001b[1;32m    177\u001b[0m         \u001b[0;32mfor\u001b[0m \u001b[0mc\u001b[0m \u001b[0;32min\u001b[0m \u001b[0mcols\u001b[0m\u001b[0;34m:\u001b[0m\u001b[0;34m\u001b[0m\u001b[0m\n\u001b[0;32m--> 178\u001b[0;31m             \u001b[0mx_i\u001b[0m \u001b[0;34m=\u001b[0m \u001b[0;34m[\u001b[0m\u001b[0mdata_\u001b[0m\u001b[0;34m.\u001b[0m\u001b[0mloc\u001b[0m\u001b[0;34m[\u001b[0m\u001b[0mt\u001b[0m\u001b[0;34m]\u001b[0m\u001b[0;34m.\u001b[0m\u001b[0mloc\u001b[0m\u001b[0;34m[\u001b[0m\u001b[0mr\u001b[0m\u001b[0;34m]\u001b[0m\u001b[0;34m[\u001b[0m\u001b[0mc\u001b[0m\u001b[0;34m]\u001b[0m \u001b[0;32mfor\u001b[0m \u001b[0mt\u001b[0m \u001b[0;32min\u001b[0m \u001b[0mtime_idx\u001b[0m\u001b[0;34m]\u001b[0m\u001b[0;34m\u001b[0m\u001b[0m\n\u001b[0m\u001b[1;32m    179\u001b[0m             \u001b[0;31m# Color - always +1 because the first color is for the real value (ax)\u001b[0m\u001b[0;34m\u001b[0m\u001b[0;34m\u001b[0m\u001b[0m\n\u001b[1;32m    180\u001b[0m             \u001b[0max2\u001b[0m \u001b[0;34m=\u001b[0m \u001b[0msns\u001b[0m\u001b[0;34m.\u001b[0m\u001b[0mpointplot\u001b[0m\u001b[0;34m(\u001b[0m\u001b[0my\u001b[0m \u001b[0;34m=\u001b[0m \u001b[0mx_i\u001b[0m\u001b[0;34m,\u001b[0m \u001b[0mx\u001b[0m \u001b[0;34m=\u001b[0m \u001b[0mtime_idx\u001b[0m\u001b[0;34m,\u001b[0m \u001b[0mcolor\u001b[0m \u001b[0;34m=\u001b[0m \u001b[0mpalette\u001b[0m\u001b[0;34m[\u001b[0m\u001b[0mcols\u001b[0m\u001b[0;34m.\u001b[0m\u001b[0mindex\u001b[0m\u001b[0;34m(\u001b[0m\u001b[0mc\u001b[0m\u001b[0;34m)\u001b[0m\u001b[0;34m+\u001b[0m\u001b[0;36m1\u001b[0m\u001b[0;34m]\u001b[0m\u001b[0;34m)\u001b[0m\u001b[0;34m\u001b[0m\u001b[0m\n",
      "\u001b[0;32m~/Documents/Immigration/Shared_models/build_data_functions.py\u001b[0m in \u001b[0;36m<listcomp>\u001b[0;34m(.0)\u001b[0m\n\u001b[1;32m    176\u001b[0m         \u001b[0max2\u001b[0m \u001b[0;34m=\u001b[0m \u001b[0max\u001b[0m\u001b[0;34m.\u001b[0m\u001b[0mtwinx\u001b[0m\u001b[0;34m(\u001b[0m\u001b[0;34m)\u001b[0m\u001b[0;34m\u001b[0m\u001b[0m\n\u001b[1;32m    177\u001b[0m         \u001b[0;32mfor\u001b[0m \u001b[0mc\u001b[0m \u001b[0;32min\u001b[0m \u001b[0mcols\u001b[0m\u001b[0;34m:\u001b[0m\u001b[0;34m\u001b[0m\u001b[0m\n\u001b[0;32m--> 178\u001b[0;31m             \u001b[0mx_i\u001b[0m \u001b[0;34m=\u001b[0m \u001b[0;34m[\u001b[0m\u001b[0mdata_\u001b[0m\u001b[0;34m.\u001b[0m\u001b[0mloc\u001b[0m\u001b[0;34m[\u001b[0m\u001b[0mt\u001b[0m\u001b[0;34m]\u001b[0m\u001b[0;34m.\u001b[0m\u001b[0mloc\u001b[0m\u001b[0;34m[\u001b[0m\u001b[0mr\u001b[0m\u001b[0;34m]\u001b[0m\u001b[0;34m[\u001b[0m\u001b[0mc\u001b[0m\u001b[0;34m]\u001b[0m \u001b[0;32mfor\u001b[0m \u001b[0mt\u001b[0m \u001b[0;32min\u001b[0m \u001b[0mtime_idx\u001b[0m\u001b[0;34m]\u001b[0m\u001b[0;34m\u001b[0m\u001b[0m\n\u001b[0m\u001b[1;32m    179\u001b[0m             \u001b[0;31m# Color - always +1 because the first color is for the real value (ax)\u001b[0m\u001b[0;34m\u001b[0m\u001b[0;34m\u001b[0m\u001b[0m\n\u001b[1;32m    180\u001b[0m             \u001b[0max2\u001b[0m \u001b[0;34m=\u001b[0m \u001b[0msns\u001b[0m\u001b[0;34m.\u001b[0m\u001b[0mpointplot\u001b[0m\u001b[0;34m(\u001b[0m\u001b[0my\u001b[0m \u001b[0;34m=\u001b[0m \u001b[0mx_i\u001b[0m\u001b[0;34m,\u001b[0m \u001b[0mx\u001b[0m \u001b[0;34m=\u001b[0m \u001b[0mtime_idx\u001b[0m\u001b[0;34m,\u001b[0m \u001b[0mcolor\u001b[0m \u001b[0;34m=\u001b[0m \u001b[0mpalette\u001b[0m\u001b[0;34m[\u001b[0m\u001b[0mcols\u001b[0m\u001b[0;34m.\u001b[0m\u001b[0mindex\u001b[0m\u001b[0;34m(\u001b[0m\u001b[0mc\u001b[0m\u001b[0;34m)\u001b[0m\u001b[0;34m+\u001b[0m\u001b[0;36m1\u001b[0m\u001b[0;34m]\u001b[0m\u001b[0;34m)\u001b[0m\u001b[0;34m\u001b[0m\u001b[0m\n",
      "\u001b[0;32m~/myenv/lib64/python3.6/site-packages/pandas/core/indexing.py\u001b[0m in \u001b[0;36m__getitem__\u001b[0;34m(self, key)\u001b[0m\n\u001b[1;32m   1326\u001b[0m         \u001b[0;32melse\u001b[0m\u001b[0;34m:\u001b[0m\u001b[0;34m\u001b[0m\u001b[0m\n\u001b[1;32m   1327\u001b[0m             \u001b[0mkey\u001b[0m \u001b[0;34m=\u001b[0m \u001b[0mcom\u001b[0m\u001b[0;34m.\u001b[0m\u001b[0m_apply_if_callable\u001b[0m\u001b[0;34m(\u001b[0m\u001b[0mkey\u001b[0m\u001b[0;34m,\u001b[0m \u001b[0mself\u001b[0m\u001b[0;34m.\u001b[0m\u001b[0mobj\u001b[0m\u001b[0;34m)\u001b[0m\u001b[0;34m\u001b[0m\u001b[0m\n\u001b[0;32m-> 1328\u001b[0;31m             \u001b[0;32mreturn\u001b[0m \u001b[0mself\u001b[0m\u001b[0;34m.\u001b[0m\u001b[0m_getitem_axis\u001b[0m\u001b[0;34m(\u001b[0m\u001b[0mkey\u001b[0m\u001b[0;34m,\u001b[0m \u001b[0maxis\u001b[0m\u001b[0;34m=\u001b[0m\u001b[0;36m0\u001b[0m\u001b[0;34m)\u001b[0m\u001b[0;34m\u001b[0m\u001b[0m\n\u001b[0m\u001b[1;32m   1329\u001b[0m \u001b[0;34m\u001b[0m\u001b[0m\n\u001b[1;32m   1330\u001b[0m     \u001b[0;32mdef\u001b[0m \u001b[0m_is_scalar_access\u001b[0m\u001b[0;34m(\u001b[0m\u001b[0mself\u001b[0m\u001b[0;34m,\u001b[0m \u001b[0mkey\u001b[0m\u001b[0;34m)\u001b[0m\u001b[0;34m:\u001b[0m\u001b[0;34m\u001b[0m\u001b[0m\n",
      "\u001b[0;32m~/myenv/lib64/python3.6/site-packages/pandas/core/indexing.py\u001b[0m in \u001b[0;36m_getitem_axis\u001b[0;34m(self, key, axis)\u001b[0m\n\u001b[1;32m   1549\u001b[0m \u001b[0;34m\u001b[0m\u001b[0m\n\u001b[1;32m   1550\u001b[0m         \u001b[0;31m# fall thru to straight lookup\u001b[0m\u001b[0;34m\u001b[0m\u001b[0;34m\u001b[0m\u001b[0m\n\u001b[0;32m-> 1551\u001b[0;31m         \u001b[0mself\u001b[0m\u001b[0;34m.\u001b[0m\u001b[0m_has_valid_type\u001b[0m\u001b[0;34m(\u001b[0m\u001b[0mkey\u001b[0m\u001b[0;34m,\u001b[0m \u001b[0maxis\u001b[0m\u001b[0;34m)\u001b[0m\u001b[0;34m\u001b[0m\u001b[0m\n\u001b[0m\u001b[1;32m   1552\u001b[0m         \u001b[0;32mreturn\u001b[0m \u001b[0mself\u001b[0m\u001b[0;34m.\u001b[0m\u001b[0m_get_label\u001b[0m\u001b[0;34m(\u001b[0m\u001b[0mkey\u001b[0m\u001b[0;34m,\u001b[0m \u001b[0maxis\u001b[0m\u001b[0;34m=\u001b[0m\u001b[0maxis\u001b[0m\u001b[0;34m)\u001b[0m\u001b[0;34m\u001b[0m\u001b[0m\n\u001b[1;32m   1553\u001b[0m \u001b[0;34m\u001b[0m\u001b[0m\n",
      "\u001b[0;32m~/myenv/lib64/python3.6/site-packages/pandas/core/indexing.py\u001b[0m in \u001b[0;36m_has_valid_type\u001b[0;34m(self, key, axis)\u001b[0m\n\u001b[1;32m   1440\u001b[0m                 \u001b[0;32mraise\u001b[0m\u001b[0;34m\u001b[0m\u001b[0m\n\u001b[1;32m   1441\u001b[0m             \u001b[0;32mexcept\u001b[0m\u001b[0;34m:\u001b[0m\u001b[0;34m\u001b[0m\u001b[0m\n\u001b[0;32m-> 1442\u001b[0;31m                 \u001b[0merror\u001b[0m\u001b[0;34m(\u001b[0m\u001b[0;34m)\u001b[0m\u001b[0;34m\u001b[0m\u001b[0m\n\u001b[0m\u001b[1;32m   1443\u001b[0m \u001b[0;34m\u001b[0m\u001b[0m\n\u001b[1;32m   1444\u001b[0m         \u001b[0;32mreturn\u001b[0m \u001b[0;32mTrue\u001b[0m\u001b[0;34m\u001b[0m\u001b[0m\n",
      "\u001b[0;32m~/myenv/lib64/python3.6/site-packages/pandas/core/indexing.py\u001b[0m in \u001b[0;36merror\u001b[0;34m()\u001b[0m\n\u001b[1;32m   1427\u001b[0m                                     \"key\")\n\u001b[1;32m   1428\u001b[0m                 raise KeyError(\"the label [%s] is not in the [%s]\" %\n\u001b[0;32m-> 1429\u001b[0;31m                                (key, self.obj._get_axis_name(axis)))\n\u001b[0m\u001b[1;32m   1430\u001b[0m \u001b[0;34m\u001b[0m\u001b[0m\n\u001b[1;32m   1431\u001b[0m             \u001b[0;32mtry\u001b[0m\u001b[0;34m:\u001b[0m\u001b[0;34m\u001b[0m\u001b[0m\n",
      "\u001b[0;31mKeyError\u001b[0m: 'the label [Isole] is not in the [index]'"
     ]
    }
   ],
   "source": [
    "bdf.relation_plot_time_variant(unemployment, [unemployment.columns.tolist()[2]], resident_foreigners_norm, zones_data, 45, \"Political Information\", palette, False, \"Plots/stock_vs_political_info2_\")"
   ]
  },
  {
   "cell_type": "markdown",
   "metadata": {},
   "source": [
    "### Aspects of daily life - work degree of satisfaction"
   ]
  },
  {
   "cell_type": "code",
   "execution_count": 32,
   "metadata": {},
   "outputs": [],
   "source": [
    "work_satisfaction = pd.read_table(\"/home/sara/Documents/Immigration/Data_not_git/Prov_info/Aspects of daily life (3)/DCCV_AVQ_PERSONE_Data_4955ab2a-d94b-4381-ba06-12822e7e57e9.csv\", sep = \"\\t\")"
   ]
  },
  {
   "cell_type": "code",
   "execution_count": 33,
   "metadata": {},
   "outputs": [
    {
     "name": "stdout",
     "output_type": "stream",
     "text": [
      "Classe di età {'15 anni e più'}\n",
      "Condizione e posizione nella professione {'totale'}\n",
      "Sesso {'totale'}\n",
      "Titolo di studio {'totale'}\n"
     ]
    }
   ],
   "source": [
    "work_satisfaction = bdf.re_ordering_df(work_satisfaction)\n",
    "bdf.drop_useless(work_satisfaction)\n",
    "\n",
    "work_satisfaction = bdf.filtering(work_satisfaction, \"Territorio\", interest_territories)\n",
    "work_satisfaction = bdf.filtering(work_satisfaction, \"Seleziona periodo\", years)"
   ]
  },
  {
   "cell_type": "code",
   "execution_count": 34,
   "metadata": {},
   "outputs": [],
   "source": [
    "work_satisfaction = work_satisfaction.replace(['Provincia Autonoma Bolzano / Bozen', 'Provincia Autonoma Trento'], ['Bolzano / Bozen', 'Trento'])"
   ]
  },
  {
   "cell_type": "code",
   "execution_count": 35,
   "metadata": {},
   "outputs": [
    {
     "data": {
      "text/plain": [
       "'work_satisfaction_char, work_satisfaction_thousand = divide_table(work_satisfaction, \"Misura\")\\n\\nwork_satisfaction_char = pivot(work_satisfaction_char, \"Tipo dato\", \"0  Flags\")\\nwork_satisfaction_thousand = pivot(work_satisfaction_thousand, \"Tipo dato\", \"0  Flags\")'"
      ]
     },
     "execution_count": 35,
     "metadata": {},
     "output_type": "execute_result"
    }
   ],
   "source": [
    "'''work_satisfaction_char, work_satisfaction_thousand = divide_table(work_satisfaction, \"Misura\")\n",
    "\n",
    "work_satisfaction_char = pivot(work_satisfaction_char, \"Tipo dato\", \"0  Flags\")\n",
    "work_satisfaction_thousand = pivot(work_satisfaction_thousand, \"Tipo dato\", \"0  Flags\")'''"
   ]
  },
  {
   "cell_type": "code",
   "execution_count": 36,
   "metadata": {},
   "outputs": [],
   "source": [
    "work_satisfaction = bdf.differentiate_values(work_satisfaction, \"Misura\", \"Tipo dato\")\n",
    "work_satisfaction = bdf.pivot(work_satisfaction, \"Tipo dato\", \"0  Flags\")"
   ]
  },
  {
   "cell_type": "code",
   "execution_count": 37,
   "metadata": {},
   "outputs": [],
   "source": [
    "bdf.del_missing(work_satisfaction)"
   ]
  },
  {
   "cell_type": "code",
   "execution_count": 38,
   "metadata": {},
   "outputs": [
    {
     "name": "stdout",
     "output_type": "stream",
     "text": [
      "[2004]\n"
     ]
    }
   ],
   "source": [
    "bdf.check_missing_index(work_satisfaction, years, zones+[\"Italia\"])"
   ]
  },
  {
   "cell_type": "code",
   "execution_count": 39,
   "metadata": {},
   "outputs": [],
   "source": [
    "bdf.check_missing(work_satisfaction)"
   ]
  },
  {
   "cell_type": "code",
   "execution_count": 40,
   "metadata": {},
   "outputs": [
    {
     "data": {
      "text/html": [
       "<div>\n",
       "<style>\n",
       "    .dataframe thead tr:only-child th {\n",
       "        text-align: right;\n",
       "    }\n",
       "\n",
       "    .dataframe thead th {\n",
       "        text-align: left;\n",
       "    }\n",
       "\n",
       "    .dataframe tbody tr th {\n",
       "        vertical-align: top;\n",
       "    }\n",
       "</style>\n",
       "<table border=\"1\" class=\"dataframe\">\n",
       "  <thead>\n",
       "    <tr style=\"text-align: right;\">\n",
       "      <th></th>\n",
       "      <th>Tipo dato</th>\n",
       "      <th>abbastanza - per 100 persone con le stesse caratteristiche</th>\n",
       "      <th>abbastanza - valori in migliaia</th>\n",
       "      <th>molto - per 100 persone con le stesse caratteristiche</th>\n",
       "      <th>molto - valori in migliaia</th>\n",
       "      <th>per niente - per 100 persone con le stesse caratteristiche</th>\n",
       "      <th>per niente - valori in migliaia</th>\n",
       "      <th>poco - per 100 persone con le stesse caratteristiche</th>\n",
       "      <th>poco - valori in migliaia</th>\n",
       "    </tr>\n",
       "    <tr>\n",
       "      <th>Seleziona periodo</th>\n",
       "      <th>Territorio</th>\n",
       "      <th></th>\n",
       "      <th></th>\n",
       "      <th></th>\n",
       "      <th></th>\n",
       "      <th></th>\n",
       "      <th></th>\n",
       "      <th></th>\n",
       "      <th></th>\n",
       "    </tr>\n",
       "  </thead>\n",
       "  <tbody>\n",
       "    <tr>\n",
       "      <th rowspan=\"5\" valign=\"top\">2003</th>\n",
       "      <th>Centro</th>\n",
       "      <td>60.0</td>\n",
       "      <td>2658.0</td>\n",
       "      <td>16.8</td>\n",
       "      <td>743.0</td>\n",
       "      <td>2.5</td>\n",
       "      <td>112.0</td>\n",
       "      <td>16.4</td>\n",
       "      <td>726.0</td>\n",
       "    </tr>\n",
       "    <tr>\n",
       "      <th>Isole</th>\n",
       "      <td>58.1</td>\n",
       "      <td>1172.0</td>\n",
       "      <td>14.1</td>\n",
       "      <td>285.0</td>\n",
       "      <td>4.3</td>\n",
       "      <td>87.0</td>\n",
       "      <td>20.8</td>\n",
       "      <td>421.0</td>\n",
       "    </tr>\n",
       "    <tr>\n",
       "      <th>Italia</th>\n",
       "      <td>60.8</td>\n",
       "      <td>13432.0</td>\n",
       "      <td>16.7</td>\n",
       "      <td>3687.0</td>\n",
       "      <td>3.0</td>\n",
       "      <td>652.0</td>\n",
       "      <td>16.2</td>\n",
       "      <td>3586.0</td>\n",
       "    </tr>\n",
       "    <tr>\n",
       "      <th>Nord-est</th>\n",
       "      <td>60.5</td>\n",
       "      <td>2864.0</td>\n",
       "      <td>20.6</td>\n",
       "      <td>977.0</td>\n",
       "      <td>2.1</td>\n",
       "      <td>101.0</td>\n",
       "      <td>13.9</td>\n",
       "      <td>659.0</td>\n",
       "    </tr>\n",
       "    <tr>\n",
       "      <th>Nord-ovest</th>\n",
       "      <td>61.7</td>\n",
       "      <td>3978.0</td>\n",
       "      <td>17.0</td>\n",
       "      <td>1095.0</td>\n",
       "      <td>3.4</td>\n",
       "      <td>219.0</td>\n",
       "      <td>15.3</td>\n",
       "      <td>989.0</td>\n",
       "    </tr>\n",
       "  </tbody>\n",
       "</table>\n",
       "</div>"
      ],
      "text/plain": [
       "Tipo dato                     abbastanza - per 100 persone con le stesse caratteristiche  \\\n",
       "Seleziona periodo Territorio                                                               \n",
       "2003              Centro                                                   60.0            \n",
       "                  Isole                                                    58.1            \n",
       "                  Italia                                                   60.8            \n",
       "                  Nord-est                                                 60.5            \n",
       "                  Nord-ovest                                               61.7            \n",
       "\n",
       "Tipo dato                     abbastanza - valori in migliaia  \\\n",
       "Seleziona periodo Territorio                                    \n",
       "2003              Centro                               2658.0   \n",
       "                  Isole                                1172.0   \n",
       "                  Italia                              13432.0   \n",
       "                  Nord-est                             2864.0   \n",
       "                  Nord-ovest                           3978.0   \n",
       "\n",
       "Tipo dato                     molto - per 100 persone con le stesse caratteristiche  \\\n",
       "Seleziona periodo Territorio                                                          \n",
       "2003              Centro                                                   16.8       \n",
       "                  Isole                                                    14.1       \n",
       "                  Italia                                                   16.7       \n",
       "                  Nord-est                                                 20.6       \n",
       "                  Nord-ovest                                               17.0       \n",
       "\n",
       "Tipo dato                     molto - valori in migliaia  \\\n",
       "Seleziona periodo Territorio                               \n",
       "2003              Centro                           743.0   \n",
       "                  Isole                            285.0   \n",
       "                  Italia                          3687.0   \n",
       "                  Nord-est                         977.0   \n",
       "                  Nord-ovest                      1095.0   \n",
       "\n",
       "Tipo dato                     per niente - per 100 persone con le stesse caratteristiche  \\\n",
       "Seleziona periodo Territorio                                                               \n",
       "2003              Centro                                                    2.5            \n",
       "                  Isole                                                     4.3            \n",
       "                  Italia                                                    3.0            \n",
       "                  Nord-est                                                  2.1            \n",
       "                  Nord-ovest                                                3.4            \n",
       "\n",
       "Tipo dato                     per niente - valori in migliaia  \\\n",
       "Seleziona periodo Territorio                                    \n",
       "2003              Centro                                112.0   \n",
       "                  Isole                                  87.0   \n",
       "                  Italia                                652.0   \n",
       "                  Nord-est                              101.0   \n",
       "                  Nord-ovest                            219.0   \n",
       "\n",
       "Tipo dato                     poco - per 100 persone con le stesse caratteristiche  \\\n",
       "Seleziona periodo Territorio                                                         \n",
       "2003              Centro                                                   16.4      \n",
       "                  Isole                                                    20.8      \n",
       "                  Italia                                                   16.2      \n",
       "                  Nord-est                                                 13.9      \n",
       "                  Nord-ovest                                               15.3      \n",
       "\n",
       "Tipo dato                     poco - valori in migliaia  \n",
       "Seleziona periodo Territorio                             \n",
       "2003              Centro                          726.0  \n",
       "                  Isole                           421.0  \n",
       "                  Italia                         3586.0  \n",
       "                  Nord-est                        659.0  \n",
       "                  Nord-ovest                      989.0  "
      ]
     },
     "execution_count": 40,
     "metadata": {},
     "output_type": "execute_result"
    }
   ],
   "source": [
    "work_satisfaction.head()"
   ]
  },
  {
   "cell_type": "code",
   "execution_count": 41,
   "metadata": {},
   "outputs": [],
   "source": [
    "# The the features with two different scales\n",
    "feature_scale1 = [i for i in work_satisfaction.columns.tolist() if i.split()[-1] == \"migliaia\"]\n",
    "feature_scale2 = [i for i in work_satisfaction.columns.tolist() if i not in feature_scale1]"
   ]
  },
  {
   "cell_type": "code",
   "execution_count": 45,
   "metadata": {},
   "outputs": [],
   "source": [
    "bdf.relation_plot_time_variant(work_satisfaction, feature_scale1, resident_foreigners_norm, zones_data, 45, \"Work Satisfaction\", palette, True, \"Plots/stock_vs_work_satisfaction1_\", sub_iteration = False)"
   ]
  },
  {
   "cell_type": "code",
   "execution_count": 46,
   "metadata": {},
   "outputs": [],
   "source": [
    "bdf.relation_plot_time_variant(work_satisfaction, feature_scale2, resident_foreigners_norm, zones_data, 45, \"Political Information\", palette, True, \"Plots/stock_vs_work_satisfaction2_\", sub_iteration = False)"
   ]
  },
  {
   "cell_type": "markdown",
   "metadata": {},
   "source": [
    "### Difficulty to reach certain services"
   ]
  },
  {
   "cell_type": "code",
   "execution_count": 47,
   "metadata": {},
   "outputs": [],
   "source": [
    "reach_services_difficulty = pd.read_table(\"/home/sara/Documents/Immigration/Data_not_git/Prov_info/Aspects of daily life - Household/DCCV_AVQ_FAMIGLIE_Data_54bd8c6f-de5a-45e8-bb89-e985841c85ac.csv\", sep = \"\\t\")"
   ]
  },
  {
   "cell_type": "code",
   "execution_count": 48,
   "metadata": {},
   "outputs": [
    {
     "name": "stdout",
     "output_type": "stream",
     "text": [
      "Numero di componenti della famiglia {'totale'}\n"
     ]
    }
   ],
   "source": [
    "reach_services_difficulty = bdf.re_ordering_df(reach_services_difficulty)\n",
    "bdf.drop_useless(reach_services_difficulty)\n",
    "\n",
    "reach_services_difficulty = bdf.filtering(reach_services_difficulty, \"Territorio\", interest_territories)\n",
    "reach_services_difficulty = bdf.filtering(reach_services_difficulty, \"Seleziona periodo\", years)"
   ]
  },
  {
   "cell_type": "code",
   "execution_count": 49,
   "metadata": {},
   "outputs": [],
   "source": [
    "reach_services_difficulty = reach_services_difficulty.replace(['Provincia Autonoma Bolzano / Bozen', 'Provincia Autonoma Trento'], ['Bolzano / Bozen', 'Trento'])"
   ]
  },
  {
   "cell_type": "code",
   "execution_count": 103,
   "metadata": {},
   "outputs": [
    {
     "data": {
      "text/plain": [
       "'reach_services_difficulty_char, reach_services_difficulty_thousand = divide_table(reach_services_difficulty, \"Misura\")\\n\\nreach_services_difficulty_char = pivot(reach_services_difficulty_char, \"Tipo dato\", \"0  Flags\")\\nreach_services_difficulty_thousand = pivot(reach_services_difficulty_thousand, \"Tipo dato\", \"0  Flags\")'"
      ]
     },
     "execution_count": 103,
     "metadata": {},
     "output_type": "execute_result"
    }
   ],
   "source": [
    "'''reach_services_difficulty_char, reach_services_difficulty_thousand = divide_table(reach_services_difficulty, \"Misura\")\n",
    "\n",
    "reach_services_difficulty_char = pivot(reach_services_difficulty_char, \"Tipo dato\", \"0  Flags\")\n",
    "reach_services_difficulty_thousand = pivot(reach_services_difficulty_thousand, \"Tipo dato\", \"0  Flags\")'''"
   ]
  },
  {
   "cell_type": "code",
   "execution_count": 50,
   "metadata": {},
   "outputs": [],
   "source": [
    "reach_services_difficulty = bdf.differentiate_values(reach_services_difficulty, \"Misura\", \"Tipo dato\")\n",
    "reach_services_difficulty = bdf.pivot(reach_services_difficulty, \"Tipo dato\", \"0  Flags\")"
   ]
  },
  {
   "cell_type": "code",
   "execution_count": 51,
   "metadata": {},
   "outputs": [],
   "source": [
    "bdf.del_missing(reach_services_difficulty)"
   ]
  },
  {
   "cell_type": "code",
   "execution_count": 52,
   "metadata": {},
   "outputs": [
    {
     "name": "stdout",
     "output_type": "stream",
     "text": [
      "[2004, 2017]\n",
      "['Trento', 'Bolzano / Bozen']\n"
     ]
    }
   ],
   "source": [
    "bdf.check_missing_index(reach_services_difficulty, years, places_to_check)"
   ]
  },
  {
   "cell_type": "code",
   "execution_count": 53,
   "metadata": {},
   "outputs": [],
   "source": [
    "bdf.check_missing(reach_services_difficulty)"
   ]
  },
  {
   "cell_type": "code",
   "execution_count": 54,
   "metadata": {},
   "outputs": [
    {
     "data": {
      "text/html": [
       "<div>\n",
       "<style>\n",
       "    .dataframe thead tr:only-child th {\n",
       "        text-align: right;\n",
       "    }\n",
       "\n",
       "    .dataframe thead th {\n",
       "        text-align: left;\n",
       "    }\n",
       "\n",
       "    .dataframe tbody tr th {\n",
       "        vertical-align: top;\n",
       "    }\n",
       "</style>\n",
       "<table border=\"1\" class=\"dataframe\">\n",
       "  <thead>\n",
       "    <tr style=\"text-align: right;\">\n",
       "      <th></th>\n",
       "      <th>Tipo dato</th>\n",
       "      <th>farmacie - per 100 famiglie con le stesse caratteristiche</th>\n",
       "      <th>farmacie - valori in migliaia</th>\n",
       "      <th>negozi alimentari, mercati - per 100 famiglie con le stesse caratteristiche</th>\n",
       "      <th>negozi alimentari, mercati - valori in migliaia</th>\n",
       "      <th>polizia, carabinieri - per 100 famiglie con le stesse caratteristiche</th>\n",
       "      <th>polizia, carabinieri - valori in migliaia</th>\n",
       "      <th>pronto soccorso - per 100 famiglie con le stesse caratteristiche</th>\n",
       "      <th>pronto soccorso - valori in migliaia</th>\n",
       "      <th>supermercati - per 100 famiglie con le stesse caratteristiche</th>\n",
       "      <th>supermercati - valori in migliaia</th>\n",
       "      <th>uffici comunali - per 100 famiglie con le stesse caratteristiche</th>\n",
       "      <th>uffici comunali - valori in migliaia</th>\n",
       "      <th>uffici postali - per 100 famiglie con le stesse caratteristiche</th>\n",
       "      <th>uffici postali - valori in migliaia</th>\n",
       "    </tr>\n",
       "    <tr>\n",
       "      <th>Seleziona periodo</th>\n",
       "      <th>Territorio</th>\n",
       "      <th></th>\n",
       "      <th></th>\n",
       "      <th></th>\n",
       "      <th></th>\n",
       "      <th></th>\n",
       "      <th></th>\n",
       "      <th></th>\n",
       "      <th></th>\n",
       "      <th></th>\n",
       "      <th></th>\n",
       "      <th></th>\n",
       "      <th></th>\n",
       "      <th></th>\n",
       "      <th></th>\n",
       "    </tr>\n",
       "  </thead>\n",
       "  <tbody>\n",
       "    <tr>\n",
       "      <th rowspan=\"5\" valign=\"top\">2003</th>\n",
       "      <th>Abruzzo</th>\n",
       "      <td>26.7</td>\n",
       "      <td>127.0</td>\n",
       "      <td>24.3</td>\n",
       "      <td>115.0</td>\n",
       "      <td>41.0</td>\n",
       "      <td>195.0</td>\n",
       "      <td>60.2</td>\n",
       "      <td>285.0</td>\n",
       "      <td>39.4</td>\n",
       "      <td>187.0</td>\n",
       "      <td>32.2</td>\n",
       "      <td>153.0</td>\n",
       "      <td>26.1</td>\n",
       "      <td>124.0</td>\n",
       "    </tr>\n",
       "    <tr>\n",
       "      <th>Basilicata</th>\n",
       "      <td>29.7</td>\n",
       "      <td>62.0</td>\n",
       "      <td>24.2</td>\n",
       "      <td>51.0</td>\n",
       "      <td>37.6</td>\n",
       "      <td>79.0</td>\n",
       "      <td>66.2</td>\n",
       "      <td>139.0</td>\n",
       "      <td>34.8</td>\n",
       "      <td>73.0</td>\n",
       "      <td>35.3</td>\n",
       "      <td>74.0</td>\n",
       "      <td>30.3</td>\n",
       "      <td>64.0</td>\n",
       "    </tr>\n",
       "    <tr>\n",
       "      <th>Calabria</th>\n",
       "      <td>39.1</td>\n",
       "      <td>281.0</td>\n",
       "      <td>33.4</td>\n",
       "      <td>240.0</td>\n",
       "      <td>52.5</td>\n",
       "      <td>377.0</td>\n",
       "      <td>73.1</td>\n",
       "      <td>525.0</td>\n",
       "      <td>48.9</td>\n",
       "      <td>351.0</td>\n",
       "      <td>43.5</td>\n",
       "      <td>312.0</td>\n",
       "      <td>40.6</td>\n",
       "      <td>292.0</td>\n",
       "    </tr>\n",
       "    <tr>\n",
       "      <th>Campania</th>\n",
       "      <td>29.1</td>\n",
       "      <td>564.0</td>\n",
       "      <td>20.9</td>\n",
       "      <td>405.0</td>\n",
       "      <td>50.4</td>\n",
       "      <td>975.0</td>\n",
       "      <td>63.2</td>\n",
       "      <td>1225.0</td>\n",
       "      <td>37.4</td>\n",
       "      <td>725.0</td>\n",
       "      <td>44.0</td>\n",
       "      <td>852.0</td>\n",
       "      <td>39.4</td>\n",
       "      <td>763.0</td>\n",
       "    </tr>\n",
       "    <tr>\n",
       "      <th>Centro</th>\n",
       "      <td>22.5</td>\n",
       "      <td>1004.0</td>\n",
       "      <td>19.2</td>\n",
       "      <td>859.0</td>\n",
       "      <td>35.4</td>\n",
       "      <td>1583.0</td>\n",
       "      <td>54.7</td>\n",
       "      <td>2444.0</td>\n",
       "      <td>28.8</td>\n",
       "      <td>1287.0</td>\n",
       "      <td>40.9</td>\n",
       "      <td>1827.0</td>\n",
       "      <td>26.9</td>\n",
       "      <td>1202.0</td>\n",
       "    </tr>\n",
       "  </tbody>\n",
       "</table>\n",
       "</div>"
      ],
      "text/plain": [
       "Tipo dato                     farmacie - per 100 famiglie con le stesse caratteristiche  \\\n",
       "Seleziona periodo Territorio                                                              \n",
       "2003              Abruzzo                                                  26.7           \n",
       "                  Basilicata                                               29.7           \n",
       "                  Calabria                                                 39.1           \n",
       "                  Campania                                                 29.1           \n",
       "                  Centro                                                   22.5           \n",
       "\n",
       "Tipo dato                     farmacie - valori in migliaia  \\\n",
       "Seleziona periodo Territorio                                  \n",
       "2003              Abruzzo                             127.0   \n",
       "                  Basilicata                           62.0   \n",
       "                  Calabria                            281.0   \n",
       "                  Campania                            564.0   \n",
       "                  Centro                             1004.0   \n",
       "\n",
       "Tipo dato                     negozi alimentari, mercati - per 100 famiglie con le stesse caratteristiche  \\\n",
       "Seleziona periodo Territorio                                                                                \n",
       "2003              Abruzzo                                                  24.3                             \n",
       "                  Basilicata                                               24.2                             \n",
       "                  Calabria                                                 33.4                             \n",
       "                  Campania                                                 20.9                             \n",
       "                  Centro                                                   19.2                             \n",
       "\n",
       "Tipo dato                     negozi alimentari, mercati - valori in migliaia  \\\n",
       "Seleziona periodo Territorio                                                    \n",
       "2003              Abruzzo                                               115.0   \n",
       "                  Basilicata                                             51.0   \n",
       "                  Calabria                                              240.0   \n",
       "                  Campania                                              405.0   \n",
       "                  Centro                                                859.0   \n",
       "\n",
       "Tipo dato                     polizia, carabinieri - per 100 famiglie con le stesse caratteristiche  \\\n",
       "Seleziona periodo Territorio                                                                          \n",
       "2003              Abruzzo                                                  41.0                       \n",
       "                  Basilicata                                               37.6                       \n",
       "                  Calabria                                                 52.5                       \n",
       "                  Campania                                                 50.4                       \n",
       "                  Centro                                                   35.4                       \n",
       "\n",
       "Tipo dato                     polizia, carabinieri - valori in migliaia  \\\n",
       "Seleziona periodo Territorio                                              \n",
       "2003              Abruzzo                                         195.0   \n",
       "                  Basilicata                                       79.0   \n",
       "                  Calabria                                        377.0   \n",
       "                  Campania                                        975.0   \n",
       "                  Centro                                         1583.0   \n",
       "\n",
       "Tipo dato                     pronto soccorso - per 100 famiglie con le stesse caratteristiche  \\\n",
       "Seleziona periodo Territorio                                                                     \n",
       "2003              Abruzzo                                                  60.2                  \n",
       "                  Basilicata                                               66.2                  \n",
       "                  Calabria                                                 73.1                  \n",
       "                  Campania                                                 63.2                  \n",
       "                  Centro                                                   54.7                  \n",
       "\n",
       "Tipo dato                     pronto soccorso - valori in migliaia  \\\n",
       "Seleziona periodo Territorio                                         \n",
       "2003              Abruzzo                                    285.0   \n",
       "                  Basilicata                                 139.0   \n",
       "                  Calabria                                   525.0   \n",
       "                  Campania                                  1225.0   \n",
       "                  Centro                                    2444.0   \n",
       "\n",
       "Tipo dato                     supermercati - per 100 famiglie con le stesse caratteristiche  \\\n",
       "Seleziona periodo Territorio                                                                  \n",
       "2003              Abruzzo                                                  39.4               \n",
       "                  Basilicata                                               34.8               \n",
       "                  Calabria                                                 48.9               \n",
       "                  Campania                                                 37.4               \n",
       "                  Centro                                                   28.8               \n",
       "\n",
       "Tipo dato                     supermercati - valori in migliaia  \\\n",
       "Seleziona periodo Territorio                                      \n",
       "2003              Abruzzo                                 187.0   \n",
       "                  Basilicata                               73.0   \n",
       "                  Calabria                                351.0   \n",
       "                  Campania                                725.0   \n",
       "                  Centro                                 1287.0   \n",
       "\n",
       "Tipo dato                     uffici comunali - per 100 famiglie con le stesse caratteristiche  \\\n",
       "Seleziona periodo Territorio                                                                     \n",
       "2003              Abruzzo                                                  32.2                  \n",
       "                  Basilicata                                               35.3                  \n",
       "                  Calabria                                                 43.5                  \n",
       "                  Campania                                                 44.0                  \n",
       "                  Centro                                                   40.9                  \n",
       "\n",
       "Tipo dato                     uffici comunali - valori in migliaia  \\\n",
       "Seleziona periodo Territorio                                         \n",
       "2003              Abruzzo                                    153.0   \n",
       "                  Basilicata                                  74.0   \n",
       "                  Calabria                                   312.0   \n",
       "                  Campania                                   852.0   \n",
       "                  Centro                                    1827.0   \n",
       "\n",
       "Tipo dato                     uffici postali - per 100 famiglie con le stesse caratteristiche  \\\n",
       "Seleziona periodo Territorio                                                                    \n",
       "2003              Abruzzo                                                  26.1                 \n",
       "                  Basilicata                                               30.3                 \n",
       "                  Calabria                                                 40.6                 \n",
       "                  Campania                                                 39.4                 \n",
       "                  Centro                                                   26.9                 \n",
       "\n",
       "Tipo dato                     uffici postali - valori in migliaia  \n",
       "Seleziona periodo Territorio                                       \n",
       "2003              Abruzzo                                   124.0  \n",
       "                  Basilicata                                 64.0  \n",
       "                  Calabria                                  292.0  \n",
       "                  Campania                                  763.0  \n",
       "                  Centro                                   1202.0  "
      ]
     },
     "execution_count": 54,
     "metadata": {},
     "output_type": "execute_result"
    }
   ],
   "source": [
    "reach_services_difficulty.head()"
   ]
  },
  {
   "cell_type": "markdown",
   "metadata": {},
   "source": [
    "### Internal Migration - Transfer of Residence"
   ]
  },
  {
   "cell_type": "code",
   "execution_count": 109,
   "metadata": {},
   "outputs": [],
   "source": [
    "internal_migration = pd.read_table(\"/home/sara/Documents/Immigration/Data_not_git/Prov_info/Migration (Transfer of residence)/DCIS_MIGRAZIONI_Data_61410102-5b80-4f23-bbaa-58c89c5b5657.csv\")"
   ]
  },
  {
   "cell_type": "code",
   "execution_count": 110,
   "metadata": {},
   "outputs": [
    {
     "name": "stdout",
     "output_type": "stream",
     "text": [
      "Tipo di indicatore demografico {'trasferimenti di residenza'}\n",
      "Sesso {'totale'}\n",
      "Tipo di trasferimento {'tutte le voci'}\n",
      "Età {'totale'}\n",
      "Stato estero di provenienza {'Mondo'}\n",
      "Stato estero di  destinazione {'Mondo'}\n"
     ]
    }
   ],
   "source": [
    "live_births = bdf.re_ordering_df(internal_migration)\n",
    "bdf.drop_useless(internal_migration)"
   ]
  },
  {
   "cell_type": "code",
   "execution_count": 111,
   "metadata": {},
   "outputs": [],
   "source": [
    "internal_migration = bdf.filtering(internal_migration, \"Territorio di origine\", interest_territories)\n",
    "internal_migration = bdf.filtering(internal_migration, \"Seleziona periodo\", years)"
   ]
  },
  {
   "cell_type": "code",
   "execution_count": 112,
   "metadata": {},
   "outputs": [
    {
     "data": {
      "text/plain": [
       "{'Foreign country', 'Italia', 'Totale'}"
      ]
     },
     "execution_count": 112,
     "metadata": {},
     "output_type": "execute_result"
    }
   ],
   "source": [
    "set(internal_migration[\"Paese di cittadinanza\"])"
   ]
  },
  {
   "cell_type": "code",
   "execution_count": 113,
   "metadata": {},
   "outputs": [
    {
     "data": {
      "text/plain": [
       "'internal_migration_foreign, internal_migration_it, internal_migration_tot = divide_table(internal_migration, \"Paese di cittadinanza\")\\ninternal_migration_foreign = pivot(internal_migration_foreign, \"Territorio di origine\", \"0  Flags\")\\ninternal_migration_it = pivot(internal_migration_it, \"Territorio di origine\", \"0  Flags\")\\ninternal_migration_tot = pivot(internal_migration_tot, \"Territorio di origine\", \"0  Flags\")'"
      ]
     },
     "execution_count": 113,
     "metadata": {},
     "output_type": "execute_result"
    }
   ],
   "source": [
    "'''internal_migration_foreign, internal_migration_it, internal_migration_tot = divide_table(internal_migration, \"Paese di cittadinanza\")\n",
    "internal_migration_foreign = pivot(internal_migration_foreign, \"Territorio di origine\", \"0  Flags\")\n",
    "internal_migration_it = pivot(internal_migration_it, \"Territorio di origine\", \"0  Flags\")\n",
    "internal_migration_tot = pivot(internal_migration_tot, \"Territorio di origine\", \"0  Flags\")'''"
   ]
  },
  {
   "cell_type": "code",
   "execution_count": 114,
   "metadata": {},
   "outputs": [],
   "source": [
    "internal_migration = bdf.differentiate_values(internal_migration, \"Paese di cittadinanza\", \"Territorio di origine\")\n",
    "internal_migration = bdf.pivot(internal_migration, \"Territorio di origine\", \"0  Flags\")"
   ]
  },
  {
   "cell_type": "code",
   "execution_count": 115,
   "metadata": {
    "scrolled": true
   },
   "outputs": [
    {
     "name": "stdout",
     "output_type": "stream",
     "text": [
      "Asti - Foreign country\n",
      "Belluno - Foreign country\n",
      "Benevento - Foreign country\n",
      "Biella - Foreign country\n",
      "Brindisi - Foreign country\n",
      "Caltanissetta - Foreign country\n",
      "Campobasso - Foreign country\n",
      "Carbonia-Iglesias - Foreign country\n",
      "Crotone - Foreign country\n",
      "Enna - Foreign country\n",
      "Gorizia - Foreign country\n",
      "Imperia - Foreign country\n",
      "Isernia - Foreign country\n",
      "La Spezia - Foreign country\n",
      "Lodi - Foreign country\n",
      "Massa-Carrara - Foreign country\n",
      "Matera - Foreign country\n",
      "Medio Campidano - Foreign country\n",
      "Medio Campidano - Italia\n",
      "Medio Campidano - Totale\n",
      "Nuoro - Foreign country\n",
      "Ogliastra - Foreign country\n",
      "Ogliastra - Italia\n",
      "Ogliastra - Totale\n",
      "Olbia-Tempio - Foreign country\n",
      "Oristano - Foreign country\n",
      "Rieti - Foreign country\n",
      "Sassari - Foreign country\n",
      "Savona - Foreign country\n",
      "Siracusa - Foreign country\n",
      "Sondrio - Foreign country\n",
      "Trapani - Foreign country\n",
      "Trieste - Foreign country\n",
      "Valle d'Aosta / Vallée d'Aoste - Foreign country\n",
      "Verbano-Cusio-Ossola - Foreign country\n",
      "Vercelli - Foreign country\n",
      "Vibo Valentia - Foreign country\n"
     ]
    }
   ],
   "source": [
    "bdf.del_missing(internal_migration)"
   ]
  },
  {
   "cell_type": "code",
   "execution_count": 116,
   "metadata": {},
   "outputs": [
    {
     "name": "stdout",
     "output_type": "stream",
     "text": [
      "[2017]\n",
      "['Barletta-Andria-Trani', 'Fermo', 'Monza e della Brianza']\n"
     ]
    }
   ],
   "source": [
    "bdf.check_missing_index(internal_migration, years, interest_territories)"
   ]
  },
  {
   "cell_type": "code",
   "execution_count": 117,
   "metadata": {},
   "outputs": [
    {
     "name": "stdout",
     "output_type": "stream",
     "text": [
      "Abruzzo - Foreign country\n",
      "Abruzzo - Italia\n",
      "Abruzzo - Totale\n",
      "Agrigento - Foreign country\n",
      "Agrigento - Italia\n",
      "Agrigento - Totale\n",
      "Alessandria - Foreign country\n",
      "Alessandria - Italia\n",
      "Alessandria - Totale\n",
      "Ancona - Foreign country\n",
      "Ancona - Italia\n",
      "Ancona - Totale\n",
      "Arezzo - Foreign country\n",
      "Arezzo - Italia\n",
      "Arezzo - Totale\n",
      "Ascoli Piceno - Foreign country\n",
      "Ascoli Piceno - Italia\n",
      "Ascoli Piceno - Totale\n",
      "Asti - Italia\n",
      "Asti - Totale\n",
      "Avellino - Foreign country\n",
      "Avellino - Italia\n",
      "Avellino - Totale\n",
      "Bari - Foreign country\n",
      "Bari - Italia\n",
      "Bari - Totale\n",
      "Basilicata - Foreign country\n",
      "Basilicata - Italia\n",
      "Basilicata - Totale\n",
      "Belluno - Italia\n",
      "Belluno - Totale\n",
      "Benevento - Italia\n",
      "Benevento - Totale\n",
      "Bergamo - Foreign country\n",
      "Bergamo - Italia\n",
      "Bergamo - Totale\n",
      "Biella - Italia\n",
      "Biella - Totale\n",
      "Bologna - Foreign country\n",
      "Bologna - Italia\n",
      "Bolzano / Bozen - Foreign country\n",
      "Bolzano / Bozen - Italia\n",
      "Bolzano / Bozen - Totale\n",
      "Brescia - Foreign country\n",
      "Brescia - Italia\n",
      "Brescia - Totale\n",
      "Brindisi - Italia\n",
      "Brindisi - Totale\n",
      "Cagliari - Foreign country\n",
      "Cagliari - Italia\n",
      "Cagliari - Totale\n",
      "Calabria - Foreign country\n",
      "Calabria - Italia\n",
      "Calabria - Totale\n",
      "Caltanissetta - Italia\n",
      "Caltanissetta - Totale\n",
      "Campania - Foreign country\n",
      "Campobasso - Italia\n",
      "Campobasso - Totale\n",
      "Carbonia-Iglesias - Italia\n",
      "Carbonia-Iglesias - Totale\n",
      "Caserta - Foreign country\n",
      "Caserta - Italia\n",
      "Caserta - Totale\n",
      "Catania - Foreign country\n",
      "Catania - Italia\n",
      "Catania - Totale\n",
      "Catanzaro - Foreign country\n",
      "Catanzaro - Italia\n",
      "Catanzaro - Totale\n",
      "Centro - Foreign country\n",
      "Chieti - Foreign country\n",
      "Chieti - Italia\n",
      "Chieti - Totale\n",
      "Como - Foreign country\n",
      "Como - Italia\n",
      "Como - Totale\n",
      "Cosenza - Foreign country\n",
      "Cosenza - Italia\n",
      "Cosenza - Totale\n",
      "Cremona - Foreign country\n",
      "Cremona - Italia\n",
      "Cremona - Totale\n",
      "Crotone - Italia\n",
      "Crotone - Totale\n",
      "Cuneo - Foreign country\n",
      "Cuneo - Italia\n",
      "Cuneo - Totale\n",
      "Emilia-Romagna - Foreign country\n",
      "Enna - Italia\n",
      "Enna - Totale\n",
      "Ferrara - Foreign country\n",
      "Ferrara - Italia\n",
      "Ferrara - Totale\n",
      "Firenze - Foreign country\n",
      "Firenze - Italia\n",
      "Firenze - Totale\n",
      "Foggia - Foreign country\n",
      "Foggia - Italia\n",
      "Foggia - Totale\n",
      "Forlì-Cesena - Foreign country\n",
      "Forlì-Cesena - Italia\n",
      "Forlì-Cesena - Totale\n",
      "Friuli-Venezia Giulia - Foreign country\n",
      "Friuli-Venezia Giulia - Italia\n",
      "Friuli-Venezia Giulia - Totale\n",
      "Frosinone - Foreign country\n",
      "Frosinone - Italia\n",
      "Frosinone - Totale\n",
      "Genova - Foreign country\n",
      "Genova - Italia\n",
      "Genova - Totale\n",
      "Gorizia - Italia\n",
      "Gorizia - Totale\n",
      "Grosseto - Foreign country\n",
      "Grosseto - Italia\n",
      "Grosseto - Totale\n",
      "Imperia - Italia\n",
      "Imperia - Totale\n",
      "Isernia - Italia\n",
      "Isernia - Totale\n",
      "Isole - Foreign country\n",
      "L'Aquila - Foreign country\n",
      "L'Aquila - Italia\n",
      "L'Aquila - Totale\n",
      "La Spezia - Italia\n",
      "La Spezia - Totale\n",
      "Latina - Foreign country\n",
      "Latina - Italia\n",
      "Latina - Totale\n",
      "Lazio - Foreign country\n",
      "Lecce - Foreign country\n",
      "Lecce - Italia\n",
      "Lecce - Totale\n",
      "Lecco - Foreign country\n",
      "Lecco - Italia\n",
      "Lecco - Totale\n",
      "Liguria - Foreign country\n",
      "Liguria - Italia\n",
      "Liguria - Totale\n",
      "Livorno - Foreign country\n",
      "Livorno - Italia\n",
      "Livorno - Totale\n",
      "Lodi - Italia\n",
      "Lodi - Totale\n",
      "Lombardia - Foreign country\n",
      "Lucca - Foreign country\n",
      "Lucca - Italia\n",
      "Lucca - Totale\n",
      "Macerata - Foreign country\n",
      "Macerata - Italia\n",
      "Macerata - Totale\n",
      "Mantova - Foreign country\n",
      "Mantova - Italia\n",
      "Mantova - Totale\n",
      "Marche - Foreign country\n",
      "Marche - Italia\n",
      "Marche - Totale\n",
      "Massa-Carrara - Italia\n",
      "Massa-Carrara - Totale\n",
      "Matera - Italia\n",
      "Matera - Totale\n",
      "Messina - Foreign country\n",
      "Messina - Italia\n",
      "Messina - Totale\n",
      "Milano - Foreign country\n",
      "Modena - Foreign country\n",
      "Modena - Italia\n",
      "Modena - Totale\n",
      "Molise - Foreign country\n",
      "Molise - Italia\n",
      "Molise - Totale\n",
      "Napoli - Foreign country\n",
      "Napoli - Italia\n",
      "Napoli - Totale\n",
      "Nord-est - Foreign country\n",
      "Novara - Foreign country\n",
      "Novara - Italia\n",
      "Novara - Totale\n",
      "Nuoro - Italia\n",
      "Nuoro - Totale\n",
      "Olbia-Tempio - Italia\n",
      "Olbia-Tempio - Totale\n",
      "Oristano - Italia\n",
      "Oristano - Totale\n",
      "Padova - Foreign country\n",
      "Padova - Italia\n",
      "Padova - Totale\n",
      "Palermo - Foreign country\n",
      "Palermo - Italia\n",
      "Palermo - Totale\n",
      "Parma - Foreign country\n",
      "Parma - Italia\n",
      "Parma - Totale\n",
      "Pavia - Foreign country\n",
      "Pavia - Italia\n",
      "Pavia - Totale\n",
      "Perugia - Foreign country\n",
      "Perugia - Italia\n",
      "Perugia - Totale\n",
      "Pesaro e Urbino - Foreign country\n",
      "Pesaro e Urbino - Italia\n",
      "Pesaro e Urbino - Totale\n",
      "Pescara - Foreign country\n",
      "Pescara - Italia\n",
      "Pescara - Totale\n",
      "Piacenza - Foreign country\n",
      "Piacenza - Italia\n",
      "Piacenza - Totale\n",
      "Piemonte - Foreign country\n",
      "Pisa - Foreign country\n",
      "Pisa - Italia\n",
      "Pisa - Totale\n",
      "Pistoia - Foreign country\n",
      "Pistoia - Italia\n",
      "Pistoia - Totale\n",
      "Pordenone - Foreign country\n",
      "Pordenone - Italia\n",
      "Pordenone - Totale\n",
      "Potenza - Foreign country\n",
      "Potenza - Italia\n",
      "Potenza - Totale\n",
      "Prato - Foreign country\n",
      "Prato - Italia\n",
      "Prato - Totale\n",
      "Puglia - Foreign country\n",
      "Ragusa - Foreign country\n",
      "Ragusa - Italia\n",
      "Ragusa - Totale\n",
      "Ravenna - Foreign country\n",
      "Ravenna - Italia\n",
      "Ravenna - Totale\n",
      "Reggio di Calabria - Foreign country\n",
      "Reggio di Calabria - Italia\n",
      "Reggio di Calabria - Totale\n",
      "Reggio nell'Emilia - Foreign country\n",
      "Reggio nell'Emilia - Italia\n",
      "Reggio nell'Emilia - Totale\n",
      "Rieti - Italia\n",
      "Rieti - Totale\n",
      "Rimini - Foreign country\n",
      "Rimini - Italia\n",
      "Rimini - Totale\n",
      "Roma - Foreign country\n",
      "Rovigo - Foreign country\n",
      "Rovigo - Italia\n",
      "Rovigo - Totale\n",
      "Salerno - Foreign country\n",
      "Salerno - Italia\n",
      "Salerno - Totale\n",
      "Sardegna - Foreign country\n",
      "Sassari - Italia\n",
      "Sassari - Totale\n",
      "Savona - Italia\n",
      "Savona - Totale\n",
      "Sicilia - Foreign country\n",
      "Siena - Foreign country\n",
      "Siena - Italia\n",
      "Siena - Totale\n",
      "Siracusa - Italia\n",
      "Siracusa - Totale\n",
      "Sondrio - Italia\n",
      "Sondrio - Totale\n",
      "Sud - Foreign country\n",
      "Taranto - Foreign country\n",
      "Taranto - Italia\n",
      "Taranto - Totale\n",
      "Teramo - Foreign country\n",
      "Teramo - Italia\n",
      "Teramo - Totale\n",
      "Terni - Foreign country\n",
      "Terni - Italia\n",
      "Terni - Totale\n",
      "Torino - Foreign country\n",
      "Torino - Italia\n",
      "Toscana - Foreign country\n",
      "Trapani - Italia\n",
      "Trapani - Totale\n",
      "Trento - Foreign country\n",
      "Trento - Italia\n",
      "Trento - Totale\n",
      "Treviso - Foreign country\n",
      "Treviso - Italia\n",
      "Treviso - Totale\n",
      "Trieste - Italia\n",
      "Trieste - Totale\n",
      "Udine - Foreign country\n",
      "Udine - Italia\n",
      "Udine - Totale\n",
      "Umbria - Foreign country\n",
      "Umbria - Italia\n",
      "Umbria - Totale\n",
      "Valle d'Aosta / Vallée d'Aoste - Italia\n",
      "Valle d'Aosta / Vallée d'Aoste - Totale\n",
      "Varese - Foreign country\n",
      "Varese - Italia\n",
      "Varese - Totale\n",
      "Veneto - Foreign country\n",
      "Venezia - Foreign country\n",
      "Venezia - Italia\n",
      "Venezia - Totale\n",
      "Verbano-Cusio-Ossola - Italia\n",
      "Verbano-Cusio-Ossola - Totale\n",
      "Vercelli - Italia\n",
      "Vercelli - Totale\n",
      "Verona - Foreign country\n",
      "Verona - Italia\n",
      "Verona - Totale\n",
      "Vibo Valentia - Italia\n",
      "Vibo Valentia - Totale\n",
      "Vicenza - Foreign country\n",
      "Vicenza - Italia\n",
      "Vicenza - Totale\n",
      "Viterbo - Foreign country\n",
      "Viterbo - Italia\n",
      "Viterbo - Totale\n"
     ]
    }
   ],
   "source": [
    "bdf.check_missing(internal_migration)"
   ]
  },
  {
   "cell_type": "code",
   "execution_count": 118,
   "metadata": {},
   "outputs": [
    {
     "data": {
      "text/html": [
       "<div>\n",
       "<style>\n",
       "    .dataframe thead tr:only-child th {\n",
       "        text-align: right;\n",
       "    }\n",
       "\n",
       "    .dataframe thead th {\n",
       "        text-align: left;\n",
       "    }\n",
       "\n",
       "    .dataframe tbody tr th {\n",
       "        vertical-align: top;\n",
       "    }\n",
       "</style>\n",
       "<table border=\"1\" class=\"dataframe\">\n",
       "  <thead>\n",
       "    <tr style=\"text-align: right;\">\n",
       "      <th></th>\n",
       "      <th>Territorio di origine</th>\n",
       "      <th>Abruzzo - Foreign country</th>\n",
       "      <th>Abruzzo - Italia</th>\n",
       "      <th>Abruzzo - Totale</th>\n",
       "      <th>Agrigento - Foreign country</th>\n",
       "      <th>Agrigento - Italia</th>\n",
       "      <th>Agrigento - Totale</th>\n",
       "      <th>Alessandria - Foreign country</th>\n",
       "      <th>Alessandria - Italia</th>\n",
       "      <th>Alessandria - Totale</th>\n",
       "      <th>Ancona - Foreign country</th>\n",
       "      <th>...</th>\n",
       "      <th>Verona - Italia</th>\n",
       "      <th>Verona - Totale</th>\n",
       "      <th>Vibo Valentia - Italia</th>\n",
       "      <th>Vibo Valentia - Totale</th>\n",
       "      <th>Vicenza - Foreign country</th>\n",
       "      <th>Vicenza - Italia</th>\n",
       "      <th>Vicenza - Totale</th>\n",
       "      <th>Viterbo - Foreign country</th>\n",
       "      <th>Viterbo - Italia</th>\n",
       "      <th>Viterbo - Totale</th>\n",
       "    </tr>\n",
       "    <tr>\n",
       "      <th>Seleziona periodo</th>\n",
       "      <th>Territorio di di destinazione</th>\n",
       "      <th></th>\n",
       "      <th></th>\n",
       "      <th></th>\n",
       "      <th></th>\n",
       "      <th></th>\n",
       "      <th></th>\n",
       "      <th></th>\n",
       "      <th></th>\n",
       "      <th></th>\n",
       "      <th></th>\n",
       "      <th></th>\n",
       "      <th></th>\n",
       "      <th></th>\n",
       "      <th></th>\n",
       "      <th></th>\n",
       "      <th></th>\n",
       "      <th></th>\n",
       "      <th></th>\n",
       "      <th></th>\n",
       "      <th></th>\n",
       "      <th></th>\n",
       "    </tr>\n",
       "  </thead>\n",
       "  <tbody>\n",
       "    <tr>\n",
       "      <th rowspan=\"5\" valign=\"top\">2003</th>\n",
       "      <th>Abruzzo</th>\n",
       "      <td>1026.0</td>\n",
       "      <td>13576.0</td>\n",
       "      <td>14602.0</td>\n",
       "      <td>NaN</td>\n",
       "      <td>20.0</td>\n",
       "      <td>20.0</td>\n",
       "      <td>5.0</td>\n",
       "      <td>39.0</td>\n",
       "      <td>44.0</td>\n",
       "      <td>10.0</td>\n",
       "      <td>...</td>\n",
       "      <td>41.0</td>\n",
       "      <td>47.0</td>\n",
       "      <td>15.0</td>\n",
       "      <td>15.0</td>\n",
       "      <td>4.0</td>\n",
       "      <td>15.0</td>\n",
       "      <td>19.0</td>\n",
       "      <td>7.0</td>\n",
       "      <td>37.0</td>\n",
       "      <td>44.0</td>\n",
       "    </tr>\n",
       "    <tr>\n",
       "      <th>Agrigento</th>\n",
       "      <td>NaN</td>\n",
       "      <td>15.0</td>\n",
       "      <td>15.0</td>\n",
       "      <td>45.0</td>\n",
       "      <td>1722.0</td>\n",
       "      <td>1767.0</td>\n",
       "      <td>1.0</td>\n",
       "      <td>30.0</td>\n",
       "      <td>31.0</td>\n",
       "      <td>3.0</td>\n",
       "      <td>...</td>\n",
       "      <td>26.0</td>\n",
       "      <td>28.0</td>\n",
       "      <td>12.0</td>\n",
       "      <td>12.0</td>\n",
       "      <td>1.0</td>\n",
       "      <td>44.0</td>\n",
       "      <td>45.0</td>\n",
       "      <td>NaN</td>\n",
       "      <td>1.0</td>\n",
       "      <td>1.0</td>\n",
       "    </tr>\n",
       "    <tr>\n",
       "      <th>Alessandria</th>\n",
       "      <td>NaN</td>\n",
       "      <td>15.0</td>\n",
       "      <td>15.0</td>\n",
       "      <td>1.0</td>\n",
       "      <td>61.0</td>\n",
       "      <td>62.0</td>\n",
       "      <td>462.0</td>\n",
       "      <td>5746.0</td>\n",
       "      <td>6208.0</td>\n",
       "      <td>2.0</td>\n",
       "      <td>...</td>\n",
       "      <td>10.0</td>\n",
       "      <td>11.0</td>\n",
       "      <td>13.0</td>\n",
       "      <td>13.0</td>\n",
       "      <td>4.0</td>\n",
       "      <td>15.0</td>\n",
       "      <td>19.0</td>\n",
       "      <td>NaN</td>\n",
       "      <td>3.0</td>\n",
       "      <td>3.0</td>\n",
       "    </tr>\n",
       "    <tr>\n",
       "      <th>Ancona</th>\n",
       "      <td>32.0</td>\n",
       "      <td>105.0</td>\n",
       "      <td>137.0</td>\n",
       "      <td>6.0</td>\n",
       "      <td>20.0</td>\n",
       "      <td>26.0</td>\n",
       "      <td>3.0</td>\n",
       "      <td>19.0</td>\n",
       "      <td>22.0</td>\n",
       "      <td>568.0</td>\n",
       "      <td>...</td>\n",
       "      <td>6.0</td>\n",
       "      <td>11.0</td>\n",
       "      <td>25.0</td>\n",
       "      <td>25.0</td>\n",
       "      <td>NaN</td>\n",
       "      <td>18.0</td>\n",
       "      <td>18.0</td>\n",
       "      <td>17.0</td>\n",
       "      <td>13.0</td>\n",
       "      <td>30.0</td>\n",
       "    </tr>\n",
       "    <tr>\n",
       "      <th>Arezzo</th>\n",
       "      <td>4.0</td>\n",
       "      <td>24.0</td>\n",
       "      <td>28.0</td>\n",
       "      <td>1.0</td>\n",
       "      <td>13.0</td>\n",
       "      <td>14.0</td>\n",
       "      <td>1.0</td>\n",
       "      <td>8.0</td>\n",
       "      <td>9.0</td>\n",
       "      <td>1.0</td>\n",
       "      <td>...</td>\n",
       "      <td>9.0</td>\n",
       "      <td>13.0</td>\n",
       "      <td>12.0</td>\n",
       "      <td>12.0</td>\n",
       "      <td>NaN</td>\n",
       "      <td>10.0</td>\n",
       "      <td>10.0</td>\n",
       "      <td>NaN</td>\n",
       "      <td>23.0</td>\n",
       "      <td>23.0</td>\n",
       "    </tr>\n",
       "  </tbody>\n",
       "</table>\n",
       "<p>5 rows × 356 columns</p>\n",
       "</div>"
      ],
      "text/plain": [
       "Territorio di origine                            Abruzzo - Foreign country  \\\n",
       "Seleziona periodo Territorio di di destinazione                              \n",
       "2003              Abruzzo                                           1026.0   \n",
       "                  Agrigento                                            NaN   \n",
       "                  Alessandria                                          NaN   \n",
       "                  Ancona                                              32.0   \n",
       "                  Arezzo                                               4.0   \n",
       "\n",
       "Territorio di origine                            Abruzzo - Italia  \\\n",
       "Seleziona periodo Territorio di di destinazione                     \n",
       "2003              Abruzzo                                 13576.0   \n",
       "                  Agrigento                                  15.0   \n",
       "                  Alessandria                                15.0   \n",
       "                  Ancona                                    105.0   \n",
       "                  Arezzo                                     24.0   \n",
       "\n",
       "Territorio di origine                            Abruzzo - Totale  \\\n",
       "Seleziona periodo Territorio di di destinazione                     \n",
       "2003              Abruzzo                                 14602.0   \n",
       "                  Agrigento                                  15.0   \n",
       "                  Alessandria                                15.0   \n",
       "                  Ancona                                    137.0   \n",
       "                  Arezzo                                     28.0   \n",
       "\n",
       "Territorio di origine                            Agrigento - Foreign country  \\\n",
       "Seleziona periodo Territorio di di destinazione                                \n",
       "2003              Abruzzo                                                NaN   \n",
       "                  Agrigento                                             45.0   \n",
       "                  Alessandria                                            1.0   \n",
       "                  Ancona                                                 6.0   \n",
       "                  Arezzo                                                 1.0   \n",
       "\n",
       "Territorio di origine                            Agrigento - Italia  \\\n",
       "Seleziona periodo Territorio di di destinazione                       \n",
       "2003              Abruzzo                                      20.0   \n",
       "                  Agrigento                                  1722.0   \n",
       "                  Alessandria                                  61.0   \n",
       "                  Ancona                                       20.0   \n",
       "                  Arezzo                                       13.0   \n",
       "\n",
       "Territorio di origine                            Agrigento - Totale  \\\n",
       "Seleziona periodo Territorio di di destinazione                       \n",
       "2003              Abruzzo                                      20.0   \n",
       "                  Agrigento                                  1767.0   \n",
       "                  Alessandria                                  62.0   \n",
       "                  Ancona                                       26.0   \n",
       "                  Arezzo                                       14.0   \n",
       "\n",
       "Territorio di origine                            Alessandria - Foreign country  \\\n",
       "Seleziona periodo Territorio di di destinazione                                  \n",
       "2003              Abruzzo                                                  5.0   \n",
       "                  Agrigento                                                1.0   \n",
       "                  Alessandria                                            462.0   \n",
       "                  Ancona                                                   3.0   \n",
       "                  Arezzo                                                   1.0   \n",
       "\n",
       "Territorio di origine                            Alessandria - Italia  \\\n",
       "Seleziona periodo Territorio di di destinazione                         \n",
       "2003              Abruzzo                                        39.0   \n",
       "                  Agrigento                                      30.0   \n",
       "                  Alessandria                                  5746.0   \n",
       "                  Ancona                                         19.0   \n",
       "                  Arezzo                                          8.0   \n",
       "\n",
       "Territorio di origine                            Alessandria - Totale  \\\n",
       "Seleziona periodo Territorio di di destinazione                         \n",
       "2003              Abruzzo                                        44.0   \n",
       "                  Agrigento                                      31.0   \n",
       "                  Alessandria                                  6208.0   \n",
       "                  Ancona                                         22.0   \n",
       "                  Arezzo                                          9.0   \n",
       "\n",
       "Territorio di origine                            Ancona - Foreign country  \\\n",
       "Seleziona periodo Territorio di di destinazione                             \n",
       "2003              Abruzzo                                            10.0   \n",
       "                  Agrigento                                           3.0   \n",
       "                  Alessandria                                         2.0   \n",
       "                  Ancona                                            568.0   \n",
       "                  Arezzo                                              1.0   \n",
       "\n",
       "Territorio di origine                                  ...         \\\n",
       "Seleziona periodo Territorio di di destinazione        ...          \n",
       "2003              Abruzzo                              ...          \n",
       "                  Agrigento                            ...          \n",
       "                  Alessandria                          ...          \n",
       "                  Ancona                               ...          \n",
       "                  Arezzo                               ...          \n",
       "\n",
       "Territorio di origine                            Verona - Italia  \\\n",
       "Seleziona periodo Territorio di di destinazione                    \n",
       "2003              Abruzzo                                   41.0   \n",
       "                  Agrigento                                 26.0   \n",
       "                  Alessandria                               10.0   \n",
       "                  Ancona                                     6.0   \n",
       "                  Arezzo                                     9.0   \n",
       "\n",
       "Territorio di origine                            Verona - Totale  \\\n",
       "Seleziona periodo Territorio di di destinazione                    \n",
       "2003              Abruzzo                                   47.0   \n",
       "                  Agrigento                                 28.0   \n",
       "                  Alessandria                               11.0   \n",
       "                  Ancona                                    11.0   \n",
       "                  Arezzo                                    13.0   \n",
       "\n",
       "Territorio di origine                            Vibo Valentia - Italia  \\\n",
       "Seleziona periodo Territorio di di destinazione                           \n",
       "2003              Abruzzo                                          15.0   \n",
       "                  Agrigento                                        12.0   \n",
       "                  Alessandria                                      13.0   \n",
       "                  Ancona                                           25.0   \n",
       "                  Arezzo                                           12.0   \n",
       "\n",
       "Territorio di origine                            Vibo Valentia - Totale  \\\n",
       "Seleziona periodo Territorio di di destinazione                           \n",
       "2003              Abruzzo                                          15.0   \n",
       "                  Agrigento                                        12.0   \n",
       "                  Alessandria                                      13.0   \n",
       "                  Ancona                                           25.0   \n",
       "                  Arezzo                                           12.0   \n",
       "\n",
       "Territorio di origine                            Vicenza - Foreign country  \\\n",
       "Seleziona periodo Territorio di di destinazione                              \n",
       "2003              Abruzzo                                              4.0   \n",
       "                  Agrigento                                            1.0   \n",
       "                  Alessandria                                          4.0   \n",
       "                  Ancona                                               NaN   \n",
       "                  Arezzo                                               NaN   \n",
       "\n",
       "Territorio di origine                            Vicenza - Italia  \\\n",
       "Seleziona periodo Territorio di di destinazione                     \n",
       "2003              Abruzzo                                    15.0   \n",
       "                  Agrigento                                  44.0   \n",
       "                  Alessandria                                15.0   \n",
       "                  Ancona                                     18.0   \n",
       "                  Arezzo                                     10.0   \n",
       "\n",
       "Territorio di origine                            Vicenza - Totale  \\\n",
       "Seleziona periodo Territorio di di destinazione                     \n",
       "2003              Abruzzo                                    19.0   \n",
       "                  Agrigento                                  45.0   \n",
       "                  Alessandria                                19.0   \n",
       "                  Ancona                                     18.0   \n",
       "                  Arezzo                                     10.0   \n",
       "\n",
       "Territorio di origine                            Viterbo - Foreign country  \\\n",
       "Seleziona periodo Territorio di di destinazione                              \n",
       "2003              Abruzzo                                              7.0   \n",
       "                  Agrigento                                            NaN   \n",
       "                  Alessandria                                          NaN   \n",
       "                  Ancona                                              17.0   \n",
       "                  Arezzo                                               NaN   \n",
       "\n",
       "Territorio di origine                            Viterbo - Italia  \\\n",
       "Seleziona periodo Territorio di di destinazione                     \n",
       "2003              Abruzzo                                    37.0   \n",
       "                  Agrigento                                   1.0   \n",
       "                  Alessandria                                 3.0   \n",
       "                  Ancona                                     13.0   \n",
       "                  Arezzo                                     23.0   \n",
       "\n",
       "Territorio di origine                            Viterbo - Totale  \n",
       "Seleziona periodo Territorio di di destinazione                    \n",
       "2003              Abruzzo                                    44.0  \n",
       "                  Agrigento                                   1.0  \n",
       "                  Alessandria                                 3.0  \n",
       "                  Ancona                                     30.0  \n",
       "                  Arezzo                                     23.0  \n",
       "\n",
       "[5 rows x 356 columns]"
      ]
     },
     "execution_count": 118,
     "metadata": {},
     "output_type": "execute_result"
    }
   ],
   "source": [
    "internal_migration.head()"
   ]
  },
  {
   "cell_type": "markdown",
   "metadata": {},
   "source": [
    "### Net Income"
   ]
  },
  {
   "cell_type": "markdown",
   "metadata": {},
   "source": [
    "**Fitti imputati**: Componente figurativa di reddito derivante dalla proprietà della abitazione in cui si vive, il cui valore è stimato dallo stesso proprietario in base al prezzo che, a suo parere, sarebbe necessario pagare per vivere in affitto nella propria abitazione."
   ]
  },
  {
   "cell_type": "code",
   "execution_count": 119,
   "metadata": {},
   "outputs": [],
   "source": [
    "net_income = pd.read_table(\"/home/sara/Documents/Immigration/Data_not_git/Prov_info/Net income/DCCV_REDNETFAMFONTERED_Data_3fba0ebc-d3a1-493c-958a-facf3d07dfd7.csv\", sep = \"\\t\")"
   ]
  },
  {
   "cell_type": "code",
   "execution_count": 120,
   "metadata": {},
   "outputs": [
    {
     "name": "stdout",
     "output_type": "stream",
     "text": [
      "Classe di età del principale percettore {'totale'}\n",
      "Condizione professionale prevalente nell'anno del principale percettore {'totale'}\n",
      "Misura {'valori assoluti'}\n",
      "Numero di anziani in famiglia  {'totale'}\n",
      "Numero di componenti {'totale'}\n",
      "Numero di minori in famiglia {'totale'}\n",
      "Sesso del principale percettore  {'totale'}\n",
      "Tipologia familiare {'totale'}\n",
      "Titolo di studio del principale percettore {'totale'}\n"
     ]
    }
   ],
   "source": [
    "net_income = bdf.re_ordering_df(net_income)\n",
    "bdf.drop_useless(net_income)"
   ]
  },
  {
   "cell_type": "markdown",
   "metadata": {},
   "source": [
    "As \"Tipo dato\" it is better to keep only the \"median\" because the \"mean\" is too much sensible to the outliers. BUT! Let's keep both in different tables!"
   ]
  },
  {
   "cell_type": "code",
   "execution_count": 121,
   "metadata": {},
   "outputs": [],
   "source": [
    "#net_income = filtering(net_income, \"Tipo dato\", [\"reddito mediano annuale delle famiglie (in euro)\"])\n",
    "#del net_income[\"Tipo dato\"]\n",
    "net_income = bdf.filtering(net_income, \"Fonte principale di reddito familiare \", [\"totale\"])\n",
    "del net_income[\"Fonte principale di reddito familiare \"]\n",
    "net_income = bdf.filtering(net_income, \"Territorio\", interest_territories)\n",
    "net_income = bdf.filtering(net_income, \"Seleziona periodo\", years)\n",
    "\n",
    "net_income[\"0  Flags\"] = [int(i) for i in net_income[\"0  Flags\"]]"
   ]
  },
  {
   "cell_type": "code",
   "execution_count": 122,
   "metadata": {},
   "outputs": [
    {
     "data": {
      "text/plain": [
       "{'reddito mediano annuale delle famiglie (in euro)',\n",
       " 'reddito medio annuale delle famiglie (in euro)'}"
      ]
     },
     "execution_count": 122,
     "metadata": {},
     "output_type": "execute_result"
    }
   ],
   "source": [
    "set(net_income[\"Tipo dato\"])"
   ]
  },
  {
   "cell_type": "code",
   "execution_count": 123,
   "metadata": {},
   "outputs": [
    {
     "data": {
      "text/plain": [
       "'net_income_median, net_income_mean = divide_table(net_income, \"Tipo dato\")\\n\\nnet_income_median = pivot(net_income_median, \"Presenza affitti imputati\", \"0  Flags\")\\nnet_income_mean = pivot(net_income_mean, \"Presenza affitti imputati\", \"0  Flags\")'"
      ]
     },
     "execution_count": 123,
     "metadata": {},
     "output_type": "execute_result"
    }
   ],
   "source": [
    "'''net_income_median, net_income_mean = divide_table(net_income, \"Tipo dato\")\n",
    "\n",
    "net_income_median = pivot(net_income_median, \"Presenza affitti imputati\", \"0  Flags\")\n",
    "net_income_mean = pivot(net_income_mean, \"Presenza affitti imputati\", \"0  Flags\")'''"
   ]
  },
  {
   "cell_type": "code",
   "execution_count": 124,
   "metadata": {},
   "outputs": [],
   "source": [
    "net_income = bdf.differentiate_values(net_income, \"Presenza affitti imputati\", \"Tipo dato\")"
   ]
  },
  {
   "cell_type": "code",
   "execution_count": 125,
   "metadata": {},
   "outputs": [],
   "source": [
    "net_income = bdf.pivot(net_income, \"Tipo dato\", \"0  Flags\")"
   ]
  },
  {
   "cell_type": "code",
   "execution_count": 126,
   "metadata": {},
   "outputs": [],
   "source": [
    "bdf.del_missing(net_income)"
   ]
  },
  {
   "cell_type": "code",
   "execution_count": 127,
   "metadata": {},
   "outputs": [
    {
     "name": "stdout",
     "output_type": "stream",
     "text": [
      "[2016, 2017]\n",
      "[]\n"
     ]
    }
   ],
   "source": [
    "bdf.check_missing_index(net_income, years, [i for i in interest_territories if i not in provinces])"
   ]
  },
  {
   "cell_type": "code",
   "execution_count": 128,
   "metadata": {},
   "outputs": [],
   "source": [
    "bdf.check_missing(net_income)"
   ]
  },
  {
   "cell_type": "code",
   "execution_count": 129,
   "metadata": {},
   "outputs": [
    {
     "data": {
      "text/html": [
       "<div>\n",
       "<style>\n",
       "    .dataframe thead tr:only-child th {\n",
       "        text-align: right;\n",
       "    }\n",
       "\n",
       "    .dataframe thead th {\n",
       "        text-align: left;\n",
       "    }\n",
       "\n",
       "    .dataframe tbody tr th {\n",
       "        vertical-align: top;\n",
       "    }\n",
       "</style>\n",
       "<table border=\"1\" class=\"dataframe\">\n",
       "  <thead>\n",
       "    <tr style=\"text-align: right;\">\n",
       "      <th></th>\n",
       "      <th>Tipo dato</th>\n",
       "      <th>reddito mediano annuale delle famiglie (in euro) - esclusi fitti imputati</th>\n",
       "      <th>reddito mediano annuale delle famiglie (in euro) - inclusi fitti imputati</th>\n",
       "      <th>reddito medio annuale delle famiglie (in euro) - esclusi fitti imputati</th>\n",
       "      <th>reddito medio annuale delle famiglie (in euro) - inclusi fitti imputati</th>\n",
       "    </tr>\n",
       "    <tr>\n",
       "      <th>Seleziona periodo</th>\n",
       "      <th>Territorio</th>\n",
       "      <th></th>\n",
       "      <th></th>\n",
       "      <th></th>\n",
       "      <th></th>\n",
       "    </tr>\n",
       "  </thead>\n",
       "  <tbody>\n",
       "    <tr>\n",
       "      <th rowspan=\"5\" valign=\"top\">2003</th>\n",
       "      <th>Abruzzo</th>\n",
       "      <td>21576</td>\n",
       "      <td>25548</td>\n",
       "      <td>25689</td>\n",
       "      <td>29660</td>\n",
       "    </tr>\n",
       "    <tr>\n",
       "      <th>Basilicata</th>\n",
       "      <td>17882</td>\n",
       "      <td>20407</td>\n",
       "      <td>21322</td>\n",
       "      <td>24358</td>\n",
       "    </tr>\n",
       "    <tr>\n",
       "      <th>Calabria</th>\n",
       "      <td>17976</td>\n",
       "      <td>20401</td>\n",
       "      <td>20648</td>\n",
       "      <td>23537</td>\n",
       "    </tr>\n",
       "    <tr>\n",
       "      <th>Campania</th>\n",
       "      <td>18728</td>\n",
       "      <td>21996</td>\n",
       "      <td>23124</td>\n",
       "      <td>27002</td>\n",
       "    </tr>\n",
       "    <tr>\n",
       "      <th>Centro</th>\n",
       "      <td>23386</td>\n",
       "      <td>29651</td>\n",
       "      <td>28840</td>\n",
       "      <td>35444</td>\n",
       "    </tr>\n",
       "  </tbody>\n",
       "</table>\n",
       "</div>"
      ],
      "text/plain": [
       "Tipo dato                     reddito mediano annuale delle famiglie (in euro) - esclusi fitti imputati  \\\n",
       "Seleziona periodo Territorio                                                                              \n",
       "2003              Abruzzo                                                 21576                           \n",
       "                  Basilicata                                              17882                           \n",
       "                  Calabria                                                17976                           \n",
       "                  Campania                                                18728                           \n",
       "                  Centro                                                  23386                           \n",
       "\n",
       "Tipo dato                     reddito mediano annuale delle famiglie (in euro) - inclusi fitti imputati  \\\n",
       "Seleziona periodo Territorio                                                                              \n",
       "2003              Abruzzo                                                 25548                           \n",
       "                  Basilicata                                              20407                           \n",
       "                  Calabria                                                20401                           \n",
       "                  Campania                                                21996                           \n",
       "                  Centro                                                  29651                           \n",
       "\n",
       "Tipo dato                     reddito medio annuale delle famiglie (in euro) - esclusi fitti imputati  \\\n",
       "Seleziona periodo Territorio                                                                            \n",
       "2003              Abruzzo                                                 25689                         \n",
       "                  Basilicata                                              21322                         \n",
       "                  Calabria                                                20648                         \n",
       "                  Campania                                                23124                         \n",
       "                  Centro                                                  28840                         \n",
       "\n",
       "Tipo dato                     reddito medio annuale delle famiglie (in euro) - inclusi fitti imputati  \n",
       "Seleziona periodo Territorio                                                                           \n",
       "2003              Abruzzo                                                 29660                        \n",
       "                  Basilicata                                              24358                        \n",
       "                  Calabria                                                23537                        \n",
       "                  Campania                                                27002                        \n",
       "                  Centro                                                  35444                        "
      ]
     },
     "execution_count": 129,
     "metadata": {},
     "output_type": "execute_result"
    }
   ],
   "source": [
    "net_income.head()"
   ]
  },
  {
   "cell_type": "markdown",
   "metadata": {},
   "source": [
    "Some data are not included due to the availability of data:\n",
    "- **Basic health care** only 2004-2013\n",
    "- **Expenditure for intervections and social services** only 2013-2014\n",
    "- **Expenditure for the house of families with foreign components** only at zones level in 2009\n",
    "- **Aspect of dayli life - Interpersonal Trust** only from 2010 \n",
    "- **Hospitalizations** missing 2003, 2004, 2005, 2006, 2007, 2008, 2009, 2010, 2011, 2012, 2016, 2017\n",
    "- **Aspects of daily life - general life degree of satisfaction** missing 2003, 2004, 2005, 2006, 2007, 2008, 2009"
   ]
  },
  {
   "cell_type": "markdown",
   "metadata": {},
   "source": [
    "Some data are not included due to statistical problems:\n",
    "- **Economic situation opinions (Famigie per capacità di arrivare a fine mese)**: around 10.4% of data are not statistically significant and 4.6% do not reach the half of the minimun (ISTAT definition: Il dato si definisce poco significativo nel caso in cui corrisponda ad una numerosità campionaria compresa tra 20 e 49 unità.)"
   ]
  },
  {
   "cell_type": "code",
   "execution_count": 133,
   "metadata": {
    "scrolled": true
   },
   "outputs": [
    {
     "name": "stdout",
     "output_type": "stream",
     "text": [
      "1\n"
     ]
    },
    {
     "ename": "TypeError",
     "evalue": "object of type 'int' has no len()",
     "output_type": "error",
     "traceback": [
      "\u001b[0;31m---------------------------------------------------------------------------\u001b[0m",
      "\u001b[0;31mTypeError\u001b[0m                                 Traceback (most recent call last)",
      "\u001b[0;32m<ipython-input-133-50f209a2364a>\u001b[0m in \u001b[0;36m<module>\u001b[0;34m()\u001b[0m\n\u001b[1;32m      9\u001b[0m     \u001b[0mprint\u001b[0m\u001b[0;34m(\u001b[0m\u001b[0mc\u001b[0m\u001b[0;34m)\u001b[0m\u001b[0;34m\u001b[0m\u001b[0m\n\u001b[1;32m     10\u001b[0m     \u001b[0mtemp\u001b[0m \u001b[0;34m=\u001b[0m \u001b[0mf\u001b[0m\u001b[0;34m.\u001b[0m\u001b[0mloc\u001b[0m\u001b[0;34m[\u001b[0m\u001b[0mlist\u001b[0m\u001b[0;34m(\u001b[0m\u001b[0mrange\u001b[0m\u001b[0;34m(\u001b[0m\u001b[0;36m2005\u001b[0m\u001b[0;34m,\u001b[0m\u001b[0;36m2016\u001b[0m\u001b[0;34m)\u001b[0m\u001b[0;34m)\u001b[0m\u001b[0;34m]\u001b[0m\u001b[0;34m\u001b[0m\u001b[0m\n\u001b[0;32m---> 11\u001b[0;31m     \u001b[0mdata\u001b[0m \u001b[0;34m=\u001b[0m \u001b[0mpd\u001b[0m\u001b[0;34m.\u001b[0m\u001b[0mconcat\u001b[0m\u001b[0;34m(\u001b[0m\u001b[0;34m[\u001b[0m\u001b[0mtemp\u001b[0m\u001b[0;34m,\u001b[0m \u001b[0mdata\u001b[0m\u001b[0;34m]\u001b[0m\u001b[0;34m,\u001b[0m \u001b[0maxis\u001b[0m \u001b[0;34m=\u001b[0m \u001b[0;36m1\u001b[0m\u001b[0;34m)\u001b[0m\u001b[0;34m\u001b[0m\u001b[0m\n\u001b[0m",
      "\u001b[0;32m~/myenv/lib64/python3.6/site-packages/pandas/core/reshape/concat.py\u001b[0m in \u001b[0;36mconcat\u001b[0;34m(objs, axis, join, join_axes, ignore_index, keys, levels, names, verify_integrity, copy)\u001b[0m\n\u001b[1;32m    205\u001b[0m                        \u001b[0mverify_integrity\u001b[0m\u001b[0;34m=\u001b[0m\u001b[0mverify_integrity\u001b[0m\u001b[0;34m,\u001b[0m\u001b[0;34m\u001b[0m\u001b[0m\n\u001b[1;32m    206\u001b[0m                        copy=copy)\n\u001b[0;32m--> 207\u001b[0;31m     \u001b[0;32mreturn\u001b[0m \u001b[0mop\u001b[0m\u001b[0;34m.\u001b[0m\u001b[0mget_result\u001b[0m\u001b[0;34m(\u001b[0m\u001b[0;34m)\u001b[0m\u001b[0;34m\u001b[0m\u001b[0m\n\u001b[0m\u001b[1;32m    208\u001b[0m \u001b[0;34m\u001b[0m\u001b[0m\n\u001b[1;32m    209\u001b[0m \u001b[0;34m\u001b[0m\u001b[0m\n",
      "\u001b[0;32m~/myenv/lib64/python3.6/site-packages/pandas/core/reshape/concat.py\u001b[0m in \u001b[0;36mget_result\u001b[0;34m(self)\u001b[0m\n\u001b[1;32m    399\u001b[0m                     \u001b[0mobj_labels\u001b[0m \u001b[0;34m=\u001b[0m \u001b[0mmgr\u001b[0m\u001b[0;34m.\u001b[0m\u001b[0maxes\u001b[0m\u001b[0;34m[\u001b[0m\u001b[0max\u001b[0m\u001b[0;34m]\u001b[0m\u001b[0;34m\u001b[0m\u001b[0m\n\u001b[1;32m    400\u001b[0m                     \u001b[0;32mif\u001b[0m \u001b[0;32mnot\u001b[0m \u001b[0mnew_labels\u001b[0m\u001b[0;34m.\u001b[0m\u001b[0mequals\u001b[0m\u001b[0;34m(\u001b[0m\u001b[0mobj_labels\u001b[0m\u001b[0;34m)\u001b[0m\u001b[0;34m:\u001b[0m\u001b[0;34m\u001b[0m\u001b[0m\n\u001b[0;32m--> 401\u001b[0;31m                         \u001b[0mindexers\u001b[0m\u001b[0;34m[\u001b[0m\u001b[0max\u001b[0m\u001b[0;34m]\u001b[0m \u001b[0;34m=\u001b[0m \u001b[0mobj_labels\u001b[0m\u001b[0;34m.\u001b[0m\u001b[0mreindex\u001b[0m\u001b[0;34m(\u001b[0m\u001b[0mnew_labels\u001b[0m\u001b[0;34m)\u001b[0m\u001b[0;34m[\u001b[0m\u001b[0;36m1\u001b[0m\u001b[0;34m]\u001b[0m\u001b[0;34m\u001b[0m\u001b[0m\n\u001b[0m\u001b[1;32m    402\u001b[0m \u001b[0;34m\u001b[0m\u001b[0m\n\u001b[1;32m    403\u001b[0m                 \u001b[0mmgrs_indexers\u001b[0m\u001b[0;34m.\u001b[0m\u001b[0mappend\u001b[0m\u001b[0;34m(\u001b[0m\u001b[0;34m(\u001b[0m\u001b[0mobj\u001b[0m\u001b[0;34m.\u001b[0m\u001b[0m_data\u001b[0m\u001b[0;34m,\u001b[0m \u001b[0mindexers\u001b[0m\u001b[0;34m)\u001b[0m\u001b[0;34m)\u001b[0m\u001b[0;34m\u001b[0m\u001b[0m\n",
      "\u001b[0;32m~/myenv/lib64/python3.6/site-packages/pandas/core/indexes/multi.py\u001b[0m in \u001b[0;36mreindex\u001b[0;34m(self, target, method, level, limit, tolerance)\u001b[0m\n\u001b[1;32m   1870\u001b[0m             \u001b[0;32melse\u001b[0m\u001b[0;34m:\u001b[0m\u001b[0;34m\u001b[0m\u001b[0m\n\u001b[1;32m   1871\u001b[0m                 \u001b[0;31m# hopefully?\u001b[0m\u001b[0;34m\u001b[0m\u001b[0;34m\u001b[0m\u001b[0m\n\u001b[0;32m-> 1872\u001b[0;31m                 \u001b[0mtarget\u001b[0m \u001b[0;34m=\u001b[0m \u001b[0mMultiIndex\u001b[0m\u001b[0;34m.\u001b[0m\u001b[0mfrom_tuples\u001b[0m\u001b[0;34m(\u001b[0m\u001b[0mtarget\u001b[0m\u001b[0;34m)\u001b[0m\u001b[0;34m\u001b[0m\u001b[0m\n\u001b[0m\u001b[1;32m   1873\u001b[0m \u001b[0;34m\u001b[0m\u001b[0m\n\u001b[1;32m   1874\u001b[0m         if (preserve_names and target.nlevels == self.nlevels and\n",
      "\u001b[0;32m~/myenv/lib64/python3.6/site-packages/pandas/core/indexes/multi.py\u001b[0m in \u001b[0;36mfrom_tuples\u001b[0;34m(cls, tuples, sortorder, names)\u001b[0m\n\u001b[1;32m   1143\u001b[0m                 \u001b[0mtuples\u001b[0m \u001b[0;34m=\u001b[0m \u001b[0mtuples\u001b[0m\u001b[0;34m.\u001b[0m\u001b[0m_values\u001b[0m\u001b[0;34m\u001b[0m\u001b[0m\n\u001b[1;32m   1144\u001b[0m \u001b[0;34m\u001b[0m\u001b[0m\n\u001b[0;32m-> 1145\u001b[0;31m             \u001b[0marrays\u001b[0m \u001b[0;34m=\u001b[0m \u001b[0mlist\u001b[0m\u001b[0;34m(\u001b[0m\u001b[0mlib\u001b[0m\u001b[0;34m.\u001b[0m\u001b[0mtuples_to_object_array\u001b[0m\u001b[0;34m(\u001b[0m\u001b[0mtuples\u001b[0m\u001b[0;34m)\u001b[0m\u001b[0;34m.\u001b[0m\u001b[0mT\u001b[0m\u001b[0;34m)\u001b[0m\u001b[0;34m\u001b[0m\u001b[0m\n\u001b[0m\u001b[1;32m   1146\u001b[0m         \u001b[0;32melif\u001b[0m \u001b[0misinstance\u001b[0m\u001b[0;34m(\u001b[0m\u001b[0mtuples\u001b[0m\u001b[0;34m,\u001b[0m \u001b[0mlist\u001b[0m\u001b[0;34m)\u001b[0m\u001b[0;34m:\u001b[0m\u001b[0;34m\u001b[0m\u001b[0m\n\u001b[1;32m   1147\u001b[0m             \u001b[0marrays\u001b[0m \u001b[0;34m=\u001b[0m \u001b[0mlist\u001b[0m\u001b[0;34m(\u001b[0m\u001b[0mlib\u001b[0m\u001b[0;34m.\u001b[0m\u001b[0mto_object_array_tuples\u001b[0m\u001b[0;34m(\u001b[0m\u001b[0mtuples\u001b[0m\u001b[0;34m)\u001b[0m\u001b[0;34m.\u001b[0m\u001b[0mT\u001b[0m\u001b[0;34m)\u001b[0m\u001b[0;34m\u001b[0m\u001b[0m\n",
      "\u001b[0;32mpandas/_libs/src/inference.pyx\u001b[0m in \u001b[0;36mpandas._libs.lib.tuples_to_object_array (pandas/_libs/lib.c:67353)\u001b[0;34m()\u001b[0m\n",
      "\u001b[0;31mTypeError\u001b[0m: object of type 'int' has no len()"
     ]
    }
   ],
   "source": [
    "features = [fertility_rate, social_act, political_information, consumption_expenditure,\n",
    "            homogeneity_net_income, housing_costs, live_births, work_satisfaction, reach_services_difficulty,\n",
    "            net_income]\n",
    "data = features[0].copy()\n",
    "\n",
    "c = 0\n",
    "for f in features[1:]:\n",
    "    c += 1\n",
    "    print(c)\n",
    "    temp = f.loc[list(range(2005,2016))]\n",
    "    data = pd.concat([temp, data], axis = 1)"
   ]
  },
  {
   "cell_type": "code",
   "execution_count": 134,
   "metadata": {},
   "outputs": [
    {
     "data": {
      "text/html": [
       "<div>\n",
       "<style>\n",
       "    .dataframe thead tr:only-child th {\n",
       "        text-align: right;\n",
       "    }\n",
       "\n",
       "    .dataframe thead th {\n",
       "        text-align: left;\n",
       "    }\n",
       "\n",
       "    .dataframe tbody tr th {\n",
       "        vertical-align: top;\n",
       "    }\n",
       "</style>\n",
       "<table border=\"1\" class=\"dataframe\">\n",
       "  <thead>\n",
       "    <tr style=\"text-align: right;\">\n",
       "      <th></th>\n",
       "      <th>0  Flags</th>\n",
       "      <th>Classe di età</th>\n",
       "      <th>Condizione e posizione nella professione</th>\n",
       "      <th>Misura</th>\n",
       "      <th>Seleziona periodo</th>\n",
       "      <th>Sesso</th>\n",
       "      <th>Territorio</th>\n",
       "      <th>Tipo dato</th>\n",
       "      <th>Titolo di studio</th>\n",
       "    </tr>\n",
       "  </thead>\n",
       "  <tbody>\n",
       "    <tr>\n",
       "      <th>0</th>\n",
       "      <td>16693.0</td>\n",
       "      <td>14 anni e più</td>\n",
       "      <td>totale</td>\n",
       "      <td>valori in migliaia</td>\n",
       "      <td>2001</td>\n",
       "      <td>totale</td>\n",
       "      <td>Italia</td>\n",
       "      <td>tutti i giorni</td>\n",
       "      <td>totale</td>\n",
       "    </tr>\n",
       "    <tr>\n",
       "      <th>1</th>\n",
       "      <td>17242.0</td>\n",
       "      <td>14 anni e più</td>\n",
       "      <td>totale</td>\n",
       "      <td>valori in migliaia</td>\n",
       "      <td>2002</td>\n",
       "      <td>totale</td>\n",
       "      <td>Italia</td>\n",
       "      <td>tutti i giorni</td>\n",
       "      <td>totale</td>\n",
       "    </tr>\n",
       "    <tr>\n",
       "      <th>2</th>\n",
       "      <td>16572.0</td>\n",
       "      <td>14 anni e più</td>\n",
       "      <td>totale</td>\n",
       "      <td>valori in migliaia</td>\n",
       "      <td>2003</td>\n",
       "      <td>totale</td>\n",
       "      <td>Italia</td>\n",
       "      <td>tutti i giorni</td>\n",
       "      <td>totale</td>\n",
       "    </tr>\n",
       "    <tr>\n",
       "      <th>3</th>\n",
       "      <td>16405.0</td>\n",
       "      <td>14 anni e più</td>\n",
       "      <td>totale</td>\n",
       "      <td>valori in migliaia</td>\n",
       "      <td>2005</td>\n",
       "      <td>totale</td>\n",
       "      <td>Italia</td>\n",
       "      <td>tutti i giorni</td>\n",
       "      <td>totale</td>\n",
       "    </tr>\n",
       "    <tr>\n",
       "      <th>4</th>\n",
       "      <td>16763.0</td>\n",
       "      <td>14 anni e più</td>\n",
       "      <td>totale</td>\n",
       "      <td>valori in migliaia</td>\n",
       "      <td>2006</td>\n",
       "      <td>totale</td>\n",
       "      <td>Italia</td>\n",
       "      <td>tutti i giorni</td>\n",
       "      <td>totale</td>\n",
       "    </tr>\n",
       "  </tbody>\n",
       "</table>\n",
       "</div>"
      ],
      "text/plain": [
       "   0  Flags  Classe di età Condizione e posizione nella professione  \\\n",
       "0   16693.0  14 anni e più                                   totale   \n",
       "1   17242.0  14 anni e più                                   totale   \n",
       "2   16572.0  14 anni e più                                   totale   \n",
       "3   16405.0  14 anni e più                                   totale   \n",
       "4   16763.0  14 anni e più                                   totale   \n",
       "\n",
       "               Misura  Seleziona periodo   Sesso Territorio       Tipo dato  \\\n",
       "0  valori in migliaia               2001  totale     Italia  tutti i giorni   \n",
       "1  valori in migliaia               2002  totale     Italia  tutti i giorni   \n",
       "2  valori in migliaia               2003  totale     Italia  tutti i giorni   \n",
       "3  valori in migliaia               2005  totale     Italia  tutti i giorni   \n",
       "4  valori in migliaia               2006  totale     Italia  tutti i giorni   \n",
       "\n",
       "  Titolo di studio  \n",
       "0           totale  \n",
       "1           totale  \n",
       "2           totale  \n",
       "3           totale  \n",
       "4           totale  "
      ]
     },
     "execution_count": 134,
     "metadata": {},
     "output_type": "execute_result"
    }
   ],
   "source": [
    "f.head()"
   ]
  },
  {
   "cell_type": "code",
   "execution_count": null,
   "metadata": {
    "scrolled": true
   },
   "outputs": [],
   "source": [
    "data"
   ]
  },
  {
   "cell_type": "code",
   "execution_count": null,
   "metadata": {},
   "outputs": [],
   "source": [
    "fertility_rate"
   ]
  },
  {
   "cell_type": "code",
   "execution_count": null,
   "metadata": {
    "scrolled": true
   },
   "outputs": [],
   "source": [
    "pd.concat([temp.loc[list(range(10))], temp.head()], axis = 1, levels = [[]])"
   ]
  },
  {
   "cell_type": "code",
   "execution_count": null,
   "metadata": {},
   "outputs": [],
   "source": [
    "pd.merge(temp.loc[list(range(10))], temp.head(), how = \"outer\")"
   ]
  },
  {
   "cell_type": "code",
   "execution_count": null,
   "metadata": {},
   "outputs": [],
   "source": [
    "data"
   ]
  },
  {
   "cell_type": "code",
   "execution_count": null,
   "metadata": {},
   "outputs": [],
   "source": []
  },
  {
   "cell_type": "code",
   "execution_count": null,
   "metadata": {},
   "outputs": [],
   "source": []
  },
  {
   "cell_type": "code",
   "execution_count": null,
   "metadata": {},
   "outputs": [],
   "source": []
  },
  {
   "cell_type": "code",
   "execution_count": null,
   "metadata": {},
   "outputs": [],
   "source": []
  }
 ],
 "metadata": {
  "kernelspec": {
   "display_name": "Python 3",
   "language": "python",
   "name": "python3"
  },
  "language_info": {
   "codemirror_mode": {
    "name": "ipython",
    "version": 3
   },
   "file_extension": ".py",
   "mimetype": "text/x-python",
   "name": "python",
   "nbconvert_exporter": "python",
   "pygments_lexer": "ipython3",
   "version": "3.6.4"
  }
 },
 "nbformat": 4,
 "nbformat_minor": 2
}
