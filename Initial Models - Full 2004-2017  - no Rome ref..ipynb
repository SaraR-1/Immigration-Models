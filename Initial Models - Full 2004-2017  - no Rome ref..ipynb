{
 "cells": [
  {
   "cell_type": "code",
   "execution_count": 1,
   "metadata": {},
   "outputs": [
    {
     "name": "stderr",
     "output_type": "stream",
     "text": [
      "/home/sara/myenv/lib64/python3.6/site-packages/ipykernel_launcher.py:9: FutureWarning: The pandas.core.datetools module is deprecated and will be removed in a future version. Please use the pandas.tseries module instead.\n",
      "  if __name__ == '__main__':\n"
     ]
    }
   ],
   "source": [
    "import pandas as pd\n",
    "import numpy as np\n",
    "import pycountry\n",
    "from scipy.optimize import least_squares\n",
    "import random\n",
    "import statsmodels\n",
    "from scipy.optimize import minimize\n",
    "from scipy.optimize import fsolve\n",
    "from pandas.core import datetools\n",
    "import statsmodels.api as sm\n",
    "import datetime\n",
    "import seaborn as sns\n",
    "import matplotlib.pyplot as plt\n",
    "import matplotlib.lines as mlines\n",
    "from collections import defaultdict\n",
    "from math import pi, e"
   ]
  },
  {
   "cell_type": "code",
   "execution_count": 2,
   "metadata": {},
   "outputs": [],
   "source": [
    "resident_foreigners_norm = pd.read_table(\"Data_final/resident_foreigners_norm.csv\")\n",
    "\n",
    "province_capitals = ['Ancona', \"Valle d'Aosta / Vallée d'Aoste\", \"L'Aquila\", 'Bari', 'Bologna', 'Cagliari', 'Campobasso', 'Catanzaro', 'Firenze', 'Genova', 'Milano', 'Napoli', 'Palermo', 'Perugia', 'Potenza', 'Roma', 'Torino', 'Trento', 'Trieste', 'Venezia']\n",
    "# Untill 2011 - in 2011 change\n",
    "years = list(range(2004, 2018))"
   ]
  },
  {
   "cell_type": "code",
   "execution_count": 3,
   "metadata": {},
   "outputs": [
    {
     "data": {
      "text/html": [
       "<div>\n",
       "<style>\n",
       "    .dataframe thead tr:only-child th {\n",
       "        text-align: right;\n",
       "    }\n",
       "\n",
       "    .dataframe thead th {\n",
       "        text-align: left;\n",
       "    }\n",
       "\n",
       "    .dataframe tbody tr th {\n",
       "        vertical-align: top;\n",
       "    }\n",
       "</style>\n",
       "<table border=\"1\" class=\"dataframe\">\n",
       "  <thead>\n",
       "    <tr style=\"text-align: right;\">\n",
       "      <th></th>\n",
       "      <th>Province</th>\n",
       "      <th>Country</th>\n",
       "      <th>Year</th>\n",
       "      <th>Gender</th>\n",
       "      <th>Value</th>\n",
       "    </tr>\n",
       "  </thead>\n",
       "  <tbody>\n",
       "    <tr>\n",
       "      <th>0</th>\n",
       "      <td>Biella</td>\n",
       "      <td>AND</td>\n",
       "      <td>2005</td>\n",
       "      <td>male</td>\n",
       "      <td>1</td>\n",
       "    </tr>\n",
       "    <tr>\n",
       "      <th>1</th>\n",
       "      <td>Biella</td>\n",
       "      <td>AND</td>\n",
       "      <td>2005</td>\n",
       "      <td>female</td>\n",
       "      <td>0</td>\n",
       "    </tr>\n",
       "    <tr>\n",
       "      <th>2</th>\n",
       "      <td>Novara</td>\n",
       "      <td>AND</td>\n",
       "      <td>2005</td>\n",
       "      <td>male</td>\n",
       "      <td>0</td>\n",
       "    </tr>\n",
       "    <tr>\n",
       "      <th>3</th>\n",
       "      <td>Novara</td>\n",
       "      <td>AND</td>\n",
       "      <td>2005</td>\n",
       "      <td>female</td>\n",
       "      <td>2</td>\n",
       "    </tr>\n",
       "    <tr>\n",
       "      <th>4</th>\n",
       "      <td>Alessandria</td>\n",
       "      <td>AND</td>\n",
       "      <td>2017</td>\n",
       "      <td>male</td>\n",
       "      <td>0</td>\n",
       "    </tr>\n",
       "  </tbody>\n",
       "</table>\n",
       "</div>"
      ],
      "text/plain": [
       "      Province Country  Year  Gender  Value\n",
       "0       Biella     AND  2005    male      1\n",
       "1       Biella     AND  2005  female      0\n",
       "2       Novara     AND  2005    male      0\n",
       "3       Novara     AND  2005  female      2\n",
       "4  Alessandria     AND  2017    male      0"
      ]
     },
     "execution_count": 3,
     "metadata": {},
     "output_type": "execute_result"
    }
   ],
   "source": [
    "resident_foreigners_norm.head()"
   ]
  },
  {
   "cell_type": "code",
   "execution_count": 4,
   "metadata": {},
   "outputs": [],
   "source": [
    "regions = pd.read_table(\"Data_final/regioni.csv\")\n",
    "regions_info = pd.read_table(\"Data_final/region_info.csv\")\n",
    "\n",
    "prov_info = pd.read_table(\"Data_final/prov_cap_info.csv\")\n",
    "\n",
    "mezzogiorno = {'Abruzzo': 1, 'Lazio': 0, 'Umbria': 0, 'Provincia Autonoma Trento': 0, \n",
    "               'Friuli-Venezia Giulia': 0, 'Molise': 1, 'Calabria': 1, \n",
    "               \"Valle d'Aosta / Vallée d'Aoste\": 0, 'Lombardia': 0, 'Liguria': 0, \n",
    "               'Emilia-Romagna': 0, 'Sicilia': 1, \n",
    "               'Provincia Autonoma Bolzano / Bozen': 0, 'Puglia': 1, 'Campania': 1, \n",
    "               'Piemonte': 0, 'Toscana': 0, 'Sardegna': 1, 'Marche': 0, \n",
    "               'Basilicata': 1, 'Veneto': 0}"
   ]
  },
  {
   "cell_type": "code",
   "execution_count": 5,
   "metadata": {},
   "outputs": [],
   "source": [
    "x_df = pd.DataFrame()\n",
    "x_df = prov_info[[\"Prov Capitals\", \"Area\", \"Dens\"]].copy()\n",
    "# Logarithmic transformation\n",
    "x_df[\"Area\"] = np.log(x_df[\"Area\"])\n",
    "x_df[\"Dens\"] = np.log(x_df[\"Dens\"])\n",
    "x_df[\"Mezzogiorno\"] = [mezzogiorno[regions[regions[\"Provincia\"] == i][\"Regione\"].values[0]] for i in x_df[\"Prov Capitals\"].values]"
   ]
  },
  {
   "cell_type": "code",
   "execution_count": 6,
   "metadata": {},
   "outputs": [
    {
     "data": {
      "text/html": [
       "<div>\n",
       "<style>\n",
       "    .dataframe thead tr:only-child th {\n",
       "        text-align: right;\n",
       "    }\n",
       "\n",
       "    .dataframe thead th {\n",
       "        text-align: left;\n",
       "    }\n",
       "\n",
       "    .dataframe tbody tr th {\n",
       "        vertical-align: top;\n",
       "    }\n",
       "</style>\n",
       "<table border=\"1\" class=\"dataframe\">\n",
       "  <thead>\n",
       "    <tr style=\"text-align: right;\">\n",
       "      <th></th>\n",
       "      <th>Prov Capitals</th>\n",
       "      <th>Area</th>\n",
       "      <th>Dens</th>\n",
       "      <th>Mezzogiorno</th>\n",
       "    </tr>\n",
       "  </thead>\n",
       "  <tbody>\n",
       "    <tr>\n",
       "      <th>0</th>\n",
       "      <td>Ancona</td>\n",
       "      <td>7.582341</td>\n",
       "      <td>5.488938</td>\n",
       "      <td>0</td>\n",
       "    </tr>\n",
       "    <tr>\n",
       "      <th>1</th>\n",
       "      <td>Valle d'Aosta / Vallée d'Aoste</td>\n",
       "      <td>8.089759</td>\n",
       "      <td>3.663562</td>\n",
       "      <td>0</td>\n",
       "    </tr>\n",
       "    <tr>\n",
       "      <th>2</th>\n",
       "      <td>L'Aquila</td>\n",
       "      <td>8.526658</td>\n",
       "      <td>4.094345</td>\n",
       "      <td>1</td>\n",
       "    </tr>\n",
       "    <tr>\n",
       "      <th>3</th>\n",
       "      <td>Bari</td>\n",
       "      <td>8.259168</td>\n",
       "      <td>5.786897</td>\n",
       "      <td>1</td>\n",
       "    </tr>\n",
       "    <tr>\n",
       "      <th>4</th>\n",
       "      <td>Bologna</td>\n",
       "      <td>8.216715</td>\n",
       "      <td>5.609472</td>\n",
       "      <td>0</td>\n",
       "    </tr>\n",
       "  </tbody>\n",
       "</table>\n",
       "</div>"
      ],
      "text/plain": [
       "                    Prov Capitals      Area      Dens  Mezzogiorno\n",
       "0                          Ancona  7.582341  5.488938            0\n",
       "1  Valle d'Aosta / Vallée d'Aoste  8.089759  3.663562            0\n",
       "2                        L'Aquila  8.526658  4.094345            1\n",
       "3                            Bari  8.259168  5.786897            1\n",
       "4                         Bologna  8.216715  5.609472            0"
      ]
     },
     "execution_count": 6,
     "metadata": {},
     "output_type": "execute_result"
    }
   ],
   "source": [
    "x_df.head()"
   ]
  },
  {
   "cell_type": "code",
   "execution_count": 7,
   "metadata": {},
   "outputs": [],
   "source": [
    "data = resident_foreigners_norm.copy()\n",
    "data = resident_foreigners_norm[(resident_foreigners_norm[\"Province\"].isin(province_capitals)) & \n",
    "                                (resident_foreigners_norm[\"Year\"].isin(years))]\n",
    "data = data.groupby([\"Province\", \"Country\", \"Year\"], as_index=False).sum()"
   ]
  },
  {
   "cell_type": "code",
   "execution_count": 8,
   "metadata": {},
   "outputs": [],
   "source": [
    "data_rou = data[data[\"Country\"] == pycountry.countries.get(name=\"Romania\").alpha_3]\n",
    "del data_rou[\"Country\"]\n",
    "data_alb = data[data[\"Country\"] == pycountry.countries.get(name=\"Albania\").alpha_3]\n",
    "del data_alb[\"Country\"]\n",
    "data_mar = data[data[\"Country\"] == pycountry.countries.get(name=\"Morocco\").alpha_3]\n",
    "del data_mar[\"Country\"]"
   ]
  },
  {
   "cell_type": "code",
   "execution_count": 9,
   "metadata": {},
   "outputs": [],
   "source": [
    "# Get the foreigners stock value\n",
    "def n_it(data_, i, t):\n",
    "    return(data_[(data_[\"Province\"] == i) & (data_[\"Year\"] == t)][\"Value\"].values[0])"
   ]
  },
  {
   "cell_type": "code",
   "execution_count": 10,
   "metadata": {},
   "outputs": [],
   "source": [
    "# Fill with 0 missing values\n",
    "def missing_values(data_, times, territories):\n",
    "    for i in territories:\n",
    "        for t in times:\n",
    "            try:\n",
    "                temp = data_[(data_[\"Province\"] == i) & (data_[\"Year\"] == t)][\"Value\"].values[0]\n",
    "            except IndexError:\n",
    "                data_ = data_.append({\"Province\": i, \"Year\": t, \"Value\": 0}, ignore_index=True)\n",
    "    return(data_)"
   ]
  },
  {
   "cell_type": "code",
   "execution_count": 11,
   "metadata": {},
   "outputs": [],
   "source": [
    "# Handle missing values\n",
    "data_rou = missing_values(data_rou, years, province_capitals)\n",
    "data_alb = missing_values(data_alb, years, province_capitals)\n",
    "data_mar = missing_values(data_mar, years, province_capitals)"
   ]
  },
  {
   "cell_type": "markdown",
   "metadata": {},
   "source": [
    "## Step I"
   ]
  },
  {
   "cell_type": "code",
   "execution_count": 12,
   "metadata": {},
   "outputs": [],
   "source": [
    "# Define the normal regression model\n",
    "\n",
    "def stepI(param, data_, time):\n",
    "    log_lik = 0\n",
    "    \n",
    "    beta = param[0]\n",
    "    a = param[1:]\n",
    "    \n",
    "    for i in province_capitals:\n",
    "        for t in time[1:]:\n",
    "            log_lik += (np.log(n_it(data_, i, t)) - beta*(np.log(n_it(data_, i, t-1))) - a[province_capitals.index(i)])**2 \n",
    "\n",
    "    return(log_lik)"
   ]
  },
  {
   "cell_type": "markdown",
   "metadata": {},
   "source": [
    "## Step II"
   ]
  },
  {
   "cell_type": "code",
   "execution_count": 13,
   "metadata": {},
   "outputs": [],
   "source": [
    "def stepII(theta, a, x_):\n",
    "    log_lik = 0\n",
    "    #x_I = x_[x_[\"Prov Capitals\"] == I][[\"Area\", \"Dens\", \"Mezzogiorno\"]].values\n",
    "    for i in province_capitals:\n",
    "        x_i = x_[x_[\"Prov Capitals\"] == i][[\"Area\", \"Dens\", \"Mezzogiorno\"]].values\n",
    "        log_lik += (a[province_capitals.index(i)] - np.dot(x_i, theta))**2\n",
    "    return(log_lik)"
   ]
  },
  {
   "cell_type": "markdown",
   "metadata": {},
   "source": [
    "# Run the different models for the different origin country"
   ]
  },
  {
   "cell_type": "code",
   "execution_count": 14,
   "metadata": {},
   "outputs": [],
   "source": [
    "def run_model(data_, time, x_):\n",
    "    print(\"---------- Step I ----------\")\n",
    "    initial_time = datetime.datetime.now()\n",
    "    print (\"Current time: \" + str(initial_time.strftime('%H:%M:%S') ))\n",
    "\n",
    "    #param_init = np.random.uniform(0, 1, len(province_capitals)+1)\n",
    "    param_init = [0 for i in range(len(province_capitals)+1)]\n",
    "    res_stepI =  minimize(stepI, param_init, args = (data_, time), method='CG')\n",
    "    print(res_stepI.message)\n",
    "    \n",
    "    final_time = datetime.datetime.now() \n",
    "    print (\"Current time: \" + str(final_time.strftime('%H:%M:%S')))\n",
    "    print(\"Computational time: \" + str((final_time - initial_time)))\n",
    "    \n",
    "    # Step I results and validation\n",
    "    beta_hat = res_stepI.x[0]\n",
    "    a_hat = res_stepI.x[1:]\n",
    "    y_hat = []\n",
    "    y = []\n",
    "    for i in province_capitals:\n",
    "        time_invariant = a_hat[province_capitals.index(i)]\n",
    "        for t in time[1:]:\n",
    "            y.append(np.log(n_it(data_, i, t)))\n",
    "            y_hat.append(beta_hat*(np.log(n_it(data_, i, t-1))) + time_invariant)\n",
    "            \n",
    "    y_mean = np.mean(y)\n",
    "\n",
    "    R2 = 1 - sum(np.subtract(y, y_hat)**2) / sum((y - y_mean)**2)\n",
    "    # Equivalently: 1 - (res_stepI.fun / sum((y - y_mean)**2))\n",
    "    #print(R2)\n",
    "    print(\"The R2 score from the step I is: %f\" %R2)\n",
    "    \n",
    "    #return(beta_hat, a_hat)\n",
    "    \n",
    "    print(\"---------- Step II ----------\")\n",
    "    \n",
    "    initial_time = datetime.datetime.now()\n",
    "    print (\"Current time: \" + str(initial_time.strftime('%H:%M:%S') ))\n",
    "\n",
    "    param_init = [0 for i in range(len(x_.columns)-1)]\n",
    "    #param_init = np.random.uniform(0, 1, len(x_df.columns)-1)\n",
    "    res_stepII =  minimize(stepII, param_init, args = (a_hat, x_), method='CG')\n",
    "    #print(model_I([b, a], data_rou), b, a)\n",
    "    #print(res_stepII.x)\n",
    "    print(res_stepII.message)\n",
    "    #print(res_stepII.fun)\n",
    "    final_time = datetime.datetime.now() \n",
    "    print (\"Current time: \" + str(final_time.strftime('%H:%M:%S')))\n",
    "    print(\"Computational time: \" + str((final_time - initial_time)))\n",
    "    \n",
    "    # Step II results and validation\n",
    "    theta_hat = res_stepII.x\n",
    "    #x_I = x_[x_[\"Prov Capitals\"] == I][[\"Area\", \"Dens\", \"Mezzogiorno\"]].values\n",
    "    y_hat = []\n",
    "    #y = []\n",
    "    for i in province_capitals:\n",
    "        x_i = x_[x_[\"Prov Capitals\"] == i][[\"Area\", \"Dens\", \"Mezzogiorno\"]].values\n",
    "        time_invariant = np.dot(x_i, theta_hat)\n",
    "        for t in time[1:]:\n",
    "            #y.append(np.log(n_it(data_, i, t)/n_it(data_, I, t)))\n",
    "            y_hat.append((beta_hat*(np.log(n_it(data_, i, t-1))) + time_invariant)[0])\n",
    "            \n",
    "    #y_mean = np.mean(y)\n",
    "    R2 = 1 - sum(np.subtract(y, y_hat)**2) / sum((y - y_mean)**2)\n",
    "    #print(R2)\n",
    "    print(\"The final R2 score is: %f\" %R2)\n",
    "    \n",
    "    n = len(y)\n",
    "    k = len(x_.columns)-1\n",
    "    R2_adj = 1 - (1 - R2)*((n - 1)/(n - k -1))\n",
    "    print(\"The final Adjusted R2 score is: %f\" %R2_adj)\n",
    "    \n",
    "    return(beta_hat, theta_hat, y, y_hat)"
   ]
  },
  {
   "cell_type": "code",
   "execution_count": 15,
   "metadata": {},
   "outputs": [
    {
     "name": "stdout",
     "output_type": "stream",
     "text": [
      "---------- Step I ----------\n",
      "Current time: 19:48:32\n",
      "Optimization terminated successfully.\n",
      "Current time: 20:00:22\n",
      "Computational time: 0:11:49.948287\n",
      "The R2 score from the step I is: 0.977444\n",
      "---------- Step II ----------\n",
      "Current time: 20:00:23\n",
      "Optimization terminated successfully.\n",
      "Current time: 20:00:24\n",
      "Computational time: 0:00:01.252047\n",
      "The final R2 score is: 0.974145\n",
      "The final Adjusted R2 score is: 0.973842\n"
     ]
    }
   ],
   "source": [
    "res_rou = run_model(data_rou, years, x_df)"
   ]
  },
  {
   "cell_type": "code",
   "execution_count": 21,
   "metadata": {},
   "outputs": [
    {
     "name": "stdout",
     "output_type": "stream",
     "text": [
      "Beta parameter: 0.833746\n",
      "Theta parameter: 0.1446869875 0.0927882084689 -0.157863986658\n"
     ]
    }
   ],
   "source": [
    "print(\"Beta parameter: %f\" %res_rou[0])\n",
    "print(\"Theta parameter: %s %s %s\" %tuple(res_rou[1]))"
   ]
  },
  {
   "cell_type": "code",
   "execution_count": 22,
   "metadata": {},
   "outputs": [
    {
     "name": "stdout",
     "output_type": "stream",
     "text": [
      "---------- Step I ----------\n",
      "Current time: 19:05:52\n",
      "Desired error not necessarily achieved due to precision loss.\n",
      "Current time: 19:17:10\n",
      "Computational time: 0:11:17.901829\n",
      "The R2 score from the step I is: 0.998856\n",
      "---------- Step II ----------\n",
      "Current time: 19:17:11\n",
      "Optimization terminated successfully.\n",
      "Current time: 19:17:12\n",
      "Computational time: 0:00:01.013999\n",
      "The final R2 score is: 0.978592\n",
      "The final Adjusted R2 score is: 0.978295\n"
     ]
    }
   ],
   "source": [
    "res_alb = run_model(data_alb, years, x_df)"
   ]
  },
  {
   "cell_type": "code",
   "execution_count": 23,
   "metadata": {},
   "outputs": [
    {
     "name": "stdout",
     "output_type": "stream",
     "text": [
      "Beta parameter: 0.741062\n",
      "Theta parameter: 0.198850834409 0.129249541653 -0.537740896231\n"
     ]
    }
   ],
   "source": [
    "print(\"Beta parameter: %f\" %res_alb[0])\n",
    "print(\"Theta parameter: %s %s %s\" %tuple(res_alb[1]))"
   ]
  },
  {
   "cell_type": "code",
   "execution_count": null,
   "metadata": {},
   "outputs": [
    {
     "name": "stdout",
     "output_type": "stream",
     "text": [
      "---------- Step I ----------\n",
      "Current time: 19:30:30\n"
     ]
    }
   ],
   "source": [
    "res_mar = run_model(data_mar, years, x_df)"
   ]
  },
  {
   "cell_type": "code",
   "execution_count": null,
   "metadata": {},
   "outputs": [],
   "source": [
    "print(\"Beta parameter: %f\" %res_mar[0])\n",
    "print(\"Theta parameter: %s %s %s\" %tuple(res_mar[1]))"
   ]
  },
  {
   "cell_type": "code",
   "execution_count": null,
   "metadata": {},
   "outputs": [],
   "source": []
  },
  {
   "cell_type": "code",
   "execution_count": null,
   "metadata": {},
   "outputs": [],
   "source": []
  },
  {
   "cell_type": "code",
   "execution_count": null,
   "metadata": {},
   "outputs": [],
   "source": []
  }
 ],
 "metadata": {
  "kernelspec": {
   "display_name": "Python 3",
   "language": "python",
   "name": "python3"
  },
  "language_info": {
   "codemirror_mode": {
    "name": "ipython",
    "version": 3
   },
   "file_extension": ".py",
   "mimetype": "text/x-python",
   "name": "python",
   "nbconvert_exporter": "python",
   "pygments_lexer": "ipython3",
   "version": "3.6.3"
  }
 },
 "nbformat": 4,
 "nbformat_minor": 2
}
