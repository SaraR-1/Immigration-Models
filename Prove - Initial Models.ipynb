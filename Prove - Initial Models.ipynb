{
 "cells": [
  {
   "cell_type": "code",
   "execution_count": 1,
   "metadata": {},
   "outputs": [
    {
     "name": "stderr",
     "output_type": "stream",
     "text": [
      "/home/sara/myenv/lib64/python3.6/site-packages/statsmodels/compat/pandas.py:56: FutureWarning: The pandas.core.datetools module is deprecated and will be removed in a future version. Please use the pandas.tseries module instead.\n",
      "  from pandas.core import datetools\n"
     ]
    }
   ],
   "source": [
    "import pandas as pd\n",
    "import numpy as np\n",
    "import pycountry\n",
    "from scipy.optimize import least_squares\n",
    "import random\n",
    "import statsmodels\n",
    "from scipy.optimize import minimize\n",
    "from scipy.optimize import fsolve\n",
    "import datetime\n",
    "import statsmodels.api as sm"
   ]
  },
  {
   "cell_type": "code",
   "execution_count": 2,
   "metadata": {},
   "outputs": [],
   "source": [
    "resident_foreigners_norm = pd.read_table(\"Data_final/resident_foreigners_norm.csv\")\n",
    "\n",
    "#regions = pd.read_table(\"Data_final/regioni.csv\")\n",
    "#regions_info = pd.read_table(\"Data_final/region_info.csv\")\n",
    "\n",
    "#prov_info = pd.read_table(\"Data_final/prov_cap_info.csv\")\n",
    "\n",
    "province_capitals = ['Ancona', \"Valle d'Aosta / Vallée d'Aoste\", \"L'Aquila\", 'Bari', 'Bologna', 'Cagliari', 'Campobasso', 'Catanzaro', 'Firenze', 'Genova', 'Milano', 'Napoli', 'Palermo', 'Perugia', 'Potenza', 'Roma', 'Torino', 'Trento', 'Trieste', 'Venezia']\n",
    "years = list(range(2003, 2008))"
   ]
  },
  {
   "cell_type": "code",
   "execution_count": 3,
   "metadata": {
    "scrolled": true
   },
   "outputs": [],
   "source": [
    "data = resident_foreigners_norm.copy()\n",
    "data = resident_foreigners_norm[(resident_foreigners_norm[\"Province\"].isin(province_capitals)) & \n",
    "                                (resident_foreigners_norm[\"Year\"].isin(years))]\n",
    "data = data.groupby([\"Province\", \"Country\", \"Year\"], as_index=False).sum()"
   ]
  },
  {
   "cell_type": "code",
   "execution_count": 4,
   "metadata": {},
   "outputs": [
    {
     "name": "stdout",
     "output_type": "stream",
     "text": [
      "Romania ROU\n",
      "Albania ALB\n",
      "Morocco MAR\n"
     ]
    }
   ],
   "source": [
    "print(\"Romania\", pycountry.countries.get(name=\"Romania\").alpha_3)\n",
    "print(\"Albania\", pycountry.countries.get(name=\"Albania\").alpha_3)\n",
    "print(\"Morocco\", pycountry.countries.get(name=\"Morocco\").alpha_3)"
   ]
  },
  {
   "cell_type": "code",
   "execution_count": 5,
   "metadata": {},
   "outputs": [],
   "source": [
    "data_rou = data[data[\"Country\"] == \"ROU\"]\n",
    "del data_rou[\"Country\"]\n",
    "data_alb = data[data[\"Country\"] == \"ALB\"]\n",
    "del data_alb[\"Country\"]\n",
    "data_mar = data[data[\"Country\"] == \"MAR\"]\n",
    "del data_mar[\"Country\"]"
   ]
  },
  {
   "cell_type": "code",
   "execution_count": 6,
   "metadata": {},
   "outputs": [],
   "source": [
    "# Get the foreigners stock value\n",
    "def n_it(data_, i, t):\n",
    "    return(data_[(data_[\"Province\"] == i) & (data_[\"Year\"] == t)][\"Value\"].values[0])"
   ]
  },
  {
   "cell_type": "code",
   "execution_count": 7,
   "metadata": {},
   "outputs": [],
   "source": [
    "# Fill with 0 missing values\n",
    "def missing_values(data_, times, territories):\n",
    "    for i in territories:\n",
    "        for t in times:\n",
    "            try:\n",
    "                temp = data_[(data_[\"Province\"] == i) & (data_[\"Year\"] == t)][\"Value\"].values[0]\n",
    "            except IndexError:\n",
    "                data_ = data_.append({\"Province\": i, \"Year\": t, \"Value\": 0}, ignore_index=True)\n",
    "    return(data_)"
   ]
  },
  {
   "cell_type": "code",
   "execution_count": 8,
   "metadata": {},
   "outputs": [],
   "source": [
    "# Handle missing values\n",
    "data_rou = missing_values(data_rou, years, province_capitals)\n",
    "data_alb = missing_values(data_alb, years, province_capitals)\n",
    "data_mar = missing_values(data_mar, years, province_capitals)"
   ]
  },
  {
   "cell_type": "code",
   "execution_count": 9,
   "metadata": {},
   "outputs": [
    {
     "data": {
      "text/plain": [
       "'# Random initialization of the parameters\\n\\n# scalar\\nbeta_initial = 3\\n# vector - dimension: # of territories (here, len(province_capitals))\\na_i_initial = [random.random()*len(province_capitals) for p in province_capitals]\\n\\n#param_init = np.random.uniform(0, 1, len(province_capitals)+1)\\nparam_init = [0 for i in range(len(province_capitals)+1)]\\n\\n# Mezzogiorno dummy\\nmezzogiorno = {\\'Abruzzo\\': 1, \\'Lazio\\': 0, \\'Umbria\\': 0, \\'Provincia Autonoma Trento\\': 0, \\n               \\'Friuli-Venezia Giulia\\': 0, \\'Molise\\': 1, \\'Calabria\\': 1, \\n               \"Valle d\\'Aosta / Vallée d\\'Aoste\": 0, \\'Lombardia\\': 0, \\'Liguria\\': 0, \\n               \\'Emilia-Romagna\\': 0, \\'Sicilia\\': 1, \\n               \\'Provincia Autonoma Bolzano / Bozen\\': 0, \\'Puglia\\': 1, \\'Campania\\': 1, \\n               \\'Piemonte\\': 0, \\'Toscana\\': 0, \\'Sardegna\\': 1, \\'Marche\\': 0, \\n               \\'Basilicata\\': 1, \\'Veneto\\': 0}'"
      ]
     },
     "execution_count": 9,
     "metadata": {},
     "output_type": "execute_result"
    }
   ],
   "source": [
    "'''# Random initialization of the parameters\n",
    "\n",
    "# scalar\n",
    "beta_initial = 3\n",
    "# vector - dimension: # of territories (here, len(province_capitals))\n",
    "a_i_initial = [random.random()*len(province_capitals) for p in province_capitals]\n",
    "\n",
    "#param_init = np.random.uniform(0, 1, len(province_capitals)+1)\n",
    "param_init = [0 for i in range(len(province_capitals)+1)]\n",
    "\n",
    "# Mezzogiorno dummy\n",
    "mezzogiorno = {'Abruzzo': 1, 'Lazio': 0, 'Umbria': 0, 'Provincia Autonoma Trento': 0, \n",
    "               'Friuli-Venezia Giulia': 0, 'Molise': 1, 'Calabria': 1, \n",
    "               \"Valle d'Aosta / Vallée d'Aoste\": 0, 'Lombardia': 0, 'Liguria': 0, \n",
    "               'Emilia-Romagna': 0, 'Sicilia': 1, \n",
    "               'Provincia Autonoma Bolzano / Bozen': 0, 'Puglia': 1, 'Campania': 1, \n",
    "               'Piemonte': 0, 'Toscana': 0, 'Sardegna': 1, 'Marche': 0, \n",
    "               'Basilicata': 1, 'Veneto': 0}'''"
   ]
  },
  {
   "cell_type": "code",
   "execution_count": 10,
   "metadata": {
    "scrolled": true
   },
   "outputs": [],
   "source": [
    "# reference province\n",
    "I = \"Roma\"\n",
    "# Random normal error\n",
    "w_i = {p: np.random.normal(0, 1) for p in province_capitals}\n",
    "e_i = {p: np.random.normal(0, 1) for p in province_capitals}\n",
    "xi_i = {p: np.random.normal(0, 1) for p in province_capitals}"
   ]
  },
  {
   "cell_type": "code",
   "execution_count": 11,
   "metadata": {},
   "outputs": [],
   "source": [
    "def model_I(param, data_, w_):\n",
    "    log_lik = 0\n",
    "    lik = 1\n",
    "    beta = param[0]\n",
    "    a = param[1:]\n",
    "    for i in province_capitals:\n",
    "        for t in years[1:]:\n",
    "            f = np.log(n_it(data_, i, t)/n_it(data_, I, t)) - beta*(np.log(n_it(data_, i, t-1)/n_it(data_, I, t-1))) - a[province_capitals.index(i)] - w_[i] + w_[I]\n",
    "            # We min the log-likelihood min --> take the opposite\n",
    "            log_lik -= np.log(f)\n",
    "            #print(f)\n",
    "            #f.append(np.log(n_it(data_, i, t)/n_it(data_, I, t)) - beta*(np.log(n_it(data_, i, t-1)/n_it(data_, I, t-1))) - a)\n",
    "    #log_lik = -log_lik\n",
    "    return(log_lik)\n",
    "    #return(lik)"
   ]
  },
  {
   "cell_type": "code",
   "execution_count": 12,
   "metadata": {},
   "outputs": [],
   "source": [
    "def model_I(param, data_, w_):\n",
    "    log_lik = 0\n",
    "    lik = 0\n",
    "    beta = param[0]\n",
    "    a = param[1:]\n",
    "    for i in province_capitals:\n",
    "        for t in years[1:]:\n",
    "            f = np.log(n_it(data_, i, t)/n_it(data_, I, t)) - beta*(np.log(n_it(data_, i, t-1)/n_it(data_, I, t-1))) - a[province_capitals.index(i)] - w_[i] + w_[I]\n",
    "            # We min the log-likelihood min --> take the opposite\n",
    "            #log_lik -= np.log(f)\n",
    "            lik += -f\n",
    "            #print(f)\n",
    "            #f.append(np.log(n_it(data_, i, t)/n_it(data_, I, t)) - beta*(np.log(n_it(data_, i, t-1)/n_it(data_, I, t-1))) - a)\n",
    "    #log_lik = -log_lik\n",
    "    #return(log_lik)\n",
    "    return(lik)"
   ]
  },
  {
   "cell_type": "code",
   "execution_count": 13,
   "metadata": {},
   "outputs": [
    {
     "name": "stdout",
     "output_type": "stream",
     "text": [
      "Current time: 12:41:46\n",
      "[  1.89635362e+08  -2.73639457e+06  -2.73639457e+06  -2.73639457e+06\n",
      "  -2.73639457e+06  -2.73639457e+06  -2.73639457e+06  -2.73639457e+06\n",
      "  -2.73639457e+06  -2.73639457e+06  -2.73639457e+06  -2.73639457e+06\n",
      "  -2.73639457e+06  -2.73639457e+06  -2.73639457e+06  -2.73639457e+06\n",
      "  -2.73639457e+06  -2.73639457e+06  -2.73639457e+06  -2.73639457e+06\n",
      "  -2.73639457e+06]\n",
      "Optimization terminated successfully.\n",
      "-52786714888.764114\n",
      "Current time: 12:43:52\n",
      "Computational time: 0:02:05.992045\n"
     ]
    }
   ],
   "source": [
    "initial_time = datetime.datetime.now()\n",
    "print (\"Current time: \" + str(initial_time.strftime('%H:%M:%S') ))\n",
    "param_init = [.5 for i in range(len(province_capitals)+1)]\n",
    "#param_init = [-10, 0.5, 0.5, 0.5, 0.5, 0.5, 0.5, 0.5, 0.5, 0.5, 0.5, 0.5, 0.5, 0.5, 0.5, 0.5, 0.5, 0.5, 0.5, 0.5, 0.5] \n",
    "#param_init = np.random.uniform(0, 1, len(province_capitals)+1)\n",
    "res =  minimize(model_I, param_init, args = (data_rou, w_i), method='CG')\n",
    "#print(model_I([b, a], data_rou), b, a)\n",
    "print(res.x)\n",
    "print(res.message)\n",
    "print(res.fun)\n",
    "final_time = datetime.datetime.now() \n",
    "print (\"Current time: \" + str(final_time.strftime('%H:%M:%S')))\n",
    "print(\"Computational time: \" + str((final_time - initial_time)))"
   ]
  },
  {
   "cell_type": "code",
   "execution_count": 18,
   "metadata": {},
   "outputs": [
    {
     "name": "stdout",
     "output_type": "stream",
     "text": [
      "-1.89391436199e+17\n"
     ]
    }
   ],
   "source": [
    "data_ = data_rou\n",
    "# Step I results and validation\n",
    "beta_hat = res.x[0]\n",
    "a_hat = res.x[1:]\n",
    "y_hat = []\n",
    "y = []\n",
    "for i in province_capitals:\n",
    "    for t in years[1:]:\n",
    "        y.append(np.log(n_it(data_, i, t)/n_it(data_, I, t)))\n",
    "        y_hat.append(beta_hat*(np.log(n_it(data_, i, t-1)/n_it(data_, I, t-1))) + a_hat[province_capitals.index(i)])\n",
    "\n",
    "y_mean = np.mean(y)\n",
    "\n",
    "R2 = 1 - sum(np.subtract(y, y_hat)**2) / sum((y - y_mean)**2)\n",
    "print(R2)"
   ]
  },
  {
   "cell_type": "code",
   "execution_count": 17,
   "metadata": {},
   "outputs": [
    {
     "data": {
      "text/plain": [
       "231543238.42596889"
      ]
     },
     "execution_count": 17,
     "metadata": {},
     "output_type": "execute_result"
    }
   ],
   "source": [
    "1 - (res.fun / sum((y - y_mean)**2))"
   ]
  },
  {
   "cell_type": "code",
   "execution_count": 23,
   "metadata": {
    "scrolled": true
   },
   "outputs": [
    {
     "name": "stdout",
     "output_type": "stream",
     "text": [
      "Current time: 14:56:36\n",
      "[  3.19693567e+08  -4.61405637e+06  -4.61405613e+06  -4.61405658e+06\n",
      "  -4.61405598e+06  -4.61405576e+06  -4.61405639e+06  -4.61405614e+06\n",
      "  -4.61405643e+06  -4.61405572e+06  -4.61405601e+06  -4.61288540e+06\n",
      "  -4.61288545e+06  -4.61288524e+06  -4.61288505e+06  -4.61405622e+06\n",
      "  -4.61756875e+06  -4.61288535e+06  -4.61405596e+06  -4.61405666e+06\n",
      "  -4.61288507e+06]\n",
      "Optimization terminated successfully.\n",
      "-88989652536.70308\n",
      "Current time: 14:58:25\n",
      "Computational time: 0:01:48.554006\n"
     ]
    }
   ],
   "source": [
    "initial_time = datetime.datetime.now()\n",
    "print (\"Current time: \" + str(initial_time.strftime('%H:%M:%S') ))\n",
    "\n",
    "param_init = np.random.uniform(0, 1, len(province_capitals)+1)\n",
    "res =  minimize(model_I, param_init, args = (data_rou, w_i), method='BFGS')\n",
    "#print(model_I([b, a], data_rou), b, a)\n",
    "print(res.x)\n",
    "print(res.message)\n",
    "print(res.fun)\n",
    "final_time = datetime.datetime.now() \n",
    "print (\"Current time: \" + str(final_time.strftime('%H:%M:%S')))\n",
    "print(\"Computational time: \" + str((final_time - initial_time)))"
   ]
  },
  {
   "cell_type": "code",
   "execution_count": 271,
   "metadata": {
    "scrolled": true
   },
   "outputs": [
    {
     "name": "stdout",
     "output_type": "stream",
     "text": [
      "Current time: 12:19:18\n"
     ]
    },
    {
     "name": "stderr",
     "output_type": "stream",
     "text": [
      "/home/sara/myenv/lib64/python3.6/site-packages/ipykernel_launcher.py:9: RuntimeWarning: invalid value encountered in log\n",
      "  if __name__ == '__main__':\n"
     ]
    },
    {
     "name": "stdout",
     "output_type": "stream",
     "text": [
      "[ 0.67569057  0.84245122  0.76489211  0.12377188  0.22210985  0.27280543\n",
      "  0.45649639  0.26794596  0.65101987  0.12854509  0.06021894  0.26087093\n",
      "  0.24403805  0.52957743  0.32443317  0.26878723  0.69010356  0.07427455\n",
      "  0.63518135  0.83457974  0.84931738]\n",
      "Maximum number of function evaluations has been exceeded.\n",
      "Current time: 12:40:21\n",
      "Computational time: 0:21:02.346795\n"
     ]
    }
   ],
   "source": [
    "initial_time = datetime.datetime.now()\n",
    "print (\"Current time: \" + str(initial_time.strftime('%H:%M:%S') ))\n",
    "\n",
    "param_init = np.random.uniform(0, 1, len(province_capitals)+1)\n",
    "res =  minimize(model_I, param_init, args = (data_rou, w_i), method='nelder-mead')\n",
    "#print(model_I([b, a], data_rou), b, a)\n",
    "print(res.x)\n",
    "print(res.message)\n",
    "print(res.fun)\n",
    "final_time = datetime.datetime.now() \n",
    "print (\"Current time: \" + str(final_time.strftime('%H:%M:%S')))\n",
    "print(\"Computational time: \" + str((final_time - initial_time)))"
   ]
  },
  {
   "cell_type": "code",
   "execution_count": null,
   "metadata": {},
   "outputs": [],
   "source": []
  },
  {
   "cell_type": "code",
   "execution_count": null,
   "metadata": {},
   "outputs": [],
   "source": [
    "def model_I_step_II(par, a_hat):\n",
    "    log_lik = 0\n",
    "    for i in province_capitals:\n",
    "        f = a_hat[province_capitals.index(i)] - np.dot(np.subtract(x_i, x_I), param) - e_i[province_capitals.index(i)] - xi_i[province_capitals.index(i)]\n",
    "        log_like -= np.log(f)\n",
    "    return(log_like)"
   ]
  },
  {
   "cell_type": "code",
   "execution_count": null,
   "metadata": {},
   "outputs": [],
   "source": []
  },
  {
   "cell_type": "code",
   "execution_count": null,
   "metadata": {},
   "outputs": [],
   "source": []
  },
  {
   "cell_type": "code",
   "execution_count": null,
   "metadata": {},
   "outputs": [],
   "source": []
  },
  {
   "cell_type": "code",
   "execution_count": null,
   "metadata": {},
   "outputs": [],
   "source": [
    "# Examples"
   ]
  },
  {
   "cell_type": "code",
   "execution_count": 245,
   "metadata": {},
   "outputs": [
    {
     "name": "stdout",
     "output_type": "stream",
     "text": [
      "[0.0, 0.0] 3.50000004142 1.75000008284\n"
     ]
    }
   ],
   "source": [
    "from scipy.optimize import fsolve\n",
    "\n",
    "def equations(p):\n",
    "    x, y = p\n",
    "    f = []\n",
    "    f.append(y - x**2 -7 + 5*x)\n",
    "    f.append(4*y - 8*x + 21)\n",
    "\n",
    "    return(f)\n",
    "\n",
    "x, y =  fsolve(equations, (5, 5))\n",
    "\n",
    "print(equations((x, y)), x, y)\n",
    "\n",
    "\n",
    "def equations(p):\n",
    "    x, y = p\n",
    "    return (y - x**2 -7 + 5*x, 4*y - 8*x + 21)\n",
    "\n",
    "x, y =  fsolve(equations, (5, 5))\n",
    "\n",
    "print(equations((x, y)), x, y)\n",
    "\n",
    "\n",
    "import numpy as np, numpy.random, scipy.optimize\n",
    "def residuals(p, dRA, dDE, RA, DEC):\n",
    "    ex,ey,ez = p\n",
    "    f1 = dRA-(ex*np.sin(DEC)*np.cos(RA)+ey*np.sin(DEC)*np.sin(RA)-ez*np.cos(DEC))\n",
    "    f2 = dDE-(-ex*np.sin(RA)+ey*np.cos(RA))\n",
    "    err = np.concatenate((f1,f2))\n",
    "    return err    \n",
    "ex, ey, ez = 0.2, 0.3, 0.4\n",
    "N = 100\n",
    "err = 1e-3\n",
    "p0 = [0, 0., 0.]\n",
    "ra, dec = np.random.uniform(0,1,N), np.random.uniform(0,.5,N)\n",
    "dra = (ex*np.sin(dec)*np.cos(ra)+ey*np.sin(dec)*np.sin(ra)-ez*np.cos(dec))+np.random.normal(size=N)*err\n",
    "ddec = (-ex*np.sin(ra)+ey*np.cos(ra))+np.random.normal(size=N)*err\n",
    "print(scipy.optimize.leastsq(residuals, p0, args=(dra, ddec, ra, dec)))"
   ]
  },
  {
   "cell_type": "code",
   "execution_count": 24,
   "metadata": {},
   "outputs": [
    {
     "name": "stdout",
     "output_type": "stream",
     "text": [
      "[ 5.84476511  2.39111051  3.77154789]\n"
     ]
    }
   ],
   "source": [
    "# import the packages\n",
    "import numpy as np\n",
    "from scipy.optimize import minimize\n",
    "import scipy.stats as stats\n",
    "import time\n",
    "\n",
    "# Set up your x values\n",
    "x = np.linspace(0, 100, num=100)\n",
    "\n",
    "# Set up your observed y values with a known slope (2.4), intercept (5), and sd (4)\n",
    "yObs = 5 + 2.4*x + np.random.normal(0, 4, 100)\n",
    "\n",
    "# Define the likelihood function where params is a list of initial parameter estimates\n",
    "def regressLL(params):\n",
    "    # Resave the initial parameter guesses\n",
    "    b0 = params[0]\n",
    "    b1 = params[1]\n",
    "    sd = params[2]\n",
    "\n",
    "    # Calculate the predicted values from the initial parameter guesses\n",
    "    yPred = b0 + b1*x\n",
    "\n",
    "    # Calculate the negative log-likelihood as the negative sum of the log of a normal\n",
    "    # PDF where the observed values are normally distributed around the mean (yPred)\n",
    "    # with a standard deviation of sd\n",
    "    logLik = -np.sum( stats.norm.logpdf(yObs, loc=yPred, scale=sd) )\n",
    "\n",
    "    # Tell the function to return the NLL (this is what will be minimized)\n",
    "    return(logLik)\n",
    "\n",
    "# Make a list of initial parameter guesses (b0, b1, sd)    \n",
    "initParams = [1, 1, 1]\n",
    "\n",
    "# Run the minimizer\n",
    "results = minimize(regressLL, initParams, method='nelder-mead')\n",
    "\n",
    "# Print the results. They should be really close to your actual values\n",
    "print (results.x)"
   ]
  },
  {
   "cell_type": "code",
   "execution_count": null,
   "metadata": {},
   "outputs": [],
   "source": []
  }
 ],
 "metadata": {
  "kernelspec": {
   "display_name": "Python 3",
   "language": "python",
   "name": "python3"
  },
  "language_info": {
   "codemirror_mode": {
    "name": "ipython",
    "version": 3
   },
   "file_extension": ".py",
   "mimetype": "text/x-python",
   "name": "python",
   "nbconvert_exporter": "python",
   "pygments_lexer": "ipython3",
   "version": "3.6.3"
  }
 },
 "nbformat": 4,
 "nbformat_minor": 2
}
