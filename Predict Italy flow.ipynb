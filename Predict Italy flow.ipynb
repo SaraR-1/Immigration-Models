{
 "cells": [
  {
   "cell_type": "code",
   "execution_count": 1,
   "metadata": {},
   "outputs": [],
   "source": [
    "import sys\n",
    "import warnings\n",
    "\n",
    "if not sys.warnoptions:\n",
    "    warnings.simplefilter(\"ignore\")\n",
    "    \n",
    "import numpy as np\n",
    "from statsmodels.datasets import grunfeld\n",
    "from linearmodels.panel  import PanelOLS\n",
    "import pandas as pd\n",
    "import build_data_functions as bdf\n",
    "import plot_data_functions as pdf\n",
    "import seaborn as sns\n",
    "import matplotlib.pyplot as plt\n",
    "import matplotlib.lines as mlines\n",
    "import model_functions as mf\n",
    "import plot_model_functions as pmf\n",
    "import panelOLS_models \n",
    "import statsmodels.api as sm\n",
    "from sklearn.feature_selection import SelectKBest, f_regression, mutual_info_regression\n",
    "import pycountry\n",
    "from sklearn import datasets, linear_model\n",
    "from sklearn.metrics import mean_squared_error, r2_score\n",
    "\n",
    "from sklearn.preprocessing import normalize\n",
    "\n",
    "from sklearn.model_selection import train_test_split, ShuffleSplit, cross_val_score\n",
    "from scipy.stats import normaltest"
   ]
  },
  {
   "cell_type": "code",
   "execution_count": 2,
   "metadata": {},
   "outputs": [],
   "source": [
    "years = list(range(2005, 2017))"
   ]
  },
  {
   "cell_type": "code",
   "execution_count": 3,
   "metadata": {},
   "outputs": [],
   "source": [
    "y = pd.read_table(\"/home/sara/Documents/Immigration/Shared_models/Data/resident_foreigners_norm.csv\", sep = \"\\t\", index_col=0)\n",
    "y = y.groupby([\"Province\", \"Country\", \"Year\"], as_index=False)[\"Value\"].sum()\n",
    "y = bdf.pivot(y, \"Country\", \"Value\")\n",
    "\n",
    "resident_foreigners_norm = pd.read_table(\"/home/sara/Documents/Immigration/Shared_statistics/Data_final/resident_foreigners_norm.csv\")\n",
    "\n",
    "#unesco_demo = pd.read_table(\"/home/sara/Documents/Immigration/Shared_models/Data/countries_info.csv\", sep = \"\\t\", index_col=[0,1])"
   ]
  },
  {
   "cell_type": "markdown",
   "metadata": {},
   "source": [
    "## Italian Stock Prediction"
   ]
  },
  {
   "cell_type": "code",
   "execution_count": 4,
   "metadata": {},
   "outputs": [],
   "source": [
    "# To get the Italy info we need to sum the 5 Italian zones\n",
    "zones = list(pd.read_table(\"/home/sara/Documents/Immigration/Shared_models/Data/x_zones.csv\", sep = \"\\t\", index_col=[\"Province\", \"Year\"]).index.levels[0])\n",
    "\n",
    "for t in y.index.levels[1]:\n",
    "    y.loc[(\"Italia\", t), :] = y.loc[(zones, t), :].sum()"
   ]
  },
  {
   "cell_type": "code",
   "execution_count": 5,
   "metadata": {
    "scrolled": true
   },
   "outputs": [],
   "source": [
    "temp = pd.read_table(\"/home/sara/Documents/Immigration/Shared_models/Data/x_zones.csv\", sep = \"\\t\", index_col=[\"Province\", \"Year\"])\n",
    "xs = pd.DataFrame(columns=[\"Province\", \"Year\"]+temp.columns.tolist())\n",
    "xs = xs.set_index([\"Province\",\"Year\"])\n",
    "\n",
    "for t in temp.index.levels[1]:\n",
    "    xs.loc[(\"Italia\", t), :] = temp.loc[(zones, t), :].sum()"
   ]
  },
  {
   "cell_type": "code",
   "execution_count": 6,
   "metadata": {},
   "outputs": [],
   "source": [
    "palette = ['blue', 'darkgreen', 'yellowgreen', 'orange', 'lightcoral', 'red', 'paleturquoise', 'deepskyblue', 'mediumpurple', 'fuchsia']"
   ]
  },
  {
   "cell_type": "code",
   "execution_count": 9,
   "metadata": {
    "scrolled": true
   },
   "outputs": [],
   "source": [
    "countries_list = [\"Romania\", \"Morocco\", \"Albania\", \"Tunisia\", \"Egypt\", \"Ecuador\", \"Peru\", \"China\", \"Philippines\"]\n",
    "countries_list_iso3 = [pycountry.countries.get(name=country).alpha_3 for country in countries_list]\n",
    "target = \"Italia\"\n",
    "# number of features to select\n",
    "ks = [3, 5, 7, 10, 15]"
   ]
  },
  {
   "cell_type": "code",
   "execution_count": 10,
   "metadata": {
    "scrolled": true
   },
   "outputs": [
    {
     "name": "stdout",
     "output_type": "stream",
     "text": [
      "ROU\n",
      "['y_prev_1', 'native population - Total', 'Average age of mothers at birth', 'Disposable Income', 'Free activities in voluntary associations']\n",
      "MAR\n",
      "['y_prev_1', 'Disposable Income', 'y_prev_2', 'native population - Total', 'Free activities in voluntary associations', 'Average age of mothers at birth', 'Average age of fathers at birth', 'political_info - Some times in a week', 'Average monthly expenditure for housing', 'unemployment - Total', 'internal_migration - Foreign country', 'political_info - A time per week', 'internal_migration - Italy', 'reach_difficulty - Pharmacy', 'Furniture, articles and services for the house']\n",
      "ALB\n",
      "['y_prev_1', 'Disposable Income', 'y_prev_2', 'native population - Total', 'Average age of mothers at birth', 'Free activities in voluntary associations', 'Average age of fathers at birth', 'political_info - Some times in a week', 'Average monthly expenditure for housing', 'internal_migration - Italy', 'internal_migration - Foreign country', 'Communications', 'political_info - A time per week', 'Recreation, shows and culture', 'unemployment - Total']\n",
      "TUN\n",
      "['Meetings in cultural, recreational or other associations', 'Disposable Income', 'y_prev_1', 'reach_difficulty - Emergency room', 'Free activities in voluntary associations', 'internal_migration - Italy', 'Total fertility rate', 'y_prev_2', 'native population - Total', 'political_info - Some times in a year', 'reach_difficulty - Food stores, markets', 'Average age of mothers at birth', 'Average age of fathers at birth', 'political_info - Every day', 'Free activities in non voluntary associations']\n",
      "EGY\n",
      "['Free activities in voluntary associations', 'native population - Total', 'Average age of mothers at birth', 'reach_difficulty - Emergency room', 'Average age of fathers at birth']\n",
      "ECU\n",
      "['Disposable Income', 'y_prev_1', 'y_prev_2']\n",
      "PER\n",
      "['y_prev_1', 'native population - Total', 'y_prev_2']\n",
      "CHN\n",
      "['Average age of mothers at birth', 'Average age of fathers at birth', 'native population - Total']\n",
      "PHL\n",
      "['Average age of mothers at birth', 'native population - Total', 'Average age of fathers at birth']\n"
     ]
    }
   ],
   "source": [
    "y_hat = mf.compute_regression_model(y, xs, years, countries_list, target, ks)"
   ]
  },
  {
   "cell_type": "code",
   "execution_count": 11,
   "metadata": {
    "scrolled": true
   },
   "outputs": [],
   "source": [
    "pdf.relation_plot_time_variant_intern_function(y_hat, countries_list_iso3, years, [\"Predicted\"], resident_foreigners_norm.groupby([\"Country\", \"Year\"]), plt.figure(1, figsize=(15,14)), 331, 45, palette, None, \"Immigrant Stock Real VS Predicted\", True, \"Plots/regression_model_italy\", False)"
   ]
  },
  {
   "cell_type": "code",
   "execution_count": null,
   "metadata": {},
   "outputs": [],
   "source": [
    "## Zones Prediction - au"
   ]
  }
 ],
 "metadata": {
  "kernelspec": {
   "display_name": "Python 3",
   "language": "python",
   "name": "python3"
  },
  "language_info": {
   "codemirror_mode": {
    "name": "ipython",
    "version": 3
   },
   "file_extension": ".py",
   "mimetype": "text/x-python",
   "name": "python",
   "nbconvert_exporter": "python",
   "pygments_lexer": "ipython3",
   "version": "3.6.4"
  }
 },
 "nbformat": 4,
 "nbformat_minor": 2
}
