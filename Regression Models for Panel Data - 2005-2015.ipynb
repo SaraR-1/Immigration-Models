{
 "cells": [
  {
   "cell_type": "code",
   "execution_count": 15,
   "metadata": {},
   "outputs": [],
   "source": [
    "import sys\n",
    "import warnings\n",
    "\n",
    "if not sys.warnoptions:\n",
    "    warnings.simplefilter(\"ignore\")\n",
    "    \n",
    "import numpy as np\n",
    "from statsmodels.datasets import grunfeld\n",
    "from linearmodels.panel  import PanelOLS\n",
    "import pandas as pd\n",
    "import build_data_functions as bdf\n",
    "import seaborn as sns\n",
    "import matplotlib.pyplot as plt\n",
    "import matplotlib.lines as mlines\n",
    "import model_functions as mf\n",
    "import plot_model_functions as pmf\n",
    "import statsmodels.api as sm\n",
    "\n",
    "from sklearn.feature_selection import SelectKBest\n",
    "from sklearn.feature_selection import chi2"
   ]
  },
  {
   "cell_type": "code",
   "execution_count": 4,
   "metadata": {},
   "outputs": [],
   "source": [
    "years = list(range(2005, 2016))"
   ]
  },
  {
   "cell_type": "code",
   "execution_count": 5,
   "metadata": {},
   "outputs": [],
   "source": [
    "y = pd.read_table(\"/home/sara/Documents/Immigration/Shared_models/Data/resident_foreigners_norm.csv\", sep = \"\\t\", index_col=0)\n",
    "y = y.groupby([\"Province\", \"Country\", \"Year\"], as_index=False)[\"Value\"].sum()\n",
    "y = bdf.pivot(y, \"Country\", \"Value\")"
   ]
  },
  {
   "cell_type": "markdown",
   "metadata": {},
   "source": [
    "## Zone level"
   ]
  },
  {
   "cell_type": "code",
   "execution_count": null,
   "metadata": {},
   "outputs": [],
   "source": [
    "xs = pd.read_table(\"/home/sara/Documents/Immigration/Shared_models/Data/x_zones.csv\", sep = \"\\t\", index_col=[\"Province\", \"Year\"])"
   ]
  },
  {
   "cell_type": "markdown",
   "metadata": {},
   "source": [
    "### ROMANIA"
   ]
  },
  {
   "cell_type": "code",
   "execution_count": 6,
   "metadata": {},
   "outputs": [],
   "source": [
    "country = \"ROU\""
   ]
  },
  {
   "cell_type": "code",
   "execution_count": 14,
   "metadata": {},
   "outputs": [
    {
     "name": "stdout",
     "output_type": "stream",
     "text": [
      "The R-squared of the regression model is 0.980167.\n",
      "The adjusted R-squared of the regression model is 0.979793.\n",
      "---------------- Training Results ----------------\n",
      "The R-squared of the regression model is 0.971723.\n",
      "The adjusted R-squared of the regression model is 0.971065.\n",
      "---------------- Overall Results ----------------\n",
      "The R-squared of the regression model is 0.980161.\n",
      "The adjusted R-squared of the regression model is 0.979787.\n",
      "---------------- Training Results ----------------\n",
      "The R-squared of the regression model is 0.965665.\n",
      "The adjusted R-squared of the regression model is 0.964761.\n",
      "---------------- Overall Results ----------------\n",
      "The R-squared of the regression model is 0.980101.\n",
      "The adjusted R-squared of the regression model is 0.979726.\n"
     ]
    }
   ],
   "source": [
    "# PanelOLS uses fixed effect (i.e., entity effects) to eliminate the entity specific components. \n",
    "# FirstDifferenceOLS takes the first difference to eliminate the entity specific effect.\n",
    "param, values = mf.panel_regression(y, xs, years, \"ROU\", ['y_prev_1'], prev = 2, save = False, show = False)\n",
    "\n",
    "# Training - Test (2014, 2015)\n",
    "param, values = mf.panel_regression_training_test(y, xs, years[:-2], years[-2:], \"ROU\", ['y_prev_1'], prev = 2, save = False, show = False)\n",
    "\n",
    "# Training - Test (2013, 2014, 2015)\n",
    "param, values = mf.panel_regression_training_test(y, xs, years[:-3], years[-3:], \"ROU\", ['y_prev_1'], prev = 2, save = False, show = False)"
   ]
  },
  {
   "cell_type": "code",
   "execution_count": 13,
   "metadata": {
    "scrolled": false
   },
   "outputs": [
    {
     "name": "stdout",
     "output_type": "stream",
     "text": [
      "The R-squared of the regression model is 0.981551.\n",
      "The adjusted R-squared of the regression model is 0.981203.\n",
      "---------------- Training Results ----------------\n",
      "The R-squared of the regression model is 0.974041.\n",
      "The adjusted R-squared of the regression model is 0.973438.\n",
      "---------------- Overall Results ----------------\n",
      "The R-squared of the regression model is 0.981545.\n",
      "The adjusted R-squared of the regression model is 0.981196.\n",
      "---------------- Training Results ----------------\n",
      "The R-squared of the regression model is 0.975025.\n",
      "The adjusted R-squared of the regression model is 0.974367.\n",
      "---------------- Overall Results ----------------\n",
      "The R-squared of the regression model is 0.973356.\n",
      "The adjusted R-squared of the regression model is 0.972853.\n"
     ]
    }
   ],
   "source": [
    "# PanelOLS uses fixed effect (i.e., entity effects) to eliminate the entity specific components. \n",
    "# FirstDifferenceOLS takes the first difference to eliminate the entity specific effect.\n",
    "param, values = mf.panel_regression(y, xs, years, \"ROU\", ['y_prev_1', 'y_prev_2'], prev = 2, save = False, show = False)\n",
    "\n",
    "# Training - Test (2014, 2015)\n",
    "param, values = mf.panel_regression_training_test(y, xs, years[:-2], years[-2:], \"ROU\", ['y_prev_1', 'y_prev_2'], prev = 2, save = False, show = False)\n",
    "\n",
    "# Training - Test (2013, 2014, 2015)\n",
    "param, values = mf.panel_regression_training_test(y, xs, years[:-3], years[-3:], \"ROU\", ['y_prev_1', 'y_prev_2'], prev = 2, save = False, show = False)"
   ]
  },
  {
   "cell_type": "code",
   "execution_count": null,
   "metadata": {},
   "outputs": [],
   "source": []
  }
 ],
 "metadata": {
  "kernelspec": {
   "display_name": "Python 3",
   "language": "python",
   "name": "python3"
  },
  "language_info": {
   "codemirror_mode": {
    "name": "ipython",
    "version": 3
   },
   "file_extension": ".py",
   "mimetype": "text/x-python",
   "name": "python",
   "nbconvert_exporter": "python",
   "pygments_lexer": "ipython3",
   "version": "3.6.4"
  }
 },
 "nbformat": 4,
 "nbformat_minor": 2
}
