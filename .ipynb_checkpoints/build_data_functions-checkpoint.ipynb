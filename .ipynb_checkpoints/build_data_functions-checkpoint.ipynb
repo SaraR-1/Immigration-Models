{
 "cells": [
  {
   "cell_type": "code",
   "execution_count": 1,
   "metadata": {},
   "outputs": [],
   "source": [
    "import pandas as pd\n",
    "import numpy as np\n",
    "import string\n",
    "import seaborn as sns\n",
    "import matplotlib.pyplot as plt\n",
    "import matplotlib.lines as mlines"
   ]
  },
  {
   "cell_type": "code",
   "execution_count": null,
   "metadata": {},
   "outputs": [],
   "source": [
    "def replace_in_list(list_, olds_, news_):\n",
    "    for old_, new_ in zip(olds_, news_):\n",
    "        list_[list_.index(old_)] = new_\n",
    "    return(list_)"
   ]
  },
  {
   "cell_type": "code",
   "execution_count": null,
   "metadata": {},
   "outputs": [],
   "source": [
    "def add_row(df, rows):\n",
    "    ind = range(len(df), len(df)+len(rows))\n",
    "    for row, i in zip(rows, ind):\n",
    "        df.loc[i] = row\n",
    "    return(df)"
   ]
  },
  {
   "cell_type": "code",
   "execution_count": null,
   "metadata": {},
   "outputs": [],
   "source": [
    "def drop_useless(data):\n",
    "    for c in data.columns:\n",
    "        if len(list(set(data[c]))) == 1:\n",
    "            print(c, set(data[c]))\n",
    "            del data[c]"
   ]
  },
  {
   "cell_type": "code",
   "execution_count": null,
   "metadata": {},
   "outputs": [],
   "source": [
    "def divide_table(data, attribute):\n",
    "    res = [x for _, x in data.groupby(data[attribute])]\n",
    "    for r in res:\n",
    "        del r[attribute]\n",
    "    return res"
   ]
  },
  {
   "cell_type": "code",
   "execution_count": null,
   "metadata": {},
   "outputs": [],
   "source": [
    "def filtering(data, attribute, list_values):\n",
    "    return data[data[attribute].isin(list_values)]"
   ]
  },
  {
   "cell_type": "code",
   "execution_count": null,
   "metadata": {},
   "outputs": [],
   "source": [
    "def pivot(data, attibute, value):\n",
    "    idx = data.columns[(data.columns != attibute) & (data.columns != value)]\n",
    "    return pd.pivot_table(data, columns=attibute, values = value, index = list(idx)) "
   ]
  },
  {
   "cell_type": "code",
   "execution_count": null,
   "metadata": {},
   "outputs": [],
   "source": [
    "def re_ordering_df(data):\n",
    "    return data.reindex_axis(sorted(data.columns), axis=1)"
   ]
  },
  {
   "cell_type": "code",
   "execution_count": null,
   "metadata": {},
   "outputs": [],
   "source": [
    "def check_missing(data):\n",
    "    for c in data.columns:\n",
    "        if data[c].isnull().sum() != 0:\n",
    "            print(c)"
   ]
  },
  {
   "cell_type": "code",
   "execution_count": null,
   "metadata": {},
   "outputs": [],
   "source": [
    "# del a column if more than 1/3 of its values are missing\n",
    "def del_missing(data):\n",
    "    threshold = 1/3*len(data)\n",
    "    for c in data.columns:\n",
    "        if data[c].isnull().sum() >= threshold:\n",
    "            print(c)\n",
    "            del data[c]"
   ]
  },
  {
   "cell_type": "code",
   "execution_count": null,
   "metadata": {},
   "outputs": [],
   "source": [
    "def differentiate_values(data, attribute, to_modify):\n",
    "    data[to_modify] = [data[to_modify][i] + \" - \" + data[attribute][i] for i in data.index]\n",
    "    del data[attribute]\n",
    "    return data"
   ]
  },
  {
   "cell_type": "code",
   "execution_count": null,
   "metadata": {},
   "outputs": [],
   "source": [
    "def check_missing_index(data, time, place):\n",
    "    y = data.index.levels[0]\n",
    "    p = data.index.levels[1]\n",
    "    \n",
    "    if len(y) != len(time):\n",
    "        print([i for i in time if i not in y])\n",
    "    if len(p) != len(place):\n",
    "        print([i for i in place if i not in p])"
   ]
  },
  {
   "cell_type": "code",
   "execution_count": null,
   "metadata": {},
   "outputs": [],
   "source": [
    "def relation_plot_time_invariant(data_, cols, y, rot):    \n",
    "    fig = plt.figure(1, figsize=(15,15))\n",
    "\n",
    "    plt_seed = 221\n",
    "    for c in cols:\n",
    "        sns.set_style(\"whitegrid\")\n",
    "\n",
    "        ax = fig.add_subplot(plt_seed)\n",
    "        ax.tick_params(axis='x', which='minor', labelsize='small', labelcolor='m', rotation=30)\n",
    "        legend = []\n",
    "        ax = sns.pointplot(y = data_[y], x = data_.index)\n",
    "        legend.append(mlines.Line2D([], [], markersize=15, label=\"Real\"))\n",
    "\n",
    "        sns.set_style(\"white\")\n",
    "        ax2 = ax.twinx()\n",
    "        ax2 = sns.pointplot(y = getattr(data_, c), x = data_.index, color = \"red\")\n",
    "        legend.append(mlines.Line2D([], [], markersize=15, label=c, color = \"red\"))\n",
    "\n",
    "        sns.despine(ax=ax, right=True, left=True)\n",
    "        sns.despine(ax=ax2, left=True, right=False)\n",
    "\n",
    "        ax2.spines['right'].set_color('white')\n",
    "        \n",
    "        ax.set_xticklabels(ax.get_xticklabels(), rotation=rot)\n",
    "        plt.xticks(rotation=90)\n",
    "        plt.xlabel(\"\", fontsize=12)\n",
    "        plt.ylabel(\"\", fontsize=12)\n",
    "        plt.legend(handles = legend, prop={'size':14}, loc='best')\n",
    "        #plt.title(\"Real Immigrant stock VS %s\" %c, fontsize = 14)\n",
    "\n",
    "        plt_seed += 1\n",
    "\n",
    "    #plt.legend(patches, labels, loc = \"best\", fontsize = 10, framealpha = 0.5)\n",
    "    #plt.title(\"%s prediction - %d\" %(country, k), fontsize = 16)\n",
    "    plt.show()"
   ]
  }
 ],
 "metadata": {
  "kernelspec": {
   "display_name": "Python 3",
   "language": "python",
   "name": "python3"
  },
  "language_info": {
   "codemirror_mode": {
    "name": "ipython",
    "version": 3
   },
   "file_extension": ".py",
   "mimetype": "text/x-python",
   "name": "python",
   "nbconvert_exporter": "python",
   "pygments_lexer": "ipython3",
   "version": "3.6.4"
  }
 },
 "nbformat": 4,
 "nbformat_minor": 2
}
