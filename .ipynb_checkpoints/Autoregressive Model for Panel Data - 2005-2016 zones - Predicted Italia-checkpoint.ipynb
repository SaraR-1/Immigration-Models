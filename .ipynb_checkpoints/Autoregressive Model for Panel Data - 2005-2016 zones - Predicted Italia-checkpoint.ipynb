{
 "cells": [
  {
   "cell_type": "code",
   "execution_count": 1,
   "metadata": {},
   "outputs": [],
   "source": [
    "import sys\n",
    "import warnings\n",
    "\n",
    "if not sys.warnoptions:\n",
    "    warnings.simplefilter(\"ignore\")\n",
    "    \n",
    "import numpy as np\n",
    "from statsmodels.datasets import grunfeld\n",
    "from linearmodels.panel  import PanelOLS\n",
    "import pandas as pd\n",
    "import build_data_functions as bdf\n",
    "import plot_data_functions as pdf\n",
    "import seaborn as sns\n",
    "import matplotlib.pyplot as plt\n",
    "import matplotlib.lines as mlines\n",
    "import model_functions as mf\n",
    "import plot_model_functions as pmf\n",
    "import panelOLS_models \n",
    "import spatial_error_model as sem\n",
    "import statsmodels.api as sm\n",
    "from sklearn.feature_selection import SelectKBest, f_regression, mutual_info_regression\n",
    "import pycountry\n",
    "import os\n",
    "from sys import argv\n",
    "from collections import defaultdict\n",
    "from sklearn import datasets, linear_model\n",
    "from sklearn.metrics import mean_squared_error, r2_score\n",
    "\n",
    "from sklearn.preprocessing import normalize\n",
    "\n",
    "from sklearn.model_selection import train_test_split, ShuffleSplit, cross_val_score\n",
    "from scipy.stats import normaltest"
   ]
  },
  {
   "cell_type": "code",
   "execution_count": 2,
   "metadata": {},
   "outputs": [],
   "source": [
    "#first, last = argv\n",
    "#years = list(range(first, last))\n",
    "years = list(range(2005, 2017))"
   ]
  },
  {
   "cell_type": "code",
   "execution_count": 3,
   "metadata": {},
   "outputs": [],
   "source": [
    "directory = \"/home/sara/Documents/Immigration/Shared_models/Plot_%d_%d\" %(years[0], years[-1])\n",
    "if not os.path.exists(directory):\n",
    "    os.makedirs(directory)"
   ]
  },
  {
   "cell_type": "code",
   "execution_count": 4,
   "metadata": {},
   "outputs": [],
   "source": [
    "y = pd.read_table(\"/home/sara/Documents/Immigration/Shared_models/Data/resident_foreigners_norm.csv\", sep = \"\\t\", index_col=0)\n",
    "y = y.groupby([\"Province\", \"Country\", \"Year\"], as_index=False)[\"Value\"].sum()\n",
    "y = bdf.pivot(y, \"Country\", \"Value\")\n",
    "\n",
    "resident_foreigners_norm = pd.read_table(\"/home/sara/Documents/Immigration/Shared_statistics/Data_final/resident_foreigners_norm.csv\")\n",
    "\n",
    "#unesco_demo = pd.read_table(\"/home/sara/Documents/Immigration/Shared_models/Data/countries_info.csv\", sep = \"\\t\", index_col=[0,1])"
   ]
  },
  {
   "cell_type": "markdown",
   "metadata": {},
   "source": [
    "## Italian Stock Prediction"
   ]
  },
  {
   "cell_type": "code",
   "execution_count": 5,
   "metadata": {},
   "outputs": [],
   "source": [
    "# To get the Italy info we need to sum the 5 Italian zones\n",
    "zones = list(pd.read_table(\"/home/sara/Documents/Immigration/Shared_models/Data/x_zones.csv\", sep = \"\\t\", index_col=[\"Province\", \"Year\"]).index.levels[0])\n",
    "\n",
    "for t in y.index.levels[1]:\n",
    "    y.loc[(\"Italia\", t), :] = y.loc[(zones, t), :].sum()"
   ]
  },
  {
   "cell_type": "code",
   "execution_count": 6,
   "metadata": {
    "scrolled": true
   },
   "outputs": [],
   "source": [
    "temp = pd.read_table(\"/home/sara/Documents/Immigration/Shared_models/Data/x_zones.csv\", sep = \"\\t\", index_col=[\"Province\", \"Year\"])\n",
    "xs = pd.DataFrame(columns=[\"Province\", \"Year\"]+temp.columns.tolist())\n",
    "xs = xs.set_index([\"Province\",\"Year\"])\n",
    "\n",
    "for t in temp.index.levels[1]:\n",
    "    xs.loc[(\"Italia\", t), :] = temp.loc[(zones, t), :].sum()"
   ]
  },
  {
   "cell_type": "code",
   "execution_count": 7,
   "metadata": {},
   "outputs": [],
   "source": [
    "palette = ['blue', 'darkgreen', 'yellowgreen', 'orange', 'lightcoral', 'red', 'paleturquoise', 'deepskyblue', 'mediumpurple', 'fuchsia']"
   ]
  },
  {
   "cell_type": "code",
   "execution_count": 8,
   "metadata": {
    "scrolled": true
   },
   "outputs": [],
   "source": [
    "countries_list = [\"Romania\", \"Morocco\", \"Albania\", \"Tunisia\", \"Egypt\", \"Ecuador\", \"Peru\", \"China\", \"Philippines\"]\n",
    "countries_list_iso3 = [pycountry.countries.get(name=country).alpha_3 for country in countries_list]\n",
    "target = \"Italia\"\n",
    "# number of features to select\n",
    "ks = [3, 5, 7, 10, 15]"
   ]
  },
  {
   "cell_type": "code",
   "execution_count": 9,
   "metadata": {
    "scrolled": true
   },
   "outputs": [
    {
     "name": "stdout",
     "output_type": "stream",
     "text": [
      "ROU\n",
      "MAR\n",
      "ALB\n",
      "TUN\n",
      "EGY\n",
      "ECU\n",
      "PER\n",
      "CHN\n",
      "PHL\n"
     ]
    }
   ],
   "source": [
    "y_hat, models = mf.compute_regression_model(y, xs, years, countries_list, target, ks)"
   ]
  },
  {
   "cell_type": "code",
   "execution_count": 10,
   "metadata": {
    "scrolled": true
   },
   "outputs": [],
   "source": [
    "pdf.relation_plot_time_variant_intern_function(y_hat, countries_list_iso3, years, [\"Predicted\"], resident_foreigners_norm.groupby([\"Country\", \"Year\"]), plt.figure(1, figsize=(15,14)), 331, 45, palette, None, \"Immigrant Stock Real VS Predicted\", True, directory+\"/regression_model_italy\", False)"
   ]
  },
  {
   "cell_type": "code",
   "execution_count": 11,
   "metadata": {},
   "outputs": [],
   "source": [
    "y_italia_pred = y.copy()\n",
    "for country in countries_list_iso3:\n",
    "    y_italia_pred.loc[(\"Italia\", years), country] = np.array(y_hat.loc[(slice(None), country), \"Predicted\"].values, dtype=np.float32)"
   ]
  },
  {
   "cell_type": "code",
   "execution_count": 12,
   "metadata": {
    "scrolled": true
   },
   "outputs": [],
   "source": [
    "for k1 in models.keys():\n",
    "    models[k1][\"coefficients\"] = list(models[k1][\"coefficients\"])"
   ]
  },
  {
   "cell_type": "code",
   "execution_count": 24,
   "metadata": {},
   "outputs": [],
   "source": [
    "res_it = defaultdict(dict)\n",
    "\n",
    "for k1 in models.keys():\n",
    "    for k2, v in zip(models[k1][\"features\"], models[k1][\"coefficients\"]):\n",
    "        res_it[k1][k2] = v"
   ]
  },
  {
   "cell_type": "code",
   "execution_count": 26,
   "metadata": {
    "scrolled": true
   },
   "outputs": [],
   "source": [
    "with open(directory+\"/regression_model_italy.txt\", 'w') as outfile:\n",
    "    json.dump(res_it, outfile)"
   ]
  },
  {
   "cell_type": "markdown",
   "metadata": {},
   "source": [
    "## Zones Prediction - H. Jayet et al. paper"
   ]
  },
  {
   "cell_type": "code",
   "execution_count": 14,
   "metadata": {},
   "outputs": [],
   "source": [
    "xs_zones = pd.read_table(\"/home/sara/Documents/Immigration/Shared_models/Data/x_zones.csv\", sep = \"\\t\", index_col=[\"Province\", \"Year\"])\n",
    "xs_zones = pd.concat([xs_zones, xs])\n",
    "zones_data = pd.read_table(\"/home/sara/Documents/Immigration/Shared_statistics/Data_final/territori.csv\")\n",
    "zones_data = zones_data.replace(['Provincia Autonoma Bolzano / Bozen', 'Provincia Autonoma Trento'], ['Bolzano / Bozen', 'Trento'])"
   ]
  },
  {
   "cell_type": "code",
   "execution_count": 15,
   "metadata": {},
   "outputs": [],
   "source": [
    "# Distance matrix related to the interested locations (regions capitals)\n",
    "temp_W = pd.read_table(\"/home/sara/Documents/Immigration/Shared_models/Data/Zones_distances_matrix_mean.csv\", sep = \"\\t\", index_col=0)"
   ]
  },
  {
   "cell_type": "code",
   "execution_count": 16,
   "metadata": {
    "scrolled": true
   },
   "outputs": [],
   "source": [
    "# Add Italy distance info as mean of the five zones\n",
    "temp_W[\"Italia\"] = [temp_W.loc[z].mean() for z in temp_W.index]\n",
    "temp_W.loc[\"Italia\"] = [temp_W.loc[z].mean() for z in temp_W.index] + [0]"
   ]
  },
  {
   "cell_type": "code",
   "execution_count": 17,
   "metadata": {},
   "outputs": [],
   "source": [
    "temp_W = (1/temp_W)**2\n",
    "# w_ij = 0 if i=j\n",
    "temp_W[temp_W == np.inf] = 0\n",
    "# row standardization: every arow sum up to 1\n",
    "temp_W = temp_W.div(temp_W.sum(axis=1), axis=0)\n",
    "# Just to make sure the matrix has the right sort\n",
    "temp_W = temp_W.sort_index(axis=1)\n",
    "temp_W = temp_W.sort_index(axis=0)"
   ]
  },
  {
   "cell_type": "code",
   "execution_count": 18,
   "metadata": {},
   "outputs": [],
   "source": [
    "#palette = sns.color_palette()\n",
    "palette = ['blue', 'darkgreen', 'yellowgreen', 'orange', 'lightcoral', 'red', 'paleturquoise', 'deepskyblue', 'mediumpurple', 'fuchsia']"
   ]
  },
  {
   "cell_type": "markdown",
   "metadata": {},
   "source": [
    "### Romania"
   ]
  },
  {
   "cell_type": "code",
   "execution_count": 19,
   "metadata": {},
   "outputs": [],
   "source": [
    "vars_ = [[\"y_prev_2\", \"Average age of mothers at birth\"], \n",
    " [\"y_prev_2\", \"Average age of mothers at birth\", \"Average age of fathers at birth\", \n",
    "  \"Free activities in voluntary associations\"], \n",
    " [\"y_prev_2\", \"Average age of mothers at birth\", \"Average age of fathers at birth\", \n",
    "  \"Free activities in voluntary associations\", \"Communications\", \n",
    "  \"Other goods and services\"]]"
   ]
  },
  {
   "cell_type": "code",
   "execution_count": null,
   "metadata": {
    "scrolled": false
   },
   "outputs": [
    {
     "name": "stdout",
     "output_type": "stream",
     "text": [
      "------------------------------- Romania -------------------------------\n",
      "---------- Step I ----------\n",
      "Current time: 18:57:49\n"
     ]
    }
   ],
   "source": [
    "print(\"-------------------------------\", \"Romania\", \"-------------------------------\")\n",
    "res_pred, res_params = sem.run_model(y, \"Romania\", years, \"Italia\", xs_zones, temp_W, temp_W.columns.tolist(), vars_, False, palette, \"Spatial Error Model\", save = True, path = directory+\"/spatial_autocorr_model_romania1\", data_hat = y_italia_pred, train_test = True)\n",
    "\n",
    "res_params_dict = defaultdict(dict)\n",
    "for i, r in zip([\"beta\", \"a\", \"rho\"], res_params[:3]):\n",
    "    if type(r) == np.ndarray:\n",
    "        res_params_dict[i] = list(r)\n",
    "    else:\n",
    "        res_params_dict[i] = r\n",
    "    \n",
    "name = ['MI 3 selection','MI 5 selection', 'MI 7 selection']\n",
    "for i, r, n in zip(vars_, res_params[3], name):\n",
    "    for j, s in zip(i, r):\n",
    "        res_params_dict[n][j] = s\n",
    "        \n",
    "with open(directory+\"/spatial_autocorr_model_romania1_fitted_values_params.txt\", 'w') as outfile:\n",
    "    json.dump(res_params_dict, outfile)\n",
    "    \n",
    "res_pred.to_csv(directory+\"/spatial_autocorr_model_romania1_fitted_values.csv\", sep = \"\\t\")"
   ]
  },
  {
   "cell_type": "markdown",
   "metadata": {},
   "source": [
    "### Morocco"
   ]
  },
  {
   "cell_type": "code",
   "execution_count": 21,
   "metadata": {
    "scrolled": true
   },
   "outputs": [],
   "source": [
    "vars_ = [[\"y_prev_2\",\"Free activities in voluntary associations\"], \n",
    " [\"y_prev_2\",\"Free activities in voluntary associations\", \"internal_migration - Foreign country\", \n",
    "  \"native population - Total\"], \n",
    " [\"y_prev_2\",\"Free activities in voluntary associations\", \"internal_migration - Foreign country\", \n",
    "  \"native population - Total\", \"Free activities in non voluntary associations\", \n",
    "  \"Meetings in cultural, recreational or other associations\"], \n",
    " [\"y_prev_2\",\"Free activities in voluntary associations\", \"internal_migration - Foreign country\", \n",
    "  \"native population - Total\", \"Free activities in non voluntary associations\", \n",
    "  \"Meetings in cultural, recreational or other associations\", \"internal_migration - Italy\", \n",
    "  \"political_info - Some times in a week\", \"Pay money to an association\"], \n",
    " [\"y_prev_2\",\"Free activities in voluntary associations\", \"internal_migration - Foreign country\", \n",
    "  \"native population - Total\", \"Free activities in non voluntary associations\", \n",
    "  \"Meetings in cultural, recreational or other associations\", \"internal_migration - Italy\", \n",
    "  \"political_info - Some times in a week\", \"Pay money to an association\", \"reach_difficulty - Supermarket\", \n",
    "  \"reach_difficulty - Post offices\", \"Born alive\", \"Disposable Income\", \"political_info - Every day\"], \n",
    " [\"y_prev_2\", \"Free activities in voluntary associations\", \"native population - Total\",  \n",
    "  \"Meetings in cultural, recreational or other associations\", \"Disposable Income\", \n",
    "  \"Average monthly expenditure for housing\", \"unemployment - Total\", \"reach_difficulty - Emergency room\"]]"
   ]
  },
  {
   "cell_type": "code",
   "execution_count": 22,
   "metadata": {},
   "outputs": [
    {
     "name": "stdout",
     "output_type": "stream",
     "text": [
      "------------------------------- Morocco -------------------------------\n",
      "---------- Step I ----------\n",
      "Current time: 14:59:31\n",
      "Desired error not necessarily achieved due to precision loss.\n",
      "Current time: 15:13:42\n",
      "Computational time: 0:14:11.465539\n",
      "---------- Step II ----------\n",
      "---------- Validation ----------\n",
      "R-squared for Prediction step I: 1.000000.\n",
      "Adjusted R-squared for Prediction step I: 1.000000.\n",
      "R-squared for MI 3 selection: 1.000000.\n",
      "Adjusted R-squared for MI 3 selection: 1.000000.\n",
      "R-squared for MI 5 selection: 1.000000.\n",
      "Adjusted R-squared for MI 5 selection: 1.000000.\n",
      "R-squared for MI 7 selection: -4.463000.\n",
      "Adjusted R-squared for MI 7 selection: -5.199000.\n",
      "R-squared for MI 10 selection: 0.787000.\n",
      "Adjusted R-squared for MI 10 selection: 0.744000.\n",
      "R-squared for MI 15 selection: 0.921000.\n",
      "Adjusted R-squared for MI 15 selection: 0.895000.\n",
      "R-squared for Manual selection: 0.673000.\n",
      "Adjusted R-squared for Manual selection: 0.629000.\n"
     ]
    }
   ],
   "source": [
    "print(\"-------------------------------\", \"Morocco\", \"-------------------------------\")\n",
    "res_pred, res_params = sem.run_model(y, \"Morocco\", years, \"Italia\", xs_zones, temp_W, temp_W.columns.tolist(), vars_, False, palette, \"Spatial Error Model\", save = True, path = directory+\"/spatial_autocorr_model_Morocco1\", data_hat = y_italia_pred, train_test = True)\n",
    "\n",
    "res_params_dict = defaultdict(dict)\n",
    "for i, r in zip([\"beta\", \"a\", \"rho\"], res_params[:3]):\n",
    "    if type(r) == np.ndarray:\n",
    "        res_params_dict[i] = list(r)\n",
    "    else:\n",
    "        res_params_dict[i] = r\n",
    "    \n",
    "name = ['MI 3 selection','MI 5 selection', 'MI 7 selection', 'MI 10 selection', 'MI 15 selection', 'Manual selection']\n",
    "for i, r, n in zip(vars_, res_params[3], name):\n",
    "    for j, s in zip(i, r):\n",
    "        res_params_dict[n][j] = s\n",
    "        \n",
    "with open(directory+\"/spatial_autocorr_model_morocco1_fitted_values_params.txt\", 'w') as outfile:\n",
    "    json.dump(res_params_dict, outfile)\n",
    "    \n",
    "res_pred.to_csv(directory+\"/spatial_autocorr_model_Morocco1_fitted_values.csv\", sep = \"\\t\")"
   ]
  },
  {
   "cell_type": "markdown",
   "metadata": {},
   "source": [
    "### Albania"
   ]
  },
  {
   "cell_type": "code",
   "execution_count": 29,
   "metadata": {},
   "outputs": [],
   "source": [
    "vars_ = [[\"y_prev_2\", \"native population - Total\"], \n",
    " [\"y_prev_2\", \"native population - Total\",  \"internal_migration - Foreign country\", \n",
    "  \"Free activities in voluntary associations\"], \n",
    " [\"y_prev_2\", \"native population - Total\",  \"internal_migration - Foreign country\", \n",
    "  \"Free activities in voluntary associations\", \"Disposable Income\", \n",
    "  \"political_info - Every day\"], \n",
    " [\"y_prev_2\", \"native population - Total\",  \"internal_migration - Foreign country\", \n",
    "  \"Free activities in voluntary associations\", \"Disposable Income\", \n",
    "  \"political_info - Every day\", \"reach_difficulty - Supermarket\", \"Born alive\", \n",
    "  \"Free activities in non voluntary associations\"], \n",
    " [\"y_prev_2\", \"native population - Total\",  \"internal_migration - Foreign country\", \n",
    "  \"Free activities in voluntary associations\", \"Disposable Income\", \n",
    "  \"political_info - Every day\", \"reach_difficulty - Supermarket\", \"Born alive\", \n",
    "  \"Free activities in non voluntary associations\", \"reach_difficulty - Pharmacy\", \n",
    "  \"political_info - Never\", \"political_info - Some times in a week\", \n",
    "  \"Pay money to an association\", \"Meetings in cultural, recreational or other associations\"],\n",
    " [\"y_prev_2\", \"native population - Total\", \"Free activities in voluntary associations\", \n",
    "  \"Disposable Income\", \"Meetings in cultural, recreational or other associations\", \n",
    "  \"Average monthly expenditure for housing\", \"unemployment - Total\", \"reach_difficulty - Emergency room\"]]"
   ]
  },
  {
   "cell_type": "code",
   "execution_count": 30,
   "metadata": {},
   "outputs": [
    {
     "name": "stdout",
     "output_type": "stream",
     "text": [
      "------------------------------- Albania -------------------------------\n",
      "---------- Step I ----------\n",
      "Current time: 15:20:14\n",
      "Optimization terminated successfully.\n",
      "Current time: 15:26:03\n",
      "Computational time: 0:05:48.401317\n",
      "---------- Step II ----------\n",
      "---------- Validation ----------\n",
      "R-squared for Prediction step I: 1.000000.\n",
      "Adjusted R-squared for Prediction step I: 1.000000.\n",
      "R-squared for MI 3 selection: 1.000000.\n",
      "Adjusted R-squared for MI 3 selection: 1.000000.\n",
      "R-squared for MI 5 selection: 1.000000.\n",
      "Adjusted R-squared for MI 5 selection: 1.000000.\n",
      "R-squared for MI 7 selection: 0.816000.\n",
      "Adjusted R-squared for MI 7 selection: 0.791000.\n",
      "R-squared for MI 10 selection: 0.760000.\n",
      "Adjusted R-squared for MI 10 selection: 0.711000.\n",
      "R-squared for MI 15 selection: 0.701000.\n",
      "Adjusted R-squared for MI 15 selection: 0.599000.\n",
      "R-squared for Manual selection: 0.767000.\n",
      "Adjusted R-squared for Manual selection: 0.736000.\n"
     ]
    }
   ],
   "source": [
    "print(\"-------------------------------\", \"Albania\", \"-------------------------------\")\n",
    "res_pred, res_params = sem.run_model(y, \"Albania\", years, \"Italia\", xs_zones, temp_W, temp_W.columns.tolist(), vars_, False, palette, \"Spatial Error Model\", save = True, path = directory+\"/spatial_autocorr_model_albania1\", data_hat = y_italia_pred, train_test = True)\n",
    "\n",
    "res_params_dict = defaultdict(dict)\n",
    "for i, r in zip([\"beta\", \"a\", \"rho\"], res_params[:3]):\n",
    "    if type(r) == np.ndarray:\n",
    "        res_params_dict[i] = list(r)\n",
    "    else:\n",
    "        res_params_dict[i] = r\n",
    "    \n",
    "name = ['MI 3 selection','MI 5 selection', 'MI 7 selection', 'MI 10 selection', 'MI 15 selection', 'Manual selection']\n",
    "for i, r, n in zip(vars_, res_params[3], name):\n",
    "    for j, s in zip(i, r):\n",
    "        res_params_dict[n][j] = s\n",
    "        \n",
    "with open(directory+\"/spatial_autocorr_model_albania1_fitted_values_params.txt\", 'w') as outfile:\n",
    "    json.dump(res_params_dict, outfile)\n",
    "    \n",
    "res_pred.to_csv(directory+\"/spatial_autocorr_model_albania1_fitted_values.csv\", sep = \"\\t\")"
   ]
  },
  {
   "cell_type": "markdown",
   "metadata": {},
   "source": [
    "### Tunisia"
   ]
  },
  {
   "cell_type": "code",
   "execution_count": 35,
   "metadata": {},
   "outputs": [],
   "source": [
    "vars_ = [[\"y_prev_2\", \"Pay money to an association\"], \n",
    " [\"y_prev_2\", \"Pay money to an association\", \"internal_migration - Foreign country\", \n",
    "  \"native population - Total\"], \n",
    " [\"y_prev_2\", \"Pay money to an association\", \"internal_migration - Foreign country\", \n",
    "  \"native population - Total\", \"Free activities in voluntary associations\", \n",
    "  \"Meetings in cultural, recreational or other associations\"], \n",
    " [\"y_prev_2\", \"Pay money to an association\", \"internal_migration - Foreign country\", \n",
    "  \"native population - Total\", \"Free activities in voluntary associations\", \n",
    "  \"Meetings in cultural, recreational or other associations\", \n",
    "  \"Free activities in non voluntary associations\", \"reach_difficulty - Post offices\", \n",
    "  \"political_info - Never\"], \n",
    " [\"y_prev_2\", \"Pay money to an association\", \"internal_migration - Foreign country\", \n",
    "  \"native population - Total\", \"Free activities in voluntary associations\", \n",
    "  \"Meetings in cultural, recreational or other associations\", \n",
    "  \"Free activities in non voluntary associations\", \"reach_difficulty - Post offices\", \n",
    "  \"political_info - Never\", \"internal_migration - Italy\", \"reach_difficulty - Pharmacy\", \n",
    "  \"Born alive\", \"Accommodation and catering services\", \"political_info - Every day\"],\n",
    " [\"y_prev_2\", \"native population - Total\", \"Free activities in voluntary associations\", \n",
    "  \"Meetings in cultural, recreational or other associations\", \"Disposable Income\", \n",
    "  \"Average monthly expenditure for housing\", \"unemployment - Total\", \"reach_difficulty - Emergency room\"]]"
   ]
  },
  {
   "cell_type": "code",
   "execution_count": 36,
   "metadata": {},
   "outputs": [
    {
     "name": "stdout",
     "output_type": "stream",
     "text": [
      "------------------------------- Tunisia -------------------------------\n",
      "---------- Step I ----------\n",
      "Current time: 18:38:39\n",
      "Optimization terminated successfully.\n",
      "Current time: 18:41:59\n",
      "Computational time: 0:03:19.463335\n",
      "---------- Step II ----------\n",
      "---------- Validation ----------\n",
      "R-squared for Prediction step I: 0.999000.\n",
      "Adjusted R-squared for Prediction step I: 0.999000.\n",
      "R-squared for MI 3 selection: 0.999000.\n",
      "Adjusted R-squared for MI 3 selection: 0.999000.\n",
      "R-squared for MI 5 selection: 0.999000.\n",
      "Adjusted R-squared for MI 5 selection: 0.999000.\n",
      "R-squared for MI 7 selection: 0.000000.\n",
      "Adjusted R-squared for MI 7 selection: -0.135000.\n",
      "R-squared for MI 10 selection: 0.984000.\n",
      "Adjusted R-squared for MI 10 selection: 0.981000.\n",
      "R-squared for MI 15 selection: -4839168247622536.000000.\n",
      "Adjusted R-squared for MI 15 selection: -6488884695675673.000000.\n",
      "R-squared for Manual selection: 0.735000.\n",
      "Adjusted R-squared for Manual selection: 0.700000.\n"
     ]
    }
   ],
   "source": [
    "print(\"-------------------------------\", \"Tunisia\", \"-------------------------------\")\n",
    "res_pred, res_params = sem.run_model(y, \"Tunisia\", years, \"Italia\", xs_zones, temp_W, temp_W.columns.tolist(), vars_, False, palette, \"Spatial Error Model\", save = True, path = directory+\"/spatial_autocorr_model_tunisia1\", data_hat = y_italia_pred, train_test = True)\n",
    "\n",
    "res_params_dict = defaultdict(dict)\n",
    "for i, r in zip([\"beta\", \"a\", \"rho\"], res_params[:3]):\n",
    "    if type(r) == np.ndarray:\n",
    "        res_params_dict[i] = list(r)\n",
    "    else:\n",
    "        res_params_dict[i] = r\n",
    "    \n",
    "name = ['MI 3 selection','MI 5 selection', 'MI 7 selection', 'MI 10 selection', 'MI 15 selection', 'Manual selection']\n",
    "for i, r, n in zip(vars_, res_params[3], name):\n",
    "    for j, s in zip(i, r):\n",
    "        res_params_dict[n][j] = s\n",
    "        \n",
    "with open(directory+\"/spatial_autocorr_model_tunisia1_fitted_values_params.txt\", 'w') as outfile:\n",
    "    json.dump(res_params_dict, outfile)\n",
    "    \n",
    "res_pred.to_csv(directory+\"/spatial_autocorr_model_tunisia1_fitted_values.csv\", sep = \"\\t\")"
   ]
  },
  {
   "cell_type": "markdown",
   "metadata": {},
   "source": [
    "### Egypt"
   ]
  },
  {
   "cell_type": "code",
   "execution_count": 37,
   "metadata": {},
   "outputs": [],
   "source": [
    "vars_ = [[\"y_prev_2\", \"native population - Total\"], \n",
    " [\"y_prev_2\", \"native population - Total\", \"Pay money to an association\", \"Non food\"], \n",
    " [\"y_prev_2\", \"native population - Total\", \"Pay money to an association\", \"Non food\", \n",
    "  \"internal_migration - Foreign country\", \"Free activities in voluntary associations\"]]"
   ]
  },
  {
   "cell_type": "code",
   "execution_count": 38,
   "metadata": {
    "scrolled": true
   },
   "outputs": [
    {
     "name": "stdout",
     "output_type": "stream",
     "text": [
      "------------------------------- Egypt -------------------------------\n",
      "---------- Step I ----------\n",
      "Current time: 18:44:28\n",
      "Desired error not necessarily achieved due to precision loss.\n",
      "Current time: 18:55:17\n",
      "Computational time: 0:10:48.586782\n",
      "---------- Step II ----------\n",
      "---------- Validation ----------\n",
      "R-squared for Prediction step I: 0.997000.\n",
      "Adjusted R-squared for Prediction step I: 0.997000.\n",
      "R-squared for MI 3 selection: 0.997000.\n",
      "Adjusted R-squared for MI 3 selection: 0.997000.\n",
      "R-squared for MI 5 selection: 0.997000.\n",
      "Adjusted R-squared for MI 5 selection: 0.997000.\n",
      "R-squared for MI 7 selection: 0.979000.\n",
      "Adjusted R-squared for MI 7 selection: 0.976000.\n"
     ]
    },
    {
     "ename": "TypeError",
     "evalue": "unsupported operand type(s) for -: 'int' and 'str'",
     "output_type": "error",
     "traceback": [
      "\u001b[0;31m---------------------------------------------------------------------------\u001b[0m",
      "\u001b[0;31mTypeError\u001b[0m                                 Traceback (most recent call last)",
      "\u001b[0;32m<ipython-input-38-061af2448217>\u001b[0m in \u001b[0;36m<module>\u001b[0;34m()\u001b[0m\n\u001b[1;32m      1\u001b[0m \u001b[0mprint\u001b[0m\u001b[0;34m(\u001b[0m\u001b[0;34m\"-------------------------------\"\u001b[0m\u001b[0;34m,\u001b[0m \u001b[0;34m\"Egypt\"\u001b[0m\u001b[0;34m,\u001b[0m \u001b[0;34m\"-------------------------------\"\u001b[0m\u001b[0;34m)\u001b[0m\u001b[0;34m\u001b[0m\u001b[0m\n\u001b[0;32m----> 2\u001b[0;31m \u001b[0mres_pred\u001b[0m\u001b[0;34m,\u001b[0m \u001b[0mres_params\u001b[0m \u001b[0;34m=\u001b[0m \u001b[0msem\u001b[0m\u001b[0;34m.\u001b[0m\u001b[0mrun_model\u001b[0m\u001b[0;34m(\u001b[0m\u001b[0my\u001b[0m\u001b[0;34m,\u001b[0m \u001b[0;34m\"Egypt\"\u001b[0m\u001b[0;34m,\u001b[0m \u001b[0myears\u001b[0m\u001b[0;34m,\u001b[0m \u001b[0;34m\"Italia\"\u001b[0m\u001b[0;34m,\u001b[0m \u001b[0mxs_zones\u001b[0m\u001b[0;34m,\u001b[0m \u001b[0mtemp_W\u001b[0m\u001b[0;34m,\u001b[0m \u001b[0mtemp_W\u001b[0m\u001b[0;34m.\u001b[0m\u001b[0mcolumns\u001b[0m\u001b[0;34m.\u001b[0m\u001b[0mtolist\u001b[0m\u001b[0;34m(\u001b[0m\u001b[0;34m)\u001b[0m\u001b[0;34m,\u001b[0m \u001b[0mvars_\u001b[0m\u001b[0;34m,\u001b[0m \u001b[0;32mFalse\u001b[0m\u001b[0;34m,\u001b[0m \u001b[0mpalette\u001b[0m\u001b[0;34m,\u001b[0m \u001b[0;34m\"Spatial Error Model\"\u001b[0m\u001b[0;34m,\u001b[0m \u001b[0msave\u001b[0m \u001b[0;34m=\u001b[0m \u001b[0;32mTrue\u001b[0m\u001b[0;34m,\u001b[0m \u001b[0mpath\u001b[0m \u001b[0;34m=\u001b[0m \u001b[0mdirectory\u001b[0m\u001b[0;34m+\u001b[0m\u001b[0;34m\"/spatial_autocorr_model_egypt1\"\u001b[0m\u001b[0;34m,\u001b[0m \u001b[0mdata_hat\u001b[0m \u001b[0;34m=\u001b[0m \u001b[0my_italia_pred\u001b[0m\u001b[0;34m,\u001b[0m \u001b[0mtrain_test\u001b[0m \u001b[0;34m=\u001b[0m \u001b[0;32mTrue\u001b[0m\u001b[0;34m)\u001b[0m\u001b[0;34m\u001b[0m\u001b[0m\n\u001b[0m\u001b[1;32m      3\u001b[0m \u001b[0;34m\u001b[0m\u001b[0m\n\u001b[1;32m      4\u001b[0m \u001b[0mres_params_dict\u001b[0m \u001b[0;34m=\u001b[0m \u001b[0mdefaultdict\u001b[0m\u001b[0;34m(\u001b[0m\u001b[0mdict\u001b[0m\u001b[0;34m)\u001b[0m\u001b[0;34m\u001b[0m\u001b[0m\n\u001b[1;32m      5\u001b[0m \u001b[0;32mfor\u001b[0m \u001b[0mi\u001b[0m\u001b[0;34m,\u001b[0m \u001b[0mr\u001b[0m \u001b[0;32min\u001b[0m \u001b[0mzip\u001b[0m\u001b[0;34m(\u001b[0m\u001b[0;34m[\u001b[0m\u001b[0;34m\"beta\"\u001b[0m\u001b[0;34m,\u001b[0m \u001b[0;34m\"a\"\u001b[0m\u001b[0;34m,\u001b[0m \u001b[0;34m\"rho\"\u001b[0m\u001b[0;34m]\u001b[0m\u001b[0;34m,\u001b[0m \u001b[0mres_params\u001b[0m\u001b[0;34m[\u001b[0m\u001b[0;34m:\u001b[0m\u001b[0;36m3\u001b[0m\u001b[0;34m]\u001b[0m\u001b[0;34m)\u001b[0m\u001b[0;34m:\u001b[0m\u001b[0;34m\u001b[0m\u001b[0m\n",
      "\u001b[0;32m~/Documents/Immigration/Shared_models/spatial_error_model.py\u001b[0m in \u001b[0;36mrun_model\u001b[0;34m(data_init, country, times, I, x_, W, territories, var_selection, constant, palette, title, save, path, data_hat, train_test)\u001b[0m\n\u001b[1;32m    273\u001b[0m         \u001b[0;31m#else:\u001b[0m\u001b[0;34m\u001b[0m\u001b[0;34m\u001b[0m\u001b[0m\n\u001b[1;32m    274\u001b[0m         \u001b[0;31m#R2 = 1 - (sum(np.subtract(df[\"Immigrant Stock\"].values, df[c].values)**2) / sum((df[\"Immigrant Stock\"].values - np.mean(df[\"Immigrant Stock\"].values))**2))\u001b[0m\u001b[0;34m\u001b[0m\u001b[0;34m\u001b[0m\u001b[0m\n\u001b[0;32m--> 275\u001b[0;31m         \u001b[0mR2\u001b[0m \u001b[0;34m=\u001b[0m \u001b[0;36m1\u001b[0m \u001b[0;34m-\u001b[0m \u001b[0;34m(\u001b[0m\u001b[0msum\u001b[0m\u001b[0;34m(\u001b[0m\u001b[0mnp\u001b[0m\u001b[0;34m.\u001b[0m\u001b[0msubtract\u001b[0m\u001b[0;34m(\u001b[0m\u001b[0mdf\u001b[0m\u001b[0;34m[\u001b[0m\u001b[0;34m\"Immigrant Stock\"\u001b[0m\u001b[0;34m]\u001b[0m\u001b[0;34m.\u001b[0m\u001b[0mvalues\u001b[0m\u001b[0;34m,\u001b[0m \u001b[0mdf\u001b[0m\u001b[0;34m[\u001b[0m\u001b[0mc\u001b[0m\u001b[0;34m]\u001b[0m\u001b[0;34m.\u001b[0m\u001b[0mvalues\u001b[0m\u001b[0;34m)\u001b[0m\u001b[0;34m**\u001b[0m\u001b[0;36m2\u001b[0m\u001b[0;34m)\u001b[0m \u001b[0;34m/\u001b[0m \u001b[0msum\u001b[0m\u001b[0;34m(\u001b[0m\u001b[0;34m(\u001b[0m\u001b[0mdf\u001b[0m\u001b[0;34m[\u001b[0m\u001b[0;34m\"Immigrant Stock\"\u001b[0m\u001b[0;34m]\u001b[0m\u001b[0;34m.\u001b[0m\u001b[0mvalues\u001b[0m\u001b[0;34m)\u001b[0m\u001b[0;34m**\u001b[0m\u001b[0;36m2\u001b[0m\u001b[0;34m)\u001b[0m\u001b[0;34m)\u001b[0m\u001b[0;34m\u001b[0m\u001b[0m\n\u001b[0m\u001b[1;32m    276\u001b[0m         \u001b[0mprint\u001b[0m\u001b[0;34m(\u001b[0m\u001b[0;34m\"R-squared for %s: %f.\"\u001b[0m \u001b[0;34m%\u001b[0m\u001b[0;34m(\u001b[0m\u001b[0mc\u001b[0m\u001b[0;34m,\u001b[0m \u001b[0mround\u001b[0m\u001b[0;34m(\u001b[0m\u001b[0mR2\u001b[0m\u001b[0;34m,\u001b[0m\u001b[0;36m3\u001b[0m\u001b[0;34m)\u001b[0m\u001b[0;34m)\u001b[0m\u001b[0;34m)\u001b[0m\u001b[0;34m\u001b[0m\u001b[0m\n\u001b[1;32m    277\u001b[0m         \u001b[0;31m# k: number of independet vars\u001b[0m\u001b[0;34m\u001b[0m\u001b[0;34m\u001b[0m\u001b[0m\n",
      "\u001b[0;31mTypeError\u001b[0m: unsupported operand type(s) for -: 'int' and 'str'"
     ]
    }
   ],
   "source": [
    "print(\"-------------------------------\", \"Egypt\", \"-------------------------------\")\n",
    "res_pred, res_params = sem.run_model(y, \"Egypt\", years, \"Italia\", xs_zones, temp_W, temp_W.columns.tolist(), vars_, False, palette, \"Spatial Error Model\", save = True, path = directory+\"/spatial_autocorr_model_egypt1\", data_hat = y_italia_pred, train_test = True)\n",
    "\n",
    "res_params_dict = defaultdict(dict)\n",
    "for i, r in zip([\"beta\", \"a\", \"rho\"], res_params[:3]):\n",
    "    if type(r) == np.ndarray:\n",
    "        res_params_dict[i] = list(r)\n",
    "    else:\n",
    "        res_params_dict[i] = r\n",
    "    \n",
    "name = ['MI 3 selection','MI 5 selection', 'MI 7 selection']\n",
    "for i, r, n in zip(vars_, res_params[3], name):\n",
    "    for j, s in zip(i, r):\n",
    "        res_params_dict[n][j] = s\n",
    "        \n",
    "with open(directory+\"/spatial_autocorr_model_egypt1_fitted_values_params.txt\", 'w') as outfile:\n",
    "    json.dump(res_params_dict, outfile)\n",
    "    \n",
    "res_pred.to_csv(directory+\"/spatial_autocorr_model_egypt1_fitted_values.csv\", sep = \"\\t\")"
   ]
  },
  {
   "cell_type": "markdown",
   "metadata": {},
   "source": [
    "### Ecuador"
   ]
  },
  {
   "cell_type": "code",
   "execution_count": null,
   "metadata": {},
   "outputs": [],
   "source": [
    "vars_ = [[\"y_prev_2\", \"native population - Total\"], \n",
    " [\"y_prev_2\", \"native population - Total\", \"internal_migration - Foreign country\",\n",
    "  \"Pay money to an association\"],\n",
    " [\"y_prev_2\", \"native population - Total\", \"internal_migration - Foreign country\",\n",
    "  \"Pay money to an association\", \"reach_difficulty - Post offices\", \n",
    "  \"Free activities in voluntary associations\"],\n",
    " [\"y_prev_2\", \"native population - Total\", \"internal_migration - Foreign country\",\n",
    "  \"Pay money to an association\", \"reach_difficulty - Post offices\", \n",
    "  \"Free activities in voluntary associations\", \"internal_migration - Italy\", \n",
    "  \"Accommodation and catering services\", \n",
    "  \"Meetings in cultural, recreational or other associations\"],\n",
    " [\"y_prev_2\", \"native population - Total\", \"internal_migration - Foreign country\",\n",
    "  \"Pay money to an association\", \"reach_difficulty - Post offices\", \n",
    "  \"Free activities in voluntary associations\", \"internal_migration - Italy\", \n",
    "  \"Accommodation and catering services\", \n",
    "  \"Meetings in cultural, recreational or other associations\", \n",
    "  \"Other goods and services\", \"Non food\", \"reach_difficulty - Supermarket\", \n",
    "  \"Transport\", \"Disposable Income\"],\n",
    " [\"y_prev_2\", \"native population - Total\", \"Free activities in voluntary associations\", \n",
    "  \"Meetings in cultural, recreational or other associations\", \"Disposable Income\", \n",
    "  \"Average monthly expenditure for housing\", \"unemployment - Total\", \n",
    "  \"reach_difficulty - Emergency room\"]]"
   ]
  },
  {
   "cell_type": "code",
   "execution_count": null,
   "metadata": {},
   "outputs": [],
   "source": [
    "print(\"-------------------------------\", \"Ecuador\", \"-------------------------------\")\n",
    "res_pred, res_params = sem.run_model(y, \"Ecuador\", years, \"Italia\", xs_zones, temp_W, temp_W.columns.tolist(), vars_, False, palette, \"Spatial Error Model\", save = True, path = directory+\"/spatial_autocorr_model_ecuador1\", data_hat = y_italia_pred, train_test = True)\n",
    "\n",
    "res_params_dict = defaultdict(dict)\n",
    "for i, r in zip([\"beta\", \"a\", \"rho\"], res_params[:3]):\n",
    "    if type(r) == np.ndarray:\n",
    "        res_params_dict[i] = list(r)\n",
    "    else:\n",
    "        res_params_dict[i] = r\n",
    "    \n",
    "name = ['MI 3 selection','MI 5 selection', 'MI 7 selection', 'MI 10 selection', 'MI 15 selection', 'Manual selection']\n",
    "for i, r, n in zip(vars_, res_params[3], name):\n",
    "    for j, s in zip(i, r):\n",
    "        res_params_dict[n][j] = s\n",
    "        \n",
    "with open(directory+\"/spatial_autocorr_model_ecuador1_fitted_values_params.txt\", 'w') as outfile:\n",
    "    json.dump(res_params_dict, outfile)\n",
    "    \n",
    "res_pred.to_csv(directory+\"/spatial_autocorr_model_ecuador1_fitted_values.csv\", sep = \"\\t\")"
   ]
  },
  {
   "cell_type": "markdown",
   "metadata": {},
   "source": [
    "### Peru"
   ]
  },
  {
   "cell_type": "code",
   "execution_count": null,
   "metadata": {},
   "outputs": [],
   "source": [
    "vars_ = [[\"y_prev_2\", \"native population - Total\"], \n",
    " [\"y_prev_2\", \"native population - Total\", \"internal_migration - Foreign country\", \n",
    "  \"Free activities in voluntary associations\"], \n",
    " [\"y_prev_2\", \"native population - Total\", \"internal_migration - Foreign country\", \n",
    "  \"Free activities in voluntary associations\", \"Pay money to an association\", \n",
    "  \"Disposable Income\"], \n",
    " [\"y_prev_2\", \"native population - Total\", \"internal_migration - Foreign country\", \n",
    "  \"Free activities in voluntary associations\", \"Pay money to an association\", \n",
    "  \"Disposable Income\", \"internal_migration - Italy\", \"reach_difficulty - Post offices\",\n",
    "  \"Meetings in cultural, recreational or other associations\"], \n",
    " [\"y_prev_2\", \"native population - Total\", \"internal_migration - Foreign country\", \n",
    "  \"Free activities in voluntary associations\", \"Pay money to an association\", \n",
    "  \"Disposable Income\", \"internal_migration - Italy\", \"reach_difficulty - Post offices\",\n",
    "  \"Meetings in cultural, recreational or other associations\", \n",
    "  \"reach_difficulty - Supermarket\", \"Non food\", \"Born alive\", \n",
    "  \"political_info - Every day\", \"Free activities in non voluntary associations\"], \n",
    " [\"y_prev_2\", \"native population - Total\", \"Free activities in voluntary associations\",\n",
    "  \"Disposable Income\", \"Meetings in cultural, recreational or other associations\", \n",
    "  \"Average monthly expenditure for housing\", \"unemployment - Total\", \n",
    "  \"reach_difficulty - Emergency room\"]]"
   ]
  },
  {
   "cell_type": "code",
   "execution_count": null,
   "metadata": {},
   "outputs": [],
   "source": [
    "print(\"-------------------------------\", \"Peru\", \"-------------------------------\")\n",
    "res_pred, res_params = sem.run_model(y, \"Peru\", years, \"Italia\", xs_zones, temp_W, temp_W.columns.tolist(), vars_, False, palette, \"Spatial Error Model\", save = True, path = directory+\"/spatial_autocorr_model_peru1\", data_hat = y_italia_pred, train_test = True)\n",
    "\n",
    "res_params_dict = defaultdict(dict)\n",
    "for i, r in zip([\"beta\", \"a\", \"rho\"], res_params[:3]):\n",
    "    if type(r) == np.ndarray:\n",
    "        res_params_dict[i] = list(r)\n",
    "    else:\n",
    "        res_params_dict[i] = r\n",
    "    \n",
    "name = ['MI 3 selection','MI 5 selection', 'MI 7 selection', 'MI 10 selection', 'MI 15 selection', 'Manual selection']\n",
    "for i, r, n in zip(vars_, res_params[3], name):\n",
    "    for j, s in zip(i, r):\n",
    "        res_params_dict[n][j] = s\n",
    "        \n",
    "with open(directory+\"/spatial_autocorr_model_peru1_fitted_values_params.txt\", 'w') as outfile:\n",
    "    json.dump(res_params_dict, outfile)\n",
    "    \n",
    "res_pred.to_csv(directory+\"/spatial_autocorr_model_peru1_fitted_values.csv\", sep = \"\\t\")"
   ]
  },
  {
   "cell_type": "markdown",
   "metadata": {},
   "source": [
    "### China"
   ]
  },
  {
   "cell_type": "code",
   "execution_count": null,
   "metadata": {},
   "outputs": [],
   "source": [
    "vars_ = [[\"y_prev_2\", \"Born alive\"], \n",
    " [\"y_prev_2\", \"Born alive\", \"internal_migration - Foreign country\", \n",
    "  \"political_info - Some times in a week\"], \n",
    " [\"y_prev_2\", \"Born alive\", \"internal_migration - Foreign country\", \n",
    "  \"political_info - Some times in a week\"\"reach_difficulty - Pharmacy\", \n",
    "  \"Free activities in voluntary associations\"], \n",
    " [\"y_prev_2\", \"Born alive\", \"internal_migration - Foreign country\", \n",
    "  \"political_info - Some times in a week\"\"reach_difficulty - Pharmacy\", \n",
    "  \"Free activities in voluntary associations\", \"reach_difficulty - Post offices\", \n",
    "  \"political_info - Every day\", \n",
    "  \"Meetings in cultural, recreational or other associations\"], \n",
    " [\"y_prev_2\", \"Born alive\", \"internal_migration - Foreign country\", \n",
    "  \"political_info - Some times in a week\"\"reach_difficulty - Pharmacy\", \n",
    "  \"Free activities in voluntary associations\", \"reach_difficulty - Post offices\", \n",
    "  \"political_info - Every day\", \n",
    "  \"Meetings in cultural, recreational or other associations\", \n",
    "  \"native population - Total\", \"reach_difficulty - Emergency room\", \"Disposable Income\", \n",
    "  \"Pay money to an association\", \"Average age of fathers at birth\"], \n",
    " [\"y_prev_2\", \"Free activities in voluntary associations\", \n",
    "  \"Meetings in cultural, recreational or other associations\", \n",
    "  \"native population - Total\", \"reach_difficulty - Emergency room\", \n",
    "  \"Disposable Income\", \"Average monthly expenditure for housing\", \n",
    "  \"unemployment - Total\"]]"
   ]
  },
  {
   "cell_type": "code",
   "execution_count": null,
   "metadata": {},
   "outputs": [],
   "source": [
    "print(\"-------------------------------\", \"China\", \"-------------------------------\")\n",
    "res_pred, res_params = sem.run_model(y, \"China\", years, \"Italia\", xs_zones, temp_W, temp_W.columns.tolist(), vars_, False, palette, \"Spatial Error Model\", save = True, path = directory+\"/spatial_autocorr_model_china1\", data_hat = y_italia_pred, train_test = True)\n",
    "\n",
    "res_params_dict = defaultdict(dict)\n",
    "for i, r in zip([\"beta\", \"a\", \"rho\"], res_params[:3]):\n",
    "    if type(r) == np.ndarray:\n",
    "        res_params_dict[i] = list(r)\n",
    "    else:\n",
    "        res_params_dict[i] = r\n",
    "    \n",
    "name = ['MI 3 selection','MI 5 selection', 'MI 7 selection', 'MI 10 selection', 'MI 15 selection', 'Manual selection']\n",
    "for i, r, n in zip(vars_, res_params[3], name):\n",
    "    for j, s in zip(i, r):\n",
    "        res_params_dict[n][j] = s\n",
    "        \n",
    "with open(directory+\"/spatial_autocorr_model_china1_fitted_values_params.txt\", 'w') as outfile:\n",
    "    json.dump(res_params_dict, outfile)\n",
    "    \n",
    "res_pred.to_csv(directory+\"/spatial_autocorr_model_china1_fitted_values.csv\", sep = \"\\t\")"
   ]
  },
  {
   "cell_type": "markdown",
   "metadata": {},
   "source": [
    "### Philippines"
   ]
  },
  {
   "cell_type": "code",
   "execution_count": null,
   "metadata": {},
   "outputs": [],
   "source": [
    "vars_ = [[\"y_prev_2\", \"native population - Total\"], \n",
    " [\"y_prev_2\", \"native population - Total\", \"internal_migration - Foreign country\",\n",
    "  \"Other goods and services\"], \n",
    " [\"y_prev_2\", \"native population - Total\", \"internal_migration - Foreign country\",\n",
    "  \"Other goods and services\", \"Communications\", \"Non food\"], \n",
    " [\"y_prev_2\", \"native population - Total\", \"internal_migration - Foreign country\",\n",
    "  \"Other goods and services\", \"Communications\", \"Non food\", \n",
    "  \"Housing, water, electricity, gas and other fuels\", \n",
    "  \"Accommodation and catering services\", \"Free activities in voluntary associations\"], \n",
    " [\"y_prev_2\", \"Other goods and services\", \"internal_migration - Foreign country\", \n",
    "  \"native population - Total\", \"Communications\", \n",
    "  \"Non food\", \"Housing, water, electricity, gas and other fuels\", \"Accommodation and catering services\", \n",
    "  \"Free activities in voluntary associations\", \n",
    "  \"reach_difficulty - Post offices\" \"Born alive\", \"Pay money to an association\",\n",
    "  \"Average age of fathers at birth\", \"Food and non-alcoholic beverages\"], \n",
    " [\"y_prev_2\", \"native population - Total\", \"Free activities in voluntary associations\", \n",
    "  \"Meetings in cultural, recreational or other associations\", \"Disposable Income\", \n",
    "  \"Average monthly expenditure for housing\", \"unemployment - Total\", \n",
    "  \"reach_difficulty - Emergency room\"]]"
   ]
  },
  {
   "cell_type": "code",
   "execution_count": null,
   "metadata": {},
   "outputs": [],
   "source": [
    "print(\"-------------------------------\", \"Philippines\", \"-------------------------------\")\n",
    "res_pred, res_params = sem.run_model(y, \"Philippines\", years, \"Italia\", xs_zones, temp_W, temp_W.columns.tolist(), vars_, False, palette, \"Spatial Error Model\", save = True, path = directory+\"/spatial_autocorr_model_philippines1\", data_hat = y_italia_pred, train_test = True)\n",
    "\n",
    "res_params_dict = defaultdict(dict)\n",
    "for i, r in zip([\"beta\", \"a\", \"rho\"], res_params[:3]):\n",
    "    if type(r) == np.ndarray:\n",
    "        res_params_dict[i] = list(r)\n",
    "    else:\n",
    "        res_params_dict[i] = r\n",
    "    \n",
    "name = ['MI 3 selection','MI 5 selection', 'MI 7 selection', 'MI 10 selection', 'MI 15 selection', 'Manual selection']\n",
    "for i, r, n in zip(vars_, res_params[3], name):\n",
    "    for j, s in zip(i, r):\n",
    "        res_params_dict[n][j] = s\n",
    "        \n",
    "with open(directory+\"/spatial_autocorr_model_philippines1_fitted_values_params.txt\", 'w') as outfile:\n",
    "    json.dump(res_params_dict, outfile)\n",
    "    \n",
    "res_pred.to_csv(directory+\"/spatial_autocorr_model_philippines1_fitted_values.csv\", sep = \"\\t\")"
   ]
  }
 ],
 "metadata": {
  "kernelspec": {
   "display_name": "Python 3",
   "language": "python",
   "name": "python3"
  },
  "language_info": {
   "codemirror_mode": {
    "name": "ipython",
    "version": 3
   },
   "file_extension": ".py",
   "mimetype": "text/x-python",
   "name": "python",
   "nbconvert_exporter": "python",
   "pygments_lexer": "ipython3",
   "version": "3.6.4"
  }
 },
 "nbformat": 4,
 "nbformat_minor": 2
}
