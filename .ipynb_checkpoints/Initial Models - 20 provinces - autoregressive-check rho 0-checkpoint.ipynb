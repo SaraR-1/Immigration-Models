{
 "cells": [
  {
   "cell_type": "code",
   "execution_count": 1,
   "metadata": {},
   "outputs": [
    {
     "name": "stderr",
     "output_type": "stream",
     "text": [
      "/home/sara/myenv/lib64/python3.6/site-packages/statsmodels/compat/pandas.py:56: FutureWarning: The pandas.core.datetools module is deprecated and will be removed in a future version. Please use the pandas.tseries module instead.\n",
      "  from pandas.core import datetools\n"
     ]
    }
   ],
   "source": [
    "import pandas as pd\n",
    "import numpy as np\n",
    "import pycountry\n",
    "from scipy.optimize import least_squares\n",
    "import random\n",
    "import statsmodels\n",
    "from scipy.optimize import minimize\n",
    "from scipy.optimize import fsolve\n",
    "#from pandas.core import datetools\n",
    "import statsmodels.api as sm\n",
    "import datetime\n",
    "import seaborn as sns\n",
    "import matplotlib.pyplot as plt\n",
    "import matplotlib.lines as mlines\n",
    "from collections import defaultdict\n",
    "from math import pi, e\n",
    "import model_functions as mf"
   ]
  },
  {
   "cell_type": "code",
   "execution_count": 2,
   "metadata": {},
   "outputs": [],
   "source": [
    "resident_foreigners_norm = pd.read_table(\"/home/sara/Documents/Immigration/Shared_statistics/Data_final/resident_foreigners_norm.csv\")\n",
    "# Untill 2011 - in 2011 change\n",
    "years = list(range(2004, 2008))"
   ]
  },
  {
   "cell_type": "code",
   "execution_count": 3,
   "metadata": {},
   "outputs": [],
   "source": [
    "reg_cap_info = pd.read_table(\"/home/sara/Documents/Immigration/Data_not_git/Prov_info/reg_cap_info.csv\")\n",
    "regions_cap = sorted(reg_cap_info[\"Prov Capitals\"].values)"
   ]
  },
  {
   "cell_type": "code",
   "execution_count": 4,
   "metadata": {},
   "outputs": [],
   "source": [
    "regions = pd.read_table(\"/home/sara/Documents/Immigration/Shared_statistics/Data_final/regioni.csv\")\n",
    "regions_info = pd.read_table(\"/home/sara/Documents/Immigration/Shared_statistics/Data_final/region_info.csv\")\n",
    "\n",
    "mezzogiorno = {'Abruzzo': 1, 'Lazio': 0, 'Umbria': 0, 'Provincia Autonoma Trento': 0, \n",
    "               'Friuli-Venezia Giulia': 0, 'Molise': 1, 'Calabria': 1, \n",
    "               \"Valle d'Aosta / Vallée d'Aoste\": 0, 'Lombardia': 0, 'Liguria': 0, \n",
    "               'Emilia-Romagna': 0, 'Sicilia': 1, \n",
    "               'Provincia Autonoma Bolzano / Bozen': 0, 'Puglia': 1, 'Campania': 1, \n",
    "               'Piemonte': 0, 'Toscana': 0, 'Sardegna': 1, 'Marche': 0, \n",
    "               'Basilicata': 1, 'Veneto': 0}"
   ]
  },
  {
   "cell_type": "code",
   "execution_count": 5,
   "metadata": {},
   "outputs": [],
   "source": [
    "x_df = pd.DataFrame()\n",
    "x_df = reg_cap_info[[\"Prov Capitals\", \"Area\", \"Dens\"]].copy()\n",
    "# Logarithmic transformation\n",
    "x_df[\"Area\"] = np.log(x_df[\"Area\"])\n",
    "x_df[\"Dens\"] = np.log(x_df[\"Dens\"])\n",
    "x_df[\"Mezzogiorno\"] = [mezzogiorno[regions[regions[\"Provincia\"] == i][\"Regione\"].values[0]] for i in x_df[\"Prov Capitals\"].values]"
   ]
  },
  {
   "cell_type": "code",
   "execution_count": 6,
   "metadata": {},
   "outputs": [],
   "source": [
    "x_df = x_df.set_index([\"Prov Capitals\"])\n",
    "x_df = x_df.sort_index()"
   ]
  },
  {
   "cell_type": "code",
   "execution_count": 7,
   "metadata": {},
   "outputs": [
    {
     "data": {
      "text/html": [
       "<div>\n",
       "<style scoped>\n",
       "    .dataframe tbody tr th:only-of-type {\n",
       "        vertical-align: middle;\n",
       "    }\n",
       "\n",
       "    .dataframe tbody tr th {\n",
       "        vertical-align: top;\n",
       "    }\n",
       "\n",
       "    .dataframe thead th {\n",
       "        text-align: right;\n",
       "    }\n",
       "</style>\n",
       "<table border=\"1\" class=\"dataframe\">\n",
       "  <thead>\n",
       "    <tr style=\"text-align: right;\">\n",
       "      <th></th>\n",
       "      <th>Area</th>\n",
       "      <th>Dens</th>\n",
       "      <th>Mezzogiorno</th>\n",
       "    </tr>\n",
       "    <tr>\n",
       "      <th>Prov Capitals</th>\n",
       "      <th></th>\n",
       "      <th></th>\n",
       "      <th></th>\n",
       "    </tr>\n",
       "  </thead>\n",
       "  <tbody>\n",
       "    <tr>\n",
       "      <th>Ancona</th>\n",
       "      <td>7.582341</td>\n",
       "      <td>5.488938</td>\n",
       "      <td>0</td>\n",
       "    </tr>\n",
       "    <tr>\n",
       "      <th>Bari</th>\n",
       "      <td>8.259168</td>\n",
       "      <td>5.786897</td>\n",
       "      <td>1</td>\n",
       "    </tr>\n",
       "    <tr>\n",
       "      <th>Bologna</th>\n",
       "      <td>8.216715</td>\n",
       "      <td>5.609472</td>\n",
       "      <td>0</td>\n",
       "    </tr>\n",
       "    <tr>\n",
       "      <th>Bolzano / Bozen</th>\n",
       "      <td>8.909016</td>\n",
       "      <td>4.262680</td>\n",
       "      <td>0</td>\n",
       "    </tr>\n",
       "    <tr>\n",
       "      <th>Cagliari</th>\n",
       "      <td>7.129842</td>\n",
       "      <td>5.846439</td>\n",
       "      <td>1</td>\n",
       "    </tr>\n",
       "  </tbody>\n",
       "</table>\n",
       "</div>"
      ],
      "text/plain": [
       "                     Area      Dens  Mezzogiorno\n",
       "Prov Capitals                                   \n",
       "Ancona           7.582341  5.488938            0\n",
       "Bari             8.259168  5.786897            1\n",
       "Bologna          8.216715  5.609472            0\n",
       "Bolzano / Bozen  8.909016  4.262680            0\n",
       "Cagliari         7.129842  5.846439            1"
      ]
     },
     "execution_count": 7,
     "metadata": {},
     "output_type": "execute_result"
    }
   ],
   "source": [
    "x_df.head()"
   ]
  },
  {
   "cell_type": "code",
   "execution_count": 8,
   "metadata": {},
   "outputs": [],
   "source": [
    "data = resident_foreigners_norm.copy()\n",
    "data = data.groupby([\"Province\", \"Country\", \"Year\"], as_index=False).sum()"
   ]
  },
  {
   "cell_type": "code",
   "execution_count": 9,
   "metadata": {},
   "outputs": [
    {
     "data": {
      "text/html": [
       "<div>\n",
       "<style scoped>\n",
       "    .dataframe tbody tr th:only-of-type {\n",
       "        vertical-align: middle;\n",
       "    }\n",
       "\n",
       "    .dataframe tbody tr th {\n",
       "        vertical-align: top;\n",
       "    }\n",
       "\n",
       "    .dataframe thead th {\n",
       "        text-align: right;\n",
       "    }\n",
       "</style>\n",
       "<table border=\"1\" class=\"dataframe\">\n",
       "  <thead>\n",
       "    <tr style=\"text-align: right;\">\n",
       "      <th></th>\n",
       "      <th>Province</th>\n",
       "      <th>Country</th>\n",
       "      <th>Year</th>\n",
       "      <th>Value</th>\n",
       "    </tr>\n",
       "  </thead>\n",
       "  <tbody>\n",
       "    <tr>\n",
       "      <th>0</th>\n",
       "      <td>Agrigento</td>\n",
       "      <td>AFG</td>\n",
       "      <td>2008</td>\n",
       "      <td>2</td>\n",
       "    </tr>\n",
       "    <tr>\n",
       "      <th>1</th>\n",
       "      <td>Agrigento</td>\n",
       "      <td>AFG</td>\n",
       "      <td>2009</td>\n",
       "      <td>12</td>\n",
       "    </tr>\n",
       "    <tr>\n",
       "      <th>2</th>\n",
       "      <td>Agrigento</td>\n",
       "      <td>AFG</td>\n",
       "      <td>2010</td>\n",
       "      <td>51</td>\n",
       "    </tr>\n",
       "    <tr>\n",
       "      <th>3</th>\n",
       "      <td>Agrigento</td>\n",
       "      <td>AFG</td>\n",
       "      <td>2011</td>\n",
       "      <td>35</td>\n",
       "    </tr>\n",
       "    <tr>\n",
       "      <th>4</th>\n",
       "      <td>Agrigento</td>\n",
       "      <td>AFG</td>\n",
       "      <td>2012</td>\n",
       "      <td>21</td>\n",
       "    </tr>\n",
       "  </tbody>\n",
       "</table>\n",
       "</div>"
      ],
      "text/plain": [
       "    Province Country  Year  Value\n",
       "0  Agrigento     AFG  2008      2\n",
       "1  Agrigento     AFG  2009     12\n",
       "2  Agrigento     AFG  2010     51\n",
       "3  Agrigento     AFG  2011     35\n",
       "4  Agrigento     AFG  2012     21"
      ]
     },
     "execution_count": 9,
     "metadata": {},
     "output_type": "execute_result"
    }
   ],
   "source": [
    "data.head()"
   ]
  },
  {
   "cell_type": "code",
   "execution_count": 10,
   "metadata": {},
   "outputs": [],
   "source": [
    "# Distance matrix related to the interested locations (regions capitals)\n",
    "temp_W = pd.read_table(\"/home/sara/Documents/Immigration/Shared_models/Data/Distances_matrix.csv\", sep = \"\\t\", index_col=0).loc[regions_cap][regions_cap]"
   ]
  },
  {
   "cell_type": "code",
   "execution_count": 11,
   "metadata": {},
   "outputs": [
    {
     "data": {
      "text/html": [
       "<div>\n",
       "<style scoped>\n",
       "    .dataframe tbody tr th:only-of-type {\n",
       "        vertical-align: middle;\n",
       "    }\n",
       "\n",
       "    .dataframe tbody tr th {\n",
       "        vertical-align: top;\n",
       "    }\n",
       "\n",
       "    .dataframe thead th {\n",
       "        text-align: right;\n",
       "    }\n",
       "</style>\n",
       "<table border=\"1\" class=\"dataframe\">\n",
       "  <thead>\n",
       "    <tr style=\"text-align: right;\">\n",
       "      <th></th>\n",
       "      <th>Ancona</th>\n",
       "      <th>Bari</th>\n",
       "      <th>Bologna</th>\n",
       "      <th>Bolzano / Bozen</th>\n",
       "      <th>Cagliari</th>\n",
       "      <th>Campobasso</th>\n",
       "      <th>Catanzaro</th>\n",
       "      <th>Firenze</th>\n",
       "      <th>Genova</th>\n",
       "      <th>L'Aquila</th>\n",
       "      <th>...</th>\n",
       "      <th>Napoli</th>\n",
       "      <th>Palermo</th>\n",
       "      <th>Perugia</th>\n",
       "      <th>Potenza</th>\n",
       "      <th>Roma</th>\n",
       "      <th>Torino</th>\n",
       "      <th>Trento</th>\n",
       "      <th>Trieste</th>\n",
       "      <th>Valle d'Aosta / Vallée d'Aoste</th>\n",
       "      <th>Venezia</th>\n",
       "    </tr>\n",
       "  </thead>\n",
       "  <tbody>\n",
       "    <tr>\n",
       "      <th>Ancona</th>\n",
       "      <td>0.000000</td>\n",
       "      <td>4.565667e+05</td>\n",
       "      <td>208806.974375</td>\n",
       "      <td>491219.236875</td>\n",
       "      <td>883813.78</td>\n",
       "      <td>315759.780000</td>\n",
       "      <td>8.081049e+05</td>\n",
       "      <td>283839.193125</td>\n",
       "      <td>510585.102500</td>\n",
       "      <td>188242.691250</td>\n",
       "      <td>...</td>\n",
       "      <td>421730.727500</td>\n",
       "      <td>1127490.54</td>\n",
       "      <td>158696.153125</td>\n",
       "      <td>468024.759375</td>\n",
       "      <td>293445.163750</td>\n",
       "      <td>543947.876250</td>\n",
       "      <td>435101.805625</td>\n",
       "      <td>5.080633e+05</td>\n",
       "      <td>6.088738e+05</td>\n",
       "      <td>359845.529375</td>\n",
       "    </tr>\n",
       "    <tr>\n",
       "      <th>Bari</th>\n",
       "      <td>456566.656875</td>\n",
       "      <td>0.000000e+00</td>\n",
       "      <td>666943.408125</td>\n",
       "      <td>946900.403125</td>\n",
       "      <td>1021684.47</td>\n",
       "      <td>218546.333125</td>\n",
       "      <td>3.524077e+05</td>\n",
       "      <td>699768.263750</td>\n",
       "      <td>935855.238750</td>\n",
       "      <td>395213.814375</td>\n",
       "      <td>...</td>\n",
       "      <td>261858.605625</td>\n",
       "      <td>676613.03</td>\n",
       "      <td>582696.140000</td>\n",
       "      <td>126306.198125</td>\n",
       "      <td>443370.643125</td>\n",
       "      <td>999629.042500</td>\n",
       "      <td>890782.971875</td>\n",
       "      <td>9.637444e+05</td>\n",
       "      <td>1.064555e+06</td>\n",
       "      <td>815526.695625</td>\n",
       "    </tr>\n",
       "    <tr>\n",
       "      <th>Bologna</th>\n",
       "      <td>208806.974375</td>\n",
       "      <td>6.669434e+05</td>\n",
       "      <td>0.000000</td>\n",
       "      <td>280333.649375</td>\n",
       "      <td>757339.65</td>\n",
       "      <td>526318.750625</td>\n",
       "      <td>9.642384e+05</td>\n",
       "      <td>103590.788750</td>\n",
       "      <td>299460.946250</td>\n",
       "      <td>395539.392500</td>\n",
       "      <td>...</td>\n",
       "      <td>577677.384375</td>\n",
       "      <td>1287748.26</td>\n",
       "      <td>249085.630000</td>\n",
       "      <td>711786.074375</td>\n",
       "      <td>384796.012500</td>\n",
       "      <td>333062.288750</td>\n",
       "      <td>224216.213750</td>\n",
       "      <td>2.994882e+05</td>\n",
       "      <td>3.979882e+05</td>\n",
       "      <td>151434.352500</td>\n",
       "    </tr>\n",
       "    <tr>\n",
       "      <th>Bolzano / Bozen</th>\n",
       "      <td>491219.236875</td>\n",
       "      <td>9.469004e+05</td>\n",
       "      <td>280333.649375</td>\n",
       "      <td>0.000000</td>\n",
       "      <td>534728.97</td>\n",
       "      <td>805545.361875</td>\n",
       "      <td>1.226815e+06</td>\n",
       "      <td>366256.013125</td>\n",
       "      <td>406671.080625</td>\n",
       "      <td>674303.096250</td>\n",
       "      <td>...</td>\n",
       "      <td>840854.458125</td>\n",
       "      <td>572277.04</td>\n",
       "      <td>517731.550000</td>\n",
       "      <td>978712.155625</td>\n",
       "      <td>649277.632500</td>\n",
       "      <td>411475.818125</td>\n",
       "      <td>58634.423750</td>\n",
       "      <td>4.123151e+05</td>\n",
       "      <td>4.540391e+05</td>\n",
       "      <td>266567.426250</td>\n",
       "    </tr>\n",
       "    <tr>\n",
       "      <th>Cagliari</th>\n",
       "      <td>883813.780000</td>\n",
       "      <td>1.021684e+06</td>\n",
       "      <td>757339.650000</td>\n",
       "      <td>534728.970000</td>\n",
       "      <td>0.00</td>\n",
       "      <td>795154.570000</td>\n",
       "      <td>8.501003e+05</td>\n",
       "      <td>601428.050000</td>\n",
       "      <td>757850.370000</td>\n",
       "      <td>698982.040000</td>\n",
       "      <td>...</td>\n",
       "      <td>793606.820000</td>\n",
       "      <td>462767.15</td>\n",
       "      <td>462767.150000</td>\n",
       "      <td>930456.270000</td>\n",
       "      <td>579900.750000</td>\n",
       "      <td>920858.650000</td>\n",
       "      <td>361000.000000</td>\n",
       "      <td>1.054722e+06</td>\n",
       "      <td>3.610000e+05</td>\n",
       "      <td>361000.000000</td>\n",
       "    </tr>\n",
       "  </tbody>\n",
       "</table>\n",
       "<p>5 rows × 21 columns</p>\n",
       "</div>"
      ],
      "text/plain": [
       "                        Ancona          Bari        Bologna  Bolzano / Bozen  \\\n",
       "Ancona                0.000000  4.565667e+05  208806.974375    491219.236875   \n",
       "Bari             456566.656875  0.000000e+00  666943.408125    946900.403125   \n",
       "Bologna          208806.974375  6.669434e+05       0.000000    280333.649375   \n",
       "Bolzano / Bozen  491219.236875  9.469004e+05  280333.649375         0.000000   \n",
       "Cagliari         883813.780000  1.021684e+06  757339.650000    534728.970000   \n",
       "\n",
       "                   Cagliari     Campobasso     Catanzaro        Firenze  \\\n",
       "Ancona            883813.78  315759.780000  8.081049e+05  283839.193125   \n",
       "Bari             1021684.47  218546.333125  3.524077e+05  699768.263750   \n",
       "Bologna           757339.65  526318.750625  9.642384e+05  103590.788750   \n",
       "Bolzano / Bozen   534728.97  805545.361875  1.226815e+06  366256.013125   \n",
       "Cagliari               0.00  795154.570000  8.501003e+05  601428.050000   \n",
       "\n",
       "                        Genova       L'Aquila      ...               Napoli  \\\n",
       "Ancona           510585.102500  188242.691250      ...        421730.727500   \n",
       "Bari             935855.238750  395213.814375      ...        261858.605625   \n",
       "Bologna          299460.946250  395539.392500      ...        577677.384375   \n",
       "Bolzano / Bozen  406671.080625  674303.096250      ...        840854.458125   \n",
       "Cagliari         757850.370000  698982.040000      ...        793606.820000   \n",
       "\n",
       "                    Palermo        Perugia        Potenza           Roma  \\\n",
       "Ancona           1127490.54  158696.153125  468024.759375  293445.163750   \n",
       "Bari              676613.03  582696.140000  126306.198125  443370.643125   \n",
       "Bologna          1287748.26  249085.630000  711786.074375  384796.012500   \n",
       "Bolzano / Bozen   572277.04  517731.550000  978712.155625  649277.632500   \n",
       "Cagliari          462767.15  462767.150000  930456.270000  579900.750000   \n",
       "\n",
       "                        Torino         Trento       Trieste  \\\n",
       "Ancona           543947.876250  435101.805625  5.080633e+05   \n",
       "Bari             999629.042500  890782.971875  9.637444e+05   \n",
       "Bologna          333062.288750  224216.213750  2.994882e+05   \n",
       "Bolzano / Bozen  411475.818125   58634.423750  4.123151e+05   \n",
       "Cagliari         920858.650000  361000.000000  1.054722e+06   \n",
       "\n",
       "                 Valle d'Aosta / Vallée d'Aoste        Venezia  \n",
       "Ancona                             6.088738e+05  359845.529375  \n",
       "Bari                               1.064555e+06  815526.695625  \n",
       "Bologna                            3.979882e+05  151434.352500  \n",
       "Bolzano / Bozen                    4.540391e+05  266567.426250  \n",
       "Cagliari                           3.610000e+05  361000.000000  \n",
       "\n",
       "[5 rows x 21 columns]"
      ]
     },
     "execution_count": 11,
     "metadata": {},
     "output_type": "execute_result"
    }
   ],
   "source": [
    "temp_W.head()"
   ]
  },
  {
   "cell_type": "code",
   "execution_count": 12,
   "metadata": {},
   "outputs": [],
   "source": [
    "temp_W = (1/temp_W)**2\n",
    "# w_ij = 0 if i=j\n",
    "temp_W[temp_W == np.inf] = 0\n",
    "# row standardization: every row sum up to 1\n",
    "temp_W = temp_W.div(temp_W.sum(axis=1), axis=0)"
   ]
  },
  {
   "cell_type": "markdown",
   "metadata": {},
   "source": [
    "Given a spatial weights matrix W is a nonnegative matrix with $w_{ij} >= 0$ and $w_{ii} = 0$. W uses to be symmetric.\n",
    "\n",
    "The row-normalized W is used for ease of interpretation. It is defined as $\\sum_{j=1}^n w_{ij} = 1, \\forall i = 1, \\dots, n$. This ensure that all weights are between 0 and 1.\n",
    "\n",
    "Each rownormalized weight, $wij$, can be interpreted as the fraction of all spatial influence on unit $i$ attributable to unit $j$."
   ]
  },
  {
   "cell_type": "code",
   "execution_count": 13,
   "metadata": {},
   "outputs": [
    {
     "data": {
      "text/html": [
       "<div>\n",
       "<style scoped>\n",
       "    .dataframe tbody tr th:only-of-type {\n",
       "        vertical-align: middle;\n",
       "    }\n",
       "\n",
       "    .dataframe tbody tr th {\n",
       "        vertical-align: top;\n",
       "    }\n",
       "\n",
       "    .dataframe thead th {\n",
       "        text-align: right;\n",
       "    }\n",
       "</style>\n",
       "<table border=\"1\" class=\"dataframe\">\n",
       "  <thead>\n",
       "    <tr style=\"text-align: right;\">\n",
       "      <th></th>\n",
       "      <th>Ancona</th>\n",
       "      <th>Bari</th>\n",
       "      <th>Bologna</th>\n",
       "      <th>Bolzano / Bozen</th>\n",
       "      <th>Cagliari</th>\n",
       "      <th>Campobasso</th>\n",
       "      <th>Catanzaro</th>\n",
       "      <th>Firenze</th>\n",
       "      <th>Genova</th>\n",
       "      <th>L'Aquila</th>\n",
       "      <th>...</th>\n",
       "      <th>Napoli</th>\n",
       "      <th>Palermo</th>\n",
       "      <th>Perugia</th>\n",
       "      <th>Potenza</th>\n",
       "      <th>Roma</th>\n",
       "      <th>Torino</th>\n",
       "      <th>Trento</th>\n",
       "      <th>Trieste</th>\n",
       "      <th>Valle d'Aosta / Vallée d'Aoste</th>\n",
       "      <th>Venezia</th>\n",
       "    </tr>\n",
       "  </thead>\n",
       "  <tbody>\n",
       "    <tr>\n",
       "      <th>Ancona</th>\n",
       "      <td>0.000000</td>\n",
       "      <td>0.026668</td>\n",
       "      <td>0.127498</td>\n",
       "      <td>0.023038</td>\n",
       "      <td>0.007117</td>\n",
       "      <td>0.055755</td>\n",
       "      <td>0.008513</td>\n",
       "      <td>0.069000</td>\n",
       "      <td>0.021323</td>\n",
       "      <td>0.156877</td>\n",
       "      <td>...</td>\n",
       "      <td>0.031255</td>\n",
       "      <td>0.004373</td>\n",
       "      <td>0.220730</td>\n",
       "      <td>0.025378</td>\n",
       "      <td>0.064557</td>\n",
       "      <td>0.018788</td>\n",
       "      <td>0.029364</td>\n",
       "      <td>0.021536</td>\n",
       "      <td>0.014995</td>\n",
       "      <td>0.042930</td>\n",
       "    </tr>\n",
       "    <tr>\n",
       "      <th>Bari</th>\n",
       "      <td>0.033740</td>\n",
       "      <td>0.000000</td>\n",
       "      <td>0.015812</td>\n",
       "      <td>0.007844</td>\n",
       "      <td>0.006738</td>\n",
       "      <td>0.147254</td>\n",
       "      <td>0.056632</td>\n",
       "      <td>0.014363</td>\n",
       "      <td>0.008030</td>\n",
       "      <td>0.045029</td>\n",
       "      <td>...</td>\n",
       "      <td>0.102570</td>\n",
       "      <td>0.015363</td>\n",
       "      <td>0.020714</td>\n",
       "      <td>0.440863</td>\n",
       "      <td>0.035778</td>\n",
       "      <td>0.007038</td>\n",
       "      <td>0.008864</td>\n",
       "      <td>0.007572</td>\n",
       "      <td>0.006206</td>\n",
       "      <td>0.010575</td>\n",
       "    </tr>\n",
       "    <tr>\n",
       "      <th>Bologna</th>\n",
       "      <td>0.077774</td>\n",
       "      <td>0.007623</td>\n",
       "      <td>0.000000</td>\n",
       "      <td>0.043149</td>\n",
       "      <td>0.005912</td>\n",
       "      <td>0.012241</td>\n",
       "      <td>0.003647</td>\n",
       "      <td>0.315995</td>\n",
       "      <td>0.037813</td>\n",
       "      <td>0.021674</td>\n",
       "      <td>...</td>\n",
       "      <td>0.010161</td>\n",
       "      <td>0.002045</td>\n",
       "      <td>0.054654</td>\n",
       "      <td>0.006693</td>\n",
       "      <td>0.022901</td>\n",
       "      <td>0.030568</td>\n",
       "      <td>0.067451</td>\n",
       "      <td>0.037806</td>\n",
       "      <td>0.021408</td>\n",
       "      <td>0.147868</td>\n",
       "    </tr>\n",
       "    <tr>\n",
       "      <th>Bolzano / Bozen</th>\n",
       "      <td>0.010751</td>\n",
       "      <td>0.002893</td>\n",
       "      <td>0.033011</td>\n",
       "      <td>0.000000</td>\n",
       "      <td>0.009073</td>\n",
       "      <td>0.003998</td>\n",
       "      <td>0.001724</td>\n",
       "      <td>0.019339</td>\n",
       "      <td>0.015686</td>\n",
       "      <td>0.005705</td>\n",
       "      <td>...</td>\n",
       "      <td>0.003669</td>\n",
       "      <td>0.007921</td>\n",
       "      <td>0.009678</td>\n",
       "      <td>0.002708</td>\n",
       "      <td>0.006154</td>\n",
       "      <td>0.015322</td>\n",
       "      <td>0.754568</td>\n",
       "      <td>0.015260</td>\n",
       "      <td>0.012584</td>\n",
       "      <td>0.036508</td>\n",
       "    </tr>\n",
       "    <tr>\n",
       "      <th>Cagliari</th>\n",
       "      <td>0.021894</td>\n",
       "      <td>0.016383</td>\n",
       "      <td>0.029816</td>\n",
       "      <td>0.059809</td>\n",
       "      <td>0.000000</td>\n",
       "      <td>0.027048</td>\n",
       "      <td>0.023664</td>\n",
       "      <td>0.047279</td>\n",
       "      <td>0.029776</td>\n",
       "      <td>0.035003</td>\n",
       "      <td>...</td>\n",
       "      <td>0.027154</td>\n",
       "      <td>0.079857</td>\n",
       "      <td>0.079857</td>\n",
       "      <td>0.019754</td>\n",
       "      <td>0.050855</td>\n",
       "      <td>0.020167</td>\n",
       "      <td>0.131227</td>\n",
       "      <td>0.015373</td>\n",
       "      <td>0.131227</td>\n",
       "      <td>0.131227</td>\n",
       "    </tr>\n",
       "  </tbody>\n",
       "</table>\n",
       "<p>5 rows × 21 columns</p>\n",
       "</div>"
      ],
      "text/plain": [
       "                   Ancona      Bari   Bologna  Bolzano / Bozen  Cagliari  \\\n",
       "Ancona           0.000000  0.026668  0.127498         0.023038  0.007117   \n",
       "Bari             0.033740  0.000000  0.015812         0.007844  0.006738   \n",
       "Bologna          0.077774  0.007623  0.000000         0.043149  0.005912   \n",
       "Bolzano / Bozen  0.010751  0.002893  0.033011         0.000000  0.009073   \n",
       "Cagliari         0.021894  0.016383  0.029816         0.059809  0.000000   \n",
       "\n",
       "                 Campobasso  Catanzaro   Firenze    Genova  L'Aquila  \\\n",
       "Ancona             0.055755   0.008513  0.069000  0.021323  0.156877   \n",
       "Bari               0.147254   0.056632  0.014363  0.008030  0.045029   \n",
       "Bologna            0.012241   0.003647  0.315995  0.037813  0.021674   \n",
       "Bolzano / Bozen    0.003998   0.001724  0.019339  0.015686  0.005705   \n",
       "Cagliari           0.027048   0.023664  0.047279  0.029776  0.035003   \n",
       "\n",
       "                   ...       Napoli   Palermo   Perugia   Potenza      Roma  \\\n",
       "Ancona             ...     0.031255  0.004373  0.220730  0.025378  0.064557   \n",
       "Bari               ...     0.102570  0.015363  0.020714  0.440863  0.035778   \n",
       "Bologna            ...     0.010161  0.002045  0.054654  0.006693  0.022901   \n",
       "Bolzano / Bozen    ...     0.003669  0.007921  0.009678  0.002708  0.006154   \n",
       "Cagliari           ...     0.027154  0.079857  0.079857  0.019754  0.050855   \n",
       "\n",
       "                   Torino    Trento   Trieste  Valle d'Aosta / Vallée d'Aoste  \\\n",
       "Ancona           0.018788  0.029364  0.021536                        0.014995   \n",
       "Bari             0.007038  0.008864  0.007572                        0.006206   \n",
       "Bologna          0.030568  0.067451  0.037806                        0.021408   \n",
       "Bolzano / Bozen  0.015322  0.754568  0.015260                        0.012584   \n",
       "Cagliari         0.020167  0.131227  0.015373                        0.131227   \n",
       "\n",
       "                  Venezia  \n",
       "Ancona           0.042930  \n",
       "Bari             0.010575  \n",
       "Bologna          0.147868  \n",
       "Bolzano / Bozen  0.036508  \n",
       "Cagliari         0.131227  \n",
       "\n",
       "[5 rows x 21 columns]"
      ]
     },
     "execution_count": 13,
     "metadata": {},
     "output_type": "execute_result"
    }
   ],
   "source": [
    "temp_W.head()"
   ]
  },
  {
   "cell_type": "markdown",
   "metadata": {},
   "source": [
    "## Step I"
   ]
  },
  {
   "cell_type": "code",
   "execution_count": 14,
   "metadata": {},
   "outputs": [],
   "source": [
    "def stepI(param, data_, ro, W, times, ref_I, territories):\n",
    "    beta = param[0]\n",
    "    a = param[1:]\n",
    "    #ro = param[-1]\n",
    "    \n",
    "    T = len(times)\n",
    "    I = len(territories)\n",
    "    \n",
    "    identity_I = np.identity(I)\n",
    "    identity_I_1 = np.identity(I-1)\n",
    "    neg1 = np.negative(np.ones((I-1, 1)))\n",
    "    # Not-squared matrix\n",
    "    Q = np.append(identity_I_1, neg1, axis=1)\n",
    "    # All the I-1 locations (all but the reference one)\n",
    "    terr_not_ref = [i for i in territories if i != ref_I]\n",
    "    \n",
    "    # Modify W s.t. the \"ref_I\" location is the last one (so that Q is well defined)\n",
    "    W = W.reindex(index = terr_not_ref+[ref_I], columns = terr_not_ref+[ref_I])\n",
    "     \n",
    "    # Time-invariant quantity\n",
    "    L = Q.dot(np.linalg.inv(identity_I-ro*W)).dot(np.linalg.inv(identity_I-ro*W.T)).dot(Q.T)\n",
    "    \n",
    "    log_lik = T*np.log(np.linalg.det(L))\n",
    "    \n",
    "    for t in times[1:]:\n",
    "        y = data_.loc[(t, terr_not_ref), \"Value\"].values/data_.loc[t].loc[ref_I].values\n",
    "        x = data_.loc[(t-1, terr_not_ref), \"Value\"].values/data_.loc[t-1].loc[ref_I].values\n",
    "        #print(y.shape, x.shape, len(a))\n",
    "        main_term = np.log(y) - beta*np.log(x) - a\n",
    "        \n",
    "        log_lik += main_term.T.dot(np.linalg.inv(L)).dot(main_term)\n",
    "        \n",
    "    return(log_lik)"
   ]
  },
  {
   "cell_type": "markdown",
   "metadata": {},
   "source": [
    "## Step II"
   ]
  },
  {
   "cell_type": "code",
   "execution_count": 27,
   "metadata": {},
   "outputs": [],
   "source": [
    "def stepII(theta, a, x_, ref_I, territories):\n",
    "    # All the I-1 locations (all but the reference one)\n",
    "    terr_not_ref = [i for i in territories if i != ref_I]\n",
    "    \n",
    "    log_lik = 0\n",
    "    x_I = x_.loc[ref_I].values\n",
    "    \n",
    "    for i in terr_not_ref:\n",
    "        x_i = x_.loc[i].values\n",
    "        log_lik += (a[terr_not_ref.index(i)] - np.dot(np.subtract(x_i, x_I), theta))**2\n",
    "    return(log_lik)"
   ]
  },
  {
   "cell_type": "code",
   "execution_count": 16,
   "metadata": {},
   "outputs": [],
   "source": [
    "data_all = resident_foreigners_norm.copy()\n",
    "times = years\n",
    "territories = regions_cap\n",
    "country = \"Romania\"\n",
    "I = \"Roma\"\n",
    "x_ = x_df\n",
    "\n",
    "data_all = data_all[data_all[\"Year\"].isin(times)]\n",
    "missing_territories = mf.not_including(data_all, times, territories)\n",
    "territories = [i for i in territories if i not in missing_territories]\n",
    "data_all = data_all[data_all[\"Province\"].isin(territories)]\n",
    "\n",
    "# Also the stock in the refered province is needed in the optimization \n",
    "data_ = data_all[data_all[\"Country\"] == pycountry.countries.get(name=country).alpha_3]\n",
    "del data_[\"Country\"]\n",
    "\n",
    "data_ = pd.DataFrame(data_.groupby([\"Year\", \"Province\"])[\"Value\"].sum())"
   ]
  },
  {
   "cell_type": "code",
   "execution_count": 19,
   "metadata": {},
   "outputs": [
    {
     "name": "stdout",
     "output_type": "stream",
     "text": [
      "---------- Step I ----------\n",
      "Current time: 18:52:54\n"
     ]
    }
   ],
   "source": [
    "print(\"---------- Step I ----------\")\n",
    "initial_time = datetime.datetime.now()\n",
    "print (\"Current time: \" + str(initial_time.strftime('%H:%M:%S') ))\n",
    "\n",
    "# I-1 locations + beta + ro\n",
    "random.seed(123)\n",
    "param_init =[0.059165646896219615, 0.5117750037220505, 0.3894745449355168, 0.33585763895485277, 0.1861533230382797, 0.9640827562278731, 0.7327112443926569, 0.14044741209207268, 0.55913978714393, 0.593968695423353, 0.110071629495617, 0.1065270739310652, 0.47817333056998934, 0.13465666736125226, 0.17306575428777682, 0.8506292381201283, 0.917275169255516, 0.37225569217205323, 0.5600211639370754, 0.08787862842784666, 0.1894410516536167]\n",
    "#param_init = np.random.rand(len(territories))"
   ]
  },
  {
   "cell_type": "code",
   "execution_count": 20,
   "metadata": {},
   "outputs": [
    {
     "name": "stdout",
     "output_type": "stream",
     "text": [
      "Optimization terminated successfully.\n",
      "Current time: 18:57:27\n",
      "Computational time: 0:04:32.939401\n"
     ]
    }
   ],
   "source": [
    "res_stepI =  minimize(stepI, param_init, args = (data_, 0, temp_W, times, I, territories), method='CG')\n",
    "print(res_stepI.message)\n",
    "\n",
    "final_time = datetime.datetime.now() \n",
    "print (\"Current time: \" + str(final_time.strftime('%H:%M:%S')))\n",
    "print(\"Computational time: \" + str((final_time - initial_time)))"
   ]
  },
  {
   "cell_type": "code",
   "execution_count": 24,
   "metadata": {},
   "outputs": [
    {
     "name": "stdout",
     "output_type": "stream",
     "text": [
      "0.6831909107737834\n"
     ]
    }
   ],
   "source": [
    "# Step I results \n",
    "beta_hat = res_stepI.x[0]\n",
    "a_hat = res_stepI.x[1:]\n",
    "#rho_hat = res_stepI.x[-1]\n",
    "print(beta_hat)"
   ]
  },
  {
   "cell_type": "code",
   "execution_count": 25,
   "metadata": {
    "scrolled": true
   },
   "outputs": [
    {
     "name": "stdout",
     "output_type": "stream",
     "text": [
      "---------- Step II ----------\n",
      "Current time: 18:59:35\n",
      "[0.5557698628049945, 0.8317688893435804, 0.8185275255574995]\n"
     ]
    }
   ],
   "source": [
    "print(\"---------- Step II ----------\")\n",
    "    \n",
    "initial_time = datetime.datetime.now()\n",
    "print (\"Current time: \" + str(initial_time.strftime('%H:%M:%S') ))\n",
    "\n",
    "random.seed(123)\n",
    "param_init = [0.5557698628049945, 0.8317688893435804, 0.8185275255574995]\n",
    "#param_init = np.random.uniform(0, 1, len(x_df.columns)-1)\n",
    "print(param_init)"
   ]
  },
  {
   "cell_type": "code",
   "execution_count": 28,
   "metadata": {},
   "outputs": [
    {
     "name": "stdout",
     "output_type": "stream",
     "text": [
      "Optimization terminated successfully.\n",
      "Current time: 19:01:00\n",
      "Computational time: 0:01:25.095713\n"
     ]
    }
   ],
   "source": [
    "res_stepII =  minimize(stepII, param_init, args = (a_hat, x_, I, territories), method='CG')\n",
    "#print(model_I([b, a], data_rou), b, a)\n",
    "#print(res_stepII.x)\n",
    "print(res_stepII.message)\n",
    "#print(res_stepII.fun)\n",
    "final_time = datetime.datetime.now() \n",
    "print (\"Current time: \" + str(final_time.strftime('%H:%M:%S')))\n",
    "print(\"Computational time: \" + str((final_time - initial_time)))"
   ]
  },
  {
   "cell_type": "code",
   "execution_count": 29,
   "metadata": {},
   "outputs": [
    {
     "name": "stdout",
     "output_type": "stream",
     "text": [
      "[ 0.57428106  0.38558567 -0.66828139]\n"
     ]
    }
   ],
   "source": [
    "theta_hat = res_stepII.x\n",
    "print(theta_hat)"
   ]
  },
  {
   "cell_type": "code",
   "execution_count": null,
   "metadata": {},
   "outputs": [],
   "source": []
  },
  {
   "cell_type": "code",
   "execution_count": 37,
   "metadata": {},
   "outputs": [],
   "source": [
    "data_all = resident_foreigners_norm.copy()\n",
    "times = years\n",
    "territories = regions_cap\n",
    "country = \"Philippines\"\n",
    "I = \"Roma\"\n",
    "x_ = x_df\n",
    "\n",
    "data_all = data_all[data_all[\"Year\"].isin(times)]\n",
    "missing_territories = mf.not_including(data_all, times, territories)\n",
    "territories = [i for i in territories if i not in missing_territories]\n",
    "data_all = data_all[data_all[\"Province\"].isin(territories)]\n",
    "\n",
    "# Also the stock in the refered province is needed in the optimization \n",
    "data_ = data_all[data_all[\"Country\"] == pycountry.countries.get(name=country).alpha_3]\n",
    "del data_[\"Country\"]\n",
    "\n",
    "data_ = pd.DataFrame(data_.groupby([\"Year\", \"Province\"])[\"Value\"].sum())"
   ]
  },
  {
   "cell_type": "code",
   "execution_count": 38,
   "metadata": {},
   "outputs": [
    {
     "name": "stdout",
     "output_type": "stream",
     "text": [
      "---------- Step I ----------\n",
      "Current time: 19:57:14\n",
      "Optimization terminated successfully.\n",
      "Current time: 19:58:01\n",
      "Computational time: 0:00:47.107379\n"
     ]
    }
   ],
   "source": [
    "print(\"---------- Step I ----------\")\n",
    "initial_time = datetime.datetime.now()\n",
    "print (\"Current time: \" + str(initial_time.strftime('%H:%M:%S') ))\n",
    "\n",
    "# I-1 locations + beta + ro\n",
    "random.seed(123)\n",
    "param_init = [0.8536184920808436, 0.4166109266111355, 0.2670694274198676, 0.5153780825903654, 0.38819725448053466, 0.8490960815647649, 0.9950308492344068, 0.6219854090813752, 0.28223280709808274, 0.8064045424212823, 0.09882881461663262, 0.4320892554062463, 0.29550935439459736, 0.46907474332125243, 0.24088946323755722, 0.9300053428142098, 0.9713550272905841, 0.4969067947331254, 0.305545378708593, 0.4917669400033936, 0.8452143437751879]\n",
    "#param_init = np.random.rand(len(territories)+1)\n",
    "res_stepI =  minimize(stepI, param_init, args = (data_, 0, temp_W, times, I, territories), method='CG')\n",
    "print(res_stepI.message)\n",
    "\n",
    "final_time = datetime.datetime.now() \n",
    "print (\"Current time: \" + str(final_time.strftime('%H:%M:%S')))\n",
    "print(\"Computational time: \" + str((final_time - initial_time)))\n",
    "    "
   ]
  },
  {
   "cell_type": "code",
   "execution_count": 39,
   "metadata": {},
   "outputs": [
    {
     "name": "stdout",
     "output_type": "stream",
     "text": [
      "-0.1391860053153833\n"
     ]
    }
   ],
   "source": [
    "# Step I results \n",
    "beta_hat = res_stepI.x[0]\n",
    "a_hat = res_stepI.x[1:]\n",
    "#rho_hat = res_stepI.x[-1]\n",
    "print(beta_hat)"
   ]
  },
  {
   "cell_type": "code",
   "execution_count": 40,
   "metadata": {},
   "outputs": [
    {
     "name": "stdout",
     "output_type": "stream",
     "text": [
      "---------- Step II ----------\n",
      "Current time: 19:58:17\n",
      "[0.2054045690086681, 0.3240012630422362, 0.05059928790448842]\n"
     ]
    }
   ],
   "source": [
    "print(\"---------- Step II ----------\")\n",
    "    \n",
    "initial_time = datetime.datetime.now()\n",
    "print (\"Current time: \" + str(initial_time.strftime('%H:%M:%S') ))\n",
    "\n",
    "random.seed(123)\n",
    "param_init = [0.2054045690086681, 0.3240012630422362, 0.05059928790448842]\n",
    "#param_init = np.random.uniform(0, 1, len(x_df.columns)-1)\n",
    "print(param_init)"
   ]
  },
  {
   "cell_type": "code",
   "execution_count": 41,
   "metadata": {},
   "outputs": [
    {
     "name": "stdout",
     "output_type": "stream",
     "text": [
      "Optimization terminated successfully.\n",
      "Current time: 19:58:29\n",
      "Computational time: 0:00:11.473230\n"
     ]
    }
   ],
   "source": [
    "res_stepII =  minimize(stepII, param_init, args = (a_hat, x_, I, territories), method='CG')\n",
    "#print(model_I([b, a], data_rou), b, a)\n",
    "#print(res_stepII.x)\n",
    "print(res_stepII.message)\n",
    "#print(res_stepII.fun)\n",
    "final_time = datetime.datetime.now() \n",
    "print (\"Current time: \" + str(final_time.strftime('%H:%M:%S')))\n",
    "print(\"Computational time: \" + str((final_time - initial_time)))"
   ]
  },
  {
   "cell_type": "code",
   "execution_count": 42,
   "metadata": {},
   "outputs": [
    {
     "name": "stdout",
     "output_type": "stream",
     "text": [
      "[ 2.00906338  2.3110261  -1.14485169]\n"
     ]
    }
   ],
   "source": [
    "theta_hat = res_stepII.x\n",
    "print(theta_hat)"
   ]
  },
  {
   "cell_type": "markdown",
   "metadata": {},
   "source": [
    "# Run the different models for the different origin country"
   ]
  },
  {
   "cell_type": "code",
   "execution_count": 34,
   "metadata": {},
   "outputs": [],
   "source": [
    "def run_model(data_all, country, times, I, x_, territories = None):\n",
    "    if not territories:\n",
    "        territories = list(set(data_all[\"Province\"]))\n",
    "        \n",
    "    #territories = list(set(data_all[\"Province\"]))\n",
    "\n",
    "    data_all = data_all[data_all[\"Year\"].isin(times)]\n",
    "    missing_territories = not_including(data_all, times, territories)\n",
    "    territories = [i for i in territories if i not in missing_territories]\n",
    "    data_all = data_all[data_all[\"Province\"].isin(territories)]\n",
    "\n",
    "    # Also the stock in the refered province is needed in the optimization \n",
    "    data_ = data_all[data_all[\"Country\"] == pycountry.countries.get(name=country).alpha_3]\n",
    "    del data_[\"Country\"]\n",
    "\n",
    "    # Do not include the refered province in the optimization \n",
    "    territories = [p for p in territories if p != I]\n",
    "    # Handle missing values\n",
    "    #data_ = missing_values(data_, times, territories)\n",
    "\n",
    "    print(\"---------- Step I ----------\")\n",
    "    initial_time = datetime.datetime.now()\n",
    "    print (\"Current time: \" + str(initial_time.strftime('%H:%M:%S') ))\n",
    "\n",
    "    #param_init = np.random.uniform(0, 1, len(territories)+1)\n",
    "    param_init = [0 for i in range(len(territories)+1)]\n",
    "    res_stepI =  minimize(stepI, param_init, args = (data_, times, I, territories), method='CG')\n",
    "    print(res_stepI.message)\n",
    "    \n",
    "    final_time = datetime.datetime.now() \n",
    "    print (\"Current time: \" + str(final_time.strftime('%H:%M:%S')))\n",
    "    print(\"Computational time: \" + str((final_time - initial_time)))\n",
    "    \n",
    "    # Step I results and validation\n",
    "    beta_hat = res_stepI.x[0]\n",
    "    a_hat = res_stepI.x[1:]\n",
    "    y_hat = []\n",
    "    y = []\n",
    "    for i in territories:\n",
    "        time_invariant = a_hat[territories.index(i)]\n",
    "        for t in times[1:]:\n",
    "            y.append(np.log(n_it(data_, i, t)/n_it(data_, I, t)))\n",
    "            y_hat.append(beta_hat*(np.log(n_it(data_, i, t-1)/n_it(data_, I, t-1))) + time_invariant)\n",
    "            \n",
    "    y_mean = np.mean(y)\n",
    "\n",
    "    R2 = 1 - sum(np.subtract(y, y_hat)**2) / sum((y - y_mean)**2)\n",
    "    # Equivalently: 1 - (res_stepI.fun / sum((y - y_mean)**2))\n",
    "    #print(R2)\n",
    "    print(\"The R2 score from the step I is: %f\" %R2)\n",
    "    \n",
    "    print(\"---------- Step II ----------\")\n",
    "    \n",
    "    initial_time = datetime.datetime.now()\n",
    "    print (\"Current time: \" + str(initial_time.strftime('%H:%M:%S') ))\n",
    "\n",
    "    param_init = [0 for i in range(len(x_.columns)-1)]\n",
    "    #param_init = np.random.uniform(0, 1, len(x_df.columns)-1)\n",
    "    res_stepII =  minimize(stepII, param_init, args = (a_hat, x_, I, territories), method='CG')\n",
    "    #print(model_I([b, a], data_rou), b, a)\n",
    "    #print(res_stepII.x)\n",
    "    print(res_stepII.message)\n",
    "    #print(res_stepII.fun)\n",
    "    final_time = datetime.datetime.now() \n",
    "    print (\"Current time: \" + str(final_time.strftime('%H:%M:%S')))\n",
    "    print(\"Computational time: \" + str((final_time - initial_time)))\n",
    "    \n",
    "    # Step II results and validation\n",
    "    theta_hat = res_stepII.x\n",
    "    x_I = x_[x_[\"Prov Capitals\"] == I][[\"Area\", \"Dens\", \"Mezzogiorno\"]].values\n",
    "    y_hat = []\n",
    "    #y = []\n",
    "    for i in territories:\n",
    "        x_i = x_[x_[\"Prov Capitals\"] == i][[\"Area\", \"Dens\", \"Mezzogiorno\"]].values\n",
    "        time_invariant = np.dot(np.subtract(x_i, x_I), theta_hat)\n",
    "        for t in times[1:]:\n",
    "            #y.append(np.log(n_it(data_, i, t)/n_it(data_, I, t)))\n",
    "            y_hat.append((beta_hat*(np.log(n_it(data_, i, t-1)/n_it(data_, I, t-1))) + time_invariant)[0])\n",
    "            \n",
    "    #y_mean = np.mean(y)\n",
    "    R2 = 1 - sum(np.subtract(y, y_hat)**2) / sum((y - y_mean)**2)\n",
    "    #print(R2)\n",
    "    print(\"The final R2 score is: %f\" %R2)\n",
    "    \n",
    "    n = len(y)\n",
    "    k = len(x_.columns)-1\n",
    "    R2_adj = 1 - (1 - R2)*((n - 1)/(n - k -1))\n",
    "    print(\"The final Adjusted R2 score is: %f\" %R2_adj)\n",
    "    \n",
    "    return(beta_hat, a_hat, theta_hat)"
   ]
  },
  {
   "cell_type": "code",
   "execution_count": 35,
   "metadata": {},
   "outputs": [
    {
     "name": "stdout",
     "output_type": "stream",
     "text": [
      "---------- Step I ----------\n",
      "Current time: 12:23:58\n",
      "Optimization terminated successfully.\n",
      "Current time: 12:30:26\n",
      "Computational time: 0:06:28.211165\n",
      "The R2 score from the step I is: 0.998170\n",
      "---------- Step II ----------\n",
      "Current time: 12:30:27\n",
      "Optimization terminated successfully.\n",
      "Current time: 12:30:27\n",
      "Computational time: 0:00:00.856256\n",
      "The final R2 score is: 0.939099\n",
      "The final Adjusted R2 score is: 0.935652\n"
     ]
    }
   ],
   "source": [
    "res_rou = run_model(data, \"Romania\", list(range(2004, 2008)), \"Roma\", x_df, province_capitals)"
   ]
  },
  {
   "cell_type": "code",
   "execution_count": 39,
   "metadata": {},
   "outputs": [
    {
     "name": "stdout",
     "output_type": "stream",
     "text": [
      "Beta parameter: 0.501037\n",
      "[-1.55331351 -2.29499766 -1.70195229 -2.29362672 -1.23865002 -2.88924935\n",
      " -2.48635617 -2.73574985 -1.09472628 -1.8283857  -0.55687868 -2.23760183\n",
      " -2.55967187 -1.23072563 -2.49997589 -0.18148499 -1.39697481 -2.45963957\n",
      " -1.23271326]\n",
      "Theta parameter: 0.907874756097 0.544429955325 -1.14652506679\n"
     ]
    }
   ],
   "source": [
    "print(\"Beta parameter: %f\" %res_rou[0])\n",
    "print(res_rou[1])\n",
    "print(\"Theta parameter: %s %s %s\" %tuple(res_rou[2]))"
   ]
  },
  {
   "cell_type": "code",
   "execution_count": null,
   "metadata": {},
   "outputs": [],
   "source": []
  }
 ],
 "metadata": {
  "kernelspec": {
   "display_name": "Python 3",
   "language": "python",
   "name": "python3"
  },
  "language_info": {
   "codemirror_mode": {
    "name": "ipython",
    "version": 3
   },
   "file_extension": ".py",
   "mimetype": "text/x-python",
   "name": "python",
   "nbconvert_exporter": "python",
   "pygments_lexer": "ipython3",
   "version": "3.6.4"
  }
 },
 "nbformat": 4,
 "nbformat_minor": 2
}
