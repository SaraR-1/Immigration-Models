{
 "cells": [
  {
   "cell_type": "code",
   "execution_count": 5,
   "metadata": {},
   "outputs": [],
   "source": [
    "import sys\n",
    "import warnings\n",
    "\n",
    "if not sys.warnoptions:\n",
    "    warnings.simplefilter(\"ignore\")\n",
    "    \n",
    "import pandas as pd\n",
    "import numpy as np\n",
    "import pycountry\n",
    "from scipy.optimize import least_squares\n",
    "import random\n",
    "import statsmodels\n",
    "from scipy.optimize import minimize\n",
    "from scipy.optimize import fsolve\n",
    "#from pandas.core import datetools\n",
    "import statsmodels.api as sm\n",
    "import datetime\n",
    "import seaborn as sns\n",
    "import matplotlib.pyplot as plt\n",
    "import matplotlib.lines as mlines\n",
    "from collections import defaultdict\n",
    "from math import pi, e\n",
    "import model_functions as mf\n",
    "import build_data_functions as bdf\n",
    "import plot_model_functions as pmf\n",
    "import matplotlib.pyplot as plt"
   ]
  },
  {
   "cell_type": "code",
   "execution_count": 6,
   "metadata": {},
   "outputs": [],
   "source": [
    "years = list(range(2005, 2017))"
   ]
  },
  {
   "cell_type": "code",
   "execution_count": 7,
   "metadata": {},
   "outputs": [],
   "source": [
    "y = pd.read_table(\"/home/sara/Documents/Immigration/Shared_models/Data/resident_foreigners_norm.csv\", sep = \"\\t\", index_col=0)\n",
    "y = y.groupby([\"Province\", \"Country\", \"Year\"], as_index=False)[\"Value\"].sum()\n",
    "y = bdf.pivot(y, \"Country\", \"Value\")"
   ]
  },
  {
   "cell_type": "markdown",
   "metadata": {},
   "source": [
    "## Zone level"
   ]
  },
  {
   "cell_type": "code",
   "execution_count": 71,
   "metadata": {},
   "outputs": [],
   "source": [
    "xs = pd.read_table(\"/home/sara/Documents/Immigration/Shared_models/Data/x_zones.csv\", sep = \"\\t\", index_col=[\"Province\", \"Year\"])\n",
    "\n",
    "zones_data = pd.read_table(\"/home/sara/Documents/Immigration/Shared_statistics/Data_final/territori.csv\")\n",
    "zones_data = zones_data.replace(['Provincia Autonoma Bolzano / Bozen', 'Provincia Autonoma Trento'], ['Bolzano / Bozen', 'Trento'])"
   ]
  },
  {
   "cell_type": "code",
   "execution_count": 41,
   "metadata": {},
   "outputs": [],
   "source": [
    "#terr = list(set(zones_data.Zona))"
   ]
  },
  {
   "cell_type": "code",
   "execution_count": 126,
   "metadata": {},
   "outputs": [],
   "source": [
    "# Distance matrix related to the interested locations (regions capitals)\n",
    "temp_W = pd.read_table(\"/home/sara/Documents/Immigration/Shared_models/Data/Zones_distances_matrix_mean.csv\", sep = \"\\t\", index_col=0)"
   ]
  },
  {
   "cell_type": "code",
   "execution_count": 127,
   "metadata": {},
   "outputs": [
    {
     "data": {
      "text/html": [
       "<div>\n",
       "<style scoped>\n",
       "    .dataframe tbody tr th:only-of-type {\n",
       "        vertical-align: middle;\n",
       "    }\n",
       "\n",
       "    .dataframe tbody tr th {\n",
       "        vertical-align: top;\n",
       "    }\n",
       "\n",
       "    .dataframe thead th {\n",
       "        text-align: right;\n",
       "    }\n",
       "</style>\n",
       "<table border=\"1\" class=\"dataframe\">\n",
       "  <thead>\n",
       "    <tr style=\"text-align: right;\">\n",
       "      <th></th>\n",
       "      <th>Centro</th>\n",
       "      <th>Isole</th>\n",
       "      <th>Nord-est</th>\n",
       "      <th>Nord-ovest</th>\n",
       "      <th>Sud</th>\n",
       "    </tr>\n",
       "  </thead>\n",
       "  <tbody>\n",
       "    <tr>\n",
       "      <th>Centro</th>\n",
       "      <td>0.000000</td>\n",
       "      <td>722899.184542</td>\n",
       "      <td>454026.585438</td>\n",
       "      <td>517383.500724</td>\n",
       "      <td>463645.585679</td>\n",
       "    </tr>\n",
       "    <tr>\n",
       "      <th>Isole</th>\n",
       "      <td>722899.184542</td>\n",
       "      <td>0.000000</td>\n",
       "      <td>785789.965069</td>\n",
       "      <td>956897.591406</td>\n",
       "      <td>729986.205378</td>\n",
       "    </tr>\n",
       "    <tr>\n",
       "      <th>Nord-est</th>\n",
       "      <td>454026.585438</td>\n",
       "      <td>785789.965069</td>\n",
       "      <td>0.000000</td>\n",
       "      <td>371960.371519</td>\n",
       "      <td>823860.587237</td>\n",
       "    </tr>\n",
       "    <tr>\n",
       "      <th>Nord-ovest</th>\n",
       "      <td>517383.500724</td>\n",
       "      <td>956897.591406</td>\n",
       "      <td>371960.371519</td>\n",
       "      <td>0.000000</td>\n",
       "      <td>913786.897237</td>\n",
       "    </tr>\n",
       "    <tr>\n",
       "      <th>Sud</th>\n",
       "      <td>463645.585679</td>\n",
       "      <td>729986.205378</td>\n",
       "      <td>823860.587237</td>\n",
       "      <td>913786.897237</td>\n",
       "      <td>0.000000</td>\n",
       "    </tr>\n",
       "  </tbody>\n",
       "</table>\n",
       "</div>"
      ],
      "text/plain": [
       "                   Centro          Isole       Nord-est     Nord-ovest  \\\n",
       "Centro           0.000000  722899.184542  454026.585438  517383.500724   \n",
       "Isole       722899.184542       0.000000  785789.965069  956897.591406   \n",
       "Nord-est    454026.585438  785789.965069       0.000000  371960.371519   \n",
       "Nord-ovest  517383.500724  956897.591406  371960.371519       0.000000   \n",
       "Sud         463645.585679  729986.205378  823860.587237  913786.897237   \n",
       "\n",
       "                      Sud  \n",
       "Centro      463645.585679  \n",
       "Isole       729986.205378  \n",
       "Nord-est    823860.587237  \n",
       "Nord-ovest  913786.897237  \n",
       "Sud              0.000000  "
      ]
     },
     "execution_count": 127,
     "metadata": {},
     "output_type": "execute_result"
    }
   ],
   "source": [
    "temp_W.head()"
   ]
  },
  {
   "cell_type": "code",
   "execution_count": 128,
   "metadata": {},
   "outputs": [],
   "source": [
    "temp_W = (1/temp_W)**2\n",
    "# w_ij = 0 if i=j\n",
    "temp_W[temp_W == np.inf] = 0\n",
    "# row standardization: every row sum up to 1\n",
    "temp_W = temp_W.div(temp_W.sum(axis=1), axis=0)"
   ]
  },
  {
   "cell_type": "markdown",
   "metadata": {},
   "source": [
    "Given a spatial weights matrix W is a nonnegative matrix with $w_{ij} >= 0$ and $w_{ii} = 0$. W uses to be symmetric.\n",
    "\n",
    "The row-normalized W is used for ease of interpretation. It is defined as $\\sum_{j=1}^n w_{ij} = 1, \\forall i = 1, \\dots, n$. This ensure that all weights are between 0 and 1.\n",
    "\n",
    "Each rownormalized weight, $wij$, can be interpreted as the fraction of all spatial influence on unit $i$ attributable to unit $j$."
   ]
  },
  {
   "cell_type": "code",
   "execution_count": 129,
   "metadata": {},
   "outputs": [
    {
     "data": {
      "text/html": [
       "<div>\n",
       "<style scoped>\n",
       "    .dataframe tbody tr th:only-of-type {\n",
       "        vertical-align: middle;\n",
       "    }\n",
       "\n",
       "    .dataframe tbody tr th {\n",
       "        vertical-align: top;\n",
       "    }\n",
       "\n",
       "    .dataframe thead th {\n",
       "        text-align: right;\n",
       "    }\n",
       "</style>\n",
       "<table border=\"1\" class=\"dataframe\">\n",
       "  <thead>\n",
       "    <tr style=\"text-align: right;\">\n",
       "      <th></th>\n",
       "      <th>Centro</th>\n",
       "      <th>Isole</th>\n",
       "      <th>Nord-est</th>\n",
       "      <th>Nord-ovest</th>\n",
       "      <th>Sud</th>\n",
       "    </tr>\n",
       "  </thead>\n",
       "  <tbody>\n",
       "    <tr>\n",
       "      <th>Centro</th>\n",
       "      <td>0.000000</td>\n",
       "      <td>0.126290</td>\n",
       "      <td>0.320155</td>\n",
       "      <td>0.246546</td>\n",
       "      <td>0.307009</td>\n",
       "    </tr>\n",
       "    <tr>\n",
       "      <th>Isole</th>\n",
       "      <td>0.294314</td>\n",
       "      <td>0.000000</td>\n",
       "      <td>0.249088</td>\n",
       "      <td>0.167971</td>\n",
       "      <td>0.288627</td>\n",
       "    </tr>\n",
       "    <tr>\n",
       "      <th>Nord-est</th>\n",
       "      <td>0.319744</td>\n",
       "      <td>0.106746</td>\n",
       "      <td>0.000000</td>\n",
       "      <td>0.476401</td>\n",
       "      <td>0.097109</td>\n",
       "    </tr>\n",
       "    <tr>\n",
       "      <th>Nord-ovest</th>\n",
       "      <td>0.281872</td>\n",
       "      <td>0.082404</td>\n",
       "      <td>0.545361</td>\n",
       "      <td>0.000000</td>\n",
       "      <td>0.090362</td>\n",
       "    </tr>\n",
       "    <tr>\n",
       "      <th>Sud</th>\n",
       "      <td>0.505673</td>\n",
       "      <td>0.203992</td>\n",
       "      <td>0.160153</td>\n",
       "      <td>0.130182</td>\n",
       "      <td>0.000000</td>\n",
       "    </tr>\n",
       "  </tbody>\n",
       "</table>\n",
       "</div>"
      ],
      "text/plain": [
       "              Centro     Isole  Nord-est  Nord-ovest       Sud\n",
       "Centro      0.000000  0.126290  0.320155    0.246546  0.307009\n",
       "Isole       0.294314  0.000000  0.249088    0.167971  0.288627\n",
       "Nord-est    0.319744  0.106746  0.000000    0.476401  0.097109\n",
       "Nord-ovest  0.281872  0.082404  0.545361    0.000000  0.090362\n",
       "Sud         0.505673  0.203992  0.160153    0.130182  0.000000"
      ]
     },
     "execution_count": 129,
     "metadata": {},
     "output_type": "execute_result"
    }
   ],
   "source": [
    "temp_W.head()"
   ]
  },
  {
   "cell_type": "code",
   "execution_count": 57,
   "metadata": {},
   "outputs": [],
   "source": [
    "#xs.index = xs.index.swaplevel(0, 1)\n",
    "#xs.sort_index(inplace=True)\n",
    "\n",
    "#xs = xs.loc[2013]\n",
    "#xs"
   ]
  },
  {
   "cell_type": "markdown",
   "metadata": {},
   "source": [
    "## Step I"
   ]
  },
  {
   "cell_type": "code",
   "execution_count": 105,
   "metadata": {},
   "outputs": [],
   "source": [
    "def stepI(param, data_, W, times, ref_I, territories):\n",
    "    beta = param[0]\n",
    "    a = param[1:-1]\n",
    "    ro = param[-1]\n",
    "    \n",
    "    T = len(times)\n",
    "    I = len(territories)\n",
    "    \n",
    "    identity_I = np.identity(I)\n",
    "    identity_I_1 = np.identity(I-1)\n",
    "    neg1 = np.negative(np.ones((I-1, 1)))\n",
    "    # Not-squared matrix\n",
    "    Q = np.append(identity_I_1, neg1, axis=1)\n",
    "    # All the I-1 locations (all but the reference one)\n",
    "    terr_not_ref = [i for i in territories if i != ref_I]\n",
    "    \n",
    "    # Modify W s.t. the \"ref_I\" location is the last one (so that Q is well defined)\n",
    "    W = W.reindex(index = terr_not_ref+[ref_I], columns = terr_not_ref+[ref_I])\n",
    "     \n",
    "    # Time-invariant quantity\n",
    "    L = Q.dot(np.linalg.inv(identity_I-ro*W)).dot(np.linalg.inv(identity_I-ro*W.T)).dot(Q.T)\n",
    "    \n",
    "    log_lik = T*np.log(np.linalg.det(L))\n",
    "    \n",
    "    for t in times[1:]:\n",
    "        y = (data_.loc[(t, terr_not_ref), \"y\"]/data_.loc[(t, ref_I), \"y\"]).values\n",
    "        x = (data_.loc[(t, terr_not_ref), \"y_prev_1\"]/data_.loc[(t, ref_I), \"y_prev_1\"]).values\n",
    "        #print(y.shape, x.shape, len(a))\n",
    "        main_term = np.log(y) - beta*np.log(x) - a\n",
    "        \n",
    "        log_lik += main_term.T.dot(np.linalg.inv(L)).dot(main_term)\n",
    "        \n",
    "    return(log_lik)"
   ]
  },
  {
   "cell_type": "markdown",
   "metadata": {},
   "source": [
    "## Step II"
   ]
  },
  {
   "cell_type": "code",
   "execution_count": 98,
   "metadata": {},
   "outputs": [],
   "source": [
    "def stepII(theta, a, x_, ref_I, territories):\n",
    "    # All the I-1 locations (all but the reference one)\n",
    "    terr_not_ref = [i for i in territories if i != ref_I]\n",
    "    \n",
    "    x_I = x_.loc[ref_I].values\n",
    "    temp = np.array([(a[terr_not_ref.index(i)] - np.dot(np.subtract(x_.loc[i].values, x_I), theta)) for i in terr_not_ref])\n",
    "    \n",
    "    log_lik = temp.T.dot(temp)\n",
    "    return(log_lik)"
   ]
  },
  {
   "cell_type": "markdown",
   "metadata": {},
   "source": [
    "### Computations"
   ]
  },
  {
   "cell_type": "markdown",
   "metadata": {},
   "source": [
    "At zones level as refered territory Centro is used."
   ]
  },
  {
   "cell_type": "code",
   "execution_count": 159,
   "metadata": {
    "scrolled": true
   },
   "outputs": [],
   "source": [
    "data_all, country, times, I, x_ = y, \"Romania\", list(range(2005, 2017)), \"Centro\", xs\n",
    "\n",
    "terr = sorted(list(set(zones_data.Zona)))\n",
    "territories = terr\n",
    "\n",
    "country = pycountry.countries.get(name=country).alpha_3\n",
    "data_ = bdf.filter_origin_country_dataset(y, country, years, xs.index.levels[0].tolist(), xs, prev = 1)"
   ]
  },
  {
   "cell_type": "markdown",
   "metadata": {},
   "source": [
    "In the model the features are time invariant. Since the time period is short, it assumed the variables change over it does not influence the model. As refered time, 2013 is choosen."
   ]
  },
  {
   "cell_type": "code",
   "execution_count": 160,
   "metadata": {},
   "outputs": [],
   "source": [
    "data_.index = data_.index.swaplevel(0, 1)\n",
    "data_.sort_index(inplace=True)\n",
    "data_ = data_\n",
    "y_ = data_[[\"y_prev_1\", \"y\"]]\n",
    "#y_.head()"
   ]
  },
  {
   "cell_type": "code",
   "execution_count": 161,
   "metadata": {},
   "outputs": [
    {
     "name": "stdout",
     "output_type": "stream",
     "text": [
      "---------- Step I ----------\n",
      "Current time: 20:03:27\n",
      "Optimization terminated successfully.\n",
      "Current time: 20:03:56\n",
      "Computational time: 0:00:29.339229\n"
     ]
    }
   ],
   "source": [
    "print(\"---------- Step I ----------\")\n",
    "initial_time = datetime.datetime.now()\n",
    "print (\"Current time: \" + str(initial_time.strftime('%H:%M:%S') ))\n",
    "\n",
    "# I-1 locations + beta + ro\n",
    "random.seed(123)\n",
    "param_init = [np.random.random() for i in range(len(territories)+1)]\n",
    "#param_init = np.random.rand(len(territories)+1)\n",
    "res_stepI =  minimize(stepI, param_init, args = (y_, temp_W, times, I, territories), method='CG')\n",
    "print(res_stepI.message)\n",
    "\n",
    "final_time = datetime.datetime.now() \n",
    "print (\"Current time: \" + str(final_time.strftime('%H:%M:%S')))\n",
    "print(\"Computational time: \" + str((final_time - initial_time)))\n",
    "\n",
    "\n",
    "# Step I results and validation\n",
    "beta_hat = res_stepI.x[0]\n",
    "a_hat = res_stepI.x[1:-1]\n",
    "rho_hat = res_stepI.x[-1]"
   ]
  },
  {
   "cell_type": "code",
   "execution_count": 162,
   "metadata": {
    "scrolled": true
   },
   "outputs": [
    {
     "name": "stdout",
     "output_type": "stream",
     "text": [
      "0.7744427764548738 [-0.35201252 -0.08162944 -0.01099394 -0.19029142] 5.332751598248623\n"
     ]
    }
   ],
   "source": [
    "print(beta_hat, a_hat, rho_hat)"
   ]
  },
  {
   "cell_type": "code",
   "execution_count": 201,
   "metadata": {},
   "outputs": [],
   "source": [
    "var_selection = ['native population - Total', 'unemployment - Total', 'reach_difficulty - Emergency room']\n",
    "    \n",
    "#xs_ = data_.loc[2013, [i for i in data_.columns.tolist() if i not in [\"y_prev_1\", \"y\"]]]\n",
    "xs_ = data_.loc[2013, var_selection]"
   ]
  },
  {
   "cell_type": "code",
   "execution_count": 202,
   "metadata": {},
   "outputs": [
    {
     "name": "stdout",
     "output_type": "stream",
     "text": [
      "---------- Step II ----------\n",
      "Current time: 20:18:34\n",
      "Desired error not necessarily achieved due to precision loss.\n",
      "Current time: 20:18:34\n",
      "Computational time: 0:00:00.345194\n"
     ]
    }
   ],
   "source": [
    "print(\"---------- Step II ----------\")\n",
    "\n",
    "initial_time = datetime.datetime.now()\n",
    "print (\"Current time: \" + str(initial_time.strftime('%H:%M:%S') ))\n",
    "\n",
    "random.seed(123)\n",
    "param_init = [np.random.random() for i in range(len(xs_.columns))]\n",
    "#param_init = np.random.uniform(0, 1, len(x_df.columns)-1)\n",
    "res_stepII =  minimize(stepII, param_init, args = (a_hat, xs_, I, territories), method='CG')\n",
    "#print(model_I([b, a], data_rou), b, a)\n",
    "#print(res_stepII.x)\n",
    "print(res_stepII.message)\n",
    "#print(res_stepII.fun)\n",
    "final_time = datetime.datetime.now() \n",
    "print (\"Current time: \" + str(final_time.strftime('%H:%M:%S')))\n",
    "print(\"Computational time: \" + str((final_time - initial_time)))"
   ]
  },
  {
   "cell_type": "code",
   "execution_count": 203,
   "metadata": {},
   "outputs": [
    {
     "data": {
      "text/plain": [
       "array([ 1.72980830e-06,  7.27089749e-02, -2.47635171e-02])"
      ]
     },
     "execution_count": 203,
     "metadata": {},
     "output_type": "execute_result"
    }
   ],
   "source": [
    "theta_hat = res_stepII.x\n",
    "theta_hat"
   ]
  },
  {
   "cell_type": "code",
   "execution_count": 204,
   "metadata": {},
   "outputs": [
    {
     "data": {
      "text/html": [
       "<div>\n",
       "<style scoped>\n",
       "    .dataframe tbody tr th:only-of-type {\n",
       "        vertical-align: middle;\n",
       "    }\n",
       "\n",
       "    .dataframe tbody tr th {\n",
       "        vertical-align: top;\n",
       "    }\n",
       "\n",
       "    .dataframe thead th {\n",
       "        text-align: right;\n",
       "    }\n",
       "</style>\n",
       "<table border=\"1\" class=\"dataframe\">\n",
       "  <thead>\n",
       "    <tr style=\"text-align: right;\">\n",
       "      <th></th>\n",
       "      <th>native population - Total</th>\n",
       "      <th>unemployment - Total</th>\n",
       "      <th>reach_difficulty - Emergency room</th>\n",
       "    </tr>\n",
       "    <tr>\n",
       "      <th>Province</th>\n",
       "      <th></th>\n",
       "      <th></th>\n",
       "      <th></th>\n",
       "    </tr>\n",
       "  </thead>\n",
       "  <tbody>\n",
       "    <tr>\n",
       "      <th>Centro</th>\n",
       "      <td>11681498.0</td>\n",
       "      <td>564.4515</td>\n",
       "      <td>2552.0</td>\n",
       "    </tr>\n",
       "    <tr>\n",
       "      <th>Isole</th>\n",
       "      <td>6640311.0</td>\n",
       "      <td>470.0650</td>\n",
       "      <td>1597.0</td>\n",
       "    </tr>\n",
       "    <tr>\n",
       "      <th>Nord-est</th>\n",
       "      <td>12560971.0</td>\n",
       "      <td>409.8595</td>\n",
       "      <td>2206.0</td>\n",
       "    </tr>\n",
       "    <tr>\n",
       "      <th>Nord-ovest</th>\n",
       "      <td>15989392.0</td>\n",
       "      <td>647.4835</td>\n",
       "      <td>2994.0</td>\n",
       "    </tr>\n",
       "    <tr>\n",
       "      <th>Sud</th>\n",
       "      <td>13980833.0</td>\n",
       "      <td>976.8060</td>\n",
       "      <td>3363.0</td>\n",
       "    </tr>\n",
       "  </tbody>\n",
       "</table>\n",
       "</div>"
      ],
      "text/plain": [
       "            native population - Total  unemployment - Total  \\\n",
       "Province                                                      \n",
       "Centro                     11681498.0              564.4515   \n",
       "Isole                       6640311.0              470.0650   \n",
       "Nord-est                   12560971.0              409.8595   \n",
       "Nord-ovest                 15989392.0              647.4835   \n",
       "Sud                        13980833.0              976.8060   \n",
       "\n",
       "            reach_difficulty - Emergency room  \n",
       "Province                                       \n",
       "Centro                                 2552.0  \n",
       "Isole                                  1597.0  \n",
       "Nord-est                               2206.0  \n",
       "Nord-ovest                             2994.0  \n",
       "Sud                                    3363.0  "
      ]
     },
     "execution_count": 204,
     "metadata": {},
     "output_type": "execute_result"
    }
   ],
   "source": [
    "xs_"
   ]
  },
  {
   "cell_type": "code",
   "execution_count": 205,
   "metadata": {},
   "outputs": [
    {
     "data": {
      "text/plain": [
       "['Isole', 'Nord-est', 'Nord-ovest', 'Sud']"
      ]
     },
     "execution_count": 205,
     "metadata": {},
     "output_type": "execute_result"
    }
   ],
   "source": [
    "terr_not_ref = [i for i in territories if i != I]\n",
    "terr_not_ref"
   ]
  },
  {
   "cell_type": "code",
   "execution_count": 206,
   "metadata": {},
   "outputs": [
    {
     "data": {
      "text/plain": [
       "['Centro', 'Isole', 'Nord-est', 'Nord-ovest', 'Sud']"
      ]
     },
     "execution_count": 206,
     "metadata": {},
     "output_type": "execute_result"
    }
   ],
   "source": [
    "territories"
   ]
  },
  {
   "cell_type": "code",
   "execution_count": 207,
   "metadata": {},
   "outputs": [],
   "source": [
    "x_I = xs_.loc[I].values"
   ]
  },
  {
   "cell_type": "code",
   "execution_count": 210,
   "metadata": {},
   "outputs": [],
   "source": [
    "for t in times[1:]:\n",
    "    y = (data_.loc[(t, terr_not_ref), \"y\"]/data_.loc[(t, ref_I), \"y\"]).values\n",
    "    #x = beta_hat*(data_.loc[(t, terr_not_ref), \"y_prev_1\"]/data_.loc[(t, ref_I), \"y_prev_1\"]).values + [np.dot(np.subtract(xs_.loc[i].values, x_I), theta_hat) for i in terr_not_ref]\n",
    "    x = beta_hat*(data_.loc[(t, terr_not_ref), \"y_prev_1\"]/data_.loc[(t, ref_I), \"y_prev_1\"]).values + a_hat"
   ]
  },
  {
   "cell_type": "code",
   "execution_count": 211,
   "metadata": {},
   "outputs": [
    {
     "data": {
      "text/plain": [
       "array([ 8.20442936, -0.61557019,  3.26298139, 14.18003376])"
      ]
     },
     "execution_count": 211,
     "metadata": {},
     "output_type": "execute_result"
    }
   ],
   "source": [
    "x"
   ]
  },
  {
   "cell_type": "code",
   "execution_count": 200,
   "metadata": {},
   "outputs": [
    {
     "data": {
      "text/plain": [
       "array([0.18397817, 0.69547766, 0.93518215, 0.4024562 ])"
      ]
     },
     "execution_count": 200,
     "metadata": {},
     "output_type": "execute_result"
    }
   ],
   "source": [
    "y"
   ]
  },
  {
   "cell_type": "code",
   "execution_count": 192,
   "metadata": {},
   "outputs": [
    {
     "data": {
      "text/plain": [
       "array([-1.64625062e-04,  4.71894108e-01,  6.91006571e-01, -4.76202882e-02,\n",
       "        4.15307468e-01,  9.29512442e-01,  3.91908875e-01])"
      ]
     },
     "execution_count": 192,
     "metadata": {},
     "output_type": "execute_result"
    }
   ],
   "source": [
    "theta_hat"
   ]
  },
  {
   "cell_type": "code",
   "execution_count": 197,
   "metadata": {},
   "outputs": [
    {
     "data": {
      "text/plain": [
       "-34.824995591727884"
      ]
     },
     "execution_count": 197,
     "metadata": {},
     "output_type": "execute_result"
    }
   ],
   "source": [
    "np.dot((xs_.loc[\"Isole\"] - xs_.loc[I]), theta_hat)"
   ]
  },
  {
   "cell_type": "markdown",
   "metadata": {},
   "source": [
    "# Run the different models for the different origin country"
   ]
  },
  {
   "cell_type": "code",
   "execution_count": 172,
   "metadata": {},
   "outputs": [],
   "source": [
    "def run_model(data_all, country, times, I, x_, territories = None):\n",
    "    if not territories:\n",
    "        territories = sorted(list(set(data_all[\"Province\"])))\n",
    "        \n",
    "    data_all = data_all[data_all[\"Year\"].isin(times)]\n",
    "    missing_territories = mf.not_including(data_all, times, territories)\n",
    "    territories = [i for i in territories if i not in missing_territories]\n",
    "    data_all = data_all[data_all[\"Province\"].isin(territories)]\n",
    "\n",
    "    # Also the stock in the refered province is needed in the optimization \n",
    "    data_ = data_all[data_all[\"Country\"] == pycountry.countries.get(name=country).alpha_3]\n",
    "    del data_[\"Country\"]\n",
    "\n",
    "    data_ = pd.DataFrame(data_.groupby([\"Year\", \"Province\"])[\"Value\"].sum())\n",
    "\n",
    "    print(\"---------- Step I ----------\")\n",
    "    initial_time = datetime.datetime.now()\n",
    "    print (\"Current time: \" + str(initial_time.strftime('%H:%M:%S') ))\n",
    "\n",
    "    # I-1 locations + beta + ro\n",
    "    random.seed(123)\n",
    "    param_init = [np.random.random() for i in range(len(territories))]\n",
    "    #param_init = np.random.rand(len(territories)+1)\n",
    "    res_stepI =  minimize(stepI, param_init, args = (data_, temp_W, times, I, territories), method='CG')\n",
    "    print(res_stepI.message)\n",
    "\n",
    "    final_time = datetime.datetime.now() \n",
    "    print (\"Current time: \" + str(final_time.strftime('%H:%M:%S')))\n",
    "    print(\"Computational time: \" + str((final_time - initial_time)))\n",
    "    \n",
    "    \n",
    "    # Step I results and validation\n",
    "    beta_hat = res_stepI.x[0]\n",
    "    a_hat = res_stepI.x[1:]\n",
    "    '''y_hat = []\n",
    "    y = []\n",
    "    for i in territories:\n",
    "        time_invariant = a_hat[territories.index(i)]\n",
    "        for t in times[1:]:\n",
    "            y.append(np.log(n_it(data_, i, t)/n_it(data_, I, t)))\n",
    "            y_hat.append(beta_hat*(np.log(n_it(data_, i, t-1)/n_it(data_, I, t-1))) + time_invariant)\n",
    "            \n",
    "    y_mean = np.mean(y)\n",
    "\n",
    "    R2 = 1 - sum(np.subtract(y, y_hat)**2) / sum((y - y_mean)**2)\n",
    "    # Equivalently: 1 - (res_stepI.fun / sum((y - y_mean)**2))\n",
    "    #print(R2)\n",
    "    print(\"The R2 score from the step I is: %f\" %R2)\n",
    "    '''\n",
    "    #print(beta_hat, a_hat)\n",
    "    print(\"---------- Step II ----------\")\n",
    "\n",
    "    initial_time = datetime.datetime.now()\n",
    "    print (\"Current time: \" + str(initial_time.strftime('%H:%M:%S') ))\n",
    "\n",
    "    random.seed(123)\n",
    "    param_init = [np.random.random() for i in range(len(x_.columns))]\n",
    "    #param_init = np.random.uniform(0, 1, len(x_df.columns)-1)\n",
    "    res_stepII =  minimize(stepII, param_init, args = (a_hat, x_, I, territories), method='CG')\n",
    "    #print(model_I([b, a], data_rou), b, a)\n",
    "    #print(res_stepII.x)\n",
    "    print(res_stepII.message)\n",
    "    #print(res_stepII.fun)\n",
    "    final_time = datetime.datetime.now() \n",
    "    print (\"Current time: \" + str(final_time.strftime('%H:%M:%S')))\n",
    "    print(\"Computational time: \" + str((final_time - initial_time)))\n",
    "    \n",
    "    # Step II results and validation\n",
    "    theta_hat = res_stepII.x\n",
    "    '''x_I = x_[x_[\"Prov Capitals\"] == I][[\"Area\", \"Dens\", \"Mezzogiorno\"]].values\n",
    "    y_hat = []\n",
    "    #y = []\n",
    "    for i in territories:\n",
    "        x_i = x_[x_[\"Prov Capitals\"] == i][[\"Area\", \"Dens\", \"Mezzogiorno\"]].values\n",
    "        time_invariant = np.dot(np.subtract(x_i, x_I), theta_hat)\n",
    "        for t in times[1:]:\n",
    "            #y.append(np.log(n_it(data_, i, t)/n_it(data_, I, t)))\n",
    "            y_hat.append((beta_hat*(np.log(n_it(data_, i, t-1)/n_it(data_, I, t-1))) + time_invariant)[0])\n",
    "            \n",
    "    #y_mean = np.mean(y)\n",
    "    R2 = 1 - sum(np.subtract(y, y_hat)**2) / sum((y - y_mean)**2)\n",
    "    #print(R2)\n",
    "    print(\"The final R2 score is: %f\" %R2)\n",
    "    \n",
    "    n = len(y)\n",
    "    k = len(x_.columns)-1\n",
    "    R2_adj = 1 - (1 - R2)*((n - 1)/(n - k -1))\n",
    "    print(\"The final Adjusted R2 score is: %f\" %R2_adj)'''\n",
    "    \n",
    "    return(beta_hat, a_hat, theta_hat)"
   ]
  },
  {
   "cell_type": "code",
   "execution_count": 173,
   "metadata": {
    "scrolled": true
   },
   "outputs": [
    {
     "name": "stdout",
     "output_type": "stream",
     "text": [
      "---------- Step I ----------\n",
      "Current time: 16:14:03\n",
      "Desired error not necessarily achieved due to precision loss.\n",
      "Current time: 16:25:39\n",
      "Computational time: 0:11:35.605179\n",
      "---------- Step II ----------\n",
      "Current time: 16:25:39\n"
     ]
    },
    {
     "ename": "ValueError",
     "evalue": "setting an array element with a sequence.",
     "output_type": "error",
     "traceback": [
      "\u001b[0;31m---------------------------------------------------------------------------\u001b[0m",
      "\u001b[0;31mValueError\u001b[0m                                Traceback (most recent call last)",
      "\u001b[0;32m<ipython-input-173-85694a6f8b7a>\u001b[0m in \u001b[0;36m<module>\u001b[0;34m()\u001b[0m\n\u001b[0;32m----> 1\u001b[0;31m \u001b[0mres_rou\u001b[0m \u001b[0;34m=\u001b[0m \u001b[0mrun_model\u001b[0m\u001b[0;34m(\u001b[0m\u001b[0mdata\u001b[0m\u001b[0;34m,\u001b[0m \u001b[0;34m\"Romania\"\u001b[0m\u001b[0;34m,\u001b[0m \u001b[0mlist\u001b[0m\u001b[0;34m(\u001b[0m\u001b[0mrange\u001b[0m\u001b[0;34m(\u001b[0m\u001b[0;36m2004\u001b[0m\u001b[0;34m,\u001b[0m \u001b[0;36m2008\u001b[0m\u001b[0;34m)\u001b[0m\u001b[0;34m)\u001b[0m\u001b[0;34m,\u001b[0m \u001b[0;34m\"Roma\"\u001b[0m\u001b[0;34m,\u001b[0m \u001b[0mx_df\u001b[0m\u001b[0;34m)\u001b[0m\u001b[0;34m\u001b[0m\u001b[0m\n\u001b[0m",
      "\u001b[0;32m<ipython-input-172-bde4aa351ff7>\u001b[0m in \u001b[0;36mrun_model\u001b[0;34m(data_all, country, times, I, x_, territories)\u001b[0m\n\u001b[1;32m     57\u001b[0m     \u001b[0mparam_init\u001b[0m \u001b[0;34m=\u001b[0m \u001b[0;34m[\u001b[0m\u001b[0mnp\u001b[0m\u001b[0;34m.\u001b[0m\u001b[0mrandom\u001b[0m\u001b[0;34m.\u001b[0m\u001b[0mrandom\u001b[0m\u001b[0;34m(\u001b[0m\u001b[0;34m)\u001b[0m \u001b[0;32mfor\u001b[0m \u001b[0mi\u001b[0m \u001b[0;32min\u001b[0m \u001b[0mrange\u001b[0m\u001b[0;34m(\u001b[0m\u001b[0mlen\u001b[0m\u001b[0;34m(\u001b[0m\u001b[0mx_\u001b[0m\u001b[0;34m.\u001b[0m\u001b[0mcolumns\u001b[0m\u001b[0;34m)\u001b[0m\u001b[0;34m)\u001b[0m\u001b[0;34m]\u001b[0m\u001b[0;34m\u001b[0m\u001b[0m\n\u001b[1;32m     58\u001b[0m     \u001b[0;31m#param_init = np.random.uniform(0, 1, len(x_df.columns)-1)\u001b[0m\u001b[0;34m\u001b[0m\u001b[0;34m\u001b[0m\u001b[0m\n\u001b[0;32m---> 59\u001b[0;31m     \u001b[0mres_stepII\u001b[0m \u001b[0;34m=\u001b[0m  \u001b[0mminimize\u001b[0m\u001b[0;34m(\u001b[0m\u001b[0mstepII\u001b[0m\u001b[0;34m,\u001b[0m \u001b[0mparam_init\u001b[0m\u001b[0;34m,\u001b[0m \u001b[0margs\u001b[0m \u001b[0;34m=\u001b[0m \u001b[0;34m(\u001b[0m\u001b[0ma_hat\u001b[0m\u001b[0;34m,\u001b[0m \u001b[0mx_\u001b[0m\u001b[0;34m,\u001b[0m \u001b[0mI\u001b[0m\u001b[0;34m,\u001b[0m \u001b[0mterritories\u001b[0m\u001b[0;34m)\u001b[0m\u001b[0;34m,\u001b[0m \u001b[0mmethod\u001b[0m\u001b[0;34m=\u001b[0m\u001b[0;34m'CG'\u001b[0m\u001b[0;34m)\u001b[0m\u001b[0;34m\u001b[0m\u001b[0m\n\u001b[0m\u001b[1;32m     60\u001b[0m     \u001b[0;31m#print(model_I([b, a], data_rou), b, a)\u001b[0m\u001b[0;34m\u001b[0m\u001b[0;34m\u001b[0m\u001b[0m\n\u001b[1;32m     61\u001b[0m     \u001b[0;31m#print(res_stepII.x)\u001b[0m\u001b[0;34m\u001b[0m\u001b[0;34m\u001b[0m\u001b[0m\n",
      "\u001b[0;32m~/myenv/lib64/python3.6/site-packages/scipy/optimize/_minimize.py\u001b[0m in \u001b[0;36mminimize\u001b[0;34m(fun, x0, args, method, jac, hess, hessp, bounds, constraints, tol, callback, options)\u001b[0m\n\u001b[1;32m    477\u001b[0m         \u001b[0;32mreturn\u001b[0m \u001b[0m_minimize_powell\u001b[0m\u001b[0;34m(\u001b[0m\u001b[0mfun\u001b[0m\u001b[0;34m,\u001b[0m \u001b[0mx0\u001b[0m\u001b[0;34m,\u001b[0m \u001b[0margs\u001b[0m\u001b[0;34m,\u001b[0m \u001b[0mcallback\u001b[0m\u001b[0;34m,\u001b[0m \u001b[0;34m**\u001b[0m\u001b[0moptions\u001b[0m\u001b[0;34m)\u001b[0m\u001b[0;34m\u001b[0m\u001b[0m\n\u001b[1;32m    478\u001b[0m     \u001b[0;32melif\u001b[0m \u001b[0mmeth\u001b[0m \u001b[0;34m==\u001b[0m \u001b[0;34m'cg'\u001b[0m\u001b[0;34m:\u001b[0m\u001b[0;34m\u001b[0m\u001b[0m\n\u001b[0;32m--> 479\u001b[0;31m         \u001b[0;32mreturn\u001b[0m \u001b[0m_minimize_cg\u001b[0m\u001b[0;34m(\u001b[0m\u001b[0mfun\u001b[0m\u001b[0;34m,\u001b[0m \u001b[0mx0\u001b[0m\u001b[0;34m,\u001b[0m \u001b[0margs\u001b[0m\u001b[0;34m,\u001b[0m \u001b[0mjac\u001b[0m\u001b[0;34m,\u001b[0m \u001b[0mcallback\u001b[0m\u001b[0;34m,\u001b[0m \u001b[0;34m**\u001b[0m\u001b[0moptions\u001b[0m\u001b[0;34m)\u001b[0m\u001b[0;34m\u001b[0m\u001b[0m\n\u001b[0m\u001b[1;32m    480\u001b[0m     \u001b[0;32melif\u001b[0m \u001b[0mmeth\u001b[0m \u001b[0;34m==\u001b[0m \u001b[0;34m'bfgs'\u001b[0m\u001b[0;34m:\u001b[0m\u001b[0;34m\u001b[0m\u001b[0m\n\u001b[1;32m    481\u001b[0m         \u001b[0;32mreturn\u001b[0m \u001b[0m_minimize_bfgs\u001b[0m\u001b[0;34m(\u001b[0m\u001b[0mfun\u001b[0m\u001b[0;34m,\u001b[0m \u001b[0mx0\u001b[0m\u001b[0;34m,\u001b[0m \u001b[0margs\u001b[0m\u001b[0;34m,\u001b[0m \u001b[0mjac\u001b[0m\u001b[0;34m,\u001b[0m \u001b[0mcallback\u001b[0m\u001b[0;34m,\u001b[0m \u001b[0;34m**\u001b[0m\u001b[0moptions\u001b[0m\u001b[0;34m)\u001b[0m\u001b[0;34m\u001b[0m\u001b[0m\n",
      "\u001b[0;32m~/myenv/lib64/python3.6/site-packages/scipy/optimize/optimize.py\u001b[0m in \u001b[0;36m_minimize_cg\u001b[0;34m(fun, x0, args, jac, callback, gtol, norm, eps, maxiter, disp, return_all, **unknown_options)\u001b[0m\n\u001b[1;32m   1256\u001b[0m     \u001b[0;32melse\u001b[0m\u001b[0;34m:\u001b[0m\u001b[0;34m\u001b[0m\u001b[0m\n\u001b[1;32m   1257\u001b[0m         \u001b[0mgrad_calls\u001b[0m\u001b[0;34m,\u001b[0m \u001b[0mmyfprime\u001b[0m \u001b[0;34m=\u001b[0m \u001b[0mwrap_function\u001b[0m\u001b[0;34m(\u001b[0m\u001b[0mfprime\u001b[0m\u001b[0;34m,\u001b[0m \u001b[0margs\u001b[0m\u001b[0;34m)\u001b[0m\u001b[0;34m\u001b[0m\u001b[0m\n\u001b[0;32m-> 1258\u001b[0;31m     \u001b[0mgfk\u001b[0m \u001b[0;34m=\u001b[0m \u001b[0mmyfprime\u001b[0m\u001b[0;34m(\u001b[0m\u001b[0mx0\u001b[0m\u001b[0;34m)\u001b[0m\u001b[0;34m\u001b[0m\u001b[0m\n\u001b[0m\u001b[1;32m   1259\u001b[0m     \u001b[0mk\u001b[0m \u001b[0;34m=\u001b[0m \u001b[0;36m0\u001b[0m\u001b[0;34m\u001b[0m\u001b[0m\n\u001b[1;32m   1260\u001b[0m     \u001b[0mxk\u001b[0m \u001b[0;34m=\u001b[0m \u001b[0mx0\u001b[0m\u001b[0;34m\u001b[0m\u001b[0m\n",
      "\u001b[0;32m~/myenv/lib64/python3.6/site-packages/scipy/optimize/optimize.py\u001b[0m in \u001b[0;36mfunction_wrapper\u001b[0;34m(*wrapper_args)\u001b[0m\n\u001b[1;32m    290\u001b[0m     \u001b[0;32mdef\u001b[0m \u001b[0mfunction_wrapper\u001b[0m\u001b[0;34m(\u001b[0m\u001b[0;34m*\u001b[0m\u001b[0mwrapper_args\u001b[0m\u001b[0;34m)\u001b[0m\u001b[0;34m:\u001b[0m\u001b[0;34m\u001b[0m\u001b[0m\n\u001b[1;32m    291\u001b[0m         \u001b[0mncalls\u001b[0m\u001b[0;34m[\u001b[0m\u001b[0;36m0\u001b[0m\u001b[0;34m]\u001b[0m \u001b[0;34m+=\u001b[0m \u001b[0;36m1\u001b[0m\u001b[0;34m\u001b[0m\u001b[0m\n\u001b[0;32m--> 292\u001b[0;31m         \u001b[0;32mreturn\u001b[0m \u001b[0mfunction\u001b[0m\u001b[0;34m(\u001b[0m\u001b[0;34m*\u001b[0m\u001b[0;34m(\u001b[0m\u001b[0mwrapper_args\u001b[0m \u001b[0;34m+\u001b[0m \u001b[0margs\u001b[0m\u001b[0;34m)\u001b[0m\u001b[0;34m)\u001b[0m\u001b[0;34m\u001b[0m\u001b[0m\n\u001b[0m\u001b[1;32m    293\u001b[0m \u001b[0;34m\u001b[0m\u001b[0m\n\u001b[1;32m    294\u001b[0m     \u001b[0;32mreturn\u001b[0m \u001b[0mncalls\u001b[0m\u001b[0;34m,\u001b[0m \u001b[0mfunction_wrapper\u001b[0m\u001b[0;34m\u001b[0m\u001b[0m\n",
      "\u001b[0;32m~/myenv/lib64/python3.6/site-packages/scipy/optimize/optimize.py\u001b[0m in \u001b[0;36mapprox_fprime\u001b[0;34m(xk, f, epsilon, *args)\u001b[0m\n\u001b[1;32m    701\u001b[0m \u001b[0;34m\u001b[0m\u001b[0m\n\u001b[1;32m    702\u001b[0m     \"\"\"\n\u001b[0;32m--> 703\u001b[0;31m     \u001b[0;32mreturn\u001b[0m \u001b[0m_approx_fprime_helper\u001b[0m\u001b[0;34m(\u001b[0m\u001b[0mxk\u001b[0m\u001b[0;34m,\u001b[0m \u001b[0mf\u001b[0m\u001b[0;34m,\u001b[0m \u001b[0mepsilon\u001b[0m\u001b[0;34m,\u001b[0m \u001b[0margs\u001b[0m\u001b[0;34m=\u001b[0m\u001b[0margs\u001b[0m\u001b[0;34m)\u001b[0m\u001b[0;34m\u001b[0m\u001b[0m\n\u001b[0m\u001b[1;32m    704\u001b[0m \u001b[0;34m\u001b[0m\u001b[0m\n\u001b[1;32m    705\u001b[0m \u001b[0;34m\u001b[0m\u001b[0m\n",
      "\u001b[0;32m~/myenv/lib64/python3.6/site-packages/scipy/optimize/optimize.py\u001b[0m in \u001b[0;36m_approx_fprime_helper\u001b[0;34m(xk, f, epsilon, args, f0)\u001b[0m\n\u001b[1;32m    635\u001b[0m     \"\"\"\n\u001b[1;32m    636\u001b[0m     \u001b[0;32mif\u001b[0m \u001b[0mf0\u001b[0m \u001b[0;32mis\u001b[0m \u001b[0;32mNone\u001b[0m\u001b[0;34m:\u001b[0m\u001b[0;34m\u001b[0m\u001b[0m\n\u001b[0;32m--> 637\u001b[0;31m         \u001b[0mf0\u001b[0m \u001b[0;34m=\u001b[0m \u001b[0mf\u001b[0m\u001b[0;34m(\u001b[0m\u001b[0;34m*\u001b[0m\u001b[0;34m(\u001b[0m\u001b[0;34m(\u001b[0m\u001b[0mxk\u001b[0m\u001b[0;34m,\u001b[0m\u001b[0;34m)\u001b[0m \u001b[0;34m+\u001b[0m \u001b[0margs\u001b[0m\u001b[0;34m)\u001b[0m\u001b[0;34m)\u001b[0m\u001b[0;34m\u001b[0m\u001b[0m\n\u001b[0m\u001b[1;32m    638\u001b[0m     \u001b[0mgrad\u001b[0m \u001b[0;34m=\u001b[0m \u001b[0mnumpy\u001b[0m\u001b[0;34m.\u001b[0m\u001b[0mzeros\u001b[0m\u001b[0;34m(\u001b[0m\u001b[0;34m(\u001b[0m\u001b[0mlen\u001b[0m\u001b[0;34m(\u001b[0m\u001b[0mxk\u001b[0m\u001b[0;34m)\u001b[0m\u001b[0;34m,\u001b[0m\u001b[0;34m)\u001b[0m\u001b[0;34m,\u001b[0m \u001b[0mfloat\u001b[0m\u001b[0;34m)\u001b[0m\u001b[0;34m\u001b[0m\u001b[0m\n\u001b[1;32m    639\u001b[0m     \u001b[0mei\u001b[0m \u001b[0;34m=\u001b[0m \u001b[0mnumpy\u001b[0m\u001b[0;34m.\u001b[0m\u001b[0mzeros\u001b[0m\u001b[0;34m(\u001b[0m\u001b[0;34m(\u001b[0m\u001b[0mlen\u001b[0m\u001b[0;34m(\u001b[0m\u001b[0mxk\u001b[0m\u001b[0;34m)\u001b[0m\u001b[0;34m,\u001b[0m\u001b[0;34m)\u001b[0m\u001b[0;34m,\u001b[0m \u001b[0mfloat\u001b[0m\u001b[0;34m)\u001b[0m\u001b[0;34m\u001b[0m\u001b[0m\n",
      "\u001b[0;32m~/myenv/lib64/python3.6/site-packages/scipy/optimize/optimize.py\u001b[0m in \u001b[0;36mfunction_wrapper\u001b[0;34m(*wrapper_args)\u001b[0m\n\u001b[1;32m    290\u001b[0m     \u001b[0;32mdef\u001b[0m \u001b[0mfunction_wrapper\u001b[0m\u001b[0;34m(\u001b[0m\u001b[0;34m*\u001b[0m\u001b[0mwrapper_args\u001b[0m\u001b[0;34m)\u001b[0m\u001b[0;34m:\u001b[0m\u001b[0;34m\u001b[0m\u001b[0m\n\u001b[1;32m    291\u001b[0m         \u001b[0mncalls\u001b[0m\u001b[0;34m[\u001b[0m\u001b[0;36m0\u001b[0m\u001b[0;34m]\u001b[0m \u001b[0;34m+=\u001b[0m \u001b[0;36m1\u001b[0m\u001b[0;34m\u001b[0m\u001b[0m\n\u001b[0;32m--> 292\u001b[0;31m         \u001b[0;32mreturn\u001b[0m \u001b[0mfunction\u001b[0m\u001b[0;34m(\u001b[0m\u001b[0;34m*\u001b[0m\u001b[0;34m(\u001b[0m\u001b[0mwrapper_args\u001b[0m \u001b[0;34m+\u001b[0m \u001b[0margs\u001b[0m\u001b[0;34m)\u001b[0m\u001b[0;34m)\u001b[0m\u001b[0;34m\u001b[0m\u001b[0m\n\u001b[0m\u001b[1;32m    293\u001b[0m \u001b[0;34m\u001b[0m\u001b[0m\n\u001b[1;32m    294\u001b[0m     \u001b[0;32mreturn\u001b[0m \u001b[0mncalls\u001b[0m\u001b[0;34m,\u001b[0m \u001b[0mfunction_wrapper\u001b[0m\u001b[0;34m\u001b[0m\u001b[0m\n",
      "\u001b[0;32m<ipython-input-171-b09d73fe6c10>\u001b[0m in \u001b[0;36mstepII\u001b[0;34m(theta, a, x_, ref_I, territories)\u001b[0m\n\u001b[1;32m      4\u001b[0m \u001b[0;34m\u001b[0m\u001b[0m\n\u001b[1;32m      5\u001b[0m     \u001b[0mx_I\u001b[0m \u001b[0;34m=\u001b[0m \u001b[0mx_\u001b[0m\u001b[0;34m.\u001b[0m\u001b[0mloc\u001b[0m\u001b[0;34m[\u001b[0m\u001b[0mref_I\u001b[0m\u001b[0;34m]\u001b[0m\u001b[0;34m.\u001b[0m\u001b[0mvalues\u001b[0m\u001b[0;34m\u001b[0m\u001b[0m\n\u001b[0;32m----> 6\u001b[0;31m     \u001b[0mtemp\u001b[0m \u001b[0;34m=\u001b[0m \u001b[0mnp\u001b[0m\u001b[0;34m.\u001b[0m\u001b[0marray\u001b[0m\u001b[0;34m(\u001b[0m\u001b[0;34m[\u001b[0m\u001b[0;34m(\u001b[0m\u001b[0ma\u001b[0m\u001b[0;34m[\u001b[0m\u001b[0mterr_not_ref\u001b[0m\u001b[0;34m.\u001b[0m\u001b[0mindex\u001b[0m\u001b[0;34m(\u001b[0m\u001b[0mi\u001b[0m\u001b[0;34m)\u001b[0m\u001b[0;34m]\u001b[0m \u001b[0;34m-\u001b[0m \u001b[0mnp\u001b[0m\u001b[0;34m.\u001b[0m\u001b[0mdot\u001b[0m\u001b[0;34m(\u001b[0m\u001b[0mnp\u001b[0m\u001b[0;34m.\u001b[0m\u001b[0msubtract\u001b[0m\u001b[0;34m(\u001b[0m\u001b[0mx_\u001b[0m\u001b[0;34m.\u001b[0m\u001b[0mloc\u001b[0m\u001b[0;34m[\u001b[0m\u001b[0mi\u001b[0m\u001b[0;34m]\u001b[0m\u001b[0;34m.\u001b[0m\u001b[0mvalues\u001b[0m\u001b[0;34m,\u001b[0m \u001b[0mx_I\u001b[0m\u001b[0;34m)\u001b[0m\u001b[0;34m,\u001b[0m \u001b[0mtheta\u001b[0m\u001b[0;34m)\u001b[0m\u001b[0;34m)\u001b[0m \u001b[0;32mfor\u001b[0m \u001b[0mi\u001b[0m \u001b[0;32min\u001b[0m \u001b[0mterr_not_ref\u001b[0m\u001b[0;34m]\u001b[0m\u001b[0;34m)\u001b[0m\u001b[0;34m\u001b[0m\u001b[0m\n\u001b[0m\u001b[1;32m      7\u001b[0m \u001b[0;34m\u001b[0m\u001b[0m\n\u001b[1;32m      8\u001b[0m     \u001b[0mlog_lik\u001b[0m \u001b[0;34m=\u001b[0m \u001b[0mtemp\u001b[0m\u001b[0;34m.\u001b[0m\u001b[0mT\u001b[0m\u001b[0;34m.\u001b[0m\u001b[0mdot\u001b[0m\u001b[0;34m(\u001b[0m\u001b[0mtemp\u001b[0m\u001b[0;34m)\u001b[0m\u001b[0;34m\u001b[0m\u001b[0m\n",
      "\u001b[0;31mValueError\u001b[0m: setting an array element with a sequence."
     ]
    }
   ],
   "source": [
    "res_rou = run_model(data, \"Romania\", list(range(2004, 2008)), \"Roma\", x_df)"
   ]
  },
  {
   "cell_type": "code",
   "execution_count": null,
   "metadata": {},
   "outputs": [],
   "source": [
    "print(\"Beta parameter: %f\" %res_rou[0])\n",
    "print(res_rou[1])\n",
    "#print(\"Theta parameter: %s %s %s\" %tuple(res_rou[2][0]))\n",
    "print(res_rou[2])"
   ]
  },
  {
   "cell_type": "code",
   "execution_count": null,
   "metadata": {
    "scrolled": true
   },
   "outputs": [],
   "source": [
    "res_mor = run_model(data, \"Morocco\", list(range(2004, 2008)), \"Roma\", x_df)"
   ]
  },
  {
   "cell_type": "code",
   "execution_count": null,
   "metadata": {},
   "outputs": [],
   "source": [
    "print(\"Beta parameter: %f\" %res_mor[0])\n",
    "print(res_mor[1])\n",
    "print(\"Theta parameter: %s %s %s\" %tuple(res_mor[2]))"
   ]
  },
  {
   "cell_type": "code",
   "execution_count": null,
   "metadata": {},
   "outputs": [],
   "source": []
  }
 ],
 "metadata": {
  "kernelspec": {
   "display_name": "Python 3",
   "language": "python",
   "name": "python3"
  },
  "language_info": {
   "codemirror_mode": {
    "name": "ipython",
    "version": 3
   },
   "file_extension": ".py",
   "mimetype": "text/x-python",
   "name": "python",
   "nbconvert_exporter": "python",
   "pygments_lexer": "ipython3",
   "version": "3.6.4"
  }
 },
 "nbformat": 4,
 "nbformat_minor": 2
}
