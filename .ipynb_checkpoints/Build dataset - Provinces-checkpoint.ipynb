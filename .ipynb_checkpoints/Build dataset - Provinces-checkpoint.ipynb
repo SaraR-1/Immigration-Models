{
 "cells": [
  {
   "cell_type": "code",
   "execution_count": 1,
   "metadata": {},
   "outputs": [],
   "source": [
    "import pandas as pd\n",
    "import numpy as np\n",
    "import string\n",
    "import seaborn as sns\n",
    "import matplotlib.pyplot as plt\n",
    "import matplotlib.lines as mlines\n",
    "import build_data_functions as bdf\n",
    "from matplotlib.ticker import FormatStrFormatter\n",
    "from matplotlib.ticker import ScalarFormatter"
   ]
  },
  {
   "cell_type": "code",
   "execution_count": 2,
   "metadata": {
    "scrolled": true
   },
   "outputs": [],
   "source": [
    "resident_foreigners_norm = pd.read_table(\"/home/sara/Documents/Immigration/Shared_statistics/Data_final/resident_foreigners_norm.csv\")\n",
    "provinces = sorted(list(set(resident_foreigners_norm[\"Province\"])))\n",
    "regions_data = pd.read_table(\"/home/sara/Documents/Immigration/Shared_statistics/Data_final/regioni.csv\")\n",
    "regions_data = regions_data.replace(['Provincia Autonoma Bolzano / Bozen', 'Provincia Autonoma Trento'], ['Bolzano / Bozen', 'Trento'])\n",
    "regions = sorted(list(set(regions_data[\"Regione\"])))\n",
    "zones_data = pd.read_table(\"/home/sara/Documents/Immigration/Shared_statistics/Data_final/territori.csv\")\n",
    "zones_data = zones_data.replace(['Provincia Autonoma Bolzano / Bozen', 'Provincia Autonoma Trento'], ['Bolzano / Bozen', 'Trento'])\n",
    "\n",
    "zones = sorted(list(set(zones_data[\"Zona\"])))\n",
    "#years = sorted(list(set(resident_foreigners_norm[\"Year\"])))\n",
    "years = list(range(2005,2016))\n",
    "\n",
    "basic_info = pd.read_table(\"/home/sara/Documents/Immigration/Data_not_git/Prov_info/prov_cap_info.csv\", header=None, names = [\"Province\", \"Region Code\", \"Population\", \"Area\", \"Density\", \"Num Municipalities\"])\n",
    "basic_info_additional = pd.read_table(\"/home/sara/Documents/Immigration/Data_not_git/Prov_info/region_info.csv\", header=None, names = [\"Province\", \"Region Code\", \"Population\", \"Area\", \"Density\", \"Num Municipalities\"])"
   ]
  },
  {
   "cell_type": "code",
   "execution_count": 3,
   "metadata": {},
   "outputs": [],
   "source": [
    "resident_norm = pd.read_table(\"/home/sara/Documents/Immigration/Shared_statistics/Data_final/resident_norm.csv\")"
   ]
  },
  {
   "cell_type": "code",
   "execution_count": 4,
   "metadata": {},
   "outputs": [],
   "source": [
    "reg_cap_info = pd.read_table(\"/home/sara/Documents/Immigration/Data_not_git/Prov_info/reg_cap_info.csv\")\n",
    "regions_cap = reg_cap_info[\"Prov Capitals\"].values"
   ]
  },
  {
   "cell_type": "code",
   "execution_count": 5,
   "metadata": {},
   "outputs": [
    {
     "data": {
      "text/plain": [
       "\"regions = replace_in_list(regions, ['Provincia Autonoma Bolzano / Bozen', 'Provincia Autonoma Trento'], ['Bolzano / Bozen', 'Trento'])\\nbasic_info_additional = basic_info_additional.replace(['Provincia Autonoma Bolzano / Bozen', 'Provincia Autonoma Trento'], ['Bolzano / Bozen', 'Trento'])\""
      ]
     },
     "execution_count": 5,
     "metadata": {},
     "output_type": "execute_result"
    }
   ],
   "source": [
    "'''regions = replace_in_list(regions, ['Provincia Autonoma Bolzano / Bozen', 'Provincia Autonoma Trento'], ['Bolzano / Bozen', 'Trento'])\n",
    "basic_info_additional = basic_info_additional.replace(['Provincia Autonoma Bolzano / Bozen', 'Provincia Autonoma Trento'], ['Bolzano / Bozen', 'Trento'])'''"
   ]
  },
  {
   "cell_type": "code",
   "execution_count": 6,
   "metadata": {},
   "outputs": [
    {
     "data": {
      "text/html": [
       "<div>\n",
       "<style scoped>\n",
       "    .dataframe tbody tr th:only-of-type {\n",
       "        vertical-align: middle;\n",
       "    }\n",
       "\n",
       "    .dataframe tbody tr th {\n",
       "        vertical-align: top;\n",
       "    }\n",
       "\n",
       "    .dataframe thead th {\n",
       "        text-align: right;\n",
       "    }\n",
       "</style>\n",
       "<table border=\"1\" class=\"dataframe\">\n",
       "  <thead>\n",
       "    <tr style=\"text-align: right;\">\n",
       "      <th></th>\n",
       "      <th>Province</th>\n",
       "      <th>Region Code</th>\n",
       "      <th>Population</th>\n",
       "      <th>Area</th>\n",
       "      <th>Density</th>\n",
       "      <th>Num Municipalities</th>\n",
       "    </tr>\n",
       "  </thead>\n",
       "  <tbody>\n",
       "    <tr>\n",
       "      <th>0</th>\n",
       "      <td>agrigento</td>\n",
       "      <td>sic</td>\n",
       "      <td>442.049</td>\n",
       "      <td>3.052,59</td>\n",
       "      <td>145.0</td>\n",
       "      <td>43</td>\n",
       "    </tr>\n",
       "    <tr>\n",
       "      <th>1</th>\n",
       "      <td>alessandria</td>\n",
       "      <td>pie</td>\n",
       "      <td>426.658</td>\n",
       "      <td>3.558,83</td>\n",
       "      <td>120.0</td>\n",
       "      <td>188</td>\n",
       "    </tr>\n",
       "    <tr>\n",
       "      <th>2</th>\n",
       "      <td>ancona</td>\n",
       "      <td>mar</td>\n",
       "      <td>474.124</td>\n",
       "      <td>1.963,22</td>\n",
       "      <td>242.0</td>\n",
       "      <td>47</td>\n",
       "    </tr>\n",
       "    <tr>\n",
       "      <th>3</th>\n",
       "      <td>aosta</td>\n",
       "      <td>vda</td>\n",
       "      <td>126.883</td>\n",
       "      <td>3.260,90</td>\n",
       "      <td>39.0</td>\n",
       "      <td>74</td>\n",
       "    </tr>\n",
       "    <tr>\n",
       "      <th>4</th>\n",
       "      <td>arezzo</td>\n",
       "      <td>tos</td>\n",
       "      <td>344.374</td>\n",
       "      <td>3.233,08</td>\n",
       "      <td>107.0</td>\n",
       "      <td>36</td>\n",
       "    </tr>\n",
       "  </tbody>\n",
       "</table>\n",
       "</div>"
      ],
      "text/plain": [
       "      Province Region Code Population      Area  Density  Num Municipalities\n",
       "0    agrigento         sic    442.049  3.052,59    145.0                  43\n",
       "1  alessandria         pie    426.658  3.558,83    120.0                 188\n",
       "2       ancona         mar    474.124  1.963,22    242.0                  47\n",
       "3        aosta         vda    126.883  3.260,90     39.0                  74\n",
       "4       arezzo         tos    344.374  3.233,08    107.0                  36"
      ]
     },
     "execution_count": 6,
     "metadata": {},
     "output_type": "execute_result"
    }
   ],
   "source": [
    "basic_info.head()"
   ]
  },
  {
   "cell_type": "code",
   "execution_count": 7,
   "metadata": {},
   "outputs": [],
   "source": [
    "basic_info[\"Region Code\"] = [i.upper() for i in basic_info[\"Region Code\"]]"
   ]
  },
  {
   "cell_type": "code",
   "execution_count": 8,
   "metadata": {},
   "outputs": [],
   "source": [
    "basic_info[\"Province\"] = [i.title() for i in basic_info[\"Province\"]]\n",
    "basic_info[\"Province\"] = basic_info[\"Province\"].replace([\"Aosta\", \"Bolzano\", \"Monza E Della Brianza\", \"Pesaro E Urbino\", \"Reggio Calabria\", \"Reggio Emilia\", \"Roma Capitale\"], [\"Valle d'Aosta / Vallée d'Aoste\", \"Bolzano / Bozen\", \"Monza e della Brianza\", \"Pesaro e Urbino\", \"Reggio di Calabria\", \"Reggio nell'Emilia\", \"Roma\"])"
   ]
  },
  {
   "cell_type": "code",
   "execution_count": 9,
   "metadata": {},
   "outputs": [],
   "source": [
    "# Add manually (from Wikipedia the missing information)\n",
    "basic_info = bdf.add_row(basic_info, [[\"Medio Campidano\", \"SAR\", \"99.422\", \"1.157,34\", 65.52, 28], \n",
    "                                  [\"Carbonia-Iglesias\", \"SAR\", \"127.133\", \"1.499,71\", 84.77, 23], \n",
    "                                  [\"Olbia-Tempio\", \"SAR\", \"160.368\", \"3.406,18\", 48.08, 26], \n",
    "                                  [\"Oristano\", \"SAR\", \"159.474\", \"2.990,45\", 53.33, 87],\n",
    "                                 [\"Sud\", \"-\", \"14.071.161\", \"73.223\", 192.17, \"-\"],\n",
    "                                 [\"Centro\", \"-\", \"12.067.524\", \"58.052\", 207.89, \"-\"],\n",
    "                                 [\"Isole\", \"-\", \"6.709.776\", \"49.932\", 134.37, \"-\"],\n",
    "                                 [\"Nord-est\", \"-\", \"11.564.416\", \"62.310\", 185.59, \"-\"],\n",
    "                                 [\"Nord-ovest\", \"-\", \"16.137.227\", \"57.950\", 275.63, \"-\"]])"
   ]
  },
  {
   "cell_type": "code",
   "execution_count": 10,
   "metadata": {},
   "outputs": [],
   "source": [
    "basic_info = basic_info.sort_values([\"Province\"])\n",
    "\n",
    "basic_info = basic_info[basic_info[\"Province\"] != \"Sud Sardegna\"]\n",
    "\n",
    "basic_info.index = list(range(len(basic_info)))"
   ]
  },
  {
   "cell_type": "code",
   "execution_count": 11,
   "metadata": {},
   "outputs": [],
   "source": [
    "basic_info[\"Area\"] = [float(i.replace(\".\", \"\").replace(\",\", \".\")) for i in basic_info[\"Area\"]]\n",
    "basic_info[\"Population\"] = [float(i.replace(\".\", \"\").replace(\",\", \".\")) for i in basic_info[\"Population\"]]"
   ]
  },
  {
   "cell_type": "code",
   "execution_count": 12,
   "metadata": {},
   "outputs": [
    {
     "data": {
      "text/html": [
       "<div>\n",
       "<style scoped>\n",
       "    .dataframe tbody tr th:only-of-type {\n",
       "        vertical-align: middle;\n",
       "    }\n",
       "\n",
       "    .dataframe tbody tr th {\n",
       "        vertical-align: top;\n",
       "    }\n",
       "\n",
       "    .dataframe thead th {\n",
       "        text-align: right;\n",
       "    }\n",
       "</style>\n",
       "<table border=\"1\" class=\"dataframe\">\n",
       "  <thead>\n",
       "    <tr style=\"text-align: right;\">\n",
       "      <th></th>\n",
       "      <th>Province</th>\n",
       "      <th>Region Code</th>\n",
       "      <th>Population</th>\n",
       "      <th>Area</th>\n",
       "      <th>Density</th>\n",
       "      <th>Num Municipalities</th>\n",
       "    </tr>\n",
       "  </thead>\n",
       "  <tbody>\n",
       "    <tr>\n",
       "      <th>0</th>\n",
       "      <td>Agrigento</td>\n",
       "      <td>SIC</td>\n",
       "      <td>442049.0</td>\n",
       "      <td>3052.59</td>\n",
       "      <td>145.0</td>\n",
       "      <td>43</td>\n",
       "    </tr>\n",
       "    <tr>\n",
       "      <th>1</th>\n",
       "      <td>Alessandria</td>\n",
       "      <td>PIE</td>\n",
       "      <td>426658.0</td>\n",
       "      <td>3558.83</td>\n",
       "      <td>120.0</td>\n",
       "      <td>188</td>\n",
       "    </tr>\n",
       "    <tr>\n",
       "      <th>2</th>\n",
       "      <td>Ancona</td>\n",
       "      <td>MAR</td>\n",
       "      <td>474124.0</td>\n",
       "      <td>1963.22</td>\n",
       "      <td>242.0</td>\n",
       "      <td>47</td>\n",
       "    </tr>\n",
       "    <tr>\n",
       "      <th>3</th>\n",
       "      <td>Arezzo</td>\n",
       "      <td>TOS</td>\n",
       "      <td>344374.0</td>\n",
       "      <td>3233.08</td>\n",
       "      <td>107.0</td>\n",
       "      <td>36</td>\n",
       "    </tr>\n",
       "    <tr>\n",
       "      <th>4</th>\n",
       "      <td>Ascoli Piceno</td>\n",
       "      <td>MAR</td>\n",
       "      <td>209450.0</td>\n",
       "      <td>1228.27</td>\n",
       "      <td>171.0</td>\n",
       "      <td>33</td>\n",
       "    </tr>\n",
       "  </tbody>\n",
       "</table>\n",
       "</div>"
      ],
      "text/plain": [
       "        Province Region Code  Population     Area  Density Num Municipalities\n",
       "0      Agrigento         SIC    442049.0  3052.59    145.0                 43\n",
       "1    Alessandria         PIE    426658.0  3558.83    120.0                188\n",
       "2         Ancona         MAR    474124.0  1963.22    242.0                 47\n",
       "3         Arezzo         TOS    344374.0  3233.08    107.0                 36\n",
       "4  Ascoli Piceno         MAR    209450.0  1228.27    171.0                 33"
      ]
     },
     "execution_count": 12,
     "metadata": {},
     "output_type": "execute_result"
    }
   ],
   "source": [
    "basic_info.head()"
   ]
  },
  {
   "cell_type": "code",
   "execution_count": 13,
   "metadata": {},
   "outputs": [],
   "source": [
    "interest_territories = provinces + regions + zones + [\"Italia\"]"
   ]
  },
  {
   "cell_type": "code",
   "execution_count": 14,
   "metadata": {},
   "outputs": [],
   "source": [
    "basic_info_additional[\"Region Code\"] = [i.upper() for i in basic_info_additional[\"Region Code\"]]"
   ]
  },
  {
   "cell_type": "code",
   "execution_count": 15,
   "metadata": {},
   "outputs": [],
   "source": [
    "dataset = basic_info_additional.append(basic_info, ignore_index=True)"
   ]
  },
  {
   "cell_type": "code",
   "execution_count": 16,
   "metadata": {},
   "outputs": [],
   "source": [
    "dataset = bdf.filtering(dataset, \"Province\", interest_territories)\n",
    "dataset = dataset.sort_values([\"Province\"])\n",
    "dataset = dataset.drop_duplicates([\"Province\"])\n",
    "dataset = dataset.set_index(\"Province\")"
   ]
  },
  {
   "cell_type": "code",
   "execution_count": 17,
   "metadata": {},
   "outputs": [
    {
     "data": {
      "text/html": [
       "<div>\n",
       "<style scoped>\n",
       "    .dataframe tbody tr th:only-of-type {\n",
       "        vertical-align: middle;\n",
       "    }\n",
       "\n",
       "    .dataframe tbody tr th {\n",
       "        vertical-align: top;\n",
       "    }\n",
       "\n",
       "    .dataframe thead th {\n",
       "        text-align: right;\n",
       "    }\n",
       "</style>\n",
       "<table border=\"1\" class=\"dataframe\">\n",
       "  <thead>\n",
       "    <tr style=\"text-align: right;\">\n",
       "      <th></th>\n",
       "      <th>Region Code</th>\n",
       "      <th>Population</th>\n",
       "      <th>Area</th>\n",
       "      <th>Density</th>\n",
       "      <th>Num Municipalities</th>\n",
       "    </tr>\n",
       "    <tr>\n",
       "      <th>Province</th>\n",
       "      <th></th>\n",
       "      <th></th>\n",
       "      <th></th>\n",
       "      <th></th>\n",
       "      <th></th>\n",
       "    </tr>\n",
       "  </thead>\n",
       "  <tbody>\n",
       "    <tr>\n",
       "      <th>Abruzzo</th>\n",
       "      <td>ABR</td>\n",
       "      <td>1322247.0</td>\n",
       "      <td>10831.84</td>\n",
       "      <td>122.07</td>\n",
       "      <td>305</td>\n",
       "    </tr>\n",
       "    <tr>\n",
       "      <th>Agrigento</th>\n",
       "      <td>SIC</td>\n",
       "      <td>442049.0</td>\n",
       "      <td>3052.59</td>\n",
       "      <td>145.00</td>\n",
       "      <td>43</td>\n",
       "    </tr>\n",
       "    <tr>\n",
       "      <th>Alessandria</th>\n",
       "      <td>PIE</td>\n",
       "      <td>426658.0</td>\n",
       "      <td>3558.83</td>\n",
       "      <td>120.00</td>\n",
       "      <td>188</td>\n",
       "    </tr>\n",
       "    <tr>\n",
       "      <th>Ancona</th>\n",
       "      <td>MAR</td>\n",
       "      <td>474124.0</td>\n",
       "      <td>1963.22</td>\n",
       "      <td>242.00</td>\n",
       "      <td>47</td>\n",
       "    </tr>\n",
       "    <tr>\n",
       "      <th>Arezzo</th>\n",
       "      <td>TOS</td>\n",
       "      <td>344374.0</td>\n",
       "      <td>3233.08</td>\n",
       "      <td>107.00</td>\n",
       "      <td>36</td>\n",
       "    </tr>\n",
       "  </tbody>\n",
       "</table>\n",
       "</div>"
      ],
      "text/plain": [
       "            Region Code  Population      Area  Density Num Municipalities\n",
       "Province                                                                 \n",
       "Abruzzo             ABR   1322247.0  10831.84   122.07                305\n",
       "Agrigento           SIC    442049.0   3052.59   145.00                 43\n",
       "Alessandria         PIE    426658.0   3558.83   120.00                188\n",
       "Ancona              MAR    474124.0   1963.22   242.00                 47\n",
       "Arezzo              TOS    344374.0   3233.08   107.00                 36"
      ]
     },
     "execution_count": 17,
     "metadata": {},
     "output_type": "execute_result"
    }
   ],
   "source": [
    "dataset.head()"
   ]
  },
  {
   "cell_type": "code",
   "execution_count": 18,
   "metadata": {},
   "outputs": [
    {
     "data": {
      "text/html": [
       "<div>\n",
       "<style scoped>\n",
       "    .dataframe tbody tr th:only-of-type {\n",
       "        vertical-align: middle;\n",
       "    }\n",
       "\n",
       "    .dataframe tbody tr th {\n",
       "        vertical-align: top;\n",
       "    }\n",
       "\n",
       "    .dataframe thead th {\n",
       "        text-align: right;\n",
       "    }\n",
       "</style>\n",
       "<table border=\"1\" class=\"dataframe\">\n",
       "  <thead>\n",
       "    <tr style=\"text-align: right;\">\n",
       "      <th></th>\n",
       "      <th>Province</th>\n",
       "      <th>Country</th>\n",
       "      <th>Year</th>\n",
       "      <th>Gender</th>\n",
       "      <th>Value</th>\n",
       "    </tr>\n",
       "  </thead>\n",
       "  <tbody>\n",
       "    <tr>\n",
       "      <th>0</th>\n",
       "      <td>Biella</td>\n",
       "      <td>AND</td>\n",
       "      <td>2005</td>\n",
       "      <td>male</td>\n",
       "      <td>1</td>\n",
       "    </tr>\n",
       "    <tr>\n",
       "      <th>1</th>\n",
       "      <td>Biella</td>\n",
       "      <td>AND</td>\n",
       "      <td>2005</td>\n",
       "      <td>female</td>\n",
       "      <td>0</td>\n",
       "    </tr>\n",
       "    <tr>\n",
       "      <th>2</th>\n",
       "      <td>Novara</td>\n",
       "      <td>AND</td>\n",
       "      <td>2005</td>\n",
       "      <td>male</td>\n",
       "      <td>0</td>\n",
       "    </tr>\n",
       "    <tr>\n",
       "      <th>3</th>\n",
       "      <td>Novara</td>\n",
       "      <td>AND</td>\n",
       "      <td>2005</td>\n",
       "      <td>female</td>\n",
       "      <td>2</td>\n",
       "    </tr>\n",
       "    <tr>\n",
       "      <th>4</th>\n",
       "      <td>Alessandria</td>\n",
       "      <td>AND</td>\n",
       "      <td>2017</td>\n",
       "      <td>male</td>\n",
       "      <td>0</td>\n",
       "    </tr>\n",
       "  </tbody>\n",
       "</table>\n",
       "</div>"
      ],
      "text/plain": [
       "      Province Country  Year  Gender  Value\n",
       "0       Biella     AND  2005    male      1\n",
       "1       Biella     AND  2005  female      0\n",
       "2       Novara     AND  2005    male      0\n",
       "3       Novara     AND  2005  female      2\n",
       "4  Alessandria     AND  2017    male      0"
      ]
     },
     "execution_count": 18,
     "metadata": {},
     "output_type": "execute_result"
    }
   ],
   "source": [
    "resident_foreigners_norm.head()"
   ]
  },
  {
   "cell_type": "code",
   "execution_count": 19,
   "metadata": {},
   "outputs": [
    {
     "data": {
      "text/html": [
       "<div>\n",
       "<style scoped>\n",
       "    .dataframe tbody tr th:only-of-type {\n",
       "        vertical-align: middle;\n",
       "    }\n",
       "\n",
       "    .dataframe tbody tr th {\n",
       "        vertical-align: top;\n",
       "    }\n",
       "\n",
       "    .dataframe thead th {\n",
       "        text-align: right;\n",
       "    }\n",
       "</style>\n",
       "<table border=\"1\" class=\"dataframe\">\n",
       "  <thead>\n",
       "    <tr style=\"text-align: right;\">\n",
       "      <th></th>\n",
       "      <th>Province</th>\n",
       "      <th>Year</th>\n",
       "      <th>Gender</th>\n",
       "      <th>Value</th>\n",
       "    </tr>\n",
       "  </thead>\n",
       "  <tbody>\n",
       "    <tr>\n",
       "      <th>0</th>\n",
       "      <td>Torino</td>\n",
       "      <td>2003</td>\n",
       "      <td>male</td>\n",
       "      <td>1045816</td>\n",
       "    </tr>\n",
       "    <tr>\n",
       "      <th>1</th>\n",
       "      <td>Torino</td>\n",
       "      <td>2004</td>\n",
       "      <td>male</td>\n",
       "      <td>1054784</td>\n",
       "    </tr>\n",
       "    <tr>\n",
       "      <th>2</th>\n",
       "      <td>Torino</td>\n",
       "      <td>2005</td>\n",
       "      <td>male</td>\n",
       "      <td>1058774</td>\n",
       "    </tr>\n",
       "    <tr>\n",
       "      <th>3</th>\n",
       "      <td>Torino</td>\n",
       "      <td>2006</td>\n",
       "      <td>male</td>\n",
       "      <td>1060448</td>\n",
       "    </tr>\n",
       "    <tr>\n",
       "      <th>4</th>\n",
       "      <td>Torino</td>\n",
       "      <td>2007</td>\n",
       "      <td>male</td>\n",
       "      <td>1062274</td>\n",
       "    </tr>\n",
       "  </tbody>\n",
       "</table>\n",
       "</div>"
      ],
      "text/plain": [
       "  Province  Year Gender    Value\n",
       "0   Torino  2003   male  1045816\n",
       "1   Torino  2004   male  1054784\n",
       "2   Torino  2005   male  1058774\n",
       "3   Torino  2006   male  1060448\n",
       "4   Torino  2007   male  1062274"
      ]
     },
     "execution_count": 19,
     "metadata": {},
     "output_type": "execute_result"
    }
   ],
   "source": [
    "resident_norm.head()"
   ]
  },
  {
   "cell_type": "code",
   "execution_count": 20,
   "metadata": {
    "scrolled": true
   },
   "outputs": [],
   "source": [
    "resident_foreigners_norm = bdf.fill_aggragating(regions, \"Regione\", \"Provincia\", \"Province\", regions_data, resident_foreigners_norm)"
   ]
  },
  {
   "cell_type": "code",
   "execution_count": 21,
   "metadata": {},
   "outputs": [],
   "source": [
    "resident_foreigners_norm = bdf.fill_aggragating(zones, \"Zona\", \"Regione\", \"Province\", zones_data, resident_foreigners_norm)"
   ]
  },
  {
   "cell_type": "code",
   "execution_count": 22,
   "metadata": {
    "scrolled": true
   },
   "outputs": [],
   "source": [
    "resident_norm = bdf.fill_aggragating(regions, \"Regione\", \"Provincia\", \"Province\", regions_data, resident_norm)"
   ]
  },
  {
   "cell_type": "code",
   "execution_count": 23,
   "metadata": {},
   "outputs": [],
   "source": [
    "resident_norm = bdf.fill_aggragating(zones, \"Zona\", \"Regione\", \"Province\", zones_data, resident_norm)"
   ]
  },
  {
   "cell_type": "markdown",
   "metadata": {},
   "source": [
    "### Correlation - basic info"
   ]
  },
  {
   "cell_type": "markdown",
   "metadata": {},
   "source": [
    "Since these features are time invariant, it is reasonable to study the correlation with the mean immigrant stock."
   ]
  },
  {
   "cell_type": "code",
   "execution_count": 24,
   "metadata": {},
   "outputs": [],
   "source": [
    "mean_stock = resident_foreigners_norm.groupby([\"Province\"])[\"Value\"].sum()\n",
    "\n",
    "data_temp = pd.concat([dataset, mean_stock], axis=1)\n",
    "#data_temp = data_temp.reset_index(level=[\"Province\"])"
   ]
  },
  {
   "cell_type": "code",
   "execution_count": 25,
   "metadata": {},
   "outputs": [],
   "source": [
    "cols = data_temp.columns[(data_temp.columns != \"Region Code\") & (data_temp.columns != \"Num Municipalities\") & (data_temp.columns != \"Value\")]"
   ]
  },
  {
   "cell_type": "code",
   "execution_count": 22,
   "metadata": {},
   "outputs": [],
   "source": [
    "bdf.relation_plot_time_invariant(data_temp.loc[zones], cols, \"Value\", 45, \"Immigrant Stock VS Time Invariant Features - Zones Level\", save = True, path = \"Plots/stock_vs_time_invariant_zones\")"
   ]
  },
  {
   "cell_type": "code",
   "execution_count": 23,
   "metadata": {},
   "outputs": [],
   "source": [
    "bdf.relation_plot_time_invariant(data_temp.loc[regions], cols, \"Value\", 90, \"Immigrant Stock VS Time Invariant Features - Regions Level\", save = True, path = \"Plots/stock_vs_time_invariant_regions\")"
   ]
  },
  {
   "cell_type": "markdown",
   "metadata": {},
   "source": [
    "## Istat Data"
   ]
  },
  {
   "cell_type": "code",
   "execution_count": 26,
   "metadata": {},
   "outputs": [],
   "source": [
    "palette = [\"green\", \"yellowgreen\", \"gold\", \"orange\", \"red\", \"paleturquoise\", \"mediumpurple\", \"fuchsia\"]"
   ]
  },
  {
   "cell_type": "code",
   "execution_count": 27,
   "metadata": {},
   "outputs": [
    {
     "data": {
      "image/png": "[encoded data removed]",
      "text/plain": [
       "<matplotlib.figure.Figure at 0x7fd074041198>"
      ]
     },
     "metadata": {},
     "output_type": "display_data"
    }
   ],
   "source": [
    "sns.palplot(sns.color_palette(palette))\n",
    "plt.show()"
   ]
  },
  {
   "cell_type": "markdown",
   "metadata": {},
   "source": [
    "### Aspect of daily life - social activities"
   ]
  },
  {
   "cell_type": "code",
   "execution_count": 28,
   "metadata": {},
   "outputs": [],
   "source": [
    "social_act = pd.read_table(\"/home/sara/Documents/Immigration/Data_not_git/Prov_info/Aspects of daily life/DCCV_AVQ_PERSONE_Data_433028ae-6be5-4ff0-8727-911694df70d2.csv\", sep = \"\\t\")"
   ]
  },
  {
   "cell_type": "code",
   "execution_count": 29,
   "metadata": {},
   "outputs": [
    {
     "name": "stdout",
     "output_type": "stream",
     "text": [
      "Classe di età {'14 anni e più'}\n",
      "Condizione e posizione nella professione {'totale'}\n",
      "Sesso {'totale'}\n",
      "Titolo di studio {'totale'}\n"
     ]
    },
    {
     "name": "stderr",
     "output_type": "stream",
     "text": [
      "/home/sara/Documents/Immigration/Shared_models/build_data_functions.py:73: FutureWarning: '.reindex_axis' is deprecated and will be removed in a future version. Use '.reindex' instead.\n",
      "  return data.reindex_axis(sorted(data.columns), axis=1)\n"
     ]
    }
   ],
   "source": [
    "social_act = bdf.re_ordering_df(social_act)\n",
    "bdf.drop_useless(social_act)"
   ]
  },
  {
   "cell_type": "code",
   "execution_count": 30,
   "metadata": {},
   "outputs": [],
   "source": [
    "social_act = social_act.replace(['Provincia Autonoma Bolzano / Bozen', 'Provincia Autonoma Trento'], ['Bolzano / Bozen', 'Trento'])"
   ]
  },
  {
   "cell_type": "code",
   "execution_count": 31,
   "metadata": {},
   "outputs": [],
   "source": [
    "social_act = bdf.filtering(social_act, \"Territorio\", interest_territories)\n",
    "social_act = bdf.filtering(social_act, \"Seleziona periodo\", years)"
   ]
  },
  {
   "cell_type": "code",
   "execution_count": 32,
   "metadata": {},
   "outputs": [
    {
     "data": {
      "text/plain": [
       "{'per 100 persone con le stesse caratteristiche', 'valori in migliaia'}"
      ]
     },
     "execution_count": 32,
     "metadata": {},
     "output_type": "execute_result"
    }
   ],
   "source": [
    "set(social_act[\"Misura\"])"
   ]
  },
  {
   "cell_type": "code",
   "execution_count": 33,
   "metadata": {},
   "outputs": [],
   "source": [
    "social_act = bdf.differentiate_values(social_act, \"Misura\", \"Tipo dato\")\n",
    "social_act = bdf.pivot(social_act, \"Tipo dato\", \"0  Flags\")"
   ]
  },
  {
   "cell_type": "code",
   "execution_count": 34,
   "metadata": {},
   "outputs": [],
   "source": [
    "bdf.del_missing(social_act)"
   ]
  },
  {
   "cell_type": "code",
   "execution_count": 35,
   "metadata": {},
   "outputs": [
    {
     "name": "stdout",
     "output_type": "stream",
     "text": [
      "Int64Index([2005, 2006, 2007, 2008, 2009, 2010, 2011, 2012, 2013, 2014, 2015], dtype='int64', name='Seleziona periodo')\n",
      "Index(['Abruzzo', 'Basilicata', 'Bolzano / Bozen', 'Calabria', 'Campania',\n",
      "       'Centro', 'Emilia-Romagna', 'Friuli-Venezia Giulia', 'Isole', 'Italia',\n",
      "       'Lazio', 'Liguria', 'Lombardia', 'Marche', 'Molise', 'Nord-est',\n",
      "       'Nord-ovest', 'Piemonte', 'Puglia', 'Sardegna', 'Sicilia', 'Sud',\n",
      "       'Toscana', 'Trento', 'Umbria', 'Valle d'Aosta / Vallée d'Aoste',\n",
      "       'Veneto'],\n",
      "      dtype='object', name='Territorio')\n"
     ]
    }
   ],
   "source": [
    "print(social_act.index.levels[0])\n",
    "print(social_act.index.levels[1])"
   ]
  },
  {
   "cell_type": "code",
   "execution_count": 36,
   "metadata": {},
   "outputs": [
    {
     "name": "stdout",
     "output_type": "stream",
     "text": [
      "[]\n"
     ]
    }
   ],
   "source": [
    "places_to_check = [i for i in interest_territories if i not in provinces] + [\"Trento\", \"Valle d'Aosta / Vallée d'Aoste\", \"Bolzano / Bozen\"] + zones\n",
    "bdf.check_missing_index(social_act, years, places_to_check)"
   ]
  },
  {
   "cell_type": "code",
   "execution_count": 37,
   "metadata": {},
   "outputs": [],
   "source": [
    "bdf.check_missing(social_act)"
   ]
  },
  {
   "cell_type": "markdown",
   "metadata": {},
   "source": [
    "ALL the data for the 2004 are missing, two options:\n",
    "- do not consider these attributes for the 2004\n",
    "- reconstruct the 2004 data from the other data: mean of 2003 and 2004;"
   ]
  },
  {
   "cell_type": "code",
   "execution_count": 38,
   "metadata": {},
   "outputs": [
    {
     "data": {
      "text/html": [
       "<div>\n",
       "<style scoped>\n",
       "    .dataframe tbody tr th:only-of-type {\n",
       "        vertical-align: middle;\n",
       "    }\n",
       "\n",
       "    .dataframe tbody tr th {\n",
       "        vertical-align: top;\n",
       "    }\n",
       "\n",
       "    .dataframe thead th {\n",
       "        text-align: right;\n",
       "    }\n",
       "</style>\n",
       "<table border=\"1\" class=\"dataframe\">\n",
       "  <thead>\n",
       "    <tr style=\"text-align: right;\">\n",
       "      <th></th>\n",
       "      <th>Tipo dato</th>\n",
       "      <th>attività gratuita per un sindacato - per 100 persone con le stesse caratteristiche</th>\n",
       "      <th>attività gratuita per un sindacato - valori in migliaia</th>\n",
       "      <th>attività gratuite in associazioni di volontariato - per 100 persone con le stesse caratteristiche</th>\n",
       "      <th>attività gratuite in associazioni di volontariato - valori in migliaia</th>\n",
       "      <th>attività gratuite in associazioni non di volontariato - per 100 persone con le stesse caratteristiche</th>\n",
       "      <th>attività gratuite in associazioni non di volontariato - valori in migliaia</th>\n",
       "      <th>riunioni in associazioni culturali, ricreative o di altro tipo - per 100 persone con le stesse caratteristiche</th>\n",
       "      <th>riunioni in associazioni culturali, ricreative o di altro tipo - valori in migliaia</th>\n",
       "      <th>riunioni in associazioni ecologiche, per i diritti civili, per la pace - per 100 persone con le stesse caratteristiche</th>\n",
       "      <th>riunioni in associazioni ecologiche, per i diritti civili, per la pace - valori in migliaia</th>\n",
       "      <th>versare soldi ad un'associazione - per 100 persone con le stesse caratteristiche</th>\n",
       "      <th>versare soldi ad un'associazione - valori in migliaia</th>\n",
       "    </tr>\n",
       "    <tr>\n",
       "      <th>Seleziona periodo</th>\n",
       "      <th>Territorio</th>\n",
       "      <th></th>\n",
       "      <th></th>\n",
       "      <th></th>\n",
       "      <th></th>\n",
       "      <th></th>\n",
       "      <th></th>\n",
       "      <th></th>\n",
       "      <th></th>\n",
       "      <th></th>\n",
       "      <th></th>\n",
       "      <th></th>\n",
       "      <th></th>\n",
       "    </tr>\n",
       "  </thead>\n",
       "  <tbody>\n",
       "    <tr>\n",
       "      <th rowspan=\"5\" valign=\"top\">2005</th>\n",
       "      <th>Abruzzo</th>\n",
       "      <td>1.6</td>\n",
       "      <td>18.0</td>\n",
       "      <td>7.2</td>\n",
       "      <td>81.0</td>\n",
       "      <td>3.0</td>\n",
       "      <td>34.0</td>\n",
       "      <td>7.1</td>\n",
       "      <td>80.0</td>\n",
       "      <td>1.7</td>\n",
       "      <td>19.0</td>\n",
       "      <td>15.6</td>\n",
       "      <td>176.0</td>\n",
       "    </tr>\n",
       "    <tr>\n",
       "      <th>Basilicata</th>\n",
       "      <td>1.7</td>\n",
       "      <td>9.0</td>\n",
       "      <td>7.3</td>\n",
       "      <td>37.0</td>\n",
       "      <td>3.2</td>\n",
       "      <td>16.0</td>\n",
       "      <td>8.1</td>\n",
       "      <td>41.0</td>\n",
       "      <td>1.9</td>\n",
       "      <td>10.0</td>\n",
       "      <td>13.7</td>\n",
       "      <td>70.0</td>\n",
       "    </tr>\n",
       "    <tr>\n",
       "      <th>Bolzano / Bozen</th>\n",
       "      <td>1.1</td>\n",
       "      <td>4.0</td>\n",
       "      <td>21.2</td>\n",
       "      <td>84.0</td>\n",
       "      <td>20.2</td>\n",
       "      <td>80.0</td>\n",
       "      <td>31.4</td>\n",
       "      <td>124.0</td>\n",
       "      <td>3.4</td>\n",
       "      <td>14.0</td>\n",
       "      <td>41.0</td>\n",
       "      <td>162.0</td>\n",
       "    </tr>\n",
       "    <tr>\n",
       "      <th>Calabria</th>\n",
       "      <td>1.4</td>\n",
       "      <td>24.0</td>\n",
       "      <td>5.6</td>\n",
       "      <td>96.0</td>\n",
       "      <td>2.7</td>\n",
       "      <td>46.0</td>\n",
       "      <td>6.7</td>\n",
       "      <td>115.0</td>\n",
       "      <td>2.0</td>\n",
       "      <td>35.0</td>\n",
       "      <td>11.5</td>\n",
       "      <td>198.0</td>\n",
       "    </tr>\n",
       "    <tr>\n",
       "      <th>Campania</th>\n",
       "      <td>1.0</td>\n",
       "      <td>50.0</td>\n",
       "      <td>5.2</td>\n",
       "      <td>252.0</td>\n",
       "      <td>1.5</td>\n",
       "      <td>72.0</td>\n",
       "      <td>4.8</td>\n",
       "      <td>233.0</td>\n",
       "      <td>1.8</td>\n",
       "      <td>86.0</td>\n",
       "      <td>9.1</td>\n",
       "      <td>437.0</td>\n",
       "    </tr>\n",
       "  </tbody>\n",
       "</table>\n",
       "</div>"
      ],
      "text/plain": [
       "Tipo dato                          attività gratuita per un sindacato - per 100 persone con le stesse caratteristiche  \\\n",
       "Seleziona periodo Territorio                                                                                            \n",
       "2005              Abruzzo                                                        1.6                                    \n",
       "                  Basilicata                                                     1.7                                    \n",
       "                  Bolzano / Bozen                                                1.1                                    \n",
       "                  Calabria                                                       1.4                                    \n",
       "                  Campania                                                       1.0                                    \n",
       "\n",
       "Tipo dato                          attività gratuita per un sindacato - valori in migliaia  \\\n",
       "Seleziona periodo Territorio                                                                 \n",
       "2005              Abruzzo                                                       18.0         \n",
       "                  Basilicata                                                     9.0         \n",
       "                  Bolzano / Bozen                                                4.0         \n",
       "                  Calabria                                                      24.0         \n",
       "                  Campania                                                      50.0         \n",
       "\n",
       "Tipo dato                          attività gratuite in associazioni di volontariato - per 100 persone con le stesse caratteristiche  \\\n",
       "Seleziona periodo Territorio                                                                                                           \n",
       "2005              Abruzzo                                                        7.2                                                   \n",
       "                  Basilicata                                                     7.3                                                   \n",
       "                  Bolzano / Bozen                                               21.2                                                   \n",
       "                  Calabria                                                       5.6                                                   \n",
       "                  Campania                                                       5.2                                                   \n",
       "\n",
       "Tipo dato                          attività gratuite in associazioni di volontariato - valori in migliaia  \\\n",
       "Seleziona periodo Territorio                                                                                \n",
       "2005              Abruzzo                                                       81.0                        \n",
       "                  Basilicata                                                    37.0                        \n",
       "                  Bolzano / Bozen                                               84.0                        \n",
       "                  Calabria                                                      96.0                        \n",
       "                  Campania                                                     252.0                        \n",
       "\n",
       "Tipo dato                          attività gratuite in associazioni non di volontariato - per 100 persone con le stesse caratteristiche  \\\n",
       "Seleziona periodo Territorio                                                                                                               \n",
       "2005              Abruzzo                                                        3.0                                                       \n",
       "                  Basilicata                                                     3.2                                                       \n",
       "                  Bolzano / Bozen                                               20.2                                                       \n",
       "                  Calabria                                                       2.7                                                       \n",
       "                  Campania                                                       1.5                                                       \n",
       "\n",
       "Tipo dato                          attività gratuite in associazioni non di volontariato - valori in migliaia  \\\n",
       "Seleziona periodo Territorio                                                                                    \n",
       "2005              Abruzzo                                                       34.0                            \n",
       "                  Basilicata                                                    16.0                            \n",
       "                  Bolzano / Bozen                                               80.0                            \n",
       "                  Calabria                                                      46.0                            \n",
       "                  Campania                                                      72.0                            \n",
       "\n",
       "Tipo dato                          riunioni in associazioni culturali, ricreative o di altro tipo - per 100 persone con le stesse caratteristiche  \\\n",
       "Seleziona periodo Territorio                                                                                                                        \n",
       "2005              Abruzzo                                                        7.1                                                                \n",
       "                  Basilicata                                                     8.1                                                                \n",
       "                  Bolzano / Bozen                                               31.4                                                                \n",
       "                  Calabria                                                       6.7                                                                \n",
       "                  Campania                                                       4.8                                                                \n",
       "\n",
       "Tipo dato                          riunioni in associazioni culturali, ricreative o di altro tipo - valori in migliaia  \\\n",
       "Seleziona periodo Territorio                                                                                             \n",
       "2005              Abruzzo                                                       80.0                                     \n",
       "                  Basilicata                                                    41.0                                     \n",
       "                  Bolzano / Bozen                                              124.0                                     \n",
       "                  Calabria                                                     115.0                                     \n",
       "                  Campania                                                     233.0                                     \n",
       "\n",
       "Tipo dato                          riunioni in associazioni ecologiche, per i diritti civili, per la pace - per 100 persone con le stesse caratteristiche  \\\n",
       "Seleziona periodo Territorio                                                                                                                                \n",
       "2005              Abruzzo                                                        1.7                                                                        \n",
       "                  Basilicata                                                     1.9                                                                        \n",
       "                  Bolzano / Bozen                                                3.4                                                                        \n",
       "                  Calabria                                                       2.0                                                                        \n",
       "                  Campania                                                       1.8                                                                        \n",
       "\n",
       "Tipo dato                          riunioni in associazioni ecologiche, per i diritti civili, per la pace - valori in migliaia  \\\n",
       "Seleziona periodo Territorio                                                                                                     \n",
       "2005              Abruzzo                                                       19.0                                             \n",
       "                  Basilicata                                                    10.0                                             \n",
       "                  Bolzano / Bozen                                               14.0                                             \n",
       "                  Calabria                                                      35.0                                             \n",
       "                  Campania                                                      86.0                                             \n",
       "\n",
       "Tipo dato                          versare soldi ad un'associazione - per 100 persone con le stesse caratteristiche  \\\n",
       "Seleziona periodo Territorio                                                                                          \n",
       "2005              Abruzzo                                                       15.6                                  \n",
       "                  Basilicata                                                    13.7                                  \n",
       "                  Bolzano / Bozen                                               41.0                                  \n",
       "                  Calabria                                                      11.5                                  \n",
       "                  Campania                                                       9.1                                  \n",
       "\n",
       "Tipo dato                          versare soldi ad un'associazione - valori in migliaia  \n",
       "Seleziona periodo Territorio                                                              \n",
       "2005              Abruzzo                                                      176.0      \n",
       "                  Basilicata                                                    70.0      \n",
       "                  Bolzano / Bozen                                              162.0      \n",
       "                  Calabria                                                     198.0      \n",
       "                  Campania                                                     437.0      "
      ]
     },
     "execution_count": 38,
     "metadata": {},
     "output_type": "execute_result"
    }
   ],
   "source": [
    "social_act.head()"
   ]
  },
  {
   "cell_type": "code",
   "execution_count": 35,
   "metadata": {},
   "outputs": [],
   "source": [
    "# The the features with two different scales\n",
    "feature_scale1 = [i for i in social_act.columns.tolist() if i.split()[-1] == \"migliaia\"]\n",
    "feature_scale2 = [i for i in social_act.columns.tolist() if i not in feature_scale1]"
   ]
  },
  {
   "cell_type": "code",
   "execution_count": 38,
   "metadata": {},
   "outputs": [],
   "source": [
    "bdf.relation_plot_time_variant(social_act, feature_scale1, resident_foreigners_norm, zones_data, 45, \"Social Activities\", palette, True, \"Plots/stock_vs_social_act1_\")"
   ]
  },
  {
   "cell_type": "code",
   "execution_count": 39,
   "metadata": {},
   "outputs": [],
   "source": [
    "bdf.relation_plot_time_variant(social_act, feature_scale2, resident_foreigners_norm, zones_data, 45, \"Social Activities\", palette, True, \"Plots/stock_vs_social_act2_\")"
   ]
  },
  {
   "cell_type": "markdown",
   "metadata": {},
   "source": [
    "### Aspect of daily life - Political Information (freq)"
   ]
  },
  {
   "cell_type": "code",
   "execution_count": 39,
   "metadata": {},
   "outputs": [],
   "source": [
    "political_information = pd.read_table(\"/home/sara/Documents/Immigration/Data_not_git/Prov_info/Aspects of daily life (1)/DCCV_AVQ_PERSONE_Data_e9f78b71-f4aa-4340-828b-9ba102742fab.csv\", sep = \"\\t\")"
   ]
  },
  {
   "cell_type": "code",
   "execution_count": 40,
   "metadata": {
    "scrolled": false
   },
   "outputs": [
    {
     "name": "stdout",
     "output_type": "stream",
     "text": [
      "Classe di età {'14 anni e più'}\n",
      "Condizione e posizione nella professione {'totale'}\n",
      "Sesso {'totale'}\n",
      "Titolo di studio {'totale'}\n"
     ]
    },
    {
     "name": "stderr",
     "output_type": "stream",
     "text": [
      "/home/sara/Documents/Immigration/Shared_models/build_data_functions.py:73: FutureWarning: '.reindex_axis' is deprecated and will be removed in a future version. Use '.reindex' instead.\n",
      "  return data.reindex_axis(sorted(data.columns), axis=1)\n"
     ]
    }
   ],
   "source": [
    "political_information = bdf.re_ordering_df(political_information)\n",
    "bdf.drop_useless(political_information)"
   ]
  },
  {
   "cell_type": "code",
   "execution_count": 41,
   "metadata": {},
   "outputs": [],
   "source": [
    "political_information = political_information.replace(['Provincia Autonoma Bolzano / Bozen', 'Provincia Autonoma Trento'], ['Bolzano / Bozen', 'Trento'])"
   ]
  },
  {
   "cell_type": "code",
   "execution_count": 42,
   "metadata": {},
   "outputs": [],
   "source": [
    "political_information = bdf.filtering(political_information, \"Territorio\", interest_territories)\n",
    "political_information = bdf.filtering(political_information, \"Seleziona periodo\", years)"
   ]
  },
  {
   "cell_type": "code",
   "execution_count": 43,
   "metadata": {},
   "outputs": [
    {
     "data": {
      "text/plain": [
       "{'per 100 persone con le stesse caratteristiche', 'valori in migliaia'}"
      ]
     },
     "execution_count": 43,
     "metadata": {},
     "output_type": "execute_result"
    }
   ],
   "source": [
    "set(political_information[\"Misura\"])"
   ]
  },
  {
   "cell_type": "code",
   "execution_count": 44,
   "metadata": {},
   "outputs": [
    {
     "data": {
      "text/plain": [
       "'political_information_same_char, political_information_thousand = divide_table(political_information, \"Misura\")\\n\\npolitical_information_same_char = pivot(political_information_same_char, \"Tipo dato\", \"0  Flags\")\\npolitical_information_thousand = pivot(political_information_thousand, \"Tipo dato\", \"0  Flags\")'"
      ]
     },
     "execution_count": 44,
     "metadata": {},
     "output_type": "execute_result"
    }
   ],
   "source": [
    "'''political_information_same_char, political_information_thousand = divide_table(political_information, \"Misura\")\n",
    "\n",
    "political_information_same_char = pivot(political_information_same_char, \"Tipo dato\", \"0  Flags\")\n",
    "political_information_thousand = pivot(political_information_thousand, \"Tipo dato\", \"0  Flags\")'''"
   ]
  },
  {
   "cell_type": "code",
   "execution_count": 45,
   "metadata": {},
   "outputs": [],
   "source": [
    "political_information = bdf.differentiate_values(political_information, \"Misura\", \"Tipo dato\")\n",
    "political_information = bdf.pivot(political_information, \"Tipo dato\", \"0  Flags\")"
   ]
  },
  {
   "cell_type": "code",
   "execution_count": 46,
   "metadata": {},
   "outputs": [
    {
     "name": "stdout",
     "output_type": "stream",
     "text": [
      "[]\n"
     ]
    }
   ],
   "source": [
    "bdf.check_missing_index(political_information, years, places_to_check)"
   ]
  },
  {
   "cell_type": "code",
   "execution_count": 47,
   "metadata": {},
   "outputs": [],
   "source": [
    "bdf.check_missing(political_information)"
   ]
  },
  {
   "cell_type": "code",
   "execution_count": 50,
   "metadata": {},
   "outputs": [],
   "source": [
    "# The the features with two different scales\n",
    "feature_scale1 = [i for i in political_information.columns.tolist() if i.split()[-1] == \"migliaia\"]\n",
    "feature_scale2 = [i for i in political_information.columns.tolist() if i not in feature_scale1]"
   ]
  },
  {
   "cell_type": "code",
   "execution_count": 51,
   "metadata": {},
   "outputs": [],
   "source": [
    "bdf.relation_plot_time_variant(political_information, feature_scale1, resident_foreigners_norm, zones_data, 45, \"Political Information\", palette, True, \"Plots/stock_vs_political_info1_\")"
   ]
  },
  {
   "cell_type": "code",
   "execution_count": 52,
   "metadata": {},
   "outputs": [],
   "source": [
    "bdf.relation_plot_time_variant(political_information, feature_scale2, resident_foreigners_norm, zones_data, 45, \"Political Information\", palette, True, \"Plots/stock_vs_political_info2_\")"
   ]
  },
  {
   "cell_type": "code",
   "execution_count": 278,
   "metadata": {},
   "outputs": [],
   "source": [
    "political_information.columns = [\"political_info - \"+i for i in political_information.columns]"
   ]
  },
  {
   "cell_type": "code",
   "execution_count": 279,
   "metadata": {},
   "outputs": [
    {
     "data": {
      "text/html": [
       "<div>\n",
       "<style scoped>\n",
       "    .dataframe tbody tr th:only-of-type {\n",
       "        vertical-align: middle;\n",
       "    }\n",
       "\n",
       "    .dataframe tbody tr th {\n",
       "        vertical-align: top;\n",
       "    }\n",
       "\n",
       "    .dataframe thead th {\n",
       "        text-align: right;\n",
       "    }\n",
       "</style>\n",
       "<table border=\"1\" class=\"dataframe\">\n",
       "  <thead>\n",
       "    <tr style=\"text-align: right;\">\n",
       "      <th></th>\n",
       "      <th></th>\n",
       "      <th>political_info - mai - per 100 persone con le stesse caratteristiche</th>\n",
       "      <th>political_info - mai - valori in migliaia</th>\n",
       "      <th>political_info - qualche volta a settimana - per 100 persone con le stesse caratteristiche</th>\n",
       "      <th>political_info - qualche volta a settimana - valori in migliaia</th>\n",
       "      <th>political_info - qualche volta al mese - per 100 persone con le stesse caratteristiche</th>\n",
       "      <th>political_info - qualche volta al mese - valori in migliaia</th>\n",
       "      <th>political_info - qualche volta all'anno - per 100 persone con le stesse caratteristiche</th>\n",
       "      <th>political_info - qualche volta all'anno - valori in migliaia</th>\n",
       "      <th>political_info - tutti i giorni - per 100 persone con le stesse caratteristiche</th>\n",
       "      <th>political_info - tutti i giorni - valori in migliaia</th>\n",
       "      <th>political_info - una volta a settimana  - per 100 persone con le stesse caratteristiche</th>\n",
       "      <th>political_info - una volta a settimana  - valori in migliaia</th>\n",
       "    </tr>\n",
       "    <tr>\n",
       "      <th>Seleziona periodo</th>\n",
       "      <th>Territorio</th>\n",
       "      <th></th>\n",
       "      <th></th>\n",
       "      <th></th>\n",
       "      <th></th>\n",
       "      <th></th>\n",
       "      <th></th>\n",
       "      <th></th>\n",
       "      <th></th>\n",
       "      <th></th>\n",
       "      <th></th>\n",
       "      <th></th>\n",
       "      <th></th>\n",
       "    </tr>\n",
       "  </thead>\n",
       "  <tbody>\n",
       "    <tr>\n",
       "      <th rowspan=\"5\" valign=\"top\">2005</th>\n",
       "      <th>Abruzzo</th>\n",
       "      <td>29.3</td>\n",
       "      <td>331.0</td>\n",
       "      <td>19.0</td>\n",
       "      <td>215.0</td>\n",
       "      <td>8.3</td>\n",
       "      <td>94.0</td>\n",
       "      <td>10.2</td>\n",
       "      <td>116.0</td>\n",
       "      <td>28.9</td>\n",
       "      <td>326.0</td>\n",
       "      <td>3.0</td>\n",
       "      <td>34.0</td>\n",
       "    </tr>\n",
       "    <tr>\n",
       "      <th>Basilicata</th>\n",
       "      <td>30.1</td>\n",
       "      <td>154.0</td>\n",
       "      <td>16.6</td>\n",
       "      <td>85.0</td>\n",
       "      <td>12.9</td>\n",
       "      <td>66.0</td>\n",
       "      <td>13.6</td>\n",
       "      <td>70.0</td>\n",
       "      <td>21.8</td>\n",
       "      <td>112.0</td>\n",
       "      <td>2.8</td>\n",
       "      <td>14.0</td>\n",
       "    </tr>\n",
       "    <tr>\n",
       "      <th>Bolzano / Bozen</th>\n",
       "      <td>14.9</td>\n",
       "      <td>59.0</td>\n",
       "      <td>21.0</td>\n",
       "      <td>83.0</td>\n",
       "      <td>10.8</td>\n",
       "      <td>43.0</td>\n",
       "      <td>9.1</td>\n",
       "      <td>36.0</td>\n",
       "      <td>35.7</td>\n",
       "      <td>141.0</td>\n",
       "      <td>6.3</td>\n",
       "      <td>25.0</td>\n",
       "    </tr>\n",
       "    <tr>\n",
       "      <th>Calabria</th>\n",
       "      <td>29.7</td>\n",
       "      <td>508.0</td>\n",
       "      <td>16.0</td>\n",
       "      <td>275.0</td>\n",
       "      <td>10.0</td>\n",
       "      <td>172.0</td>\n",
       "      <td>12.5</td>\n",
       "      <td>214.0</td>\n",
       "      <td>26.2</td>\n",
       "      <td>448.0</td>\n",
       "      <td>3.1</td>\n",
       "      <td>52.0</td>\n",
       "    </tr>\n",
       "    <tr>\n",
       "      <th>Campania</th>\n",
       "      <td>33.8</td>\n",
       "      <td>1628.0</td>\n",
       "      <td>18.8</td>\n",
       "      <td>907.0</td>\n",
       "      <td>9.9</td>\n",
       "      <td>479.0</td>\n",
       "      <td>9.2</td>\n",
       "      <td>443.0</td>\n",
       "      <td>22.8</td>\n",
       "      <td>1096.0</td>\n",
       "      <td>4.0</td>\n",
       "      <td>192.0</td>\n",
       "    </tr>\n",
       "  </tbody>\n",
       "</table>\n",
       "</div>"
      ],
      "text/plain": [
       "                                   political_info - mai - per 100 persone con le stesse caratteristiche  \\\n",
       "Seleziona periodo Territorio                                                                              \n",
       "2005              Abruzzo                                                       29.3                      \n",
       "                  Basilicata                                                    30.1                      \n",
       "                  Bolzano / Bozen                                               14.9                      \n",
       "                  Calabria                                                      29.7                      \n",
       "                  Campania                                                      33.8                      \n",
       "\n",
       "                                   political_info - mai - valori in migliaia  \\\n",
       "Seleziona periodo Territorio                                                   \n",
       "2005              Abruzzo                                              331.0   \n",
       "                  Basilicata                                           154.0   \n",
       "                  Bolzano / Bozen                                       59.0   \n",
       "                  Calabria                                             508.0   \n",
       "                  Campania                                            1628.0   \n",
       "\n",
       "                                   political_info - qualche volta a settimana - per 100 persone con le stesse caratteristiche  \\\n",
       "Seleziona periodo Territorio                                                                                                    \n",
       "2005              Abruzzo                                                       19.0                                            \n",
       "                  Basilicata                                                    16.6                                            \n",
       "                  Bolzano / Bozen                                               21.0                                            \n",
       "                  Calabria                                                      16.0                                            \n",
       "                  Campania                                                      18.8                                            \n",
       "\n",
       "                                   political_info - qualche volta a settimana - valori in migliaia  \\\n",
       "Seleziona periodo Territorio                                                                         \n",
       "2005              Abruzzo                                                      215.0                 \n",
       "                  Basilicata                                                    85.0                 \n",
       "                  Bolzano / Bozen                                               83.0                 \n",
       "                  Calabria                                                     275.0                 \n",
       "                  Campania                                                     907.0                 \n",
       "\n",
       "                                   political_info - qualche volta al mese - per 100 persone con le stesse caratteristiche  \\\n",
       "Seleziona periodo Territorio                                                                                                \n",
       "2005              Abruzzo                                                        8.3                                        \n",
       "                  Basilicata                                                    12.9                                        \n",
       "                  Bolzano / Bozen                                               10.8                                        \n",
       "                  Calabria                                                      10.0                                        \n",
       "                  Campania                                                       9.9                                        \n",
       "\n",
       "                                   political_info - qualche volta al mese - valori in migliaia  \\\n",
       "Seleziona periodo Territorio                                                                     \n",
       "2005              Abruzzo                                                       94.0             \n",
       "                  Basilicata                                                    66.0             \n",
       "                  Bolzano / Bozen                                               43.0             \n",
       "                  Calabria                                                     172.0             \n",
       "                  Campania                                                     479.0             \n",
       "\n",
       "                                   political_info - qualche volta all'anno - per 100 persone con le stesse caratteristiche  \\\n",
       "Seleziona periodo Territorio                                                                                                 \n",
       "2005              Abruzzo                                                       10.2                                         \n",
       "                  Basilicata                                                    13.6                                         \n",
       "                  Bolzano / Bozen                                                9.1                                         \n",
       "                  Calabria                                                      12.5                                         \n",
       "                  Campania                                                       9.2                                         \n",
       "\n",
       "                                   political_info - qualche volta all'anno - valori in migliaia  \\\n",
       "Seleziona periodo Territorio                                                                      \n",
       "2005              Abruzzo                                                      116.0              \n",
       "                  Basilicata                                                    70.0              \n",
       "                  Bolzano / Bozen                                               36.0              \n",
       "                  Calabria                                                     214.0              \n",
       "                  Campania                                                     443.0              \n",
       "\n",
       "                                   political_info - tutti i giorni - per 100 persone con le stesse caratteristiche  \\\n",
       "Seleziona periodo Territorio                                                                                         \n",
       "2005              Abruzzo                                                       28.9                                 \n",
       "                  Basilicata                                                    21.8                                 \n",
       "                  Bolzano / Bozen                                               35.7                                 \n",
       "                  Calabria                                                      26.2                                 \n",
       "                  Campania                                                      22.8                                 \n",
       "\n",
       "                                   political_info - tutti i giorni - valori in migliaia  \\\n",
       "Seleziona periodo Territorio                                                              \n",
       "2005              Abruzzo                                                      326.0      \n",
       "                  Basilicata                                                   112.0      \n",
       "                  Bolzano / Bozen                                              141.0      \n",
       "                  Calabria                                                     448.0      \n",
       "                  Campania                                                    1096.0      \n",
       "\n",
       "                                   political_info - una volta a settimana  - per 100 persone con le stesse caratteristiche  \\\n",
       "Seleziona periodo Territorio                                                                                                 \n",
       "2005              Abruzzo                                                        3.0                                         \n",
       "                  Basilicata                                                     2.8                                         \n",
       "                  Bolzano / Bozen                                                6.3                                         \n",
       "                  Calabria                                                       3.1                                         \n",
       "                  Campania                                                       4.0                                         \n",
       "\n",
       "                                   political_info - una volta a settimana  - valori in migliaia  \n",
       "Seleziona periodo Territorio                                                                     \n",
       "2005              Abruzzo                                                       34.0             \n",
       "                  Basilicata                                                    14.0             \n",
       "                  Bolzano / Bozen                                               25.0             \n",
       "                  Calabria                                                      52.0             \n",
       "                  Campania                                                     192.0             "
      ]
     },
     "execution_count": 279,
     "metadata": {},
     "output_type": "execute_result"
    }
   ],
   "source": [
    "political_information.head()"
   ]
  },
  {
   "cell_type": "markdown",
   "metadata": {},
   "source": [
    "### Consumption Expenditure (ECoicop)"
   ]
  },
  {
   "cell_type": "code",
   "execution_count": 49,
   "metadata": {},
   "outputs": [],
   "source": [
    "consumption_expenditure = pd.read_table(\"/home/sara/Documents/Immigration/Data_not_git/Prov_info/Consumption expenditure/DCCV_SPEMEFAM_Data_a2f1960e-bec3-489b-8648-900273d1fc5f.csv\", sep = \"\\t\")"
   ]
  },
  {
   "cell_type": "code",
   "execution_count": 50,
   "metadata": {},
   "outputs": [
    {
     "name": "stdout",
     "output_type": "stream",
     "text": [
      "Abitudine di spesa {'tutte le voci'}\n",
      "Ampiezza familiare {'totale'}\n",
      "Condizione professionale della persona di riferimento {'tutte le voci'}\n",
      "Gruppo di spesa {'tutte le voci'}\n",
      "Quantili di spesa totale equivalente {'tutte le voci'}\n",
      "Tipo dato {'spesa media mensile familiare (in euro correnti)'}\n",
      "Tipologia familiare {'totale famiglie'}\n",
      "Titolo di studio più elevato conseguito dalla persona di riferimento {'totale'}\n"
     ]
    },
    {
     "name": "stderr",
     "output_type": "stream",
     "text": [
      "/home/sara/Documents/Immigration/Shared_models/build_data_functions.py:73: FutureWarning: '.reindex_axis' is deprecated and will be removed in a future version. Use '.reindex' instead.\n",
      "  return data.reindex_axis(sorted(data.columns), axis=1)\n"
     ]
    }
   ],
   "source": [
    "consumption_expenditure = bdf.re_ordering_df(consumption_expenditure)\n",
    "bdf.drop_useless(consumption_expenditure)"
   ]
  },
  {
   "cell_type": "code",
   "execution_count": 51,
   "metadata": {},
   "outputs": [],
   "source": [
    "consumption_expenditure = consumption_expenditure.replace(['Provincia Autonoma Bolzano / Bozen', 'Provincia Autonoma Trento'], ['Bolzano / Bozen', 'Trento'])"
   ]
  },
  {
   "cell_type": "code",
   "execution_count": 52,
   "metadata": {},
   "outputs": [],
   "source": [
    "consumption_expenditure = bdf.filtering(consumption_expenditure, \"Territorio\", interest_territories)\n",
    "consumption_expenditure = bdf.filtering(consumption_expenditure, \"Seleziona periodo\", years)"
   ]
  },
  {
   "cell_type": "code",
   "execution_count": 53,
   "metadata": {},
   "outputs": [],
   "source": [
    "consumption_expenditure = bdf.pivot(consumption_expenditure, \"Coicop\", \"0  Flags\")"
   ]
  },
  {
   "cell_type": "code",
   "execution_count": 54,
   "metadata": {},
   "outputs": [],
   "source": [
    "bdf.del_missing(consumption_expenditure)"
   ]
  },
  {
   "cell_type": "code",
   "execution_count": 55,
   "metadata": {},
   "outputs": [
    {
     "name": "stdout",
     "output_type": "stream",
     "text": [
      "[]\n"
     ]
    }
   ],
   "source": [
    "bdf.check_missing_index(consumption_expenditure, years, places_to_check)"
   ]
  },
  {
   "cell_type": "code",
   "execution_count": 56,
   "metadata": {},
   "outputs": [],
   "source": [
    "bdf.check_missing(consumption_expenditure)"
   ]
  },
  {
   "cell_type": "code",
   "execution_count": 57,
   "metadata": {},
   "outputs": [],
   "source": [
    "consumption_expenditure.columns = [i.split(\"-- \")[-1] for i in consumption_expenditure.columns.tolist()]"
   ]
  },
  {
   "cell_type": "code",
   "execution_count": 58,
   "metadata": {},
   "outputs": [
    {
     "data": {
      "text/html": [
       "<div>\n",
       "<style scoped>\n",
       "    .dataframe tbody tr th:only-of-type {\n",
       "        vertical-align: middle;\n",
       "    }\n",
       "\n",
       "    .dataframe tbody tr th {\n",
       "        vertical-align: top;\n",
       "    }\n",
       "\n",
       "    .dataframe thead th {\n",
       "        text-align: right;\n",
       "    }\n",
       "</style>\n",
       "<table border=\"1\" class=\"dataframe\">\n",
       "  <thead>\n",
       "    <tr style=\"text-align: right;\">\n",
       "      <th></th>\n",
       "      <th></th>\n",
       "      <th>abbigliamento e calzature</th>\n",
       "      <th>abitazione, acqua, elettricità, gas e altri combustibili</th>\n",
       "      <th>altri beni e servizi</th>\n",
       "      <th>bevande alcoliche e tabacchi</th>\n",
       "      <th>comunicazioni</th>\n",
       "      <th>istruzione</th>\n",
       "      <th>mobili, articoli e servizi per la casa</th>\n",
       "      <th>prodotti alimentari e bevande analcoliche</th>\n",
       "      <th>ricreazione, spettacoli e cultura</th>\n",
       "      <th>servizi ricettivi e di ristorazione</th>\n",
       "      <th>servizi sanitari e spese per la salute</th>\n",
       "      <th>trasporti</th>\n",
       "      <th>non alimentari</th>\n",
       "      <th>totale</th>\n",
       "    </tr>\n",
       "    <tr>\n",
       "      <th>Seleziona periodo</th>\n",
       "      <th>Territorio</th>\n",
       "      <th></th>\n",
       "      <th></th>\n",
       "      <th></th>\n",
       "      <th></th>\n",
       "      <th></th>\n",
       "      <th></th>\n",
       "      <th></th>\n",
       "      <th></th>\n",
       "      <th></th>\n",
       "      <th></th>\n",
       "      <th></th>\n",
       "      <th></th>\n",
       "      <th></th>\n",
       "      <th></th>\n",
       "    </tr>\n",
       "  </thead>\n",
       "  <tbody>\n",
       "    <tr>\n",
       "      <th rowspan=\"5\" valign=\"top\">2005</th>\n",
       "      <th>Abruzzo</th>\n",
       "      <td>210.04</td>\n",
       "      <td>665.71</td>\n",
       "      <td>190.85</td>\n",
       "      <td>40.03</td>\n",
       "      <td>74.40</td>\n",
       "      <td>10.63</td>\n",
       "      <td>84.28</td>\n",
       "      <td>413.62</td>\n",
       "      <td>121.24</td>\n",
       "      <td>58.80</td>\n",
       "      <td>98.26</td>\n",
       "      <td>226.89</td>\n",
       "      <td>1781.13</td>\n",
       "      <td>2194.75</td>\n",
       "    </tr>\n",
       "    <tr>\n",
       "      <th>Basilicata</th>\n",
       "      <td>150.47</td>\n",
       "      <td>543.26</td>\n",
       "      <td>115.90</td>\n",
       "      <td>40.70</td>\n",
       "      <td>72.80</td>\n",
       "      <td>6.36</td>\n",
       "      <td>118.99</td>\n",
       "      <td>454.22</td>\n",
       "      <td>77.30</td>\n",
       "      <td>66.07</td>\n",
       "      <td>72.42</td>\n",
       "      <td>286.85</td>\n",
       "      <td>1551.12</td>\n",
       "      <td>2005.34</td>\n",
       "    </tr>\n",
       "    <tr>\n",
       "      <th>Bolzano / Bozen</th>\n",
       "      <td>145.15</td>\n",
       "      <td>1028.06</td>\n",
       "      <td>286.79</td>\n",
       "      <td>40.47</td>\n",
       "      <td>102.09</td>\n",
       "      <td>8.24</td>\n",
       "      <td>143.09</td>\n",
       "      <td>546.00</td>\n",
       "      <td>225.94</td>\n",
       "      <td>217.91</td>\n",
       "      <td>194.45</td>\n",
       "      <td>418.86</td>\n",
       "      <td>2811.05</td>\n",
       "      <td>3357.05</td>\n",
       "    </tr>\n",
       "    <tr>\n",
       "      <th>Calabria</th>\n",
       "      <td>138.29</td>\n",
       "      <td>509.04</td>\n",
       "      <td>188.66</td>\n",
       "      <td>42.42</td>\n",
       "      <td>95.49</td>\n",
       "      <td>6.40</td>\n",
       "      <td>147.76</td>\n",
       "      <td>466.01</td>\n",
       "      <td>132.75</td>\n",
       "      <td>56.75</td>\n",
       "      <td>102.85</td>\n",
       "      <td>243.06</td>\n",
       "      <td>1663.47</td>\n",
       "      <td>2129.48</td>\n",
       "    </tr>\n",
       "    <tr>\n",
       "      <th>Campania</th>\n",
       "      <td>151.79</td>\n",
       "      <td>641.01</td>\n",
       "      <td>134.94</td>\n",
       "      <td>43.75</td>\n",
       "      <td>67.67</td>\n",
       "      <td>7.36</td>\n",
       "      <td>120.27</td>\n",
       "      <td>437.91</td>\n",
       "      <td>119.36</td>\n",
       "      <td>70.34</td>\n",
       "      <td>61.80</td>\n",
       "      <td>148.75</td>\n",
       "      <td>1567.04</td>\n",
       "      <td>2004.95</td>\n",
       "    </tr>\n",
       "  </tbody>\n",
       "</table>\n",
       "</div>"
      ],
      "text/plain": [
       "                                   abbigliamento e calzature  \\\n",
       "Seleziona periodo Territorio                                   \n",
       "2005              Abruzzo                             210.04   \n",
       "                  Basilicata                          150.47   \n",
       "                  Bolzano / Bozen                     145.15   \n",
       "                  Calabria                            138.29   \n",
       "                  Campania                            151.79   \n",
       "\n",
       "                                   abitazione, acqua, elettricità, gas e altri combustibili  \\\n",
       "Seleziona periodo Territorio                                                                  \n",
       "2005              Abruzzo                                                     665.71          \n",
       "                  Basilicata                                                  543.26          \n",
       "                  Bolzano / Bozen                                            1028.06          \n",
       "                  Calabria                                                    509.04          \n",
       "                  Campania                                                    641.01          \n",
       "\n",
       "                                   altri beni e servizi  \\\n",
       "Seleziona periodo Territorio                              \n",
       "2005              Abruzzo                        190.85   \n",
       "                  Basilicata                     115.90   \n",
       "                  Bolzano / Bozen                286.79   \n",
       "                  Calabria                       188.66   \n",
       "                  Campania                       134.94   \n",
       "\n",
       "                                   bevande alcoliche e tabacchi  \\\n",
       "Seleziona periodo Territorio                                      \n",
       "2005              Abruzzo                                 40.03   \n",
       "                  Basilicata                              40.70   \n",
       "                  Bolzano / Bozen                         40.47   \n",
       "                  Calabria                                42.42   \n",
       "                  Campania                                43.75   \n",
       "\n",
       "                                   comunicazioni  istruzione  \\\n",
       "Seleziona periodo Territorio                                   \n",
       "2005              Abruzzo                  74.40       10.63   \n",
       "                  Basilicata               72.80        6.36   \n",
       "                  Bolzano / Bozen         102.09        8.24   \n",
       "                  Calabria                 95.49        6.40   \n",
       "                  Campania                 67.67        7.36   \n",
       "\n",
       "                                   mobili, articoli e servizi per la casa  \\\n",
       "Seleziona periodo Territorio                                                \n",
       "2005              Abruzzo                                           84.28   \n",
       "                  Basilicata                                       118.99   \n",
       "                  Bolzano / Bozen                                  143.09   \n",
       "                  Calabria                                         147.76   \n",
       "                  Campania                                         120.27   \n",
       "\n",
       "                                   prodotti alimentari e bevande analcoliche  \\\n",
       "Seleziona periodo Territorio                                                   \n",
       "2005              Abruzzo                                             413.62   \n",
       "                  Basilicata                                          454.22   \n",
       "                  Bolzano / Bozen                                     546.00   \n",
       "                  Calabria                                            466.01   \n",
       "                  Campania                                            437.91   \n",
       "\n",
       "                                   ricreazione, spettacoli e cultura  \\\n",
       "Seleziona periodo Territorio                                           \n",
       "2005              Abruzzo                                     121.24   \n",
       "                  Basilicata                                   77.30   \n",
       "                  Bolzano / Bozen                             225.94   \n",
       "                  Calabria                                    132.75   \n",
       "                  Campania                                    119.36   \n",
       "\n",
       "                                   servizi ricettivi e di ristorazione  \\\n",
       "Seleziona periodo Territorio                                             \n",
       "2005              Abruzzo                                        58.80   \n",
       "                  Basilicata                                     66.07   \n",
       "                  Bolzano / Bozen                               217.91   \n",
       "                  Calabria                                       56.75   \n",
       "                  Campania                                       70.34   \n",
       "\n",
       "                                   servizi sanitari e spese per la salute  \\\n",
       "Seleziona periodo Territorio                                                \n",
       "2005              Abruzzo                                           98.26   \n",
       "                  Basilicata                                        72.42   \n",
       "                  Bolzano / Bozen                                  194.45   \n",
       "                  Calabria                                         102.85   \n",
       "                  Campania                                          61.80   \n",
       "\n",
       "                                   trasporti  non alimentari   totale  \n",
       "Seleziona periodo Territorio                                           \n",
       "2005              Abruzzo             226.89         1781.13  2194.75  \n",
       "                  Basilicata          286.85         1551.12  2005.34  \n",
       "                  Bolzano / Bozen     418.86         2811.05  3357.05  \n",
       "                  Calabria            243.06         1663.47  2129.48  \n",
       "                  Campania            148.75         1567.04  2004.95  "
      ]
     },
     "execution_count": 58,
     "metadata": {},
     "output_type": "execute_result"
    }
   ],
   "source": [
    "consumption_expenditure.head()"
   ]
  },
  {
   "cell_type": "code",
   "execution_count": 62,
   "metadata": {
    "collapsed": true
   },
   "outputs": [
    {
     "ename": "KeyError",
     "evalue": "'the label [Nord-est] is not in the [index]'",
     "output_type": "error",
     "traceback": [
      "\u001b[0;31m---------------------------------------------------------------------------\u001b[0m",
      "\u001b[0;31mKeyError\u001b[0m                                  Traceback (most recent call last)",
      "\u001b[0;32m~/myenv/lib64/python3.6/site-packages/pandas/core/indexing.py\u001b[0m in \u001b[0;36m_has_valid_type\u001b[0;34m(self, key, axis)\u001b[0m\n\u001b[1;32m   1433\u001b[0m                 \u001b[0;32mif\u001b[0m \u001b[0;32mnot\u001b[0m \u001b[0max\u001b[0m\u001b[0;34m.\u001b[0m\u001b[0mcontains\u001b[0m\u001b[0;34m(\u001b[0m\u001b[0mkey\u001b[0m\u001b[0;34m)\u001b[0m\u001b[0;34m:\u001b[0m\u001b[0;34m\u001b[0m\u001b[0m\n\u001b[0;32m-> 1434\u001b[0;31m                     \u001b[0merror\u001b[0m\u001b[0;34m(\u001b[0m\u001b[0;34m)\u001b[0m\u001b[0;34m\u001b[0m\u001b[0m\n\u001b[0m\u001b[1;32m   1435\u001b[0m             \u001b[0;32mexcept\u001b[0m \u001b[0mTypeError\u001b[0m \u001b[0;32mas\u001b[0m \u001b[0me\u001b[0m\u001b[0;34m:\u001b[0m\u001b[0;34m\u001b[0m\u001b[0m\n",
      "\u001b[0;32m~/myenv/lib64/python3.6/site-packages/pandas/core/indexing.py\u001b[0m in \u001b[0;36merror\u001b[0;34m()\u001b[0m\n\u001b[1;32m   1428\u001b[0m                 raise KeyError(\"the label [%s] is not in the [%s]\" %\n\u001b[0;32m-> 1429\u001b[0;31m                                (key, self.obj._get_axis_name(axis)))\n\u001b[0m\u001b[1;32m   1430\u001b[0m \u001b[0;34m\u001b[0m\u001b[0m\n",
      "\u001b[0;31mKeyError\u001b[0m: 'the label [Nord-est] is not in the [index]'",
      "\nDuring handling of the above exception, another exception occurred:\n",
      "\u001b[0;31mKeyError\u001b[0m                                  Traceback (most recent call last)",
      "\u001b[0;32m<ipython-input-62-863096eb6382>\u001b[0m in \u001b[0;36m<module>\u001b[0;34m()\u001b[0m\n\u001b[0;32m----> 1\u001b[0;31m \u001b[0mbdf\u001b[0m\u001b[0;34m.\u001b[0m\u001b[0mrelation_plot_time_variant\u001b[0m\u001b[0;34m(\u001b[0m\u001b[0mconsumption_expenditure\u001b[0m\u001b[0;34m,\u001b[0m \u001b[0mconsumption_expenditure\u001b[0m\u001b[0;34m.\u001b[0m\u001b[0mcolumns\u001b[0m\u001b[0;34m.\u001b[0m\u001b[0mtolist\u001b[0m\u001b[0;34m(\u001b[0m\u001b[0;34m)\u001b[0m\u001b[0;34m,\u001b[0m \u001b[0mresident_foreigners_norm\u001b[0m\u001b[0;34m,\u001b[0m \u001b[0mzones_data\u001b[0m\u001b[0;34m,\u001b[0m \u001b[0;36m45\u001b[0m\u001b[0;34m,\u001b[0m \u001b[0;34m\"Consumption Expenditure\"\u001b[0m\u001b[0;34m,\u001b[0m \u001b[0mpalette\u001b[0m\u001b[0;34m,\u001b[0m \u001b[0;32mTrue\u001b[0m\u001b[0;34m,\u001b[0m \u001b[0;34m\"Plots/stock_vs_consumption_expend_\"\u001b[0m\u001b[0;34m)\u001b[0m\u001b[0;34m\u001b[0m\u001b[0m\n\u001b[0m",
      "\u001b[0;32m~/Documents/Immigration/Shared_models/build_data_functions.py\u001b[0m in \u001b[0;36mrelation_plot_time_variant\u001b[0;34m(data_, cols, y, zones_data, rot, title, palette, save, path, sub_iteration)\u001b[0m\n\u001b[1;32m    219\u001b[0m     \u001b[0mfig\u001b[0m \u001b[0;34m=\u001b[0m \u001b[0mplt\u001b[0m\u001b[0;34m.\u001b[0m\u001b[0mfigure\u001b[0m\u001b[0;34m(\u001b[0m\u001b[0;36m1\u001b[0m\u001b[0;34m,\u001b[0m \u001b[0mfigsize\u001b[0m\u001b[0;34m=\u001b[0m\u001b[0;34m(\u001b[0m\u001b[0;36m15\u001b[0m\u001b[0;34m,\u001b[0m\u001b[0;36m10\u001b[0m\u001b[0;34m)\u001b[0m\u001b[0;34m)\u001b[0m\u001b[0;34m\u001b[0m\u001b[0m\n\u001b[1;32m    220\u001b[0m \u001b[0;34m\u001b[0m\u001b[0m\n\u001b[0;32m--> 221\u001b[0;31m     \u001b[0mrelation_plot_time_variant_intern_function\u001b[0m\u001b[0;34m(\u001b[0m\u001b[0mdata_\u001b[0m\u001b[0;34m,\u001b[0m \u001b[0mterritories\u001b[0m\u001b[0;34m,\u001b[0m \u001b[0mtime_idx\u001b[0m\u001b[0;34m,\u001b[0m \u001b[0mcols\u001b[0m\u001b[0;34m,\u001b[0m \u001b[0my_grouped\u001b[0m\u001b[0;34m,\u001b[0m \u001b[0mfig\u001b[0m\u001b[0;34m,\u001b[0m \u001b[0;36m231\u001b[0m\u001b[0;34m,\u001b[0m \u001b[0mrot\u001b[0m\u001b[0;34m,\u001b[0m \u001b[0mpalette\u001b[0m\u001b[0;34m,\u001b[0m \u001b[0;34m\"Immigrant Stock VS \"\u001b[0m\u001b[0;34m+\u001b[0m\u001b[0mtitle\u001b[0m\u001b[0;34m+\u001b[0m\u001b[0;34m\" in Italian Zones\"\u001b[0m\u001b[0;34m,\u001b[0m \u001b[0msave\u001b[0m\u001b[0;34m,\u001b[0m \u001b[0mpath\u001b[0m\u001b[0;34m+\u001b[0m\u001b[0;34m\"zones\"\u001b[0m\u001b[0;34m)\u001b[0m\u001b[0;34m\u001b[0m\u001b[0m\n\u001b[0m\u001b[1;32m    222\u001b[0m \u001b[0;34m\u001b[0m\u001b[0m\n\u001b[1;32m    223\u001b[0m     \u001b[0;32mif\u001b[0m \u001b[0msub_iteration\u001b[0m\u001b[0;34m:\u001b[0m\u001b[0;34m\u001b[0m\u001b[0m\n",
      "\u001b[0;32m~/Documents/Immigration/Shared_models/build_data_functions.py\u001b[0m in \u001b[0;36mrelation_plot_time_variant_intern_function\u001b[0;34m(data_, temp_territories, time_idx, cols, y, fig, plt_seed, rot, palette, title, save, path)\u001b[0m\n\u001b[1;32m    178\u001b[0m         \u001b[0max2\u001b[0m \u001b[0;34m=\u001b[0m \u001b[0max\u001b[0m\u001b[0;34m.\u001b[0m\u001b[0mtwinx\u001b[0m\u001b[0;34m(\u001b[0m\u001b[0;34m)\u001b[0m\u001b[0;34m\u001b[0m\u001b[0m\n\u001b[1;32m    179\u001b[0m         \u001b[0;32mfor\u001b[0m \u001b[0mc\u001b[0m \u001b[0;32min\u001b[0m \u001b[0mcols\u001b[0m\u001b[0;34m:\u001b[0m\u001b[0;34m\u001b[0m\u001b[0m\n\u001b[0;32m--> 180\u001b[0;31m             \u001b[0mx_i\u001b[0m \u001b[0;34m=\u001b[0m \u001b[0;34m[\u001b[0m\u001b[0mdata_\u001b[0m\u001b[0;34m.\u001b[0m\u001b[0mloc\u001b[0m\u001b[0;34m[\u001b[0m\u001b[0mt\u001b[0m\u001b[0;34m]\u001b[0m\u001b[0;34m.\u001b[0m\u001b[0mloc\u001b[0m\u001b[0;34m[\u001b[0m\u001b[0mr\u001b[0m\u001b[0;34m]\u001b[0m\u001b[0;34m[\u001b[0m\u001b[0mc\u001b[0m\u001b[0;34m]\u001b[0m \u001b[0;32mfor\u001b[0m \u001b[0mt\u001b[0m \u001b[0;32min\u001b[0m \u001b[0mtime_idx\u001b[0m\u001b[0;34m]\u001b[0m\u001b[0;34m\u001b[0m\u001b[0m\n\u001b[0m\u001b[1;32m    181\u001b[0m             \u001b[0;31m# Color - always +1 because the first color is for the real value (ax)\u001b[0m\u001b[0;34m\u001b[0m\u001b[0;34m\u001b[0m\u001b[0m\n\u001b[1;32m    182\u001b[0m             \u001b[0max2\u001b[0m \u001b[0;34m=\u001b[0m \u001b[0msns\u001b[0m\u001b[0;34m.\u001b[0m\u001b[0mpointplot\u001b[0m\u001b[0;34m(\u001b[0m\u001b[0my\u001b[0m \u001b[0;34m=\u001b[0m \u001b[0mx_i\u001b[0m\u001b[0;34m,\u001b[0m \u001b[0mx\u001b[0m \u001b[0;34m=\u001b[0m \u001b[0mtime_idx\u001b[0m\u001b[0;34m,\u001b[0m \u001b[0mcolor\u001b[0m \u001b[0;34m=\u001b[0m \u001b[0mpalette\u001b[0m\u001b[0;34m[\u001b[0m\u001b[0mcols\u001b[0m\u001b[0;34m.\u001b[0m\u001b[0mindex\u001b[0m\u001b[0;34m(\u001b[0m\u001b[0mc\u001b[0m\u001b[0;34m)\u001b[0m\u001b[0;34m+\u001b[0m\u001b[0;36m1\u001b[0m\u001b[0;34m]\u001b[0m\u001b[0;34m)\u001b[0m\u001b[0;34m\u001b[0m\u001b[0m\n",
      "\u001b[0;32m~/Documents/Immigration/Shared_models/build_data_functions.py\u001b[0m in \u001b[0;36m<listcomp>\u001b[0;34m(.0)\u001b[0m\n\u001b[1;32m    178\u001b[0m         \u001b[0max2\u001b[0m \u001b[0;34m=\u001b[0m \u001b[0max\u001b[0m\u001b[0;34m.\u001b[0m\u001b[0mtwinx\u001b[0m\u001b[0;34m(\u001b[0m\u001b[0;34m)\u001b[0m\u001b[0;34m\u001b[0m\u001b[0m\n\u001b[1;32m    179\u001b[0m         \u001b[0;32mfor\u001b[0m \u001b[0mc\u001b[0m \u001b[0;32min\u001b[0m \u001b[0mcols\u001b[0m\u001b[0;34m:\u001b[0m\u001b[0;34m\u001b[0m\u001b[0m\n\u001b[0;32m--> 180\u001b[0;31m             \u001b[0mx_i\u001b[0m \u001b[0;34m=\u001b[0m \u001b[0;34m[\u001b[0m\u001b[0mdata_\u001b[0m\u001b[0;34m.\u001b[0m\u001b[0mloc\u001b[0m\u001b[0;34m[\u001b[0m\u001b[0mt\u001b[0m\u001b[0;34m]\u001b[0m\u001b[0;34m.\u001b[0m\u001b[0mloc\u001b[0m\u001b[0;34m[\u001b[0m\u001b[0mr\u001b[0m\u001b[0;34m]\u001b[0m\u001b[0;34m[\u001b[0m\u001b[0mc\u001b[0m\u001b[0;34m]\u001b[0m \u001b[0;32mfor\u001b[0m \u001b[0mt\u001b[0m \u001b[0;32min\u001b[0m \u001b[0mtime_idx\u001b[0m\u001b[0;34m]\u001b[0m\u001b[0;34m\u001b[0m\u001b[0m\n\u001b[0m\u001b[1;32m    181\u001b[0m             \u001b[0;31m# Color - always +1 because the first color is for the real value (ax)\u001b[0m\u001b[0;34m\u001b[0m\u001b[0;34m\u001b[0m\u001b[0m\n\u001b[1;32m    182\u001b[0m             \u001b[0max2\u001b[0m \u001b[0;34m=\u001b[0m \u001b[0msns\u001b[0m\u001b[0;34m.\u001b[0m\u001b[0mpointplot\u001b[0m\u001b[0;34m(\u001b[0m\u001b[0my\u001b[0m \u001b[0;34m=\u001b[0m \u001b[0mx_i\u001b[0m\u001b[0;34m,\u001b[0m \u001b[0mx\u001b[0m \u001b[0;34m=\u001b[0m \u001b[0mtime_idx\u001b[0m\u001b[0;34m,\u001b[0m \u001b[0mcolor\u001b[0m \u001b[0;34m=\u001b[0m \u001b[0mpalette\u001b[0m\u001b[0;34m[\u001b[0m\u001b[0mcols\u001b[0m\u001b[0;34m.\u001b[0m\u001b[0mindex\u001b[0m\u001b[0;34m(\u001b[0m\u001b[0mc\u001b[0m\u001b[0;34m)\u001b[0m\u001b[0;34m+\u001b[0m\u001b[0;36m1\u001b[0m\u001b[0;34m]\u001b[0m\u001b[0;34m)\u001b[0m\u001b[0;34m\u001b[0m\u001b[0m\n",
      "\u001b[0;32m~/myenv/lib64/python3.6/site-packages/pandas/core/indexing.py\u001b[0m in \u001b[0;36m__getitem__\u001b[0;34m(self, key)\u001b[0m\n\u001b[1;32m   1326\u001b[0m         \u001b[0;32melse\u001b[0m\u001b[0;34m:\u001b[0m\u001b[0;34m\u001b[0m\u001b[0m\n\u001b[1;32m   1327\u001b[0m             \u001b[0mkey\u001b[0m \u001b[0;34m=\u001b[0m \u001b[0mcom\u001b[0m\u001b[0;34m.\u001b[0m\u001b[0m_apply_if_callable\u001b[0m\u001b[0;34m(\u001b[0m\u001b[0mkey\u001b[0m\u001b[0;34m,\u001b[0m \u001b[0mself\u001b[0m\u001b[0;34m.\u001b[0m\u001b[0mobj\u001b[0m\u001b[0;34m)\u001b[0m\u001b[0;34m\u001b[0m\u001b[0m\n\u001b[0;32m-> 1328\u001b[0;31m             \u001b[0;32mreturn\u001b[0m \u001b[0mself\u001b[0m\u001b[0;34m.\u001b[0m\u001b[0m_getitem_axis\u001b[0m\u001b[0;34m(\u001b[0m\u001b[0mkey\u001b[0m\u001b[0;34m,\u001b[0m \u001b[0maxis\u001b[0m\u001b[0;34m=\u001b[0m\u001b[0;36m0\u001b[0m\u001b[0;34m)\u001b[0m\u001b[0;34m\u001b[0m\u001b[0m\n\u001b[0m\u001b[1;32m   1329\u001b[0m \u001b[0;34m\u001b[0m\u001b[0m\n\u001b[1;32m   1330\u001b[0m     \u001b[0;32mdef\u001b[0m \u001b[0m_is_scalar_access\u001b[0m\u001b[0;34m(\u001b[0m\u001b[0mself\u001b[0m\u001b[0;34m,\u001b[0m \u001b[0mkey\u001b[0m\u001b[0;34m)\u001b[0m\u001b[0;34m:\u001b[0m\u001b[0;34m\u001b[0m\u001b[0m\n",
      "\u001b[0;32m~/myenv/lib64/python3.6/site-packages/pandas/core/indexing.py\u001b[0m in \u001b[0;36m_getitem_axis\u001b[0;34m(self, key, axis)\u001b[0m\n\u001b[1;32m   1549\u001b[0m \u001b[0;34m\u001b[0m\u001b[0m\n\u001b[1;32m   1550\u001b[0m         \u001b[0;31m# fall thru to straight lookup\u001b[0m\u001b[0;34m\u001b[0m\u001b[0;34m\u001b[0m\u001b[0m\n\u001b[0;32m-> 1551\u001b[0;31m         \u001b[0mself\u001b[0m\u001b[0;34m.\u001b[0m\u001b[0m_has_valid_type\u001b[0m\u001b[0;34m(\u001b[0m\u001b[0mkey\u001b[0m\u001b[0;34m,\u001b[0m \u001b[0maxis\u001b[0m\u001b[0;34m)\u001b[0m\u001b[0;34m\u001b[0m\u001b[0m\n\u001b[0m\u001b[1;32m   1552\u001b[0m         \u001b[0;32mreturn\u001b[0m \u001b[0mself\u001b[0m\u001b[0;34m.\u001b[0m\u001b[0m_get_label\u001b[0m\u001b[0;34m(\u001b[0m\u001b[0mkey\u001b[0m\u001b[0;34m,\u001b[0m \u001b[0maxis\u001b[0m\u001b[0;34m=\u001b[0m\u001b[0maxis\u001b[0m\u001b[0;34m)\u001b[0m\u001b[0;34m\u001b[0m\u001b[0m\n\u001b[1;32m   1553\u001b[0m \u001b[0;34m\u001b[0m\u001b[0m\n",
      "\u001b[0;32m~/myenv/lib64/python3.6/site-packages/pandas/core/indexing.py\u001b[0m in \u001b[0;36m_has_valid_type\u001b[0;34m(self, key, axis)\u001b[0m\n\u001b[1;32m   1440\u001b[0m                 \u001b[0;32mraise\u001b[0m\u001b[0;34m\u001b[0m\u001b[0m\n\u001b[1;32m   1441\u001b[0m             \u001b[0;32mexcept\u001b[0m\u001b[0;34m:\u001b[0m\u001b[0;34m\u001b[0m\u001b[0m\n\u001b[0;32m-> 1442\u001b[0;31m                 \u001b[0merror\u001b[0m\u001b[0;34m(\u001b[0m\u001b[0;34m)\u001b[0m\u001b[0;34m\u001b[0m\u001b[0m\n\u001b[0m\u001b[1;32m   1443\u001b[0m \u001b[0;34m\u001b[0m\u001b[0m\n\u001b[1;32m   1444\u001b[0m         \u001b[0;32mreturn\u001b[0m \u001b[0;32mTrue\u001b[0m\u001b[0;34m\u001b[0m\u001b[0m\n",
      "\u001b[0;32m~/myenv/lib64/python3.6/site-packages/pandas/core/indexing.py\u001b[0m in \u001b[0;36merror\u001b[0;34m()\u001b[0m\n\u001b[1;32m   1427\u001b[0m                                     \"key\")\n\u001b[1;32m   1428\u001b[0m                 raise KeyError(\"the label [%s] is not in the [%s]\" %\n\u001b[0;32m-> 1429\u001b[0;31m                                (key, self.obj._get_axis_name(axis)))\n\u001b[0m\u001b[1;32m   1430\u001b[0m \u001b[0;34m\u001b[0m\u001b[0m\n\u001b[1;32m   1431\u001b[0m             \u001b[0;32mtry\u001b[0m\u001b[0;34m:\u001b[0m\u001b[0;34m\u001b[0m\u001b[0m\n",
      "\u001b[0;31mKeyError\u001b[0m: 'the label [Nord-est] is not in the [index]'"
     ]
    }
   ],
   "source": [
    "bdf.relation_plot_time_variant(consumption_expenditure, consumption_expenditure.columns.tolist(), resident_foreigners_norm, zones_data, 45, \"Consumption Expenditure\", palette, True, \"Plots/stock_vs_consumption_expend_\")"
   ]
  },
  {
   "cell_type": "markdown",
   "metadata": {},
   "source": [
    "### Fertility Indicators"
   ]
  },
  {
   "cell_type": "code",
   "execution_count": 59,
   "metadata": {},
   "outputs": [],
   "source": [
    "fertility_rate = pd.read_table(\"/home/sara/Documents/Immigration/Data_not_git/Prov_info/Fertility  indicators/DCIS_FECONDITA1_Data_a2326888-5b5c-4549-b696-d187b4055c39.csv\", sep = \"\\t\")"
   ]
  },
  {
   "cell_type": "code",
   "execution_count": 60,
   "metadata": {},
   "outputs": [
    {
     "name": "stdout",
     "output_type": "stream",
     "text": [
      "Cittadinanza {'totale'}\n",
      "Età della madre {'totale'}\n"
     ]
    },
    {
     "name": "stderr",
     "output_type": "stream",
     "text": [
      "/home/sara/Documents/Immigration/Shared_models/build_data_functions.py:73: FutureWarning: '.reindex_axis' is deprecated and will be removed in a future version. Use '.reindex' instead.\n",
      "  return data.reindex_axis(sorted(data.columns), axis=1)\n"
     ]
    }
   ],
   "source": [
    "fertility_rate = bdf.re_ordering_df(fertility_rate)\n",
    "bdf.drop_useless(fertility_rate)"
   ]
  },
  {
   "cell_type": "code",
   "execution_count": 61,
   "metadata": {},
   "outputs": [],
   "source": [
    "fertility_rate = fertility_rate.replace(['Provincia Autonoma Bolzano / Bozen', 'Provincia Autonoma Trento'], ['Bolzano / Bozen', 'Trento'])"
   ]
  },
  {
   "cell_type": "code",
   "execution_count": 62,
   "metadata": {},
   "outputs": [],
   "source": [
    "fertility_rate = bdf.filtering(fertility_rate, \"Territorio\", interest_territories)\n",
    "fertility_rate = bdf.filtering(fertility_rate, \"Seleziona periodo\", years)\n",
    "#fertility_rate = filtering(fertility_rate, \"Tipo dato\", [\"tasso di fecondità totale\"])\n",
    "#del fertility_rate[\"Tipo dato\"]"
   ]
  },
  {
   "cell_type": "code",
   "execution_count": 63,
   "metadata": {},
   "outputs": [],
   "source": [
    "fertility_rate = bdf.pivot(fertility_rate, \"Tipo dato\", \"0  Flags\")"
   ]
  },
  {
   "cell_type": "code",
   "execution_count": 64,
   "metadata": {},
   "outputs": [],
   "source": [
    "bdf.del_missing(fertility_rate)"
   ]
  },
  {
   "cell_type": "code",
   "execution_count": 65,
   "metadata": {},
   "outputs": [
    {
     "name": "stdout",
     "output_type": "stream",
     "text": [
      "[]\n"
     ]
    }
   ],
   "source": [
    "bdf.check_missing_index(fertility_rate, years, interest_territories)"
   ]
  },
  {
   "cell_type": "code",
   "execution_count": 66,
   "metadata": {},
   "outputs": [],
   "source": [
    "bdf.check_missing(fertility_rate)"
   ]
  },
  {
   "cell_type": "code",
   "execution_count": 67,
   "metadata": {},
   "outputs": [
    {
     "data": {
      "text/html": [
       "<div>\n",
       "<style scoped>\n",
       "    .dataframe tbody tr th:only-of-type {\n",
       "        vertical-align: middle;\n",
       "    }\n",
       "\n",
       "    .dataframe tbody tr th {\n",
       "        vertical-align: top;\n",
       "    }\n",
       "\n",
       "    .dataframe thead th {\n",
       "        text-align: right;\n",
       "    }\n",
       "</style>\n",
       "<table border=\"1\" class=\"dataframe\">\n",
       "  <thead>\n",
       "    <tr style=\"text-align: right;\">\n",
       "      <th></th>\n",
       "      <th>Tipo dato</th>\n",
       "      <th>età media dei padri alla nascita del figlio</th>\n",
       "      <th>età media delle madri al parto</th>\n",
       "      <th>tasso di fecondità totale</th>\n",
       "    </tr>\n",
       "    <tr>\n",
       "      <th>Seleziona periodo</th>\n",
       "      <th>Territorio</th>\n",
       "      <th></th>\n",
       "      <th></th>\n",
       "      <th></th>\n",
       "    </tr>\n",
       "  </thead>\n",
       "  <tbody>\n",
       "    <tr>\n",
       "      <th rowspan=\"5\" valign=\"top\">2005</th>\n",
       "      <th>Abruzzo</th>\n",
       "      <td>34.98</td>\n",
       "      <td>31.36</td>\n",
       "      <td>1.23</td>\n",
       "    </tr>\n",
       "    <tr>\n",
       "      <th>Agrigento</th>\n",
       "      <td>33.97</td>\n",
       "      <td>29.80</td>\n",
       "      <td>1.44</td>\n",
       "    </tr>\n",
       "    <tr>\n",
       "      <th>Alessandria</th>\n",
       "      <td>34.78</td>\n",
       "      <td>30.71</td>\n",
       "      <td>1.17</td>\n",
       "    </tr>\n",
       "    <tr>\n",
       "      <th>Ancona</th>\n",
       "      <td>34.85</td>\n",
       "      <td>30.97</td>\n",
       "      <td>1.28</td>\n",
       "    </tr>\n",
       "    <tr>\n",
       "      <th>Arezzo</th>\n",
       "      <td>34.62</td>\n",
       "      <td>30.92</td>\n",
       "      <td>1.26</td>\n",
       "    </tr>\n",
       "  </tbody>\n",
       "</table>\n",
       "</div>"
      ],
      "text/plain": [
       "Tipo dato                      età media dei padri alla nascita del figlio  \\\n",
       "Seleziona periodo Territorio                                                 \n",
       "2005              Abruzzo                                            34.98   \n",
       "                  Agrigento                                          33.97   \n",
       "                  Alessandria                                        34.78   \n",
       "                  Ancona                                             34.85   \n",
       "                  Arezzo                                             34.62   \n",
       "\n",
       "Tipo dato                      età media delle madri al parto  \\\n",
       "Seleziona periodo Territorio                                    \n",
       "2005              Abruzzo                               31.36   \n",
       "                  Agrigento                             29.80   \n",
       "                  Alessandria                           30.71   \n",
       "                  Ancona                                30.97   \n",
       "                  Arezzo                                30.92   \n",
       "\n",
       "Tipo dato                      tasso di fecondità totale  \n",
       "Seleziona periodo Territorio                              \n",
       "2005              Abruzzo                           1.23  \n",
       "                  Agrigento                         1.44  \n",
       "                  Alessandria                       1.17  \n",
       "                  Ancona                            1.28  \n",
       "                  Arezzo                            1.26  "
      ]
     },
     "execution_count": 67,
     "metadata": {},
     "output_type": "execute_result"
    }
   ],
   "source": [
    "fertility_rate.head()"
   ]
  },
  {
   "cell_type": "code",
   "execution_count": 69,
   "metadata": {},
   "outputs": [],
   "source": [
    "bdf.relation_plot_time_variant(fertility_rate, fertility_rate.columns.tolist(), resident_foreigners_norm, zones_data, 45, \"Fertility Rate\", palette, True, \"Plots/stock_vs_fertility_rate_\")"
   ]
  },
  {
   "cell_type": "markdown",
   "metadata": {},
   "source": [
    "### Net Income - Homogeneity of regional income"
   ]
  },
  {
   "cell_type": "code",
   "execution_count": 68,
   "metadata": {},
   "outputs": [],
   "source": [
    "homogeneity_net_income = pd.read_table(\"/home/sara/Documents/Immigration/Data_not_git/Prov_info/Homogeneity of regional income/DCCV_GINIREDD_Data_f031238d-d03b-414a-ad9d-5ea35513cb24.csv\", sep = \"\\t\")"
   ]
  },
  {
   "cell_type": "code",
   "execution_count": 69,
   "metadata": {},
   "outputs": [
    {
     "name": "stdout",
     "output_type": "stream",
     "text": [
      "Misura {'indice di gini'}\n",
      "Tipo dato {'omogeneità nella distribuzione del reddito netto familiare'}\n"
     ]
    },
    {
     "name": "stderr",
     "output_type": "stream",
     "text": [
      "/home/sara/Documents/Immigration/Shared_models/build_data_functions.py:73: FutureWarning: '.reindex_axis' is deprecated and will be removed in a future version. Use '.reindex' instead.\n",
      "  return data.reindex_axis(sorted(data.columns), axis=1)\n"
     ]
    }
   ],
   "source": [
    "homogeneity_net_income = bdf.re_ordering_df(homogeneity_net_income)\n",
    "bdf.drop_useless(homogeneity_net_income)"
   ]
  },
  {
   "cell_type": "code",
   "execution_count": 70,
   "metadata": {},
   "outputs": [],
   "source": [
    "homogeneity_net_income = homogeneity_net_income.replace(['Provincia Autonoma Bolzano / Bozen', 'Provincia Autonoma Trento'], ['Bolzano / Bozen', 'Trento'])"
   ]
  },
  {
   "cell_type": "code",
   "execution_count": 71,
   "metadata": {},
   "outputs": [],
   "source": [
    "homogeneity_net_income = bdf.filtering(homogeneity_net_income, \"Territorio\", interest_territories)\n",
    "homogeneity_net_income = bdf.filtering(homogeneity_net_income, \"Seleziona periodo\", years)"
   ]
  },
  {
   "cell_type": "code",
   "execution_count": 72,
   "metadata": {
    "scrolled": true
   },
   "outputs": [],
   "source": [
    "homogeneity_net_income = bdf.pivot(homogeneity_net_income, \"Presenza affitti imputati\", \"0  Flags\")"
   ]
  },
  {
   "cell_type": "code",
   "execution_count": 73,
   "metadata": {},
   "outputs": [],
   "source": [
    "bdf.del_missing(homogeneity_net_income)"
   ]
  },
  {
   "cell_type": "code",
   "execution_count": 74,
   "metadata": {},
   "outputs": [
    {
     "name": "stdout",
     "output_type": "stream",
     "text": [
      "[]\n"
     ]
    }
   ],
   "source": [
    "bdf.check_missing_index(homogeneity_net_income, years, places_to_check)"
   ]
  },
  {
   "cell_type": "code",
   "execution_count": 75,
   "metadata": {},
   "outputs": [],
   "source": [
    "bdf.check_missing(homogeneity_net_income)"
   ]
  },
  {
   "cell_type": "code",
   "execution_count": 72,
   "metadata": {},
   "outputs": [],
   "source": [
    "bdf.relation_plot_time_variant(homogeneity_net_income, homogeneity_net_income.columns.tolist(), resident_foreigners_norm, zones_data, 45, \"Homogeneity Net Income\", palette, True, \"Plots/stock_vs_hom_net_income_\")"
   ]
  },
  {
   "cell_type": "code",
   "execution_count": 276,
   "metadata": {},
   "outputs": [],
   "source": [
    "homogeneity_net_income.columns = [\"homogeneity_net_income - \"+i for i in homogeneity_net_income.columns]"
   ]
  },
  {
   "cell_type": "code",
   "execution_count": 277,
   "metadata": {},
   "outputs": [
    {
     "data": {
      "text/html": [
       "<div>\n",
       "<style scoped>\n",
       "    .dataframe tbody tr th:only-of-type {\n",
       "        vertical-align: middle;\n",
       "    }\n",
       "\n",
       "    .dataframe tbody tr th {\n",
       "        vertical-align: top;\n",
       "    }\n",
       "\n",
       "    .dataframe thead th {\n",
       "        text-align: right;\n",
       "    }\n",
       "</style>\n",
       "<table border=\"1\" class=\"dataframe\">\n",
       "  <thead>\n",
       "    <tr style=\"text-align: right;\">\n",
       "      <th></th>\n",
       "      <th></th>\n",
       "      <th>homogeneity_net_income - esclusi fitti imputati</th>\n",
       "      <th>homogeneity_net_income - inclusi fitti imputati</th>\n",
       "    </tr>\n",
       "    <tr>\n",
       "      <th>Seleziona periodo</th>\n",
       "      <th>Territorio</th>\n",
       "      <th></th>\n",
       "      <th></th>\n",
       "    </tr>\n",
       "  </thead>\n",
       "  <tbody>\n",
       "    <tr>\n",
       "      <th rowspan=\"5\" valign=\"top\">2005</th>\n",
       "      <th>Abruzzo</th>\n",
       "      <td>0.289</td>\n",
       "      <td>0.258</td>\n",
       "    </tr>\n",
       "    <tr>\n",
       "      <th>Basilicata</th>\n",
       "      <td>0.290</td>\n",
       "      <td>0.267</td>\n",
       "    </tr>\n",
       "    <tr>\n",
       "      <th>Bolzano / Bozen</th>\n",
       "      <td>0.277</td>\n",
       "      <td>0.250</td>\n",
       "    </tr>\n",
       "    <tr>\n",
       "      <th>Calabria</th>\n",
       "      <td>0.337</td>\n",
       "      <td>0.313</td>\n",
       "    </tr>\n",
       "    <tr>\n",
       "      <th>Campania</th>\n",
       "      <td>0.345</td>\n",
       "      <td>0.327</td>\n",
       "    </tr>\n",
       "  </tbody>\n",
       "</table>\n",
       "</div>"
      ],
      "text/plain": [
       "                                   homogeneity_net_income - esclusi fitti imputati  \\\n",
       "Seleziona periodo Territorio                                                         \n",
       "2005              Abruzzo                                                    0.289   \n",
       "                  Basilicata                                                 0.290   \n",
       "                  Bolzano / Bozen                                            0.277   \n",
       "                  Calabria                                                   0.337   \n",
       "                  Campania                                                   0.345   \n",
       "\n",
       "                                   homogeneity_net_income - inclusi fitti imputati  \n",
       "Seleziona periodo Territorio                                                        \n",
       "2005              Abruzzo                                                    0.258  \n",
       "                  Basilicata                                                 0.267  \n",
       "                  Bolzano / Bozen                                            0.250  \n",
       "                  Calabria                                                   0.313  \n",
       "                  Campania                                                   0.327  "
      ]
     },
     "execution_count": 277,
     "metadata": {},
     "output_type": "execute_result"
    }
   ],
   "source": [
    "homogeneity_net_income.head()"
   ]
  },
  {
   "cell_type": "markdown",
   "metadata": {},
   "source": [
    "### Housing costs"
   ]
  },
  {
   "cell_type": "code",
   "execution_count": 77,
   "metadata": {},
   "outputs": [],
   "source": [
    "housing_costs = pd.read_table(\"/home/sara/Documents/Immigration/Data_not_git/Prov_info/Housing costs/DCCV_ABITSPESA_Data_86e7f7b3-4f27-4d2a-bcda-94af693e24af.csv\", sep = \"\\t\")"
   ]
  },
  {
   "cell_type": "code",
   "execution_count": 78,
   "metadata": {},
   "outputs": [
    {
     "name": "stdout",
     "output_type": "stream",
     "text": [
      "Classe di età del principale percettore {'totale'}\n",
      "Condizione professionale prevalente nell anno del principale percettore {'totale'}\n",
      "Numero di anziani in famiglia {'totale'}\n",
      "Numero di componenti {'totale'}\n",
      "Numero di minori in famiglia {'totale'}\n",
      "Sesso del principale percettore {'totale'}\n",
      "Tipologia familiare {'totale'}\n",
      "Titolo di godimento dell abitazione {'totale'}\n",
      "Titolo di studio del principale percettore {'totale'}\n"
     ]
    },
    {
     "name": "stderr",
     "output_type": "stream",
     "text": [
      "/home/sara/Documents/Immigration/Shared_models/build_data_functions.py:73: FutureWarning: '.reindex_axis' is deprecated and will be removed in a future version. Use '.reindex' instead.\n",
      "  return data.reindex_axis(sorted(data.columns), axis=1)\n"
     ]
    }
   ],
   "source": [
    "housing_costs = bdf.re_ordering_df(housing_costs)\n",
    "bdf.drop_useless(housing_costs)"
   ]
  },
  {
   "cell_type": "code",
   "execution_count": 79,
   "metadata": {},
   "outputs": [],
   "source": [
    "housing_costs = housing_costs.replace(['Provincia Autonoma Bolzano / Bozen', 'Provincia Autonoma Trento'], ['Bolzano / Bozen', 'Trento'])"
   ]
  },
  {
   "cell_type": "code",
   "execution_count": 80,
   "metadata": {},
   "outputs": [],
   "source": [
    "housing_costs = bdf.filtering(housing_costs, \"Territorio\", interest_territories)\n",
    "housing_costs = bdf.filtering(housing_costs, \"Seleziona periodo\", years)"
   ]
  },
  {
   "cell_type": "code",
   "execution_count": 81,
   "metadata": {},
   "outputs": [],
   "source": [
    "housing_costs = bdf.pivot(housing_costs, \"Indicatore di spesa\", \"0  Flags\")"
   ]
  },
  {
   "cell_type": "code",
   "execution_count": 82,
   "metadata": {},
   "outputs": [],
   "source": [
    "bdf.del_missing(housing_costs)"
   ]
  },
  {
   "cell_type": "code",
   "execution_count": 83,
   "metadata": {},
   "outputs": [
    {
     "name": "stdout",
     "output_type": "stream",
     "text": [
      "[]\n"
     ]
    }
   ],
   "source": [
    "bdf.check_missing_index(housing_costs, years, places_to_check)"
   ]
  },
  {
   "cell_type": "code",
   "execution_count": 84,
   "metadata": {},
   "outputs": [],
   "source": [
    "bdf.check_missing(housing_costs)"
   ]
  },
  {
   "cell_type": "code",
   "execution_count": 85,
   "metadata": {},
   "outputs": [
    {
     "data": {
      "text/html": [
       "<div>\n",
       "<style scoped>\n",
       "    .dataframe tbody tr th:only-of-type {\n",
       "        vertical-align: middle;\n",
       "    }\n",
       "\n",
       "    .dataframe tbody tr th {\n",
       "        vertical-align: top;\n",
       "    }\n",
       "\n",
       "    .dataframe thead th {\n",
       "        text-align: right;\n",
       "    }\n",
       "</style>\n",
       "<table border=\"1\" class=\"dataframe\">\n",
       "  <thead>\n",
       "    <tr style=\"text-align: right;\">\n",
       "      <th></th>\n",
       "      <th>Indicatore di spesa</th>\n",
       "      <th>spesa media mensile per abitazione (in euro)</th>\n",
       "      <th>spesa media mensile per abitazioni (per 100 euro di reddito medio mensile)</th>\n",
       "    </tr>\n",
       "    <tr>\n",
       "      <th>Seleziona periodo</th>\n",
       "      <th>Territorio</th>\n",
       "      <th></th>\n",
       "      <th></th>\n",
       "    </tr>\n",
       "  </thead>\n",
       "  <tbody>\n",
       "    <tr>\n",
       "      <th rowspan=\"5\" valign=\"top\">2005</th>\n",
       "      <th>Abruzzo</th>\n",
       "      <td>265.0</td>\n",
       "      <td>12.3</td>\n",
       "    </tr>\n",
       "    <tr>\n",
       "      <th>Basilicata</th>\n",
       "      <td>245.0</td>\n",
       "      <td>13.0</td>\n",
       "    </tr>\n",
       "    <tr>\n",
       "      <th>Bolzano / Bozen</th>\n",
       "      <td>350.0</td>\n",
       "      <td>13.0</td>\n",
       "    </tr>\n",
       "    <tr>\n",
       "      <th>Calabria</th>\n",
       "      <td>256.0</td>\n",
       "      <td>14.5</td>\n",
       "    </tr>\n",
       "    <tr>\n",
       "      <th>Campania</th>\n",
       "      <td>272.0</td>\n",
       "      <td>13.5</td>\n",
       "    </tr>\n",
       "  </tbody>\n",
       "</table>\n",
       "</div>"
      ],
      "text/plain": [
       "Indicatore di spesa                spesa media mensile per abitazione (in euro)  \\\n",
       "Seleziona periodo Territorio                                                      \n",
       "2005              Abruzzo                                                 265.0   \n",
       "                  Basilicata                                              245.0   \n",
       "                  Bolzano / Bozen                                         350.0   \n",
       "                  Calabria                                                256.0   \n",
       "                  Campania                                                272.0   \n",
       "\n",
       "Indicatore di spesa                spesa media mensile per abitazioni (per 100 euro di reddito medio mensile)  \n",
       "Seleziona periodo Territorio                                                                                   \n",
       "2005              Abruzzo                                                       12.3                           \n",
       "                  Basilicata                                                    13.0                           \n",
       "                  Bolzano / Bozen                                               13.0                           \n",
       "                  Calabria                                                      14.5                           \n",
       "                  Campania                                                      13.5                           "
      ]
     },
     "execution_count": 85,
     "metadata": {},
     "output_type": "execute_result"
    }
   ],
   "source": [
    "housing_costs.head()"
   ]
  },
  {
   "cell_type": "code",
   "execution_count": 82,
   "metadata": {},
   "outputs": [],
   "source": [
    "bdf.relation_plot_time_variant(housing_costs, [housing_costs.columns.tolist()[0]], resident_foreigners_norm, zones_data, 45, \"Housing Costs\", palette, True, \"Plots/stock_vs_housing_costs1_\")"
   ]
  },
  {
   "cell_type": "code",
   "execution_count": 83,
   "metadata": {},
   "outputs": [],
   "source": [
    "bdf.relation_plot_time_variant(housing_costs, [housing_costs.columns.tolist()[1]], resident_foreigners_norm, zones_data, 45, \"Housing Costs\", palette, True, \"Plots/stock_vs_housing_costs2_\")"
   ]
  },
  {
   "cell_type": "markdown",
   "metadata": {},
   "source": [
    "### Live Births"
   ]
  },
  {
   "cell_type": "code",
   "execution_count": 158,
   "metadata": {},
   "outputs": [],
   "source": [
    "live_births = pd.read_table(\"/home/sara/Documents/Immigration/Data_not_git/Prov_info/Live births/DCIS_NATI1_Data_fc109807-f48b-4e01-b9e7-81fddf031fbb.csv\", sep = \"\\t\")"
   ]
  },
  {
   "cell_type": "code",
   "execution_count": 159,
   "metadata": {
    "scrolled": true
   },
   "outputs": [
    {
     "name": "stdout",
     "output_type": "stream",
     "text": [
      "Anno di nascita della madre {'tutte le voci'}\n",
      "Area geografica di nascita {'tutte le voci'}\n",
      "Cittadinanza della madre {'totale'}\n",
      "Cittadinanza estera del nato {'Mondo'}\n",
      "Età del padre {'totale'}\n",
      "Età della madre {'totale'}\n",
      "Nati vivi all'interno del matrimonio {'totale'}\n",
      "Stato civile del padre {'totale'}\n",
      "Stato civile della madre {'totale'}\n",
      "Tipologia di coppia dei genitori {'tutte le voci'}\n"
     ]
    },
    {
     "name": "stderr",
     "output_type": "stream",
     "text": [
      "/home/sara/Documents/Immigration/Shared_models/build_data_functions.py:73: FutureWarning: '.reindex_axis' is deprecated and will be removed in a future version. Use '.reindex' instead.\n",
      "  return data.reindex_axis(sorted(data.columns), axis=1)\n"
     ]
    }
   ],
   "source": [
    "live_births = bdf.re_ordering_df(live_births)\n",
    "bdf.drop_useless(live_births)"
   ]
  },
  {
   "cell_type": "code",
   "execution_count": 160,
   "metadata": {},
   "outputs": [],
   "source": [
    "live_births = live_births.replace(['Provincia Autonoma Bolzano / Bozen', 'Provincia Autonoma Trento'], ['Bolzano / Bozen', 'Trento'])"
   ]
  },
  {
   "cell_type": "code",
   "execution_count": 161,
   "metadata": {
    "scrolled": true
   },
   "outputs": [],
   "source": [
    "live_births = bdf.filtering(live_births, \"Territorio di residenza\", interest_territories)\n",
    "live_births = bdf.filtering(live_births, \"Seleziona periodo\", years)"
   ]
  },
  {
   "cell_type": "code",
   "execution_count": 162,
   "metadata": {},
   "outputs": [],
   "source": [
    "live_births = bdf.pivot(live_births, \"Tipo dato\", \"0  Flags\")"
   ]
  },
  {
   "cell_type": "code",
   "execution_count": 163,
   "metadata": {},
   "outputs": [],
   "source": [
    "bdf.del_missing(live_births)"
   ]
  },
  {
   "cell_type": "code",
   "execution_count": 164,
   "metadata": {},
   "outputs": [
    {
     "name": "stdout",
     "output_type": "stream",
     "text": [
      "[]\n"
     ]
    }
   ],
   "source": [
    "bdf.check_missing_index(live_births, years, places_to_check)"
   ]
  },
  {
   "cell_type": "code",
   "execution_count": 165,
   "metadata": {},
   "outputs": [],
   "source": [
    "bdf.check_missing(live_births)"
   ]
  },
  {
   "cell_type": "code",
   "execution_count": 166,
   "metadata": {},
   "outputs": [
    {
     "data": {
      "text/html": [
       "<div>\n",
       "<style scoped>\n",
       "    .dataframe tbody tr th:only-of-type {\n",
       "        vertical-align: middle;\n",
       "    }\n",
       "\n",
       "    .dataframe tbody tr th {\n",
       "        vertical-align: top;\n",
       "    }\n",
       "\n",
       "    .dataframe thead th {\n",
       "        text-align: right;\n",
       "    }\n",
       "</style>\n",
       "<table border=\"1\" class=\"dataframe\">\n",
       "  <thead>\n",
       "    <tr style=\"text-align: right;\">\n",
       "      <th></th>\n",
       "      <th>Tipo dato</th>\n",
       "      <th>nati vivi - dati corretti (110 province)</th>\n",
       "      <th>nati vivi - senza correzione (110 province)</th>\n",
       "    </tr>\n",
       "    <tr>\n",
       "      <th>Seleziona periodo</th>\n",
       "      <th>Territorio di residenza</th>\n",
       "      <th></th>\n",
       "      <th></th>\n",
       "    </tr>\n",
       "  </thead>\n",
       "  <tbody>\n",
       "    <tr>\n",
       "      <th rowspan=\"5\" valign=\"top\">2005</th>\n",
       "      <th>Abruzzo</th>\n",
       "      <td>11200</td>\n",
       "      <td>10889</td>\n",
       "    </tr>\n",
       "    <tr>\n",
       "      <th>Basilicata</th>\n",
       "      <td>4908</td>\n",
       "      <td>4636</td>\n",
       "    </tr>\n",
       "    <tr>\n",
       "      <th>Bolzano / Bozen</th>\n",
       "      <td>5525</td>\n",
       "      <td>5529</td>\n",
       "    </tr>\n",
       "    <tr>\n",
       "      <th>Calabria</th>\n",
       "      <td>18228</td>\n",
       "      <td>18094</td>\n",
       "    </tr>\n",
       "    <tr>\n",
       "      <th>Campania</th>\n",
       "      <td>62599</td>\n",
       "      <td>62059</td>\n",
       "    </tr>\n",
       "  </tbody>\n",
       "</table>\n",
       "</div>"
      ],
      "text/plain": [
       "Tipo dato                                  nati vivi - dati corretti (110 province)  \\\n",
       "Seleziona periodo Territorio di residenza                                             \n",
       "2005              Abruzzo                                                     11200   \n",
       "                  Basilicata                                                   4908   \n",
       "                  Bolzano / Bozen                                              5525   \n",
       "                  Calabria                                                    18228   \n",
       "                  Campania                                                    62599   \n",
       "\n",
       "Tipo dato                                  nati vivi - senza correzione (110 province)  \n",
       "Seleziona periodo Territorio di residenza                                               \n",
       "2005              Abruzzo                                                        10889  \n",
       "                  Basilicata                                                      4636  \n",
       "                  Bolzano / Bozen                                                 5529  \n",
       "                  Calabria                                                       18094  \n",
       "                  Campania                                                       62059  "
      ]
     },
     "execution_count": 166,
     "metadata": {},
     "output_type": "execute_result"
    }
   ],
   "source": [
    "live_births.head()"
   ]
  },
  {
   "cell_type": "code",
   "execution_count": 93,
   "metadata": {},
   "outputs": [],
   "source": [
    "bdf.relation_plot_time_variant(live_births, [live_births.columns.tolist()[0]], resident_foreigners_norm, zones_data, 45, \"Live Births\", palette, True, \"Plots/stock_vs_live_births_\")\n"
   ]
  },
  {
   "cell_type": "markdown",
   "metadata": {},
   "source": [
    "### Unemployment"
   ]
  },
  {
   "cell_type": "code",
   "execution_count": 95,
   "metadata": {},
   "outputs": [],
   "source": [
    "unemployment = pd.read_table(\"/home/sara/Documents/Immigration/Data_not_git/Prov_info/Unemployment/DCCV_DISOCCUPT1_Data_b7a54223-3ec4-4d1b-883e-a20d10fb350d.csv\", sep = \"\\t\")"
   ]
  },
  {
   "cell_type": "code",
   "execution_count": 96,
   "metadata": {},
   "outputs": [
    {
     "name": "stdout",
     "output_type": "stream",
     "text": [
      "Cittadinanza {'totale'}\n",
      "Classe di età {'15 anni e più'}\n",
      "Condizione professionale {'totale'}\n",
      "Durata della disoccupazione {'totale'}\n",
      "Tipo dato {'persone in cerca di occupazione 15 anni e oltre (migliaia)'}\n",
      "Titolo di studio {'totale'}\n"
     ]
    },
    {
     "name": "stderr",
     "output_type": "stream",
     "text": [
      "/home/sara/Documents/Immigration/Shared_models/build_data_functions.py:73: FutureWarning: '.reindex_axis' is deprecated and will be removed in a future version. Use '.reindex' instead.\n",
      "  return data.reindex_axis(sorted(data.columns), axis=1)\n"
     ]
    }
   ],
   "source": [
    "unemployment = bdf.re_ordering_df(unemployment)\n",
    "bdf.drop_useless(unemployment)"
   ]
  },
  {
   "cell_type": "code",
   "execution_count": 97,
   "metadata": {},
   "outputs": [],
   "source": [
    "unemployment = unemployment.replace(['Provincia Autonoma Bolzano / Bozen', 'Provincia Autonoma Trento'], ['Bolzano / Bozen', 'Trento'])"
   ]
  },
  {
   "cell_type": "code",
   "execution_count": 98,
   "metadata": {},
   "outputs": [],
   "source": [
    "unemployment = bdf.filtering(unemployment, \"Territorio\", interest_territories)\n",
    "unemployment = bdf.filtering(unemployment, \"Seleziona periodo\", years)"
   ]
  },
  {
   "cell_type": "code",
   "execution_count": 99,
   "metadata": {
    "scrolled": true
   },
   "outputs": [],
   "source": [
    "unemployment = bdf.pivot(unemployment, \"Sesso\", \"0  Flags\")"
   ]
  },
  {
   "cell_type": "code",
   "execution_count": 100,
   "metadata": {},
   "outputs": [],
   "source": [
    "bdf.del_missing(unemployment)"
   ]
  },
  {
   "cell_type": "code",
   "execution_count": 101,
   "metadata": {},
   "outputs": [
    {
     "name": "stdout",
     "output_type": "stream",
     "text": [
      "['Isole', 'Sud']\n"
     ]
    }
   ],
   "source": [
    "bdf.check_missing_index(unemployment, years, interest_territories)"
   ]
  },
  {
   "cell_type": "code",
   "execution_count": 102,
   "metadata": {},
   "outputs": [],
   "source": [
    "bdf.check_missing(unemployment)"
   ]
  },
  {
   "cell_type": "code",
   "execution_count": 103,
   "metadata": {},
   "outputs": [
    {
     "data": {
      "text/html": [
       "<div>\n",
       "<style scoped>\n",
       "    .dataframe tbody tr th:only-of-type {\n",
       "        vertical-align: middle;\n",
       "    }\n",
       "\n",
       "    .dataframe tbody tr th {\n",
       "        vertical-align: top;\n",
       "    }\n",
       "\n",
       "    .dataframe thead th {\n",
       "        text-align: right;\n",
       "    }\n",
       "</style>\n",
       "<table border=\"1\" class=\"dataframe\">\n",
       "  <thead>\n",
       "    <tr style=\"text-align: right;\">\n",
       "      <th></th>\n",
       "      <th>Sesso</th>\n",
       "      <th>femmine</th>\n",
       "      <th>maschi</th>\n",
       "      <th>totale</th>\n",
       "    </tr>\n",
       "    <tr>\n",
       "      <th>Seleziona periodo</th>\n",
       "      <th>Territorio</th>\n",
       "      <th></th>\n",
       "      <th></th>\n",
       "      <th></th>\n",
       "    </tr>\n",
       "  </thead>\n",
       "  <tbody>\n",
       "    <tr>\n",
       "      <th rowspan=\"5\" valign=\"top\">2005</th>\n",
       "      <th>Abruzzo</th>\n",
       "      <td>27.272</td>\n",
       "      <td>14.218</td>\n",
       "      <td>41.490</td>\n",
       "    </tr>\n",
       "    <tr>\n",
       "      <th>Agrigento</th>\n",
       "      <td>9.732</td>\n",
       "      <td>16.212</td>\n",
       "      <td>25.944</td>\n",
       "    </tr>\n",
       "    <tr>\n",
       "      <th>Alessandria</th>\n",
       "      <td>5.720</td>\n",
       "      <td>4.167</td>\n",
       "      <td>9.887</td>\n",
       "    </tr>\n",
       "    <tr>\n",
       "      <th>Ancona</th>\n",
       "      <td>5.011</td>\n",
       "      <td>3.240</td>\n",
       "      <td>8.251</td>\n",
       "    </tr>\n",
       "    <tr>\n",
       "      <th>Arezzo</th>\n",
       "      <td>4.709</td>\n",
       "      <td>3.373</td>\n",
       "      <td>8.082</td>\n",
       "    </tr>\n",
       "  </tbody>\n",
       "</table>\n",
       "</div>"
      ],
      "text/plain": [
       "Sesso                          femmine  maschi  totale\n",
       "Seleziona periodo Territorio                          \n",
       "2005              Abruzzo       27.272  14.218  41.490\n",
       "                  Agrigento      9.732  16.212  25.944\n",
       "                  Alessandria    5.720   4.167   9.887\n",
       "                  Ancona         5.011   3.240   8.251\n",
       "                  Arezzo         4.709   3.373   8.082"
      ]
     },
     "execution_count": 103,
     "metadata": {},
     "output_type": "execute_result"
    }
   ],
   "source": [
    "unemployment.head()"
   ]
  },
  {
   "cell_type": "code",
   "execution_count": 140,
   "metadata": {
    "collapsed": true
   },
   "outputs": [
    {
     "name": "stderr",
     "output_type": "stream",
     "text": [
      "/home/sara/myenv/lib64/python3.6/site-packages/matplotlib/cbook/deprecation.py:106: MatplotlibDeprecationWarning: Adding an axes using the same arguments as a previous axes currently reuses the earlier instance.  In a future version, a new instance will always be created and returned.  Meanwhile, this warning can be suppressed, and the future behavior ensured, by passing a unique label to each axes instance.\n",
      "  warnings.warn(message, mplDeprecation, stacklevel=1)\n"
     ]
    },
    {
     "ename": "KeyError",
     "evalue": "'the label [Isole] is not in the [index]'",
     "output_type": "error",
     "traceback": [
      "\u001b[0;31m---------------------------------------------------------------------------\u001b[0m",
      "\u001b[0;31mKeyError\u001b[0m                                  Traceback (most recent call last)",
      "\u001b[0;32m~/myenv/lib64/python3.6/site-packages/pandas/core/indexing.py\u001b[0m in \u001b[0;36m_has_valid_type\u001b[0;34m(self, key, axis)\u001b[0m\n\u001b[1;32m   1433\u001b[0m                 \u001b[0;32mif\u001b[0m \u001b[0;32mnot\u001b[0m \u001b[0max\u001b[0m\u001b[0;34m.\u001b[0m\u001b[0mcontains\u001b[0m\u001b[0;34m(\u001b[0m\u001b[0mkey\u001b[0m\u001b[0;34m)\u001b[0m\u001b[0;34m:\u001b[0m\u001b[0;34m\u001b[0m\u001b[0m\n\u001b[0;32m-> 1434\u001b[0;31m                     \u001b[0merror\u001b[0m\u001b[0;34m(\u001b[0m\u001b[0;34m)\u001b[0m\u001b[0;34m\u001b[0m\u001b[0m\n\u001b[0m\u001b[1;32m   1435\u001b[0m             \u001b[0;32mexcept\u001b[0m \u001b[0mTypeError\u001b[0m \u001b[0;32mas\u001b[0m \u001b[0me\u001b[0m\u001b[0;34m:\u001b[0m\u001b[0;34m\u001b[0m\u001b[0m\n",
      "\u001b[0;32m~/myenv/lib64/python3.6/site-packages/pandas/core/indexing.py\u001b[0m in \u001b[0;36merror\u001b[0;34m()\u001b[0m\n\u001b[1;32m   1428\u001b[0m                 raise KeyError(\"the label [%s] is not in the [%s]\" %\n\u001b[0;32m-> 1429\u001b[0;31m                                (key, self.obj._get_axis_name(axis)))\n\u001b[0m\u001b[1;32m   1430\u001b[0m \u001b[0;34m\u001b[0m\u001b[0m\n",
      "\u001b[0;31mKeyError\u001b[0m: 'the label [Isole] is not in the [index]'",
      "\nDuring handling of the above exception, another exception occurred:\n",
      "\u001b[0;31mKeyError\u001b[0m                                  Traceback (most recent call last)",
      "\u001b[0;32m<ipython-input-140-93b703f3379d>\u001b[0m in \u001b[0;36m<module>\u001b[0;34m()\u001b[0m\n\u001b[0;32m----> 1\u001b[0;31m \u001b[0mbdf\u001b[0m\u001b[0;34m.\u001b[0m\u001b[0mrelation_plot_time_variant\u001b[0m\u001b[0;34m(\u001b[0m\u001b[0munemployment\u001b[0m\u001b[0;34m,\u001b[0m \u001b[0;34m[\u001b[0m\u001b[0munemployment\u001b[0m\u001b[0;34m.\u001b[0m\u001b[0mcolumns\u001b[0m\u001b[0;34m.\u001b[0m\u001b[0mtolist\u001b[0m\u001b[0;34m(\u001b[0m\u001b[0;34m)\u001b[0m\u001b[0;34m[\u001b[0m\u001b[0;36m2\u001b[0m\u001b[0;34m]\u001b[0m\u001b[0;34m]\u001b[0m\u001b[0;34m,\u001b[0m \u001b[0mresident_foreigners_norm\u001b[0m\u001b[0;34m,\u001b[0m \u001b[0mzones_data\u001b[0m\u001b[0;34m,\u001b[0m \u001b[0;36m45\u001b[0m\u001b[0;34m,\u001b[0m \u001b[0;34m\"Political Information\"\u001b[0m\u001b[0;34m,\u001b[0m \u001b[0mpalette\u001b[0m\u001b[0;34m,\u001b[0m \u001b[0;32mFalse\u001b[0m\u001b[0;34m,\u001b[0m \u001b[0;34m\"Plots/stock_vs_political_info2_\"\u001b[0m\u001b[0;34m)\u001b[0m\u001b[0;34m\u001b[0m\u001b[0m\n\u001b[0m",
      "\u001b[0;32m~/Documents/Immigration/Shared_models/build_data_functions.py\u001b[0m in \u001b[0;36mrelation_plot_time_variant\u001b[0;34m(data_, cols, y, zones_data, rot, title, palette, save, path)\u001b[0m\n\u001b[1;32m    217\u001b[0m     \u001b[0mfig\u001b[0m \u001b[0;34m=\u001b[0m \u001b[0mplt\u001b[0m\u001b[0;34m.\u001b[0m\u001b[0mfigure\u001b[0m\u001b[0;34m(\u001b[0m\u001b[0;36m1\u001b[0m\u001b[0;34m,\u001b[0m \u001b[0mfigsize\u001b[0m\u001b[0;34m=\u001b[0m\u001b[0;34m(\u001b[0m\u001b[0;36m15\u001b[0m\u001b[0;34m,\u001b[0m\u001b[0;36m10\u001b[0m\u001b[0;34m)\u001b[0m\u001b[0;34m)\u001b[0m\u001b[0;34m\u001b[0m\u001b[0m\n\u001b[1;32m    218\u001b[0m \u001b[0;34m\u001b[0m\u001b[0m\n\u001b[0;32m--> 219\u001b[0;31m     \u001b[0mrelation_plot_time_variant_intern_function\u001b[0m\u001b[0;34m(\u001b[0m\u001b[0mdata_\u001b[0m\u001b[0;34m,\u001b[0m \u001b[0mterritories\u001b[0m\u001b[0;34m,\u001b[0m \u001b[0mtime_idx\u001b[0m\u001b[0;34m,\u001b[0m \u001b[0mcols\u001b[0m\u001b[0;34m,\u001b[0m \u001b[0my_grouped\u001b[0m\u001b[0;34m,\u001b[0m \u001b[0mfig\u001b[0m\u001b[0;34m,\u001b[0m \u001b[0;36m231\u001b[0m\u001b[0;34m,\u001b[0m \u001b[0mrot\u001b[0m\u001b[0;34m,\u001b[0m \u001b[0mpalette\u001b[0m\u001b[0;34m,\u001b[0m \u001b[0;34m\"Immigrant Stock VS \"\u001b[0m\u001b[0;34m+\u001b[0m\u001b[0mtitle\u001b[0m\u001b[0;34m+\u001b[0m\u001b[0;34m\" in Italian Zones\"\u001b[0m\u001b[0;34m,\u001b[0m \u001b[0msave\u001b[0m\u001b[0;34m,\u001b[0m \u001b[0mpath\u001b[0m\u001b[0;34m+\u001b[0m\u001b[0;34m\"zones\"\u001b[0m\u001b[0;34m)\u001b[0m\u001b[0;34m\u001b[0m\u001b[0m\n\u001b[0m\u001b[1;32m    220\u001b[0m \u001b[0;34m\u001b[0m\u001b[0m\n\u001b[1;32m    221\u001b[0m     \u001b[0;31m# A single figure with 21+legend boxes is difficult to analyse. What to do? Figure for each zone.\u001b[0m\u001b[0;34m\u001b[0m\u001b[0;34m\u001b[0m\u001b[0m\n",
      "\u001b[0;32m~/Documents/Immigration/Shared_models/build_data_functions.py\u001b[0m in \u001b[0;36mrelation_plot_time_variant_intern_function\u001b[0;34m(data_, temp_territories, time_idx, cols, y, fig, plt_seed, rot, palette, title, save, path)\u001b[0m\n\u001b[1;32m    176\u001b[0m         \u001b[0max2\u001b[0m \u001b[0;34m=\u001b[0m \u001b[0max\u001b[0m\u001b[0;34m.\u001b[0m\u001b[0mtwinx\u001b[0m\u001b[0;34m(\u001b[0m\u001b[0;34m)\u001b[0m\u001b[0;34m\u001b[0m\u001b[0m\n\u001b[1;32m    177\u001b[0m         \u001b[0;32mfor\u001b[0m \u001b[0mc\u001b[0m \u001b[0;32min\u001b[0m \u001b[0mcols\u001b[0m\u001b[0;34m:\u001b[0m\u001b[0;34m\u001b[0m\u001b[0m\n\u001b[0;32m--> 178\u001b[0;31m             \u001b[0mx_i\u001b[0m \u001b[0;34m=\u001b[0m \u001b[0;34m[\u001b[0m\u001b[0mdata_\u001b[0m\u001b[0;34m.\u001b[0m\u001b[0mloc\u001b[0m\u001b[0;34m[\u001b[0m\u001b[0mt\u001b[0m\u001b[0;34m]\u001b[0m\u001b[0;34m.\u001b[0m\u001b[0mloc\u001b[0m\u001b[0;34m[\u001b[0m\u001b[0mr\u001b[0m\u001b[0;34m]\u001b[0m\u001b[0;34m[\u001b[0m\u001b[0mc\u001b[0m\u001b[0;34m]\u001b[0m \u001b[0;32mfor\u001b[0m \u001b[0mt\u001b[0m \u001b[0;32min\u001b[0m \u001b[0mtime_idx\u001b[0m\u001b[0;34m]\u001b[0m\u001b[0;34m\u001b[0m\u001b[0m\n\u001b[0m\u001b[1;32m    179\u001b[0m             \u001b[0;31m# Color - always +1 because the first color is for the real value (ax)\u001b[0m\u001b[0;34m\u001b[0m\u001b[0;34m\u001b[0m\u001b[0m\n\u001b[1;32m    180\u001b[0m             \u001b[0max2\u001b[0m \u001b[0;34m=\u001b[0m \u001b[0msns\u001b[0m\u001b[0;34m.\u001b[0m\u001b[0mpointplot\u001b[0m\u001b[0;34m(\u001b[0m\u001b[0my\u001b[0m \u001b[0;34m=\u001b[0m \u001b[0mx_i\u001b[0m\u001b[0;34m,\u001b[0m \u001b[0mx\u001b[0m \u001b[0;34m=\u001b[0m \u001b[0mtime_idx\u001b[0m\u001b[0;34m,\u001b[0m \u001b[0mcolor\u001b[0m \u001b[0;34m=\u001b[0m \u001b[0mpalette\u001b[0m\u001b[0;34m[\u001b[0m\u001b[0mcols\u001b[0m\u001b[0;34m.\u001b[0m\u001b[0mindex\u001b[0m\u001b[0;34m(\u001b[0m\u001b[0mc\u001b[0m\u001b[0;34m)\u001b[0m\u001b[0;34m+\u001b[0m\u001b[0;36m1\u001b[0m\u001b[0;34m]\u001b[0m\u001b[0;34m)\u001b[0m\u001b[0;34m\u001b[0m\u001b[0m\n",
      "\u001b[0;32m~/Documents/Immigration/Shared_models/build_data_functions.py\u001b[0m in \u001b[0;36m<listcomp>\u001b[0;34m(.0)\u001b[0m\n\u001b[1;32m    176\u001b[0m         \u001b[0max2\u001b[0m \u001b[0;34m=\u001b[0m \u001b[0max\u001b[0m\u001b[0;34m.\u001b[0m\u001b[0mtwinx\u001b[0m\u001b[0;34m(\u001b[0m\u001b[0;34m)\u001b[0m\u001b[0;34m\u001b[0m\u001b[0m\n\u001b[1;32m    177\u001b[0m         \u001b[0;32mfor\u001b[0m \u001b[0mc\u001b[0m \u001b[0;32min\u001b[0m \u001b[0mcols\u001b[0m\u001b[0;34m:\u001b[0m\u001b[0;34m\u001b[0m\u001b[0m\n\u001b[0;32m--> 178\u001b[0;31m             \u001b[0mx_i\u001b[0m \u001b[0;34m=\u001b[0m \u001b[0;34m[\u001b[0m\u001b[0mdata_\u001b[0m\u001b[0;34m.\u001b[0m\u001b[0mloc\u001b[0m\u001b[0;34m[\u001b[0m\u001b[0mt\u001b[0m\u001b[0;34m]\u001b[0m\u001b[0;34m.\u001b[0m\u001b[0mloc\u001b[0m\u001b[0;34m[\u001b[0m\u001b[0mr\u001b[0m\u001b[0;34m]\u001b[0m\u001b[0;34m[\u001b[0m\u001b[0mc\u001b[0m\u001b[0;34m]\u001b[0m \u001b[0;32mfor\u001b[0m \u001b[0mt\u001b[0m \u001b[0;32min\u001b[0m \u001b[0mtime_idx\u001b[0m\u001b[0;34m]\u001b[0m\u001b[0;34m\u001b[0m\u001b[0m\n\u001b[0m\u001b[1;32m    179\u001b[0m             \u001b[0;31m# Color - always +1 because the first color is for the real value (ax)\u001b[0m\u001b[0;34m\u001b[0m\u001b[0;34m\u001b[0m\u001b[0m\n\u001b[1;32m    180\u001b[0m             \u001b[0max2\u001b[0m \u001b[0;34m=\u001b[0m \u001b[0msns\u001b[0m\u001b[0;34m.\u001b[0m\u001b[0mpointplot\u001b[0m\u001b[0;34m(\u001b[0m\u001b[0my\u001b[0m \u001b[0;34m=\u001b[0m \u001b[0mx_i\u001b[0m\u001b[0;34m,\u001b[0m \u001b[0mx\u001b[0m \u001b[0;34m=\u001b[0m \u001b[0mtime_idx\u001b[0m\u001b[0;34m,\u001b[0m \u001b[0mcolor\u001b[0m \u001b[0;34m=\u001b[0m \u001b[0mpalette\u001b[0m\u001b[0;34m[\u001b[0m\u001b[0mcols\u001b[0m\u001b[0;34m.\u001b[0m\u001b[0mindex\u001b[0m\u001b[0;34m(\u001b[0m\u001b[0mc\u001b[0m\u001b[0;34m)\u001b[0m\u001b[0;34m+\u001b[0m\u001b[0;36m1\u001b[0m\u001b[0;34m]\u001b[0m\u001b[0;34m)\u001b[0m\u001b[0;34m\u001b[0m\u001b[0m\n",
      "\u001b[0;32m~/myenv/lib64/python3.6/site-packages/pandas/core/indexing.py\u001b[0m in \u001b[0;36m__getitem__\u001b[0;34m(self, key)\u001b[0m\n\u001b[1;32m   1326\u001b[0m         \u001b[0;32melse\u001b[0m\u001b[0;34m:\u001b[0m\u001b[0;34m\u001b[0m\u001b[0m\n\u001b[1;32m   1327\u001b[0m             \u001b[0mkey\u001b[0m \u001b[0;34m=\u001b[0m \u001b[0mcom\u001b[0m\u001b[0;34m.\u001b[0m\u001b[0m_apply_if_callable\u001b[0m\u001b[0;34m(\u001b[0m\u001b[0mkey\u001b[0m\u001b[0;34m,\u001b[0m \u001b[0mself\u001b[0m\u001b[0;34m.\u001b[0m\u001b[0mobj\u001b[0m\u001b[0;34m)\u001b[0m\u001b[0;34m\u001b[0m\u001b[0m\n\u001b[0;32m-> 1328\u001b[0;31m             \u001b[0;32mreturn\u001b[0m \u001b[0mself\u001b[0m\u001b[0;34m.\u001b[0m\u001b[0m_getitem_axis\u001b[0m\u001b[0;34m(\u001b[0m\u001b[0mkey\u001b[0m\u001b[0;34m,\u001b[0m \u001b[0maxis\u001b[0m\u001b[0;34m=\u001b[0m\u001b[0;36m0\u001b[0m\u001b[0;34m)\u001b[0m\u001b[0;34m\u001b[0m\u001b[0m\n\u001b[0m\u001b[1;32m   1329\u001b[0m \u001b[0;34m\u001b[0m\u001b[0m\n\u001b[1;32m   1330\u001b[0m     \u001b[0;32mdef\u001b[0m \u001b[0m_is_scalar_access\u001b[0m\u001b[0;34m(\u001b[0m\u001b[0mself\u001b[0m\u001b[0;34m,\u001b[0m \u001b[0mkey\u001b[0m\u001b[0;34m)\u001b[0m\u001b[0;34m:\u001b[0m\u001b[0;34m\u001b[0m\u001b[0m\n",
      "\u001b[0;32m~/myenv/lib64/python3.6/site-packages/pandas/core/indexing.py\u001b[0m in \u001b[0;36m_getitem_axis\u001b[0;34m(self, key, axis)\u001b[0m\n\u001b[1;32m   1549\u001b[0m \u001b[0;34m\u001b[0m\u001b[0m\n\u001b[1;32m   1550\u001b[0m         \u001b[0;31m# fall thru to straight lookup\u001b[0m\u001b[0;34m\u001b[0m\u001b[0;34m\u001b[0m\u001b[0m\n\u001b[0;32m-> 1551\u001b[0;31m         \u001b[0mself\u001b[0m\u001b[0;34m.\u001b[0m\u001b[0m_has_valid_type\u001b[0m\u001b[0;34m(\u001b[0m\u001b[0mkey\u001b[0m\u001b[0;34m,\u001b[0m \u001b[0maxis\u001b[0m\u001b[0;34m)\u001b[0m\u001b[0;34m\u001b[0m\u001b[0m\n\u001b[0m\u001b[1;32m   1552\u001b[0m         \u001b[0;32mreturn\u001b[0m \u001b[0mself\u001b[0m\u001b[0;34m.\u001b[0m\u001b[0m_get_label\u001b[0m\u001b[0;34m(\u001b[0m\u001b[0mkey\u001b[0m\u001b[0;34m,\u001b[0m \u001b[0maxis\u001b[0m\u001b[0;34m=\u001b[0m\u001b[0maxis\u001b[0m\u001b[0;34m)\u001b[0m\u001b[0;34m\u001b[0m\u001b[0m\n\u001b[1;32m   1553\u001b[0m \u001b[0;34m\u001b[0m\u001b[0m\n",
      "\u001b[0;32m~/myenv/lib64/python3.6/site-packages/pandas/core/indexing.py\u001b[0m in \u001b[0;36m_has_valid_type\u001b[0;34m(self, key, axis)\u001b[0m\n\u001b[1;32m   1440\u001b[0m                 \u001b[0;32mraise\u001b[0m\u001b[0;34m\u001b[0m\u001b[0m\n\u001b[1;32m   1441\u001b[0m             \u001b[0;32mexcept\u001b[0m\u001b[0;34m:\u001b[0m\u001b[0;34m\u001b[0m\u001b[0m\n\u001b[0;32m-> 1442\u001b[0;31m                 \u001b[0merror\u001b[0m\u001b[0;34m(\u001b[0m\u001b[0;34m)\u001b[0m\u001b[0;34m\u001b[0m\u001b[0m\n\u001b[0m\u001b[1;32m   1443\u001b[0m \u001b[0;34m\u001b[0m\u001b[0m\n\u001b[1;32m   1444\u001b[0m         \u001b[0;32mreturn\u001b[0m \u001b[0;32mTrue\u001b[0m\u001b[0;34m\u001b[0m\u001b[0m\n",
      "\u001b[0;32m~/myenv/lib64/python3.6/site-packages/pandas/core/indexing.py\u001b[0m in \u001b[0;36merror\u001b[0;34m()\u001b[0m\n\u001b[1;32m   1427\u001b[0m                                     \"key\")\n\u001b[1;32m   1428\u001b[0m                 raise KeyError(\"the label [%s] is not in the [%s]\" %\n\u001b[0;32m-> 1429\u001b[0;31m                                (key, self.obj._get_axis_name(axis)))\n\u001b[0m\u001b[1;32m   1430\u001b[0m \u001b[0;34m\u001b[0m\u001b[0m\n\u001b[1;32m   1431\u001b[0m             \u001b[0;32mtry\u001b[0m\u001b[0;34m:\u001b[0m\u001b[0;34m\u001b[0m\u001b[0m\n",
      "\u001b[0;31mKeyError\u001b[0m: 'the label [Isole] is not in the [index]'"
     ]
    }
   ],
   "source": [
    "bdf.relation_plot_time_variant(unemployment, [unemployment.columns.tolist()[2]], resident_foreigners_norm, zones_data, 45, \"Political Information\", palette, False, \"Plots/stock_vs_political_info2_\")"
   ]
  },
  {
   "cell_type": "markdown",
   "metadata": {},
   "source": [
    "### Aspects of daily life - work degree of satisfaction"
   ]
  },
  {
   "cell_type": "code",
   "execution_count": 104,
   "metadata": {},
   "outputs": [],
   "source": [
    "work_satisfaction = pd.read_table(\"/home/sara/Documents/Immigration/Data_not_git/Prov_info/Aspects of daily life (3)/DCCV_AVQ_PERSONE_Data_4955ab2a-d94b-4381-ba06-12822e7e57e9.csv\", sep = \"\\t\")"
   ]
  },
  {
   "cell_type": "code",
   "execution_count": 105,
   "metadata": {},
   "outputs": [
    {
     "name": "stdout",
     "output_type": "stream",
     "text": [
      "Classe di età {'15 anni e più'}\n",
      "Condizione e posizione nella professione {'totale'}\n",
      "Sesso {'totale'}\n",
      "Titolo di studio {'totale'}\n"
     ]
    },
    {
     "name": "stderr",
     "output_type": "stream",
     "text": [
      "/home/sara/Documents/Immigration/Shared_models/build_data_functions.py:73: FutureWarning: '.reindex_axis' is deprecated and will be removed in a future version. Use '.reindex' instead.\n",
      "  return data.reindex_axis(sorted(data.columns), axis=1)\n"
     ]
    }
   ],
   "source": [
    "work_satisfaction = bdf.re_ordering_df(work_satisfaction)\n",
    "bdf.drop_useless(work_satisfaction)\n",
    "\n",
    "work_satisfaction = bdf.filtering(work_satisfaction, \"Territorio\", interest_territories)\n",
    "work_satisfaction = bdf.filtering(work_satisfaction, \"Seleziona periodo\", years)"
   ]
  },
  {
   "cell_type": "code",
   "execution_count": 106,
   "metadata": {},
   "outputs": [],
   "source": [
    "work_satisfaction = work_satisfaction.replace(['Provincia Autonoma Bolzano / Bozen', 'Provincia Autonoma Trento'], ['Bolzano / Bozen', 'Trento'])"
   ]
  },
  {
   "cell_type": "code",
   "execution_count": 107,
   "metadata": {},
   "outputs": [
    {
     "data": {
      "text/plain": [
       "'work_satisfaction_char, work_satisfaction_thousand = divide_table(work_satisfaction, \"Misura\")\\n\\nwork_satisfaction_char = pivot(work_satisfaction_char, \"Tipo dato\", \"0  Flags\")\\nwork_satisfaction_thousand = pivot(work_satisfaction_thousand, \"Tipo dato\", \"0  Flags\")'"
      ]
     },
     "execution_count": 107,
     "metadata": {},
     "output_type": "execute_result"
    }
   ],
   "source": [
    "'''work_satisfaction_char, work_satisfaction_thousand = divide_table(work_satisfaction, \"Misura\")\n",
    "\n",
    "work_satisfaction_char = pivot(work_satisfaction_char, \"Tipo dato\", \"0  Flags\")\n",
    "work_satisfaction_thousand = pivot(work_satisfaction_thousand, \"Tipo dato\", \"0  Flags\")'''"
   ]
  },
  {
   "cell_type": "code",
   "execution_count": 108,
   "metadata": {},
   "outputs": [],
   "source": [
    "work_satisfaction = bdf.differentiate_values(work_satisfaction, \"Misura\", \"Tipo dato\")\n",
    "work_satisfaction = bdf.pivot(work_satisfaction, \"Tipo dato\", \"0  Flags\")"
   ]
  },
  {
   "cell_type": "code",
   "execution_count": 109,
   "metadata": {},
   "outputs": [],
   "source": [
    "bdf.del_missing(work_satisfaction)"
   ]
  },
  {
   "cell_type": "code",
   "execution_count": 110,
   "metadata": {},
   "outputs": [],
   "source": [
    "bdf.check_missing_index(work_satisfaction, years, zones+[\"Italia\"])"
   ]
  },
  {
   "cell_type": "code",
   "execution_count": 111,
   "metadata": {},
   "outputs": [],
   "source": [
    "bdf.check_missing(work_satisfaction)"
   ]
  },
  {
   "cell_type": "code",
   "execution_count": 113,
   "metadata": {},
   "outputs": [],
   "source": [
    "# The the features with two different scales\n",
    "feature_scale1 = [i for i in work_satisfaction.columns.tolist() if i.split()[-1] == \"migliaia\"]\n",
    "feature_scale2 = [i for i in work_satisfaction.columns.tolist() if i not in feature_scale1]"
   ]
  },
  {
   "cell_type": "code",
   "execution_count": 114,
   "metadata": {},
   "outputs": [],
   "source": [
    "bdf.relation_plot_time_variant(work_satisfaction, feature_scale1, resident_foreigners_norm, zones_data, 45, \"Work Satisfaction\", palette, True, \"Plots/stock_vs_work_satisfaction1_\", sub_iteration = False)"
   ]
  },
  {
   "cell_type": "code",
   "execution_count": 105,
   "metadata": {},
   "outputs": [],
   "source": [
    "bdf.relation_plot_time_variant(work_satisfaction, feature_scale2, resident_foreigners_norm, zones_data, 45, \"Political Information\", palette, True, \"Plots/stock_vs_work_satisfaction2_\", sub_iteration = False)"
   ]
  },
  {
   "cell_type": "code",
   "execution_count": 272,
   "metadata": {},
   "outputs": [],
   "source": [
    "work_satisfaction.columns = [\"work_satisfaction - \"+i for i in work_satisfaction.columns]"
   ]
  },
  {
   "cell_type": "code",
   "execution_count": 273,
   "metadata": {},
   "outputs": [
    {
     "data": {
      "text/html": [
       "<div>\n",
       "<style scoped>\n",
       "    .dataframe tbody tr th:only-of-type {\n",
       "        vertical-align: middle;\n",
       "    }\n",
       "\n",
       "    .dataframe tbody tr th {\n",
       "        vertical-align: top;\n",
       "    }\n",
       "\n",
       "    .dataframe thead th {\n",
       "        text-align: right;\n",
       "    }\n",
       "</style>\n",
       "<table border=\"1\" class=\"dataframe\">\n",
       "  <thead>\n",
       "    <tr style=\"text-align: right;\">\n",
       "      <th></th>\n",
       "      <th></th>\n",
       "      <th>work_satisfaction - abbastanza - per 100 persone con le stesse caratteristiche</th>\n",
       "      <th>work_satisfaction - abbastanza - valori in migliaia</th>\n",
       "      <th>work_satisfaction - molto - per 100 persone con le stesse caratteristiche</th>\n",
       "      <th>work_satisfaction - molto - valori in migliaia</th>\n",
       "      <th>work_satisfaction - per niente - per 100 persone con le stesse caratteristiche</th>\n",
       "      <th>work_satisfaction - per niente - valori in migliaia</th>\n",
       "      <th>work_satisfaction - poco - per 100 persone con le stesse caratteristiche</th>\n",
       "      <th>work_satisfaction - poco - valori in migliaia</th>\n",
       "    </tr>\n",
       "    <tr>\n",
       "      <th>Seleziona periodo</th>\n",
       "      <th>Territorio</th>\n",
       "      <th></th>\n",
       "      <th></th>\n",
       "      <th></th>\n",
       "      <th></th>\n",
       "      <th></th>\n",
       "      <th></th>\n",
       "      <th></th>\n",
       "      <th></th>\n",
       "    </tr>\n",
       "  </thead>\n",
       "  <tbody>\n",
       "    <tr>\n",
       "      <th rowspan=\"5\" valign=\"top\">2005</th>\n",
       "      <th>Centro</th>\n",
       "      <td>59.7</td>\n",
       "      <td>2674.0</td>\n",
       "      <td>14.9</td>\n",
       "      <td>669.0</td>\n",
       "      <td>3.1</td>\n",
       "      <td>141.0</td>\n",
       "      <td>17.4</td>\n",
       "      <td>779.0</td>\n",
       "    </tr>\n",
       "    <tr>\n",
       "      <th>Isole</th>\n",
       "      <td>55.8</td>\n",
       "      <td>1140.0</td>\n",
       "      <td>12.7</td>\n",
       "      <td>260.0</td>\n",
       "      <td>3.7</td>\n",
       "      <td>75.0</td>\n",
       "      <td>23.9</td>\n",
       "      <td>488.0</td>\n",
       "    </tr>\n",
       "    <tr>\n",
       "      <th>Italia</th>\n",
       "      <td>60.8</td>\n",
       "      <td>13644.0</td>\n",
       "      <td>15.5</td>\n",
       "      <td>3488.0</td>\n",
       "      <td>3.3</td>\n",
       "      <td>745.0</td>\n",
       "      <td>16.8</td>\n",
       "      <td>3776.0</td>\n",
       "    </tr>\n",
       "    <tr>\n",
       "      <th>Nord-est</th>\n",
       "      <td>61.0</td>\n",
       "      <td>2948.0</td>\n",
       "      <td>18.9</td>\n",
       "      <td>915.0</td>\n",
       "      <td>2.2</td>\n",
       "      <td>106.0</td>\n",
       "      <td>14.7</td>\n",
       "      <td>709.0</td>\n",
       "    </tr>\n",
       "    <tr>\n",
       "      <th>Nord-ovest</th>\n",
       "      <td>61.7</td>\n",
       "      <td>4082.0</td>\n",
       "      <td>16.7</td>\n",
       "      <td>1105.0</td>\n",
       "      <td>3.7</td>\n",
       "      <td>245.0</td>\n",
       "      <td>14.9</td>\n",
       "      <td>987.0</td>\n",
       "    </tr>\n",
       "  </tbody>\n",
       "</table>\n",
       "</div>"
      ],
      "text/plain": [
       "                              work_satisfaction - abbastanza - per 100 persone con le stesse caratteristiche  \\\n",
       "Seleziona periodo Territorio                                                                                   \n",
       "2005              Centro                                                   59.7                                \n",
       "                  Isole                                                    55.8                                \n",
       "                  Italia                                                   60.8                                \n",
       "                  Nord-est                                                 61.0                                \n",
       "                  Nord-ovest                                               61.7                                \n",
       "\n",
       "                              work_satisfaction - abbastanza - valori in migliaia  \\\n",
       "Seleziona periodo Territorio                                                        \n",
       "2005              Centro                                                 2674.0     \n",
       "                  Isole                                                  1140.0     \n",
       "                  Italia                                                13644.0     \n",
       "                  Nord-est                                               2948.0     \n",
       "                  Nord-ovest                                             4082.0     \n",
       "\n",
       "                              work_satisfaction - molto - per 100 persone con le stesse caratteristiche  \\\n",
       "Seleziona periodo Territorio                                                                              \n",
       "2005              Centro                                                   14.9                           \n",
       "                  Isole                                                    12.7                           \n",
       "                  Italia                                                   15.5                           \n",
       "                  Nord-est                                                 18.9                           \n",
       "                  Nord-ovest                                               16.7                           \n",
       "\n",
       "                              work_satisfaction - molto - valori in migliaia  \\\n",
       "Seleziona periodo Territorio                                                   \n",
       "2005              Centro                                               669.0   \n",
       "                  Isole                                                260.0   \n",
       "                  Italia                                              3488.0   \n",
       "                  Nord-est                                             915.0   \n",
       "                  Nord-ovest                                          1105.0   \n",
       "\n",
       "                              work_satisfaction - per niente - per 100 persone con le stesse caratteristiche  \\\n",
       "Seleziona periodo Territorio                                                                                   \n",
       "2005              Centro                                                    3.1                                \n",
       "                  Isole                                                     3.7                                \n",
       "                  Italia                                                    3.3                                \n",
       "                  Nord-est                                                  2.2                                \n",
       "                  Nord-ovest                                                3.7                                \n",
       "\n",
       "                              work_satisfaction - per niente - valori in migliaia  \\\n",
       "Seleziona periodo Territorio                                                        \n",
       "2005              Centro                                                  141.0     \n",
       "                  Isole                                                    75.0     \n",
       "                  Italia                                                  745.0     \n",
       "                  Nord-est                                                106.0     \n",
       "                  Nord-ovest                                              245.0     \n",
       "\n",
       "                              work_satisfaction - poco - per 100 persone con le stesse caratteristiche  \\\n",
       "Seleziona periodo Territorio                                                                             \n",
       "2005              Centro                                                   17.4                          \n",
       "                  Isole                                                    23.9                          \n",
       "                  Italia                                                   16.8                          \n",
       "                  Nord-est                                                 14.7                          \n",
       "                  Nord-ovest                                               14.9                          \n",
       "\n",
       "                              work_satisfaction - poco - valori in migliaia  \n",
       "Seleziona periodo Territorio                                                 \n",
       "2005              Centro                                              779.0  \n",
       "                  Isole                                               488.0  \n",
       "                  Italia                                             3776.0  \n",
       "                  Nord-est                                            709.0  \n",
       "                  Nord-ovest                                          987.0  "
      ]
     },
     "execution_count": 273,
     "metadata": {},
     "output_type": "execute_result"
    }
   ],
   "source": [
    "work_satisfaction.head()"
   ]
  },
  {
   "cell_type": "markdown",
   "metadata": {},
   "source": [
    "### Difficulty to reach certain services"
   ]
  },
  {
   "cell_type": "code",
   "execution_count": 115,
   "metadata": {},
   "outputs": [],
   "source": [
    "reach_services_difficulty = pd.read_table(\"/home/sara/Documents/Immigration/Data_not_git/Prov_info/Aspects of daily life - Household/DCCV_AVQ_FAMIGLIE_Data_54bd8c6f-de5a-45e8-bb89-e985841c85ac.csv\", sep = \"\\t\")"
   ]
  },
  {
   "cell_type": "code",
   "execution_count": 116,
   "metadata": {},
   "outputs": [
    {
     "name": "stdout",
     "output_type": "stream",
     "text": [
      "Numero di componenti della famiglia {'totale'}\n"
     ]
    },
    {
     "name": "stderr",
     "output_type": "stream",
     "text": [
      "/home/sara/Documents/Immigration/Shared_models/build_data_functions.py:73: FutureWarning: '.reindex_axis' is deprecated and will be removed in a future version. Use '.reindex' instead.\n",
      "  return data.reindex_axis(sorted(data.columns), axis=1)\n"
     ]
    }
   ],
   "source": [
    "reach_services_difficulty = bdf.re_ordering_df(reach_services_difficulty)\n",
    "bdf.drop_useless(reach_services_difficulty)\n",
    "\n",
    "reach_services_difficulty = reach_services_difficulty.replace(['Provincia Autonoma Bolzano / Bozen', 'Provincia Autonoma Trento'], ['Bolzano / Bozen', 'Trento'])\n",
    "\n",
    "reach_services_difficulty = bdf.filtering(reach_services_difficulty, \"Territorio\", interest_territories)\n",
    "reach_services_difficulty = bdf.filtering(reach_services_difficulty, \"Seleziona periodo\", years)"
   ]
  },
  {
   "cell_type": "code",
   "execution_count": 117,
   "metadata": {},
   "outputs": [
    {
     "data": {
      "text/plain": [
       "'reach_services_difficulty_char, reach_services_difficulty_thousand = divide_table(reach_services_difficulty, \"Misura\")\\n\\nreach_services_difficulty_char = pivot(reach_services_difficulty_char, \"Tipo dato\", \"0  Flags\")\\nreach_services_difficulty_thousand = pivot(reach_services_difficulty_thousand, \"Tipo dato\", \"0  Flags\")'"
      ]
     },
     "execution_count": 117,
     "metadata": {},
     "output_type": "execute_result"
    }
   ],
   "source": [
    "'''reach_services_difficulty_char, reach_services_difficulty_thousand = divide_table(reach_services_difficulty, \"Misura\")\n",
    "\n",
    "reach_services_difficulty_char = pivot(reach_services_difficulty_char, \"Tipo dato\", \"0  Flags\")\n",
    "reach_services_difficulty_thousand = pivot(reach_services_difficulty_thousand, \"Tipo dato\", \"0  Flags\")'''"
   ]
  },
  {
   "cell_type": "code",
   "execution_count": 118,
   "metadata": {},
   "outputs": [],
   "source": [
    "reach_services_difficulty = bdf.differentiate_values(reach_services_difficulty, \"Misura\", \"Tipo dato\")\n",
    "reach_services_difficulty = bdf.pivot(reach_services_difficulty, \"Tipo dato\", \"0  Flags\")"
   ]
  },
  {
   "cell_type": "code",
   "execution_count": 119,
   "metadata": {},
   "outputs": [],
   "source": [
    "bdf.del_missing(reach_services_difficulty)"
   ]
  },
  {
   "cell_type": "code",
   "execution_count": 120,
   "metadata": {},
   "outputs": [
    {
     "name": "stdout",
     "output_type": "stream",
     "text": [
      "[]\n"
     ]
    }
   ],
   "source": [
    "bdf.check_missing_index(reach_services_difficulty, years, places_to_check)"
   ]
  },
  {
   "cell_type": "code",
   "execution_count": 121,
   "metadata": {},
   "outputs": [],
   "source": [
    "bdf.check_missing(reach_services_difficulty)"
   ]
  },
  {
   "cell_type": "code",
   "execution_count": 341,
   "metadata": {},
   "outputs": [],
   "source": [
    "# The the features with two different scales\n",
    "feature_scale1 = [i for i in reach_services_difficulty.columns.tolist() if i.split()[-1] == \"migliaia\"]\n",
    "feature_scale2 = [i for i in reach_services_difficulty.columns.tolist() if i not in feature_scale1]"
   ]
  },
  {
   "cell_type": "code",
   "execution_count": 342,
   "metadata": {},
   "outputs": [],
   "source": [
    "bdf.relation_plot_time_variant(reach_services_difficulty, feature_scale1, resident_foreigners_norm, zones_data, 45, \"Reach Services Difficulty\", palette, True, \"Plots/stock_vs_reach_services_difficulty1_\")"
   ]
  },
  {
   "cell_type": "code",
   "execution_count": 343,
   "metadata": {},
   "outputs": [],
   "source": [
    "bdf.relation_plot_time_variant(reach_services_difficulty, feature_scale2, resident_foreigners_norm, zones_data, 45, \"Reach Services Difficulty\", palette, True, \"Plots/stock_vs_reach_services_difficulty2_\")"
   ]
  },
  {
   "cell_type": "code",
   "execution_count": 274,
   "metadata": {},
   "outputs": [],
   "source": [
    "reach_services_difficulty.columns = [\"reach_difficulty - \"+i for i in reach_services_difficulty.columns]"
   ]
  },
  {
   "cell_type": "code",
   "execution_count": 275,
   "metadata": {},
   "outputs": [
    {
     "data": {
      "text/html": [
       "<div>\n",
       "<style scoped>\n",
       "    .dataframe tbody tr th:only-of-type {\n",
       "        vertical-align: middle;\n",
       "    }\n",
       "\n",
       "    .dataframe tbody tr th {\n",
       "        vertical-align: top;\n",
       "    }\n",
       "\n",
       "    .dataframe thead th {\n",
       "        text-align: right;\n",
       "    }\n",
       "</style>\n",
       "<table border=\"1\" class=\"dataframe\">\n",
       "  <thead>\n",
       "    <tr style=\"text-align: right;\">\n",
       "      <th></th>\n",
       "      <th></th>\n",
       "      <th>reach_difficulty - farmacie - per 100 famiglie con le stesse caratteristiche</th>\n",
       "      <th>reach_difficulty - farmacie - valori in migliaia</th>\n",
       "      <th>reach_difficulty - negozi alimentari, mercati - per 100 famiglie con le stesse caratteristiche</th>\n",
       "      <th>reach_difficulty - negozi alimentari, mercati - valori in migliaia</th>\n",
       "      <th>reach_difficulty - polizia, carabinieri - per 100 famiglie con le stesse caratteristiche</th>\n",
       "      <th>reach_difficulty - polizia, carabinieri - valori in migliaia</th>\n",
       "      <th>reach_difficulty - pronto soccorso - per 100 famiglie con le stesse caratteristiche</th>\n",
       "      <th>reach_difficulty - pronto soccorso - valori in migliaia</th>\n",
       "      <th>reach_difficulty - supermercati - per 100 famiglie con le stesse caratteristiche</th>\n",
       "      <th>reach_difficulty - supermercati - valori in migliaia</th>\n",
       "      <th>reach_difficulty - uffici comunali - per 100 famiglie con le stesse caratteristiche</th>\n",
       "      <th>reach_difficulty - uffici comunali - valori in migliaia</th>\n",
       "      <th>reach_difficulty - uffici postali - per 100 famiglie con le stesse caratteristiche</th>\n",
       "      <th>reach_difficulty - uffici postali - valori in migliaia</th>\n",
       "    </tr>\n",
       "    <tr>\n",
       "      <th>Seleziona periodo</th>\n",
       "      <th>Territorio</th>\n",
       "      <th></th>\n",
       "      <th></th>\n",
       "      <th></th>\n",
       "      <th></th>\n",
       "      <th></th>\n",
       "      <th></th>\n",
       "      <th></th>\n",
       "      <th></th>\n",
       "      <th></th>\n",
       "      <th></th>\n",
       "      <th></th>\n",
       "      <th></th>\n",
       "      <th></th>\n",
       "      <th></th>\n",
       "    </tr>\n",
       "  </thead>\n",
       "  <tbody>\n",
       "    <tr>\n",
       "      <th rowspan=\"5\" valign=\"top\">2005</th>\n",
       "      <th>Abruzzo</th>\n",
       "      <td>25.4</td>\n",
       "      <td>124.0</td>\n",
       "      <td>24.8</td>\n",
       "      <td>121.0</td>\n",
       "      <td>37.6</td>\n",
       "      <td>184.0</td>\n",
       "      <td>62.0</td>\n",
       "      <td>304.0</td>\n",
       "      <td>44.4</td>\n",
       "      <td>218.0</td>\n",
       "      <td>34.9</td>\n",
       "      <td>171.0</td>\n",
       "      <td>28.3</td>\n",
       "      <td>139.0</td>\n",
       "    </tr>\n",
       "    <tr>\n",
       "      <th>Basilicata</th>\n",
       "      <td>35.4</td>\n",
       "      <td>77.0</td>\n",
       "      <td>25.6</td>\n",
       "      <td>56.0</td>\n",
       "      <td>42.9</td>\n",
       "      <td>94.0</td>\n",
       "      <td>63.7</td>\n",
       "      <td>139.0</td>\n",
       "      <td>44.3</td>\n",
       "      <td>97.0</td>\n",
       "      <td>42.1</td>\n",
       "      <td>92.0</td>\n",
       "      <td>38.7</td>\n",
       "      <td>85.0</td>\n",
       "    </tr>\n",
       "    <tr>\n",
       "      <th>Bolzano / Bozen</th>\n",
       "      <td>25.6</td>\n",
       "      <td>47.0</td>\n",
       "      <td>16.9</td>\n",
       "      <td>31.0</td>\n",
       "      <td>33.6</td>\n",
       "      <td>62.0</td>\n",
       "      <td>42.5</td>\n",
       "      <td>78.0</td>\n",
       "      <td>24.4</td>\n",
       "      <td>45.0</td>\n",
       "      <td>27.9</td>\n",
       "      <td>51.0</td>\n",
       "      <td>25.0</td>\n",
       "      <td>46.0</td>\n",
       "    </tr>\n",
       "    <tr>\n",
       "      <th>Calabria</th>\n",
       "      <td>34.9</td>\n",
       "      <td>258.0</td>\n",
       "      <td>31.2</td>\n",
       "      <td>230.0</td>\n",
       "      <td>47.8</td>\n",
       "      <td>353.0</td>\n",
       "      <td>64.8</td>\n",
       "      <td>479.0</td>\n",
       "      <td>44.9</td>\n",
       "      <td>332.0</td>\n",
       "      <td>41.3</td>\n",
       "      <td>305.0</td>\n",
       "      <td>36.5</td>\n",
       "      <td>270.0</td>\n",
       "    </tr>\n",
       "    <tr>\n",
       "      <th>Campania</th>\n",
       "      <td>28.2</td>\n",
       "      <td>543.0</td>\n",
       "      <td>22.0</td>\n",
       "      <td>424.0</td>\n",
       "      <td>48.2</td>\n",
       "      <td>926.0</td>\n",
       "      <td>62.2</td>\n",
       "      <td>1197.0</td>\n",
       "      <td>40.8</td>\n",
       "      <td>784.0</td>\n",
       "      <td>40.6</td>\n",
       "      <td>782.0</td>\n",
       "      <td>38.3</td>\n",
       "      <td>737.0</td>\n",
       "    </tr>\n",
       "  </tbody>\n",
       "</table>\n",
       "</div>"
      ],
      "text/plain": [
       "                                   reach_difficulty - farmacie - per 100 famiglie con le stesse caratteristiche  \\\n",
       "Seleziona periodo Territorio                                                                                      \n",
       "2005              Abruzzo                                                       25.4                              \n",
       "                  Basilicata                                                    35.4                              \n",
       "                  Bolzano / Bozen                                               25.6                              \n",
       "                  Calabria                                                      34.9                              \n",
       "                  Campania                                                      28.2                              \n",
       "\n",
       "                                   reach_difficulty - farmacie - valori in migliaia  \\\n",
       "Seleziona periodo Territorio                                                          \n",
       "2005              Abruzzo                                                     124.0   \n",
       "                  Basilicata                                                   77.0   \n",
       "                  Bolzano / Bozen                                              47.0   \n",
       "                  Calabria                                                    258.0   \n",
       "                  Campania                                                    543.0   \n",
       "\n",
       "                                   reach_difficulty - negozi alimentari, mercati - per 100 famiglie con le stesse caratteristiche  \\\n",
       "Seleziona periodo Territorio                                                                                                        \n",
       "2005              Abruzzo                                                       24.8                                                \n",
       "                  Basilicata                                                    25.6                                                \n",
       "                  Bolzano / Bozen                                               16.9                                                \n",
       "                  Calabria                                                      31.2                                                \n",
       "                  Campania                                                      22.0                                                \n",
       "\n",
       "                                   reach_difficulty - negozi alimentari, mercati - valori in migliaia  \\\n",
       "Seleziona periodo Territorio                                                                            \n",
       "2005              Abruzzo                                                      121.0                    \n",
       "                  Basilicata                                                    56.0                    \n",
       "                  Bolzano / Bozen                                               31.0                    \n",
       "                  Calabria                                                     230.0                    \n",
       "                  Campania                                                     424.0                    \n",
       "\n",
       "                                   reach_difficulty - polizia, carabinieri - per 100 famiglie con le stesse caratteristiche  \\\n",
       "Seleziona periodo Territorio                                                                                                  \n",
       "2005              Abruzzo                                                       37.6                                          \n",
       "                  Basilicata                                                    42.9                                          \n",
       "                  Bolzano / Bozen                                               33.6                                          \n",
       "                  Calabria                                                      47.8                                          \n",
       "                  Campania                                                      48.2                                          \n",
       "\n",
       "                                   reach_difficulty - polizia, carabinieri - valori in migliaia  \\\n",
       "Seleziona periodo Territorio                                                                      \n",
       "2005              Abruzzo                                                      184.0              \n",
       "                  Basilicata                                                    94.0              \n",
       "                  Bolzano / Bozen                                               62.0              \n",
       "                  Calabria                                                     353.0              \n",
       "                  Campania                                                     926.0              \n",
       "\n",
       "                                   reach_difficulty - pronto soccorso - per 100 famiglie con le stesse caratteristiche  \\\n",
       "Seleziona periodo Territorio                                                                                             \n",
       "2005              Abruzzo                                                       62.0                                     \n",
       "                  Basilicata                                                    63.7                                     \n",
       "                  Bolzano / Bozen                                               42.5                                     \n",
       "                  Calabria                                                      64.8                                     \n",
       "                  Campania                                                      62.2                                     \n",
       "\n",
       "                                   reach_difficulty - pronto soccorso - valori in migliaia  \\\n",
       "Seleziona periodo Territorio                                                                 \n",
       "2005              Abruzzo                                                      304.0         \n",
       "                  Basilicata                                                   139.0         \n",
       "                  Bolzano / Bozen                                               78.0         \n",
       "                  Calabria                                                     479.0         \n",
       "                  Campania                                                    1197.0         \n",
       "\n",
       "                                   reach_difficulty - supermercati - per 100 famiglie con le stesse caratteristiche  \\\n",
       "Seleziona periodo Territorio                                                                                          \n",
       "2005              Abruzzo                                                       44.4                                  \n",
       "                  Basilicata                                                    44.3                                  \n",
       "                  Bolzano / Bozen                                               24.4                                  \n",
       "                  Calabria                                                      44.9                                  \n",
       "                  Campania                                                      40.8                                  \n",
       "\n",
       "                                   reach_difficulty - supermercati - valori in migliaia  \\\n",
       "Seleziona periodo Territorio                                                              \n",
       "2005              Abruzzo                                                      218.0      \n",
       "                  Basilicata                                                    97.0      \n",
       "                  Bolzano / Bozen                                               45.0      \n",
       "                  Calabria                                                     332.0      \n",
       "                  Campania                                                     784.0      \n",
       "\n",
       "                                   reach_difficulty - uffici comunali - per 100 famiglie con le stesse caratteristiche  \\\n",
       "Seleziona periodo Territorio                                                                                             \n",
       "2005              Abruzzo                                                       34.9                                     \n",
       "                  Basilicata                                                    42.1                                     \n",
       "                  Bolzano / Bozen                                               27.9                                     \n",
       "                  Calabria                                                      41.3                                     \n",
       "                  Campania                                                      40.6                                     \n",
       "\n",
       "                                   reach_difficulty - uffici comunali - valori in migliaia  \\\n",
       "Seleziona periodo Territorio                                                                 \n",
       "2005              Abruzzo                                                      171.0         \n",
       "                  Basilicata                                                    92.0         \n",
       "                  Bolzano / Bozen                                               51.0         \n",
       "                  Calabria                                                     305.0         \n",
       "                  Campania                                                     782.0         \n",
       "\n",
       "                                   reach_difficulty - uffici postali - per 100 famiglie con le stesse caratteristiche  \\\n",
       "Seleziona periodo Territorio                                                                                            \n",
       "2005              Abruzzo                                                       28.3                                    \n",
       "                  Basilicata                                                    38.7                                    \n",
       "                  Bolzano / Bozen                                               25.0                                    \n",
       "                  Calabria                                                      36.5                                    \n",
       "                  Campania                                                      38.3                                    \n",
       "\n",
       "                                   reach_difficulty - uffici postali - valori in migliaia  \n",
       "Seleziona periodo Territorio                                                               \n",
       "2005              Abruzzo                                                      139.0       \n",
       "                  Basilicata                                                    85.0       \n",
       "                  Bolzano / Bozen                                               46.0       \n",
       "                  Calabria                                                     270.0       \n",
       "                  Campania                                                     737.0       "
      ]
     },
     "execution_count": 275,
     "metadata": {},
     "output_type": "execute_result"
    }
   ],
   "source": [
    "reach_services_difficulty.head()"
   ]
  },
  {
   "cell_type": "markdown",
   "metadata": {},
   "source": [
    "### Internal Migration - Transfer of Residence"
   ]
  },
  {
   "cell_type": "code",
   "execution_count": 123,
   "metadata": {},
   "outputs": [],
   "source": [
    "internal_migration = pd.read_table(\"/home/sara/Documents/Immigration/Data_not_git/Prov_info/Migration (Transfer of residence)/DCIS_MIGRAZIONI_Data_61410102-5b80-4f23-bbaa-58c89c5b5657.csv\")"
   ]
  },
  {
   "cell_type": "code",
   "execution_count": 124,
   "metadata": {},
   "outputs": [
    {
     "name": "stderr",
     "output_type": "stream",
     "text": [
      "/home/sara/Documents/Immigration/Shared_models/build_data_functions.py:73: FutureWarning: '.reindex_axis' is deprecated and will be removed in a future version. Use '.reindex' instead.\n",
      "  return data.reindex_axis(sorted(data.columns), axis=1)\n"
     ]
    },
    {
     "name": "stdout",
     "output_type": "stream",
     "text": [
      "Tipo di indicatore demografico {'trasferimenti di residenza'}\n",
      "Sesso {'totale'}\n",
      "Tipo di trasferimento {'tutte le voci'}\n",
      "Età {'totale'}\n",
      "Stato estero di provenienza {'Mondo'}\n",
      "Stato estero di  destinazione {'Mondo'}\n"
     ]
    }
   ],
   "source": [
    "live_births = bdf.re_ordering_df(internal_migration)\n",
    "bdf.drop_useless(internal_migration)"
   ]
  },
  {
   "cell_type": "code",
   "execution_count": 125,
   "metadata": {},
   "outputs": [],
   "source": [
    "internal_migration = internal_migration.replace(['Provincia Autonoma Bolzano / Bozen', 'Provincia Autonoma Trento'], ['Bolzano / Bozen', 'Trento'])"
   ]
  },
  {
   "cell_type": "code",
   "execution_count": 126,
   "metadata": {},
   "outputs": [],
   "source": [
    "internal_migration = bdf.filtering(internal_migration, \"Territorio di origine\", interest_territories)\n",
    "internal_migration = bdf.filtering(internal_migration, \"Seleziona periodo\", years)"
   ]
  },
  {
   "cell_type": "code",
   "execution_count": 127,
   "metadata": {},
   "outputs": [
    {
     "data": {
      "text/plain": [
       "{'Foreign country', 'Italia', 'Totale'}"
      ]
     },
     "execution_count": 127,
     "metadata": {},
     "output_type": "execute_result"
    }
   ],
   "source": [
    "set(internal_migration[\"Paese di cittadinanza\"])"
   ]
  },
  {
   "cell_type": "code",
   "execution_count": 128,
   "metadata": {},
   "outputs": [
    {
     "data": {
      "text/plain": [
       "'internal_migration_foreign, internal_migration_it, internal_migration_tot = divide_table(internal_migration, \"Paese di cittadinanza\")\\ninternal_migration_foreign = pivot(internal_migration_foreign, \"Territorio di origine\", \"0  Flags\")\\ninternal_migration_it = pivot(internal_migration_it, \"Territorio di origine\", \"0  Flags\")\\ninternal_migration_tot = pivot(internal_migration_tot, \"Territorio di origine\", \"0  Flags\")'"
      ]
     },
     "execution_count": 128,
     "metadata": {},
     "output_type": "execute_result"
    }
   ],
   "source": [
    "'''internal_migration_foreign, internal_migration_it, internal_migration_tot = divide_table(internal_migration, \"Paese di cittadinanza\")\n",
    "internal_migration_foreign = pivot(internal_migration_foreign, \"Territorio di origine\", \"0  Flags\")\n",
    "internal_migration_it = pivot(internal_migration_it, \"Territorio di origine\", \"0  Flags\")\n",
    "internal_migration_tot = pivot(internal_migration_tot, \"Territorio di origine\", \"0  Flags\")'''"
   ]
  },
  {
   "cell_type": "code",
   "execution_count": 129,
   "metadata": {},
   "outputs": [],
   "source": [
    "internal_migration = bdf.differentiate_values(internal_migration, \"Paese di cittadinanza\", \"Territorio di origine\")\n",
    "internal_migration = bdf.pivot(internal_migration, \"Territorio di origine\", \"0  Flags\")"
   ]
  },
  {
   "cell_type": "code",
   "execution_count": 130,
   "metadata": {
    "scrolled": true
   },
   "outputs": [
    {
     "name": "stdout",
     "output_type": "stream",
     "text": [
      "Asti - Foreign country\n",
      "Belluno - Foreign country\n",
      "Benevento - Foreign country\n",
      "Biella - Foreign country\n",
      "Brindisi - Foreign country\n",
      "Caltanissetta - Foreign country\n",
      "Campobasso - Foreign country\n",
      "Carbonia-Iglesias - Foreign country\n",
      "Crotone - Foreign country\n",
      "Enna - Foreign country\n",
      "Gorizia - Foreign country\n",
      "Imperia - Foreign country\n",
      "Isernia - Foreign country\n",
      "La Spezia - Foreign country\n",
      "Lodi - Foreign country\n",
      "Massa-Carrara - Foreign country\n",
      "Matera - Foreign country\n",
      "Medio Campidano - Foreign country\n",
      "Nuoro - Foreign country\n",
      "Ogliastra - Foreign country\n",
      "Olbia-Tempio - Foreign country\n",
      "Oristano - Foreign country\n",
      "Rieti - Foreign country\n",
      "Sassari - Foreign country\n",
      "Sondrio - Foreign country\n",
      "Taranto - Foreign country\n",
      "Trapani - Foreign country\n",
      "Trieste - Foreign country\n",
      "Valle d'Aosta / Vallée d'Aoste - Foreign country\n",
      "Verbano-Cusio-Ossola - Foreign country\n",
      "Vercelli - Foreign country\n",
      "Vibo Valentia - Foreign country\n"
     ]
    }
   ],
   "source": [
    "bdf.del_missing(internal_migration)"
   ]
  },
  {
   "cell_type": "code",
   "execution_count": 131,
   "metadata": {},
   "outputs": [
    {
     "name": "stdout",
     "output_type": "stream",
     "text": [
      "['Barletta-Andria-Trani', 'Fermo', 'Monza e della Brianza']\n"
     ]
    }
   ],
   "source": [
    "bdf.check_missing_index(internal_migration, years, interest_territories)"
   ]
  },
  {
   "cell_type": "code",
   "execution_count": 132,
   "metadata": {
    "scrolled": true
   },
   "outputs": [
    {
     "name": "stdout",
     "output_type": "stream",
     "text": [
      "Abruzzo - Foreign country\n",
      "Abruzzo - Italia\n",
      "Abruzzo - Totale\n",
      "Agrigento - Foreign country\n",
      "Agrigento - Italia\n",
      "Agrigento - Totale\n",
      "Alessandria - Foreign country\n",
      "Alessandria - Italia\n",
      "Alessandria - Totale\n",
      "Ancona - Foreign country\n",
      "Ancona - Italia\n",
      "Ancona - Totale\n",
      "Arezzo - Foreign country\n",
      "Arezzo - Italia\n",
      "Arezzo - Totale\n",
      "Ascoli Piceno - Foreign country\n",
      "Ascoli Piceno - Italia\n",
      "Ascoli Piceno - Totale\n",
      "Asti - Italia\n",
      "Asti - Totale\n",
      "Avellino - Foreign country\n",
      "Avellino - Italia\n",
      "Avellino - Totale\n",
      "Bari - Foreign country\n",
      "Bari - Italia\n",
      "Bari - Totale\n",
      "Basilicata - Foreign country\n",
      "Basilicata - Italia\n",
      "Basilicata - Totale\n",
      "Belluno - Italia\n",
      "Belluno - Totale\n",
      "Benevento - Italia\n",
      "Benevento - Totale\n",
      "Bergamo - Foreign country\n",
      "Bergamo - Italia\n",
      "Bergamo - Totale\n",
      "Biella - Italia\n",
      "Biella - Totale\n",
      "Bologna - Foreign country\n",
      "Bologna - Italia\n",
      "Bolzano / Bozen - Foreign country\n",
      "Bolzano / Bozen - Italia\n",
      "Bolzano / Bozen - Totale\n",
      "Brescia - Foreign country\n",
      "Brescia - Italia\n",
      "Brescia - Totale\n",
      "Brindisi - Italia\n",
      "Brindisi - Totale\n",
      "Cagliari - Foreign country\n",
      "Cagliari - Italia\n",
      "Cagliari - Totale\n",
      "Calabria - Foreign country\n",
      "Calabria - Italia\n",
      "Calabria - Totale\n",
      "Caltanissetta - Italia\n",
      "Caltanissetta - Totale\n",
      "Campania - Foreign country\n",
      "Campobasso - Italia\n",
      "Campobasso - Totale\n",
      "Carbonia-Iglesias - Italia\n",
      "Carbonia-Iglesias - Totale\n",
      "Caserta - Foreign country\n",
      "Caserta - Italia\n",
      "Caserta - Totale\n",
      "Catania - Foreign country\n",
      "Catania - Italia\n",
      "Catania - Totale\n",
      "Catanzaro - Foreign country\n",
      "Catanzaro - Italia\n",
      "Catanzaro - Totale\n",
      "Centro - Foreign country\n",
      "Chieti - Foreign country\n",
      "Chieti - Italia\n",
      "Chieti - Totale\n",
      "Como - Foreign country\n",
      "Como - Italia\n",
      "Como - Totale\n",
      "Cosenza - Foreign country\n",
      "Cosenza - Italia\n",
      "Cosenza - Totale\n",
      "Cremona - Foreign country\n",
      "Cremona - Italia\n",
      "Cremona - Totale\n",
      "Crotone - Italia\n",
      "Crotone - Totale\n",
      "Cuneo - Foreign country\n",
      "Cuneo - Italia\n",
      "Cuneo - Totale\n",
      "Emilia-Romagna - Foreign country\n",
      "Enna - Italia\n",
      "Enna - Totale\n",
      "Ferrara - Foreign country\n",
      "Ferrara - Italia\n",
      "Ferrara - Totale\n",
      "Firenze - Foreign country\n",
      "Firenze - Italia\n",
      "Firenze - Totale\n",
      "Foggia - Foreign country\n",
      "Foggia - Italia\n",
      "Foggia - Totale\n",
      "Forlì-Cesena - Foreign country\n",
      "Forlì-Cesena - Italia\n",
      "Forlì-Cesena - Totale\n",
      "Friuli-Venezia Giulia - Foreign country\n",
      "Friuli-Venezia Giulia - Italia\n",
      "Friuli-Venezia Giulia - Totale\n",
      "Frosinone - Foreign country\n",
      "Frosinone - Italia\n",
      "Frosinone - Totale\n",
      "Genova - Foreign country\n",
      "Genova - Italia\n",
      "Genova - Totale\n",
      "Gorizia - Italia\n",
      "Gorizia - Totale\n",
      "Grosseto - Foreign country\n",
      "Grosseto - Italia\n",
      "Grosseto - Totale\n",
      "Imperia - Italia\n",
      "Imperia - Totale\n",
      "Isernia - Italia\n",
      "Isernia - Totale\n",
      "Isole - Foreign country\n",
      "L'Aquila - Foreign country\n",
      "L'Aquila - Italia\n",
      "L'Aquila - Totale\n",
      "La Spezia - Italia\n",
      "La Spezia - Totale\n",
      "Latina - Foreign country\n",
      "Latina - Italia\n",
      "Latina - Totale\n",
      "Lazio - Foreign country\n",
      "Lecce - Foreign country\n",
      "Lecce - Italia\n",
      "Lecce - Totale\n",
      "Lecco - Foreign country\n",
      "Lecco - Italia\n",
      "Lecco - Totale\n",
      "Liguria - Foreign country\n",
      "Liguria - Italia\n",
      "Liguria - Totale\n",
      "Livorno - Foreign country\n",
      "Livorno - Italia\n",
      "Livorno - Totale\n",
      "Lodi - Italia\n",
      "Lodi - Totale\n",
      "Lombardia - Foreign country\n",
      "Lucca - Foreign country\n",
      "Lucca - Italia\n",
      "Lucca - Totale\n",
      "Macerata - Foreign country\n",
      "Macerata - Italia\n",
      "Macerata - Totale\n",
      "Mantova - Foreign country\n",
      "Mantova - Italia\n",
      "Mantova - Totale\n",
      "Marche - Foreign country\n",
      "Marche - Italia\n",
      "Marche - Totale\n",
      "Massa-Carrara - Italia\n",
      "Massa-Carrara - Totale\n",
      "Matera - Italia\n",
      "Matera - Totale\n",
      "Medio Campidano - Italia\n",
      "Medio Campidano - Totale\n",
      "Messina - Foreign country\n",
      "Messina - Italia\n",
      "Messina - Totale\n",
      "Milano - Foreign country\n",
      "Modena - Foreign country\n",
      "Modena - Italia\n",
      "Modena - Totale\n",
      "Molise - Foreign country\n",
      "Molise - Italia\n",
      "Molise - Totale\n",
      "Napoli - Foreign country\n",
      "Napoli - Italia\n",
      "Napoli - Totale\n",
      "Novara - Foreign country\n",
      "Novara - Italia\n",
      "Novara - Totale\n",
      "Nuoro - Italia\n",
      "Nuoro - Totale\n",
      "Ogliastra - Italia\n",
      "Ogliastra - Totale\n",
      "Olbia-Tempio - Italia\n",
      "Olbia-Tempio - Totale\n",
      "Oristano - Italia\n",
      "Oristano - Totale\n",
      "Padova - Foreign country\n",
      "Padova - Italia\n",
      "Padova - Totale\n",
      "Palermo - Foreign country\n",
      "Palermo - Italia\n",
      "Palermo - Totale\n",
      "Parma - Foreign country\n",
      "Parma - Italia\n",
      "Parma - Totale\n",
      "Pavia - Foreign country\n",
      "Pavia - Italia\n",
      "Pavia - Totale\n",
      "Perugia - Foreign country\n",
      "Perugia - Italia\n",
      "Perugia - Totale\n",
      "Pesaro e Urbino - Foreign country\n",
      "Pesaro e Urbino - Italia\n",
      "Pesaro e Urbino - Totale\n",
      "Pescara - Foreign country\n",
      "Pescara - Italia\n",
      "Pescara - Totale\n",
      "Piacenza - Foreign country\n",
      "Piacenza - Italia\n",
      "Piacenza - Totale\n",
      "Piemonte - Foreign country\n",
      "Pisa - Foreign country\n",
      "Pisa - Italia\n",
      "Pisa - Totale\n",
      "Pistoia - Foreign country\n",
      "Pistoia - Italia\n",
      "Pistoia - Totale\n",
      "Pordenone - Foreign country\n",
      "Pordenone - Italia\n",
      "Pordenone - Totale\n",
      "Potenza - Foreign country\n",
      "Potenza - Italia\n",
      "Potenza - Totale\n",
      "Prato - Foreign country\n",
      "Prato - Italia\n",
      "Prato - Totale\n",
      "Puglia - Foreign country\n",
      "Ragusa - Foreign country\n",
      "Ragusa - Italia\n",
      "Ragusa - Totale\n",
      "Ravenna - Foreign country\n",
      "Ravenna - Italia\n",
      "Ravenna - Totale\n",
      "Reggio di Calabria - Foreign country\n",
      "Reggio di Calabria - Italia\n",
      "Reggio di Calabria - Totale\n",
      "Reggio nell'Emilia - Foreign country\n",
      "Reggio nell'Emilia - Italia\n",
      "Reggio nell'Emilia - Totale\n",
      "Rieti - Italia\n",
      "Rieti - Totale\n",
      "Rimini - Foreign country\n",
      "Rimini - Italia\n",
      "Rimini - Totale\n",
      "Roma - Foreign country\n",
      "Rovigo - Foreign country\n",
      "Rovigo - Italia\n",
      "Rovigo - Totale\n",
      "Salerno - Foreign country\n",
      "Salerno - Italia\n",
      "Salerno - Totale\n",
      "Sardegna - Foreign country\n",
      "Sassari - Italia\n",
      "Sassari - Totale\n",
      "Savona - Foreign country\n",
      "Savona - Italia\n",
      "Savona - Totale\n",
      "Sicilia - Foreign country\n",
      "Siena - Foreign country\n",
      "Siena - Italia\n",
      "Siena - Totale\n",
      "Siracusa - Foreign country\n",
      "Siracusa - Italia\n",
      "Siracusa - Totale\n",
      "Sondrio - Italia\n",
      "Sondrio - Totale\n",
      "Sud - Foreign country\n",
      "Taranto - Italia\n",
      "Taranto - Totale\n",
      "Teramo - Foreign country\n",
      "Teramo - Italia\n",
      "Teramo - Totale\n",
      "Terni - Foreign country\n",
      "Terni - Italia\n",
      "Terni - Totale\n",
      "Torino - Foreign country\n",
      "Torino - Italia\n",
      "Toscana - Foreign country\n",
      "Trapani - Italia\n",
      "Trapani - Totale\n",
      "Trento - Foreign country\n",
      "Trento - Italia\n",
      "Trento - Totale\n",
      "Treviso - Foreign country\n",
      "Treviso - Italia\n",
      "Treviso - Totale\n",
      "Trieste - Italia\n",
      "Trieste - Totale\n",
      "Udine - Foreign country\n",
      "Udine - Italia\n",
      "Udine - Totale\n",
      "Umbria - Foreign country\n",
      "Umbria - Italia\n",
      "Umbria - Totale\n",
      "Valle d'Aosta / Vallée d'Aoste - Italia\n",
      "Valle d'Aosta / Vallée d'Aoste - Totale\n",
      "Varese - Foreign country\n",
      "Varese - Italia\n",
      "Varese - Totale\n",
      "Veneto - Foreign country\n",
      "Venezia - Foreign country\n",
      "Venezia - Italia\n",
      "Venezia - Totale\n",
      "Verbano-Cusio-Ossola - Italia\n",
      "Verbano-Cusio-Ossola - Totale\n",
      "Vercelli - Italia\n",
      "Vercelli - Totale\n",
      "Verona - Foreign country\n",
      "Verona - Italia\n",
      "Verona - Totale\n",
      "Vibo Valentia - Italia\n",
      "Vibo Valentia - Totale\n",
      "Vicenza - Foreign country\n",
      "Vicenza - Italia\n",
      "Vicenza - Totale\n",
      "Viterbo - Foreign country\n",
      "Viterbo - Italia\n",
      "Viterbo - Totale\n"
     ]
    }
   ],
   "source": [
    "bdf.check_missing(internal_migration)"
   ]
  },
  {
   "cell_type": "code",
   "execution_count": 133,
   "metadata": {},
   "outputs": [],
   "source": [
    "aggregate_level_col = [i for i in internal_migration.columns if i.split(\" - \")[0] == \"Italia\"]\n",
    "internal_migration = internal_migration[aggregate_level_col]\n",
    "internal_migration.columns = [i.split(\" - \")[1] for i in internal_migration.columns]"
   ]
  },
  {
   "cell_type": "code",
   "execution_count": 130,
   "metadata": {},
   "outputs": [],
   "source": [
    "bdf.relation_plot_time_variant(internal_migration, internal_migration.columns.tolist(), resident_foreigners_norm, zones_data, 45, \"Internal Migration\", palette, True, \"Plots/stock_vs_internal_migration_\")"
   ]
  },
  {
   "cell_type": "code",
   "execution_count": 280,
   "metadata": {},
   "outputs": [],
   "source": [
    "internal_migration.columns = [\"internal_migration - \"+i for i in internal_migration.columns]"
   ]
  },
  {
   "cell_type": "code",
   "execution_count": 281,
   "metadata": {},
   "outputs": [
    {
     "data": {
      "text/html": [
       "<div>\n",
       "<style scoped>\n",
       "    .dataframe tbody tr th:only-of-type {\n",
       "        vertical-align: middle;\n",
       "    }\n",
       "\n",
       "    .dataframe tbody tr th {\n",
       "        vertical-align: top;\n",
       "    }\n",
       "\n",
       "    .dataframe thead th {\n",
       "        text-align: right;\n",
       "    }\n",
       "</style>\n",
       "<table border=\"1\" class=\"dataframe\">\n",
       "  <thead>\n",
       "    <tr style=\"text-align: right;\">\n",
       "      <th></th>\n",
       "      <th></th>\n",
       "      <th>internal_migration - Foreign country</th>\n",
       "      <th>internal_migration - Italia</th>\n",
       "      <th>internal_migration - Totale</th>\n",
       "    </tr>\n",
       "    <tr>\n",
       "      <th>Seleziona periodo</th>\n",
       "      <th>Territorio di di destinazione</th>\n",
       "      <th></th>\n",
       "      <th></th>\n",
       "      <th></th>\n",
       "    </tr>\n",
       "  </thead>\n",
       "  <tbody>\n",
       "    <tr>\n",
       "      <th rowspan=\"5\" valign=\"top\">2005</th>\n",
       "      <th>Abruzzo</th>\n",
       "      <td>3005.0</td>\n",
       "      <td>21989.0</td>\n",
       "      <td>24994.0</td>\n",
       "    </tr>\n",
       "    <tr>\n",
       "      <th>Agrigento</th>\n",
       "      <td>165.0</td>\n",
       "      <td>3740.0</td>\n",
       "      <td>3905.0</td>\n",
       "    </tr>\n",
       "    <tr>\n",
       "      <th>Alessandria</th>\n",
       "      <td>1725.0</td>\n",
       "      <td>10066.0</td>\n",
       "      <td>11791.0</td>\n",
       "    </tr>\n",
       "    <tr>\n",
       "      <th>Ancona</th>\n",
       "      <td>1971.0</td>\n",
       "      <td>8649.0</td>\n",
       "      <td>10620.0</td>\n",
       "    </tr>\n",
       "    <tr>\n",
       "      <th>Arezzo</th>\n",
       "      <td>1472.0</td>\n",
       "      <td>5750.0</td>\n",
       "      <td>7222.0</td>\n",
       "    </tr>\n",
       "  </tbody>\n",
       "</table>\n",
       "</div>"
      ],
      "text/plain": [
       "                                                 internal_migration - Foreign country  \\\n",
       "Seleziona periodo Territorio di di destinazione                                         \n",
       "2005              Abruzzo                                                      3005.0   \n",
       "                  Agrigento                                                     165.0   \n",
       "                  Alessandria                                                  1725.0   \n",
       "                  Ancona                                                       1971.0   \n",
       "                  Arezzo                                                       1472.0   \n",
       "\n",
       "                                                 internal_migration - Italia  \\\n",
       "Seleziona periodo Territorio di di destinazione                                \n",
       "2005              Abruzzo                                            21989.0   \n",
       "                  Agrigento                                           3740.0   \n",
       "                  Alessandria                                        10066.0   \n",
       "                  Ancona                                              8649.0   \n",
       "                  Arezzo                                              5750.0   \n",
       "\n",
       "                                                 internal_migration - Totale  \n",
       "Seleziona periodo Territorio di di destinazione                               \n",
       "2005              Abruzzo                                            24994.0  \n",
       "                  Agrigento                                           3905.0  \n",
       "                  Alessandria                                        11791.0  \n",
       "                  Ancona                                             10620.0  \n",
       "                  Arezzo                                              7222.0  "
      ]
     },
     "execution_count": 281,
     "metadata": {},
     "output_type": "execute_result"
    }
   ],
   "source": [
    "internal_migration.head()"
   ]
  },
  {
   "cell_type": "markdown",
   "metadata": {},
   "source": [
    "### Net Income"
   ]
  },
  {
   "cell_type": "markdown",
   "metadata": {},
   "source": [
    "**Fitti imputati**: Componente figurativa di reddito derivante dalla proprietà della abitazione in cui si vive, il cui valore è stimato dallo stesso proprietario in base al prezzo che, a suo parere, sarebbe necessario pagare per vivere in affitto nella propria abitazione."
   ]
  },
  {
   "cell_type": "code",
   "execution_count": 134,
   "metadata": {},
   "outputs": [],
   "source": [
    "net_income = pd.read_table(\"/home/sara/Documents/Immigration/Data_not_git/Prov_info/Net income/DCCV_REDNETFAMFONTERED_Data_3fba0ebc-d3a1-493c-958a-facf3d07dfd7.csv\", sep = \"\\t\")"
   ]
  },
  {
   "cell_type": "code",
   "execution_count": 135,
   "metadata": {},
   "outputs": [
    {
     "name": "stdout",
     "output_type": "stream",
     "text": [
      "Classe di età del principale percettore {'totale'}\n",
      "Condizione professionale prevalente nell'anno del principale percettore {'totale'}\n",
      "Misura {'valori assoluti'}\n",
      "Numero di anziani in famiglia  {'totale'}\n",
      "Numero di componenti {'totale'}\n",
      "Numero di minori in famiglia {'totale'}\n",
      "Sesso del principale percettore  {'totale'}\n",
      "Tipologia familiare {'totale'}\n",
      "Titolo di studio del principale percettore {'totale'}\n"
     ]
    },
    {
     "name": "stderr",
     "output_type": "stream",
     "text": [
      "/home/sara/Documents/Immigration/Shared_models/build_data_functions.py:73: FutureWarning: '.reindex_axis' is deprecated and will be removed in a future version. Use '.reindex' instead.\n",
      "  return data.reindex_axis(sorted(data.columns), axis=1)\n"
     ]
    }
   ],
   "source": [
    "net_income = bdf.re_ordering_df(net_income)\n",
    "bdf.drop_useless(net_income)"
   ]
  },
  {
   "cell_type": "code",
   "execution_count": 136,
   "metadata": {},
   "outputs": [],
   "source": [
    "net_income = net_income.replace(['Provincia Autonoma Bolzano / Bozen', 'Provincia Autonoma Trento'], ['Bolzano / Bozen', 'Trento'])"
   ]
  },
  {
   "cell_type": "markdown",
   "metadata": {},
   "source": [
    "As \"Tipo dato\" it is better to keep only the \"median\" because the \"mean\" is too much sensible to the outliers. BUT! Let's keep both in different tables!"
   ]
  },
  {
   "cell_type": "code",
   "execution_count": 137,
   "metadata": {},
   "outputs": [],
   "source": [
    "#net_income = filtering(net_income, \"Tipo dato\", [\"reddito mediano annuale delle famiglie (in euro)\"])\n",
    "#del net_income[\"Tipo dato\"]\n",
    "net_income = bdf.filtering(net_income, \"Fonte principale di reddito familiare \", [\"totale\"])\n",
    "del net_income[\"Fonte principale di reddito familiare \"]\n",
    "net_income = bdf.filtering(net_income, \"Territorio\", interest_territories)\n",
    "net_income = bdf.filtering(net_income, \"Seleziona periodo\", years)\n",
    "\n",
    "net_income[\"0  Flags\"] = [int(i) for i in net_income[\"0  Flags\"]]"
   ]
  },
  {
   "cell_type": "code",
   "execution_count": 138,
   "metadata": {},
   "outputs": [
    {
     "data": {
      "text/plain": [
       "{'reddito mediano annuale delle famiglie (in euro)',\n",
       " 'reddito medio annuale delle famiglie (in euro)'}"
      ]
     },
     "execution_count": 138,
     "metadata": {},
     "output_type": "execute_result"
    }
   ],
   "source": [
    "set(net_income[\"Tipo dato\"])"
   ]
  },
  {
   "cell_type": "code",
   "execution_count": 139,
   "metadata": {},
   "outputs": [
    {
     "data": {
      "text/plain": [
       "'net_income_median, net_income_mean = divide_table(net_income, \"Tipo dato\")\\n\\nnet_income_median = pivot(net_income_median, \"Presenza affitti imputati\", \"0  Flags\")\\nnet_income_mean = pivot(net_income_mean, \"Presenza affitti imputati\", \"0  Flags\")'"
      ]
     },
     "execution_count": 139,
     "metadata": {},
     "output_type": "execute_result"
    }
   ],
   "source": [
    "'''net_income_median, net_income_mean = divide_table(net_income, \"Tipo dato\")\n",
    "\n",
    "net_income_median = pivot(net_income_median, \"Presenza affitti imputati\", \"0  Flags\")\n",
    "net_income_mean = pivot(net_income_mean, \"Presenza affitti imputati\", \"0  Flags\")'''"
   ]
  },
  {
   "cell_type": "code",
   "execution_count": 140,
   "metadata": {},
   "outputs": [],
   "source": [
    "net_income = bdf.differentiate_values(net_income, \"Presenza affitti imputati\", \"Tipo dato\")"
   ]
  },
  {
   "cell_type": "code",
   "execution_count": 141,
   "metadata": {},
   "outputs": [],
   "source": [
    "net_income = bdf.pivot(net_income, \"Tipo dato\", \"0  Flags\")"
   ]
  },
  {
   "cell_type": "code",
   "execution_count": 142,
   "metadata": {},
   "outputs": [],
   "source": [
    "bdf.del_missing(net_income)"
   ]
  },
  {
   "cell_type": "code",
   "execution_count": 143,
   "metadata": {},
   "outputs": [
    {
     "name": "stdout",
     "output_type": "stream",
     "text": [
      "[]\n"
     ]
    }
   ],
   "source": [
    "bdf.check_missing_index(net_income, years, places_to_check)"
   ]
  },
  {
   "cell_type": "code",
   "execution_count": 144,
   "metadata": {},
   "outputs": [],
   "source": [
    "bdf.check_missing(net_income)"
   ]
  },
  {
   "cell_type": "code",
   "execution_count": 145,
   "metadata": {},
   "outputs": [
    {
     "data": {
      "text/html": [
       "<div>\n",
       "<style scoped>\n",
       "    .dataframe tbody tr th:only-of-type {\n",
       "        vertical-align: middle;\n",
       "    }\n",
       "\n",
       "    .dataframe tbody tr th {\n",
       "        vertical-align: top;\n",
       "    }\n",
       "\n",
       "    .dataframe thead th {\n",
       "        text-align: right;\n",
       "    }\n",
       "</style>\n",
       "<table border=\"1\" class=\"dataframe\">\n",
       "  <thead>\n",
       "    <tr style=\"text-align: right;\">\n",
       "      <th></th>\n",
       "      <th>Tipo dato</th>\n",
       "      <th>reddito mediano annuale delle famiglie (in euro) - esclusi fitti imputati</th>\n",
       "      <th>reddito mediano annuale delle famiglie (in euro) - inclusi fitti imputati</th>\n",
       "      <th>reddito medio annuale delle famiglie (in euro) - esclusi fitti imputati</th>\n",
       "      <th>reddito medio annuale delle famiglie (in euro) - inclusi fitti imputati</th>\n",
       "    </tr>\n",
       "    <tr>\n",
       "      <th>Seleziona periodo</th>\n",
       "      <th>Territorio</th>\n",
       "      <th></th>\n",
       "      <th></th>\n",
       "      <th></th>\n",
       "      <th></th>\n",
       "    </tr>\n",
       "  </thead>\n",
       "  <tbody>\n",
       "    <tr>\n",
       "      <th rowspan=\"5\" valign=\"top\">2005</th>\n",
       "      <th>Abruzzo</th>\n",
       "      <td>22154</td>\n",
       "      <td>26251</td>\n",
       "      <td>26293</td>\n",
       "      <td>30672</td>\n",
       "    </tr>\n",
       "    <tr>\n",
       "      <th>Basilicata</th>\n",
       "      <td>19158</td>\n",
       "      <td>21159</td>\n",
       "      <td>22259</td>\n",
       "      <td>25207</td>\n",
       "    </tr>\n",
       "    <tr>\n",
       "      <th>Bolzano / Bozen</th>\n",
       "      <td>27513</td>\n",
       "      <td>34471</td>\n",
       "      <td>32286</td>\n",
       "      <td>39199</td>\n",
       "    </tr>\n",
       "    <tr>\n",
       "      <th>Calabria</th>\n",
       "      <td>17896</td>\n",
       "      <td>20760</td>\n",
       "      <td>22644</td>\n",
       "      <td>25709</td>\n",
       "    </tr>\n",
       "    <tr>\n",
       "      <th>Campania</th>\n",
       "      <td>19247</td>\n",
       "      <td>23292</td>\n",
       "      <td>23855</td>\n",
       "      <td>27839</td>\n",
       "    </tr>\n",
       "  </tbody>\n",
       "</table>\n",
       "</div>"
      ],
      "text/plain": [
       "Tipo dato                          reddito mediano annuale delle famiglie (in euro) - esclusi fitti imputati  \\\n",
       "Seleziona periodo Territorio                                                                                   \n",
       "2005              Abruzzo                                                      22154                           \n",
       "                  Basilicata                                                   19158                           \n",
       "                  Bolzano / Bozen                                              27513                           \n",
       "                  Calabria                                                     17896                           \n",
       "                  Campania                                                     19247                           \n",
       "\n",
       "Tipo dato                          reddito mediano annuale delle famiglie (in euro) - inclusi fitti imputati  \\\n",
       "Seleziona periodo Territorio                                                                                   \n",
       "2005              Abruzzo                                                      26251                           \n",
       "                  Basilicata                                                   21159                           \n",
       "                  Bolzano / Bozen                                              34471                           \n",
       "                  Calabria                                                     20760                           \n",
       "                  Campania                                                     23292                           \n",
       "\n",
       "Tipo dato                          reddito medio annuale delle famiglie (in euro) - esclusi fitti imputati  \\\n",
       "Seleziona periodo Territorio                                                                                 \n",
       "2005              Abruzzo                                                      26293                         \n",
       "                  Basilicata                                                   22259                         \n",
       "                  Bolzano / Bozen                                              32286                         \n",
       "                  Calabria                                                     22644                         \n",
       "                  Campania                                                     23855                         \n",
       "\n",
       "Tipo dato                          reddito medio annuale delle famiglie (in euro) - inclusi fitti imputati  \n",
       "Seleziona periodo Territorio                                                                                \n",
       "2005              Abruzzo                                                      30672                        \n",
       "                  Basilicata                                                   25207                        \n",
       "                  Bolzano / Bozen                                              39199                        \n",
       "                  Calabria                                                     25709                        \n",
       "                  Campania                                                     27839                        "
      ]
     },
     "execution_count": 145,
     "metadata": {},
     "output_type": "execute_result"
    }
   ],
   "source": [
    "net_income.head()"
   ]
  },
  {
   "cell_type": "code",
   "execution_count": 146,
   "metadata": {},
   "outputs": [],
   "source": [
    "bdf.relation_plot_time_variant(net_income, net_income.columns.tolist(), resident_foreigners_norm, zones_data, 45, \"Net Income\", palette, True, \"Plots/stock_vs_net_income_\")"
   ]
  },
  {
   "cell_type": "markdown",
   "metadata": {},
   "source": [
    "Some data are not included due to the availability of data:\n",
    "- **Basic health care** only 2004-2013\n",
    "- **Expenditure for intervections and social services** only 2013-2014\n",
    "- **Expenditure for the house of families with foreign components** only 2009\n",
    "- **Aspect of dayli life - Interpersonal Trust** only from 2010 \n",
    "- **Hospitalizations** missing 2003, 2004, 2005, 2006, 2007, 2008, 2009, 2010, 2011, 2012, 2016, 2017\n",
    "- **Aspects of daily life - general life degree of satisfaction** missing 2003, 2004, 2005, 2006, 2007, 2008, 2009"
   ]
  },
  {
   "cell_type": "markdown",
   "metadata": {},
   "source": [
    "Some data are not included due to statistical problems:\n",
    "- **Economic situation opinions (Famigie per capacità di arrivare a fine mese)**: around 10.4% of data are not statistically significant and 4.6% do not reach the half of the minimun (ISTAT definition: Il dato si definisce poco significativo nel caso in cui corrisponda ad una numerosità campionaria compresa tra 20 e 49 unità.)"
   ]
  },
  {
   "cell_type": "markdown",
   "metadata": {},
   "source": [
    "Variables summary:\n",
    "- provinces level: fertility_rate, internal_migration\n",
    "- regions level: social_act, political_information, homogeneity_net_income, housing_costs, live_births, net_income, reach_services_difficulty\n",
    "- zones level: work_satisfaction\n",
    "\n",
    "- missing: consumption_expenditure, unemployment"
   ]
  },
  {
   "cell_type": "code",
   "execution_count": 282,
   "metadata": {},
   "outputs": [],
   "source": [
    "all_x = [fertility_rate, internal_migration, social_act, political_information, homogeneity_net_income, \n",
    "         housing_costs, live_births, net_income, reach_services_difficulty, work_satisfaction]"
   ]
  },
  {
   "cell_type": "code",
   "execution_count": 284,
   "metadata": {},
   "outputs": [],
   "source": [
    "x_zones = bdf.merge_xs(all_x, resident_norm, zones)"
   ]
  },
  {
   "cell_type": "code",
   "execution_count": 285,
   "metadata": {},
   "outputs": [],
   "source": [
    "x_regions = bdf.merge_xs(all_x, resident_norm, regions)"
   ]
  },
  {
   "cell_type": "code",
   "execution_count": 286,
   "metadata": {},
   "outputs": [],
   "source": [
    "x_regions_cap = bdf.merge_xs(all_x, resident_norm, regions_cap)"
   ]
  },
  {
   "cell_type": "code",
   "execution_count": 287,
   "metadata": {},
   "outputs": [],
   "source": [
    "x_zones.to_csv(\"/home/sara/Documents/Immigration/Shared_models/Data/x_zones.csv\", sep = \"\\t\")\n",
    "x_regions.to_csv(\"/home/sara/Documents/Immigration/Shared_models/Data/x_regions.csv\", sep = \"\\t\")\n",
    "x_regions_cap.to_csv(\"/home/sara/Documents/Immigration/Shared_models/Data/x_regions_cap.csv\", sep = \"\\t\")"
   ]
  },
  {
   "cell_type": "code",
   "execution_count": null,
   "metadata": {},
   "outputs": [],
   "source": []
  }
 ],
 "metadata": {
  "kernelspec": {
   "display_name": "Python 3",
   "language": "python",
   "name": "python3"
  },
  "language_info": {
   "codemirror_mode": {
    "name": "ipython",
    "version": 3
   },
   "file_extension": ".py",
   "mimetype": "text/x-python",
   "name": "python",
   "nbconvert_exporter": "python",
   "pygments_lexer": "ipython3",
   "version": "3.6.4"
  }
 },
 "nbformat": 4,
 "nbformat_minor": 2
}
