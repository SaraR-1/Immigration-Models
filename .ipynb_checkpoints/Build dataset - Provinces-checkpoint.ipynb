{
 "cells": [
  {
   "cell_type": "code",
   "execution_count": 2,
   "metadata": {},
   "outputs": [],
   "source": [
    "import pandas as pd\n",
    "import numpy as np\n",
    "import string"
   ]
  },
  {
   "cell_type": "code",
   "execution_count": 33,
   "metadata": {},
   "outputs": [],
   "source": [
    "def replace_in_list(list_, olds_, news_):\n",
    "    for old_, new_ in zip(olds_, news_):\n",
    "        list_[list_.index(old_)] = new_\n",
    "    return(list_)"
   ]
  },
  {
   "cell_type": "code",
   "execution_count": 34,
   "metadata": {},
   "outputs": [],
   "source": [
    "def add_row(df, rows):\n",
    "    ind = range(len(df), len(df)+len(rows))\n",
    "    for row, i in zip(rows, ind):\n",
    "        df.loc[i] = row\n",
    "    return(df)"
   ]
  },
  {
   "cell_type": "code",
   "execution_count": 35,
   "metadata": {},
   "outputs": [],
   "source": [
    "def drop_useless(data):\n",
    "    for c in data.columns:\n",
    "        if len(list(set(data[c]))) == 1:\n",
    "            print(c, set(data[c]))\n",
    "            del data[c]"
   ]
  },
  {
   "cell_type": "code",
   "execution_count": 36,
   "metadata": {},
   "outputs": [],
   "source": [
    "def divide_table(data, attribute):\n",
    "    res = [x for _, x in data.groupby(data[attribute])]\n",
    "    for r in res:\n",
    "        del r[attribute]\n",
    "    return res"
   ]
  },
  {
   "cell_type": "code",
   "execution_count": 37,
   "metadata": {},
   "outputs": [],
   "source": [
    "def filtering(data, attribute, list_values):\n",
    "    return data[data[attribute].isin(list_values)]"
   ]
  },
  {
   "cell_type": "code",
   "execution_count": 38,
   "metadata": {},
   "outputs": [],
   "source": [
    "def pivot(data, attibute, value):\n",
    "    idx = data.columns[(data.columns != attibute) & (data.columns != value)]\n",
    "    return pd.pivot_table(data, columns=attibute, values = value, index = list(idx)) "
   ]
  },
  {
   "cell_type": "code",
   "execution_count": 39,
   "metadata": {},
   "outputs": [],
   "source": [
    "def re_ordering_df(data):\n",
    "    return data.reindex_axis(sorted(data.columns), axis=1)"
   ]
  },
  {
   "cell_type": "code",
   "execution_count": 104,
   "metadata": {},
   "outputs": [],
   "source": [
    "def check_missing(data):\n",
    "    for c in data.columns:\n",
    "        if data[c].isnull().sum() != 0:\n",
    "            print(c)"
   ]
  },
  {
   "cell_type": "code",
   "execution_count": 40,
   "metadata": {},
   "outputs": [],
   "source": [
    "# del a column if more than 1/3 of its values are missing\n",
    "def del_missing(data):\n",
    "    threshold = 1/3*len(data)\n",
    "    for c in data.columns:\n",
    "        if data[c].isnull().sum() >= threshold:\n",
    "            print(c)\n",
    "            del data[c]"
   ]
  },
  {
   "cell_type": "code",
   "execution_count": 81,
   "metadata": {},
   "outputs": [],
   "source": [
    "def differentiate_values(data, attribute, to_modify):\n",
    "    data[to_modify] = [data[to_modify][i] + \" - \" + data[attribute][i] for i in data.index]\n",
    "    del data[attribute]\n",
    "    return data"
   ]
  },
  {
   "cell_type": "code",
   "execution_count": null,
   "metadata": {},
   "outputs": [],
   "source": [
    "def check_missing_index(data, time, place):\n",
    "    y = data.index.levels[0]\n",
    "    p = data.index.levels[1]\n",
    "    \n",
    "    if len(y) != len(time):\n",
    "        print([i for i in time if i not in y])\n",
    "    if len(p) != len(place):\n",
    "        print([i for i in place if i not in p])"
   ]
  },
  {
   "cell_type": "code",
   "execution_count": 209,
   "metadata": {
    "scrolled": true
   },
   "outputs": [],
   "source": [
    "resident_foreigners_norm = pd.read_table(\"/home/sara/Documents/Immigration/Shared_statistics/Data_final/resident_foreigners_norm.csv\")\n",
    "provinces = sorted(list(set(resident_foreigners_norm[\"Province\"])))\n",
    "regions = sorted(list(set(pd.read_table(\"/home/sara/Documents/Immigration/Shared_statistics/Data_final/regioni.csv\")[\"Regione\"])))\n",
    "zones = sorted(list(set(pd.read_table(\"/home/sara/Documents/Immigration/Shared_statistics/Data_final/territori.csv\")[\"Zona\"])))\n",
    "years = sorted(list(set(resident_foreigners_norm[\"Year\"])))\n",
    "\n",
    "basic_info = pd.read_table(\"/home/sara/Documents/Immigration/Data_not_git/Prov_info/prov_cap_info.csv\", header=None, names = [\"Province\", \"Region Code\", \"Population\", \"Area\", \"Density\", \"Num Municipalities\"])\n",
    "basic_info_additional = pd.read_table(\"/home/sara/Documents/Immigration/Data_not_git/Prov_info/region_info.csv\", header=None, names = [\"Province\", \"Region Code\", \"Population\", \"Area\", \"Density\", \"Num Municipalities\"])"
   ]
  },
  {
   "cell_type": "code",
   "execution_count": 210,
   "metadata": {},
   "outputs": [],
   "source": [
    "regions = replace_in_list(regions, ['Provincia Autonoma Bolzano / Bozen', 'Provincia Autonoma Trento'], ['Bolzano / Bozen', 'Trento'])\n",
    "basic_info_additional = basic_info_additional.replace(['Provincia Autonoma Bolzano / Bozen', 'Provincia Autonoma Trento'], ['Bolzano / Bozen', 'Trento'])"
   ]
  },
  {
   "cell_type": "code",
   "execution_count": 211,
   "metadata": {},
   "outputs": [
    {
     "data": {
      "text/html": [
       "<div>\n",
       "<style>\n",
       "    .dataframe thead tr:only-child th {\n",
       "        text-align: right;\n",
       "    }\n",
       "\n",
       "    .dataframe thead th {\n",
       "        text-align: left;\n",
       "    }\n",
       "\n",
       "    .dataframe tbody tr th {\n",
       "        vertical-align: top;\n",
       "    }\n",
       "</style>\n",
       "<table border=\"1\" class=\"dataframe\">\n",
       "  <thead>\n",
       "    <tr style=\"text-align: right;\">\n",
       "      <th></th>\n",
       "      <th>Province</th>\n",
       "      <th>Region Code</th>\n",
       "      <th>Population</th>\n",
       "      <th>Area</th>\n",
       "      <th>Density</th>\n",
       "      <th>Num Municipalities</th>\n",
       "    </tr>\n",
       "  </thead>\n",
       "  <tbody>\n",
       "    <tr>\n",
       "      <th>0</th>\n",
       "      <td>agrigento</td>\n",
       "      <td>sic</td>\n",
       "      <td>442.049</td>\n",
       "      <td>3.052,59</td>\n",
       "      <td>145.0</td>\n",
       "      <td>43</td>\n",
       "    </tr>\n",
       "    <tr>\n",
       "      <th>1</th>\n",
       "      <td>alessandria</td>\n",
       "      <td>pie</td>\n",
       "      <td>426.658</td>\n",
       "      <td>3.558,83</td>\n",
       "      <td>120.0</td>\n",
       "      <td>188</td>\n",
       "    </tr>\n",
       "    <tr>\n",
       "      <th>2</th>\n",
       "      <td>ancona</td>\n",
       "      <td>mar</td>\n",
       "      <td>474.124</td>\n",
       "      <td>1.963,22</td>\n",
       "      <td>242.0</td>\n",
       "      <td>47</td>\n",
       "    </tr>\n",
       "    <tr>\n",
       "      <th>3</th>\n",
       "      <td>aosta</td>\n",
       "      <td>vda</td>\n",
       "      <td>126.883</td>\n",
       "      <td>3.260,90</td>\n",
       "      <td>39.0</td>\n",
       "      <td>74</td>\n",
       "    </tr>\n",
       "    <tr>\n",
       "      <th>4</th>\n",
       "      <td>arezzo</td>\n",
       "      <td>tos</td>\n",
       "      <td>344.374</td>\n",
       "      <td>3.233,08</td>\n",
       "      <td>107.0</td>\n",
       "      <td>36</td>\n",
       "    </tr>\n",
       "  </tbody>\n",
       "</table>\n",
       "</div>"
      ],
      "text/plain": [
       "      Province Region Code Population      Area  Density  Num Municipalities\n",
       "0    agrigento         sic    442.049  3.052,59    145.0                  43\n",
       "1  alessandria         pie    426.658  3.558,83    120.0                 188\n",
       "2       ancona         mar    474.124  1.963,22    242.0                  47\n",
       "3        aosta         vda    126.883  3.260,90     39.0                  74\n",
       "4       arezzo         tos    344.374  3.233,08    107.0                  36"
      ]
     },
     "execution_count": 211,
     "metadata": {},
     "output_type": "execute_result"
    }
   ],
   "source": [
    "basic_info.head()"
   ]
  },
  {
   "cell_type": "code",
   "execution_count": 212,
   "metadata": {},
   "outputs": [],
   "source": [
    "basic_info[\"Region Code\"] = [i.upper() for i in basic_info[\"Region Code\"]]"
   ]
  },
  {
   "cell_type": "code",
   "execution_count": 213,
   "metadata": {},
   "outputs": [],
   "source": [
    "basic_info[\"Province\"] = [i.title() for i in basic_info[\"Province\"]]\n",
    "basic_info[\"Province\"] = basic_info[\"Province\"].replace([\"Aosta\", \"Bolzano\", \"Monza E Della Brianza\", \"Pesaro E Urbino\", \"Reggio Calabria\", \"Reggio Emilia\", \"Roma Capitale\"], [\"Valle d'Aosta / Vallée d'Aoste\", \"Bolzano / Bozen\", \"Monza e della Brianza\", \"Pesaro e Urbino\", \"Reggio di Calabria\", \"Reggio nell'Emilia\", \"Roma\"])"
   ]
  },
  {
   "cell_type": "code",
   "execution_count": 214,
   "metadata": {},
   "outputs": [],
   "source": [
    "# Add manually (from Wikipedia the missing information)\n",
    "basic_info = add_row(basic_info, [[\"Medio Campidano\", \"SAR\", \"99.422\", \"1.157,34\", 65.52, 28], \n",
    "                                  [\"Carbonia-Iglesia\", \"SAR\", \"127.133\", \"1.499,71\", 84.77, 23], \n",
    "                                  [\"Olbia-Tempio\", \"SAR\", \"160.368\", \"3.406,18\", 48.08, 26], \n",
    "                                  [\"Oristano\", \"SAR\", \"159.474\", \"2.990,45\", 53.33, 87]])"
   ]
  },
  {
   "cell_type": "code",
   "execution_count": 215,
   "metadata": {},
   "outputs": [],
   "source": [
    "basic_info = basic_info.sort_values([\"Province\"])\n",
    "\n",
    "basic_info = basic_info[basic_info[\"Province\"] != \"Sud Sardegna\"]\n",
    "\n",
    "basic_info.index = list(range(len(basic_info)))"
   ]
  },
  {
   "cell_type": "code",
   "execution_count": 216,
   "metadata": {},
   "outputs": [],
   "source": [
    "basic_info[\"Area\"] = [float(i.replace(\".\", \"\").replace(\",\", \".\")) for i in basic_info[\"Area\"]]\n",
    "basic_info[\"Population\"] = [float(i.replace(\".\", \"\").replace(\",\", \".\")) for i in basic_info[\"Population\"]]"
   ]
  },
  {
   "cell_type": "code",
   "execution_count": 217,
   "metadata": {},
   "outputs": [
    {
     "data": {
      "text/html": [
       "<div>\n",
       "<style>\n",
       "    .dataframe thead tr:only-child th {\n",
       "        text-align: right;\n",
       "    }\n",
       "\n",
       "    .dataframe thead th {\n",
       "        text-align: left;\n",
       "    }\n",
       "\n",
       "    .dataframe tbody tr th {\n",
       "        vertical-align: top;\n",
       "    }\n",
       "</style>\n",
       "<table border=\"1\" class=\"dataframe\">\n",
       "  <thead>\n",
       "    <tr style=\"text-align: right;\">\n",
       "      <th></th>\n",
       "      <th>Province</th>\n",
       "      <th>Region Code</th>\n",
       "      <th>Population</th>\n",
       "      <th>Area</th>\n",
       "      <th>Density</th>\n",
       "      <th>Num Municipalities</th>\n",
       "    </tr>\n",
       "  </thead>\n",
       "  <tbody>\n",
       "    <tr>\n",
       "      <th>0</th>\n",
       "      <td>Agrigento</td>\n",
       "      <td>SIC</td>\n",
       "      <td>442049.0</td>\n",
       "      <td>3052.59</td>\n",
       "      <td>145.0</td>\n",
       "      <td>43</td>\n",
       "    </tr>\n",
       "    <tr>\n",
       "      <th>1</th>\n",
       "      <td>Alessandria</td>\n",
       "      <td>PIE</td>\n",
       "      <td>426658.0</td>\n",
       "      <td>3558.83</td>\n",
       "      <td>120.0</td>\n",
       "      <td>188</td>\n",
       "    </tr>\n",
       "    <tr>\n",
       "      <th>2</th>\n",
       "      <td>Ancona</td>\n",
       "      <td>MAR</td>\n",
       "      <td>474124.0</td>\n",
       "      <td>1963.22</td>\n",
       "      <td>242.0</td>\n",
       "      <td>47</td>\n",
       "    </tr>\n",
       "    <tr>\n",
       "      <th>3</th>\n",
       "      <td>Arezzo</td>\n",
       "      <td>TOS</td>\n",
       "      <td>344374.0</td>\n",
       "      <td>3233.08</td>\n",
       "      <td>107.0</td>\n",
       "      <td>36</td>\n",
       "    </tr>\n",
       "    <tr>\n",
       "      <th>4</th>\n",
       "      <td>Ascoli Piceno</td>\n",
       "      <td>MAR</td>\n",
       "      <td>209450.0</td>\n",
       "      <td>1228.27</td>\n",
       "      <td>171.0</td>\n",
       "      <td>33</td>\n",
       "    </tr>\n",
       "  </tbody>\n",
       "</table>\n",
       "</div>"
      ],
      "text/plain": [
       "        Province Region Code  Population     Area  Density  Num Municipalities\n",
       "0      Agrigento         SIC    442049.0  3052.59    145.0                  43\n",
       "1    Alessandria         PIE    426658.0  3558.83    120.0                 188\n",
       "2         Ancona         MAR    474124.0  1963.22    242.0                  47\n",
       "3         Arezzo         TOS    344374.0  3233.08    107.0                  36\n",
       "4  Ascoli Piceno         MAR    209450.0  1228.27    171.0                  33"
      ]
     },
     "execution_count": 217,
     "metadata": {},
     "output_type": "execute_result"
    }
   ],
   "source": [
    "basic_info.head()"
   ]
  },
  {
   "cell_type": "code",
   "execution_count": 218,
   "metadata": {},
   "outputs": [],
   "source": [
    "interest_territories = provinces + regions + zones + [\"Italia\"]"
   ]
  },
  {
   "cell_type": "code",
   "execution_count": 219,
   "metadata": {},
   "outputs": [],
   "source": [
    "basic_info_additional[\"Region Code\"] = [i.upper() for i in basic_info_additional[\"Region Code\"]]"
   ]
  },
  {
   "cell_type": "code",
   "execution_count": 220,
   "metadata": {},
   "outputs": [],
   "source": [
    "dataset = basic_info_additional.append(basic_info, ignore_index=True)"
   ]
  },
  {
   "cell_type": "code",
   "execution_count": 221,
   "metadata": {},
   "outputs": [],
   "source": [
    "dataset = filtering(dataset, \"Province\", interest_territories)\n",
    "dataset = dataset.sort_values([\"Province\"])\n",
    "dataset = dataset.drop_duplicates([\"Province\"])\n",
    "dataset.index = range(len(dataset))"
   ]
  },
  {
   "cell_type": "code",
   "execution_count": 222,
   "metadata": {},
   "outputs": [
    {
     "data": {
      "text/html": [
       "<div>\n",
       "<style>\n",
       "    .dataframe thead tr:only-child th {\n",
       "        text-align: right;\n",
       "    }\n",
       "\n",
       "    .dataframe thead th {\n",
       "        text-align: left;\n",
       "    }\n",
       "\n",
       "    .dataframe tbody tr th {\n",
       "        vertical-align: top;\n",
       "    }\n",
       "</style>\n",
       "<table border=\"1\" class=\"dataframe\">\n",
       "  <thead>\n",
       "    <tr style=\"text-align: right;\">\n",
       "      <th></th>\n",
       "      <th>Province</th>\n",
       "      <th>Region Code</th>\n",
       "      <th>Population</th>\n",
       "      <th>Area</th>\n",
       "      <th>Density</th>\n",
       "      <th>Num Municipalities</th>\n",
       "    </tr>\n",
       "  </thead>\n",
       "  <tbody>\n",
       "    <tr>\n",
       "      <th>0</th>\n",
       "      <td>Abruzzo</td>\n",
       "      <td>ABR</td>\n",
       "      <td>1322247.0</td>\n",
       "      <td>10831.84</td>\n",
       "      <td>122.07</td>\n",
       "      <td>305</td>\n",
       "    </tr>\n",
       "    <tr>\n",
       "      <th>1</th>\n",
       "      <td>Agrigento</td>\n",
       "      <td>SIC</td>\n",
       "      <td>442049.0</td>\n",
       "      <td>3052.59</td>\n",
       "      <td>145.00</td>\n",
       "      <td>43</td>\n",
       "    </tr>\n",
       "    <tr>\n",
       "      <th>2</th>\n",
       "      <td>Alessandria</td>\n",
       "      <td>PIE</td>\n",
       "      <td>426658.0</td>\n",
       "      <td>3558.83</td>\n",
       "      <td>120.00</td>\n",
       "      <td>188</td>\n",
       "    </tr>\n",
       "    <tr>\n",
       "      <th>3</th>\n",
       "      <td>Ancona</td>\n",
       "      <td>MAR</td>\n",
       "      <td>474124.0</td>\n",
       "      <td>1963.22</td>\n",
       "      <td>242.00</td>\n",
       "      <td>47</td>\n",
       "    </tr>\n",
       "    <tr>\n",
       "      <th>4</th>\n",
       "      <td>Arezzo</td>\n",
       "      <td>TOS</td>\n",
       "      <td>344374.0</td>\n",
       "      <td>3233.08</td>\n",
       "      <td>107.00</td>\n",
       "      <td>36</td>\n",
       "    </tr>\n",
       "  </tbody>\n",
       "</table>\n",
       "</div>"
      ],
      "text/plain": [
       "      Province Region Code  Population      Area  Density Num Municipalities\n",
       "0      Abruzzo         ABR   1322247.0  10831.84   122.07                305\n",
       "1    Agrigento         SIC    442049.0   3052.59   145.00                 43\n",
       "2  Alessandria         PIE    426658.0   3558.83   120.00                188\n",
       "3       Ancona         MAR    474124.0   1963.22   242.00                 47\n",
       "4       Arezzo         TOS    344374.0   3233.08   107.00                 36"
      ]
     },
     "execution_count": 222,
     "metadata": {},
     "output_type": "execute_result"
    }
   ],
   "source": [
    "dataset.head()"
   ]
  },
  {
   "cell_type": "markdown",
   "metadata": {},
   "source": [
    "## Istat Data"
   ]
  },
  {
   "cell_type": "markdown",
   "metadata": {},
   "source": [
    "### Aspect of daily life - social activities"
   ]
  },
  {
   "cell_type": "code",
   "execution_count": 223,
   "metadata": {},
   "outputs": [],
   "source": [
    "social_act = pd.read_table(\"/home/sara/Documents/Immigration/Data_not_git/Prov_info/Aspects of daily life/DCCV_AVQ_PERSONE_Data_433028ae-6be5-4ff0-8727-911694df70d2.csv\", sep = \"\\t\")"
   ]
  },
  {
   "cell_type": "code",
   "execution_count": 224,
   "metadata": {},
   "outputs": [
    {
     "name": "stdout",
     "output_type": "stream",
     "text": [
      "Classe di età {'14 anni e più'}\n",
      "Condizione e posizione nella professione {'totale'}\n",
      "Sesso {'totale'}\n",
      "Titolo di studio {'totale'}\n"
     ]
    }
   ],
   "source": [
    "social_act = re_ordering_df(social_act)\n",
    "drop_useless(social_act)"
   ]
  },
  {
   "cell_type": "code",
   "execution_count": 225,
   "metadata": {},
   "outputs": [],
   "source": [
    "social_act = filtering(social_act, \"Territorio\", interest_territories)\n",
    "social_act = filtering(social_act, \"Seleziona periodo\", years)"
   ]
  },
  {
   "cell_type": "code",
   "execution_count": 226,
   "metadata": {},
   "outputs": [
    {
     "data": {
      "text/plain": [
       "{'per 100 persone con le stesse caratteristiche', 'valori in migliaia'}"
      ]
     },
     "execution_count": 226,
     "metadata": {},
     "output_type": "execute_result"
    }
   ],
   "source": [
    "set(social_act[\"Misura\"])"
   ]
  },
  {
   "cell_type": "code",
   "execution_count": 227,
   "metadata": {},
   "outputs": [],
   "source": [
    "social_act = differentiate_values(social_act, \"Misura\", \"Tipo dato\")\n",
    "social_act = pivot(social_act, \"Tipo dato\", \"0  Flags\")"
   ]
  },
  {
   "cell_type": "code",
   "execution_count": 228,
   "metadata": {},
   "outputs": [
    {
     "data": {
      "text/plain": [
       "'social_act_same_char, social_act_thousand = divide_table(social_act, \"Misura\")\\n\\nsocial_act_same_char = pivot(social_act_same_char, \"Tipo dato\", \"0  Flags\")\\nsocial_act_thousand = pivot(social_act_thousand, \"Tipo dato\", \"0  Flags\")\\n\\nprint(social_act_same_char.isnull().sum().sum(), social_act_thousand.isnull().sum().sum())'"
      ]
     },
     "execution_count": 228,
     "metadata": {},
     "output_type": "execute_result"
    }
   ],
   "source": [
    "'''social_act_same_char, social_act_thousand = divide_table(social_act, \"Misura\")\n",
    "\n",
    "social_act_same_char = pivot(social_act_same_char, \"Tipo dato\", \"0  Flags\")\n",
    "social_act_thousand = pivot(social_act_thousand, \"Tipo dato\", \"0  Flags\")\n",
    "\n",
    "print(social_act_same_char.isnull().sum().sum(), social_act_thousand.isnull().sum().sum())'''"
   ]
  },
  {
   "cell_type": "code",
   "execution_count": 229,
   "metadata": {},
   "outputs": [],
   "source": [
    "del_missing(social_act)"
   ]
  },
  {
   "cell_type": "code",
   "execution_count": 230,
   "metadata": {},
   "outputs": [
    {
     "name": "stdout",
     "output_type": "stream",
     "text": [
      "Int64Index([2003, 2005, 2006, 2007, 2008, 2009, 2010, 2011, 2012, 2013, 2014,\n",
      "            2015, 2016],\n",
      "           dtype='int64', name='Seleziona periodo')\n",
      "Index(['Abruzzo', 'Basilicata', 'Calabria', 'Campania', 'Centro',\n",
      "       'Emilia-Romagna', 'Friuli-Venezia Giulia', 'Isole', 'Italia', 'Lazio',\n",
      "       'Liguria', 'Lombardia', 'Marche', 'Molise', 'Nord-est', 'Nord-ovest',\n",
      "       'Piemonte', 'Puglia', 'Sardegna', 'Sicilia', 'Sud', 'Toscana', 'Umbria',\n",
      "       'Valle d'Aosta / Vallée d'Aoste', 'Veneto'],\n",
      "      dtype='object', name='Territorio')\n"
     ]
    }
   ],
   "source": [
    "print(social_act.index.levels[0])\n",
    "print(social_act.index.levels[1])"
   ]
  },
  {
   "cell_type": "code",
   "execution_count": 231,
   "metadata": {},
   "outputs": [
    {
     "name": "stdout",
     "output_type": "stream",
     "text": [
      "[2004, 2017]\n",
      "[]\n"
     ]
    }
   ],
   "source": [
    "check_missing_index(social_act, years, [i for i in interest_territories if i not in provinces])"
   ]
  },
  {
   "cell_type": "code",
   "execution_count": 232,
   "metadata": {},
   "outputs": [],
   "source": [
    "check_missing(social_act)"
   ]
  },
  {
   "cell_type": "markdown",
   "metadata": {},
   "source": [
    "ALL the data for the 2004 are missing, two options:\n",
    "- do not consider these attributes for the 2004\n",
    "- reconstruct the 2004 data from the other data: mean of 2003 and 2004;"
   ]
  },
  {
   "cell_type": "markdown",
   "metadata": {},
   "source": [
    "## IMPORTANT! Example to extract data: a.loc[2001].loc[\"Abruzzo\"]"
   ]
  },
  {
   "cell_type": "markdown",
   "metadata": {},
   "source": [
    "### Aspect of daily life - Political Information (freq)"
   ]
  },
  {
   "cell_type": "code",
   "execution_count": 233,
   "metadata": {},
   "outputs": [],
   "source": [
    "political_information = pd.read_table(\"/home/sara/Documents/Immigration/Data_not_git/Prov_info/Aspects of daily life (1)/DCCV_AVQ_PERSONE_Data_e9f78b71-f4aa-4340-828b-9ba102742fab.csv\", sep = \"\\t\")"
   ]
  },
  {
   "cell_type": "code",
   "execution_count": 234,
   "metadata": {
    "scrolled": false
   },
   "outputs": [
    {
     "name": "stdout",
     "output_type": "stream",
     "text": [
      "Sesso {'totale'}\n",
      "Classe di età {'14 anni e più'}\n",
      "Titolo di studio {'totale'}\n",
      "Condizione e posizione nella professione {'totale'}\n"
     ]
    }
   ],
   "source": [
    "social_act = re_ordering_df(political_information)\n",
    "drop_useless(political_information)"
   ]
  },
  {
   "cell_type": "code",
   "execution_count": 235,
   "metadata": {},
   "outputs": [],
   "source": [
    "political_information = filtering(political_information, \"Territorio\", interest_territories)\n",
    "political_information = filtering(political_information, \"Seleziona periodo\", years)"
   ]
  },
  {
   "cell_type": "code",
   "execution_count": 236,
   "metadata": {},
   "outputs": [
    {
     "data": {
      "text/plain": [
       "{'per 100 persone con le stesse caratteristiche', 'valori in migliaia'}"
      ]
     },
     "execution_count": 236,
     "metadata": {},
     "output_type": "execute_result"
    }
   ],
   "source": [
    "set(political_information[\"Misura\"])"
   ]
  },
  {
   "cell_type": "code",
   "execution_count": 237,
   "metadata": {},
   "outputs": [
    {
     "data": {
      "text/plain": [
       "'political_information_same_char, political_information_thousand = divide_table(political_information, \"Misura\")\\n\\npolitical_information_same_char = pivot(political_information_same_char, \"Tipo dato\", \"0  Flags\")\\npolitical_information_thousand = pivot(political_information_thousand, \"Tipo dato\", \"0  Flags\")'"
      ]
     },
     "execution_count": 237,
     "metadata": {},
     "output_type": "execute_result"
    }
   ],
   "source": [
    "'''political_information_same_char, political_information_thousand = divide_table(political_information, \"Misura\")\n",
    "\n",
    "political_information_same_char = pivot(political_information_same_char, \"Tipo dato\", \"0  Flags\")\n",
    "political_information_thousand = pivot(political_information_thousand, \"Tipo dato\", \"0  Flags\")'''"
   ]
  },
  {
   "cell_type": "code",
   "execution_count": 238,
   "metadata": {},
   "outputs": [],
   "source": [
    "political_information = differentiate_values(political_information, \"Misura\", \"Tipo dato\")\n",
    "political_information = pivot(political_information, \"Tipo dato\", \"0  Flags\")"
   ]
  },
  {
   "cell_type": "code",
   "execution_count": 239,
   "metadata": {},
   "outputs": [
    {
     "name": "stdout",
     "output_type": "stream",
     "text": [
      "[2004, 2017]\n",
      "[]\n"
     ]
    }
   ],
   "source": [
    "check_missing_index(political_information, years, [i for i in interest_territories if i not in provinces])"
   ]
  },
  {
   "cell_type": "code",
   "execution_count": 240,
   "metadata": {},
   "outputs": [],
   "source": [
    "check_missing(social_act)"
   ]
  },
  {
   "cell_type": "markdown",
   "metadata": {},
   "source": [
    "### Consumption Expenditure (ECoicop)"
   ]
  },
  {
   "cell_type": "code",
   "execution_count": 241,
   "metadata": {},
   "outputs": [],
   "source": [
    "consumption_expenditure = pd.read_table(\"/home/sara/Documents/Immigration/Data_not_git/Prov_info/Consumption expenditure/DCCV_SPEMEFAM_Data_a2f1960e-bec3-489b-8648-900273d1fc5f.csv\", sep = \"\\t\")"
   ]
  },
  {
   "cell_type": "code",
   "execution_count": 242,
   "metadata": {},
   "outputs": [
    {
     "name": "stdout",
     "output_type": "stream",
     "text": [
      "Abitudine di spesa {'tutte le voci'}\n",
      "Ampiezza familiare {'totale'}\n",
      "Condizione professionale della persona di riferimento {'tutte le voci'}\n",
      "Gruppo di spesa {'tutte le voci'}\n",
      "Quantili di spesa totale equivalente {'tutte le voci'}\n",
      "Tipo dato {'spesa media mensile familiare (in euro correnti)'}\n",
      "Tipologia familiare {'totale famiglie'}\n",
      "Titolo di studio più elevato conseguito dalla persona di riferimento {'totale'}\n"
     ]
    }
   ],
   "source": [
    "consumption_expenditure = re_ordering_df(consumption_expenditure)\n",
    "drop_useless(consumption_expenditure)"
   ]
  },
  {
   "cell_type": "code",
   "execution_count": 243,
   "metadata": {},
   "outputs": [],
   "source": [
    "consumption_expenditure = filtering(consumption_expenditure, \"Territorio\", interest_territories)\n",
    "consumption_expenditure = filtering(consumption_expenditure, \"Seleziona periodo\", years)"
   ]
  },
  {
   "cell_type": "code",
   "execution_count": 244,
   "metadata": {},
   "outputs": [],
   "source": [
    "consumption_expenditure = pivot(consumption_expenditure, \"Coicop\", \"0  Flags\")"
   ]
  },
  {
   "cell_type": "code",
   "execution_count": 245,
   "metadata": {},
   "outputs": [],
   "source": [
    "del_missing(consumption_expenditure)"
   ]
  },
  {
   "cell_type": "code",
   "execution_count": 246,
   "metadata": {},
   "outputs": [
    {
     "name": "stdout",
     "output_type": "stream",
     "text": [
      "[2017]\n",
      "[]\n"
     ]
    }
   ],
   "source": [
    "check_missing_index(consumption_expenditure, years, [i for i in interest_territories if i not in provinces])"
   ]
  },
  {
   "cell_type": "code",
   "execution_count": 247,
   "metadata": {},
   "outputs": [],
   "source": [
    "check_missing(consumption_expenditure)"
   ]
  },
  {
   "cell_type": "markdown",
   "metadata": {},
   "source": [
    "### Fertility Indicators"
   ]
  },
  {
   "cell_type": "code",
   "execution_count": 248,
   "metadata": {},
   "outputs": [],
   "source": [
    "fertility_rate = pd.read_table(\"/home/sara/Documents/Immigration/Data_not_git/Prov_info/Fertility  indicators/DCIS_FECONDITA1_Data_a2326888-5b5c-4549-b696-d187b4055c39.csv\", sep = \"\\t\")"
   ]
  },
  {
   "cell_type": "code",
   "execution_count": 249,
   "metadata": {},
   "outputs": [
    {
     "name": "stdout",
     "output_type": "stream",
     "text": [
      "Cittadinanza {'totale'}\n",
      "Età della madre {'totale'}\n"
     ]
    }
   ],
   "source": [
    "fertility_rate = re_ordering_df(fertility_rate)\n",
    "drop_useless(fertility_rate)"
   ]
  },
  {
   "cell_type": "code",
   "execution_count": 250,
   "metadata": {},
   "outputs": [],
   "source": [
    "fertility_rate = filtering(fertility_rate, \"Territorio\", interest_territories)\n",
    "fertility_rate = filtering(fertility_rate, \"Seleziona periodo\", years)\n",
    "#fertility_rate = filtering(fertility_rate, \"Tipo dato\", [\"tasso di fecondità totale\"])\n",
    "#del fertility_rate[\"Tipo dato\"]"
   ]
  },
  {
   "cell_type": "code",
   "execution_count": 251,
   "metadata": {},
   "outputs": [],
   "source": [
    "fertility_rate = pivot(fertility_rate, \"Tipo dato\", \"0  Flags\")"
   ]
  },
  {
   "cell_type": "code",
   "execution_count": 252,
   "metadata": {},
   "outputs": [],
   "source": [
    "del_missing(fertility_rate)"
   ]
  },
  {
   "cell_type": "code",
   "execution_count": 254,
   "metadata": {},
   "outputs": [
    {
     "name": "stdout",
     "output_type": "stream",
     "text": [
      "[2017]\n",
      "[]\n"
     ]
    }
   ],
   "source": [
    "check_missing_index(fertility_rate, years, interest_territories)"
   ]
  },
  {
   "cell_type": "code",
   "execution_count": 255,
   "metadata": {},
   "outputs": [],
   "source": [
    "check_missing(consumption_expenditure)"
   ]
  },
  {
   "cell_type": "markdown",
   "metadata": {},
   "source": [
    "### Net Income - Homogeneity of regional income"
   ]
  },
  {
   "cell_type": "code",
   "execution_count": 256,
   "metadata": {},
   "outputs": [],
   "source": [
    "homogeneity_net_income = pd.read_table(\"/home/sara/Documents/Immigration/Data_not_git/Prov_info/Homogeneity of regional income/DCCV_GINIREDD_Data_f031238d-d03b-414a-ad9d-5ea35513cb24.csv\", sep = \"\\t\")"
   ]
  },
  {
   "cell_type": "code",
   "execution_count": 257,
   "metadata": {},
   "outputs": [
    {
     "name": "stdout",
     "output_type": "stream",
     "text": [
      "Misura {'indice di gini'}\n",
      "Tipo dato {'omogeneità nella distribuzione del reddito netto familiare'}\n"
     ]
    }
   ],
   "source": [
    "homogeneity_net_income = re_ordering_df(homogeneity_net_income)\n",
    "drop_useless(homogeneity_net_income)"
   ]
  },
  {
   "cell_type": "code",
   "execution_count": 258,
   "metadata": {},
   "outputs": [],
   "source": [
    "homogeneity_net_income = filtering(homogeneity_net_income, \"Territorio\", interest_territories)\n",
    "homogeneity_net_income = filtering(homogeneity_net_income, \"Seleziona periodo\", years)"
   ]
  },
  {
   "cell_type": "code",
   "execution_count": 259,
   "metadata": {
    "scrolled": true
   },
   "outputs": [],
   "source": [
    "homogeneity_net_income = pivot(homogeneity_net_income, \"Presenza affitti imputati\", \"0  Flags\")"
   ]
  },
  {
   "cell_type": "code",
   "execution_count": 51,
   "metadata": {},
   "outputs": [],
   "source": [
    "del_missing(homogeneity_net_income)"
   ]
  },
  {
   "cell_type": "code",
   "execution_count": 261,
   "metadata": {},
   "outputs": [
    {
     "name": "stdout",
     "output_type": "stream",
     "text": [
      "[2016, 2017]\n",
      "[]\n"
     ]
    }
   ],
   "source": [
    "check_missing_index(homogeneity_net_income, years, [i for i in interest_territories if i not in provinces])"
   ]
  },
  {
   "cell_type": "code",
   "execution_count": 262,
   "metadata": {},
   "outputs": [],
   "source": [
    "check_missing(homogeneity_net_income)"
   ]
  },
  {
   "cell_type": "markdown",
   "metadata": {},
   "source": [
    "### Housing costs"
   ]
  },
  {
   "cell_type": "code",
   "execution_count": 263,
   "metadata": {},
   "outputs": [],
   "source": [
    "housing_costs = pd.read_table(\"/home/sara/Documents/Immigration/Data_not_git/Prov_info/Housing costs/DCCV_ABITSPESA_Data_86e7f7b3-4f27-4d2a-bcda-94af693e24af.csv\", sep = \"\\t\")"
   ]
  },
  {
   "cell_type": "code",
   "execution_count": 264,
   "metadata": {},
   "outputs": [
    {
     "name": "stdout",
     "output_type": "stream",
     "text": [
      "Classe di età del principale percettore {'totale'}\n",
      "Condizione professionale prevalente nell anno del principale percettore {'totale'}\n",
      "Numero di anziani in famiglia {'totale'}\n",
      "Numero di componenti {'totale'}\n",
      "Numero di minori in famiglia {'totale'}\n",
      "Sesso del principale percettore {'totale'}\n",
      "Tipologia familiare {'totale'}\n",
      "Titolo di godimento dell abitazione {'totale'}\n",
      "Titolo di studio del principale percettore {'totale'}\n"
     ]
    }
   ],
   "source": [
    "housing_costs = re_ordering_df(housing_costs)\n",
    "drop_useless(housing_costs)"
   ]
  },
  {
   "cell_type": "code",
   "execution_count": 265,
   "metadata": {},
   "outputs": [],
   "source": [
    "housing_costs = filtering(housing_costs, \"Territorio\", interest_territories)\n",
    "housing_costs = filtering(housing_costs, \"Seleziona periodo\", years)"
   ]
  },
  {
   "cell_type": "code",
   "execution_count": 266,
   "metadata": {},
   "outputs": [],
   "source": [
    "housing_costs = pivot(housing_costs, \"Indicatore di spesa\", \"0  Flags\")"
   ]
  },
  {
   "cell_type": "code",
   "execution_count": 267,
   "metadata": {},
   "outputs": [],
   "source": [
    "del_missing(housing_costs)"
   ]
  },
  {
   "cell_type": "code",
   "execution_count": 269,
   "metadata": {},
   "outputs": [
    {
     "name": "stdout",
     "output_type": "stream",
     "text": [
      "[2003, 2017]\n",
      "[]\n"
     ]
    }
   ],
   "source": [
    "check_missing_index(housing_costs, years, [i for i in interest_territories if i not in provinces])"
   ]
  },
  {
   "cell_type": "code",
   "execution_count": 270,
   "metadata": {},
   "outputs": [],
   "source": [
    "check_missing(housing_costs)"
   ]
  },
  {
   "cell_type": "markdown",
   "metadata": {},
   "source": [
    "### Live Births"
   ]
  },
  {
   "cell_type": "code",
   "execution_count": 272,
   "metadata": {},
   "outputs": [],
   "source": [
    "live_births = pd.read_table(\"/home/sara/Documents/Immigration/Data_not_git/Prov_info/Live births/DCIS_NATI1_Data_fc109807-f48b-4e01-b9e7-81fddf031fbb.csv\", sep = \"\\t\")"
   ]
  },
  {
   "cell_type": "code",
   "execution_count": 273,
   "metadata": {
    "scrolled": true
   },
   "outputs": [
    {
     "name": "stdout",
     "output_type": "stream",
     "text": [
      "Anno di nascita della madre {'tutte le voci'}\n",
      "Area geografica di nascita {'tutte le voci'}\n",
      "Cittadinanza della madre {'totale'}\n",
      "Cittadinanza estera del nato {'Mondo'}\n",
      "Età del padre {'totale'}\n",
      "Età della madre {'totale'}\n",
      "Nati vivi all'interno del matrimonio {'totale'}\n",
      "Stato civile del padre {'totale'}\n",
      "Stato civile della madre {'totale'}\n",
      "Tipologia di coppia dei genitori {'tutte le voci'}\n"
     ]
    }
   ],
   "source": [
    "live_births = re_ordering_df(live_births)\n",
    "drop_useless(live_births)"
   ]
  },
  {
   "cell_type": "code",
   "execution_count": 274,
   "metadata": {
    "scrolled": true
   },
   "outputs": [],
   "source": [
    "live_births = filtering(live_births, \"Territorio di residenza\", interest_territories)\n",
    "live_births = filtering(live_births, \"Seleziona periodo\", years)"
   ]
  },
  {
   "cell_type": "code",
   "execution_count": 275,
   "metadata": {},
   "outputs": [],
   "source": [
    "live_births = pivot(live_births, \"Tipo dato\", \"0  Flags\")"
   ]
  },
  {
   "cell_type": "code",
   "execution_count": 276,
   "metadata": {},
   "outputs": [],
   "source": [
    "del_missing(live_births)"
   ]
  },
  {
   "cell_type": "code",
   "execution_count": 278,
   "metadata": {},
   "outputs": [
    {
     "name": "stdout",
     "output_type": "stream",
     "text": [
      "[2017]\n",
      "[]\n"
     ]
    }
   ],
   "source": [
    "check_missing_index(live_births, years, [i for i in interest_territories if i not in provinces])"
   ]
  },
  {
   "cell_type": "code",
   "execution_count": 279,
   "metadata": {},
   "outputs": [],
   "source": [
    "check_missing(live_births)"
   ]
  },
  {
   "cell_type": "markdown",
   "metadata": {},
   "source": [
    "### Unemployment"
   ]
  },
  {
   "cell_type": "code",
   "execution_count": 296,
   "metadata": {},
   "outputs": [],
   "source": [
    "unemployment = pd.read_table(\"/home/sara/Documents/Immigration/Data_not_git/Prov_info/Unemployment/DCCV_DISOCCUPT1_Data_b7a54223-3ec4-4d1b-883e-a20d10fb350d.csv\", sep = \"\\t\")"
   ]
  },
  {
   "cell_type": "code",
   "execution_count": 297,
   "metadata": {},
   "outputs": [
    {
     "name": "stdout",
     "output_type": "stream",
     "text": [
      "Cittadinanza {'totale'}\n",
      "Classe di età {'15 anni e più'}\n",
      "Condizione professionale {'totale'}\n",
      "Durata della disoccupazione {'totale'}\n",
      "Tipo dato {'persone in cerca di occupazione 15 anni e oltre (migliaia)'}\n",
      "Titolo di studio {'totale'}\n"
     ]
    }
   ],
   "source": [
    "unemployment = re_ordering_df(unemployment)\n",
    "drop_useless(unemployment)"
   ]
  },
  {
   "cell_type": "code",
   "execution_count": 298,
   "metadata": {},
   "outputs": [],
   "source": [
    "unemployment = filtering(unemployment, \"Territorio\", interest_territories)\n",
    "unemployment = filtering(unemployment, \"Seleziona periodo\", years)"
   ]
  },
  {
   "cell_type": "code",
   "execution_count": 299,
   "metadata": {},
   "outputs": [
    {
     "data": {
      "text/html": [
       "<div>\n",
       "<style>\n",
       "    .dataframe thead tr:only-child th {\n",
       "        text-align: right;\n",
       "    }\n",
       "\n",
       "    .dataframe thead th {\n",
       "        text-align: left;\n",
       "    }\n",
       "\n",
       "    .dataframe tbody tr th {\n",
       "        vertical-align: top;\n",
       "    }\n",
       "</style>\n",
       "<table border=\"1\" class=\"dataframe\">\n",
       "  <thead>\n",
       "    <tr style=\"text-align: right;\">\n",
       "      <th></th>\n",
       "      <th>0  Flags</th>\n",
       "      <th>Seleziona periodo</th>\n",
       "      <th>Sesso</th>\n",
       "      <th>Territorio</th>\n",
       "    </tr>\n",
       "  </thead>\n",
       "  <tbody>\n",
       "    <tr>\n",
       "      <th>0</th>\n",
       "      <td>931.836</td>\n",
       "      <td>2003</td>\n",
       "      <td>maschi</td>\n",
       "      <td>Italia</td>\n",
       "    </tr>\n",
       "    <tr>\n",
       "      <th>1</th>\n",
       "      <td>913.050</td>\n",
       "      <td>2004</td>\n",
       "      <td>maschi</td>\n",
       "      <td>Italia</td>\n",
       "    </tr>\n",
       "    <tr>\n",
       "      <th>2</th>\n",
       "      <td>894.037</td>\n",
       "      <td>2005</td>\n",
       "      <td>maschi</td>\n",
       "      <td>Italia</td>\n",
       "    </tr>\n",
       "    <tr>\n",
       "      <th>3</th>\n",
       "      <td>788.452</td>\n",
       "      <td>2006</td>\n",
       "      <td>maschi</td>\n",
       "      <td>Italia</td>\n",
       "    </tr>\n",
       "    <tr>\n",
       "      <th>4</th>\n",
       "      <td>708.225</td>\n",
       "      <td>2007</td>\n",
       "      <td>maschi</td>\n",
       "      <td>Italia</td>\n",
       "    </tr>\n",
       "  </tbody>\n",
       "</table>\n",
       "</div>"
      ],
      "text/plain": [
       "   0  Flags  Seleziona periodo   Sesso Territorio\n",
       "0   931.836               2003  maschi     Italia\n",
       "1   913.050               2004  maschi     Italia\n",
       "2   894.037               2005  maschi     Italia\n",
       "3   788.452               2006  maschi     Italia\n",
       "4   708.225               2007  maschi     Italia"
      ]
     },
     "execution_count": 299,
     "metadata": {},
     "output_type": "execute_result"
    }
   ],
   "source": [
    "unemployment.head()"
   ]
  },
  {
   "cell_type": "code",
   "execution_count": 300,
   "metadata": {
    "scrolled": true
   },
   "outputs": [],
   "source": [
    "unemployment = pivot(unemployment, \"Sesso\", \"0  Flags\")"
   ]
  },
  {
   "cell_type": "code",
   "execution_count": 301,
   "metadata": {},
   "outputs": [],
   "source": [
    "del_missing(unemployment)"
   ]
  },
  {
   "cell_type": "code",
   "execution_count": 302,
   "metadata": {},
   "outputs": [
    {
     "name": "stdout",
     "output_type": "stream",
     "text": [
      "[2017]\n",
      "['Bolzano / Bozen', 'Trento', 'Bolzano / Bozen', 'Trento', 'Isole', 'Sud']\n"
     ]
    }
   ],
   "source": [
    "check_missing_index(unemployment, years, interest_territories)"
   ]
  },
  {
   "cell_type": "code",
   "execution_count": 303,
   "metadata": {},
   "outputs": [],
   "source": [
    "check_missing(unemployment)"
   ]
  },
  {
   "cell_type": "markdown",
   "metadata": {},
   "source": [
    "### Aspects of daily life - work degree of satisfaction"
   ]
  },
  {
   "cell_type": "code",
   "execution_count": 315,
   "metadata": {},
   "outputs": [],
   "source": [
    "work_satisfaction = pd.read_table(\"/home/sara/Documents/Immigration/Data_not_git/Prov_info/Aspects of daily life (3)/DCCV_AVQ_PERSONE_Data_4955ab2a-d94b-4381-ba06-12822e7e57e9.csv\", sep = \"\\t\")"
   ]
  },
  {
   "cell_type": "code",
   "execution_count": 316,
   "metadata": {},
   "outputs": [
    {
     "name": "stdout",
     "output_type": "stream",
     "text": [
      "Classe di età {'15 anni e più'}\n",
      "Condizione e posizione nella professione {'totale'}\n",
      "Sesso {'totale'}\n",
      "Titolo di studio {'totale'}\n"
     ]
    }
   ],
   "source": [
    "work_satisfaction = re_ordering_df(work_satisfaction)\n",
    "drop_useless(work_satisfaction)\n",
    "\n",
    "work_satisfaction = filtering(work_satisfaction, \"Territorio\", interest_territories)\n",
    "work_satisfaction = filtering(work_satisfaction, \"Seleziona periodo\", years)"
   ]
  },
  {
   "cell_type": "code",
   "execution_count": 317,
   "metadata": {},
   "outputs": [
    {
     "data": {
      "text/plain": [
       "'work_satisfaction_char, work_satisfaction_thousand = divide_table(work_satisfaction, \"Misura\")\\n\\nwork_satisfaction_char = pivot(work_satisfaction_char, \"Tipo dato\", \"0  Flags\")\\nwork_satisfaction_thousand = pivot(work_satisfaction_thousand, \"Tipo dato\", \"0  Flags\")'"
      ]
     },
     "execution_count": 317,
     "metadata": {},
     "output_type": "execute_result"
    }
   ],
   "source": [
    "'''work_satisfaction_char, work_satisfaction_thousand = divide_table(work_satisfaction, \"Misura\")\n",
    "\n",
    "work_satisfaction_char = pivot(work_satisfaction_char, \"Tipo dato\", \"0  Flags\")\n",
    "work_satisfaction_thousand = pivot(work_satisfaction_thousand, \"Tipo dato\", \"0  Flags\")'''"
   ]
  },
  {
   "cell_type": "code",
   "execution_count": 318,
   "metadata": {},
   "outputs": [],
   "source": [
    "work_satisfaction = differentiate_values(work_satisfaction, \"Misura\", \"Tipo dato\")\n",
    "work_satisfaction = pivot(work_satisfaction, \"Tipo dato\", \"0  Flags\")"
   ]
  },
  {
   "cell_type": "code",
   "execution_count": 319,
   "metadata": {},
   "outputs": [],
   "source": [
    "del_missing(work_satisfaction)"
   ]
  },
  {
   "cell_type": "code",
   "execution_count": 321,
   "metadata": {},
   "outputs": [
    {
     "name": "stdout",
     "output_type": "stream",
     "text": [
      "[2004]\n"
     ]
    }
   ],
   "source": [
    "check_missing_index(work_satisfaction, years, zones+[\"Italia\"])"
   ]
  },
  {
   "cell_type": "code",
   "execution_count": 322,
   "metadata": {},
   "outputs": [],
   "source": [
    "check_missing(work_satisfaction)"
   ]
  },
  {
   "cell_type": "markdown",
   "metadata": {},
   "source": [
    "### Difficulty to reach certain services"
   ]
  },
  {
   "cell_type": "code",
   "execution_count": 330,
   "metadata": {},
   "outputs": [],
   "source": [
    "reach_services_difficulty = pd.read_table(\"/home/sara/Documents/Immigration/Data_not_git/Prov_info/Aspects of daily life - Household/DCCV_AVQ_FAMIGLIE_Data_54bd8c6f-de5a-45e8-bb89-e985841c85ac.csv\", sep = \"\\t\")"
   ]
  },
  {
   "cell_type": "code",
   "execution_count": 331,
   "metadata": {},
   "outputs": [
    {
     "name": "stdout",
     "output_type": "stream",
     "text": [
      "Numero di componenti della famiglia {'totale'}\n"
     ]
    }
   ],
   "source": [
    "reach_services_difficulty = re_ordering_df(reach_services_difficulty)\n",
    "drop_useless(reach_services_difficulty)\n",
    "\n",
    "reach_services_difficulty = filtering(reach_services_difficulty, \"Territorio\", interest_territories)\n",
    "reach_services_difficulty = filtering(reach_services_difficulty, \"Seleziona periodo\", years)"
   ]
  },
  {
   "cell_type": "code",
   "execution_count": 332,
   "metadata": {},
   "outputs": [
    {
     "data": {
      "text/plain": [
       "'reach_services_difficulty_char, reach_services_difficulty_thousand = divide_table(reach_services_difficulty, \"Misura\")\\n\\nreach_services_difficulty_char = pivot(reach_services_difficulty_char, \"Tipo dato\", \"0  Flags\")\\nreach_services_difficulty_thousand = pivot(reach_services_difficulty_thousand, \"Tipo dato\", \"0  Flags\")'"
      ]
     },
     "execution_count": 332,
     "metadata": {},
     "output_type": "execute_result"
    }
   ],
   "source": [
    "'''reach_services_difficulty_char, reach_services_difficulty_thousand = divide_table(reach_services_difficulty, \"Misura\")\n",
    "\n",
    "reach_services_difficulty_char = pivot(reach_services_difficulty_char, \"Tipo dato\", \"0  Flags\")\n",
    "reach_services_difficulty_thousand = pivot(reach_services_difficulty_thousand, \"Tipo dato\", \"0  Flags\")'''"
   ]
  },
  {
   "cell_type": "code",
   "execution_count": 333,
   "metadata": {},
   "outputs": [],
   "source": [
    "reach_services_difficulty = differentiate_values(reach_services_difficulty, \"Misura\", \"Tipo dato\")\n",
    "reach_services_difficulty = pivot(reach_services_difficulty, \"Tipo dato\", \"0  Flags\")"
   ]
  },
  {
   "cell_type": "code",
   "execution_count": 334,
   "metadata": {},
   "outputs": [],
   "source": [
    "del_missing(reach_services_difficulty)"
   ]
  },
  {
   "cell_type": "code",
   "execution_count": 336,
   "metadata": {},
   "outputs": [
    {
     "name": "stdout",
     "output_type": "stream",
     "text": [
      "[2004, 2017]\n",
      "[]\n"
     ]
    }
   ],
   "source": [
    "check_missing_index(reach_services_difficulty, years, [i for i in interest_territories if i not in provinces])"
   ]
  },
  {
   "cell_type": "code",
   "execution_count": 337,
   "metadata": {},
   "outputs": [],
   "source": [
    "check_missing(reach_services_difficulty)"
   ]
  },
  {
   "cell_type": "markdown",
   "metadata": {},
   "source": [
    "### Internal Migration - Transfer of Residence"
   ]
  },
  {
   "cell_type": "code",
   "execution_count": 361,
   "metadata": {},
   "outputs": [],
   "source": [
    "internal_migration = pd.read_table(\"/home/sara/Documents/Immigration/Data_not_git/Prov_info/Migration (Transfer of residence)/DCIS_MIGRAZIONI_Data_61410102-5b80-4f23-bbaa-58c89c5b5657.csv\")"
   ]
  },
  {
   "cell_type": "code",
   "execution_count": 362,
   "metadata": {},
   "outputs": [
    {
     "name": "stdout",
     "output_type": "stream",
     "text": [
      "Tipo di indicatore demografico {'trasferimenti di residenza'}\n",
      "Sesso {'totale'}\n",
      "Tipo di trasferimento {'tutte le voci'}\n",
      "Età {'totale'}\n",
      "Stato estero di provenienza {'Mondo'}\n",
      "Stato estero di  destinazione {'Mondo'}\n"
     ]
    }
   ],
   "source": [
    "live_births = re_ordering_df(internal_migration)\n",
    "drop_useless(internal_migration)"
   ]
  },
  {
   "cell_type": "code",
   "execution_count": 363,
   "metadata": {},
   "outputs": [],
   "source": [
    "internal_migration = filtering(internal_migration, \"Territorio di origine\", interest_territories)\n",
    "internal_migration = filtering(internal_migration, \"Seleziona periodo\", years)"
   ]
  },
  {
   "cell_type": "code",
   "execution_count": 364,
   "metadata": {},
   "outputs": [
    {
     "data": {
      "text/plain": [
       "{'Foreign country', 'Italia', 'Totale'}"
      ]
     },
     "execution_count": 364,
     "metadata": {},
     "output_type": "execute_result"
    }
   ],
   "source": [
    "set(internal_migration[\"Paese di cittadinanza\"])"
   ]
  },
  {
   "cell_type": "code",
   "execution_count": 365,
   "metadata": {},
   "outputs": [
    {
     "data": {
      "text/plain": [
       "'internal_migration_foreign, internal_migration_it, internal_migration_tot = divide_table(internal_migration, \"Paese di cittadinanza\")\\ninternal_migration_foreign = pivot(internal_migration_foreign, \"Territorio di origine\", \"0  Flags\")\\ninternal_migration_it = pivot(internal_migration_it, \"Territorio di origine\", \"0  Flags\")\\ninternal_migration_tot = pivot(internal_migration_tot, \"Territorio di origine\", \"0  Flags\")'"
      ]
     },
     "execution_count": 365,
     "metadata": {},
     "output_type": "execute_result"
    }
   ],
   "source": [
    "'''internal_migration_foreign, internal_migration_it, internal_migration_tot = divide_table(internal_migration, \"Paese di cittadinanza\")\n",
    "internal_migration_foreign = pivot(internal_migration_foreign, \"Territorio di origine\", \"0  Flags\")\n",
    "internal_migration_it = pivot(internal_migration_it, \"Territorio di origine\", \"0  Flags\")\n",
    "internal_migration_tot = pivot(internal_migration_tot, \"Territorio di origine\", \"0  Flags\")'''"
   ]
  },
  {
   "cell_type": "code",
   "execution_count": 367,
   "metadata": {},
   "outputs": [],
   "source": [
    "internal_migration = differentiate_values(internal_migration, \"Paese di cittadinanza\", \"Territorio di origine\")\n",
    "internal_migration = pivot(internal_migration, \"Territorio di origine\", \"0  Flags\")"
   ]
  },
  {
   "cell_type": "code",
   "execution_count": 368,
   "metadata": {
    "scrolled": true
   },
   "outputs": [
    {
     "name": "stdout",
     "output_type": "stream",
     "text": [
      "Asti - Foreign country\n",
      "Belluno - Foreign country\n",
      "Benevento - Foreign country\n",
      "Biella - Foreign country\n",
      "Brindisi - Foreign country\n",
      "Caltanissetta - Foreign country\n",
      "Campobasso - Foreign country\n",
      "Carbonia-Iglesias - Foreign country\n",
      "Crotone - Foreign country\n",
      "Enna - Foreign country\n",
      "Gorizia - Foreign country\n",
      "Imperia - Foreign country\n",
      "Isernia - Foreign country\n",
      "La Spezia - Foreign country\n",
      "Lodi - Foreign country\n",
      "Massa-Carrara - Foreign country\n",
      "Matera - Foreign country\n",
      "Medio Campidano - Foreign country\n",
      "Medio Campidano - Italia\n",
      "Medio Campidano - Totale\n",
      "Nuoro - Foreign country\n",
      "Ogliastra - Foreign country\n",
      "Ogliastra - Italia\n",
      "Ogliastra - Totale\n",
      "Olbia-Tempio - Foreign country\n",
      "Oristano - Foreign country\n",
      "Rieti - Foreign country\n",
      "Sassari - Foreign country\n",
      "Savona - Foreign country\n",
      "Siracusa - Foreign country\n",
      "Sondrio - Foreign country\n",
      "Trapani - Foreign country\n",
      "Trieste - Foreign country\n",
      "Valle d'Aosta / Vallée d'Aoste - Foreign country\n",
      "Verbano-Cusio-Ossola - Foreign country\n",
      "Vercelli - Foreign country\n",
      "Vibo Valentia - Foreign country\n"
     ]
    }
   ],
   "source": [
    "del_missing(internal_migration)"
   ]
  },
  {
   "cell_type": "code",
   "execution_count": 369,
   "metadata": {},
   "outputs": [
    {
     "name": "stdout",
     "output_type": "stream",
     "text": [
      "[2004, 2017]\n",
      "['Agrigento', 'Alessandria', 'Ancona', 'Arezzo', 'Ascoli Piceno', 'Asti', 'Avellino', 'Bari', 'Barletta-Andria-Trani', 'Belluno', 'Benevento', 'Bergamo', 'Biella', 'Bologna', 'Bolzano / Bozen', 'Brescia', 'Brindisi', 'Cagliari', 'Caltanissetta', 'Campobasso', 'Carbonia-Iglesias', 'Caserta', 'Catania', 'Catanzaro', 'Chieti', 'Como', 'Cosenza', 'Cremona', 'Crotone', 'Cuneo', 'Enna', 'Fermo', 'Ferrara', 'Firenze', 'Foggia', 'Forlì-Cesena', 'Frosinone', 'Genova', 'Gorizia', 'Grosseto', 'Imperia', 'Isernia', \"L'Aquila\", 'La Spezia', 'Latina', 'Lecce', 'Lecco', 'Livorno', 'Lodi', 'Lucca', 'Macerata', 'Mantova', 'Massa-Carrara', 'Matera', 'Medio Campidano', 'Messina', 'Milano', 'Modena', 'Monza e della Brianza', 'Napoli', 'Novara', 'Nuoro', 'Ogliastra', 'Olbia-Tempio', 'Oristano', 'Padova', 'Palermo', 'Parma', 'Pavia', 'Perugia', 'Pesaro e Urbino', 'Pescara', 'Piacenza', 'Pisa', 'Pistoia', 'Pordenone', 'Potenza', 'Prato', 'Ragusa', 'Ravenna', 'Reggio di Calabria', \"Reggio nell'Emilia\", 'Rieti', 'Rimini', 'Roma', 'Rovigo', 'Salerno', 'Sassari', 'Savona', 'Siena', 'Siracusa', 'Sondrio', 'Taranto', 'Teramo', 'Terni', 'Torino', 'Trapani', 'Trento', 'Treviso', 'Trieste', 'Udine', 'Varese', 'Venezia', 'Verbano-Cusio-Ossola', 'Vercelli', 'Verona', 'Vibo Valentia', 'Vicenza', 'Viterbo', 'Bolzano / Bozen', 'Trento']\n"
     ]
    }
   ],
   "source": [
    "check_missing_index(reach_services_difficulty, years, interest_territories)"
   ]
  },
  {
   "cell_type": "code",
   "execution_count": 351,
   "metadata": {},
   "outputs": [],
   "source": [
    "check_missing(reach_services_difficulty)"
   ]
  },
  {
   "cell_type": "markdown",
   "metadata": {},
   "source": [
    "### Net Income"
   ]
  },
  {
   "cell_type": "markdown",
   "metadata": {},
   "source": [
    "**Fitti imputati**: Componente figurativa di reddito derivante dalla proprietà della abitazione in cui si vive, il cui valore è stimato dallo stesso proprietario in base al prezzo che, a suo parere, sarebbe necessario pagare per vivere in affitto nella propria abitazione."
   ]
  },
  {
   "cell_type": "code",
   "execution_count": 371,
   "metadata": {},
   "outputs": [],
   "source": [
    "net_income = pd.read_table(\"/home/sara/Documents/Immigration/Data_not_git/Prov_info/Net income/DCCV_REDNETFAMFONTERED_Data_3fba0ebc-d3a1-493c-958a-facf3d07dfd7.csv\", sep = \"\\t\")"
   ]
  },
  {
   "cell_type": "code",
   "execution_count": 372,
   "metadata": {},
   "outputs": [
    {
     "name": "stdout",
     "output_type": "stream",
     "text": [
      "Classe di età del principale percettore {'totale'}\n",
      "Condizione professionale prevalente nell'anno del principale percettore {'totale'}\n",
      "Misura {'valori assoluti'}\n",
      "Numero di anziani in famiglia  {'totale'}\n",
      "Numero di componenti {'totale'}\n",
      "Numero di minori in famiglia {'totale'}\n",
      "Sesso del principale percettore  {'totale'}\n",
      "Tipologia familiare {'totale'}\n",
      "Titolo di studio del principale percettore {'totale'}\n"
     ]
    }
   ],
   "source": [
    "net_income = re_ordering_df(net_income)\n",
    "drop_useless(net_income)"
   ]
  },
  {
   "cell_type": "markdown",
   "metadata": {},
   "source": [
    "As \"Tipo dato\" it is better to keep only the \"median\" because the \"mean\" is too much sensible to the outliers. BUT! Let's keep both in different tables!"
   ]
  },
  {
   "cell_type": "code",
   "execution_count": 373,
   "metadata": {},
   "outputs": [],
   "source": [
    "#net_income = filtering(net_income, \"Tipo dato\", [\"reddito mediano annuale delle famiglie (in euro)\"])\n",
    "#del net_income[\"Tipo dato\"]\n",
    "net_income = filtering(net_income, \"Fonte principale di reddito familiare \", [\"totale\"])\n",
    "del net_income[\"Fonte principale di reddito familiare \"]\n",
    "net_income = filtering(net_income, \"Territorio\", interest_territories)\n",
    "net_income = filtering(net_income, \"Seleziona periodo\", years)\n",
    "\n",
    "net_income[\"0  Flags\"] = [int(i) for i in net_income[\"0  Flags\"]]"
   ]
  },
  {
   "cell_type": "code",
   "execution_count": 374,
   "metadata": {},
   "outputs": [
    {
     "data": {
      "text/plain": [
       "{'reddito mediano annuale delle famiglie (in euro)',\n",
       " 'reddito medio annuale delle famiglie (in euro)'}"
      ]
     },
     "execution_count": 374,
     "metadata": {},
     "output_type": "execute_result"
    }
   ],
   "source": [
    "set(net_income[\"Tipo dato\"])"
   ]
  },
  {
   "cell_type": "code",
   "execution_count": 235,
   "metadata": {},
   "outputs": [],
   "source": [
    "'''net_income_median, net_income_mean = divide_table(net_income, \"Tipo dato\")\n",
    "\n",
    "net_income_median = pivot(net_income_median, \"Presenza affitti imputati\", \"0  Flags\")\n",
    "net_income_mean = pivot(net_income_mean, \"Presenza affitti imputati\", \"0  Flags\")'''"
   ]
  },
  {
   "cell_type": "code",
   "execution_count": 376,
   "metadata": {},
   "outputs": [],
   "source": [
    "net_income = differentiate_values(net_income, \"Presenza affitti imputati\", \"Tipo dato\")"
   ]
  },
  {
   "cell_type": "code",
   "execution_count": 378,
   "metadata": {},
   "outputs": [],
   "source": [
    "net_income = pivot(net_income, \"Tipo dato\", \"0  Flags\")"
   ]
  },
  {
   "cell_type": "code",
   "execution_count": 379,
   "metadata": {},
   "outputs": [],
   "source": [
    "del_missing(net_income)"
   ]
  },
  {
   "cell_type": "code",
   "execution_count": 381,
   "metadata": {},
   "outputs": [
    {
     "name": "stdout",
     "output_type": "stream",
     "text": [
      "[2016, 2017]\n",
      "[]\n"
     ]
    }
   ],
   "source": [
    "check_missing_index(net_income, years, [i for i in interest_territories if i not in provinces])"
   ]
  },
  {
   "cell_type": "code",
   "execution_count": 382,
   "metadata": {},
   "outputs": [],
   "source": [
    "check_missing(net_income)"
   ]
  },
  {
   "cell_type": "markdown",
   "metadata": {},
   "source": [
    "Some data are not included due to the availability of data:\n",
    "- **Basic health care** only 2004-2013\n",
    "- **Expenditure for intervections and social services** only 2013-2014\n",
    "- **Expenditure for the house of families with foreign components** only at zones level in 2009\n",
    "- **Aspect of dayli life - Interpersonal Trust** only from 2010 \n",
    "- **Hospitalizations** missing 2003, 2004, 2005, 2006, 2007, 2008, 2009, 2010, 2011, 2012, 2016, 2017\n",
    "- **Aspects of daily life - general life degree of satisfaction** missing 2003, 2004, 2005, 2006, 2007, 2008, 2009"
   ]
  },
  {
   "cell_type": "markdown",
   "metadata": {},
   "source": [
    "Some data are not included due to statistical problems:\n",
    "- **Economic situation opinions (Famigie per capacità di arrivare a fine mese)**: around 10.4% of data are not statistically significant and 4.6% do not reach the half of the minimun (ISTAT definition: Il dato si definisce poco significativo nel caso in cui corrisponda ad una numerosità campionaria compresa tra 20 e 49 unità.)"
   ]
  }
 ],
 "metadata": {
  "kernelspec": {
   "display_name": "Python 3",
   "language": "python",
   "name": "python3"
  },
  "language_info": {
   "codemirror_mode": {
    "name": "ipython",
    "version": 3
   },
   "file_extension": ".py",
   "mimetype": "text/x-python",
   "name": "python",
   "nbconvert_exporter": "python",
   "pygments_lexer": "ipython3",
   "version": "3.6.3"
  }
 },
 "nbformat": 4,
 "nbformat_minor": 2
}
