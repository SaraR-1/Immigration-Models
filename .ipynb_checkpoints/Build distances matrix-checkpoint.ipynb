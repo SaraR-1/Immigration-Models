{
 "cells": [
  {
   "cell_type": "code",
   "execution_count": 1,
   "metadata": {},
   "outputs": [],
   "source": [
    "import pandas as pd\n",
    "import numpy as np\n",
    "import glob, os"
   ]
  },
  {
   "cell_type": "code",
   "execution_count": 4,
   "metadata": {},
   "outputs": [],
   "source": [
    "#os.chdir(\"/home/sara/Documents/Immigration/Shared_statistics/\")\n",
    "resident_foreigners_norm = pd.read_table(\"/home/sara/Documents/Immigration/Shared_statistics/Data_final/resident_foreigners_norm.csv\")\n",
    "\n",
    "province_capitals = sorted(list(set(resident_foreigners_norm[\"Province\"])))\n",
    "\n",
    "# Initialize an empty DataFrame for the distances-matrix\n",
    "distances = pd.DataFrame(index = province_capitals, columns=province_capitals)"
   ]
  },
  {
   "cell_type": "code",
   "execution_count": 5,
   "metadata": {},
   "outputs": [],
   "source": [
    "prov_codes = pd.read_table(\"/home/sara/Documents/Immigration/Shared_models/Data_distances/Elenco-comuni-italiani.csv\", sep= \";\", \n",
    "                           usecols = ['Codice Regione', 'Codice Città Metropolitana', \n",
    "                                      'Codice Comune formato numerico', 'Denominazione corrente'])\n",
    "\n",
    "prov_codes['Denominazione corrente'].replace(['Verbania', 'Monza', 'Forlì', 'Massa', 'Pesaro', 'Aosta', 'Bolzano', 'Sanluri', 'Tempio Pausania', 'Barletta', 'Carbonia', 'Tortolì'], ['Verbano-Cusio-Ossola', 'Monza e della Brianza', 'Forlì-Cesena', 'Massa-Carrara', 'Pesaro e Urbino', \"Valle d'Aosta / Vallée d'Aoste\", 'Bolzano / Bozen', 'Medio Campidano', 'Olbia-Tempio', 'Barletta-Andria-Trani', 'Carbonia-Iglesias', 'Ogliastra'], inplace = True)\n",
    "#prov_codes['Denominazione provincia'].replace(['Bolzano/Bozen', \"Valle d'Aosta/Vallée d'Aoste\"], ['Bolzano / Bozen', \"Valle d'Aosta / Vallée d'Aoste\"], inplace = True)"
   ]
  },
  {
   "cell_type": "code",
   "execution_count": 6,
   "metadata": {},
   "outputs": [
    {
     "data": {
      "text/html": [
       "<div>\n",
       "<style>\n",
       "    .dataframe thead tr:only-child th {\n",
       "        text-align: right;\n",
       "    }\n",
       "\n",
       "    .dataframe thead th {\n",
       "        text-align: left;\n",
       "    }\n",
       "\n",
       "    .dataframe tbody tr th {\n",
       "        vertical-align: top;\n",
       "    }\n",
       "</style>\n",
       "<table border=\"1\" class=\"dataframe\">\n",
       "  <thead>\n",
       "    <tr style=\"text-align: right;\">\n",
       "      <th></th>\n",
       "      <th>Codice Regione</th>\n",
       "      <th>Codice Città Metropolitana</th>\n",
       "      <th>Denominazione corrente</th>\n",
       "      <th>Codice Comune formato numerico</th>\n",
       "    </tr>\n",
       "  </thead>\n",
       "  <tbody>\n",
       "    <tr>\n",
       "      <th>0</th>\n",
       "      <td>1.0</td>\n",
       "      <td>201</td>\n",
       "      <td>Agliè</td>\n",
       "      <td>1001.0</td>\n",
       "    </tr>\n",
       "    <tr>\n",
       "      <th>1</th>\n",
       "      <td>1.0</td>\n",
       "      <td>201</td>\n",
       "      <td>Airasca</td>\n",
       "      <td>1002.0</td>\n",
       "    </tr>\n",
       "    <tr>\n",
       "      <th>2</th>\n",
       "      <td>1.0</td>\n",
       "      <td>201</td>\n",
       "      <td>Ala di Stura</td>\n",
       "      <td>1003.0</td>\n",
       "    </tr>\n",
       "    <tr>\n",
       "      <th>3</th>\n",
       "      <td>1.0</td>\n",
       "      <td>201</td>\n",
       "      <td>Albiano d'Ivrea</td>\n",
       "      <td>1004.0</td>\n",
       "    </tr>\n",
       "    <tr>\n",
       "      <th>4</th>\n",
       "      <td>1.0</td>\n",
       "      <td>201</td>\n",
       "      <td>Alice Superiore</td>\n",
       "      <td>1005.0</td>\n",
       "    </tr>\n",
       "  </tbody>\n",
       "</table>\n",
       "</div>"
      ],
      "text/plain": [
       "   Codice Regione Codice Città Metropolitana Denominazione corrente  \\\n",
       "0             1.0                        201                  Agliè   \n",
       "1             1.0                        201                Airasca   \n",
       "2             1.0                        201           Ala di Stura   \n",
       "3             1.0                        201        Albiano d'Ivrea   \n",
       "4             1.0                        201        Alice Superiore   \n",
       "\n",
       "   Codice Comune formato numerico  \n",
       "0                          1001.0  \n",
       "1                          1002.0  \n",
       "2                          1003.0  \n",
       "3                          1004.0  \n",
       "4                          1005.0  "
      ]
     },
     "execution_count": 6,
     "metadata": {},
     "output_type": "execute_result"
    }
   ],
   "source": [
    "prov_codes.head()"
   ]
  },
  {
   "cell_type": "code",
   "execution_count": 7,
   "metadata": {},
   "outputs": [],
   "source": [
    "prov_codes = prov_codes[prov_codes[\"Denominazione corrente\"].isin(province_capitals)]\n",
    "prov_codes.index = range(len(prov_codes))"
   ]
  },
  {
   "cell_type": "code",
   "execution_count": 8,
   "metadata": {},
   "outputs": [
    {
     "data": {
      "text/html": [
       "<div>\n",
       "<style>\n",
       "    .dataframe thead tr:only-child th {\n",
       "        text-align: right;\n",
       "    }\n",
       "\n",
       "    .dataframe thead th {\n",
       "        text-align: left;\n",
       "    }\n",
       "\n",
       "    .dataframe tbody tr th {\n",
       "        vertical-align: top;\n",
       "    }\n",
       "</style>\n",
       "<table border=\"1\" class=\"dataframe\">\n",
       "  <thead>\n",
       "    <tr style=\"text-align: right;\">\n",
       "      <th></th>\n",
       "      <th>Codice Regione</th>\n",
       "      <th>Codice Città Metropolitana</th>\n",
       "      <th>Denominazione corrente</th>\n",
       "      <th>Codice Comune formato numerico</th>\n",
       "    </tr>\n",
       "  </thead>\n",
       "  <tbody>\n",
       "    <tr>\n",
       "      <th>0</th>\n",
       "      <td>1.0</td>\n",
       "      <td>201</td>\n",
       "      <td>Torino</td>\n",
       "      <td>1272.0</td>\n",
       "    </tr>\n",
       "    <tr>\n",
       "      <th>1</th>\n",
       "      <td>1.0</td>\n",
       "      <td>-</td>\n",
       "      <td>Vercelli</td>\n",
       "      <td>2158.0</td>\n",
       "    </tr>\n",
       "    <tr>\n",
       "      <th>2</th>\n",
       "      <td>1.0</td>\n",
       "      <td>-</td>\n",
       "      <td>Novara</td>\n",
       "      <td>3106.0</td>\n",
       "    </tr>\n",
       "    <tr>\n",
       "      <th>3</th>\n",
       "      <td>1.0</td>\n",
       "      <td>-</td>\n",
       "      <td>Cuneo</td>\n",
       "      <td>4078.0</td>\n",
       "    </tr>\n",
       "    <tr>\n",
       "      <th>4</th>\n",
       "      <td>1.0</td>\n",
       "      <td>-</td>\n",
       "      <td>Asti</td>\n",
       "      <td>5005.0</td>\n",
       "    </tr>\n",
       "  </tbody>\n",
       "</table>\n",
       "</div>"
      ],
      "text/plain": [
       "   Codice Regione Codice Città Metropolitana Denominazione corrente  \\\n",
       "0             1.0                        201                 Torino   \n",
       "1             1.0                          -               Vercelli   \n",
       "2             1.0                          -                 Novara   \n",
       "3             1.0                          -                  Cuneo   \n",
       "4             1.0                          -                   Asti   \n",
       "\n",
       "   Codice Comune formato numerico  \n",
       "0                          1272.0  \n",
       "1                          2158.0  \n",
       "2                          3106.0  \n",
       "3                          4078.0  \n",
       "4                          5005.0  "
      ]
     },
     "execution_count": 8,
     "metadata": {},
     "output_type": "execute_result"
    }
   ],
   "source": [
    "prov_codes.head()"
   ]
  },
  {
   "cell_type": "code",
   "execution_count": 9,
   "metadata": {},
   "outputs": [],
   "source": [
    "all_codes = prov_codes[\"Codice Comune formato numerico\"].values"
   ]
  },
  {
   "cell_type": "code",
   "execution_count": 10,
   "metadata": {},
   "outputs": [],
   "source": [
    "name_codes_corr = prov_codes.set_index('Codice Comune formato numerico')['Denominazione corrente'].to_dict()"
   ]
  },
  {
   "cell_type": "code",
   "execution_count": 14,
   "metadata": {},
   "outputs": [
    {
     "name": "stdout",
     "output_type": "stream",
     "text": [
      "Abruzzo.txt\n",
      "Basilicata.txt\n",
      "Calabria.txt\n",
      "Campania.txt\n",
      "Emilia.txt\n",
      "Friuli.txt\n",
      "Lazio.txt\n",
      "Liguria.txt\n",
      "Lombardia.txt\n",
      "Marche.txt\n",
      "Molise.txt\n",
      "Piemonte.txt\n",
      "Puglia.txt\n",
      "Sardegna.txt\n",
      "Sicilia.txt\n",
      "Toscana.txt\n",
      "Trentino.txt\n",
      "Umbria.txt\n",
      "ValledAosta.txt\n",
      "Veneto.txt\n"
     ]
    }
   ],
   "source": [
    "all_distances = {}\n",
    "os.chdir(\"/home/sara/Documents/Immigration/Shared_models/Data_distances/Regions\")\n",
    "for file in glob.glob(\"*.txt\"):\n",
    "    print(file)"
   ]
  },
  {
   "cell_type": "code",
   "execution_count": 15,
   "metadata": {},
   "outputs": [
    {
     "name": "stdout",
     "output_type": "stream",
     "text": [
      "Dist_porti.xls\n"
     ]
    }
   ],
   "source": [
    "for file in glob.glob(\"*.xls\"):\n",
    "    print(file)"
   ]
  },
  {
   "cell_type": "code",
   "execution_count": 16,
   "metadata": {},
   "outputs": [],
   "source": [
    "a = pd.read_table(\"Abruzzo.txt\", sep = \";\", usecols = [\"origine\", \"Destinazione\", \"Total_Mete\"])\n",
    "a.rename(columns={'origine': 'Origin', 'Destinazione': 'Destination', 'Total_Mete': 'Distance'}, inplace=True)\n",
    "\n",
    "for c in a.columns:\n",
    "    a[c] = a[c].str.replace(\",\", \".\")\n",
    "    a[c] = a[c].astype(float)\n",
    "    \n",
    "a = a[(a[\"Origin\"].isin(all_codes)) & (a[\"Destination\"].isin(all_codes))]\n",
    "a = a.replace(name_codes_corr)\n",
    "\n",
    "a = a.pivot(index='Origin', columns='Destination', values='Distance')"
   ]
  },
  {
   "cell_type": "code",
   "execution_count": 19,
   "metadata": {},
   "outputs": [],
   "source": [
    "try:\n",
    "    b = pd.read_table(\"Basilicata.txt\", sep = \";\", usecols = [\"Origine\", \"Destinazione\", \"Total_Mete\"])\n",
    "    b.rename(columns={'Origine': 'Origin', 'Destinazione': 'Destination', 'Total_Mete': 'Distance'}, inplace=True)\n",
    "except ValueError:\n",
    "    b = pd.read_table(\"Basilicata.txt\", sep = \";\", usecols = [\"origine\", \"Destinazione\", \"Total_Mete\"])\n",
    "    b.rename(columns={'origine': 'Origin', 'Destinazione': 'Destination', 'Total_Mete': 'Distance'}, inplace=True)\n",
    "    \n",
    "\n",
    "\n",
    "for c in b.columns:\n",
    "    b[c] = b[c].str.replace(\",\", \".\")\n",
    "    b[c] = b[c].astype(float)\n",
    "    \n",
    "b = b[(b[\"Origin\"].isin(all_codes)) & (b[\"Destination\"].isin(all_codes))]\n",
    "b = b.replace(name_codes_corr)\n",
    "\n",
    "b = b.pivot(index='Origin', columns='Destination', values='Distance')"
   ]
  },
  {
   "cell_type": "code",
   "execution_count": 23,
   "metadata": {},
   "outputs": [],
   "source": [
    "c = pd.concat([a, b], axis=1)"
   ]
  },
  {
   "cell_type": "code",
   "execution_count": null,
   "metadata": {},
   "outputs": [],
   "source": []
  }
 ],
 "metadata": {
  "kernelspec": {
   "display_name": "Python 3",
   "language": "python",
   "name": "python3"
  },
  "language_info": {
   "codemirror_mode": {
    "name": "ipython",
    "version": 3
   },
   "file_extension": ".py",
   "mimetype": "text/x-python",
   "name": "python",
   "nbconvert_exporter": "python",
   "pygments_lexer": "ipython3",
   "version": "3.6.3"
  }
 },
 "nbformat": 4,
 "nbformat_minor": 2
}
